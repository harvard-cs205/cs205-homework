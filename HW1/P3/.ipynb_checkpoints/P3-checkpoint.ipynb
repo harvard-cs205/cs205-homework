{
 "cells": [
  {
   "cell_type": "code",
   "execution_count": 3,
   "metadata": {
    "collapsed": false
   },
   "outputs": [
    {
     "data": {
      "text/plain": [
       "<pyspark.context.SparkContext at 0x104f94e90>"
      ]
     },
     "execution_count": 3,
     "metadata": {},
     "output_type": "execute_result"
    }
   ],
   "source": [
    "import findspark\n",
    "findspark.init()"
   ]
  },
  {
   "cell_type": "code",
   "execution_count": 14,
   "metadata": {
    "collapsed": false
   },
   "outputs": [],
   "source": [
    "all_words=sc.textFile('* Words.csv')\n",
    "sorted_words=all_words.map(lambda x: (''.join(sorted(x)),x))\n",
    "anagrams=sorted_words.groupByKey().map(lambda x:(x[0],len(x[1]),list(x[1])))"
   ]
  },
  {
   "cell_type": "code",
   "execution_count": 51,
   "metadata": {
    "collapsed": false
   },
   "outputs": [
    {
     "data": {
      "text/plain": [
       "[(u'aelst',\n",
       "  11,\n",
       "  [u'least',\n",
       "   u'leats',\n",
       "   u'salet',\n",
       "   u'slate',\n",
       "   u'stale',\n",
       "   u'steal',\n",
       "   u'stela',\n",
       "   u'taels',\n",
       "   u'tales',\n",
       "   u'teals',\n",
       "   u'tesla']),\n",
       " (u'aerst',\n",
       "  11,\n",
       "  [u'arets',\n",
       "   u'aster',\n",
       "   u'rates',\n",
       "   u'reast',\n",
       "   u'resat',\n",
       "   u'stare',\n",
       "   u'stear',\n",
       "   u'strae',\n",
       "   u'tares',\n",
       "   u'tears',\n",
       "   u'teras']),\n",
       " (u'aeprs',\n",
       "  11,\n",
       "  [u'asper',\n",
       "   u'pares',\n",
       "   u'parse',\n",
       "   u'pears',\n",
       "   u'prase',\n",
       "   u'presa',\n",
       "   u'rapes',\n",
       "   u'reaps',\n",
       "   u'spaer',\n",
       "   u'spare',\n",
       "   u'spear'])]"
      ]
     },
     "execution_count": 51,
     "metadata": {},
     "output_type": "execute_result"
    }
   ],
   "source": [
    "anagrams.takeOrdered(3,lambda x:-x[1])"
   ]
  },
  {
   "cell_type": "code",
   "execution_count": null,
   "metadata": {
    "collapsed": true
   },
   "outputs": [],
   "source": []
  }
 ],
 "metadata": {
  "kernelspec": {
   "display_name": "Python 2",
   "language": "python",
   "name": "python2"
  },
  "language_info": {
   "codemirror_mode": {
    "name": "ipython",
    "version": 2
   },
   "file_extension": ".py",
   "mimetype": "text/x-python",
   "name": "python",
   "nbconvert_exporter": "python",
   "pygments_lexer": "ipython2",
   "version": "2.7.10"
  }
 },
 "nbformat": 4,
 "nbformat_minor": 0
}
