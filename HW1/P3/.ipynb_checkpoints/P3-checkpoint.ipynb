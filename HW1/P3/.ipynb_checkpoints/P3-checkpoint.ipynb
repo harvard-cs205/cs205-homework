{
 "cells": [
  {
   "cell_type": "code",
   "execution_count": 1,
   "metadata": {
    "collapsed": false
   },
   "outputs": [],
   "source": [
    "import numpy as np\n",
    "\n",
    "import findspark\n",
    "findspark.init()\n",
    "\n",
    "import pyspark\n",
    "sc = pyspark.SparkContext(appName=\"P3\")"
   ]
  },
  {
   "cell_type": "code",
   "execution_count": 9,
   "metadata": {
    "collapsed": false
   },
   "outputs": [],
   "source": [
    "words_list = sc.textFile(\"words\")"
   ]
  },
  {
   "cell_type": "code",
   "execution_count": 10,
   "metadata": {
    "collapsed": false
   },
   "outputs": [
    {
     "data": {
      "text/plain": [
       "[u'aa',\n",
       " u'aah',\n",
       " u'aal',\n",
       " u'aalii',\n",
       " u'aardvark',\n",
       " u'aardvarks',\n",
       " u'aardwolf',\n",
       " u'aardwolves',\n",
       " u'aargh',\n",
       " u'aarrghh',\n",
       " u'aasvogel',\n",
       " u'aasvogels',\n",
       " u'ab',\n",
       " u'aba',\n",
       " u'abaca',\n",
       " u'abacas',\n",
       " u'abaci',\n",
       " u'aback',\n",
       " u'abacus',\n",
       " u'abacuses',\n",
       " u'abaft',\n",
       " u'abalone',\n",
       " u'abalones',\n",
       " u'abampere',\n",
       " u'abamperes',\n",
       " u'abandon',\n",
       " u'abandoned',\n",
       " u'abandonee',\n",
       " u'abandoning',\n",
       " u'abandons',\n",
       " u'abase',\n",
       " u'abased',\n",
       " u'abasement',\n",
       " u'abases',\n",
       " u'abash',\n",
       " u'abashed',\n",
       " u'abashes',\n",
       " u'abashing',\n",
       " u'abashment',\n",
       " u'abashments',\n",
       " u'abasing',\n",
       " u'abatable',\n",
       " u'abate',\n",
       " u'abated',\n",
       " u'abatement',\n",
       " u'abatements',\n",
       " u'abates',\n",
       " u'abating',\n",
       " u'abatis',\n",
       " u'abator',\n",
       " u'abators',\n",
       " u'abattis',\n",
       " u'abattises',\n",
       " u'abattoir',\n",
       " u'abattoirs',\n",
       " u'abaxial',\n",
       " u'abba',\n",
       " u'abbacies',\n",
       " u'abbacy',\n",
       " u'abbas',\n",
       " u'abbatial',\n",
       " u'abbe',\n",
       " u'abbes',\n",
       " u'abbess',\n",
       " u'abbesses',\n",
       " u'abbey',\n",
       " u'abbeys',\n",
       " u'abbot',\n",
       " u'abbotcy',\n",
       " u'abbots',\n",
       " u'abbreviate',\n",
       " u'abdicate',\n",
       " u'abdicated',\n",
       " u'abdicates',\n",
       " u'abdicating',\n",
       " u'abdication',\n",
       " u'abdicator',\n",
       " u'abdicators',\n",
       " u'abdomen',\n",
       " u'abdomens',\n",
       " u'abdominal',\n",
       " u'abdominals',\n",
       " u'abduce',\n",
       " u'abduced',\n",
       " u'abduces',\n",
       " u'abducing',\n",
       " u'abduct',\n",
       " u'abducted',\n",
       " u'abductee',\n",
       " u'abductees',\n",
       " u'abducting',\n",
       " u'abduction',\n",
       " u'abductions',\n",
       " u'abductor',\n",
       " u'abductors',\n",
       " u'abducts',\n",
       " u'abeam',\n",
       " u'abear',\n",
       " u'abearing',\n",
       " u'abears']"
      ]
     },
     "execution_count": 10,
     "metadata": {},
     "output_type": "execute_result"
    }
   ],
   "source": [
    "words_list.take(100)"
   ]
  },
  {
   "cell_type": "code",
   "execution_count": 11,
   "metadata": {
    "collapsed": false
   },
   "outputs": [
    {
     "data": {
      "text/plain": [
       "['a', 'b', 'c']"
      ]
     },
     "execution_count": 11,
     "metadata": {},
     "output_type": "execute_result"
    }
   ],
   "source": [
    "sorted(\"bac\")"
   ]
  },
  {
   "cell_type": "code",
   "execution_count": 26,
   "metadata": {
    "collapsed": true
   },
   "outputs": [],
   "source": [
    "sorted_words = words_list.map(lambda x: (''.join(sorted(x)), (1, [x])))"
   ]
  },
  {
   "cell_type": "code",
   "execution_count": 27,
   "metadata": {
    "collapsed": false
   },
   "outputs": [
    {
     "data": {
      "text/plain": [
       "[(u'aa', (1, [u'aa'])),\n",
       " (u'aah', (1, [u'aah'])),\n",
       " (u'aal', (1, [u'aal'])),\n",
       " (u'aaiil', (1, [u'aalii'])),\n",
       " (u'aaadkrrv', (1, [u'aardvark'])),\n",
       " (u'aaadkrrsv', (1, [u'aardvarks'])),\n",
       " (u'aadflorw', (1, [u'aardwolf'])),\n",
       " (u'aadelorsvw', (1, [u'aardwolves'])),\n",
       " (u'aaghr', (1, [u'aargh'])),\n",
       " (u'aaghhrr', (1, [u'aarrghh']))]"
      ]
     },
     "execution_count": 27,
     "metadata": {},
     "output_type": "execute_result"
    }
   ],
   "source": [
    "sorted_words.take(10)"
   ]
  },
  {
   "cell_type": "code",
   "execution_count": 28,
   "metadata": {
    "collapsed": true
   },
   "outputs": [],
   "source": [
    "output = sorted_words.reduceByKey(lambda a,b: (a[0] + b[0], a[1] + b[1]))"
   ]
  },
  {
   "cell_type": "code",
   "execution_count": 29,
   "metadata": {
    "collapsed": false
   },
   "outputs": [
    {
     "data": {
      "text/plain": [
       "[(u'aacikrtu', (1, [u'autarkic'])),\n",
       " (u'elvy', (1, [u'levy'])),\n",
       " (u'agghilswy', (1, [u'waggishly'])),\n",
       " (u'abegmnoss', (1, [u'gambesons'])),\n",
       " (u'adehkw', (1, [u'hawked'])),\n",
       " (u'abeiilpt', (1, [u'pitiable'])),\n",
       " (u'aacdeps', (1, [u'scapaed'])),\n",
       " (u'eeelmsst', (1, [u'teemless'])),\n",
       " (u'abeelrstu', (1, [u'bateleurs'])),\n",
       " (u'defims', (1, [u'misfed']))]"
      ]
     },
     "execution_count": 29,
     "metadata": {},
     "output_type": "execute_result"
    }
   ],
   "source": [
    "output.take(10)"
   ]
  },
  {
   "cell_type": "code",
   "execution_count": 31,
   "metadata": {
    "collapsed": false
   },
   "outputs": [
    {
     "data": {
      "text/plain": [
       "[(u'aelst',\n",
       "  (11,\n",
       "   [u'least',\n",
       "    u'leats',\n",
       "    u'salet',\n",
       "    u'slate',\n",
       "    u'stale',\n",
       "    u'steal',\n",
       "    u'stela',\n",
       "    u'taels',\n",
       "    u'tales',\n",
       "    u'teals',\n",
       "    u'tesla'])),\n",
       " (u'aerst',\n",
       "  (11,\n",
       "   [u'arets',\n",
       "    u'aster',\n",
       "    u'rates',\n",
       "    u'reast',\n",
       "    u'resat',\n",
       "    u'stare',\n",
       "    u'stear',\n",
       "    u'strae',\n",
       "    u'tares',\n",
       "    u'tears',\n",
       "    u'teras'])),\n",
       " (u'aeprs',\n",
       "  (11,\n",
       "   [u'asper',\n",
       "    u'pares',\n",
       "    u'parse',\n",
       "    u'pears',\n",
       "    u'prase',\n",
       "    u'presa',\n",
       "    u'rapes',\n",
       "    u'reaps',\n",
       "    u'spaer',\n",
       "    u'spare',\n",
       "    u'spear'])),\n",
       " (u'aelrst',\n",
       "  (10,\n",
       "   [u'alerts',\n",
       "    u'alters',\n",
       "    u'artels',\n",
       "    u'laster',\n",
       "    u'ratels',\n",
       "    u'salter',\n",
       "    u'slater',\n",
       "    u'staler',\n",
       "    u'stelar',\n",
       "    u'talers'])),\n",
       " (u'aelpst',\n",
       "  (10,\n",
       "   [u'palest',\n",
       "    u'palets',\n",
       "    u'pastel',\n",
       "    u'peltas',\n",
       "    u'petals',\n",
       "    u'plaste',\n",
       "    u'plates',\n",
       "    u'pleats',\n",
       "    u'septal',\n",
       "    u'staple'])),\n",
       " (u'aelps',\n",
       "  (9,\n",
       "   [u'lapse',\n",
       "    u'leaps',\n",
       "    u'pales',\n",
       "    u'peals',\n",
       "    u'pleas',\n",
       "    u'salep',\n",
       "    u'sepal',\n",
       "    u'spale',\n",
       "    u'speal'])),\n",
       " (u'aeinrst',\n",
       "  (9,\n",
       "   [u'nastier',\n",
       "    u'ratines',\n",
       "    u'resiant',\n",
       "    u'retains',\n",
       "    u'retinas',\n",
       "    u'retsina',\n",
       "    u'stainer',\n",
       "    u'starnie',\n",
       "    u'stearin'])),\n",
       " (u'eerst',\n",
       "  (9,\n",
       "   [u'ester',\n",
       "    u'reest',\n",
       "    u'reset',\n",
       "    u'retes',\n",
       "    u'steer',\n",
       "    u'stere',\n",
       "    u'teers',\n",
       "    u'terse',\n",
       "    u'trees'])),\n",
       " (u'aceprs',\n",
       "  (8,\n",
       "   [u'capers',\n",
       "    u'crapes',\n",
       "    u'escarp',\n",
       "    u'pacers',\n",
       "    u'parsec',\n",
       "    u'recaps',\n",
       "    u'scrape',\n",
       "    u'spacer'])),\n",
       " (u'abest',\n",
       "  (8,\n",
       "   [u'abets',\n",
       "    u'baste',\n",
       "    u'bates',\n",
       "    u'beast',\n",
       "    u'beats',\n",
       "    u'besat',\n",
       "    u'betas',\n",
       "    u'tabes']))]"
      ]
     },
     "execution_count": 31,
     "metadata": {},
     "output_type": "execute_result"
    }
   ],
   "source": [
    "output.takeOrdered(10, key=lambda x: -x[1][0])"
   ]
  },
  {
   "cell_type": "code",
   "execution_count": null,
   "metadata": {
    "collapsed": true
   },
   "outputs": [],
   "source": []
  }
 ],
 "metadata": {
  "kernelspec": {
   "display_name": "Python 2",
   "language": "python",
   "name": "python2"
  },
  "language_info": {
   "codemirror_mode": {
    "name": "ipython",
    "version": 2
   },
   "file_extension": ".py",
   "mimetype": "text/x-python",
   "name": "python",
   "nbconvert_exporter": "python",
   "pygments_lexer": "ipython2",
   "version": "2.7.10"
  }
 },
 "nbformat": 4,
 "nbformat_minor": 0
}
