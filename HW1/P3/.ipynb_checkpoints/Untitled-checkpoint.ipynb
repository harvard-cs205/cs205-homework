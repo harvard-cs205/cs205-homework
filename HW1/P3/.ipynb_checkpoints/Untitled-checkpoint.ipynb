{
 "cells": [
  {
   "cell_type": "code",
   "execution_count": 1,
   "metadata": {
    "collapsed": false
   },
   "outputs": [],
   "source": [
    "import findspark\n",
    "findspark.init()\n",
    "import pyspark\n",
    "sc = pyspark.SparkContext(appName=\"Spark1\")"
   ]
  },
  {
   "cell_type": "code",
   "execution_count": 40,
   "metadata": {
    "collapsed": false
   },
   "outputs": [],
   "source": [
    "wlist = sc.textFile('EOWL_words.txt')\n",
    "broadcastVar = sc.broadcast(wlist.collect())"
   ]
  },
  {
   "cell_type": "code",
   "execution_count": 70,
   "metadata": {
    "collapsed": true
   },
   "outputs": [],
   "source": [
    "def map_func(x):\n",
    "    word_list = []\n",
    "    word_list.append(''.join(sorted(x)))\n",
    "    word_list.append(1)\n",
    "    word_list.append([[x]])\n",
    "    return word_list"
   ]
  },
  {
   "cell_type": "code",
   "execution_count": 78,
   "metadata": {
    "collapsed": false
   },
   "outputs": [
    {
     "data": {
      "text/plain": [
       "[[u'AEFLS', 1, [[u'FALSE']]],\n",
       " [u'ERTU', 1, [[u'TRUE']]],\n",
       " [u'Eabcehu', 1, [[u'Ebauche']]],\n",
       " [u'Eaepst', 1, [[u'Etapes']]],\n",
       " [u'Eaept', 1, [[u'Etape']]],\n",
       " [u'Eeelnv', 1, [[u'enlevE']]],\n",
       " [u'Eeenrst', 1, [[u'entrEes']]],\n",
       " [u'Eeenrt', 1, [[u'entrEe']]],\n",
       " [u'Eennuy', 1, [[u'ennuyE']]],\n",
       " [u'aa', 1, [[u'aa']]]]"
      ]
     },
     "execution_count": 78,
     "metadata": {},
     "output_type": "execute_result"
    }
   ],
   "source": [
    "wlist1 = wlist.map(map_func)\n",
    "wlist2 = wlist1.map(fin_anagram)\n",
    "\n",
    "wlist3 = wlist1.sortBy(lambda x: x[0])\n",
    "a = wlist3.take(10)\n",
    "a"
   ]
  },
  {
   "cell_type": "code",
   "execution_count": 74,
   "metadata": {
    "collapsed": false
   },
   "outputs": [],
   "source": [
    "def fin_anagram(a):\n",
    "    i=0\n",
    "    j = 0\n",
    "    b=[]\n",
    "    world_count = 1\n",
    "    wor_li=[]\n",
    "    for i in range(len(a)-1):\n",
    "        if a[i][0]==a[i+1][0]:\n",
    "            world_count+=1\n",
    "            wor_li.append(a[i][2][0])\n",
    "            #print i\n",
    "            continue\n",
    "        else:\n",
    "            if world_count==1:\n",
    "                continue\n",
    "            else:\n",
    "                wor_li.append(a[i][2][0])\n",
    "                b.append((a[i][0],world_count,wor_li))\n",
    "                world_count=1\n",
    "                wor_li=[]\n"
   ]
  },
  {
   "cell_type": "code",
   "execution_count": 147,
   "metadata": {
    "collapsed": false
   },
   "outputs": [
    {
     "data": {
      "text/plain": [
       "[(u'aerst',\n",
       "  11,\n",
       "  [[u'arets'],\n",
       "   [u'aster'],\n",
       "   [u'rates'],\n",
       "   [u'reast'],\n",
       "   [u'resat'],\n",
       "   [u'stare'],\n",
       "   [u'stear'],\n",
       "   [u'strae'],\n",
       "   [u'tares'],\n",
       "   [u'tears'],\n",
       "   [u'teras']]),\n",
       " (u'aelst',\n",
       "  11,\n",
       "  [[u'least'],\n",
       "   [u'leats'],\n",
       "   [u'salet'],\n",
       "   [u'slate'],\n",
       "   [u'stale'],\n",
       "   [u'steal'],\n",
       "   [u'stela'],\n",
       "   [u'taels'],\n",
       "   [u'tales'],\n",
       "   [u'teals'],\n",
       "   [u'tesla']]),\n",
       " (u'aeprs',\n",
       "  11,\n",
       "  [[u'asper'],\n",
       "   [u'pares'],\n",
       "   [u'parse'],\n",
       "   [u'pears'],\n",
       "   [u'prase'],\n",
       "   [u'presa'],\n",
       "   [u'rapes'],\n",
       "   [u'reaps'],\n",
       "   [u'spaer'],\n",
       "   [u'spare'],\n",
       "   [u'spear']]),\n",
       " (u'aelrst',\n",
       "  10,\n",
       "  [[u'alerts'],\n",
       "   [u'alters'],\n",
       "   [u'artels'],\n",
       "   [u'laster'],\n",
       "   [u'ratels'],\n",
       "   [u'salter'],\n",
       "   [u'slater'],\n",
       "   [u'staler'],\n",
       "   [u'stelar'],\n",
       "   [u'talers']]),\n",
       " (u'aelpst',\n",
       "  10,\n",
       "  [[u'palest'],\n",
       "   [u'palets'],\n",
       "   [u'pastel'],\n",
       "   [u'peltas'],\n",
       "   [u'petals'],\n",
       "   [u'plaste'],\n",
       "   [u'plates'],\n",
       "   [u'pleats'],\n",
       "   [u'septal'],\n",
       "   [u'staple']])]"
      ]
     },
     "execution_count": 147,
     "metadata": {},
     "output_type": "execute_result"
    }
   ],
   "source": [
    "pair_words = wlist.map(lambda x: (''.join(sorted(x)), [x]))\n",
    "pair_key_words = pair_words.groupByKey()\n",
    "def my_fun(a):\n",
    "    b=[]\n",
    "    for i in a[1]:\n",
    "        b.append(i)\n",
    "    return (a[0],len(a[1]),b)\n",
    "formated = pair_key_words.map(my_fun)\n",
    "answer = formated.sortBy(lambda x:-x[1])\n",
    "answer.take(5)"
   ]
  },
  {
   "cell_type": "code",
   "execution_count": 149,
   "metadata": {
    "collapsed": false
   },
   "outputs": [
    {
     "data": {
      "text/plain": [
       "[(u'aerst',\n",
       "  11,\n",
       "  [u'reast',\n",
       "   u'stare',\n",
       "   u'stear',\n",
       "   u'tares',\n",
       "   u'resat',\n",
       "   u'aster',\n",
       "   u'teras',\n",
       "   u'tears',\n",
       "   u'arets',\n",
       "   u'rates',\n",
       "   u'strae']),\n",
       " (u'aelst',\n",
       "  11,\n",
       "  [u'leats',\n",
       "   u'teals',\n",
       "   u'tesla',\n",
       "   u'slate',\n",
       "   u'stale',\n",
       "   u'least',\n",
       "   u'salet',\n",
       "   u'taels',\n",
       "   u'stela',\n",
       "   u'steal',\n",
       "   u'tales']),\n",
       " (u'aeprs',\n",
       "  11,\n",
       "  [u'pares',\n",
       "   u'spear',\n",
       "   u'presa',\n",
       "   u'pears',\n",
       "   u'parse',\n",
       "   u'rapes',\n",
       "   u'prase',\n",
       "   u'spare',\n",
       "   u'spaer',\n",
       "   u'asper',\n",
       "   u'reaps']),\n",
       " (u'aelrst',\n",
       "  10,\n",
       "  [u'artels',\n",
       "   u'ratels',\n",
       "   u'stelar',\n",
       "   u'alerts',\n",
       "   u'salter',\n",
       "   u'staler',\n",
       "   u'slater',\n",
       "   u'laster',\n",
       "   u'alters',\n",
       "   u'talers']),\n",
       " (u'aelpst',\n",
       "  10,\n",
       "  [u'palets',\n",
       "   u'palest',\n",
       "   u'pastel',\n",
       "   u'peltas',\n",
       "   u'septal',\n",
       "   u'pleats',\n",
       "   u'petals',\n",
       "   u'plaste',\n",
       "   u'plates',\n",
       "   u'staple'])]"
      ]
     },
     "execution_count": 149,
     "metadata": {},
     "output_type": "execute_result"
    }
   ],
   "source": [
    "formated_reduce = (((wlist.map(lambda x: (''.join(sorted(x)), [x]))).reduceByKey(lambda a,b:list(set(a+b)))).map(lambda (x,y): (x,len(y),y))\n",
    "ans_reduce = (((wlist.map(lambda x: (''.join(sorted(x)), [x]))).reduceByKey(lambda a,b:list(set(a+b)))).map(lambda (x,y): (x,len(y),y))\n",
    ".sortBy(lambda x:-x[1])\n",
    "ans_reduce.take(5)"
   ]
  },
  {
   "cell_type": "code",
   "execution_count": 316,
   "metadata": {
    "collapsed": false
   },
   "outputs": [],
   "source": []
  },
  {
   "cell_type": "code",
   "execution_count": 33,
   "metadata": {
    "collapsed": false
   },
   "outputs": [
    {
     "name": "stdout",
     "output_type": "stream",
     "text": [
      "['a', 'd', 'f', 's']\n"
     ]
    }
   ],
   "source": [
    "isAnagram('asdf','fdas')"
   ]
  },
  {
   "cell_type": "code",
   "execution_count": null,
   "metadata": {
    "collapsed": true
   },
   "outputs": [],
   "source": []
  }
 ],
 "metadata": {
  "kernelspec": {
   "display_name": "Python 2",
   "language": "python",
   "name": "python2"
  },
  "language_info": {
   "codemirror_mode": {
    "name": "ipython",
    "version": 2
   },
   "file_extension": ".py",
   "mimetype": "text/x-python",
   "name": "python",
   "nbconvert_exporter": "python",
   "pygments_lexer": "ipython2",
   "version": "2.7.10"
  }
 },
 "nbformat": 4,
 "nbformat_minor": 0
}
