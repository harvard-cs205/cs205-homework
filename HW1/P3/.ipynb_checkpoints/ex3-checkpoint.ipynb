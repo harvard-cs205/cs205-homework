{
 "cells": [
  {
   "cell_type": "code",
   "execution_count": 5,
   "metadata": {
    "collapsed": false
   },
   "outputs": [
    {
     "ename": "ValueError",
     "evalue": "Cannot run multiple SparkContexts at once; existing SparkContext(app=pyspark-shell, master=local[*]) created by __init__ at <ipython-input-2-9ae08bd5f0d9>:8 ",
     "output_type": "error",
     "traceback": [
      "\u001b[0;31m---------------------------------------------------------------------------\u001b[0m",
      "\u001b[0;31mValueError\u001b[0m                                Traceback (most recent call last)",
      "\u001b[0;32m<ipython-input-5-9ae08bd5f0d9>\u001b[0m in \u001b[0;36m<module>\u001b[0;34m()\u001b[0m\n\u001b[1;32m      6\u001b[0m \u001b[0;34m\u001b[0m\u001b[0m\n\u001b[1;32m      7\u001b[0m \u001b[0;32mimport\u001b[0m \u001b[0mpyspark\u001b[0m\u001b[0;34m\u001b[0m\u001b[0m\n\u001b[0;32m----> 8\u001b[0;31m \u001b[0msc\u001b[0m \u001b[0;34m=\u001b[0m \u001b[0mpyspark\u001b[0m\u001b[0;34m.\u001b[0m\u001b[0mSparkContext\u001b[0m\u001b[0;34m(\u001b[0m\u001b[0;34m)\u001b[0m\u001b[0;34m\u001b[0m\u001b[0m\n\u001b[0m",
      "\u001b[0;32m/usr/local/opt/apache-spark/libexec/python/pyspark/context.pyc\u001b[0m in \u001b[0;36m__init__\u001b[0;34m(self, master, appName, sparkHome, pyFiles, environment, batchSize, serializer, conf, gateway, jsc, profiler_cls)\u001b[0m\n\u001b[1;32m    108\u001b[0m         \"\"\"\n\u001b[1;32m    109\u001b[0m         \u001b[0mself\u001b[0m\u001b[0;34m.\u001b[0m\u001b[0m_callsite\u001b[0m \u001b[0;34m=\u001b[0m \u001b[0mfirst_spark_call\u001b[0m\u001b[0;34m(\u001b[0m\u001b[0;34m)\u001b[0m \u001b[0;32mor\u001b[0m \u001b[0mCallSite\u001b[0m\u001b[0;34m(\u001b[0m\u001b[0mNone\u001b[0m\u001b[0;34m,\u001b[0m \u001b[0mNone\u001b[0m\u001b[0;34m,\u001b[0m \u001b[0mNone\u001b[0m\u001b[0;34m)\u001b[0m\u001b[0;34m\u001b[0m\u001b[0m\n\u001b[0;32m--> 110\u001b[0;31m         \u001b[0mSparkContext\u001b[0m\u001b[0;34m.\u001b[0m\u001b[0m_ensure_initialized\u001b[0m\u001b[0;34m(\u001b[0m\u001b[0mself\u001b[0m\u001b[0;34m,\u001b[0m \u001b[0mgateway\u001b[0m\u001b[0;34m=\u001b[0m\u001b[0mgateway\u001b[0m\u001b[0;34m)\u001b[0m\u001b[0;34m\u001b[0m\u001b[0m\n\u001b[0m\u001b[1;32m    111\u001b[0m         \u001b[0;32mtry\u001b[0m\u001b[0;34m:\u001b[0m\u001b[0;34m\u001b[0m\u001b[0m\n\u001b[1;32m    112\u001b[0m             self._do_init(master, appName, sparkHome, pyFiles, environment, batchSize, serializer,\n",
      "\u001b[0;32m/usr/local/opt/apache-spark/libexec/python/pyspark/context.pyc\u001b[0m in \u001b[0;36m_ensure_initialized\u001b[0;34m(cls, instance, gateway)\u001b[0m\n\u001b[1;32m    248\u001b[0m                         \u001b[0;34m\" created by %s at %s:%s \"\u001b[0m\u001b[0;34m\u001b[0m\u001b[0m\n\u001b[1;32m    249\u001b[0m                         % (currentAppName, currentMaster,\n\u001b[0;32m--> 250\u001b[0;31m                             callsite.function, callsite.file, callsite.linenum))\n\u001b[0m\u001b[1;32m    251\u001b[0m                 \u001b[0;32melse\u001b[0m\u001b[0;34m:\u001b[0m\u001b[0;34m\u001b[0m\u001b[0m\n\u001b[1;32m    252\u001b[0m                     \u001b[0mSparkContext\u001b[0m\u001b[0;34m.\u001b[0m\u001b[0m_active_spark_context\u001b[0m \u001b[0;34m=\u001b[0m \u001b[0minstance\u001b[0m\u001b[0;34m\u001b[0m\u001b[0m\n",
      "\u001b[0;31mValueError\u001b[0m: Cannot run multiple SparkContexts at once; existing SparkContext(app=pyspark-shell, master=local[*]) created by __init__ at <ipython-input-2-9ae08bd5f0d9>:8 "
     ]
    }
   ],
   "source": [
    "import numpy as np\n",
    "import matplotlib.pyplot as plt \n",
    "import matplotlib.cm as cm\n",
    "import findspark\n",
    "findspark.init()\n",
    "\n",
    "import pyspark\n",
    "sc = pyspark.SparkContext()"
   ]
  },
  {
   "cell_type": "code",
   "execution_count": 6,
   "metadata": {
    "collapsed": true
   },
   "outputs": [],
   "source": [
    "wlist = sc.textFile(\"EOWL_words.txt\")"
   ]
  },
  {
   "cell_type": "code",
   "execution_count": 7,
   "metadata": {
    "collapsed": false
   },
   "outputs": [],
   "source": [
    "test = wlist.take(10)"
   ]
  },
  {
   "cell_type": "code",
   "execution_count": 4,
   "metadata": {
    "collapsed": false
   },
   "outputs": [
    {
     "data": {
      "text/plain": [
       "'estt'"
      ]
     },
     "execution_count": 4,
     "metadata": {},
     "output_type": "execute_result"
    }
   ],
   "source": [
    "\"\".join(sorted('test'))"
   ]
  },
  {
   "cell_type": "code",
   "execution_count": 8,
   "metadata": {
    "collapsed": true
   },
   "outputs": [],
   "source": [
    "w_tuple_string = wlist.map(lambda w: (list(w.lower().encode(\"utf-8\")),w.encode(\"utf-8\")))\n",
    "w_tuple_string = w_tuple_string.map(lambda (key,value) : (''.join(sorted(key)),value))\n",
    "result2 = w_tuple_string.groupByKey().map(lambda (K,V): (K,list(V)))"
   ]
  },
  {
   "cell_type": "code",
   "execution_count": 9,
   "metadata": {
    "collapsed": false
   },
   "outputs": [
    {
     "data": {
      "text/plain": [
       "[('aacikrtu', ['autarkic']),\n",
       " ('ertuy\\xab\\xc3', ['tuy\\xc3\\x8bre']),\n",
       " ('eiilrsttw', ['twirliest']),\n",
       " ('eiills', ['lilies']),\n",
       " ('ceilnrstu', ['linctures']),\n",
       " ('iilps', ['pilis']),\n",
       " ('dgiinoww', ['widowing']),\n",
       " ('ehostw', ['theows']),\n",
       " ('deinnru', ['inurned']),\n",
       " ('degillnw', ['dwelling'])]"
      ]
     },
     "execution_count": 9,
     "metadata": {},
     "output_type": "execute_result"
    }
   ],
   "source": [
    "result2.take(10)"
   ]
  },
  {
   "cell_type": "code",
   "execution_count": 10,
   "metadata": {
    "collapsed": false
   },
   "outputs": [],
   "source": [
    "w_tuple_string = wlist.map(lambda w: (list(w.lower().encode(\"utf-8\")),w.encode(\"utf-8\")))\n",
    "w_tuple_string = w_tuple_string.map(lambda (key,value) : (''.join(sorted(key)),[value]))\n",
    "result = w_tuple_string.reduceByKey(lambda v1,v2: v1+v2)"
   ]
  },
  {
   "cell_type": "code",
   "execution_count": 11,
   "metadata": {
    "collapsed": false
   },
   "outputs": [
    {
     "data": {
      "text/plain": [
       "[('aacikrtu', ['autarkic']),\n",
       " ('ertuy\\xab\\xc3', ['tuy\\xc3\\x8bre']),\n",
       " ('eiilrsttw', ['twirliest']),\n",
       " ('eiills', ['lilies']),\n",
       " ('ceilnrstu', ['linctures']),\n",
       " ('iilps', ['pilis']),\n",
       " ('dgiinoww', ['widowing']),\n",
       " ('ehostw', ['theows']),\n",
       " ('deinnru', ['inurned']),\n",
       " ('degillnw', ['dwelling']),\n",
       " ('aceiimrsst', ['armistices']),\n",
       " ('degillnu', ['duelling']),\n",
       " ('deenoprrsv', ['provenders']),\n",
       " ('ddgiiinsv', ['dividings']),\n",
       " ('acegghinrr', ['recharging']),\n",
       " ('aafilstt', ['fatalist']),\n",
       " ('acdeeilmrv', ['decemviral']),\n",
       " ('eeiklnsy', ['keylines']),\n",
       " ('acefhipry', ['preachify']),\n",
       " ('abehrrs', ['brasher']),\n",
       " ('aadkrww', ['awkward']),\n",
       " ('eeiinrstwz', ['winterizes']),\n",
       " ('abehrry', ['herbary']),\n",
       " ('aacginps', ['scapaing']),\n",
       " ('eeiklnss', ['likeness']),\n",
       " ('abcehlrsu', ['crushable']),\n",
       " ('adeilmmnt', ['immantled']),\n",
       " ('cdehipt', ['pitched']),\n",
       " ('ahiklprssy', ['sparkishly']),\n",
       " ('cceiklr', ['clicker']),\n",
       " ('cdehipp', ['chipped']),\n",
       " ('cdehipr', ['chirped']),\n",
       " ('dginsu', ['dingus']),\n",
       " ('aeknrs', ['ankers', 'nakers', 'nerkas']),\n",
       " ('aeknru', ['unrake']),\n",
       " ('ceiisvv', ['civvies']),\n",
       " ('eiilrstty', ['sterility']),\n",
       " ('bbbelo', ['bobble']),\n",
       " ('dginsy', ['dyings']),\n",
       " ('deorrst', ['dorters', 'rodster']),\n",
       " ('acchhlorss', ['scholarchs']),\n",
       " ('anosxy', ['saxony']),\n",
       " ('aahnoprttu', ['naturopath']),\n",
       " ('cefflrssu', ['scufflers']),\n",
       " ('ceghiiost', ['gothicise']),\n",
       " ('cddeillo', ['collided']),\n",
       " ('ehors', ['hoers', 'horse', 'shoer', 'shore']),\n",
       " ('cghioprsty', ['copyrights']),\n",
       " ('cdeeikrw', ['wickeder', 'wickered']),\n",
       " ('egmnors', ['mongers', 'morgens']),\n",
       " ('bgiijnnosu', ['subjoining']),\n",
       " ('egmnory', ['mongery']),\n",
       " ('eghoopsuy', ['hypogeous']),\n",
       " ('denoprss', ['responds']),\n",
       " ('aeilprxy', ['pyrexial']),\n",
       " ('deegins', ['sdeigne', 'seeding']),\n",
       " ('accefiils', ['calcifies']),\n",
       " ('eefllostuw', ['woefullest']),\n",
       " ('aacglost', ['catalogs']),\n",
       " ('aaddegiilt', ['digladiate']),\n",
       " ('egmnnooosu', ['monogenous']),\n",
       " ('ceilnoprs', ['replicons']),\n",
       " ('ortuy', ['yourt']),\n",
       " ('bggilnnu', ['blunging', 'bungling']),\n",
       " ('ffos', ['offs']),\n",
       " ('adffry', ['draffy']),\n",
       " ('dghinorsu', ['shrouding']),\n",
       " ('adehlty', ['deathly']),\n",
       " ('bdeggginru', ['begrudging']),\n",
       " ('aegiklns', ['linkages']),\n",
       " ('benntu', ['unbent']),\n",
       " ('cgllosy', ['glycols']),\n",
       " ('egilpprs', ['gripples']),\n",
       " ('abbcsy', ['scabby']),\n",
       " ('cdehnru', ['chunder', 'churned']),\n",
       " ('adelmss', ['damsels']),\n",
       " ('bchknorsu', ['buckhorns']),\n",
       " ('addeelprvy', ['depravedly']),\n",
       " ('abghiinns', ['banishing']),\n",
       " ('aceeirsssv', ['vicaresses']),\n",
       " ('acdemnsu', ['decumans']),\n",
       " ('ahmny', ['mynah']),\n",
       " ('ceiiilrsvz', ['civilizers']),\n",
       " ('aceeilprst', ['replicates']),\n",
       " ('bcekstu', ['bestuck', 'buckets']),\n",
       " ('aehimnorsz', ['harmonizes']),\n",
       " ('acefiisst', ['satisfice']),\n",
       " ('chins', ['chins']),\n",
       " ('aeegill', ['galilee']),\n",
       " ('aeegiln', ['lineage']),\n",
       " ('aceeforrst', ['forecaster']),\n",
       " ('aeinqtu', ['antique', 'quinate']),\n",
       " ('giknnrtu', ['trunking']),\n",
       " ('adelorstw', ['leadworts']),\n",
       " ('beeelprs', ['bleepers']),\n",
       " ('depsuy', ['pudsey']),\n",
       " ('deimrsstty', ['mistrysted']),\n",
       " ('chino', ['chino']),\n",
       " ('giorst', ['griots']),\n",
       " ('aehipss', ['aphesis'])]"
      ]
     },
     "execution_count": 11,
     "metadata": {},
     "output_type": "execute_result"
    }
   ],
   "source": [
    "result.take(100)"
   ]
  },
  {
   "cell_type": "code",
   "execution_count": 12,
   "metadata": {
    "collapsed": false
   },
   "outputs": [],
   "source": [
    "result = result.map(lambda (key,value): (key,len(value),value))"
   ]
  },
  {
   "cell_type": "code",
   "execution_count": 13,
   "metadata": {
    "collapsed": false
   },
   "outputs": [
    {
     "data": {
      "text/plain": [
       "[('aacikrtu', 1, ['autarkic']),\n",
       " ('ertuy\\xab\\xc3', 1, ['tuy\\xc3\\x8bre']),\n",
       " ('eiilrsttw', 1, ['twirliest']),\n",
       " ('eiills', 1, ['lilies']),\n",
       " ('ceilnrstu', 1, ['linctures']),\n",
       " ('iilps', 1, ['pilis']),\n",
       " ('dgiinoww', 1, ['widowing']),\n",
       " ('ehostw', 1, ['theows']),\n",
       " ('deinnru', 1, ['inurned']),\n",
       " ('degillnw', 1, ['dwelling'])]"
      ]
     },
     "execution_count": 13,
     "metadata": {},
     "output_type": "execute_result"
    }
   ],
   "source": [
    "result.take(10)"
   ]
  },
  {
   "cell_type": "code",
   "execution_count": 14,
   "metadata": {
    "collapsed": false
   },
   "outputs": [
    {
     "data": {
      "text/plain": [
       "[('aerst',\n",
       "  11,\n",
       "  ['arets',\n",
       "   'aster',\n",
       "   'rates',\n",
       "   'reast',\n",
       "   'resat',\n",
       "   'stare',\n",
       "   'stear',\n",
       "   'strae',\n",
       "   'tares',\n",
       "   'tears',\n",
       "   'teras']),\n",
       " ('aelst',\n",
       "  11,\n",
       "  ['least',\n",
       "   'leats',\n",
       "   'salet',\n",
       "   'slate',\n",
       "   'stale',\n",
       "   'steal',\n",
       "   'stela',\n",
       "   'taels',\n",
       "   'tales',\n",
       "   'teals',\n",
       "   'tesla']),\n",
       " ('aeprs',\n",
       "  11,\n",
       "  ['asper',\n",
       "   'pares',\n",
       "   'parse',\n",
       "   'pears',\n",
       "   'prase',\n",
       "   'presa',\n",
       "   'rapes',\n",
       "   'reaps',\n",
       "   'spaer',\n",
       "   'spare',\n",
       "   'spear']),\n",
       " ('aelrst',\n",
       "  10,\n",
       "  ['alerts',\n",
       "   'alters',\n",
       "   'artels',\n",
       "   'laster',\n",
       "   'ratels',\n",
       "   'salter',\n",
       "   'slater',\n",
       "   'staler',\n",
       "   'stelar',\n",
       "   'talers']),\n",
       " ('aelpst',\n",
       "  10,\n",
       "  ['palest',\n",
       "   'palets',\n",
       "   'pastel',\n",
       "   'peltas',\n",
       "   'petals',\n",
       "   'plaste',\n",
       "   'plates',\n",
       "   'pleats',\n",
       "   'septal',\n",
       "   'staple']),\n",
       " ('eerst',\n",
       "  9,\n",
       "  ['ester',\n",
       "   'reest',\n",
       "   'reset',\n",
       "   'retes',\n",
       "   'steer',\n",
       "   'stere',\n",
       "   'teers',\n",
       "   'terse',\n",
       "   'trees']),\n",
       " ('aelps',\n",
       "  9,\n",
       "  ['lapse',\n",
       "   'leaps',\n",
       "   'pales',\n",
       "   'peals',\n",
       "   'pleas',\n",
       "   'salep',\n",
       "   'sepal',\n",
       "   'spale',\n",
       "   'speal']),\n",
       " ('aeinrst',\n",
       "  9,\n",
       "  ['nastier',\n",
       "   'ratines',\n",
       "   'resiant',\n",
       "   'retains',\n",
       "   'retinas',\n",
       "   'retsina',\n",
       "   'stainer',\n",
       "   'starnie',\n",
       "   'stearin']),\n",
       " ('aeginst',\n",
       "  8,\n",
       "  ['easting',\n",
       "   'eatings',\n",
       "   'genista',\n",
       "   'ingates',\n",
       "   'ingesta',\n",
       "   'seating',\n",
       "   'tangies',\n",
       "   'teasing']),\n",
       " ('abest',\n",
       "  8,\n",
       "  ['abets', 'baste', 'bates', 'beast', 'beats', 'besat', 'betas', 'tabes'])]"
      ]
     },
     "execution_count": 14,
     "metadata": {},
     "output_type": "execute_result"
    }
   ],
   "source": [
    "result.takeOrdered(10,lambda x: -x[1])"
   ]
  },
  {
   "cell_type": "code",
   "execution_count": null,
   "metadata": {
    "collapsed": true
   },
   "outputs": [],
   "source": []
  }
 ],
 "metadata": {
  "kernelspec": {
   "display_name": "Python 2",
   "language": "python",
   "name": "python2"
  },
  "language_info": {
   "codemirror_mode": {
    "name": "ipython",
    "version": 2
   },
   "file_extension": ".py",
   "mimetype": "text/x-python",
   "name": "python",
   "nbconvert_exporter": "python",
   "pygments_lexer": "ipython2",
   "version": "2.7.10"
  }
 },
 "nbformat": 4,
 "nbformat_minor": 0
}
