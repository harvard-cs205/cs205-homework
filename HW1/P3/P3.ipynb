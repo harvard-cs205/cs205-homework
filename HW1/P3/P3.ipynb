{
 "cells": [
  {
   "cell_type": "code",
   "execution_count": 1,
   "metadata": {
    "collapsed": false
   },
   "outputs": [],
   "source": [
    "# github.com/minrk/findspark\n",
    "import findspark\n",
    "findspark.init()\n",
    "\n",
    "import pyspark\n",
    "sc = pyspark.SparkContext(appName=\"Spark1\")\n",
    "import numpy as np"
   ]
  },
  {
   "cell_type": "code",
   "execution_count": 3,
   "metadata": {
    "collapsed": false
   },
   "outputs": [],
   "source": [
    "words = sc.textFile(\"./EOWL-v1.1.2/CSV_Format/\"+\"A\"+\" Words.csv\",100)\n",
    "#make one big RDD with all words\n",
    "for i in range(66,91):\n",
    "    words = words.union(sc.textFile(\"./EOWL-v1.1.2/CSV_Format/\"+chr(i)+\" Words.csv\",100))"
   ]
  },
  {
   "cell_type": "code",
   "execution_count": 4,
   "metadata": {
    "collapsed": false
   },
   "outputs": [
    {
     "name": "stdout",
     "output_type": "stream",
     "text": [
      "[(u'aerst', (11, [u'arets', u'aster', u'rates', u'reast', u'resat', u'stare', u'stear', u'strae', u'tares', u'tears', u'teras']))]\n"
     ]
    }
   ],
   "source": [
    "#maps to K,V: words --> (sorted_letter_seq, (num_words, [word])\n",
    "sorted_letter_seqs = words.map(lambda word: (\"\".join(sorted(list(word))), (1,[word]))).reduceByKey(lambda val1, val2: (val1[0] + val2[0],val1[1]+val2[1]))\n",
    "print sorted_letter_seqs.takeOrdered(1, lambda KV: -KV[1][0])"
   ]
  },
  {
   "cell_type": "code",
   "execution_count": null,
   "metadata": {
    "collapsed": true
   },
   "outputs": [],
   "source": []
  }
 ],
 "metadata": {
  "kernelspec": {
   "display_name": "Python 2",
   "language": "python",
   "name": "python2"
  },
  "language_info": {
   "codemirror_mode": {
    "name": "ipython",
    "version": 2
   },
   "file_extension": ".py",
   "mimetype": "text/x-python",
   "name": "python",
   "nbconvert_exporter": "python",
   "pygments_lexer": "ipython2",
   "version": "2.7.10"
  }
 },
 "nbformat": 4,
 "nbformat_minor": 0
}
