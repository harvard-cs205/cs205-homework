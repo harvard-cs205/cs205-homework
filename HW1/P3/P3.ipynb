{
 "cells": [
  {
   "cell_type": "code",
   "execution_count": 1,
   "metadata": {
    "collapsed": true
   },
   "outputs": [],
   "source": [
    "# github.com/minrk/findspark\n",
    "import findspark\n",
    "findspark.init()\n",
    "\n",
    "import pyspark\n",
    "sc = pyspark.SparkContext(appName=\"Spark1\")"
   ]
  },
  {
   "cell_type": "code",
   "execution_count": 17,
   "metadata": {
    "collapsed": false
   },
   "outputs": [],
   "source": [
    "# Load the word list\n",
    "word_list = sc.textFile('../../EOWL-v1.1.2/CSV Format/*.csv')\n",
    "word_list.count()"
   ]
  },
  {
   "cell_type": "code",
   "execution_count": 33,
   "metadata": {
    "collapsed": false
   },
   "outputs": [],
   "source": [
    "# Sort the letters of each word\n",
    "word_list_keyed = word_list.map(lambda x: (''.join(sorted(x)), x))"
   ]
  },
  {
   "cell_type": "code",
   "execution_count": 54,
   "metadata": {
    "collapsed": false
   },
   "outputs": [],
   "source": [
    "# Extract the # of anagrams for each unique letter combination\n",
    "word_list_grped = word_list_keyed.groupByKey().map(\n",
    "    lambda x: (x[0], len(x[1]), list(x[1])))"
   ]
  },
  {
   "cell_type": "code",
   "execution_count": 62,
   "metadata": {
    "collapsed": false
   },
   "outputs": [],
   "source": [
    "# Find the letter combination with the max # of anagrams\n",
    "max_anagram = word_list_grped.takeOrdered(1, key=lambda x: -x[1])\n",
    "with open(\"P3.txt\", \"w\") as text_file:\n",
    "    text_file.write(\"{}\".format(max_anagram))"
   ]
  }
 ],
 "metadata": {
  "kernelspec": {
   "display_name": "Python 2",
   "language": "python",
   "name": "python2"
  },
  "language_info": {
   "codemirror_mode": {
    "name": "ipython",
    "version": 2
   },
   "file_extension": ".py",
   "mimetype": "text/x-python",
   "name": "python",
   "nbconvert_exporter": "python",
   "pygments_lexer": "ipython2",
   "version": "2.7.6"
  }
 },
 "nbformat": 4,
 "nbformat_minor": 0
}
