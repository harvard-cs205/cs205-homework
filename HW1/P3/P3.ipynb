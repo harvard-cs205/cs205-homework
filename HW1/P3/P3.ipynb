{
 "cells": [
  {
   "cell_type": "code",
   "execution_count": 1,
   "metadata": {
    "collapsed": true
   },
   "outputs": [],
   "source": [
    "import findspark\n",
    "findspark.init('/home/shenjeffrey/spark/')\n",
    "import pyspark\n",
    "%matplotlib inline\n",
    "import matplotlib.pyplot as plt"
   ]
  },
  {
   "cell_type": "code",
   "execution_count": 2,
   "metadata": {
    "collapsed": true
   },
   "outputs": [],
   "source": [
    "import seaborn as sns"
   ]
  },
  {
   "cell_type": "code",
   "execution_count": 3,
   "metadata": {
    "collapsed": true
   },
   "outputs": [],
   "source": [
    "# initiate spark\n",
    "sc = pyspark.SparkContext()"
   ]
  },
  {
   "cell_type": "code",
   "execution_count": 32,
   "metadata": {
    "collapsed": false,
    "scrolled": true
   },
   "outputs": [
    {
     "data": {
      "text/plain": [
       "[u'aa',\n",
       " u'aah',\n",
       " u'aal',\n",
       " u'aalii',\n",
       " u'aardvark',\n",
       " u'aardvarks',\n",
       " u'aardwolf',\n",
       " u'aardwolves',\n",
       " u'aargh',\n",
       " u'aarrghh',\n",
       " u'aasvogel',\n",
       " u'aasvogels',\n",
       " u'ab',\n",
       " u'aba',\n",
       " u'abaca',\n",
       " u'abacas',\n",
       " u'abaci',\n",
       " u'aback',\n",
       " u'abacus',\n",
       " u'abacuses']"
      ]
     },
     "execution_count": 32,
     "metadata": {},
     "output_type": "execute_result"
    }
   ],
   "source": [
    "# Read in data\n",
    "data = sc.textFile(\"EOWL_words.txt\")\n",
    "data.take(20)"
   ]
  },
  {
   "cell_type": "code",
   "execution_count": 33,
   "metadata": {
    "collapsed": true
   },
   "outputs": [],
   "source": [
    "# Sort every word\n",
    "# key = sorted word and value is original word\n",
    "data = data.map(lambda word: (''.join(sorted(word)), word))"
   ]
  },
  {
   "cell_type": "code",
   "execution_count": 35,
   "metadata": {
    "collapsed": false
   },
   "outputs": [
    {
     "data": {
      "text/plain": [
       "[(u'aa', u'aa'),\n",
       " (u'aah', u'aah'),\n",
       " (u'aal', u'aal'),\n",
       " (u'aaiil', u'aalii'),\n",
       " (u'aaadkrrv', u'aardvark'),\n",
       " (u'aaadkrrsv', u'aardvarks'),\n",
       " (u'aadflorw', u'aardwolf'),\n",
       " (u'aadelorsvw', u'aardwolves'),\n",
       " (u'aaghr', u'aargh'),\n",
       " (u'aaghhrr', u'aarrghh'),\n",
       " (u'aaeglosv', u'aasvogel'),\n",
       " (u'aaeglossv', u'aasvogels'),\n",
       " (u'ab', u'ab'),\n",
       " (u'aab', u'aba'),\n",
       " (u'aaabc', u'abaca')]"
      ]
     },
     "execution_count": 35,
     "metadata": {},
     "output_type": "execute_result"
    }
   ],
   "source": [
    "print data.take(15)"
   ]
  },
  {
   "cell_type": "code",
   "execution_count": 40,
   "metadata": {
    "collapsed": false
   },
   "outputs": [],
   "source": [
    "# Group the data by Key to produce a list of words that match with the key\n",
    "# result = sorted(data.groupByKey().filter(lambda (key, val): len(val)>=2).collect())\n",
    "result = data.groupByKey()"
   ]
  },
  {
   "cell_type": "code",
   "execution_count": 43,
   "metadata": {
    "collapsed": true
   },
   "outputs": [],
   "source": [
    "# Map in the length of word list\n",
    "result = result.map(lambda(key, val_list): (key, len(val_list), val_list))"
   ]
  },
  {
   "cell_type": "code",
   "execution_count": 44,
   "metadata": {
    "collapsed": false
   },
   "outputs": [
    {
     "data": {
      "text/plain": [
       "[(u'aacikrtu', 1, <pyspark.resultiterable.ResultIterable at 0xa1aec26c>),\n",
       " (u'eelossttx', 1, <pyspark.resultiterable.ResultIterable at 0xa1aec24c>),\n",
       " (u'eiilrsttw', 1, <pyspark.resultiterable.ResultIterable at 0xa1aec30c>),\n",
       " (u'eiills', 1, <pyspark.resultiterable.ResultIterable at 0xa1aec2ac>),\n",
       " (u'ceilnrstu', 1, <pyspark.resultiterable.ResultIterable at 0xa1aec60c>),\n",
       " (u'iilps', 1, <pyspark.resultiterable.ResultIterable at 0xa1aec5ac>),\n",
       " (u'dgiinoww', 1, <pyspark.resultiterable.ResultIterable at 0xa1aec62c>),\n",
       " (u'ehostw', 1, <pyspark.resultiterable.ResultIterable at 0xa1aec28c>),\n",
       " (u'deinnru', 1, <pyspark.resultiterable.ResultIterable at 0xa1aec48c>),\n",
       " (u'degillnw', 1, <pyspark.resultiterable.ResultIterable at 0xa1aec38c>)]"
      ]
     },
     "execution_count": 44,
     "metadata": {},
     "output_type": "execute_result"
    }
   ],
   "source": [
    "result.take(10)"
   ]
  },
  {
   "cell_type": "code",
   "execution_count": 47,
   "metadata": {
    "collapsed": true
   },
   "outputs": [],
   "source": [
    "# Sort based on len(val_list) descendingly\n",
    "anagrams_sorted = result.sortBy(lambda x: x[1], False)"
   ]
  },
  {
   "cell_type": "code",
   "execution_count": 48,
   "metadata": {
    "collapsed": false
   },
   "outputs": [
    {
     "name": "stdout",
     "output_type": "stream",
     "text": [
      "(u'aerst', 11, <pyspark.resultiterable.ResultIterable object at 0xa1b5436c>)\n"
     ]
    }
   ],
   "source": [
    "# Print final results\n",
    "print anagrams_sorted.take(1)[0]"
   ]
  },
  {
   "cell_type": "code",
   "execution_count": 51,
   "metadata": {
    "collapsed": false
   },
   "outputs": [
    {
     "name": "stdout",
     "output_type": "stream",
     "text": [
      "key:  aerst\n",
      "number of anagrams:  11\n",
      "word:  arets\n",
      "word:  aster\n",
      "word:  rates\n",
      "word:  reast\n",
      "word:  resat\n",
      "word:  stare\n",
      "word:  stear\n",
      "word:  strae\n",
      "word:  tares\n",
      "word:  tears\n",
      "word:  teras\n"
     ]
    }
   ],
   "source": [
    "# Print final results\n",
    "for key, num, val_list in anagrams_sorted.take(1):\n",
    "    print \"key: \", key\n",
    "    print \"number of anagrams: \", num\n",
    "    for word in val_list:\n",
    "        print \"word: \", word"
   ]
  },
  {
   "cell_type": "code",
   "execution_count": null,
   "metadata": {
    "collapsed": true
   },
   "outputs": [],
   "source": []
  }
 ],
 "metadata": {
  "kernelspec": {
   "display_name": "Python 2",
   "language": "python",
   "name": "python2"
  },
  "language_info": {
   "codemirror_mode": {
    "name": "ipython",
    "version": 2
   },
   "file_extension": ".py",
   "mimetype": "text/x-python",
   "name": "python",
   "nbconvert_exporter": "python",
   "pygments_lexer": "ipython2",
   "version": "2.7.10"
  }
 },
 "nbformat": 4,
 "nbformat_minor": 0
}
