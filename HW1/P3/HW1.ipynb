{
 "cells": [
  {
   "cell_type": "code",
   "execution_count": 64,
   "metadata": {
    "collapsed": false
   },
   "outputs": [
    {
     "name": "stdout",
     "output_type": "stream",
     "text": [
      "(u'aeprs', 11, [u'asper', u'pares', u'parse', u'pears', u'prase', u'presa', u'rapes', u'reaps', u'spaer', u'spare', u'spear'])\n"
     ]
    }
   ],
   "source": [
    "# Q3\n",
    "wlist = sc.textFile('EOWL_words.txt')\n",
    "\n",
    "maxAnagrams = wlist.map(lambda x: (''.join(sorted(x)), [x]))\\\n",
    "                    .reduceByKey(lambda x, y: x+y)\\\n",
    "                    .map( lambda (s, v): (s, len(v), v) )\\\n",
    "                    .reduce( lambda x, y: x if x[1] > y[1] else y )\n",
    "            \n",
    "print maxAnagrams\n"
   ]
  }
 ],
 "metadata": {
  "kernelspec": {
   "display_name": "pySpark (Spark 1.5.0)",
   "language": "python",
   "name": "pyspark"
  },
  "language_info": {
   "codemirror_mode": {
    "name": "ipython",
    "version": 2
   },
   "file_extension": ".py",
   "mimetype": "text/x-python",
   "name": "python",
   "nbconvert_exporter": "python",
   "pygments_lexer": "ipython2",
   "version": "2.7.10"
  }
 },
 "nbformat": 4,
 "nbformat_minor": 0
}
