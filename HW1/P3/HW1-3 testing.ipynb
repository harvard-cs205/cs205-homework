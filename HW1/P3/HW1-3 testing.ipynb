{
 "cells": [
  {
   "cell_type": "code",
   "execution_count": 1,
   "metadata": {
    "collapsed": true
   },
   "outputs": [],
   "source": [
    "A  = [\"teest\", 'best', 'trial', 'beetle']"
   ]
  },
  {
   "cell_type": "code",
   "execution_count": 28,
   "metadata": {
    "collapsed": false
   },
   "outputs": [],
   "source": [
    "B = [(sorted(list(x)),x) for x in A]\n",
    "C = [(''.join(x[0]),x[1]) for x in B]"
   ]
  },
  {
   "cell_type": "code",
   "execution_count": 29,
   "metadata": {
    "collapsed": false
   },
   "outputs": [
    {
     "data": {
      "text/plain": [
       "[('eestt', 'teest'),\n",
       " ('best', 'best'),\n",
       " ('ailrt', 'trial'),\n",
       " ('beeelt', 'beetle')]"
      ]
     },
     "execution_count": 29,
     "metadata": {},
     "output_type": "execute_result"
    }
   ],
   "source": [
    "C"
   ]
  },
  {
   "cell_type": "code",
   "execution_count": 1,
   "metadata": {
    "collapsed": false
   },
   "outputs": [],
   "source": [
    "%matplotlib inline\n",
    "\n",
    "import findspark\n",
    "findspark.init()\n",
    "\n",
    "import pyspark\n",
    "sc = pyspark.SparkContext(appName= \"Spark 3\")\n",
    "\n",
    "import numpy as np"
   ]
  },
  {
   "cell_type": "code",
   "execution_count": 2,
   "metadata": {
    "collapsed": true
   },
   "outputs": [],
   "source": [
    "wList = sc.textFile('words.txt')"
   ]
  },
  {
   "cell_type": "code",
   "execution_count": 3,
   "metadata": {
    "collapsed": false
   },
   "outputs": [
    {
     "data": {
      "text/plain": [
       "[(u'aa', [u'aa']),\n",
       " (u'aah', [u'aah']),\n",
       " (u'aal', [u'aal']),\n",
       " (u'aaiil', [u'aalii']),\n",
       " (u'aaadkrrv', [u'aardvark']),\n",
       " (u'aaadkrrsv', [u'aardvarks']),\n",
       " (u'aadflorw', [u'aardwolf']),\n",
       " (u'aadelorsvw', [u'aardwolves']),\n",
       " (u'aaghr', [u'aargh']),\n",
       " (u'aaghhrr', [u'aarrghh'])]"
      ]
     },
     "execution_count": 3,
     "metadata": {},
     "output_type": "execute_result"
    }
   ],
   "source": [
    "#wList = wList.map(lambda w: w.lower()).distinct() #Unsuring the words are lower case and distinct\n",
    "letteredWords = wList.map(lambda w: (sorted(list(w)),w))\n",
    "orgJumble = letteredWords.map(lambda w: (''.join(w[0]),[w[1]]))\n",
    "orgJumble.take(10)"
   ]
  },
  {
   "cell_type": "code",
   "execution_count": null,
   "metadata": {
    "collapsed": true
   },
   "outputs": [],
   "source": []
  },
  {
   "cell_type": "code",
   "execution_count": 4,
   "metadata": {
    "collapsed": false
   },
   "outputs": [],
   "source": [
    "combJumble = orgJumble.reduceByKey(lambda x, y: x+y)\n",
    "sortedCombJumble = combJumble.sortBy(lambda KV: len(KV[1]),ascending=False)\n",
    "sortedCombJumbleFINAL = sortedCombJumble.map(lambda x: (x[0],len(x[1]),x[1]))"
   ]
  },
  {
   "cell_type": "code",
   "execution_count": 5,
   "metadata": {
    "collapsed": false
   },
   "outputs": [
    {
     "data": {
      "text/plain": [
       "[(u'aerst',\n",
       "  11,\n",
       "  [u'arets',\n",
       "   u'aster',\n",
       "   u'rates',\n",
       "   u'reast',\n",
       "   u'resat',\n",
       "   u'stare',\n",
       "   u'stear',\n",
       "   u'strae',\n",
       "   u'tares',\n",
       "   u'tears',\n",
       "   u'teras'])]"
      ]
     },
     "execution_count": 5,
     "metadata": {},
     "output_type": "execute_result"
    }
   ],
   "source": [
    "sortedCombJumbleFINAL.take(1)"
   ]
  },
  {
   "cell_type": "code",
   "execution_count": null,
   "metadata": {
    "collapsed": true
   },
   "outputs": [],
   "source": []
  }
 ],
 "metadata": {
  "kernelspec": {
   "display_name": "Python 2",
   "language": "python",
   "name": "python2"
  },
  "language_info": {
   "codemirror_mode": {
    "name": "ipython",
    "version": 2
   },
   "file_extension": ".py",
   "mimetype": "text/x-python",
   "name": "python",
   "nbconvert_exporter": "python",
   "pygments_lexer": "ipython2",
   "version": "2.7.10"
  }
 },
 "nbformat": 4,
 "nbformat_minor": 0
}
