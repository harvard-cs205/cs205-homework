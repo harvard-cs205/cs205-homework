{
 "cells": [
  {
   "cell_type": "code",
   "execution_count": 1,
   "metadata": {
    "collapsed": true
   },
   "outputs": [],
   "source": [
    "import findspark\n",
    "findspark.init()\n",
    "\n",
    "import pyspark\n",
    "sc = pyspark.SparkContext()\n",
    "\n",
    "import numpy as np\n",
    "import matplotlib.pyplot as plt \n",
    "import matplotlib.cm as cm\n",
    "import seaborn\n",
    "from P2 import *"
   ]
  },
  {
   "cell_type": "code",
   "execution_count": 80,
   "metadata": {
    "collapsed": true
   },
   "outputs": [],
   "source": [
    "# Construct indices to span the 2000 by 2000 grid \n",
    "# of Mandelbrot computations\n",
    "gridsz = 2000\n",
    "n_parts = 10\n",
    "rdd = sc.parallelize(np.arange(gridsz), n_parts)\n",
    "\n",
    "# This should have n_parts^2 partitions\n",
    "rdd_paired = rdd.cartesian(rdd).map(lambda x: (x, 0))"
   ]
  },
  {
   "cell_type": "code",
   "execution_count": 82,
   "metadata": {
    "collapsed": false
   },
   "outputs": [
    {
     "name": "stdout",
     "output_type": "stream",
     "text": [
      "10\n",
      "100\n"
     ]
    }
   ],
   "source": [
    "# Check the number of partitions\n",
    "print(len(rdd.glom().collect()))\n",
    "print(len(rdd_paired.glom().collect()))"
   ]
  },
  {
   "cell_type": "code",
   "execution_count": 88,
   "metadata": {
    "collapsed": true
   },
   "outputs": [],
   "source": [
    "# Hash to a random partition\n",
    "def rhash(x):\n",
    "    return np.random.random_integers(0, 99)\n",
    "rdd_custom_rand = rdd_paired.partitionBy(n_parts**2, rhash)"
   ]
  },
  {
   "cell_type": "code",
   "execution_count": 92,
   "metadata": {
    "collapsed": false
   },
   "outputs": [],
   "source": [
    "# Compute mendelbrot on each pixel. \n",
    "# Note that dimensions (x, y) correspond to (j, i)\n",
    "def map2xy(ij_coord):\n",
    "    return ij_coord / (gridsz / 4.0) - 2\n",
    "res_rand = rdd_custom_rand.map(lambda IJ: (IJ[0], mandelbrot(map2xy(IJ[0][1]), map2xy(IJ[0][0])))) "
   ]
  },
  {
   "cell_type": "code",
   "execution_count": 21,
   "metadata": {
    "collapsed": false
   },
   "outputs": [],
   "source": [
    "draw_image(res)"
   ]
  },
  {
   "cell_type": "code",
   "execution_count": 94,
   "metadata": {
    "collapsed": true
   },
   "outputs": [],
   "source": [
    "work_load_rand = sum_values_for_partitions(res_rand).collect()"
   ]
  },
  {
   "cell_type": "code",
   "execution_count": 106,
   "metadata": {
    "collapsed": false
   },
   "outputs": [],
   "source": [
    "# Plot and save the histogram of work across partitions\n",
    "plt.figure()\n",
    "plt.hist(work_load_rand, facecolor = 'k', edgecolor = 'w')\n",
    "plt.xlabel('# iterations')\n",
    "plt.ylabel('# partitions')\n",
    "plt.title('Load distribution: random partition assignment')\n",
    "# plt.show()\n",
    "plt.savefig('P2b_hist.png')"
   ]
  }
 ],
 "metadata": {
  "kernelspec": {
   "display_name": "Python 2",
   "language": "python",
   "name": "python2"
  },
  "language_info": {
   "codemirror_mode": {
    "name": "ipython",
    "version": 2
   },
   "file_extension": ".py",
   "mimetype": "text/x-python",
   "name": "python",
   "nbconvert_exporter": "python",
   "pygments_lexer": "ipython2",
   "version": "2.7.6"
  }
 },
 "nbformat": 4,
 "nbformat_minor": 0
}
