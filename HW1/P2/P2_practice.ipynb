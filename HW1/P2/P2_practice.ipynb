{
 "cells": [
  {
   "cell_type": "code",
   "execution_count": 2,
   "metadata": {
    "collapsed": false
   },
   "outputs": [
    {
     "data": {
      "text/plain": [
       "(array([ 86.,   0.,   2.,   2.,   0.,   1.,   1.,   2.,   2.,   4.]),\n",
       " array([        0.,   2044000.,   4088000.,   6132000.,   8176000.,\n",
       "         10220000.,  12264000.,  14308000.,  16352000.,  18396000.,\n",
       "         20440000.]),\n",
       " <a list of 10 Patch objects>)"
      ]
     },
     "execution_count": 2,
     "metadata": {},
     "output_type": "execute_result"
    }
   ],
   "source": [
    "import findspark\n",
    "findspark.init('/Users/Grace/spark-1.5.0-bin-hadoop2.6/')\n",
    "import pyspark\n",
    "from P2 import *\n",
    "import random\n",
    "\n",
    "# Your code here\n",
    "sc = pyspark.SparkContext()\n",
    "\n",
    "list_i = range(2000)\n",
    "list_j = range(2000)\n",
    "#random.shuffle(list_i)\n",
    "#random.shuffle(list_j)\n",
    "rdd_i = sc.parallelize(list_i, 10)\n",
    "rdd_j = sc.parallelize(list_j, 10)\n",
    "\n",
    "\n",
    "product_rdd = rdd_i.cartesian(rdd_j)\n",
    "product_rdd = product_rdd.repartition(100)\n",
    "mandelbrot_rdd = product_rdd.map(lambda (i, j): ((i, j), mandelbrot(j/500.0 - 2, i/500.0 - 2)))\n",
    "\n",
    "#draw_image(mandelbrot_rdd)\n",
    "sum_rdd = sum_values_for_partitions(mandelbrot_rdd)\n",
    "plt.hist(sum_rdd.collect())"
   ]
  },
  {
   "cell_type": "code",
   "execution_count": null,
   "metadata": {
    "collapsed": true
   },
   "outputs": [],
   "source": [
    "from P2 import *\n",
    "import pyspark\n",
    "import random\n",
    "\n",
    "# Your code here\n",
    "sc = pyspark.SparkContext()\n",
    "\n",
    "list_i = range(2000)\n",
    "list_j = range(2000)\n",
    "random.shuffle(list_i)\n",
    "random.shuffle(list_j)\n",
    "rdd_i = sc.parallelize(list_i, 10)\n",
    "rdd_j = sc.parallelize(list_j, 10)\n",
    "\n",
    "\n",
    "product_rdd = rdd_i.cartesian(rdd_j)\n",
    "mandelbrot_rdd = product_rdd.map(lambda (i, j): ((i, j), mandelbrot(j/500.0 - 2, i/500.0 - 2)))\n",
    "\n",
    "draw_image(mandelbrot_rdd)\n",
    "\n",
    "sum_rdd = sum_values_for_partitions(mandelbrot_rdd)\n",
    "plt.hist(sum_rdd.collect())\n",
    "plt.savefig('P2b_hist.png')"
   ]
  }
 ],
 "metadata": {
  "kernelspec": {
   "display_name": "Python 2",
   "language": "python",
   "name": "python2"
  },
  "language_info": {
   "codemirror_mode": {
    "name": "ipython",
    "version": 2
   },
   "file_extension": ".py",
   "mimetype": "text/x-python",
   "name": "python",
   "nbconvert_exporter": "python",
   "pygments_lexer": "ipython2",
   "version": "2.7.10"
  }
 },
 "nbformat": 4,
 "nbformat_minor": 0
}
