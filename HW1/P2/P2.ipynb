{
 "cells": [
  {
   "cell_type": "code",
   "execution_count": 3,
   "metadata": {
    "collapsed": true
   },
   "outputs": [],
   "source": [
    "# github.com/minrk/findspark\n",
    "import findspark\n",
    "findspark.init()\n",
    "\n",
    "import pyspark\n",
    "sc = pyspark.SparkContext(appName=\"Spark1\")"
   ]
  },
  {
   "cell_type": "code",
   "execution_count": 4,
   "metadata": {
    "collapsed": true
   },
   "outputs": [],
   "source": [
    "import numpy as np\n",
    "import matplotlib.pyplot as plt \n",
    "import matplotlib.cm as cm\n",
    "def mandelbrot(x, y):\n",
    "    z = c = complex(x, y)\n",
    "    iteration = 0\n",
    "    max_iteration = 511  # arbitrary cutoff\n",
    "    while abs(z) < 2 and iteration < max_iteration:\n",
    "        z = z * z + c\n",
    "        iteration += 1\n",
    "    return iteration\n",
    "\n",
    "def sum_values_for_partitions(rdd):\n",
    "    'Returns (as an RDD) the sum of V for each partition of a (K, V) RDD'\n",
    "    # note that the function passed to mapPartitions should return a sequence,\n",
    "    # not a value.\n",
    "    return rdd.mapPartitions(lambda part: [sum(V for K, V in part)])\n",
    "\n",
    "def draw_image(rdd):\n",
    "    '''Given a (K, V) RDD with K = (I, J) and V = count,\n",
    "    display an image of count at each I, J'''\n",
    "\n",
    "    data = rdd.collect()\n",
    "    I = np.array([d[0][0] for d in data])\n",
    "    J = np.array([d[0][1] for d in data])\n",
    "    C = np.array([d[1] for d in data])\n",
    "    im = np.zeros((I.max() + 1, J.max() + 1))\n",
    "    im[I, J] = np.log(C + 1)  # log intensity makes it easier to see levels\n",
    "    plt.imshow(im, cmap=cm.gray)\n",
    "    plt.show()\n",
    "\n"
   ]
  },
  {
   "cell_type": "code",
   "execution_count": null,
   "metadata": {
    "collapsed": false
   },
   "outputs": [],
   "source": [
    "#image is 2000 pixels x 2000 pixels\n",
    "dtype=[('a','<i4'),('b','<i4')]\n",
    "data_matrix = np.zeros((2000,2000),dtype=[('i','i4'),('j','i4'),('x','<f4'),('y','<f4')])\n",
    "for i in range(2000):\n",
    "    for j in range(2000):\n",
    "        x = j / 500.0 - 2\n",
    "        y = i / 500.0 - 2\n",
    "        data_matrix[i][j] = (i, j, x, y)\n",
    "data_rdd = sc.parallelize(data_matrix,100)\n",
    "rdd = data_rdd.flatMap(lambda x: x)\n",
    "\n",
    "iters = rdd.map(lambda (i,j,x,y): ((i,j),mandelbrot(x,y)))\n",
    "num_per_part = sum_values_for_partitions(iters)\n",
    "#draw_image(iters)\n",
    "plt.hist(num_per_part.collect())\n",
    "plt.savefig()"
   ]
  },
  {
   "cell_type": "code",
   "execution_count": null,
   "metadata": {
    "collapsed": true
   },
   "outputs": [],
   "source": []
  }
 ],
 "metadata": {
  "kernelspec": {
   "display_name": "Python 2",
   "language": "python",
   "name": "python2"
  },
  "language_info": {
   "codemirror_mode": {
    "name": "ipython",
    "version": 2
   },
   "file_extension": ".py",
   "mimetype": "text/x-python",
   "name": "python",
   "nbconvert_exporter": "python",
   "pygments_lexer": "ipython2",
   "version": "2.7.10"
  }
 },
 "nbformat": 4,
 "nbformat_minor": 0
}
