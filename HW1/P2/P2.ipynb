{
 "cells": [
  {
   "cell_type": "code",
   "execution_count": 1,
   "metadata": {
    "collapsed": false
   },
   "outputs": [],
   "source": [
    "# github.com/minrk/findspark\n",
    "import findspark\n",
    "findspark.init()\n",
    "\n",
    "import pyspark\n",
    "sc = pyspark.SparkContext(appName=\"Spark1\")"
   ]
  },
  {
   "cell_type": "code",
   "execution_count": 2,
   "metadata": {
    "collapsed": true
   },
   "outputs": [],
   "source": [
    "import numpy as np\n",
    "import matplotlib.pyplot as plt \n",
    "import matplotlib.cm as cm\n",
    "def mandelbrot(x, y):\n",
    "    z = c = complex(x, y)\n",
    "    iteration = 0\n",
    "    max_iteration = 511  # arbitrary cutoff\n",
    "    while abs(z) < 2 and iteration < max_iteration:\n",
    "        z = z * z + c\n",
    "        iteration += 1\n",
    "    return iteration\n",
    "\n",
    "def sum_values_for_partitions(rdd):\n",
    "    'Returns (as an RDD) the sum of V for each partition of a (K, V) RDD'\n",
    "    # note that the function passed to mapPartitions should return a sequence,\n",
    "    # not a value.\n",
    "    return rdd.mapPartitions(lambda part: [sum(V for K, V in part)])\n",
    "\n",
    "def draw_image(rdd):\n",
    "    '''Given a (K, V) RDD with K = (I, J) and V = count,\n",
    "    display an image of count at each I, J'''\n",
    "\n",
    "    data = rdd.collect()\n",
    "    I = np.array([d[0][0] for d in data])\n",
    "    J = np.array([d[0][1] for d in data])\n",
    "    C = np.array([d[1] for d in data])\n",
    "    im = np.zeros((I.max() + 1, J.max() + 1))\n",
    "    im[I, J] = np.log(C + 1)  # log intensity makes it easier to see levels\n",
    "    plt.imshow(im, cmap=cm.gray)\n",
    "    plt.show()\n",
    "\n"
   ]
  },
  {
   "cell_type": "code",
   "execution_count": 3,
   "metadata": {
    "collapsed": false
   },
   "outputs": [
    {
     "name": "stdout",
     "output_type": "stream",
     "text": [
      "[0, 0, 12530, 30272, 38539, 38559, 30334, 12646, 0, 0, 0, 21703, 44580, 51524, 49220, 40890, 40000, 40000, 21902, 0, 13876, 65497, 81625, 108174, 1164982, 123094, 51270, 40000, 40000, 12729, 53393, 95278, 140141, 4318918, 15667522, 8034422, 108278, 44877, 40000, 30472, 165543, 1853143, 12188031, 16849344, 20440000, 18596168, 224934, 57818, 40000, 38739, 266888, 1954388, 12289026, 16893985, 20440000, 18576975, 224845, 57852, 40000, 38759, 53570, 95833, 140875, 4375631, 15720793, 8117946, 108684, 44943, 40000, 30534, 14042, 65698, 81721, 108507, 1213364, 123809, 51443, 40000, 40000, 12846, 0, 21902, 44751, 51724, 49420, 40961, 40000, 40000, 22102, 0, 0, 0, 12729, 30472, 38739, 38759, 30534, 12846, 0, 0]\n"
     ]
    }
   ],
   "source": [
    "#Clean Version\n",
    "arr = xrange(2000)\n",
    "rdd_single = sc.parallelize(arr,10)\n",
    "rdd = rdd_single.cartesian(rdd_single)\n",
    "#print dir(rdd)\n",
    "\n",
    "iters = rdd.map(lambda (i,j): ((i,j), mandelbrot(j / 500.0 - 2, i / 500.0 - 2)))\n",
    "num_per_part = sum_values_for_partitions(iters)\n",
    "print num_per_part.take(100)\n",
    "#draw_image(iters)\n",
    "plt.hist(num_per_part.collect())\n",
    "#MAKE HISTOGRAM PRETTIER\n",
    "plt.savefig(\"P2a_hist.png\")"
   ]
  },
  {
   "cell_type": "code",
   "execution_count": 3,
   "metadata": {
    "collapsed": false
   },
   "outputs": [],
   "source": [
    "#Clean Version RePartitioning\n",
    "arr = xrange(2000)\n",
    "rdd_single = sc.parallelize(arr,10)\n",
    "rdd = rdd_single.cartesian(rdd_single)\n",
    "rdd = rdd.repartition(100)\n",
    "iters = rdd.map(lambda (i,j): ((i,j), mandelbrot(j / 500.0 - 2, i / 500.0 - 2)))\n",
    "#print iters.take(10)\n",
    "num_per_part = sum_values_for_partitions(iters)\n",
    "#draw_image(iters)\n",
    "plt.hist(num_per_part.collect())\n",
    "#MAKE HISTOGRAM PRETTIER\n",
    "plt.savefig(\"P2c_hist.png\")"
   ]
  },
  {
   "cell_type": "code",
   "execution_count": 3,
   "metadata": {
    "collapsed": false
   },
   "outputs": [],
   "source": [
    "#Clean Version Improved Partitioning\n",
    "arr = xrange(2000)\n",
    "rdd_single = sc.parallelize(arr,10)\n",
    "rdd = rdd_single.cartesian(rdd_single)\n",
    "rdd = rdd.partitionBy(100)\n",
    "iters = rdd.map(lambda (i,j): ((i,j), mandelbrot(j / 500.0 - 2, i / 500.0 - 2)))\n",
    "#print iters.take(10)\n",
    "num_per_part = sum_values_for_partitions(iters)\n",
    "#draw_image(iters)\n",
    "plt.hist(num_per_part.collect())\n",
    "#MAKE HISTOGRAM PRETTIER\n",
    "plt.savefig(\"P2b_hist.png\")"
   ]
  },
  {
   "cell_type": "code",
   "execution_count": null,
   "metadata": {
    "collapsed": true
   },
   "outputs": [],
   "source": []
  }
 ],
 "metadata": {
  "kernelspec": {
   "display_name": "Python 2",
   "language": "python",
   "name": "python2"
  },
  "language_info": {
   "codemirror_mode": {
    "name": "ipython",
    "version": 2
   },
   "file_extension": ".py",
   "mimetype": "text/x-python",
   "name": "python",
   "nbconvert_exporter": "python",
   "pygments_lexer": "ipython2",
   "version": "2.7.10"
  }
 },
 "nbformat": 4,
 "nbformat_minor": 0
}
