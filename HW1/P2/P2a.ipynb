{
 "cells": [
  {
   "cell_type": "code",
   "execution_count": 1,
   "metadata": {
    "collapsed": false
   },
   "outputs": [],
   "source": [
    "import findspark\n",
    "findspark.init()\n",
    "\n",
    "import pyspark\n",
    "sc = pyspark.SparkContext(appName=\"Spark 2\")\n",
    "\n",
    "import numpy as np\n",
    "import matplotlib.pyplot as plt \n",
    "import matplotlib.cm as cm\n",
    "import seaborn\n",
    "from P2 import *"
   ]
  },
  {
   "cell_type": "code",
   "execution_count": 4,
   "metadata": {
    "collapsed": true
   },
   "outputs": [],
   "source": [
    "# Construct indices to span the 2000 by 2000 grid \n",
    "# of Mandelbrot computations\n",
    "gridsz = 2000\n",
    "n_parts = 10\n",
    "rdd = sc.parallelize(np.arange(gridsz), n_parts)\n",
    "rdd_paired = rdd.cartesian(rdd)"
   ]
  },
  {
   "cell_type": "code",
   "execution_count": 7,
   "metadata": {
    "collapsed": false
   },
   "outputs": [],
   "source": [
    "# Compute mendelbrot on each pixel. \n",
    "# Note that dimensions (x, y) correspond to (j, i)\n",
    "def map2xy(ij_coord):\n",
    "    return ij_coord / (gridsz / 4.0) - 2\n",
    "res = rdd_paired.map(\n",
    "    lambda IJ: (IJ, mandelbrot(map2xy(IJ[1]), map2xy(IJ[0])))).cache()"
   ]
  },
  {
   "cell_type": "code",
   "execution_count": 8,
   "metadata": {
    "collapsed": false
   },
   "outputs": [],
   "source": [
    "draw_image(res)"
   ]
  },
  {
   "cell_type": "code",
   "execution_count": 10,
   "metadata": {
    "collapsed": true
   },
   "outputs": [],
   "source": [
    "sum_vals = sum_values_for_partitions(res).collect()"
   ]
  },
  {
   "cell_type": "code",
   "execution_count": 14,
   "metadata": {
    "collapsed": false
   },
   "outputs": [],
   "source": [
    "# Plot and save the histogram of work across partitions\n",
    "plt.figure()\n",
    "plt.hist(sum_vals, facecolor = 'k', edgecolor = 'w')\n",
    "plt.xlabel('# iterations')\n",
    "plt.ylabel('# partitions')\n",
    "plt.title('Load distribution: default partition assignment')\n",
    "# plt.show()\n",
    "plt.savefig('P2a_hist.png')"
   ]
  }
 ],
 "metadata": {
  "kernelspec": {
   "display_name": "Python 2",
   "language": "python",
   "name": "python2"
  },
  "language_info": {
   "codemirror_mode": {
    "name": "ipython",
    "version": 2
   },
   "file_extension": ".py",
   "mimetype": "text/x-python",
   "name": "python",
   "nbconvert_exporter": "python",
   "pygments_lexer": "ipython2",
   "version": "2.7.6"
  }
 },
 "nbformat": 4,
 "nbformat_minor": 0
}
