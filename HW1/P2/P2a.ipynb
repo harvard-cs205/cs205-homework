{
 "cells": [
  {
   "cell_type": "code",
   "execution_count": 1,
   "metadata": {
    "collapsed": false
   },
   "outputs": [],
   "source": [
    "import findspark\n",
    "findspark.init()\n",
    "\n",
    "import pyspark\n",
    "sc = pyspark.SparkContext(appName=\"Spark 2\")"
   ]
  },
  {
   "cell_type": "code",
   "execution_count": 2,
   "metadata": {
    "collapsed": true
   },
   "outputs": [],
   "source": [
    "import numpy as np\n",
    "import matplotlib.pyplot as plt \n",
    "import matplotlib.cm as cm"
   ]
  },
  {
   "cell_type": "code",
   "execution_count": 3,
   "metadata": {
    "collapsed": true
   },
   "outputs": [],
   "source": [
    "# Given functions\n",
    "def mandelbrot(x, y):\n",
    "    z = c = complex(x, y)\n",
    "    iteration = 0\n",
    "    max_iteration = 511  # arbitrary cutoff\n",
    "    while abs(z) < 2 and iteration < max_iteration:\n",
    "        z = z * z + c\n",
    "        iteration += 1\n",
    "    return iteration\n",
    "\n",
    "def sum_values_for_partitions(rdd):\n",
    "    'Returns (as an RDD) the sum of V for each partition of a (K, V) RDD'\n",
    "    # note that the function passed to mapPartitions should return a sequence,\n",
    "    # not a value.\n",
    "    return rdd.mapPartitions(lambda part: [sum(V for K, V in part)])\n",
    "\n",
    "def draw_image(rdd):\n",
    "    '''Given a (K, V) RDD with K = (I, J) and V = count,\n",
    "    display an image of count at each I, J'''\n",
    "\n",
    "    data = rdd.collect()\n",
    "    I = np.array([d[0][0] for d in data])\n",
    "    J = np.array([d[0][1] for d in data])\n",
    "    C = np.array([d[1] for d in data])\n",
    "    im = np.zeros((I.max() + 1, J.max() + 1))\n",
    "    im[I, J] = np.log(C + 1)  # log intensity makes it easier to see levels\n",
    "    plt.imshow(im, cmap=cm.gray)\n",
    "    plt.show()"
   ]
  },
  {
   "cell_type": "code",
   "execution_count": 77,
   "metadata": {
    "collapsed": true
   },
   "outputs": [],
   "source": [
    "# Construct indices to span the 2000 by 2000 grid \n",
    "# of Mandelbrot computations\n",
    "gridsz = 2000\n",
    "n_parts = 100\n",
    "rdd = sc.parallelize(np.arange(gridsz), n_parts)\n",
    "rdd_paired = rdd.cartesian(rdd)"
   ]
  },
  {
   "cell_type": "code",
   "execution_count": 78,
   "metadata": {
    "collapsed": false
   },
   "outputs": [],
   "source": [
    "# Compute mendelbrot on each pixel. \n",
    "# Note that dimensions (x, y) correspond to (j, i)\n",
    "def map2xy(ij_coord):\n",
    "    return ij_coord / 250.0 - 2\n",
    "res = rdd_pair.map(lambda IJ: (IJ, mandelbrot(map2xy(IJ[1]), map2xy(IJ[0])))) "
   ]
  },
  {
   "cell_type": "code",
   "execution_count": 79,
   "metadata": {
    "collapsed": true
   },
   "outputs": [],
   "source": [
    "draw_image(res)"
   ]
  },
  {
   "cell_type": "code",
   "execution_count": 86,
   "metadata": {
    "collapsed": false
   },
   "outputs": [],
   "source": [
    "# Plot and save the histogram of work across partitions\n",
    "plt.hist(sum_values_for_partitions(res).collect(), \n",
    "         facecolor = 'k', edgecolor = 'None')\n",
    "plt.xlabel('# iterations')\n",
    "plt.ylabel('# partitions')\n",
    "plt.savefig('P2a_hist.png')"
   ]
  }
 ],
 "metadata": {
  "kernelspec": {
   "display_name": "Python 2",
   "language": "python",
   "name": "python2"
  },
  "language_info": {
   "codemirror_mode": {
    "name": "ipython",
    "version": 2
   },
   "file_extension": ".py",
   "mimetype": "text/x-python",
   "name": "python",
   "nbconvert_exporter": "python",
   "pygments_lexer": "ipython2",
   "version": "2.7.6"
  }
 },
 "nbformat": 4,
 "nbformat_minor": 0
}
