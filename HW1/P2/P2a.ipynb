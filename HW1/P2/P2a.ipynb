{
 "cells": [
  {
   "cell_type": "code",
   "execution_count": 1,
   "metadata": {
    "collapsed": false
   },
   "outputs": [],
   "source": [
    "# github.com/minrk/findspark\n",
    "import findspark\n",
    "findspark.init()\n",
    "\n",
    "import pyspark\n",
    "sc = pyspark.SparkContext(appName=\"Spark1\")\n",
    "\n",
    "import numpy as np\n",
    "import matplotlib.pyplot as plt \n",
    "import matplotlib.cm as cm\n",
    "\n",
    "# In[3]:\n",
    "from P2 import mandelbrot, sum_values_for_partitions, draw_image\n",
    "#Clean Version\n",
    "arr = xrange(2000)\n",
    "rdd_single = sc.parallelize(arr,10)\n",
    "rdd = rdd_single.cartesian(rdd_single)\n",
    "#print dir(rdd)\n",
    "\n",
    "iters = rdd.map(lambda (i,j): ((i,j), mandelbrot(j / 500.0 - 2, i / 500.0 - 2)))\n",
    "num_per_part = sum_values_for_partitions(iters)\n",
    "#draw_image(iters)\n",
    "plt.hist(num_per_part.collect())\n",
    "#MAKE HISTOGRAM PRETTIER\n",
    "plt.savefig(\"P2a_hist.png\")\n"
   ]
  }
 ],
 "metadata": {
  "kernelspec": {
   "display_name": "Python 2",
   "language": "python",
   "name": "python2"
  },
  "language_info": {
   "codemirror_mode": {
    "name": "ipython",
    "version": 2
   },
   "file_extension": ".py",
   "mimetype": "text/x-python",
   "name": "python",
   "nbconvert_exporter": "python",
   "pygments_lexer": "ipython2",
   "version": "2.7.10"
  }
 },
 "nbformat": 4,
 "nbformat_minor": 0
}
