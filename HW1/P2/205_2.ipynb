{
 "cells": [
  {
   "cell_type": "code",
   "execution_count": 2,
   "metadata": {
    "collapsed": false
   },
   "outputs": [],
   "source": [
    "from P2 import *\n",
    "\n",
    "import numpy as np\n",
    "\n",
    "import findspark\n",
    "findspark.init()\n",
    "\n",
    "import pyspark\n",
    "sc = pyspark.SparkContext(appName=\"P2\")"
   ]
  },
  {
   "cell_type": "code",
   "execution_count": 3,
   "metadata": {
    "collapsed": false
   },
   "outputs": [],
   "source": [
    "# retry this bitch\n",
    "rdd1 = np.arange(2000)\n",
    "rdd2 = np.arange(2000)\n",
    "\n",
    "rdd1 = sc.parallelize(rdd1, 10)\n",
    "rdd2 = sc.parallelize(rdd2, 10)\n",
    "\n",
    "pixels = rdd1.cartesian(rdd2)"
   ]
  },
  {
   "cell_type": "code",
   "execution_count": 4,
   "metadata": {
    "collapsed": false
   },
   "outputs": [],
   "source": [
    "res = pixels.map(lambda a: (a,mandelbrot((a[1]/500.0) - 2,(a[0]/500.0) - 2)))"
   ]
  },
  {
   "cell_type": "code",
   "execution_count": 5,
   "metadata": {
    "collapsed": false
   },
   "outputs": [
    {
     "data": {
      "text/plain": [
       "((99, 599), 1)"
      ]
     },
     "execution_count": 5,
     "metadata": {},
     "output_type": "execute_result"
    }
   ],
   "source": [
    "res.take(100000)[99999]"
   ]
  },
  {
   "cell_type": "code",
   "execution_count": 7,
   "metadata": {
    "collapsed": false
   },
   "outputs": [],
   "source": [
    "draw_image(res)"
   ]
  },
  {
   "cell_type": "code",
   "execution_count": 8,
   "metadata": {
    "collapsed": false
   },
   "outputs": [],
   "source": [
    "a = sum_values_for_partitions(res)"
   ]
  },
  {
   "cell_type": "code",
   "execution_count": 9,
   "metadata": {
    "collapsed": false
   },
   "outputs": [
    {
     "name": "stdout",
     "output_type": "stream",
     "text": [
      "[0, 0, 12530, 30272, 38539, 38559, 30334, 12646, 0, 0, 0, 21703, 44580, 51524, 49220, 40890, 40000, 40000, 21902, 0, 13876, 65497, 81625, 108174, 1164982, 123094, 51270, 40000, 40000, 12729, 53393, 95278, 140141, 4318918, 15667522, 8034422, 108278, 44877, 40000, 30472, 165543, 1853143, 12188031, 16849344, 20440000, 18596168, 224934, 57818, 40000, 38739, 266888, 1954388, 12289026, 16893985, 20440000, 18576975, 224845, 57852, 40000, 38759, 53570, 95833, 140875, 4375631, 15720793, 8117946, 108684, 44943, 40000, 30534, 14042, 65698, 81721, 108507, 1213364, 123809, 51443, 40000, 40000, 12846, 0, 21902, 44751, 51724, 49420, 40961, 40000, 40000, 22102, 0, 0, 0, 12729, 30472, 38739, 38759, 30534, 12846, 0, 0]\n"
     ]
    }
   ],
   "source": [
    "print a.collect()"
   ]
  },
  {
   "cell_type": "code",
   "execution_count": 25,
   "metadata": {
    "collapsed": false
   },
   "outputs": [
    {
     "data": {
      "text/plain": [
       "[(0, 0),\n",
       " (0, 1),\n",
       " (0, 2),\n",
       " (0, 3),\n",
       " (0, 4),\n",
       " (0, 5),\n",
       " (0, 6),\n",
       " (0, 7),\n",
       " (0, 8),\n",
       " (0, 9)]"
      ]
     },
     "execution_count": 25,
     "metadata": {},
     "output_type": "execute_result"
    }
   ],
   "source": [
    "# with better partitioning\n",
    "rdd1 = np.arange(2000)\n",
    "rdd2 = np.arange(2000)\n",
    "\n",
    "\n",
    "\n",
    "rdd1 = sc.parallelize(rdd1, 10)\n",
    "rdd2 = sc.parallelize(rdd2, 10)\n",
    "\n",
    "pixels = rdd1.cartesian(rdd2)\n",
    "\n",
    "pixels = pixels.partitionBy(100)\n",
    "pixels.take(10)"
   ]
  },
  {
   "cell_type": "code",
   "execution_count": 27,
   "metadata": {
    "collapsed": false
   },
   "outputs": [
    {
     "data": {
      "text/plain": [
       "[2242101,\n",
       " 2103922,\n",
       " 2107226,\n",
       " 2107138,\n",
       " 2106167,\n",
       " 2111804,\n",
       " 2111805,\n",
       " 2110115,\n",
       " 2113588,\n",
       " 2110242,\n",
       " 2105187,\n",
       " 2104279,\n",
       " 2098813,\n",
       " 2104091,\n",
       " 2104658,\n",
       " 2100929,\n",
       " 2096582,\n",
       " 2089608,\n",
       " 2081223,\n",
       " 2081507,\n",
       " 2071540,\n",
       " 2066802,\n",
       " 2059935,\n",
       " 2050088,\n",
       " 2030870,\n",
       " 2020086,\n",
       " 2003124,\n",
       " 2002882,\n",
       " 2000581,\n",
       " 1992244,\n",
       " 1983171,\n",
       " 1980599,\n",
       " 1977032,\n",
       " 1970773,\n",
       " 1967248,\n",
       " 1967610,\n",
       " 1965877,\n",
       " 1964151,\n",
       " 1954939,\n",
       " 1949748,\n",
       " 1942840,\n",
       " 1941520,\n",
       " 1946390,\n",
       " 1945111,\n",
       " 1944881,\n",
       " 1943169,\n",
       " 1941603,\n",
       " 1940910,\n",
       " 1942052,\n",
       " 1941388,\n",
       " 1940622,\n",
       " 1941388,\n",
       " 1942050,\n",
       " 1940910,\n",
       " 1941590,\n",
       " 1943169,\n",
       " 1944881,\n",
       " 1945111,\n",
       " 1946441,\n",
       " 1941519,\n",
       " 1942840,\n",
       " 1949748,\n",
       " 1954939,\n",
       " 1964151,\n",
       " 1965877,\n",
       " 1967609,\n",
       " 1967248,\n",
       " 1970773,\n",
       " 1977037,\n",
       " 1980599,\n",
       " 1983171,\n",
       " 1992245,\n",
       " 2000581,\n",
       " 2002882,\n",
       " 2003124,\n",
       " 2019973,\n",
       " 2030870,\n",
       " 2050088,\n",
       " 2059935,\n",
       " 2066802,\n",
       " 2071540,\n",
       " 2081508,\n",
       " 2081223,\n",
       " 2089608,\n",
       " 2096716,\n",
       " 2100929,\n",
       " 2104658,\n",
       " 2104092,\n",
       " 2098813,\n",
       " 2104279,\n",
       " 2105187,\n",
       " 2110223,\n",
       " 2113588,\n",
       " 2110115,\n",
       " 2111805,\n",
       " 2111804,\n",
       " 2106167,\n",
       " 2107138,\n",
       " 2107226,\n",
       " 2103922]"
      ]
     },
     "execution_count": 27,
     "metadata": {},
     "output_type": "execute_result"
    }
   ],
   "source": [
    "res = pixels.map(lambda a: (a,mandelbrot((a[1]/500.0) - 2,(a[0]/500.0) - 2)))\n",
    "draw_image(res)\n",
    "b = sum_values_for_partitions(res)\n",
    "b.collect()"
   ]
  },
  {
   "cell_type": "code",
   "execution_count": null,
   "metadata": {
    "collapsed": true
   },
   "outputs": [],
   "source": []
  }
 ],
 "metadata": {
  "kernelspec": {
   "display_name": "Python 2",
   "language": "python",
   "name": "python2"
  },
  "language_info": {
   "codemirror_mode": {
    "name": "ipython",
    "version": 2
   },
   "file_extension": ".py",
   "mimetype": "text/x-python",
   "name": "python",
   "nbconvert_exporter": "python",
   "pygments_lexer": "ipython2",
   "version": "2.7.10"
  }
 },
 "nbformat": 4,
 "nbformat_minor": 0
}
