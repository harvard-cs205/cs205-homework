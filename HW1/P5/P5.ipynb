{
 "cells": [
  {
   "cell_type": "code",
   "execution_count": 1,
   "metadata": {
    "collapsed": true
   },
   "outputs": [],
   "source": [
    "import numpy as np\n",
    "import findspark\n",
    "findspark.init()\n",
    "\n",
    "import pyspark\n",
    "sc = pyspark.SparkContext(appName=\"Spark1\")\n"
   ]
  },
  {
   "cell_type": "code",
   "execution_count": 3,
   "metadata": {
    "collapsed": true
   },
   "outputs": [],
   "source": [
    "# Building the graph of the links to(page_id, [to_id])\n",
    "links = sc.textFile('links-simple-sorted.txt')\n",
    "link_to_graph = links.map(lambda line: (int(line.split(':')[0]),\n",
    "                          [int(v) for v in line.split(':')[1].split(' ')[1:]]))\\\n",
    "    .partitionBy(64).cache()"
   ]
  },
  {
   "cell_type": "code",
   "execution_count": 35,
   "metadata": {
    "collapsed": true
   },
   "outputs": [],
   "source": [
    "page_names = sc.textFile('titles-sorted.txt')\n",
    "page_names = page_names.zipWithIndex().mapValues(lambda v: v + 1).partitionBy(64).cache()\n"
   ]
  },
  {
   "cell_type": "code",
   "execution_count": 80,
   "metadata": {
    "collapsed": false
   },
   "outputs": [],
   "source": [
    "\n",
    "# ## Part A\n",
    "\n",
    "def get_path(x):\n",
    "    value = list(x[1])\n",
    "    length = [len(n) for n in value]\n",
    "    ind = min(length)\n",
    "    path = value[length.index(ind)]\n",
    "    return (x[0], path)\n",
    "\n",
    "\n",
    "def check_target(x, acc):\n",
    "    if x[0] == target:\n",
    "        acc.add(1)\n",
    "\n",
    "\n",
    "def shortest_path(graph, root, target, partitions=64):\n",
    "    '''\n",
    "    Return the shortest_path as a list between the root and the target of the\n",
    "    graph if the two are connected.\n",
    "    Otherwise it returns an empty list.\n",
    "    '''\n",
    "    # Initialization\n",
    "    i = 0\n",
    "    target_found = graph.context.accumulator(0)\n",
    "    response = []\n",
    "\n",
    "    # Graph used to store the next nodes to visit.\n",
    "    # Format is (name, (path_from_root, neighbors))\n",
    "    next_nodes = graph.filter(lambda x: x[0] == root)\\\n",
    "        .mapValues(lambda v: ([], v))\n",
    "    # Graph used to store the path from the root for all visited nodes.\n",
    "    # Format is (name, path_from_root)\n",
    "    path = graph.context.parallelize([(root, [])]).partitionBy(partitions)\n",
    "    while target_found.value == 0:\n",
    "        print(\"Loop number {}\".format(i))\n",
    "        # Visiting the neighbors of the Nodes in the subgraph current and\n",
    "        # updating their distance.\n",
    "        visiting = next_nodes\\\n",
    "            .flatMap(lambda x: [(n, x[1][0] + [x[0]]) for n in list(x[1][1])])\\\n",
    "            .partitionBy(partitions)\n",
    "        path = visiting.union(path)\\\n",
    "            .groupByKey().map(get_path).partitionBy(partitions)\n",
    "        i += 1\n",
    "        # Getting only the current visited nodes (not previously visited)\n",
    "        visiting_ = path.filter(lambda x: len(x[1]) == i)\n",
    "        # Check if target hit\n",
    "        visiting_.foreach(lambda x: check_target(x, target_found))\n",
    "        # Getting the list of the neighbors of the current nodes as values.\n",
    "        next_nodes = visiting_.join(graph)\n",
    "        # Correct path if target has been found\n",
    "        response = path.filter(lambda x: x[0] == target)\n",
    "    return response\n",
    "\n",
    "\n",
    "# Printing the paths with names:\n",
    "def get_name(node_id):\n",
    "    return page_names.filter(lambda x: x[1] == node_id).keys().take(1)[0]\n",
    "\n",
    "\n",
    "def get_path_names(path):\n",
    "    path_list = []\n",
    "    node, parents = path.collect()[0]\n",
    "    for p in parents:\n",
    "        path_list.append(get_name(p))\n",
    "    path_list.append(get_name(node))\n",
    "    return path_list\n"
   ]
  },
  {
   "cell_type": "code",
   "execution_count": 81,
   "metadata": {
    "collapsed": false
   },
   "outputs": [],
   "source": [
    "# ## Example\n",
    "root_name = 'Kevin_Bacon'\n",
    "target_name = 'Harvard_University'\n",
    "\n",
    "root = page_names.lookup(root_name)[0]\n",
    "target = page_names.lookup(target_name)[0]"
   ]
  },
  {
   "cell_type": "code",
   "execution_count": 82,
   "metadata": {
    "collapsed": false
   },
   "outputs": [
    {
     "name": "stdout",
     "output_type": "stream",
     "text": [
      "Loop number 0\n",
      "Loop number 1\n",
      "CPU times: user 96.6 ms, sys: 25 ms, total: 122 ms\n",
      "Wall time: 1min 16s\n"
     ]
    }
   ],
   "source": [
    "%time path = shortest_path(link_to_graph, root, target)\n"
   ]
  },
  {
   "cell_type": "code",
   "execution_count": 83,
   "metadata": {
    "collapsed": true
   },
   "outputs": [],
   "source": [
    "path_names = get_path_names(path)\n"
   ]
  },
  {
   "cell_type": "code",
   "execution_count": 84,
   "metadata": {
    "collapsed": false
   },
   "outputs": [
    {
     "name": "stdout",
     "output_type": "stream",
     "text": [
      "[u'Kevin_Bacon', u'Marisa_Silver', u'Harvard_University']\n"
     ]
    }
   ],
   "source": [
    "print path_names"
   ]
  },
  {
   "cell_type": "code",
   "execution_count": null,
   "metadata": {
    "collapsed": true
   },
   "outputs": [],
   "source": []
  }
 ],
 "metadata": {
  "kernelspec": {
   "display_name": "Python 2",
   "language": "python",
   "name": "python2"
  },
  "language_info": {
   "codemirror_mode": {
    "name": "ipython",
    "version": 2
   },
   "file_extension": ".py",
   "mimetype": "text/x-python",
   "name": "python",
   "nbconvert_exporter": "python",
   "pygments_lexer": "ipython2",
   "version": "2.7.9"
  }
 },
 "nbformat": 4,
 "nbformat_minor": 0
}
