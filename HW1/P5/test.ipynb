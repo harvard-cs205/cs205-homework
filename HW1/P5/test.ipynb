{
 "cells": [
  {
   "cell_type": "code",
   "execution_count": 1,
   "metadata": {
    "collapsed": true
   },
   "outputs": [],
   "source": [
    "# (c) 2015 L.Spiegelberg\n",
    "# this file contains code, to automatically find a shortest path between two given nodes\n",
    "# and outputs all possible paths as a list to output.txt\n",
    "import findspark\n",
    "findspark.init()\n",
    "from pyspark import SparkContext, SparkConf\n",
    "import matplotlib.ticker as ticker   \n",
    "import pandas as pd\n",
    "\n",
    "import seaborn as sns\n",
    "sns.set_style('whitegrid')\n",
    "\n",
    "# shortest path code is in this module\n",
    "from P5_sssp import *\n",
    "\n",
    "# setup spark\n",
    "conf = SparkConf().setAppName('WikiGraph')\n",
    "sc = SparkContext(conf=conf, pyFiles=['P5_sssp.py'])\n",
    "sc.setLogLevel('ERROR')\n",
    "\n",
    "# function to prepare two rdds, one holding the graph, the other for later use as a dictionary\n",
    "def prepareWikiGraph(titlefile, linksfile):\n",
    "\n",
    "\trddTitles = sc.textFile(titlefile)\n",
    "\trddGraph = sc.textFile(linksfile)\n",
    "\n",
    "\t# title file has structure v: v0, ...., v_d\n",
    "\t# simple mapping will give the rdd structure\n",
    "\t# (v, [v_1, ..., v_d]) as needed by the sssp algorithm\n",
    "\trddGraph = rddGraph.map(lambda x: x.replace(':', '').split(' ')) \\\n",
    "\t\t\t\t\t   .map(lambda x: (int(x[0]), [int(y) for y in x[1:]]))\n",
    "\n",
    "\t# note that for the wikigraph everything is 1-indexed\n",
    "\t# dictionary has structure ('a wiki title', 23)\n",
    "\trddTitles = rddTitles.zipWithIndex().map(lambda x: (x[0], x[1] + 1)).cache()\n",
    "\treturn rddGraph, rddTitles\n",
    "\n",
    "# helper function to lookup given the titles dictionary a vertex\n",
    "def vertexByTitle(rddTitles, keyString):\n",
    "\n",
    "\t# lookup a title (its index)\n",
    "\t# (if there are more, use only first result --> passed rdd should be a dict!)\n",
    "\treturn rddTitles.filter(lambda x: x[0] == keyString).collect()[0][1]\n",
    "\n",
    "# helper function to convert sssp output to readable paths\n",
    "# returns a list of tuples, where each tuple represents a graph\n",
    "def convertPathsToHuman(rddPaths, rddTitles):\n",
    "\n",
    "\trddLookup = rddPaths.zipWithIndex() \\\n",
    "\t\t\t\t\t\t.flatMap(lambda x: [(y, (x[1]+1, i)) for i, y in enumerate(x[0], 1)])\n",
    "\n",
    "\t# for better performance on join, filter the large dictionary\n",
    "\t# therefore extract all the important nodes!\n",
    "\trddLookup.cache()\n",
    "\tnodesOfInterest = rddPaths.flatMap(lambda x: x).distinct().collect()\n",
    "\tselectedTitles = rddTitles.filter(lambda x: x[1] in nodesOfInterest).map(lambda x: (x[1], x[0]))\n",
    "\n",
    "\tpathList = rddLookup.zipWithIndex() \\\n",
    "\t         \t\t \t.flatMap(lambda x: [(y, (x[1]+1, i)) for i, y in enumerate(x[0], 1)]) \\\n",
    "\t         \t\t\t.join(selectedTitles) \\\n",
    "\t         \t\t\t.map(lambda x: (x[1][0][0], (x[1][0][1], x[1][1]))) \\\n",
    "\t         \t\t\t.groupByKey().map(lambda x: zip(*sorted(list(x[1])))[1]).collect()\n",
    "         \n",
    "\treturn pathList\n",
    "\n",
    "# paths to the big data files\n",
    "datapath = '../../../../../courses/CS205_Computing_Foundations/data/'\n",
    "titlespath = datapath + 'titles-sorted.txt'\n",
    "linkspath = datapath + 'links-simple-sorted.txt'\n",
    "\n",
    "# setup initial rdds\n",
    "rddGraph, rddTitles = prepareWikiGraph(titlespath, linkspath)\n",
    "\n",
    "# cache the graph\n",
    "rddGraph = rddGraph.cache()\n",
    "\n",
    "startTitle  = 'Kevin_Bacon'\n",
    "targetTitle = 'Harvard_University'\n",
    "\n",
    "v0 = vertexByTitle(rddTitles, startTitle)\n",
    "vT = vertexByTitle(rddTitles, targetTitle)\n",
    "\n",
    "\n",
    "# call shortest paths (limit iterations to 20)\n",
    "max_iterations = 20\n",
    "\n",
    "num_visited_nodes, rddPaths = sparkSSSP(sc, rddGraph, v0, vT, max_iterations)\n",
    "\n",
    "# convert paths to human readable format\n",
    "shortestPaths = convertPathsToHuman(rddPaths, rddTitles)\n",
    "\n",
    "# write output to file\n",
    "with open('output.txt', 'wb') as f:\n",
    "    f.write('Shortest paths from %s to %s:\\n\\n' % (startTitle, targetTitle))\n",
    "    for path in shortestPaths:\n",
    "            path = list(path) \n",
    "            f.write(path[0])\n",
    "            for node in path[1:]:\n",
    "                f.write(' -> ' + node)\n",
    "            f.write('\\n')\n",
    "\n",
    "\n",
    "\n"
   ]
  },
  {
   "cell_type": "code",
   "execution_count": 3,
   "metadata": {
    "collapsed": false
   },
   "outputs": [
    {
     "data": {
      "text/plain": [
       "PythonRDD[47] at RDD at PythonRDD.scala:43"
      ]
     },
     "execution_count": 3,
     "metadata": {},
     "output_type": "execute_result"
    }
   ],
   "source": [
    "rddPaths.cache()\n"
   ]
  },
  {
   "cell_type": "code",
   "execution_count": 20,
   "metadata": {
    "collapsed": true
   },
   "outputs": [],
   "source": [
    "# for better performance on join, filter the large dictionary\n",
    "# therefore extract all the important nodes!\n",
    "rddLookup.cache()\n",
    "nodesOfInterest = rddPaths.flatMap(lambda x: x).distinct().collect()\n",
    "selectedTitles = rddTitles.filter(lambda x: x[1] in nodesOfInterest).map(lambda x: (x[1], x[0]))\n",
    "\n",
    "pathList = rddPaths.zipWithIndex() \\\n",
    "                    .flatMap(lambda x: [(y, (x[1]+1, i)) for i, y in enumerate(x[0], 1)]) \\\n",
    "                    .join(selectedTitles) \\\n",
    "                    .map(lambda x: (x[1][0][0], (x[1][0][1], x[1][1]))) \\\n",
    "                    .groupByKey().map(lambda x: zip(*sorted(list(x[1])))[1]).collect()"
   ]
  },
  {
   "cell_type": "code",
   "execution_count": 21,
   "metadata": {
    "collapsed": false
   },
   "outputs": [
    {
     "data": {
      "text/plain": [
       "[(u'Kevin_Bacon', u'Marisa_Silver', u'Harvard_University'),\n",
       " (u'Kevin_Bacon', u'Six_degrees_of_separation', u'Harvard_University'),\n",
       " (u'Kevin_Bacon', u'John_Lithgow', u'Harvard_University'),\n",
       " (u'Kevin_Bacon', u'Time_(magazine)', u'Harvard_University'),\n",
       " (u'Kevin_Bacon', u'College_Bowl', u'Harvard_University')]"
      ]
     },
     "execution_count": 21,
     "metadata": {},
     "output_type": "execute_result"
    }
   ],
   "source": [
    "pathList"
   ]
  },
  {
   "cell_type": "code",
   "execution_count": 11,
   "metadata": {
    "collapsed": false
   },
   "outputs": [
    {
     "data": {
      "text/plain": [
       "[(2729536, (1, 1)),\n",
       " ((1, 1), (1, 2)),\n",
       " (3229511, (2, 1)),\n",
       " ((1, 2), (2, 2)),\n",
       " (2152782, (3, 1)),\n",
       " ((1, 3), (3, 2)),\n",
       " (2729536, (4, 1)),\n",
       " ((2, 1), (4, 2)),\n",
       " (4625677, (5, 1)),\n",
       " ((2, 2), (5, 2)),\n",
       " (2152782, (6, 1)),\n",
       " ((2, 3), (6, 2)),\n",
       " (2729536, (7, 1)),\n",
       " ((3, 1), (7, 2)),\n",
       " (2578703, (8, 1)),\n",
       " ((3, 2), (8, 2)),\n",
       " (2152782, (9, 1)),\n",
       " ((3, 3), (9, 2)),\n",
       " (2729536, (10, 1)),\n",
       " ((4, 1), (10, 2)),\n",
       " (5114592, (11, 1)),\n",
       " ((4, 2), (11, 2)),\n",
       " (2152782, (12, 1)),\n",
       " ((4, 3), (12, 2)),\n",
       " (2729536, (13, 1)),\n",
       " ((5, 1), (13, 2)),\n",
       " (1124925, (14, 1)),\n",
       " ((5, 2), (14, 2)),\n",
       " (2152782, (15, 1)),\n",
       " ((5, 3), (15, 2))]"
      ]
     },
     "execution_count": 11,
     "metadata": {},
     "output_type": "execute_result"
    }
   ],
   "source": [
    "rddLookup.zipWithIndex() \\\n",
    "                    .flatMap(lambda x: [(y, (x[1]+1, i)) for i, y in enumerate(x[0], 1)]).collect()\n",
    "                    #.join(selectedTitles) \\\n",
    "                    #.map(lambda x: (x[1][0][0], (x[1][0][1], x[1][1]))).collect() \n",
    "                    #.groupByKey().map(lambda x: (list(x[1]))).collect()"
   ]
  },
  {
   "cell_type": "code",
   "execution_count": null,
   "metadata": {
    "collapsed": true
   },
   "outputs": [],
   "source": []
  }
 ],
 "metadata": {
  "kernelspec": {
   "display_name": "Python 2",
   "language": "python",
   "name": "python2"
  },
  "language_info": {
   "codemirror_mode": {
    "name": "ipython",
    "version": 2
   },
   "file_extension": ".py",
   "mimetype": "text/x-python",
   "name": "python",
   "nbconvert_exporter": "python",
   "pygments_lexer": "ipython2",
   "version": "2.7.10"
  }
 },
 "nbformat": 4,
 "nbformat_minor": 0
}
