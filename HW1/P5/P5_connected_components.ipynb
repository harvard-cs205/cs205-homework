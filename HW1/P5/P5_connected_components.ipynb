{
 "cells": [
  {
   "cell_type": "code",
   "execution_count": null,
   "metadata": {
    "collapsed": true
   },
   "outputs": [],
   "source": [
    "import pyspark \n",
    "\n",
    "# This code is borrowed from Ray's github\n",
    "def link_string_to_KV(s):\n",
    "    src, dests = s.split(': ')\n",
    "    dests = [int(to) for to in dests.split(' ')]\n",
    "    return (int(src), set(dests))\n",
    "\n",
    "sc = pyspark.SparkContext()\n",
    "sc.setLogLevel('WARN')\n",
    "\n",
    "links = sc.textFile('s3://Harvard-CS205/wikipedia/links-simple-sorted.txt', 32)\n",
    "page_names = sc.textFile('s3://Harvard-CS205/wikipedia/titles-sorted.txt', 32)\n",
    "\n",
    "n_parts = 256\n",
    "# process links into (node #, [neighbor node #, neighbor node #, ...]\n",
    "neighbor_graph = links.map(link_string_to_KV)\n",
    "neighbor_graph = neighbor_graph.partitionBy(n_parts).cache()"
   ]
  },
  {
   "cell_type": "code",
   "execution_count": null,
   "metadata": {
    "collapsed": true
   },
   "outputs": [],
   "source": [
    "# Generate the single link and double link graphs\n",
    "reverse_graph = (neighbor_graph.flatMap(lambda x: [(y, x[0]) for y in x[1]])\n",
    "                 .groupByKey()\n",
    "                 .mapValues(set))\n",
    "reverse_join = neighbor_graph.join(reverse_graph).cache()\n",
    "\n",
    "# print('Creating single link graph')\n",
    "# graph_sing_link = reverse_join.mapValues(lambda x: x[0].union(x[1]))\n",
    "\n",
    "print('Creating doubly link graph')\n",
    "graph_double_link = reverse_join.mapValues(lambda x: x[0].intersection(x[1])).cache()\n",
    "print('Finished creating doubly link graph')"
   ]
  },
  {
   "cell_type": "code",
   "execution_count": null,
   "metadata": {
    "collapsed": true
   },
   "outputs": [],
   "source": [
    "# Import functions derived from Marvel graph computations\n",
    "from P5 import *\n",
    "\n",
    "# connected_hist_sing_link = find_connect_comp(sc, graph_sing_link, n_parts)\n",
    "connected_hist_doub_link = find_connect_comp(sc, graph_double_link, n_parts)"
   ]
  },
  {
   "cell_type": "code",
   "execution_count": null,
   "metadata": {
    "collapsed": true
   },
   "outputs": [],
   "source": [
    "# print(len(connected_hist_sing_link), max([x[1] for x in connected_hist_sing_link]))\n",
    "print(len(connected_hist_doub_link), max([x[1] for x in connected_hist_doub_link]))"
   ]
  }
 ],
 "metadata": {
  "kernelspec": {
   "display_name": "Python 2",
   "language": "python",
   "name": "python2"
  },
  "language_info": {
   "codemirror_mode": {
    "name": "ipython",
    "version": 2
   },
   "file_extension": ".py",
   "mimetype": "text/x-python",
   "name": "python",
   "nbconvert_exporter": "python",
   "pygments_lexer": "ipython2",
   "version": "2.7.6"
  }
 },
 "nbformat": 4,
 "nbformat_minor": 0
}
