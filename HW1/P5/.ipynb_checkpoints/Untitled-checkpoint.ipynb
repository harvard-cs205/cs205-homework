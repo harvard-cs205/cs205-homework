{
 "cells": [
  {
   "cell_type": "code",
   "execution_count": 1,
   "metadata": {
    "collapsed": true
   },
   "outputs": [],
   "source": [
    "import time\n",
    "import numpy as np\n",
    "import matplotlib.pyplot as plt \n",
    "import matplotlib.cm as cm\n",
    "import findspark\n",
    "findspark.init()\n",
    "\n",
    "import pyspark\n",
    "sc = pyspark.SparkContext(appName = \"Spark\")"
   ]
  },
  {
   "cell_type": "code",
   "execution_count": 2,
   "metadata": {
    "collapsed": true
   },
   "outputs": [],
   "source": [
    "text = sc.textFile(\"test.txt\") "
   ]
  },
  {
   "cell_type": "code",
   "execution_count": 20,
   "metadata": {
    "collapsed": false
   },
   "outputs": [],
   "source": [
    "def link_string_to_KV(s):\n",
    "    src, dests = s.split(': ')\n",
    "    dests = [to.encode('utf-8') for to in dests.split(' ')]\n",
    "    return (src.encode('utf-8'), dests)"
   ]
  },
  {
   "cell_type": "code",
   "execution_count": 21,
   "metadata": {
    "collapsed": false
   },
   "outputs": [],
   "source": [
    "neighbor_graph = text.map(link_string_to_KV)"
   ]
  },
  {
   "cell_type": "code",
   "execution_count": 22,
   "metadata": {
    "collapsed": false
   },
   "outputs": [
    {
     "data": {
      "text/plain": [
       "[('1', ['2', '3']),\n",
       " ('2', ['1', '4', '5']),\n",
       " ('3', ['6', '7']),\n",
       " ('4', ['1', '8', '9']),\n",
       " ('5', ['3', '2', '1']),\n",
       " ('6', ['3', '5', '9']),\n",
       " ('7', ['8']),\n",
       " ('8', ['10']),\n",
       " ('9', ['1', '2']),\n",
       " ('10', ['8'])]"
      ]
     },
     "execution_count": 22,
     "metadata": {},
     "output_type": "execute_result"
    }
   ],
   "source": [
    "neighbor_graph.collect()"
   ]
  },
  {
   "cell_type": "code",
   "execution_count": 23,
   "metadata": {
    "collapsed": true
   },
   "outputs": [],
   "source": [
    "edge_list = neighbor_graph.flatMap(lambda (K,V): [(K,V[i]) for i in range(len(V))])"
   ]
  },
  {
   "cell_type": "code",
   "execution_count": 24,
   "metadata": {
    "collapsed": false
   },
   "outputs": [
    {
     "data": {
      "text/plain": [
       "[('1', '2'),\n",
       " ('1', '3'),\n",
       " ('2', '1'),\n",
       " ('2', '4'),\n",
       " ('2', '5'),\n",
       " ('3', '6'),\n",
       " ('3', '7'),\n",
       " ('4', '1'),\n",
       " ('4', '8'),\n",
       " ('4', '9'),\n",
       " ('5', '3'),\n",
       " ('5', '2'),\n",
       " ('5', '1'),\n",
       " ('6', '3'),\n",
       " ('6', '5'),\n",
       " ('6', '9'),\n",
       " ('7', '8'),\n",
       " ('8', '10'),\n",
       " ('9', '1'),\n",
       " ('9', '2'),\n",
       " ('10', '8')]"
      ]
     },
     "execution_count": 24,
     "metadata": {},
     "output_type": "execute_result"
    }
   ],
   "source": [
    "edge_list.collect()"
   ]
  },
  {
   "cell_type": "code",
   "execution_count": 10,
   "metadata": {
    "collapsed": true
   },
   "outputs": [],
   "source": [
    "def bfs2(edgelist,SH,dmax):\n",
    "    global accum \n",
    "    dis = 1\n",
    "    accum = sc.accumulator(1)\n",
    "    \n",
    "    def increase_accum(x):\n",
    "        global accum\n",
    "        accum += 1\n",
    "        \n",
    "    nextneigh = sc.parallelize([(SH,0)])\n",
    "    distance = sc.parallelize([(SH,0)])\n",
    "    \n",
    "    while dis <= dmax:\n",
    "        oldaccum = accum.value\n",
    "        nextneigh = edgelist.join(nextneigh).partitionBy(8).mapValues(lambda V: (V[0],V[1]+1)).values().distinct().subtractByKey(distance)\n",
    "        nextneigh.foreach(increase_accum)\n",
    "        if oldaccum == accum.value:\n",
    "            break\n",
    "        distance = distance.union(nextneigh).cache()\n",
    "        dis += 1\n",
    "        \n",
    "    return oldaccum,distance"
   ]
  },
  {
   "cell_type": "code",
   "execution_count": 76,
   "metadata": {
    "collapsed": false
   },
   "outputs": [
    {
     "data": {
      "text/plain": [
       "[('1', 0),\n",
       " ('3', 1),\n",
       " ('2', 1),\n",
       " ('6', 2),\n",
       " ('4', 2),\n",
       " ('7', 2),\n",
       " ('5', 2),\n",
       " ('9', 3),\n",
       " ('8', 3),\n",
       " ('10', 4)]"
      ]
     },
     "execution_count": 76,
     "metadata": {},
     "output_type": "execute_result"
    }
   ],
   "source": [
    "bfs2(edge_list,'1',10)[1].collect()"
   ]
  },
  {
   "cell_type": "code",
   "execution_count": 141,
   "metadata": {
    "collapsed": false
   },
   "outputs": [],
   "source": [
    "edgelist = edge_list\n",
    "dis = 1\n",
    "nextneigh = sc.parallelize([('1',0)])\n",
    "distance = sc.parallelize([('1',0)])"
   ]
  },
  {
   "cell_type": "code",
   "execution_count": 29,
   "metadata": {
    "collapsed": false
   },
   "outputs": [
    {
     "data": {
      "text/plain": [
       "[('1', 0)]"
      ]
     },
     "execution_count": 29,
     "metadata": {},
     "output_type": "execute_result"
    }
   ],
   "source": [
    "nextneigh.collect()"
   ]
  },
  {
   "cell_type": "code",
   "execution_count": 47,
   "metadata": {
    "collapsed": true
   },
   "outputs": [],
   "source": [
    "nextneigh = edgelist.join(nextneigh).partitionBy(8).mapValues(lambda V: (V[0],V[1]+1)).values().distinct().subtractByKey(distance)"
   ]
  },
  {
   "cell_type": "code",
   "execution_count": 48,
   "metadata": {
    "collapsed": false
   },
   "outputs": [
    {
     "data": {
      "text/plain": [
       "[]"
      ]
     },
     "execution_count": 48,
     "metadata": {},
     "output_type": "execute_result"
    }
   ],
   "source": [
    "nextneigh.collect()"
   ]
  },
  {
   "cell_type": "code",
   "execution_count": 45,
   "metadata": {
    "collapsed": true
   },
   "outputs": [],
   "source": [
    "distance = distance.union(nextneigh)"
   ]
  },
  {
   "cell_type": "code",
   "execution_count": 46,
   "metadata": {
    "collapsed": false
   },
   "outputs": [
    {
     "data": {
      "text/plain": [
       "[('1', 0),\n",
       " ('3', 1),\n",
       " ('2', 1),\n",
       " ('6', 2),\n",
       " ('4', 2),\n",
       " ('7', 2),\n",
       " ('5', 2),\n",
       " ('9', 3),\n",
       " ('8', 3),\n",
       " ('10', 4)]"
      ]
     },
     "execution_count": 46,
     "metadata": {},
     "output_type": "execute_result"
    }
   ],
   "source": [
    "distance.collect()"
   ]
  },
  {
   "cell_type": "code",
   "execution_count": 245,
   "metadata": {
    "collapsed": false
   },
   "outputs": [],
   "source": [
    "global accum \n",
    "dis = 1\n",
    "accum = sc.accumulator(1)\n",
    "    \n",
    "def increase_accum(x):\n",
    "    global accum\n",
    "    accum += 1\n",
    "        \n",
    "nextneigh = sc.parallelize([('1',0)])\n",
    "distance = sc.parallelize([('1',0)])\n",
    "paths = sc.parallelize([('1',0)])"
   ]
  },
  {
   "cell_type": "code",
   "execution_count": 132,
   "metadata": {
    "collapsed": false
   },
   "outputs": [
    {
     "data": {
      "text/plain": [
       "1"
      ]
     },
     "execution_count": 132,
     "metadata": {},
     "output_type": "execute_result"
    }
   ],
   "source": [
    "accum.value"
   ]
  },
  {
   "cell_type": "code",
   "execution_count": 251,
   "metadata": {
    "collapsed": false
   },
   "outputs": [],
   "source": [
    "oldaccum = accum.value\n",
    "temp = edgelist.join(nextneigh).partitionBy(8)\n",
    "nextneigh = temp.mapValues(lambda V: (V[0],V[1]+1)).values().distinct().subtractByKey(distance)\n",
    "nextneigh.foreach(increase_accum)        "
   ]
  },
  {
   "cell_type": "code",
   "execution_count": 256,
   "metadata": {
    "collapsed": false
   },
   "outputs": [],
   "source": [
    "temp.collect()\n",
    "temp2 = temp.map(lambda (K,V): (V[0],K)).subtractByKey(distance).map(lambda (K,V): (V,K))"
   ]
  },
  {
   "cell_type": "code",
   "execution_count": 257,
   "metadata": {
    "collapsed": false
   },
   "outputs": [],
   "source": [
    "paths = temp2.join(paths).map(lambda (K,V): swap((K,V)))"
   ]
  },
  {
   "cell_type": "code",
   "execution_count": 222,
   "metadata": {
    "collapsed": true
   },
   "outputs": [],
   "source": [
    "def swap((K,V)):\n",
    "    V = list(V)\n",
    "    return (V[0],[K]+V[1:])\n",
    "temp2 = temp.map(lambda (K,V): swap((K,V)))"
   ]
  },
  {
   "cell_type": "code",
   "execution_count": 260,
   "metadata": {
    "collapsed": false
   },
   "outputs": [
    {
     "data": {
      "text/plain": [
       "[('7', (['3', ['1', 0]], 0))]"
      ]
     },
     "execution_count": 260,
     "metadata": {},
     "output_type": "execute_result"
    }
   ],
   "source": [
    "paths.join(sc.parallelize([('7',0)])).collect()"
   ]
  },
  {
   "cell_type": "code",
   "execution_count": 223,
   "metadata": {
    "collapsed": false
   },
   "outputs": [
    {
     "data": {
      "text/plain": [
       "[('6', ['3', 1]),\n",
       " ('7', ['3', 1]),\n",
       " ('1', ['2', 1]),\n",
       " ('4', ['2', 1]),\n",
       " ('5', ['2', 1])]"
      ]
     },
     "execution_count": 223,
     "metadata": {},
     "output_type": "execute_result"
    }
   ],
   "source": [
    "temp2.collect()"
   ]
  },
  {
   "cell_type": "code",
   "execution_count": 147,
   "metadata": {
    "collapsed": false
   },
   "outputs": [],
   "source": [
    "t = distance.cartesian(nextneigh)"
   ]
  },
  {
   "cell_type": "code",
   "execution_count": 149,
   "metadata": {
    "collapsed": false
   },
   "outputs": [
    {
     "data": {
      "text/plain": [
       "[((('1', 0), ('3', 1)), ('3', 1)),\n",
       " ((('1', 0), ('3', 1)), ('2', 1)),\n",
       " ((('1', 0), ('2', 1)), ('3', 1)),\n",
       " ((('1', 0), ('2', 1)), ('2', 1))]"
      ]
     },
     "execution_count": 149,
     "metadata": {},
     "output_type": "execute_result"
    }
   ],
   "source": [
    "t.cartesian(nextneigh).collect()"
   ]
  },
  {
   "cell_type": "code",
   "execution_count": 126,
   "metadata": {
    "collapsed": false
   },
   "outputs": [
    {
     "name": "stdout",
     "output_type": "stream",
     "text": [
      "yes\n"
     ]
    }
   ],
   "source": [
    "if oldaccum == accum.value:\n",
    "    print 'yes'\n",
    "else:\n",
    "    print 'no'"
   ]
  },
  {
   "cell_type": "code",
   "execution_count": 250,
   "metadata": {
    "collapsed": true
   },
   "outputs": [],
   "source": [
    "distance = distance.union(nextneigh).cache()\n",
    "dis += 1"
   ]
  },
  {
   "cell_type": "code",
   "execution_count": 133,
   "metadata": {
    "collapsed": false
   },
   "outputs": [
    {
     "data": {
      "text/plain": [
       "[('1', 0)]"
      ]
     },
     "execution_count": 133,
     "metadata": {},
     "output_type": "execute_result"
    }
   ],
   "source": [
    "distance.collect()"
   ]
  },
  {
   "cell_type": "code",
   "execution_count": 111,
   "metadata": {
    "collapsed": false
   },
   "outputs": [
    {
     "data": {
      "text/plain": [
       "[('8', 3)]"
      ]
     },
     "execution_count": 111,
     "metadata": {},
     "output_type": "execute_result"
    }
   ],
   "source": [
    "distance.join(sc.parallelize([('8',2)])).mapValues(lambda v: v[0]).collect()"
   ]
  },
  {
   "cell_type": "code",
   "execution_count": 263,
   "metadata": {
    "collapsed": true
   },
   "outputs": [],
   "source": [
    "def bfs_look(edgelist,from_,to_,dmax):\n",
    "    global accum \n",
    "    dis = 1\n",
    "    accum = sc.accumulator(1)\n",
    "    \n",
    "    def increase_accum(x):\n",
    "        global accum\n",
    "        accum += 1\n",
    "        \n",
    "    nextneigh = sc.parallelize([(from_,0)])\n",
    "    distance = sc.parallelize([(from_,0)])\n",
    "    \n",
    "    while dis <= dmax:\n",
    "        oldaccum = accum.value\n",
    "        nextneigh = edgelist.join(nextneigh).partitionBy(8).mapValues(lambda V: (V[0],V[1]+1)).values().distinct().subtractByKey(distance)\n",
    "        nextneigh.foreach(increase_accum)\n",
    "        if oldaccum == accum.value:\n",
    "            result = \"NO PATH\"\n",
    "        distance = distance.union(nextneigh).cache()\n",
    "        result = distance.join(sc.parallelize([(to_,dis)]))\n",
    "        if not result.isEmpty():\n",
    "            result = result.mapValues(lambda v: v[0]).collect()\n",
    "            break\n",
    "        dis += 1\n",
    "        \n",
    "    return result"
   ]
  },
  {
   "cell_type": "code",
   "execution_count": 265,
   "metadata": {
    "collapsed": true
   },
   "outputs": [],
   "source": [
    "def bfs_look2(edgelist,from_,to_,dmax):\n",
    "    global accum \n",
    "    dis = 1\n",
    "    accum = sc.accumulator(1)\n",
    "    \n",
    "    def increase_accum(x):\n",
    "        global accum\n",
    "        accum += 1\n",
    "    \n",
    "    def swap((K,V)):\n",
    "        V = list(V)\n",
    "        return (V[0],[K]+V[1:])\n",
    "        \n",
    "    nextneigh = sc.parallelize([(from_,0)])\n",
    "    distance = sc.parallelize([(from_,0)])\n",
    "    paths = sc.parallelize([(from_,'<-')])\n",
    "\n",
    "\n",
    "    while dis <= dmax:\n",
    "        oldaccum = accum.value\n",
    "        \n",
    "        temp = edgelist.join(nextneigh).partitionBy(8)\n",
    "        \n",
    "        nextneigh = temp.mapValues(lambda V: (V[0],V[1]+1)).values().distinct().subtractByKey(distance)\n",
    "        nextneigh.foreach(increase_accum)\n",
    "        \n",
    "        temp2 = temp.map(lambda (K,V): (V[0],K)).subtractByKey(distance).map(lambda (K,V): (V,K))\n",
    "        paths = temp2.join(paths).map(lambda (K,V): swap((K,V)))\n",
    "        \n",
    "        if oldaccum == accum.value:\n",
    "            result = \"NO PATH\"\n",
    "            return result\n",
    "        distance = distance.union(nextneigh).cache()\n",
    "        result = distance.join(sc.parallelize([(to_,dis)]))\n",
    "        if not result.isEmpty():\n",
    "            result = result.mapValues(lambda v: v[0]).collect()\n",
    "            result2 = paths.join(sc.parallelize([(to_,dis)])).collect()\n",
    "            break\n",
    "        dis += 1\n",
    "        \n",
    "    return result,result2"
   ]
  },
  {
   "cell_type": "code",
   "execution_count": 267,
   "metadata": {
    "collapsed": false
   },
   "outputs": [
    {
     "data": {
      "text/plain": [
       "[('7', 2)]"
      ]
     },
     "execution_count": 267,
     "metadata": {},
     "output_type": "execute_result"
    }
   ],
   "source": [
    "bfs_look(edge_list,'1','7',20)"
   ]
  },
  {
   "cell_type": "code",
   "execution_count": 272,
   "metadata": {
    "collapsed": false
   },
   "outputs": [
    {
     "data": {
      "text/plain": [
       "'NO PATH'"
      ]
     },
     "execution_count": 272,
     "metadata": {},
     "output_type": "execute_result"
    }
   ],
   "source": [
    "bfs_look2(edge_list,'7','1',20)"
   ]
  },
  {
   "cell_type": "code",
   "execution_count": null,
   "metadata": {
    "collapsed": true
   },
   "outputs": [],
   "source": []
  }
 ],
 "metadata": {
  "kernelspec": {
   "display_name": "Python 2",
   "language": "python",
   "name": "python2"
  },
  "language_info": {
   "codemirror_mode": {
    "name": "ipython",
    "version": 2
   },
   "file_extension": ".py",
   "mimetype": "text/x-python",
   "name": "python",
   "nbconvert_exporter": "python",
   "pygments_lexer": "ipython2",
   "version": "2.7.10"
  }
 },
 "nbformat": 4,
 "nbformat_minor": 0
}
