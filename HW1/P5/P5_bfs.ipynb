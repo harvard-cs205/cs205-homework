{
 "cells": [
  {
   "cell_type": "code",
   "execution_count": null,
   "metadata": {
    "collapsed": true
   },
   "outputs": [],
   "source": [
    "import pyspark \n",
    "\n",
    "# This code is borrowed from Ray's github\n",
    "def link_string_to_KV(s):\n",
    "    src, dests = s.split(': ')\n",
    "    dests = [int(to) for to in dests.split(' ')]\n",
    "    return (int(src), set(dests))\n",
    "\n",
    "sc = pyspark.SparkContext()\n",
    "sc.setLogLevel('WARN')\n",
    "\n",
    "links = sc.textFile('s3://Harvard-CS205/wikipedia/links-simple-sorted.txt', 32)\n",
    "page_names = sc.textFile('s3://Harvard-CS205/wikipedia/titles-sorted.txt', 32)\n",
    "\n",
    "n_parts = 256\n",
    "# process links into (node #, [neighbor node #, neighbor node #, ...]\n",
    "neighbor_graph = links.map(link_string_to_KV)\n",
    "neighbor_graph = neighbor_graph.partitionBy(n_parts).cache()"
   ]
  },
  {
   "cell_type": "code",
   "execution_count": null,
   "metadata": {
    "collapsed": true
   },
   "outputs": [],
   "source": [
    "# create an RDD for looking up page names from numbers\n",
    "# remember that it's all 1-indexed\n",
    "page_names = page_names.zipWithIndex().map(lambda (n, id): (id + 1, n))\n",
    "page_names = page_names.sortByKey().cache()\n",
    "\n",
    "\n",
    "# find Kevin Bacon\n",
    "Kevin_Bacon = page_names.filter(lambda (K, V): V == 'Kevin_Bacon').collect()\n",
    "# This should be [(node_id, 'Kevin_Bacon')]\n",
    "assert len(Kevin_Bacon) == 1\n",
    "Kevin_Bacon = Kevin_Bacon[0][0]  # extract node id\n",
    "\n",
    "# find Harvard University\n",
    "Harvard_University = page_names.filter(lambda (K, V):\n",
    "                                       V == 'Harvard_University').collect()\n",
    "# This should be [(node_id, 'Harvard_University')]\n",
    "assert len(Harvard_University) == 1\n",
    "Harvard_University = Harvard_University[0][0]  # extract node id\n",
    "    \n",
    "\n",
    "# Import functions derived from Marvel graph computations\n",
    "from P5 import *\n",
    "\n",
    "# Run BFS from Kevin_Bacon\n",
    "source_node = Kevin_Bacon\n",
    "dest_node = Harvard_University\n",
    "hero_graph = neighbor_graph\n",
    "\n",
    "short_path = find_short_path(source_node, dest_node, hero_graph, n_parts, sc)\n",
    "\n",
    "# Convert ids back to page names\n",
    "short_path = [page_names.lookup(x)[0] for x in short_path]\n",
    "\n",
    "print(short_path)\n",
    "\n",
    "# Save shortest path to file\n",
    "save_str_list(short_path, 'P5.txt')"
   ]
  }
 ],
 "metadata": {
  "kernelspec": {
   "display_name": "Python 2",
   "language": "python",
   "name": "python2"
  },
  "language_info": {
   "codemirror_mode": {
    "name": "ipython",
    "version": 2
   },
   "file_extension": ".py",
   "mimetype": "text/x-python",
   "name": "python",
   "nbconvert_exporter": "python",
   "pygments_lexer": "ipython2",
   "version": "2.7.6"
  }
 },
 "nbformat": 4,
 "nbformat_minor": 0
}
