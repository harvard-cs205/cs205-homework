{
 "cells": [
  {
   "cell_type": "code",
   "execution_count": 8,
   "metadata": {
    "collapsed": true
   },
   "outputs": [],
   "source": [
    "%matplotlib inline"
   ]
  },
  {
   "cell_type": "code",
   "execution_count": 9,
   "metadata": {
    "collapsed": false
   },
   "outputs": [
    {
     "data": {
      "text/plain": [
       "<function findspark.init>"
      ]
     },
     "execution_count": 9,
     "metadata": {},
     "output_type": "execute_result"
    }
   ],
   "source": [
    "import findspark\n",
    "findspark.init"
   ]
  },
  {
   "cell_type": "code",
   "execution_count": 10,
   "metadata": {
    "collapsed": true
   },
   "outputs": [],
   "source": [
    "import numpy as np\n",
    "import matplotlib.pyplot as plt \n",
    "import matplotlib.cm as cm"
   ]
  },
  {
   "cell_type": "markdown",
   "metadata": {},
   "source": [
    "##PROBLEM 1"
   ]
  },
  {
   "cell_type": "code",
   "execution_count": 11,
   "metadata": {
    "collapsed": true
   },
   "outputs": [],
   "source": [
    "def mandelbrot(x, y):\n",
    "    z = c = complex(x, y)\n",
    "    iteration = 0\n",
    "    max_iteration = 511  # arbitrary cutoff\n",
    "    while abs(z) < 2 and iteration < max_iteration:\n",
    "        z = z * z + c\n",
    "        iteration += 1\n",
    "    return iteration\n",
    "\n",
    "def sum_values_for_partitions(rdd):\n",
    "    'Returns (as an RDD) the sum of V for each partition of a (K, V) RDD'\n",
    "    # note that the function passed to mapPartitions should return a sequence,\n",
    "    # not a value.\n",
    "    return rdd.mapPartitions(lambda part: [sum(V for K, V in part)])\n",
    "\n",
    "def draw_image(rdd):\n",
    "    '''Given a (K, V) RDD with K = (I, J) and V = count,\n",
    "    display an image of count at each I, J'''\n",
    "\n",
    "    data = rdd.collect()\n",
    "    I = np.array([d[0][0] for d in data])\n",
    "    J = np.array([d[0][1] for d in data])\n",
    "    C = np.array([d[1] for d in data])\n",
    "    im = np.zeros((I.max() + 1, J.max() + 1))\n",
    "    im[I, J] = np.log(C + 1)  # log intensity makes it easier to see levels\n",
    "    plt.imshow(im, cmap=cm.gray)\n",
    "    plt.show()"
   ]
  },
  {
   "cell_type": "code",
   "execution_count": 12,
   "metadata": {
    "collapsed": false
   },
   "outputs": [],
   "source": [
    "tuples = []\n",
    "for i in xrange(2000):\n",
    "    for j in xrange(2000):\n",
    "        tuples.append((i,j))"
   ]
  },
  {
   "cell_type": "code",
   "execution_count": 13,
   "metadata": {
    "collapsed": false
   },
   "outputs": [],
   "source": [
    "partitions = sc.parallelize(tuples, 100).map(lambda xy: (xy, mandelbrot((xy[1]/500.0)-2,(xy[0]/500.0)-2)))"
   ]
  },
  {
   "cell_type": "code",
   "execution_count": 14,
   "metadata": {
    "collapsed": false
   },
   "outputs": [
    {
     "data": {
      "image/png": "[encoded data removed]",
      "text/plain": [
       "<matplotlib.figure.Figure at 0x151adfa90>"
      ]
     },
     "metadata": {},
     "output_type": "display_data"
    }
   ],
   "source": [
    "draw_image(partitions)"
   ]
  },
  {
   "cell_type": "code",
   "execution_count": 706,
   "metadata": {
    "collapsed": false
   },
   "outputs": [
    {
     "data": {
      "image/png": "[encoded data removed]",
      "text/plain": [
       "<matplotlib.figure.Figure at 0x161232a50>"
      ]
     },
     "metadata": {},
     "output_type": "display_data"
    }
   ],
   "source": [
    "# Get current size\n",
    "fig_size = plt.rcParams[\"figure.figsize\"]\n",
    "\n",
    "\n",
    "# Set figure width to 12 and height to 9\n",
    "fig_size[0] = 12\n",
    "fig_size[1] = 9\n",
    "plt.rcParams[\"figure.figsize\"] = fig_size\n",
    "\n",
    "plt.hist((sum_values_for_partitions(partitions)).collect())\n",
    "# fig.set_size_inches(18.5, 10.5)\n",
    "plt.savefig('P2a_hist.png', dpi=100)"
   ]
  },
  {
   "cell_type": "code",
   "execution_count": 57,
   "metadata": {
    "collapsed": false
   },
   "outputs": [
    {
     "data": {
      "text/plain": [
       "12"
      ]
     },
     "execution_count": 57,
     "metadata": {},
     "output_type": "execute_result"
    }
   ],
   "source": [
    "partitions2 = sc.parallelize([0, 1999])"
   ]
  },
  {
   "cell_type": "code",
   "execution_count": 708,
   "metadata": {
    "collapsed": false
   },
   "outputs": [],
   "source": [
    "import random\n",
    "\n",
    "random.randrange(0, 100, 1)\n",
    "partitions3 = sc.parallelize(tuples).map(lambda xy: (xy, mandelbrot((xy[0]/500.0)-2,(xy[1]/500.0)-2))).partitionBy(100, lambda xy: int(np.sqrt((xy[0]-1000)**2 + (xy[1]-1000)**2)) % 100)\n"
   ]
  },
  {
   "cell_type": "code",
   "execution_count": 700,
   "metadata": {
    "collapsed": true
   },
   "outputs": [],
   "source": [
    "# random.randrange(0, 100, 1)\n",
    "# partitions3 = sc.parallelize([0, 1999])\n",
    "# partitions3 = sc.parallelize(partitions3.cartesian(partitions2).collect()).map(lambda xy: (xy, mandelbrot((xy[0]/500.0)-2,(xy[1]/500.0)-2))).partitionBy(100, lambda xy: random.randrange(0, 100, 1))\n",
    "# partitions2 = sc.parallelize(tuples).map(lambda xy: (xy, mandelbrot((xy[1]/500.0)-2,(xy[0]/500.0)-2))).partitionBy(100, lambda xy: random.randrange(0, 100, 1))\n"
   ]
  },
  {
   "cell_type": "code",
   "execution_count": 701,
   "metadata": {
    "collapsed": false
   },
   "outputs": [
    {
     "data": {
      "text/plain": [
       "[((0, 21), 0),\n",
       " ((0, 36), 0),\n",
       " ((0, 69), 0),\n",
       " ((0, 117), 0),\n",
       " ((0, 182), 0),\n",
       " ((0, 204), 0),\n",
       " ((0, 298), 0),\n",
       " ((0, 311), 0),\n",
       " ((0, 312), 0),\n",
       " ((0, 354), 0)]"
      ]
     },
     "execution_count": 701,
     "metadata": {},
     "output_type": "execute_result"
    }
   ],
   "source": [
    "partitions2.take(10)"
   ]
  },
  {
   "cell_type": "code",
   "execution_count": 702,
   "metadata": {
    "collapsed": false
   },
   "outputs": [
    {
     "data": {
      "image/png": "[encoded data removed]",
      "text/plain": [
       "<matplotlib.figure.Figure at 0x12b41b590>"
      ]
     },
     "metadata": {},
     "output_type": "display_data"
    }
   ],
   "source": [
    "draw_image(partitions2)"
   ]
  },
  {
   "cell_type": "code",
   "execution_count": 707,
   "metadata": {
    "collapsed": false
   },
   "outputs": [
    {
     "data": {
      "image/png": "[encoded data removed]",
      "text/plain": [
       "<matplotlib.figure.Figure at 0x155cf6650>"
      ]
     },
     "metadata": {},
     "output_type": "display_data"
    }
   ],
   "source": [
    "fig_size = plt.rcParams[\"figure.figsize\"]\n",
    "\n",
    "\n",
    "# Set figure width to 12 and height to 9\n",
    "fig_size[0] = 12\n",
    "fig_size[1] = 9\n",
    "plt.rcParams[\"figure.figsize\"] = fig_size\n",
    "\n",
    "plt.hist((sum_values_for_partitions(partitions2)).collect())# fig.set_size_inches(18.5, 10.5)\n",
    "plt.savefig('P2b_hist.png', dpi=100)\n",
    "\n"
   ]
  },
  {
   "cell_type": "code",
   "execution_count": 714,
   "metadata": {
    "collapsed": false
   },
   "outputs": [
    {
     "ename": "Py4JJavaError",
     "evalue": "An error occurred while calling z:org.apache.spark.api.python.PythonRDD.collectAndServe.\n: org.apache.spark.SparkException: Job aborted due to stage failure: Task 1 in stage 13706.0 failed 1 times, most recent failure: Lost task 1.0 in stage 13706.0 (TID 90822, localhost): org.apache.spark.api.python.PythonException: Traceback (most recent call last):\n  File \"/Users/isadoranun/Documents/CS205/spark-1.5.0/python/lib/pyspark.zip/pyspark/worker.py\", line 111, in main\n    process()\n  File \"/Users/isadoranun/Documents/CS205/spark-1.5.0/python/lib/pyspark.zip/pyspark/worker.py\", line 106, in process\n    serializer.dump_stream(func(split_index, iterator), outfile)\n  File \"/Users/isadoranun/Documents/CS205/spark-1.5.0/python/lib/pyspark.zip/pyspark/serializers.py\", line 133, in dump_stream\n    for obj in iterator:\n  File \"/Users/isadoranun/Documents/CS205/spark-1.5.0/python/pyspark/rdd.py\", line 1712, in add_shuffle_key\n    yield pack_long(split)\n  File \"/Users/isadoranun/Documents/CS205/spark-1.5.0/python/lib/pyspark.zip/pyspark/serializers.py\", line 538, in pack_long\n    return struct.pack(\"!q\", value)\nValueError: cannot convert float NaN to integer\n\n\tat org.apache.spark.api.python.PythonRDD$$anon$1.read(PythonRDD.scala:138)\n\tat org.apache.spark.api.python.PythonRDD$$anon$1.<init>(PythonRDD.scala:179)\n\tat org.apache.spark.api.python.PythonRDD.compute(PythonRDD.scala:97)\n\tat org.apache.spark.rdd.RDD.computeOrReadCheckpoint(RDD.scala:297)\n\tat org.apache.spark.rdd.RDD.iterator(RDD.scala:264)\n\tat org.apache.spark.api.python.PairwiseRDD.compute(PythonRDD.scala:311)\n\tat org.apache.spark.rdd.RDD.computeOrReadCheckpoint(RDD.scala:297)\n\tat org.apache.spark.rdd.RDD.iterator(RDD.scala:264)\n\tat org.apache.spark.scheduler.ShuffleMapTask.runTask(ShuffleMapTask.scala:73)\n\tat org.apache.spark.scheduler.ShuffleMapTask.runTask(ShuffleMapTask.scala:41)\n\tat org.apache.spark.scheduler.Task.run(Task.scala:88)\n\tat org.apache.spark.executor.Executor$TaskRunner.run(Executor.scala:214)\n\tat java.util.concurrent.ThreadPoolExecutor.runWorker(ThreadPoolExecutor.java:1142)\n\tat java.util.concurrent.ThreadPoolExecutor$Worker.run(ThreadPoolExecutor.java:617)\n\tat java.lang.Thread.run(Thread.java:745)\n\nDriver stacktrace:\n\tat org.apache.spark.scheduler.DAGScheduler.org$apache$spark$scheduler$DAGScheduler$$failJobAndIndependentStages(DAGScheduler.scala:1280)\n\tat org.apache.spark.scheduler.DAGScheduler$$anonfun$abortStage$1.apply(DAGScheduler.scala:1268)\n\tat org.apache.spark.scheduler.DAGScheduler$$anonfun$abortStage$1.apply(DAGScheduler.scala:1267)\n\tat scala.collection.mutable.ResizableArray$class.foreach(ResizableArray.scala:59)\n\tat scala.collection.mutable.ArrayBuffer.foreach(ArrayBuffer.scala:47)\n\tat org.apache.spark.scheduler.DAGScheduler.abortStage(DAGScheduler.scala:1267)\n\tat org.apache.spark.scheduler.DAGScheduler$$anonfun$handleTaskSetFailed$1.apply(DAGScheduler.scala:697)\n\tat org.apache.spark.scheduler.DAGScheduler$$anonfun$handleTaskSetFailed$1.apply(DAGScheduler.scala:697)\n\tat scala.Option.foreach(Option.scala:236)\n\tat org.apache.spark.scheduler.DAGScheduler.handleTaskSetFailed(DAGScheduler.scala:697)\n\tat org.apache.spark.scheduler.DAGSchedulerEventProcessLoop.doOnReceive(DAGScheduler.scala:1493)\n\tat org.apache.spark.scheduler.DAGSchedulerEventProcessLoop.onReceive(DAGScheduler.scala:1455)\n\tat org.apache.spark.scheduler.DAGSchedulerEventProcessLoop.onReceive(DAGScheduler.scala:1444)\n\tat org.apache.spark.util.EventLoop$$anon$1.run(EventLoop.scala:48)\n\tat org.apache.spark.scheduler.DAGScheduler.runJob(DAGScheduler.scala:567)\n\tat org.apache.spark.SparkContext.runJob(SparkContext.scala:1813)\n\tat org.apache.spark.SparkContext.runJob(SparkContext.scala:1826)\n\tat org.apache.spark.SparkContext.runJob(SparkContext.scala:1839)\n\tat org.apache.spark.SparkContext.runJob(SparkContext.scala:1910)\n\tat org.apache.spark.rdd.RDD$$anonfun$collect$1.apply(RDD.scala:905)\n\tat org.apache.spark.rdd.RDDOperationScope$.withScope(RDDOperationScope.scala:147)\n\tat org.apache.spark.rdd.RDDOperationScope$.withScope(RDDOperationScope.scala:108)\n\tat org.apache.spark.rdd.RDD.withScope(RDD.scala:306)\n\tat org.apache.spark.rdd.RDD.collect(RDD.scala:904)\n\tat org.apache.spark.api.python.PythonRDD$.collectAndServe(PythonRDD.scala:373)\n\tat org.apache.spark.api.python.PythonRDD.collectAndServe(PythonRDD.scala)\n\tat sun.reflect.GeneratedMethodAccessor41.invoke(Unknown Source)\n\tat sun.reflect.DelegatingMethodAccessorImpl.invoke(DelegatingMethodAccessorImpl.java:43)\n\tat java.lang.reflect.Method.invoke(Method.java:497)\n\tat py4j.reflection.MethodInvoker.invoke(MethodInvoker.java:231)\n\tat py4j.reflection.ReflectionEngine.invoke(ReflectionEngine.java:379)\n\tat py4j.Gateway.invoke(Gateway.java:259)\n\tat py4j.commands.AbstractCommand.invokeMethod(AbstractCommand.java:133)\n\tat py4j.commands.CallCommand.execute(CallCommand.java:79)\n\tat py4j.GatewayConnection.run(GatewayConnection.java:207)\n\tat java.lang.Thread.run(Thread.java:745)\nCaused by: org.apache.spark.api.python.PythonException: Traceback (most recent call last):\n  File \"/Users/isadoranun/Documents/CS205/spark-1.5.0/python/lib/pyspark.zip/pyspark/worker.py\", line 111, in main\n    process()\n  File \"/Users/isadoranun/Documents/CS205/spark-1.5.0/python/lib/pyspark.zip/pyspark/worker.py\", line 106, in process\n    serializer.dump_stream(func(split_index, iterator), outfile)\n  File \"/Users/isadoranun/Documents/CS205/spark-1.5.0/python/lib/pyspark.zip/pyspark/serializers.py\", line 133, in dump_stream\n    for obj in iterator:\n  File \"/Users/isadoranun/Documents/CS205/spark-1.5.0/python/pyspark/rdd.py\", line 1712, in add_shuffle_key\n    yield pack_long(split)\n  File \"/Users/isadoranun/Documents/CS205/spark-1.5.0/python/lib/pyspark.zip/pyspark/serializers.py\", line 538, in pack_long\n    return struct.pack(\"!q\", value)\nValueError: cannot convert float NaN to integer\n\n\tat org.apache.spark.api.python.PythonRDD$$anon$1.read(PythonRDD.scala:138)\n\tat org.apache.spark.api.python.PythonRDD$$anon$1.<init>(PythonRDD.scala:179)\n\tat org.apache.spark.api.python.PythonRDD.compute(PythonRDD.scala:97)\n\tat org.apache.spark.rdd.RDD.computeOrReadCheckpoint(RDD.scala:297)\n\tat org.apache.spark.rdd.RDD.iterator(RDD.scala:264)\n\tat org.apache.spark.api.python.PairwiseRDD.compute(PythonRDD.scala:311)\n\tat org.apache.spark.rdd.RDD.computeOrReadCheckpoint(RDD.scala:297)\n\tat org.apache.spark.rdd.RDD.iterator(RDD.scala:264)\n\tat org.apache.spark.scheduler.ShuffleMapTask.runTask(ShuffleMapTask.scala:73)\n\tat org.apache.spark.scheduler.ShuffleMapTask.runTask(ShuffleMapTask.scala:41)\n\tat org.apache.spark.scheduler.Task.run(Task.scala:88)\n\tat org.apache.spark.executor.Executor$TaskRunner.run(Executor.scala:214)\n\tat java.util.concurrent.ThreadPoolExecutor.runWorker(ThreadPoolExecutor.java:1142)\n\tat java.util.concurrent.ThreadPoolExecutor$Worker.run(ThreadPoolExecutor.java:617)\n\t... 1 more\n",
     "output_type": "error",
     "traceback": [
      "\u001b[0;31m---------------------------------------------------------------------------\u001b[0m",
      "\u001b[0;31mPy4JJavaError\u001b[0m                             Traceback (most recent call last)",
      "\u001b[0;32m<ipython-input-714-f014efd3043a>\u001b[0m in \u001b[0;36m<module>\u001b[0;34m()\u001b[0m\n\u001b[1;32m      4\u001b[0m \u001b[0;34m\u001b[0m\u001b[0m\n\u001b[1;32m      5\u001b[0m \u001b[0;34m\u001b[0m\u001b[0m\n\u001b[0;32m----> 6\u001b[0;31m \u001b[0mplt\u001b[0m\u001b[0;34m.\u001b[0m\u001b[0mhist\u001b[0m\u001b[0;34m(\u001b[0m\u001b[0;34m(\u001b[0m\u001b[0msum_values_for_partitions\u001b[0m\u001b[0;34m(\u001b[0m\u001b[0mpartitions3\u001b[0m\u001b[0;34m)\u001b[0m\u001b[0;34m)\u001b[0m\u001b[0;34m.\u001b[0m\u001b[0mcollect\u001b[0m\u001b[0;34m(\u001b[0m\u001b[0;34m)\u001b[0m\u001b[0;34m)\u001b[0m\u001b[0;31m# fig.set_size_inches(18.5, 10.5)\u001b[0m\u001b[0;34m\u001b[0m\u001b[0m\n\u001b[0m",
      "\u001b[0;32m/Users/isadoranun/Documents/CS205/spark-1.5.0/python/pyspark/rdd.pyc\u001b[0m in \u001b[0;36mcollect\u001b[0;34m(self)\u001b[0m\n\u001b[1;32m    771\u001b[0m         \"\"\"\n\u001b[1;32m    772\u001b[0m         \u001b[0;32mwith\u001b[0m \u001b[0mSCCallSiteSync\u001b[0m\u001b[0;34m(\u001b[0m\u001b[0mself\u001b[0m\u001b[0;34m.\u001b[0m\u001b[0mcontext\u001b[0m\u001b[0;34m)\u001b[0m \u001b[0;32mas\u001b[0m \u001b[0mcss\u001b[0m\u001b[0;34m:\u001b[0m\u001b[0;34m\u001b[0m\u001b[0m\n\u001b[0;32m--> 773\u001b[0;31m             \u001b[0mport\u001b[0m \u001b[0;34m=\u001b[0m \u001b[0mself\u001b[0m\u001b[0;34m.\u001b[0m\u001b[0mctx\u001b[0m\u001b[0;34m.\u001b[0m\u001b[0m_jvm\u001b[0m\u001b[0;34m.\u001b[0m\u001b[0mPythonRDD\u001b[0m\u001b[0;34m.\u001b[0m\u001b[0mcollectAndServe\u001b[0m\u001b[0;34m(\u001b[0m\u001b[0mself\u001b[0m\u001b[0;34m.\u001b[0m\u001b[0m_jrdd\u001b[0m\u001b[0;34m.\u001b[0m\u001b[0mrdd\u001b[0m\u001b[0;34m(\u001b[0m\u001b[0;34m)\u001b[0m\u001b[0;34m)\u001b[0m\u001b[0;34m\u001b[0m\u001b[0m\n\u001b[0m\u001b[1;32m    774\u001b[0m         \u001b[0;32mreturn\u001b[0m \u001b[0mlist\u001b[0m\u001b[0;34m(\u001b[0m\u001b[0m_load_from_socket\u001b[0m\u001b[0;34m(\u001b[0m\u001b[0mport\u001b[0m\u001b[0;34m,\u001b[0m \u001b[0mself\u001b[0m\u001b[0;34m.\u001b[0m\u001b[0m_jrdd_deserializer\u001b[0m\u001b[0;34m)\u001b[0m\u001b[0;34m)\u001b[0m\u001b[0;34m\u001b[0m\u001b[0m\n\u001b[1;32m    775\u001b[0m \u001b[0;34m\u001b[0m\u001b[0m\n",
      "\u001b[0;32m/Users/isadoranun/Documents/CS205/spark-1.5.0/python/lib/py4j-0.8.2.1-src.zip/py4j/java_gateway.py\u001b[0m in \u001b[0;36m__call__\u001b[0;34m(self, *args)\u001b[0m\n\u001b[1;32m    536\u001b[0m         \u001b[0manswer\u001b[0m \u001b[0;34m=\u001b[0m \u001b[0mself\u001b[0m\u001b[0;34m.\u001b[0m\u001b[0mgateway_client\u001b[0m\u001b[0;34m.\u001b[0m\u001b[0msend_command\u001b[0m\u001b[0;34m(\u001b[0m\u001b[0mcommand\u001b[0m\u001b[0;34m)\u001b[0m\u001b[0;34m\u001b[0m\u001b[0m\n\u001b[1;32m    537\u001b[0m         return_value = get_return_value(answer, self.gateway_client,\n\u001b[0;32m--> 538\u001b[0;31m                 self.target_id, self.name)\n\u001b[0m\u001b[1;32m    539\u001b[0m \u001b[0;34m\u001b[0m\u001b[0m\n\u001b[1;32m    540\u001b[0m         \u001b[0;32mfor\u001b[0m \u001b[0mtemp_arg\u001b[0m \u001b[0;32min\u001b[0m \u001b[0mtemp_args\u001b[0m\u001b[0;34m:\u001b[0m\u001b[0;34m\u001b[0m\u001b[0m\n",
      "\u001b[0;32m/Users/isadoranun/Documents/CS205/spark-1.5.0/python/pyspark/sql/utils.pyc\u001b[0m in \u001b[0;36mdeco\u001b[0;34m(*a, **kw)\u001b[0m\n\u001b[1;32m     34\u001b[0m     \u001b[0;32mdef\u001b[0m \u001b[0mdeco\u001b[0m\u001b[0;34m(\u001b[0m\u001b[0;34m*\u001b[0m\u001b[0ma\u001b[0m\u001b[0;34m,\u001b[0m \u001b[0;34m**\u001b[0m\u001b[0mkw\u001b[0m\u001b[0;34m)\u001b[0m\u001b[0;34m:\u001b[0m\u001b[0;34m\u001b[0m\u001b[0m\n\u001b[1;32m     35\u001b[0m         \u001b[0;32mtry\u001b[0m\u001b[0;34m:\u001b[0m\u001b[0;34m\u001b[0m\u001b[0m\n\u001b[0;32m---> 36\u001b[0;31m             \u001b[0;32mreturn\u001b[0m \u001b[0mf\u001b[0m\u001b[0;34m(\u001b[0m\u001b[0;34m*\u001b[0m\u001b[0ma\u001b[0m\u001b[0;34m,\u001b[0m \u001b[0;34m**\u001b[0m\u001b[0mkw\u001b[0m\u001b[0;34m)\u001b[0m\u001b[0;34m\u001b[0m\u001b[0m\n\u001b[0m\u001b[1;32m     37\u001b[0m         \u001b[0;32mexcept\u001b[0m \u001b[0mpy4j\u001b[0m\u001b[0;34m.\u001b[0m\u001b[0mprotocol\u001b[0m\u001b[0;34m.\u001b[0m\u001b[0mPy4JJavaError\u001b[0m \u001b[0;32mas\u001b[0m \u001b[0me\u001b[0m\u001b[0;34m:\u001b[0m\u001b[0;34m\u001b[0m\u001b[0m\n\u001b[1;32m     38\u001b[0m             \u001b[0ms\u001b[0m \u001b[0;34m=\u001b[0m \u001b[0me\u001b[0m\u001b[0;34m.\u001b[0m\u001b[0mjava_exception\u001b[0m\u001b[0;34m.\u001b[0m\u001b[0mtoString\u001b[0m\u001b[0;34m(\u001b[0m\u001b[0;34m)\u001b[0m\u001b[0;34m\u001b[0m\u001b[0m\n",
      "\u001b[0;32m/Users/isadoranun/Documents/CS205/spark-1.5.0/python/lib/py4j-0.8.2.1-src.zip/py4j/protocol.py\u001b[0m in \u001b[0;36mget_return_value\u001b[0;34m(answer, gateway_client, target_id, name)\u001b[0m\n\u001b[1;32m    298\u001b[0m                 raise Py4JJavaError(\n\u001b[1;32m    299\u001b[0m                     \u001b[0;34m'An error occurred while calling {0}{1}{2}.\\n'\u001b[0m\u001b[0;34m.\u001b[0m\u001b[0;34m\u001b[0m\u001b[0m\n\u001b[0;32m--> 300\u001b[0;31m                     format(target_id, '.', name), value)\n\u001b[0m\u001b[1;32m    301\u001b[0m             \u001b[0;32melse\u001b[0m\u001b[0;34m:\u001b[0m\u001b[0;34m\u001b[0m\u001b[0m\n\u001b[1;32m    302\u001b[0m                 raise Py4JError(\n",
      "\u001b[0;31mPy4JJavaError\u001b[0m: An error occurred while calling z:org.apache.spark.api.python.PythonRDD.collectAndServe.\n: org.apache.spark.SparkException: Job aborted due to stage failure: Task 1 in stage 13706.0 failed 1 times, most recent failure: Lost task 1.0 in stage 13706.0 (TID 90822, localhost): org.apache.spark.api.python.PythonException: Traceback (most recent call last):\n  File \"/Users/isadoranun/Documents/CS205/spark-1.5.0/python/lib/pyspark.zip/pyspark/worker.py\", line 111, in main\n    process()\n  File \"/Users/isadoranun/Documents/CS205/spark-1.5.0/python/lib/pyspark.zip/pyspark/worker.py\", line 106, in process\n    serializer.dump_stream(func(split_index, iterator), outfile)\n  File \"/Users/isadoranun/Documents/CS205/spark-1.5.0/python/lib/pyspark.zip/pyspark/serializers.py\", line 133, in dump_stream\n    for obj in iterator:\n  File \"/Users/isadoranun/Documents/CS205/spark-1.5.0/python/pyspark/rdd.py\", line 1712, in add_shuffle_key\n    yield pack_long(split)\n  File \"/Users/isadoranun/Documents/CS205/spark-1.5.0/python/lib/pyspark.zip/pyspark/serializers.py\", line 538, in pack_long\n    return struct.pack(\"!q\", value)\nValueError: cannot convert float NaN to integer\n\n\tat org.apache.spark.api.python.PythonRDD$$anon$1.read(PythonRDD.scala:138)\n\tat org.apache.spark.api.python.PythonRDD$$anon$1.<init>(PythonRDD.scala:179)\n\tat org.apache.spark.api.python.PythonRDD.compute(PythonRDD.scala:97)\n\tat org.apache.spark.rdd.RDD.computeOrReadCheckpoint(RDD.scala:297)\n\tat org.apache.spark.rdd.RDD.iterator(RDD.scala:264)\n\tat org.apache.spark.api.python.PairwiseRDD.compute(PythonRDD.scala:311)\n\tat org.apache.spark.rdd.RDD.computeOrReadCheckpoint(RDD.scala:297)\n\tat org.apache.spark.rdd.RDD.iterator(RDD.scala:264)\n\tat org.apache.spark.scheduler.ShuffleMapTask.runTask(ShuffleMapTask.scala:73)\n\tat org.apache.spark.scheduler.ShuffleMapTask.runTask(ShuffleMapTask.scala:41)\n\tat org.apache.spark.scheduler.Task.run(Task.scala:88)\n\tat org.apache.spark.executor.Executor$TaskRunner.run(Executor.scala:214)\n\tat java.util.concurrent.ThreadPoolExecutor.runWorker(ThreadPoolExecutor.java:1142)\n\tat java.util.concurrent.ThreadPoolExecutor$Worker.run(ThreadPoolExecutor.java:617)\n\tat java.lang.Thread.run(Thread.java:745)\n\nDriver stacktrace:\n\tat org.apache.spark.scheduler.DAGScheduler.org$apache$spark$scheduler$DAGScheduler$$failJobAndIndependentStages(DAGScheduler.scala:1280)\n\tat org.apache.spark.scheduler.DAGScheduler$$anonfun$abortStage$1.apply(DAGScheduler.scala:1268)\n\tat org.apache.spark.scheduler.DAGScheduler$$anonfun$abortStage$1.apply(DAGScheduler.scala:1267)\n\tat scala.collection.mutable.ResizableArray$class.foreach(ResizableArray.scala:59)\n\tat scala.collection.mutable.ArrayBuffer.foreach(ArrayBuffer.scala:47)\n\tat org.apache.spark.scheduler.DAGScheduler.abortStage(DAGScheduler.scala:1267)\n\tat org.apache.spark.scheduler.DAGScheduler$$anonfun$handleTaskSetFailed$1.apply(DAGScheduler.scala:697)\n\tat org.apache.spark.scheduler.DAGScheduler$$anonfun$handleTaskSetFailed$1.apply(DAGScheduler.scala:697)\n\tat scala.Option.foreach(Option.scala:236)\n\tat org.apache.spark.scheduler.DAGScheduler.handleTaskSetFailed(DAGScheduler.scala:697)\n\tat org.apache.spark.scheduler.DAGSchedulerEventProcessLoop.doOnReceive(DAGScheduler.scala:1493)\n\tat org.apache.spark.scheduler.DAGSchedulerEventProcessLoop.onReceive(DAGScheduler.scala:1455)\n\tat org.apache.spark.scheduler.DAGSchedulerEventProcessLoop.onReceive(DAGScheduler.scala:1444)\n\tat org.apache.spark.util.EventLoop$$anon$1.run(EventLoop.scala:48)\n\tat org.apache.spark.scheduler.DAGScheduler.runJob(DAGScheduler.scala:567)\n\tat org.apache.spark.SparkContext.runJob(SparkContext.scala:1813)\n\tat org.apache.spark.SparkContext.runJob(SparkContext.scala:1826)\n\tat org.apache.spark.SparkContext.runJob(SparkContext.scala:1839)\n\tat org.apache.spark.SparkContext.runJob(SparkContext.scala:1910)\n\tat org.apache.spark.rdd.RDD$$anonfun$collect$1.apply(RDD.scala:905)\n\tat org.apache.spark.rdd.RDDOperationScope$.withScope(RDDOperationScope.scala:147)\n\tat org.apache.spark.rdd.RDDOperationScope$.withScope(RDDOperationScope.scala:108)\n\tat org.apache.spark.rdd.RDD.withScope(RDD.scala:306)\n\tat org.apache.spark.rdd.RDD.collect(RDD.scala:904)\n\tat org.apache.spark.api.python.PythonRDD$.collectAndServe(PythonRDD.scala:373)\n\tat org.apache.spark.api.python.PythonRDD.collectAndServe(PythonRDD.scala)\n\tat sun.reflect.GeneratedMethodAccessor41.invoke(Unknown Source)\n\tat sun.reflect.DelegatingMethodAccessorImpl.invoke(DelegatingMethodAccessorImpl.java:43)\n\tat java.lang.reflect.Method.invoke(Method.java:497)\n\tat py4j.reflection.MethodInvoker.invoke(MethodInvoker.java:231)\n\tat py4j.reflection.ReflectionEngine.invoke(ReflectionEngine.java:379)\n\tat py4j.Gateway.invoke(Gateway.java:259)\n\tat py4j.commands.AbstractCommand.invokeMethod(AbstractCommand.java:133)\n\tat py4j.commands.CallCommand.execute(CallCommand.java:79)\n\tat py4j.GatewayConnection.run(GatewayConnection.java:207)\n\tat java.lang.Thread.run(Thread.java:745)\nCaused by: org.apache.spark.api.python.PythonException: Traceback (most recent call last):\n  File \"/Users/isadoranun/Documents/CS205/spark-1.5.0/python/lib/pyspark.zip/pyspark/worker.py\", line 111, in main\n    process()\n  File \"/Users/isadoranun/Documents/CS205/spark-1.5.0/python/lib/pyspark.zip/pyspark/worker.py\", line 106, in process\n    serializer.dump_stream(func(split_index, iterator), outfile)\n  File \"/Users/isadoranun/Documents/CS205/spark-1.5.0/python/lib/pyspark.zip/pyspark/serializers.py\", line 133, in dump_stream\n    for obj in iterator:\n  File \"/Users/isadoranun/Documents/CS205/spark-1.5.0/python/pyspark/rdd.py\", line 1712, in add_shuffle_key\n    yield pack_long(split)\n  File \"/Users/isadoranun/Documents/CS205/spark-1.5.0/python/lib/pyspark.zip/pyspark/serializers.py\", line 538, in pack_long\n    return struct.pack(\"!q\", value)\nValueError: cannot convert float NaN to integer\n\n\tat org.apache.spark.api.python.PythonRDD$$anon$1.read(PythonRDD.scala:138)\n\tat org.apache.spark.api.python.PythonRDD$$anon$1.<init>(PythonRDD.scala:179)\n\tat org.apache.spark.api.python.PythonRDD.compute(PythonRDD.scala:97)\n\tat org.apache.spark.rdd.RDD.computeOrReadCheckpoint(RDD.scala:297)\n\tat org.apache.spark.rdd.RDD.iterator(RDD.scala:264)\n\tat org.apache.spark.api.python.PairwiseRDD.compute(PythonRDD.scala:311)\n\tat org.apache.spark.rdd.RDD.computeOrReadCheckpoint(RDD.scala:297)\n\tat org.apache.spark.rdd.RDD.iterator(RDD.scala:264)\n\tat org.apache.spark.scheduler.ShuffleMapTask.runTask(ShuffleMapTask.scala:73)\n\tat org.apache.spark.scheduler.ShuffleMapTask.runTask(ShuffleMapTask.scala:41)\n\tat org.apache.spark.scheduler.Task.run(Task.scala:88)\n\tat org.apache.spark.executor.Executor$TaskRunner.run(Executor.scala:214)\n\tat java.util.concurrent.ThreadPoolExecutor.runWorker(ThreadPoolExecutor.java:1142)\n\tat java.util.concurrent.ThreadPoolExecutor$Worker.run(ThreadPoolExecutor.java:617)\n\t... 1 more\n"
     ]
    }
   ],
   "source": [
    "# partitions3 = sc.parallelize(tuples).map(lambda xy: (xy, mandelbrot((xy[0]/500.0)-2,(xy[1]/500.0)-2))).partitionBy(100, lambda xy: int(np.sqrt((xy[0]-1000)**2 + (xy[1]-1000)**2)) % 100)\n",
    "partitions3 = sc.parallelize(tuples).map(lambda xy: (xy, mandelbrot((xy[0]/500.0)-2,(xy[1]/500.0)-2))).partitionBy(100, lambda xy: ((np.arccos(xy[0])+np.arcsin(xy[1]))%100))\n",
    "\n",
    "\n",
    "\n",
    "plt.hist((sum_values_for_partitions(partitions3)).collect())# fig.set_size_inches(18.5, 10.5)\n"
   ]
  },
  {
   "cell_type": "markdown",
   "metadata": {},
   "source": [
    "##PROBLEM 3"
   ]
  },
  {
   "cell_type": "code",
   "execution_count": 84,
   "metadata": {
    "collapsed": false
   },
   "outputs": [],
   "source": [
    "wlist = sc.textFile('./P3/EOWL_words.txt')"
   ]
  },
  {
   "cell_type": "code",
   "execution_count": 85,
   "metadata": {
    "collapsed": false
   },
   "outputs": [],
   "source": [
    "wlist2 = wlist.map(lambda line: (''.join(sorted(line)), (line)))"
   ]
  },
  {
   "cell_type": "code",
   "execution_count": 89,
   "metadata": {
    "collapsed": false
   },
   "outputs": [],
   "source": [
    "wlist3 = wlist2.groupByKey().mapValues(lambda x: [i for i in x ]).map(lambda y: (y[0],len(y[1]),y[1]))"
   ]
  },
  {
   "cell_type": "code",
   "execution_count": 1291,
   "metadata": {
    "collapsed": false
   },
   "outputs": [
    {
     "data": {
      "text/plain": [
       "[(u'aacikrtu', 1, [u'autarkic']),\n",
       " (u'aerrs', 2, [u'rears', u'serra']),\n",
       " (u'eiilrsttw', 1, [u'twirliest']),\n",
       " (u'eiills', 1, [u'lilies']),\n",
       " (u'ceilnrstu', 1, [u'linctures']),\n",
       " (u'iilps', 1, [u'pilis']),\n",
       " (u'dgiinoww', 1, [u'widowing']),\n",
       " (u'ehostw', 1, [u'theows']),\n",
       " (u'deinnru', 1, [u'inurned']),\n",
       " (u'degillnw', 1, [u'dwelling'])]"
      ]
     },
     "execution_count": 1291,
     "metadata": {},
     "output_type": "execute_result"
    }
   ],
   "source": [
    "wlist3.take(10)"
   ]
  },
  {
   "cell_type": "code",
   "execution_count": 93,
   "metadata": {
    "collapsed": false
   },
   "outputs": [
    {
     "data": {
      "text/plain": [
       "[(u'aerst',\n",
       "  11,\n",
       "  [u'arets',\n",
       "   u'aster',\n",
       "   u'rates',\n",
       "   u'reast',\n",
       "   u'resat',\n",
       "   u'stare',\n",
       "   u'stear',\n",
       "   u'strae',\n",
       "   u'tares',\n",
       "   u'tears',\n",
       "   u'teras'])]"
      ]
     },
     "execution_count": 93,
     "metadata": {},
     "output_type": "execute_result"
    }
   ],
   "source": [
    "#We find the combination of letters with more annagrams\n",
    "wlist3.takeOrdered(1,lambda x: -x[1])"
   ]
  },
  {
   "cell_type": "markdown",
   "metadata": {},
   "source": [
    "##PROBLEM 4"
   ]
  },
  {
   "cell_type": "code",
   "execution_count": 32,
   "metadata": {
    "collapsed": true
   },
   "outputs": [],
   "source": [
    "superheroes = sc.textFile('./P4/source.csv')"
   ]
  },
  {
   "cell_type": "code",
   "execution_count": 33,
   "metadata": {
    "collapsed": false
   },
   "outputs": [
    {
     "data": {
      "text/plain": [
       "[u'\"FROST, CARMILLA\",\"AA2 35\"',\n",
       " u'\"KILLRAVEN/JONATHAN R\",\"AA2 35\"',\n",
       " u'\"M\\'SHULLA\",\"AA2 35\"']"
      ]
     },
     "execution_count": 33,
     "metadata": {},
     "output_type": "execute_result"
    }
   ],
   "source": [
    "superheroes.take(3)"
   ]
  },
  {
   "cell_type": "code",
   "execution_count": 34,
   "metadata": {
    "collapsed": false
   },
   "outputs": [],
   "source": [
    "ByArticle = superheroes.map(lambda line: (line.split('\",\"')[1][:-1], line.split('\",\"')[0][1:]))"
   ]
  },
  {
   "cell_type": "code",
   "execution_count": 35,
   "metadata": {
    "collapsed": false
   },
   "outputs": [
    {
     "data": {
      "text/plain": [
       "[(u'AA2 35', u'FROST, CARMILLA'),\n",
       " (u'AA2 35', u'KILLRAVEN/JONATHAN R'),\n",
       " (u'AA2 35', u\"M'SHULLA\")]"
      ]
     },
     "execution_count": 35,
     "metadata": {},
     "output_type": "execute_result"
    }
   ],
   "source": [
    "ByArticle.take(3)"
   ]
  },
  {
   "cell_type": "code",
   "execution_count": 36,
   "metadata": {
    "collapsed": false
   },
   "outputs": [],
   "source": [
    "joined = ByArticle.join(ByArticle).values().groupByKey()"
   ]
  },
  {
   "cell_type": "code",
   "execution_count": 37,
   "metadata": {
    "collapsed": false
   },
   "outputs": [
    {
     "data": {
      "text/plain": [
       "[(u'QUESADA, JOE', <pyspark.resultiterable.ResultIterable at 0x182d74790>),\n",
       " (u'SARACEN', <pyspark.resultiterable.ResultIterable at 0x182d74c10>),\n",
       " (u'DREAMING CELESTIAL/T',\n",
       "  <pyspark.resultiterable.ResultIterable at 0x182d74a90>)]"
      ]
     },
     "execution_count": 37,
     "metadata": {},
     "output_type": "execute_result"
    }
   ],
   "source": [
    "joined.take(3)"
   ]
  },
  {
   "cell_type": "code",
   "execution_count": 162,
   "metadata": {
    "collapsed": false
   },
   "outputs": [],
   "source": [
    "def remove_member(setHeroes, member):\n",
    "    setHeroes.remove(member)\n",
    "    return list(setHeroes)\n",
    "\n",
    "Hero_graph = joined.map(lambda x: (x[0], remove_member(set(x[1]),x[0]))).cache()"
   ]
  },
  {
   "cell_type": "code",
   "execution_count": 39,
   "metadata": {
    "collapsed": false
   },
   "outputs": [],
   "source": [
    "def BFS(nodes):\n",
    "    \n",
    "    #We set the starting node to have distance = 0 \n",
    "    dic = {nodes[0]:0}\n",
    "\n",
    "    for distance in range(10):\n",
    "        neighbors = Hero_graph.filter(lambda x:  x[0] in nodes).flatMap(lambda x: x[1])\n",
    "        unique_neighbors = neighbors.distinct().filter(lambda x: x not in dic)\n",
    "        nodes = unique_neighbors.collect()\n",
    "        BFS = [(x, distance +1) for x in nodes]\n",
    "        dic = dict(dic.items() +  (BFS))                \n",
    "    return dic\n"
   ]
  },
  {
   "cell_type": "code",
   "execution_count": 267,
   "metadata": {
    "collapsed": false
   },
   "outputs": [
    {
     "name": "stdout",
     "output_type": "stream",
     "text": [
      "{u'QUESADA, JOE': 1, u'ZEITGEIST II/AXEL CL': 2, u'DREAMING CELESTIAL/T': 1, u'PIECEMEAL/GILBERT BE': 1, u'BENWAY, DR.': 1, u'FRIEDLANDER, SHARON': 2, u'LOGA II': 2, u'MODRED THE MYSTIC': 1, u'THOMAS, DR. STAN': 2, u'FIREWALL/THEARY/MIN ': 2, u'DR. FAUSTUS': 1, u'RAYMOND, NORA JONES': 1, u'24-HOUR MAN/EMMANUEL': 3, u'MARROW/SARAH ': 1, u'EPOCH': 1, u'WHITE TIGER/HECTOR A': 2, u'CHEMISTRO III': 2, u'OMNIBUS/LT. DALLAS': 1, u'GRIS-GRIS': 2, u'WHIZZER III/JAMES SA': 1, u'KORATH THE PURSUER': 1, u'OMEGA RED/ARKADY ROS': 2, u'WOLFE, HEDY': 1, u'SCIMITAR': 2, u'CRIMEWAVE/': 2, u'AURORA/JEANNE-MARIE ': 1, u\"O'CONNELL, TARYN\": 2, u'CYBERTOOTH/YEN HSIEH': 2, u'THORPE, LUKE': 2, u'TITHE COLLECTOR': 2, u'DUNER, MAJOR': 1, u'RENKO, DR. IRENO': 2, u'RONAN THE ACCUSER [K': 1, u'DAVIDOFF': 2, u'CORDITE': 2, u'VESTA': 2, u'HYBRID/JAMES JIMMY M': 2, u'RATLIFF, OFFICER LAR': 2, u'CAPTAIN HIP/FRED MAC': 2, u'NOM': 2, u'QABIRI': 2, u'BUEL': 2, u'TIMEBOMB/LOUIS JOUBE': 2, u'MODEM/': 2, u'NOX': 2, u'NOY': 2, u'GENESIS/TYLER DAYSPR': 2, u'WILD BLOOD': 2, u'MARTINEZ, CARMELLO': 1, u'TEXAS TWISTER/DREW D': 1, u'MUELLER, AMANDA': 2, u'LAMY, KELLY': 1, u'POTTS, VIRGINIA PEPP': 2, u'FIREBOLT': 2, u'PEATOR': 1, u'NAUTILUS': 2, u'BLANDING, MRS.': 2, u'GRIZZLY/MAXWELL MARK': 2, u'FIRE EATER/TOMAS': 2, u'RYCHENKO, MAJ. VALEN': 2, u'WHITE QUEEN/EMMA FRO': 1, u'CONDOR': 2, u'BURR, CLAYTON': 2, u'SHIPPINSKY, MALIK': 2, u'MOTHER SUPERIOR': 1, u'SU, DR. KO BIN': 2, u'LANG, ALLISON': 2, u'FERA': 2, u'LEESHA': 2, u'CASSIOPEIA': 1, u'BUTTONS': 2, u'KARYGMAX': 2, u'CHINOOK': 2, u'GADRIEL': 2, u'TERRAX': 2, u'BERENGHETTI, SUSAN': 2, u'UNION JACK II/BRIAN ': 1, u'BURKE, THERESA TRACY': 2, u'BOLT/LAWRENCE EVANS': 2, u'BIG MAN/FREDERICK FO': 1, u'MOONDANCER': 2, u'MR. X': 2, u'DEATHRAVEN/JOSHUA RA': 2, u'GENECIDE': 2, u'LEIGHTON, BRIAN': 2, u'SYNRAITH': 2, u'FALLEN | MUTANT X-VE': 2, u'BOULDER/': 2, u'TAKIMOTO, RON': 2, u'BEAUMONT, SPENCER': 2, u'OZYMANDIAS': 1, u'BARRIER/': 2, u'THENA': 1, u'MUSTANG/': 2, u'PRENTISS, BETTY DEAN': 1, u'TALISMAN': 1, u'PEMBROKE': 2, u'BARRINGTON': 2, u'ORPHAN-MAKER/PETER': 1, u'HOARFROST/': 2, u'SAT-YR-9': 2, u'CRAZY EIGHT/LESLIE A': 2, u'KREDDICK': 1, u'TINKERER': 1, u'ULTRA-MAX': 2, u'JACKSON, ANDREW JOCK': 1, u'TOM THUMB/THOMAS THO': 1, u'COMMANDER COURAGE/': 2, u'SONIC': 2, u'ZOLA, ARNIM': 1, u'ANAIS': 2, u'GREEN GOBLIN IV/PHIL': 2, u'FIRESTAR | MUTANT X-': 2, u'PROWLER III/RICK LAW': 2, u'BLOOD WRAITH/SEAN DO': 2, u'NICODEMUS II': 2, u'BONES/ELIZABETH BLIS': 2, u\"O'MEARA, KATHLEEN\": 2, u'DETHSTRYK': 3, u'FAIRMONT, HANNAH': 1, u'RAND, HEATHER DUNCAN': 1, u'SIR BENEDICT': 2, u'WILD CHILD | MUTANT ': 2, u'FEROCIA/': 1, u'SHROUD/MAXIMILLIAN Q': 1, u'CAPTAIN TERROR/DAN K': 1, u'CAT II': 2, u'CHASE, DETECTIVE SLO': 2, u'PIRANHA': 2, u'ABSORBING MAN/CARL C': 1, u\"O'HOOLIHAN, SERGIUS\": 2, u'CAT IV': 2, u'LEEDS, NED': 1, u'TRITON DOPPELGANGER': 1, u'ABCISSA': 2, u'BUSHMASTER II/QUINCY': 1, u'REILLY, MAVIS': 2, u'OSBORN, NORMIE': 1, u'HUXLEY, DR. ALDA': 1, u'JZEMLICO, WARDEN': 2, u'ROSS, COURTNEY': 2, u'RIGHT-WINGER/JEROME ': 1, u'TRASK, LAWRENCE LARR': 1, u'FROST, BYRON': 2, u'GANYMEDE': 2, u'MR. FEAR III/PROF. L': 2, u'SKULLBUSTER': 2, u'TRAVELER': 2, u'CUFFS/': 2, u'DE LA JOYA, SISTER M': 2, u'THALLIUM': 1, u'MOONSTONE/LLOYD BLOC': 1, u'MYSTERIA/': 1, u'MANN, DR. J. VERNON ': 2, u'HEADHUNTER/': 2, u'BURRTHROP, T. BARTON': 2, u'HAMIR': 2, u'YAP': 1, u'AKUTAGAWA, OSAMU': 1, u'JUSUR': 2, u'THULE, GEN.': 2, u'DUBOIS, DR. CLAUDIA': 2, u'KROTOK': 2, u'BLOODHOUND/': 2, u'SPEEDBALL DOPPELGANG': 1, u'SPAT': 2, u'MAINSPRING': 2, u'KING BEDLAM/CHRISTOP': 2, u'ATALANTA': 1, u'JAVITZ': 2, u'PURSUER': 2, u'SMYTHE, ALISTAIR ALP': 2, u'FITZGERALD, MOLLY': 2, u'SISTER CHLOE': 2, u'PSYNAPSE': 1, u'CLOUD': 2, u'MR. PAYBACK/': 2, u'TILBY, TRISH/PATRICI': 1, u'JACKAL II/WARREN': 2, u'OLSEN, JIMMY': 2, u'SOMMERS, APRIL': 2, u'BRADDOCK, ELIZABETH': 2, u'SPYMASTER II': 1, u'SENTRY IV/VAL': 2, u'STRONG GUY DOPPELGAN': 1, u'MOY, ALYSSA': 1, u'JENSKOT/ALIYA': 2, u'YRIK': 2, u'AGONY/': 2, u'BLAKE, BECKY': 1, u'SHULK': 2, u'CHTYLOK': 2, u'MARVEL BOY/MARTIN BU': 2, u'EXITAR': 2, u'ST. GERMAINE, COMTE': 2, u'DOVER, DONNA-LEE': 2, u'LEONUS/LIONUS [INHUM': 2, u'CAPTAIN ULTRA/GRIFFI': 2, u'KUBIK': 1, u'NEKOBAH, ROMAN': 2, u'AUSTIN, SUSAN': 1, u'MAGUS II': 2, u'SIGMAR': 2, u'LOCKHEED | MUTANT X-': 2, u'MEACHUM, WARD': 2, u'STEGRON': 2, u'SWANN, DR. EVAN': 1, u'OMERTA/': 2, u'JEFFRIES, MAGGIE ': 2, u'PHILLIPS, HANDSOME H': 2, u'DAGDA': 2, u'DR. DOOM | MUTANT X-': 2, u'SABU': 2, u'BLUE BULLET/PROF. JO': 1, u'SOUL MAN/FATHER JASO': 2, u'BRUTACUS': 1, u'DIABLO/ESTEBAN DE AB': 1, u'NICKEL': 2, u'PENDRAGON, ARTHUR': 2, u'KARKAS [DEVIANT]': 1, u'MASTER MOLD': 2, u'YSSA': 2, u'MALUS, DR. KARL': 1, u'CAGLIOSTRO, ALESSAND': 1, u'LLYRON': 1, u'LANDERS, DR.': 2, u'RAZORFIST ROBOT': 2, u'CHALIZ, HAZRAM': 2, u'STORM, SUE | TIMESLI': 1, u'MONOCLE': 2, u'PHOENIX III/RACHEL S': 1, u'EDWARDS, MARTIN/DR. ': 2, u'BUCKMAN, EDWARD': 2, u'GRANT, MARY MEEKS': 1, u'REAGAN, NANCY': 2, u'TRIAX': 2, u'FIREFIGHT/': 2, u'IONELLO, JASON': 1, u'MAN-BULL/BULL TAURUS': 2, u'DEVEREAUX, MICHELLE': 2, u'AMPHIBIAN/KINGLEY RI': 1, u'DIEGO, MANUEL': 2, u'KYSA': 2, u'BENNING, VERONICA': 1, u'ROBINSON, LUCY': 2, u'REVERB': 2, u'TRAYNOR, HARLEY': 2, u'SEEKER III': 2, u'SOLARR': 1, u'ZERO': 2, u'NOVA DOPPELGANGER': 1, u'WILSON, JIM': 1, u'KILGREW, GERARD': 2, u'BEYONDER': 1, u'MEACHUM, JOY': 2, u'FANDRAL [ASGARDIAN]': 1, u'STALKING FOX': 2, u'BLOTT, BRIGADIER INK': 2, u'MOLE MAN | MUTANT X-': 2, u'GREMLIN/': 1, u'APE-X/XINA': 2, u'FLYNN': 2, u'ENFORCER/DELAZNY': 2, u'LEEBRE, VEEDA': 2, u'UNCEGILA': 2, u'LONGARM/': 2, u'WARREN, MR.': 2, u'CAPTAIN UNIVERSE/STE': 2, u'FIZ [SKRULL]': 1, u'BEETLE II/LEILA DAVI': 1, u\"CH'THON\": 1, u'MCPHERSON, LING': 1, u'YUAN, BILLY': 2, u'BAIRD, DR.': 1, u'EL JAGUAR': 1, u'MCLEISH': 2, u'BASILISK III/': 2, u'MELLACE, TONY': 2, u'DRY': 2, u'SHAKATI': 2, u'BLACK GOLIATH/DR. WI': 1, u'DARK HUNTER': 2, u'GRANT, SILAS': 2, u'PENANCE/MONET ST. CR': 2, u'FOXFIRE/OLIVIA UNDER': 2, u'VAGABOND/PRISCILLA L': 1, u'TROLL/': 2, u'SILVERMANE/SILVIO MA': 1, u'ESTAVES, DR. ROSA': 2, u'HULK IV': 2, u'NEEDLE': 1, u'RAM, SIR': 2, u'ARCLIGHT/PHILLIPA SO': 1, u'RAZA LONGKNIFE': 1, u'HILLIARD, JACOB': 2, u'KREA, BRUNO': 1, u'GUNTHAR II': 1, u'QUICKSAND': 1, u'KILLIAN': 2, u'EXPEDITER II/ZOE CUL': 1, u'FURY, NICK L.M.D.': 2, u'HINKLEY, ADMIRAL': 2, u'LO, JIMMY': 2, u'BLACK MARVEL/DAN LYO': 1, u'MASTER ZEI': 2, u'STITHY, THEODORE': 2, u'GAMMENON [CELESTIAL]': 1, u'EL VAMPIRO': 2, u'COWAN, EARL': 2, u'NUADA': 1, u'REAPER II': 2, u'PRADDA FOL': 2, u'ROMMEL, EDWIN ROMULU': 1, u'JARDINE, AMANDA': 2, u'HARRIER': 2, u'MOLECULE MAN/OWEN RE': 1, u'LEBEAU, JACQUE': 2, u'DESIGNATE/TARENE': 2, u'BLAZE, ROXANNE SIMPS': 2, u'FRANKENSTEIN MONSTER': 1, u'VONYA, DR. ANATOLY': 2, u'OBLITERATOR [ELDER]': 2, u'PRESTER JOHN': 1, u'GREEN, JAMES': 1, u'AUTHIER, TRACY TRACE': 2, u'HORUS [EGYPTIAN GOD]': 2, u'BRADLEY, HANK': 1, u'ARBOGAST, BAMBI': 1, u'ANUBIA': 2, u'NELIT': 2, u'RADIUS/JARED CORBO': 2, u'VANE, ROGER': 2, u'JOSHUA, DR. SEGISMUN': 2, u'HARGEN': 2, u'CARPATHIAN, ANDREW': 2, u'GRASP': 2, u'RALEIGH, RICHARD': 2, u'BOVA': 1, u'ISIS': 2, u'TRASK, RAYMOND': 2, u'DILLON, BERNIE': 2, u'VERTIGO': 1, u'DAN-FARR': 1, u'XIANDU': 2, u\"T'KYLL ALABAR\": 1, u'DESTINE, ADAM': 2, u'WHIZZER/ROBERT L. FR': 1, u'WEISENTHAL, DR. JONA': 2, u'KOLOMAQ': 2, u'FOX, PHIL': 2, u'PARKER, BEN': 2, u'EPSTEIN, MRS.': 2, u'COPPERSMITH, ALFRED': 2, u'BARRACUDA/': 2, u'PRAZNIKI, VICTOR': 2, u'FOOLKILLER III/KURT ': 2, u'FLUFFY': 2, u'WORTHINGTON, ELIZABE': 2, u'WATCHFIRE/': 2, u'SANDMAN DOPPELGANGER': 2, u'HEALER': 2, u'SHANE, BRIDGIT': 2, u'MARCHALLA': 2, u'ALOUETTE, GENARD': 2, u'DRAGONESS': 2, u'NIGHT RIDER III/HAMI': 2, u'SEVERIN, MARIE': 2, u'CADAVER': 2, u'WOLVERINE SKRULL': 2, u'PARADIGM': 2, u'HARBINGER': 1, u'KONIEV, MRS.': 2, u'VIPER/JORDON DIXON': 1, u'ARABIAN KNIGHT/ABDUL': 1, u'PAGE, KAREN': 1, u'CRIMSON DYNAMO VI/VA': 1, u'CELESTE': 2, u'SMASHER II': 2, u'SUPER-NOVA': 1, u'SMASHER IV': 1, u'GRIFFIN': 2, u'VOSTOK': 1, u'MAGOG II': 2, u'MODAM': 1, u'LANGFORD, DR. DAVID': 2, u'AMERICAN EAGLE II/JA': 1, u'THUMBELLINA': 2, u'RED WOLF III/WILL TA': 1, u'GOLDBUG': 2, u'MISTER HYDE/CALVIN Z': 1, u'RAMIREZ, JAVIER': 1, u'WEED': 2, u'LEVIATHAN VI': 2, u'AZURE': 2, u'RAGA-SHAH': 2, u'WHIPLASH II/': 1, u'RED GUARDIAN IV': 1, u'FEAR EATER/KKALLAKKU': 2, u'DEVOURER': 2, u'DR. SUN': 2, u'MR. LUCK/RAMON GARCI': 2, u'MEER, MAX': 2, u'CLARIS, SVEN': 2, u'UNUS THE UNTOUCHABLE': 1, u'CLOONEY, DR.': 2, u'ECHO/MAYA LOPEZ': 2, u'KINCAID, MOSES': 2, u'SUN, LIN': 2, u\"M'KUMBA\": 2, u'MAESTRO': 2, u'GELLER, URI': 2, u'MAN-BEAST': 2, u'BORAKU': 2, u'ROSSI, COL. MICHAEL ': 2, u'RAMPAGE/STUART CLARK': 1, u'KINLAN KARTH KITH': 2, u'BLASTING CAP/': 2, u'SUMMERS, PHILIP': 2, u'BALE, EMERSON': 1, u'CARETAKER': 2, u'RAZOR/': 2, u'MO': 2, u'THUNDERBALL/DR. ELIO': 1, u'WALRUSS': 2, u'BLOK': 2, u'BLURRY': 2, u'GAUNT, OFFICER KIM': 2, u'DOC': 2, u'TOLLIVER, REV. JACKS': 2, u'LUBOWSKI, LUGWRENCH': 2, u'FOOLKILLER II/GREG S': 1, u'PLUTO [OLYMPIAN]': 1, u'TAKAHAMA, JANE': 2, u'DEFENSOR': 1, u'TRIATHLON/DELROY GAR': 1, u'BERNSTEIN, DR. NOAH': 2, u'FIN/PETER NOBLE': 1, u'KNOBLACH, GLORIA': 2, u'CAPTAIN BRITAIN/BRIA': 1, u'REDWING': 1, u'SHOOTING STAR': 1, u'QUENTINO': 2, u'HORTON, DOUGIE': 2, u'NECROMANCER/DR. STEP': 2, u'MADAME HYDRA VI': 2, u'SCARUM/': 2, u'ZAFAR, OFFICER JIMMY': 1, u'LIPTON, TRENTON III': 2, u'FANG II': 2, u'ASHUR': 2, u'KRAGAR': 2, u'MURRAY, WILLIAM T. B': 2, u'ELLENTHORPE, MARIAH': 2, u'HU, DR.': 2, u'FLINT, LT.': 2, u'HOGARTH, JERYN': 1, u'DONYELL': 2, u'GROSS, CLIFFORD': 2, u'MILLER, JENETTE': 3, u'CRUSHER/EL PROFESSOR': 2, u'PULSE/': 2, u'DRAGONBLOOD, ULYSSES': 2, u'WAR TOY/ALKHEMA': 1, u'MOUSE': 2, u'ACBA': 2, u\"O'HARA, GERALD\": 2, u'ARMADA II/': 2, u'TEQUILA/': 2, u'STEEPLEJACK II/MAXWE': 1, u'JACOBS, BEN': 2, u'DARGIL': 2, u'EXECUTIONER III/BRUT': 1, u'BLACKHEART': 2, u'EGGHEAD/PROF. ELIHAS': 1, u'CATHODE/': 2, u'CYBORG X/': 2, u'ALBINO/DR. AUGUSTA S': 2, u'GLEASON, KAREN': 2, u'FROG-MAN II/EUGENE P': 1, u'NITRO/ROBERT L. HUNT': 2, u'SHORR, JACQUELINE': 2, u'QUASAR': 2, u'POWERHOUSE II/': 2, u'MICROMAX/SCOTT WRIGH': 1, u'ROSE IV/JACOB JAKE C': 1, u'MOONGLOW/': 2, u'KAA': 2, u\"KRAY, D'VON\": 2, u'MADAME MASQUE IV': 1, u'KHOON': 2, u'WEAK LINK/ERNIE MILL': 2, u'HYPERION II': 1, u'KYLUN/COLIN MCKAY': 1, u'DR. STRANGER YET': 2, u'A': 2, u'ZZZAX': 2, u'MAINFRAME II': 1, u'WEALS, MELVIN J.': 2, u'ABEL': 2, u'SANDOVAL, JULIANA': 2, u'EARTHQUAKE': 2, u'SCUZZ': 2, u'BEACH, SPIDER': 1, u'DEIMOS': 2, u'BOUNTY': 2, u'SCREAM': 1, u'REJECT/RAN-SAK [DEVI': 1, u'MR. JUSTICE/TIMOTHY ': 2, u'DIAMOND, KATHY': 2, u'FORD, GERALD': 2, u'TYNE, ELIZABETH/JANI': 2, u'SKIN, NYLA': 2, u'AUTHORITY/': 2, u'JONES, JANIS': 1, u'HIBBERT, ELLEN': 2, u'SCORPION/MACDONALD G': 1, u'KILLER CLOWN': 2, u'SOUL-EATER': 1, u'NIGHT FLYER': 1, u'BLACK KNIGHT V STATU': 1, u'SUMMERS, NATHAN CHRI': 1, u'CHAN, SARAH': 2, u'COWEN, BUCK': 2, u'HARDRIVE': 1, u'PETERS, SHANA TOC': 2, u'HAAG': 2, u'DIRKSON, GUS': 2, u'REM-RAM/': 2, u'BLAZE, CRAIG': 2, u'X-MAN | MUTANT X-VER': 2, u\"O'BREEN, GLORIANNA\": 1, u'KATANA/': 2, u'GREY, ELAINE': 1, u'LYJA LAZERFIST [SKRU': 1, u'RAZORWIRE': 2, u'BOERKE, MAYOR': 2, u'SHAW, MILDRED': 2, u'FAROUK': 2, u'MANTLO, BILL': 2, u'STRUCKER, ANDREAS': 1, u'BROWN, FRANK': 2, u'SERGEI': 1, u'BRAINCHILD': 2, u'VALKIN': 2, u\"A'YIN\": 2, u'DEVILLE, JENNIFER CR': 2, u'STEEL WIND': 1, u'VOYAGER': 2, u'TOPSPIN/DARREN MITCH': 2, u'DRUIG': 2, u'NICHOLS, TOM': 2, u'FU MANCHU': 2, u'EVERWRAITH/': 2, u'CENTURIUS': 2, u'ROGERS, W.T.': 2, u'MODINE, REP. BERNARD': 2, u'WRAITH': 2, u'CALLAGHAN, JAMES': 1, u'MARCEAUX, BELIZE': 2, u'FALSWORTH, KENNETH': 2, u'AVRIL, YVETTE': 2, u'LOGOS': 2, u'ORBIT': 2, u'DRACULA | MUTANT X-V': 2, u'DILLON, ANITA': 2, u'MARIN, DR.': 1, u'REVENANT/': 2, u'NIGHTHAWK III/NEAL': 2, u'DANTE': 2, u'TANNEN, VINCENT': 2, u'NAVARRO': 3, u'TERRIGENE': 2, u'LEOPOLD, ARCHER': 1, u'DIBBS, LIONEL': 1, u'DAREDEVIL | MUTANT X': 2, u\"O'DONNELL, EAMON\": 2, u'MARAUD': 2, u'DEAD HEAD/': 2, u'CHAOS/DANIEL DASH': 2, u'SOFEN, MARION': 2, u'HIRO': 2, u'STEWART, MADDIE': 2, u'EL AGUILA': 2, u'SPACE PHANTOM': 1, u'RANN, COMMANDER ARCT': 2, u'TUNDRA': 2, u'EVE 3,031': 2, u'DELUGE II': 2, u'RAHN, TAMARA': 1, u'ROMITA, JOHN': 2, u'DIAMONDHEAD/DYKER': 2, u'ROCKET RACER/ROBERT ': 1, u'TITANIUM MAN III/BOR': 2, u'GLORIOLE': 2, u'DOCKERY, RUPERT': 2, u'SYPHONN': 2, u'DENNAGER, MICHAEL': 2, u'PUDDLEGULP': 2, u'ANGAR THE SCREAMER/D': 1, u'HYPNO-HUSTLER/': 2, u'CARLTON, LUCY': 2, u'PILEDRIVER II/BRIAN ': 1, u'JUSTICE II/VANCE AST': 1, u'BRUTUS II': 2, u'COCKROACH/': 2, u'RYKER, GENERAL': 2, u'WENDIGO II/GEORGES B': 2, u'TSUNG, MARCUS': 2, u'ANVIL/JOHNNY ANVIL': 2, u'STILWELL, RON': 2, u'GLITCH/CHARLES J. AM': 2, u'MORPHEUS/ROBERT MARK': 2, u'PACE, MICHAEL': 2, u'TECHNOCRAT/RANDY': 2, u'BLUE STREAK/': 1, u'CUMMINGS, DIANE': 2, u'NANNY II': 1, u'BAPTISTE, TANTE MATT': 2, u'AKULIA': 2, u'NORTHSTAR | MUTANT X': 2, u'BARTOS': 2, u'HOUND': 2, u'HELL-EYES': 2, u'MENTALLO': 1, u'LANG, CASSANDRA CASS': 1, u'PENNYWORTH, J.C.': 1, u'HELLSTROM, VICTORIA': 2, u'RAINTREE, VIVIAN': 2, u'HALLOWEEN JACK': 2, u'EL TORO NEGRO/SERGIO': 2, u'NOVA/RICHARD RIDER': 1, u'CALLAHAN, MIKE': 2, u'WILBURN, MYRON': 1, u'NUTT': 2, u'TAGAK': 2, u'TANTE MATTIE': 2, u'LEGAULT': 2, u'NECROM': 2, u'SHOC/NEIL AIKEN': 2, u'DR. VOLKH/VLADIMIR O': 1, u'BUMPO, MR.': 2, u'NIGHTINGALE/': 2, u'GLITTER/': 2, u'DOVINIA': 3, u'SEESHA': 2, u'WANG, LI': 1, u'GARNOK REBBAHN': 2, u'GOG III': 2, u'GYRICH, HENRY PETER ': 2, u'FIELDS, MARJORIE': 2, u'SLAYER/': 2, u'HELLEN': 1, u'BAZIN, BRODERICK RIC': 1, u'MAXOV': 2, u'AINET': 2, u'ECLIPTIC': 2, u'ETERNITY/ADAM QADMON': 1, u'SCYLLA': 2, u'JONES, TAMMY ANNE': 1, u'BLIZZARD II/DONALD G': 1, u'CHALMERS, MR.': 2, u'LEWIS, DET. GARON': 2, u'SUNTURION/ARTHUR DEA': 2, u'DARE, ROSSALYN': 2, u'BATTLEAXE/': 1, u'FLY': 2, u'SORRENTINO/SORRENTIN': 2, u'ANT-MAN II/SCOTT HAR': 1, u'PARSONS, DR. DEREK': 2, u'SABRETOOTH | MUTANT ': 2, u'RASPUTIN, LUCIFER': 2, u'FLO': 2, u'CAPTAIN MANHATTAN': 2, u'ANNALEE': 2, u'KORREK': 2, u'BLISS, BONNIE': 2, u'POWER MAN II | MUTAN': 2, u'WEASEL/JACK HAMMER': 2, u'BLACK KNIGHT III/EOB': 1, u'VIRAKO': 2, u'MCKNIGHT, BOB': 1, u'GEESEY, KARL': 2, u'GYRICH, HENRY PETER': 1, u'THOMPSON, EUGENE FLA': 1, u'CLARK, JOHN': 2, u'LEO II/': 2, u'MIST': 2, u'CURZON, DETECTIVE IN': 2, u'GAMBIT | MUTANT X-VE': 2, u'MAGMA/AMARA AQUILLA/': 1, u'WALKER, MICKEY': 1, u'KEERG': 1, u'SOPHIE': 1, u'TREVANE, DET. CONNOR': 2, u'LOCKHART': 2, u'SAUNDERS, DABNEY': 2, u'CAPTAIN AMERICA DOPP': 1, u'MASTERMIND II/BOWERS': 2, u'NICODEMUS': 2, u'NORTH, RICKY': 2, u'KRUEGER': 2, u'MOJO': 2, u'PLANTMAN/SAM SMITHER': 1, u'RYKER, HARLAN': 2, u'SUGAR MAN': 2, u'CHEKOV, ARTHUR ANTON': 1, u'CROSS/': 2, u'SLUGANSKI, ERNIE': 2, u'ASBESTOS LADY': 1, u'POWELL, GRACE': 1, u'SKIN II/DONNA BLISS': 1, u'HALE, TOM': 1, u'STRONG, MARTIN HENRY': 2, u'TAKAR': 2, u'IMPULSE II/DWIGHT HU': 2, u'RASCAL/': 1, u'YOUNG, AGNES': 2, u'FERGUSON, ISABEL': 2, u'ANGEL DOPPELGANGER': 1, u'JONES, BART': 2, u'INFINITY II': 1, u'PEARSON, AUBREY': 1, u'MOORE, TONI': 2, u'BLAQUESMITH': 1, u'SILVER SURFER/NORRIN': 1, u'CORONARY/JIMMY SHARP': 2, u'ONSLAUGHT II': 1, u'BALDER [ASGARDIAN]': 1, u'STERIXIAN, ALMONNAS': 2, u'URTHONA': 2, u'INGOT/': 2, u'CAMBRIDGE, MOXIE': 2, u'TOBIAS': 1, u'HAG/': 2, u'LEVIATHAN IV': 1, u'STARBOLT': 2, u'RAVEN, SABBATH II/EL': 2, u'FAZE': 2, u'SCORPIO/JAKE FURY': 1, u'PAVANE': 2, u'RIDGEWAY, DAWN': 1, u'NASH, JOHN JOHNNY TH': 2, u'MADDICKS, NADINE': 2, u'LOBLOLLY/': 2, u'MAN-SPIDER CLONE | M': 2, u'THERNON': 2, u'SPIRAL': 1, u'STRANGE': 2, u'CARDENAS, PACO': 2, u'CHAMPION, IMUS': 1, u'FARAHD': 2, u'FLATMAN': 1, u'MINDSTORM/': 2, u'JENNINGS, JOSEPH': 1, u'JAYE-FIRESTONE, GING': 1, u'DANNING, SHEILA': 1, u'BEAUTIFUL DREAMER II': 2, u'MEGA MAX/': 2, u'YASHIDA, MARIKO': 2, u'DEXAM': 2, u'WALKER, SHERIFF CHAN': 1, u'FORGE | MUTANT X-VER': 2, u'XYOSS': 2, u'SHAW, SHINOBI': 2, u'BLOOD BROTHERS': 1, u'HUSK/PAIGE GUTHRIE': 1, u'BATTLEAXE II/JEROME ': 2, u'LOOP': 2, u'LINAK': 2, u'IVANOVA, ELENA': 2, u'RINGLET': 2, u'ARIANE': 2, u'PATRICK, KERRY': 2, u'GROSS, IRA': 2, u'PARKER, PETER | TIME': 1, u'HARRISON, COL. EDWAR': 2, u'NZAGA': 2, u'RAWHIDE KID': 1, u'THINGEE': 2, u'DANIELS, BRIE': 2, u'BORROUGHS, CHARLES C': 2, u'DEATHLOK/COLONEL LUT': 1, u'TYPEFACE/GORDON THOM': 2, u'ANGKOR': 2, u'STERIXIAN, LOATIA': 2, u\"M'DAKA\": 1, u'SHIGARU': 2, u'EMBER': 1, u'MILLER, TRACE': 2, u'GLADIATOR/MELVIN POT': 1, u'HAMMER II/': 2, u'WOODS, MIRANDA': 2, u'KREE SCARLET WITCH [': 2, u'SISTER MARIA': 2, u'TURK II': 2, u'GUTHRIE, LUCINDA': 2, u'WINDEAGLE/HECTOR SAN': 2, u'RABBIT': 2, u'ARMAGEDDON': 2, u'KA-ZAR/KEVIN PLUNDER': 1, u'SENNET, PAMELA': 2, u'CEREBRITE ALPHA': 2, u'MOONSTOMP/': 1, u'DUGAN, DUM DUM | MUT': 2, u'BLACK CRANE/': 2, u'CRIMSON COWL II/': 1, u'SABRE': 2, u'JONES, DRUCILLA': 2, u'RIPSTER': 2, u'GOG II': 2, u\"B'KOSA, GEN. JONATHA\": 2, u\"ICON/DR. U'MBAYA A'K\": 1, u'BARAK': 2, u'SMITH, COL. TOLLIVER': 2, u'CHANCE II/NICHOLAS P': 2, u'GULADKIN': 1, u'SCORPIO II': 2, u'LEAP-FROG/VINCENT PA': 1, u'STEM': 2, u'WOLFE, SARA': 2, u'SCORPIO IV': 2, u'BANNERJEE, DR.': 2, u'NIGHTCRAWLER 2013': 2, u'SMASHER III': 2, u'SWITCH/DEVON ALOMAR': 2, u'MCCULLOUGH, DR. ANDR': 2, u'COLLECTIVE MAN II': 2, u'BOLT, COUNCILMAN AND': 1, u'AEGIS/TREY ROLLINS': 2, u\"N'ASTIRH\": 1, u'CROSSBONES/BROCK BIN': 1, u'MR. FEAR V/': 2, u'D.O.A.': 2, u'OTHER': 1, u'BOOKWORM/NELSON GRUB': 2, u'DAMBALLAH': 2, u'GRIM HUNTER/KRAVINOF': 2, u'FAMINE/AUTUMN ROLFSO': 1, u'PRETTY LARRY': 2, u'GUARDIAN | MUTANT X-': 2, u'GREEN, ARNIE': 2, u'SHELLSHOCK/': 1, u'NANNY': 2, u'KALA': 1, u'FORTUNE': 2, u'KALI': 2, u'ADAMS, GEORGE': 2, u'STARK, HOWARD | TIME': 1, u'ENTITY': 2, u'CASPER': 2, u'BRUNNHILDE/MCM-XLI (': 1, u'CORSI, TOM': 1, u'MACKAY, MURDO': 2, u'KUROYAMA': 2, u'BLOOD SPIDER/': 2, u'ROSETTA STONE': 2, u'PEARLA': 2, u'HOTAMITANIO': 2, u'CROSSFIRE': 1, u\"KATSU'TA'RO\": 2, u'ROSETTI, GABRIEL': 2, u'MADAME WEB/CASSANDRA': 2, u'ANOMALY': 2, u'URSULA': 2, u'PISTON/ANDREI SEMYAN': 2, u'RED GUARDIAN III/DR.': 1, u'ASTROVIK, ARNOLD': 2, u'STYGE, REV.': 2, u'WATSON, TOMMY': 2, u'EZEKEEL': 2, u'ITZAMNA': 1, u'INERTIA/': 2, u'WITHERS': 1, u'SHE-WOLF/PAULETTE BR': 1, u'VULTURE II/BLACKIE D': 2, u'PETROVITCH, IVAN': 1, u'ALEXANDER, CALEB': 1, u'CURSON, LT. TARA': 2, u'MAXIMOFF, DJANGO': 1, u'KANGAROO/FRANK OLIVE': 2, u'BERNSTEIN, EMMA WEBS': 2, u'CYPHER/DOUG RAMSEY': 1, u'HIROMITSU': 1, u'RIVERA, MS.': 2, u'PURPLE MAN/ZEBEDIAH ': 1, u'TOMORROW HAWK/CEYOTE': 2, u'DR. BONG': 2, u'CONROY, KAREN': 2, u'STOKER, OLIVIER': 2, u'REDWING II': 2, u'MISFIT/': 2, u'LANN': 1, u'BASALTAR': 2, u'ETERNAL BRAIN/PROFES': 2, u'MOON KNIGHT/MARC SPE': 1, u'GRIM REAPER/ERIC WIL': 1, u'FOLD': 2, u'WIZARD OF THE WEST': 2, u'LOCKE, DR. ALEXANDER': 2, u'WINGFOOT, WYNONA': 1, u'PACKER, ARTIE': 2, u'BARRENOS, OMAR': 2, u'BLACKWING II/': 2, u'VOLX': 2, u'DIRT NAP': 2, u'NIGHT PHANTOM II': 1, u'VEGA, ROBIN': 2, u'AZIR': 2, u'CARRION': 2, u'BRUTE | MUTANT X-VER': 2, u'SHAARA, MRS.': 2, u'HIGGINS, JANE': 2, u'BANNON, LANCE': 2, u'TOWNSEND, CHRIS': 2, u'CHURCHILL, SIR WINST': 1, u'HARDWIRE/': 2, u'GIDEON': 1, u'VOGE, TULLAMORE': 2, u'FARREL, MIKE': 1, u'BLACK KNIGHT II/SIR ': 1, u'DARIA': 2, u'ROBERTSON, JOE': 1, u'EDGERTON, MR.': 2, u'HAVEN/RADHA DASTOOR': 2, u'BLOODSHED/WYNDELL DI': 2, u'NIMROD III': 2, u'KAISHEK, YOLYN': 2, u'MOLE': 2, u'STERMAN, ANDREA ANDI': 1, u'PARKER, MAY III': 2, u'LANGSTROM, LIEUTENAN': 1, u'ELLIS, KEN': 2, u'ROWEN, MIKE': 2, u'THUNDERBIRD III/NEAL': 1, u'HANRANSHA/ASAHI': 2, u\"D'KAY\": 2, u'PALERMO, VICTOR': 1, u'HARNESS/ERIKA BENSON': 1, u'QUASAR II': 1, u'M': 2, u'MARLES, DR. THOMAS': 2, u'ROTH, DR. GERALD': 2, u'SOULFIRE/JASON MALDO': 2, u'FROH': 1, u'MCCABE, LINDSAY': 2, u'VANISHER': 1, u'KING, HANNIBAL/HENRY': 2, u'HAYDEN': 2, u'VIGIL': 2, u'ZEDRAO, GENERAL': 1, u'BLACK KNIGHT/SIR PER': 1, u'VIENNA': 2, u'BADALAMENTE, JESUS': 2, u'URICH, DORIS': 1, u'GARCIA, REV.': 1, u'QUASAR DOPPELGANGER ': 1, u'POPEYE': 1, u'MICHAELS, DAWN': 2, u'ULYSSES': 2, u'VEIL': 2, u'SUZIE': 2, u'DR. SYNNE': 2, u'BRIGHTSWORD/CARTER D': 2, u'STEWART, MACKINLEY': 2, u'EHMAN, HEIDI': 1, u'LORVEX': 2, u'HELIUM': 2, u'SNAKE-EYES': 2, u'BETTY-6': 2, u'MASTER FOUR': 3, u'BALLANTINE, DEVON': 1, u'ZANE, DONOVAN': 2, u'TUSK': 1, u'INFINITY THRALL': 2, u'DEATH': 1, u'REFLEX/': 2, u'OSBORN, NORMAN': 2, u'ADAMSON, REBECCA': 3, u\"ELEC'TRIX/\": 2, u'HEDRON': 2, u'CATAPHRAX': 1, u'HAV-ROGG': 2, u'QUAGMIRE': 1, u'DAZZLER/BURTRAM WORT': 2, u'MYSTIQUE | MUTANT X-': 2, u'ZOM': 2, u'ZON': 2, u'RUMOR/': 2, u'MORGAN, JERROLD JERR': 2, u'ASTROLOGER/': 2, u'SASQUATCH II': 2, u'TSO, JASON': 2, u'HAWLEY, PAMELA': 1, u'WOO, JIMMY': 1, u'PSYLOCKE 2013': 2, u'BELIAL': 2, u'MARLOWE, STEVE': 2, u'MACENDALE, KAREN': 2, u'BAXTER, NOAH': 2, u'GREICO, LINDA': 2, u'QUINN, ASHLEY': 1, u'CHAUFFARD': 2, u'BECKLEY, BENNY': 2, u'KANE, SUGAR': 2, u'TARR, BLACK JACK': 2, u'DOMINO III/BEATRICE/': 1, u'ECLECTA/': 2, u'MANH, COY LEONG XUI': 2, u'TRACER': 2, u'BAAL II': 2, u'MARAUDER II': 2, u'TANNER, JACKO': 2, u'IZANAMI': 2, u'RORY, RICHARD': 2, u'TIMBERIUS': 1, u'HOWARD THE DUCK': 2, u'STUART, BRIG. ALYSAN': 2, u'SYLPH': 2, u'WIDE LOAD ANNIE/ANNI': 2, u'MINOR DOMO': 2, u'IDNAR': 2, u'RAPIER': 1, u'PARADOX': 2, u'BARKER, MATTHEW T.': 2, u'SIGN/': 2, u'THERAK': 2, u'MCCOY, NORTON': 2, u'BROTHERS GRIMM': 2, u'SQUID/DONNY CALLAHAN': 2, u'PHOENIX 2013': 2, u'LADY DEATHSTRIKE/YUR': 1, u\"SKYMAX/SK'YM'X/JAMES\": 2, u'MOTHER-OF-PAIN': 2, u'RIDGE, CHRISTINA DEV': 2, u'PHAE-DOR': 2, u'NELSON, FRANKLIN FOG': 1, u'JASON': 1, u'CROW, REV. JOSHUA': 2, u'SPIDER-WOMAN/JESSICA': 1, u'ALLEN, TERRY': 2, u'TUMBLER/JOHN ROBERT ': 1, u'MANIPULATOR/': 1, u'QUILL': 1, u'TEN FOR': 1, u'PAVANE II': 2, u'WHYTE, HARMONY (HARM': 1, u'ZOMBIE/SIMON GARTH': 2, u'TILTON, ROLAND R.': 1, u'BETELHEIM, NORMA': 2, u'MICHEL, RAFE': 1, u'SCOTT, PETER': 2, u'FERAL/MARIA CALLASAN': 1, u'SWIFT/': 2, u'EQUINOX/TERRY SORENS': 2, u'YAYAUHCO': 2, u'HUNTSMAN': 2, u'BELLAM': 2, u'GARTH': 2, u'WILFORD, ELISABETH B': 1, u'SCRIER II/S. CRIER': 2, u'SPAULDING, JILL': 2, u'GOONER, MELVIN': 2, u'GRIMM, BEN | TIMESLI': 1, u'KEL, JANOTH': 2, u'OX': 2, u'DEX': 2, u'TENNYSON, JACOB': 2, u'WASP/JANET VAN DYNE ': 1, u'CARDIAC/DR. ELI WIRT': 2, u'MAXWELL, DR. WILFRED': 1, u'SUPERCHARGER/': 2, u'CELLANOS, MARCELLA': 2, u'DEATHLOK III/MICHAEL': 1, u'WALDO': 1, u'ADVERSARY': 2, u'DELGADO, FATHER': 1, u'BOX II/JERRY JAXXON': 2, u'PIXIE/ [ETERNAL]': 2, u'MCDONNELL, OSCAR': 2, u'OX II/DR. KARL STRAG': 2, u'TRAVERS, MIKE': 2, u'HAMMER IV/': 2, u'RAVEN, HELEN': 2, u'HELLRAZOR': 1, u'IGOR': 1, u'CARLTON, JAKE': 2, u'DIAMONDBACK II/RACHE': 1, u'CYBELE [ETERNAL]': 1, u'RED QUEEN': 2, u'FANCY DAN': 2, u'STANFORD, DWIGHT ROL': 1, u'CRIMSON CRUSADER/ROR': 2, u'THAN, VELENA': 2, u'BRICKMAN, SEN. MILES': 1, u'RUIZ, DR. BERNARDO': 2, u'SUKHAROV, DIMITRI': 2, u'BEAST 2013': 2, u'FALLON, MEG': 2, u'SIEGE/JOHN KELLY': 2, u'PROCTOR': 1, u'CLARKE, GENERAL JERE': 2, u'SIFFROR': 2, u'KONIEV, DMITRI': 2, u'DAYDREAMER/CATHERINE': 2, u'MAULER/BRENDAN DOYLE': 2, u'BORROB': 2, u'RICKMAN, JONATHAN': 2, u'AGAMOTTO': 2, u'GRONK': 2, u'FURMINTZ, HARMON': 2, u'NOCTURNE/': 2, u'LIN, MEI': 2, u'WEISENTHAL, DR. JACO': 2, u'BERENGHETTI, MICHAEL': 2, u'LACOSTE, RAE': 2, u'KERIVAK': 2, u'DEADBOLT': 2, u'DAREDEVIL DOPPELGANG': 1, u'SPITFIRE/LADY JACQUE': 1, u'TUNGSTEN': 2, u'DARE, JOHNNY': 2, u'NEVILLE, KATE': 1, u'CISCERNOS, SELENA': 2, u'GAMMA-BURN/': 2, u'CHAINSAW/': 2, u'SHRINE': 2, u'COWEN, ELAINE': 2, u'ALDEN, PROF. MEREDIT': 1, u'SCHEMER/RICHARD FISK': 1, u'THRAXON': 2, u'WILD MAN/ALEX WILDMA': 2, u'RICHARDS, FRANKLIN 2': 2, u\"K'RIN\": 2, u'HIGGINS, RICHIE': 2, u'WALLOP/WALTER DESTIN': 2, u'HECTOR': 2, u'HUMP/': 2, u'SHADOW-HAND/LI CHUN': 2, u'PESTER': 2, u'MACKENZIE, AL': 1, u'CANCER II/': 2, u'JONES, SANDY': 2, u'MARIK': 2, u'SNAKE': 2, u'BLACKBODY': 2, u'CALKIN, SUSAN': 2, u'LEONINUS': 3, u'RINGER II': 2, u'BRAHMANES': 2, u'SABOTEUR/': 2, u'KIKO': 2, u'ADAMS, CINDY': 1, u'CROSS, HAROLD': 2, u'BRUTE II/': 2, u'DR. STRANGE/STEPHEN ': 1, u'RICHARDS, FRANKLIN B': 1, u'GREY KING/ADDISON FA': 2, u'STARFOX/EROS': 1, u'HEPHAESTUS': 1, u'LUMPKIN, WILLIAM WIL': 1, u'COLLINS, NICK': 2, u'SCANDIUM': 1, u'SCRIER II/': 2, u'DR. NEMESIS/DR. STOC': 1, u'KLEINSTOCK, SVEN': 2, u'GREGOR': 2, u'ASSAULT/': 2, u'MIMIC/CALVIN RANKIN': 1, u'SPETSBURO, GEN. YURI': 2, u'BARON SAMEDI': 2, u'DREADNAUGHT': 2, u'YELLOWJACKET III/HEN': 1, u'LIVING MUMMY': 1, u'PEREZ, GEORGE': 1, u'GAZELLE': 1, u'JARA': 2, u'PEREGRINE, LE/FRANCK': 1, u'SVYATOGOR/SASHA POKR': 1, u'PRINCE, DIANA': 1, u'IMPULSE': 1, u'GEIST': 2, u'VAUGHAN, MRS.': 2, u'VAVELLA': 2, u'TRACKER': 2, u'DR. MIDAS/': 2, u'WOLVERINE DOPPELGANG': 1, u'MIESHO': 2, u'STARK, MARIA | TIMES': 1, u'MOTHER OF PEARL/': 2, u'DRISCOLL, MAYOR': 2, u'ROOTAR': 2, u'BROMINE': 2, u'LONKARR': 2, u'THUNDERSTRIKE/ERIC K': 1, u'TYRANNUS': 1, u'DR. GOODWRENCH': 2, u'BOND': 2, u'QUORUM/': 2, u'WEISS, KONRAD KONNIE': 2, u'WARFARE/': 2, u'FALZON': 2, u'BEHEMOTH': 2, u'SASQUATCH | MUTANT X': 2, u'PROUST, PAUL': 2, u'ROSENBERG, ANNIE': 2, u'STONEWALL/LOUIS HAMI': 2, u'SIMPSON, CRASH': 2, u'REDSTONE/': 2, u'RUBY': 2, u'GREEN GOBLIN V/': 2, u'FIREFLY II': 2, u'ALBUQUERQUE, JEREMIA': 2, u'GORGEOUS GEORGE': 2, u'DOOMSDAY MAN II': 2, u'LOCKDOWN': 2, u'BERSERKER': 1, u'TOLLIVER': 2, u'WARPY': 2, u'USAGENT DOPPELGANGER': 1, u'ATLAS': 1, u'ANGSTROM, EARL': 2, u'4-D MAN/MERCURIO': 1, u'THOMPSON, ROSIE': 2, u'CAT MAN/HORGAN': 1, u'GLOM': 2, u'WILD TIGER/DENG LING': 2, u'LEASH, MICAH': 2, u'PRETTY BOY': 2, u'SPARX/AURELLE': 2, u'HULK III/BRUCE BANNE': 1, u'FURMAN, RICHARD': 2, u'DULTRY, MARGARET': 2, u'INFINITY': 2, u'Q': 2, u'LEFT-WINGER/HECTOR L': 1, u'KNUTZ, CINDY': 2, u'FALLON, HOWARD': 2, u'SEEKER/TARM': 2, u'KANE, LARRY': 2, u'DESTRAK': 2, u'FELDSTADT, DR. HANS': 2, u'CYNAS': 2, u'ST. CROIX, LOUIS': 2, u'KILGREW, BASIL BETA ': 2, u'TIGRA/GREER NELSON': 1, u'GLAZER, FAST FREDDY': 2, u'JAMESON, MARLA MADIS': 1, u\"O'BRYAN, BOB\": 2, u'BETA RAY BILL | MUTA': 2, u'GOROTH': 2, u'WIRETAP/': 2, u'SAPIR, HERSCHEL': 2, u'ESSEX': 2, u'SYNARIO/ANGELA BRADF': 2, u'WARTON/WARBECK': 1, u\"ZA'KEN\": 1, u'CARLY': 2, u'CANDRA': 2, u'FITCH/': 2, u'MOONDRAGON/HEATHER D': 1, u'SHAMAN II': 1, u'ANGEL 2013': 2, u'SCARECROW II': 2, u'KASPIN': 2, u'NURIL': 2, u'ANIELLE': 2, u'BLACK KING/SEBASTIAN': 2, u'RAZORBLADE II/': 2, u'BROTHER STEPHEN': 2, u'CAMPBELL, DR. RORY': 1, u'ANDERSON, MARJORIE': 2, u'BLOODWRAITH/SEAN DOL': 1, u'BENTLEY, MILES': 2, u'BOBCAT/': 2, u'CAPTAIN POWER/DR. CH': 2, u'GALLAGHER, BOB': 2, u'TYR': 2, u'GANCE, TABITHA TABBY': 2, u'STAR': 2, u'WOLFGANG': 2, u'BRIQUETTE/': 2, u'DAVIS, PRINCIPAL': 2, u'ARMADILLO/ANTONIO RO': 1, u'KRAKOA': 2, u'HASTINGS, PROF. LOUI': 2, u'HEATER DELIGHT': 2, u'NIGHTSIDE': 2, u\"D'SPRYTE\": 2, u'CHESNEY, SANFORD': 1, u'HUDSON, HEATHER': 1, u'NIGHTWATCH/': 2, u'TYGERSTRYKE/': 2, u'THREETREES': 2, u'IZANAMI II': 2, u'GOLDDIGGER': 1, u'LUCIFER II': 2, u'HOGUN | MUTANT X-VER': 2, u'LOCUS': 2, u'JONIN': 2, u'SCORCH II': 2, u'MADAME MASQUE VI': 2, u'SCYTHE/': 2, u'PISCES II': 2, u'NURO': 1, u'ROCKET RACER II/': 2, u'PARKER, RICHARD': 2, u'RAZORBLADE/': 2, u'SAPPER': 1, u'GLABOO': 2, u'MEAGHER, TYLER': 2, u'HITMAN/LT. BURT KENY': 2, u\"MIDNIGHT/M'NAI\": 1, u'ZIMMER, ABE': 1, u'LEGION': 2, u'HAMMERHAND': 2, u'TECHNOSPIKE': 1, u'DRACULA/VLAD TEPES': 1, u\"O'NEIL, BRIDGET\": 2, u'CHIMERA/ZUHN': 3, u'LANNING, DR.': 2, u'UNA': 2, u'STACY, PAUL': 2, u'JAMESLEY, ALOYSIUS R': 1, u'HORTON, PROFESSOR PH': 1, u'MAGMA II/JONATHAN DA': 2, u'RAMBO': 2, u'YOUNG, KIM SUNG': 2, u'MELLENCAMP': 2, u'BOUDREAUX, BELLA DON': 2, u'CHAPMAN, DEVIN': 2, u'RUSSIAN': 2, u'IREZUMI/': 2, u'ETZION, GENERAL': 2, u'PISCES/NOAH PERRICON': 1, u'PUCK | MUTANT X-VERS': 2, u'VIOLENCE/': 2, u'SNOWBLIND/': 2, u'FIELDS, PROF. WILLIA': 2, u'PSI-WOLF/NIKOLAI VON': 2, u'KHORYPHOS [ETERNAL]': 1, u'BLACK KNIGHT VI/PROF': 2, u'BROKEN MAN': 2, u'ATOR, GENERAL': 2, u'CORRUPTOR/JACKSON DA': 1, u'LIVEWIRE/RANCE PREST': 2, u'SLEDGE': 2, u'MALEKITH/MALCOLM KEI': 2, u'HAWKEYE | MUTANT X-V': 2, u\"G'ANYM\": 2, u'STINKY': 2, u'MADCAP': 1, u'DANSEN MACABRE': 1, u'MARRERO, ED': 1, u'MADDICKS, PROFESSOR ': 2, u'CONTEMPLATOR/TATH KI': 1, u'AVRIL, SALLY': 2, u'SLOAN, JASON': 2, u'LLAN': 2, u'KALUU': 2, u'SEA URCHIN/JEREMY SW': 2, u'IGOE, MAX': 2, u'CORONA/DAGNY FORREST': 2, u'UNSEEN/UNAM': 2, u'SABUKI, DR. SAM': 1, u'JACOBY, KYLE': 2, u'FORTUNATO, MARY': 2, u'NITAL, DR.': 1, u'WARBOW/': 2, u'SUB-MARINER/NAMOR MA': 1, u'MACHETE/FERDINAND LO': 1, u'RAVAGE/PROF. GEOFFRE': 2, u'CICERO, CAESAR BIG C': 1, u'PILGRIMM': 2, u'STOCKBRIDGE, CHARLES': 2, u'BOOMSLANG/': 1, u'TARNOK-KOL': 2, u'EL TIGRE': 2, u'SENTRY II/BOB REYNOL': 1, u'NINA': 2, u'LANE, SILAS': 2, u'NOVA 0:0': 2, u'SUNSET': 2, u'PO': 2, u'ARCHAEOPTERYX/TONAJA': 2, u'LEFLER, BOB': 2, u'DAKOR, YOGI': 2, u'MALOVICK/': 2, u'CROSSBOW': 2, u'MASTERS, ALICIA REIS': 1, u'BARRANCO, MARIA ESME': 2, u'TENDRIL/RIVER VERYS': 2, u'BLITZIANA': 2, u'EMPATH/MANUEL ALFONS': 1, u'BUZZ': 2, u'BLACK AVENGER/JERRY ': 1, u'NUGENT': 2, u'COLOSSUS II DOPPELGA': 1, u'BOWMAN, MAJ.': 2, u'MR. JIP': 2, u'REYES, DR. DANIEL': 2, u'MS. MARVEL II/SHARON': 1, u'TOLLIVER, MELBA': 2, u'SHOCKWAVE ROBOT': 2, u'STINGRAY/DR. WALTER ': 1, u'TANAKA, OPAL': 2, u'DR. OCTOPUS II/CAROL': 2, u'COVEY, LAWRENCE K.': 3, u'QUANTUM': 2, u'EGMA': 2, u'SCANNER/SKERA': 2, u'KLEIN, SHIRLEY': 1, u'DUNCAN, FRED': 2, u'BUCKY VII/RIKKI BARN': 1, u'STACY, GWEN (CLONE)': 2, u'MARVEL BOY VI': 1, u'HANRAHAN, GORDON': 2, u'SNAPDRAGON/SHEOKE SA': 1, u'KHAN': 2, u'SUNSET GRACE': 2, u'ATHENA [GREEK GOD]': 1, u'URSULA, LADY': 2, u'KHAT': 2, u'ERIC THE RED II': 2, u'TAURUS/CORNELIUS VAN': 1, u'STAMP, J.Q.': 2, u'BAZIN, PHILLIPPE': 1, u'BRUNO': 2, u'SCALPHUNTER': 2, u'GHOST RIDER II/JOHNN': 1, u'FORRESTER, DR. CEDRI': 2, u'CANNONBALL II/SAM GU': 1, u'PUNISHER': 2, u'SOLO/': 1, u'GREEN, LILA': 2, u'JUVAN': 2, u'FEIFFER, DEPUTY BEAU': 2, u'MARGOYLE': 2, u'MONDO': 2, u'FLAMBE/': 2, u'MYSTERIO II/DANIEL B': 2, u'BEAUTY': 2, u'TRANTRA': 2, u'COPPERHEAD/LAWRENCE ': 2, u'CHANG, DR. PHILLIP': 2, u'AURA/ANN HERD': 2, u'HIGH EVOLUTIONARY/HE': 1, u'CYCLONE': 1, u'CORTEZ, FABIAN': 1, u'AGED GENGHIS': 2, u'MR. SCRATCH': 2, u'FURGAR': 2, u'SAPRISTI, JERRY': 1, u'BOSHLOVOR': 1, u'SAMHAIN': 2, u'STEVENS, DR. VINCENT': 2, u'SHAW, JACOB': 2, u'WEBSTER, NORM': 1, u'HARDY, STAN': 1, u'BERYL': 2, u'NEMESIS': 2, u'DEVIL DINOSAUR': 2, u'WILCOX, DR. BRENT': 2, u'SODIUM': 1, u'CRUX/CRISTAL LEMIUEX': 2, u'UNION JACK III/JOEY ': 1, u'TENG, NIKKI': 2, u'SENYAKA': 2, u'SUNSTROKE/': 2, u'DADDY LONGLEGS/RAMSE': 2, u'KRUELLA': 2, u\"N'GASSI\": 2, u'ZELDA': 2, u'HACK/': 2, u'ARROW': 2, u'ISHIMA, DAVID': 2, u'VESPER': 2, u'APE/': 2, u'SMUGGLER II/CONRAD J': 1, u'CHARM': 2, u'ZAMORA, PETE': 2, u'BUSHMAN, RAOUL': 2, u'HYDROMAN/MORRIE BENC': 1, u'COPPER': 2, u'SANTOS, JOSE': 2, u'CARGIL/JOANNA CARGIL': 1, u'DARK MASTER': 2, u'TENEBRAE': 2, u'FLEET, JONAS': 2, u'MELONIE': 2, u'FIREFALL III/ARCHIE ': 2, u'CLARK, SARAH': 2, u'QUARRY': 2, u'WENTWORTH, JENNIFER': 2, u'KELLOG, SHERIFF L.B.': 2, u'SANGUINE': 2, u'MONTGOMERY': 1, u'LUCAS, JAMES': 2, u'KINCAID, DR. JANE FO': 1, u'THERMAL MAN': 2, u'HARKER, QUINCY': 2, u'KOLE, MICHELLE': 2, u'WATER WITCH/': 2, u'SCARPETTI, ALPHONSE': 2, u'COLOSSUS 2013': 2, u'ZEITGEIST, NICOLA': 2, u'PATCH II': 2, u'SANCHEZ, DET. LOUISA': 2, u'CROTUS': 2, u'BLACK CAT/FELICIA HA': 1, u'BLOODVESSEL, BUSTA': 2, u'RAVEN | MUTANT X-VER': 2, u'BRASS BISHOP/': 2, u'JONES, WILLIAM': 2, u'LEATHER/': 2, u'BROKER': 2, u'CRIME-WAVE/HOLLIS': 2, u'VORZEN': 2, u'TIAMAT': 1, u'VON FRANKENSTEIN, BA': 2, u'GORNKAI': 2, u'HELLCAT/PATSY WALKER': 1, u'DWELLER IN DARKNESS': 1, u\"MAN-APE/M'BAKU\": 1, u'CEREBRO MARK XIII | ': 2, u'SHAW, ESAU': 2, u'WAYOPEX': 1, u'SAUNDERS, KRISTINE': 2, u'WHITECLOUD, MICHAEL': 2, u'THERMO/DR. WALTER MI': 2, u'BROTHER VOODOO/DANIE': 1, u'ADAMS, CONGRESSMAN H': 2, u'ZARATHOS': 2, u'MIDNIGHT III/JEFFREY': 1, u'MINT JULEP': 2, u'HAMMER III/EISENHOWE': 2, u'CHATTERTON, DAVE': 2, u'ORACLE/LADY SIBYL': 1, u'MANAT': 2, u'BIGGERS, MELVIN': 2, u'SOFEN, KARL AUGUST': 2, u'TAURUS II/': 2, u'SHARK/': 1, u'MASON, WANDA': 2, u'TITAN': 1, u'DAY': 2, u'HUMUS SAPIEN': 1, u'SETH II': 1, u'CRANDAL, BEN': 2, u'MACE': 2, u'MARKED MAN': 2, u'KNAVE': 2, u'AIR WALKER/ARLO SAMU': 2, u'THANE ECTOR': 1, u'MANH, COY NGA': 2, u'SCRATCH': 2, u'HENRY, JOHN': 1, u'TERRAX II/TYROS': 1, u'HARVEST/CHI LO': 2, u'HELIX/RAFAEL CARAGO': 2, u'CAPTAIN AMERICA IV/S': 1, u'DEVILLE, ARCADIA': 2, u'ROULETTE/DUDE JENSEN': 2, u'PUCK DOPPELGANGER': 1, u'GUDRUN [ASGARDIAN]': 2, u'POWER PRINCESS/ZARDA': 1, u'LOCKER, MR.': 2, u'SAMUELS': 2, u'MOWAT, FARLEY': 1, u'SUPER-PATRIOT': 2, u'REISS, JACOB': 2, u'ROMAN, DR. NILES': 2, u'ALRAUNE, MARLENE': 2, u'DEADMAKER/GREGORI AN': 2, u'SKUL/JOHN SKULINOWSK': 2, u'ASKANI': 1, u'WU, LEIKO': 2, u'SURESHOT': 2, u'SHAKTI': 1, u'MAX': 2, u'ANDROS': 2, u'NOVA | MUTANT X-VERS': 2, u'FAITH': 2, u'HYNNIT': 2, u'SKARLET': 2, u'MANTIS/? BRANDT': 1, u'SAMEDAR': 2, u'TOMBSTONE/LONNIE THO': 2, u'MROTH': 2, u'MAX II': 2, u'MALICE V/NAKIA': 1, u'SANTINI, DR. JOSE': 1, u'THOR | EARTH 253': 2, u'GUNTLY, DAVID': 2, u'JAMESON, J. JONAH': 1, u'CAPTAIN MARVEL/CAPTA': 1, u'PECOS BILL': 1, u'SLEEPER': 1, u'FROST, ADRIENNE': 2, u'BIG BEN/': 2, u'LONGBOW, DESIREE': 2, u'FREDD': 2, u'MERLIN': 1, u'HOBGOBLIN III/LEFTY ': 2, u'LLOIGOROTH': 2, u'DELPHI': 1, u'ASP II/CLEO': 1, u'DARKOTH/MAJOR DESMON': 2, u'SHEPPARD, JOAN ACE': 2, u'TIMESLOT': 2, u'BLUE DIAMOND/PROFESS': 1, u'FALK, DR. JENNIE': 2, u'CASE, COL. PRESTON': 1, u'BUCHETTO, SALVATORE ': 2, u'MEDUSA | MUTANT X-VE': 2, u'CREEP/': 2, u'MAJCOMB, RENEE': 2, u'FLORES, DAHLIA': 2, u'VANGUARD/NICOLAI KRY': 1, u'NIGHTMARE/EDVARD HAB': 1, u'JET-BLACK/': 2, u'FILLMORE, BETTY': 2, u'AHQLAU': 2, u'NIGHTCRAWLER | MUTAN': 2, u'OVERMIND/GROM': 2, u'BOOMER/TABITHA SMITH': 1, u'HUNTER/JAEGER': 2, u'CADUCEUS': 2, u'FLINN, LANCELOT LANC': 2, u'KLIGGER/SEN. EUGENE ': 1, u'TORK, SGT.': 1, u'BRADLEY, CARRIE': 2, u'INVISIBLE WOMAN/SUE ': 1, u'MR. LUCK II/PHILIP G': 1, u'EVER': 1, u'GUARDIAN IV': 2, u'ZODIAK/NORMAN HARRIS': 2, u'MARTINEZ, AKASHA': 2, u'HELLSCOUT/KENNETH TE': 2, u'CHAKRA': 2, u'LUNA/LUNA MAXIMOFF [': 1, u'HARQUIS TEY': 2, u'LANCELOT, SIR': 2, u'SUEE, FAH LO': 2, u'JARMAN, TOMMY': 2, u'THUNDERBIRD II/JAMES': 1, u'SAMURAI STEEL/YOSHID': 2, u'MANELLI, DINO': 1, u'RED SHIFT': 1, u'BROTHER ROYAL': 2, u'BERNARD THE POET': 2, u'8-BALL/': 2, u'WILLIAMS, MINDY': 1, u'CHANGELING': 2, u'ROSELLINI, ROBERTA': 2, u'SOAP, DET.': 2, u'ABOMINATION/EMIL BLO': 1, u'PUSHKIN, IVAN': 2, u'BANTOCK, LT. OLIVER': 2, u'BEALE, ERIC': 2, u'AUSTIN, GEN.': 2, u'GANTRY': 2, u'BLISS, MISS': 1, u'SENSATIONAL HYDRA/A ': 1, u'AHURA': 2, u'CHAKA KHAN': 2, u'BEAR/': 2, u'LARROCA, SALVADORE': 1, u'FRIGGA': 2, u'GILBERT, PROFESSOR G': 2, u'MASTER MOLD III': 2, u'MORELLE, NOLAN': 2, u'VISION ': 1, u'RAVEN': 2, u'DESOLATION/': 2, u'KALE, JENNIFER': 2, u'MR. FANTASTIC/REED R': 1, u'ELLINGTON, DR./TRAVI': 2, u'KARIMA': 2, u'ANTI-VISION': 2, u'JEKUAKKEKT': 2, u'COUNTERWEIGHT/JACK P': 1, u'ARRANGER/': 2, u'FANG III': 2, u'SUNDOWN/DR. DAVE LOW': 1, u'LUMPKIN, WILLIE | TI': 1, u'FONG, KATY': 2, u'KINE, BENEDICT': 2, u'CORRIGAN, ARCHIBALD ': 2, u'TORPEDO III/BROCK JO': 1, u'IRON MAN/TONY STARK ': 1, u'CLUSTER': 2, u'TOLLIVER, EMMA': 2, u'JAMEKA': 2, u'PRIMUS': 1, u'BLAKE, EMILY': 2, u'SKULL-JACKET': 2, u'COOPER, WHITNEY III': 2, u'MAGDALENE/MARISSA DA': 1, u'SHAMAN/MICHAEL TWOYO': 1, u'HANRAHY, JIM': 2, u'BLITZKRIEG/': 1, u'TURBO II (A)/MICHIKO': 1, u'SHARD': 2, u'SUPER-ADAPTOID/ALESS': 1, u'SHAPANDER, KARIMA': 2, u'PENNSU': 2, u'PILGRIM': 2, u\"K'RK [SHI'AR]\": 2, u'RICTOR/JULIO ESTEBAN': 2, u'LANE, LOIS': 1, u'JACKKNIFE/JACK COLE': 2, u'CUSHING, KATE': 1, u'GAUNT/MENDEL STROMM': 2, u'SKOLL': 2, u'KEMBLE, DR.': 2, u'GRUENWALD, MARK': 2, u'THOMAS, BECKY': 2, u'THUNDERBOLT II/LUIS': 2, u'ERBIUM': 1, u'BYREL': 2, u'SPYMASTER/JAKE JORDA': 2, u'POLTERGEIST/MICKEY S': 2, u'GUNTHAR': 2, u'KNIGHT, MISTY': 1, u'SMITHSON, T.B.': 2, u'KILLOBYTE': 1, u'COACHWHIP': 1, u'THING DOPPELGANGER I': 1, u'PAPA NEBO': 3, u'CASSADA, CARLOS': 1, u'ION/': 1, u'SHIN': 2, u'WALDERS, BEATRICE': 1, u'JONES, HUGH': 1, u'ELYSIUS': 1, u'EXETER, LT.': 2, u\"R'TEE\": 1, u'SURTUR': 2, u'TOKEN': 2, u'MARVEL BOY VII/DAVID': 2, u'ANT-MAN/DR. HENRY J.': 1, u'SHIP': 1, u'BIOHAZARD II/FLETCHE': 2, u'SQUIRREL GIRL/': 2, u'WILSON, DUBOSE': 2, u'JAGATAR': 2, u'BIRD MAN III/': 1, u'TUC': 1, u'ESTAVES, MARIE': 2, u'KREIGKOPH, GEN.': 2, u'SUVOROV, ADMIRAL GRI': 2, u'CLINTON, BILL': 1, u'BRAWN, HUNTER': 2, u'GENERAL OBSIDIAN': 2, u'OLAR': 1, u'RIOT-ACT/': 2, u'LOCKE, DR. CASSANDRA': 2, u'CRUSADER X/BRIAN BRA': 2, u'DAGGER/TANDY BOWEN': 1, u'CONSUMPTION': 2, u'HOGAN, VIRGINIA PEPP': 1, u'SHERIDAN, LEAH': 2, u'WHITMAN, PATRICIA': 2, u'SCOTT, JAKE': 3, u'ADAM 3,031': 2, u'JARVIS, EDWIN | TIME': 1, u'RAGGADORR': 2, u\"D'AURIA, JACK\": 2, u'PREECHA': 2, u'MOSH/GLENN': 2, u'IKARIS/IKE HARRIS [E': 1, u'STEELE, SIMON/WOLFGA': 2, u'DENAK': 2, u'BYRD, SEN. HARRINGTO': 1, u'TITANIA/': 1, u'POLARIS DOPPELGANGER': 1, u'JACKSON, BRENT': 2, u'KATU': 2, u'STINGER II/': 1, u'CANCELLATOR': 2, u'RAVEN, MATTHEW': 2, u'MORRISON, AMANDA PAY': 2, u'PAI': 2, u'PAM': 2, u'SKULLCRASHER/': 2, u\"CR'REEE\": 1, u'DR. DECIBEL/ANTON DE': 2, u'ROGUE DOPPELGANGER': 1, u'GREGORY, TODD': 2, u'AJAK/TECUMOTZIN [ETE': 1, u'SLASHER II': 2, u'CYCLOPS | MUTANT X-V': 2, u\"NHU'ABDAR\": 2, u'ASH, BRANDY': 2, u'KIRIGI': 2, u'INSOMNIA/': 2, u'HARVEST II': 2, u'APPALLA': 2, u'VERMIN II': 2, u'VISION DOPPELGANGER ': 1, u'MULTIPLE MAN/JAMES A': 1, u'BLACKJACK/': 2, u'CHAKARA, KANU': 1, u'GEE/ALEX POWER': 1, u'BUX': 2, u'JUGGERNAUT/CAIN MARK': 1, u'MEEK': 2, u'OLD WOMAN': 2, u'KRUGGAR': 1, u'CERISE': 2, u'CAPTAIN AMERICA | MU': 2, u'BUG': 2, u'LILLIAN, BEA': 2, u'SPROCKET': 2, u'FULLERTON, MARY ELLE': 2, u'LOPEZ, JOSE': 2, u'OCCULT': 1, u'FATHER TIME': 1, u'CIRE, MANUEL': 2, u'XEMU': 2, u'MOK': 2, u'IRON MAN IV/JAMES R.': 1, u'HATORI, DESMOND': 2, u'LOPEZ, MARIA II': 2, u'NEWMARK, LOTUS': 1, u'MARVEL GIRL II/VALER': 1, u'SPIKE': 2, u'KREE CAPTAIN AMERICA': 2, u'GALE, SHERIFF': 2, u'YANKEE CLIPPER/PAT C': 2, u'BLACKBALL': 1, u'CYLLA': 2, u'MAJOWSKI, SAM MOTHER': 1, u'CARPENTER, RACHEL': 1, u'HIGGINS, LINDA': 2, u'KARIM, MERYET': 2, u'HATE-MONGER IV': 2, u'DAMIAN, DR. DANIEL': 2, u'HATE-MONGER II': 2, u'GERARD, TERENCE': 2, u'SAGE, HENRY': 2, u'BLOB/FRED J. DUKES': 1, u'BECKFORD, NOEL': 2, u'BERDITCHEV, ITZHAK': 1, u'REISZ, RAY': 2, u'MORLUN': 2, u'DURAN, CONAL': 2, u'BRANSON': 1, u'JONES, WALTER': 2, u'CHINA DOLL': 1, u'GERASI, LESLIE': 2, u'CONCIERGE, LE/': 2, u'MANOLIS, LT. NICK': 2, u'LORD YARU': 2, u'SPIDER-WOMAN DOPPELG': 1, u'NEUROTAP/MICHELLE BA': 2, u'AHAB/RORY CAMPBELL': 2, u'MODT': 1, u'RIPPER/DR. JACQUELIN': 2, u'CABER': 2, u'RIDDLEY, HIRAM RAM': 1, u'CONNORS, BILLY': 1, u'HELLSPAWN': 2, u'HAFNIUM': 1, u'SISTER PERPETUA': 2, u'CORONER': 2, u'CASSADA, ROSA': 1, u'HARD BOILED HENWY': 2, u'VERTIGO II': 1, u'BLACK FOX/ROBERT W. ': 2, u'BRICKMAN, GLORIA': 1, u'TRIMPE, HERB': 2, u'LEVINE, ABBY': 2, u'MCKEEVER, TINY': 1, u'MINOTAURUS': 3, u'SMITH, ANDY': 2, u'MITCHELL, ROBERT': 2, u'CHASE, TREVOR': 2, u'HUMBUG/PROF. B. MITT': 2, u'LANG, TIMMY': 2, u'BLACK DEATH/DR. IVAN': 2, u'KEMEL, MEHMET': 1, u'STAINED GLASS SCARLE': 2, u'BELL, HERBERT': 2, u'RUDOLFO, PRINCE': 1, u'BASILISK II': 2, u'GRIZZLY II/THEODORE ': 2, u'OSIRIS': 1, u'ARGOS': 2, u'MINOTAUR II': 2, u'HALLER, GABRIELLE': 1, u'MONTESI, VICTORIA': 2, u'MUNSON, CLAUDIA': 2, u'MORETTI': 2, u'BODYBAG': 1, u'BUSIEK, KURT': 1, u'KULAN GATH': 1, u'MODOK/GEORGE TARLETO': 1, u'COMPUTO': 2, u'MIRACLE MAN': 2, u'HENSHAW, CURTIS': 2, u'BULWARK/': 2, u'WING, COLLEEN': 1, u'MINSTER HOARD': 2, u'SAGITTARIUS/HARLAN V': 1, u'HONDA, DR.': 2, u'JAHF': 1, u'AGON': 2, u'PAIN': 2, u'PAPA GRANITE': 2, u'RED RONIN': 1, u'POWDERKEG II': 2, u'OSNICK, OLLIE': 2, u'KLEIN, SUMMER': 3, u'WONDER MAN/SIMON WIL': 1, u'MOOMJI, INDRIES': 2, u'STALYENKO, COL. YURI': 2, u'ZINOVIEV, IVAN': 2, u'GLADIATRIX': 1, u'MYSTIQUE/RAVEN DARKH': 1, u'HEADMISTRESS/': 2, u'OGUN': 2, u'TSURAYABA, MATSUO': 1, u'OGUR': 1, u'UNI-LORD': 2, u'YELLOW CLAW ROBOT': 1, u'RADIOACTIVE MAN/DR. ': 1, u'REVER, BRAD': 1, u'THOMPSON, JESSICA JE': 2, u'MONGRAIN, ALISON': 2, u'HOBGOBLIN': 1, u'ROM CLONE': 2, u'DESTROYER III': 1, u'EJULP': 2, u'SUPREMOR': 1, u'FORGE': 1, u'HINDSIGHT LAD/CARLTO': 2, u'ODDBALL/ELTON HEALEY': 1, u'QUICKSILVER DOPPELGA': 1, u'QUENTIN, RALPH': 2, u'GREEN GOBLIN III/BAR': 2, u\"IRON FIST H'YLTHRI I\": 1, u'SHAPE': 1, u'MOSLEY, WARDEN': 1, u'NARDI': 2, u'LICH': 2, u'MEACHUM, HAROLD': 2, u'ZIRAN': 1, u'COMET/HARRIS MOORE': 2, u'BLOODY BESS': 2, u'NAZE': 2, u'MURDOCK, MATT | TIME': 1, u'KEMPLETON, PROFESSOR': 2, u'HARMONY': 2, u'RIGER': 2, u'TEMPEST II/NICOLETTE': 1, u'VASHTI': 1, u'MARTS, MR.': 2, u'GAARD/JOHNNY STORM E': 2, u'GREER, DAVID': 2, u'TARBABY': 2, u'SAPPHIRAS': 2, u'KANE, MARCY/KAINA': 2, u'BENDIX, DR. ALBERT': 2, u'RYDER': 1, u'SNOW, VICTORIA': 2, u'NEBULON': 1, u'CAIRN, DET.': 2, u'AQUARIAN/WUNDARR': 1, u'ANAMI, HIROSHI': 2, u'VEEG': 2, u'BROGIN, BULL': 2, u'RANDOM II/MARSHALL E': 2, u'FURY, NICK II': 1, u'POWER, MARGARET': 1, u'ASTER, LUCIAN': 2, u'GESTALT': 2, u'SHERIDAN, RICHARD RI': 2, u'RAGAR': 2, u'GEATAR': 2, u'FIDDLER, BARNEY': 2, u'IRON CROSS/HELMUT GR': 1, u'DEWOLFF, JEAN': 2, u'EON': 1, u'STYGIAN STARBENDER': 2, u'HINKLEY': 2, u'CLEA': 1, u'VIGILANT/PSTUN-RAGE': 2, u'KRAKEN': 1, u'MALONE, JULIUS': 2, u'SHADOWCAT | MUTANT X': 2, u'UNBEING/BILLY BETELH': 2, u'RITTER, DEBORAH ': 2, u'DEATHURGE': 1, u'LU, MR.': 2, u\"VIBRAXAS/N'KANO\": 1, u'CARPENTER, LARRY': 2, u'SPECTRUM, SINCLAIR': 1, u'ASBERY, SHAMARI': 2, u'RAMBEAU, MARIA': 1, u'PIERSO [TRIONIAN]': 2, u'MIBA': 2, u'LOGAN, WAYNE': 3, u'SALVO': 2, u'JUSTIN, GLORIA': 2, u'BLUE SHIELD/JOSEPH J': 1, u'BOLT II/CHRIS BRADLE': 1, u'GUTHRIE, LUKE': 2, u'CENTARIUS': 2, u'JORDAN, HAL': 2, u'WING, PROFESSOR': 2, u'NACHT, HERR': 1, u'RANGER II': 2, u'LEAD-IN': 2, u'MASTER LINK/WILLIS H': 2, u'MANACLE/': 2, u'HEADCASE': 2, u'LEVITICUS': 2, u'ROTH, ARNIE': 1, u'STARHAWK/STAKAR': 2, u'ANALYZER': 2, u'SHANZAR': 2, u'SHE-CAT': 2, u'SEWARD, JANE': 2, u'OLLSEN, BO': 2, u'TUMOLO, DR. JOANNE': 2, u'DARKHAWK DOPPELGANGE': 1, u'LEI KUNG, THE THUNDE': 2, u'GOLEM II': 2, u'DR. STRANGE | MUTANT': 2, u'SCHEELE, STEPHANIE': 2, u'MONTANA': 2, u'VERPOORTEN, JOHN': 2, u'MOJO II': 2, u'VOLCANA/MARSHA ROSEN': 1, u'ETUBAN': 2, u'STEELE, MARCY MASTER': 1, u'MENTOR/ALARS [ETERNA': 1, u'KELLY, SARA': 2, u'MCKENZIE, LEON': 2, u'ALVAREZ, FELIX': 1, u'FLINCH/': 2, u'KAREL': 2, u'DAKINI': 1, u'GO-DEVIL/GO ISHIMORI': 2, u'PORCAL': 2, u'UNICORN III/': 2, u'DARK MOTHER/FINALITY': 2, u'SHE-HULK DOPPELGANGE': 1, u'GOTTFRIED, WILLIS': 2, u'OSAMA': 2, u'MORGAN': 1, u'RANIER, MIKE': 1, u'CESIUM': 2, u'LECLAIRE, PROFESSOR ': 1, u'WOO, SONIA': 2, u'CLASH/': 2, u'VOLK/ILYA DUBROMOVIT': 2, u'ULTIMA': 2, u'ERG': 2, u'TIGER SHARK/TODD ARL': 1, u'VON RICHTOFEN, LT. M': 2, u'ULTIMO': 1, u'SWORDSMAN/JACQUES DU': 1, u'CROSSAN, ANNIE': 2, u'FIREFALL/KARAS': 2, u'MILLER, STACI MURPHY': 2, u'HAUPTMAN': 2, u'COUNTERWEIGHT II/KAT': 1, u'FALCON/SAM WILSON': 1, u'FUTURIST': 1, u'TENPIN/ALVIN HEALEY': 1, u'RAVEN, SABBATH': 1, u'POWELL': 2, u'ROSE, HENRIETTA': 2, u'SPRITE': 1, u'MARISSA (OF GENE-TEC': 2, u'UTGARD-LOKI': 1, u'DORMAMMU': 1, u'PHILIPS, PHILIP': 2, u'SMITH, WANDA JO BIAL': 2, u'SLADE': 2, u'LIGHTSPEED/JULIE POW': 1, u'VIRAGO': 2, u'IMMORTUS, MARCUS': 1, u'EARLE, CARYN': 2, u'BAAL': 2, u'CHALMERS, JUDGE ROBE': 1, u'REYNOLDS, DR.': 1, u'BANDIT/': 2, u'BUCKY/BUCKY BARNES': 1, u'WORTHINGTON, MAJOR G': 2, u'RAMIREZ, LUIS': 1, u'KINGMAN, BILL': 1, u'STONE, TIBERIUS': 1, u\"WHEELER, M'KONI MARY\": 2, u\"SPIRIT OF '76/WILLIA\": 1, u'CHIMERA II': 2, u'CHAR, BRON': 1, u'GARTHAN SAAL': 2, u\"COAL TIGER/T'CHALLA \": 2, u'IKTHON': 1, u'BLACK TARANTULA II/C': 2, u'BLIND AL/ALTHEA': 1, u'DR. STRANGE DOPPELGA': 2, u'MCCOURT, ALLISON': 2, u'HECTOR II': 1, u'TERROR/LASLO PEVELY': 2, u'SSSITH': 1, u'FLATIRON/RUSSELL': 2, u'MOLLE, DR.': 2, u'TERROR II': 2, u'GARABED/BASHUR': 1, u'SAROYAN, NEAL': 1, u'RHINO': 1, u'ELWOOD': 2, u'SMITH, MARTY LOUIS L': 2, u'JONES, ANDY': 2, u'IRON FIST/DANIEL RAN': 1, u'ANDERSSEN, TANYA': 2, u'SPECTRA/SELENA SLATE': 2, u'SUPREME ONE': 2, u'BEL-DANN, GEN.': 2, u'X-RAY': 1, u'JONES, RICHARD MILHO': 1, u'STEWART, TINA': 2, u'PIERSON, FRED': 2, u'MIFUNE, DR.': 1, u'BROTHER VOODOO | MUT': 2, u'PALERMO, HARRIET ROS': 1, u\"KO'ICHI\": 2, u'VANKIN, JONATHAN': 2, u'SPELLBINDER/ERICA FO': 2, u'RADION': 2, u'KLAER': 2, u'LEVIATHAN': 2, u'LITTLEWING, SUSIE': 2, u'RAPTURE/SISTER JOY': 2, u'PRETTY PERSUASIONS/H': 2, u'SCRAMBLER': 2, u'PALMIOTTI, JIMMY': 1, u'TRAVELLER, DR. JUDAS': 2, u'STAR-STALKER': 2, u'ARMAGEDDON MAN': 2, u'SILVER SABLE': 1, u'DESADIA': 3, u'MISSING LINK II/RAY ': 2, u'NEOPHYTE/': 2, u'LEADER/SAM STERNS': 1, u'GREY, DR. JOHN': 1, u'BAILEY, JOEY': 2, u'GRACE': 2, u'COFFIN, RAY': 2, u'CRAIG, REV.': 2, u'DRAX/ARTHUR DOUGLAS': 1, u'FURY, DAWN': 2, u'SHANGA': 2, u'HOLOCAUST': 1, u'AYALA, NESTOR': 2, u'KEEVER': 2, u'KHYBER/': 2, u'DAWN': 2, u'MERCURY III/': 2, u'SCRIBE': 2, u'DOUGHBOY': 1, u'PULSAR II/LAN': 2, u'DENNIS, MARTY': 2, u'SEWARD, ELISABETH': 2, u'EPHESUS': 2, u'ZET': 2, u'MARSHALL, GRANT': 2, u'OMEGA-20/EUGENE': 2, u'AIR-WALKER/GABRIEL L': 2, u'BELDAME': 2, u'CHAMBER/JONOTHON STA': 1, u'JYX': 2, u'TOMAZOOMA': 2, u'HUNGYR': 2, u'CRIX': 2, u'MASTER MAN/WILHELM L': 1, u'DEATHUNT 9000': 1, u'PARKER, MARY (ROBOT)': 1, u'SCORPIO III/MIKEL FU': 2, u'BATTERY/': 2, u'DELPHI II': 2, u'PRESIDENT ITOES [TRI': 2, u'BEREET': 1, u\"HETH'SA\": 2, u'THING DOPPELGANGER': 1, u'JIKEKT': 2, u'TARANTULA II/CAPT. L': 2, u'GAULTHING, ANDERSON': 2, u'MELLACE, LUCY SANTIN': 2, u'NIVENA, JOANNA': 2, u'MOON KNIGHT | MUTANT': 2, u'TYRUS KRILL': 2, u'BENGAL/': 2, u'CARTER, BRAD': 2, u'CLOAK/TYRONE JOHNSON': 1, u'FAVERSHAM, DAPHNE': 2, u'AURIC/': 2, u'WOZ/DEWOZ': 2, u'RICHARDS, FRANKLINK ': 1, u'PROTEUS II': 1, u'CRULE': 2, u'FEUER': 2, u'BELLE': 2, u'DRAKE, CARLTON': 2, u'GABRIEL III': 2, u'TEMPO': 2, u'PSI-LORD/FRANKLIN BE': 1, u'BLACK HOLE/MORTON KI': 2, u'SACRIFICER': 2, u'BENJAMIN, BYRON': 2, u'LUMPKIN, WILHEMINA B': 1, u'URSA MAJOR/MIKHAIL U': 1, u'LONGSHOT': 1, u'FIELSTEIN, FIREWORKS': 1, u'MARITA': 2, u'PILLMAN, JIM': 2, u'U-MAN/MERRANO': 1, u'OLALLA': 2, u'VAPOR': 1, u'SILVER': 2, u'DEPAUL, SHIELD SPECI': 2, u'INDIGO, ODYSSEUS': 2, u'YELLOWJACKET II/RITA': 1, u'FLEX/ADRIAN CORBO': 2, u'LUBENSKI, NATE': 1, u'ARMBRUSTER, COLONEL ': 2, u'WIDOW-MAKER': 1, u'AQUARIUS II/': 2, u'ACHILLES II/HELMUT': 1, u'ADAMSON, JASON': 3, u\"SEA WITCH/BRIGIT O'H\": 2, u'PSYKLOP': 1, u'I.Q./ISHMAEL QUESTOR': 1, u'CHROMIUM': 2, u'COLLECTOR/TANELEER T': 1, u'ENDO, DR. SUZI': 2, u'STARR, AARON': 2, u'RAPTOR/PAUL HAZLETT': 2, u'MOLTO': 1, u'EVANS, DORIS': 2, u'PRAZNIKI, SYLVIA': 2, u'OCULUS, LT.': 2, u'OVERBOSS DIXON': 1, u'SCREAMING MIMI/MELIS': 1, u'TAGAR': 1, u'DEATH-STALKER': 1, u'BARRAGE': 1, u'WING': 2, u'ABRAXAS': 2, u'PET': 2, u'FUANARO, RENEE': 2, u'ROUSSEAU, ETIENNE': 2, u'HARGROVE, ELIAS': 2, u'KELLY, SEN. ROBERT E': 2, u'GORGON | MUTANT X-VE': 2, u'SINGER': 2, u'COBALT II': 2, u'CASSADA, MICHAEL': 1, u'PARKER, MAY II': 2, u'HATCHET-9': 2, u'COCO': 2, u\"STARDUST/T'URIN G'AR\": 2, u'X-MAN/NATHAN GREY ': 1, u\"DIE'ODE/\": 2, u'NEW SUN': 2, u'MONGOOSE': 1, u'BELGRADE, DR. HORATI': 2, u'ST. THOMAS, JULES': 1, u'SIMBUS': 2, u'KAINE': 2, u'MARTINEZ, ALITHA': 1, u'BELLADONNA': 2, u'AGENT-X/': 2, u'BYRNES, GAYLE WATSON': 2, u'GERASI, DON MARIO': 2, u'RUIZ, RHYTHM': 2, u'ANSWER II/DAVID FERR': 1, u'FLORES, SHANICE': 2, u'PLEXICO, DET.': 2, u'JONES, AUGUSTINE': 1, u'SOMERS, JOHNATHAN': 2, u'KNOCKABOUT/': 2, u'ORKA': 1, u'MEANY': 2, u'GATTLING/': 2, u'AL-KHALAD': 2, u'GAROTTE/': 2, u'ATTUMA': 1, u'NAPIER, RAMONA DR.': 1, u'SLICK': 2, u'BROOP': 2, u'DEVOS THE DEVESTATOR': 1, u'WHITE, JONATHAN': 2, u'NOVA DOPPELGANGER II': 1, u'TARGON': 2, u'DARK RAIDER': 2, u'ATOM SMASHER II/': 2, u'COPPERHEAD III/DAVIS': 1, u'SCENE STEALER': 2, u'RICHARDS, NATHANIEL': 2, u'MONTENEGRO': 2, u'ROBERTSON, MARTHA': 2, u'LOHAN, PETER': 2, u'RITTER, DONALD': 2, u\"KARMA/XI'AN COY MANH\": 1, u'AMENHOTEP': 2, u'PRIMUS II': 2, u'EXECUTIONER II/SKURG': 1, u'LETTERMAN, DAVID': 2, u'MASTIFF, MINNIE': 2, u'DORREK [SKRULL]': 1, u'EXECUTIONER V': 2, u'CARBONE, SALVATORE': 2, u'SUN-TAO': 2, u'YOUNG, LAWRENCE': 2, u'BLACK MARIAH': 2, u'DEUTSCH, GEN.': 2, u'GRAVITON/FRANK HALL': 1, u\"D'WON\": 2, u'CYBER': 2, u'HERMES [GREEK GOD]': 1, u'KLEIN, CAMERON': 1, u'SMILING TIGER/': 2, u'SOLE, RANSOME': 2, u'THAMES, SERIPHA': 2, u'CHLORINE': 1, u'TEMPLE, CLAIRE': 2, u'VANESSA': 2, u'INTELLIGENTSIA': 2, u'JOYCE, SAMANTHA': 1, u'BRUKNER, ILANEY': 2, u'CROSS-WALLACE, SIR G': 2, u'BETA RAY BILL': 1, u'HOBBS, DET.': 2, u'INFERNO III/SAMANTHA': 1, u'BEAST DOPPELGANGER': 1, u'LAPIN, EMIL': 2, u'ARKON': 1, u'BEERE, JASON': 1, u'INSHALLAH, KHALID': 1, u'NOVA II/FRANKIE RAYE': 1, u'SIDEWINDER/SETH VOEL': 1, u'FAHE': 2, u'GARGOYLE II/ISAAC CH': 1, u'TORQUE II': 2, u'RAZORFIST': 2, u'DEANGELO, DEVLIN': 2, u'DORMA II [ATLANTEAN]': 1, u'SENTRY III': 2, u'NUMBERS': 1, u'CARRADINE, JESSICA J': 2, u'NESTOR': 2, u'DARK WIND/KENJI OYAM': 2, u'DIETZ, SUSAN': 2, u'FIELDING, CLARENCE': 2, u'WOLFMAN, MARV': 2, u'BULLDOZER/HENRY CAMP': 1, u'MACTAGGART, MOIRA | ': 2, u'MCKENNA-DRAKE, MARLE': 2, u'REMIPED': 2, u'WEST, DALE': 2, u'KANNOR, ORLANDO': 2, u'JAMEEL': 2, u'SEER': 2, u'MORPH': 2, u'GALACTUS/GALAN': 1, u'ULTARNT': 2, u'HAVOK/ALEX SUMMERS ': 1, u'FIST/': 2, u'ANGELOPOULOS, ANGEL ': 2, u'MACTAGGART, JOE': 2, u'MAYE, APRIL': 2, u'ARISHEM [CELESTIAL]': 1, u'NELSON, DEBBIE HARRI': 1, u\"BLACK PANTHER/T'CHAL\": 1, u'MOLGOTHA': 2, u'MASTER MENACE/DR. EM': 2, u'KID COLT II/ELRIC FR': 1, u'CAESAR': 2, u'RADIUM': 2, u\"STECK'EE\": 2, u'PULASKI, JOSEPHINE J': 2, u'IDUNA': 1, u'ZIRCONIUM': 1, u'PRIMO, ALEXIS': 2, u'THERA': 2, u'DRAGONUS': 2, u'SAJA': 2, u'POLARIS | MUTANT X-V': 2, u'CONSTRICTOR/FRANK PA': 1, u'TOFIELD, FRANCESCA': 2, u'TREMONT, JONATHAN': 1, u'CAPUTO, DR. JULIA': 2, u'TANAKA, RITA': 2, u'DEAN, BETTY': 1, u'ELECTRYON': 2, u'HASSAN': 2, u'POLESTAR/': 2, u'HEDERMAN, LOTTIE': 2, u'GAIA': 2, u'VOICE': 1, u'WEAPON X II/GARRISON': 2, u'PRINCESS FEN [ATLANT': 1, u'CHENEY, LILA': 1, u'CACTUS': 2, u'MANTA': 1, u'EKAK': 2, u'HAWKSHAW': 2, u'MUMM, MAX': 2, u'HINDS, PATRICK': 2, u'BULLET BIKER': 2, u'CHURCHILL, LORD': 2, u'WENDIGO V/ANDRE': 2, u'THAKOS': 2, u'BOMBADIER/': 2, u'SILVER SURFER IMPOST': 1, u'ASHEMA [CELESTIAL]': 1, u'STALLIOR': 1, u'KRIEGHUND, COL.': 1, u'SIBERION': 2, u'NETWORK NINA': 1, u'DEATH ADDER': 1, u'HEIMDALL [ASGARDIAN]': 1, u'AVANDALIA': 2, u'VIBRATO/': 2, u'MIDWIFE': 2, u'DEVASTATOR II/GREGOR': 2, u'DABOIA, RUSSELL': 1, u'SAI/': 2, u'SUPREME COMMANDER': 2, u'VOLCANA ASH': 2, u'ZARRKO, ARTHUR': 1, u'JACK FROST/': 1, u'GODSTALKER': 2, u'OTOMO': 2, u'SINGH, DR.': 2, u'DIRTY WOLFF': 2, u'IRON MAIDEN II/': 2, u'AGENT 18/JACK TRUMAN': 2, u'DEADLY DORIS': 2, u'ENRAKT': 2, u'PEACEKEEPER/JOSHUA': 2, u'DAREDEVIL/MATT MURDO': 1, u'ADRIA': 2, u'CARTHUS': 2, u'BARON BRIMSTONE/': 1, u'HONEY LEMON/': 2, u\"DEATHBIRD [SHI'AR]\": 1, u'TRITON | MUTANT X-VE': 2, u'CRIMEBUSTER/FRANK MO': 2, u'ANDERSON, CHET': 2, u'ZEAKLAR': 2, u\"MUNROE, N'DARE\": 2, u'PROTECTOR III/': 2, u'STORM DOPPELGANGER I': 1, u'KNIGHT ERRANT II': 2, u'MARTINEZ, LINETTE': 2, u'NEZARR': 1, u'PRAZNIKI, ANNIE': 2, u'REI': 2, u'KRONOS': 1, u'SCORCHER/': 2, u'AQUARIUS III/': 2, u'REE': 2, u'CAPTAIN BRITAIN 2013': 2, u'VALKYRIE II | MUTANT': 2, u'COOPER, ROGER CAPS': 2, u'DIRECTOR X': 2, u'INNARDS': 2, u\"D'ALEXIS, AMBER\": 2, u'ROGUE | MUTANT X-VER': 2, u'ROMA': 1, u'TILLIE THE HUN/MATIL': 2, u'JAKAL': 2, u'BADALINO, LT. MICHAE': 2, u'APE MAN II/ROY MCVEY': 1, u'GULLIN': 1, u'JAKAR': 1, u'BLACKWELL': 2, u'MOREAU, DAVID': 2, u'STARK, MARIA CARBONE': 1, u'MARKS, DR. SHIELA': 2, u'NIGHTHAWK/KYLE RICHM': 1, u\"W'KABI\": 2, u'CONOVER, ALYSSA': 2, u'MALEVOLENCE': 2, u'JAM/JASMINE ARCHER': 2, u'VAMP': 1, u\"SSS'LETHCOTT\": 2, u'ST. HUBBINS, SARI': 2, u'KOWALSKI, TRISH': 2, u'DEVIL DINOSAUR | MUT': 2, u'DIAMOND, CHUCKY': 2, u'KAZE': 2, u'PUNISHER/FRANK CASTL': 2, u'WYSPER/MS. STEWART': 2, u'INNOCENT': 2, u'CERBERUS': 1, u'BLACK MOUNTAIN/KUROY': 2, u'HUNT, JERRY': 1, u'GREASE': 2, u'STAHL, VERONICA': 2, u'ADORA': 1, u'STROUD, SIMON': 2, u'RAINBOW, BECKY': 2, u'BOMBSHELL/': 1, u'GREASY': 2, u'MAKO': 2, u'TAROT/MARIE-ANGE COL': 2, u'LLYRA/LLYRA MORRIS': 1, u'BASALLO/LAVA MEN KIN': 1, u'CORDOVA, JUAN': 2, u'STYX II': 2, u'PICARO/FELIPE': 1, u'MOONBOY': 2, u'RAMROD': 2, u'WARLOCK II/ADAM WARL': 1, u'NIGHTWIND/': 2, u'GRUX': 2, u'NINJA/': 2, u'BRADLEY, JESSICA': 2, u'MENTUS': 2, u'STRIKER': 2, u'FORGOTTEN ONE/GILGAM': 1, u'CAPTAIN WINGS/': 1, u'VENUS II': 1, u'CHECK': 2, u'BRAINSTORM/': 2, u'WORMWOOD': 2, u'LORD GASPAR': 2, u'VALTORR': 2, u'CAPTAIN U.K./LINDA M': 2, u'TRITON DOPPELGANGER ': 1, u'WEREWOLF BY NIGHT/JA': 1, u'AQUARIUS/DARREN BENT': 1, u'CHORD, MIYAMI': 2, u'GALTUS': 2, u'MANNING, JANICE': 2, u'CRIPPLER/KARL STRIKL': 2, u'BISON/BILLY KITSON': 2, u'ST. CROIX, CLAUDETTE': 2, u\"MIND'S EYE/MEACHAM\": 2, u'NIGHTCRAWLER/KURT WA': 1, u'EL GIBAR, ACHMED': 2, u'CUTTER': 2, u'DIBDEB': 2, u'FORTUNATO': 1, u'PETROVITCH, DMITRI': 2, u'WARKOVSKY, SEN.': 1, u'FIREFIST/RUSTY COLLI': 2, u'BERNHARD, CLARICE': 2, u'BATTLE, MONTGOMERY': 2, u'COLD WARRIOR': 2, u'BLAKE, KENT': 2, u'RAVONNA LEXUS RENSLA': 1, u'ROBERTSON, PROF. BOB': 2, u'THING/BENJAMIN J. GR': 1, u'WARHAWK III/TOM NAKA': 2, u'BATROC/GEORGES BATRO': 1, u'MASTER OM': 2, u'VIRGO/ELAINE MCLAUGH': 1, u\"M'KAMBA\": 2, u'BROTHER WONDERFUL/DR': 1, u'MIDAS': 1, u'BARON MORDO/KARL MOR': 2, u'ADAMS, NICOLE NIKKI': 1, u'VINCENT, DANNY': 1, u'PROSH': 2, u'LAO-TSE, GEN.': 2, u'DOCTOR, DR. JOSHUA': 2, u'JONES, LOUISE': 2, u'BEEF/': 2, u\"KEKA' AKELUAK\": 2, u'WATSON-PARKER, MARY ': 1, u'RIFKIN, BIFF': 2, u'NIMROD': 2, u'GARFIELD, MURRAY': 2, u'IN-BETWEENER': 1, u'GRANT, GLORIA GLORY': 1, u'BLACKWING/JOSEPH MAN': 1, u'NIGHTSTICK/': 2, u'REVER, DAN': 1, u'DRACCHISS': 2, u'BOOMERANG/FRED MYERS': 1, u'LAMENT/': 2, u'BECKMAN, JOSEPH': 2, u'MUGGINS, MAMIE': 2, u'ROLLINS, MRS.': 2, u'LOCOMOTIVE BREATH/LA': 2, u'STACY, ARTHUR': 2, u'ROYCE, JENNIE': 2, u'MOONDARK': 2, u'KLEINFELDT, LORNA': 2, u'SCATTERSHOT/NATALIA': 2, u'MENDICUS': 2, u'OUIJA/': 2, u'DAGGER/TANDY BOWEN |': 2, u'FERRARI, CONNIE': 1, u\"N'GAMO\": 2, u'MILLER, CHRIS': 2, u'STRANG, COL./LT. GAR': 1, u'ECSTACY/MME. RENE DE': 2, u'REIGNFIRE/': 2, u'TOI/REXEL TOIVEN': 2, u'MAHA YOGI': 2, u'BIZEN': 2, u'LIBRA IV/': 2, u'SIMS, EZEKIEL': 2, u'MATHEMANIC/THOMAS SO': 2, u'BOUDREAUX, MARIUS': 2, u'BLACK WIDOW DOPPELGA': 1, u'RED GUARDIAN II/ALEX': 1, u'ALVAREZ, PAUL': 2, u'MALICE': 2, u'FAWN, FELICIA': 2, u'CHANG, IMEI': 2, u'MCKENZIE, LYDIA': 1, u'MORLEY': 2, u'TANA NILE': 2, u'BALLANTINE, MR.': 1, u'KENNEDY, LOUISE': 2, u'KRANG [ATLANTEAN]': 1, u'MULDOON, SGT. BRIAN': 1, u'ALBERT': 2, u'NIGHT THRASHER/DUANE': 1, u'RAMIREZ, ALMA': 1, u'MORBIUS/DR. MICHAEL ': 2, u'CROWLEY': 2, u'CONKLIN, CAPT.': 2, u'LOVECCHIO, ARGUS': 2, u'HAWK': 1, u'GUTHRIE, JOSH': 2, u'MINOTAUR': 1, u'THORNN': 1, u'CANCER/JACK KLEVENO': 1, u\"CH'OD\": 1, u'DMITRI': 1, u'HALDEMAN, CALVIN': 1, u'HO TI': 2, u'VILLA-LOBOS, GETULIO': 2, u'HUNGER': 2, u'NEIFI [INHUMAN]': 2, u'THOMAS, DR. JOHN': 2, u'VULTURE/ADRIAN TOOME': 1, u'MENNINGER, CLARA': 2, u'STYX/JACOB EICHORN': 2, u'PRINCE BAYAN': 2, u'TIMMONS': 2, u'QUARTERMAIN, CLAY': 1, u'CHANDLER, PEGGY': 1, u'VARUA/MIRA': 2, u'EUROPIUM': 2, u'STEIN, EMIL': 1, u'SILVER SURFER | MUTA': 2, u'EEL II/EDWARD LAVELL': 1, u'ZEFRA': 2, u'JORNICK': 2, u'PEARSON, MARCY': 1, u'BUCKNER, GRANT': 2, u'REAVES, VERNON': 2, u'RYANS, JIM': 2, u'WISDOM, PETER': 1, u'NIXON, RICHARD': 1, u'TALO': 2, u'TANNEN, PAUL': 2, u'HIPPOLYTA [GREEK GOD': 2, u'LEVAN': 1, u'ASTRONOMER': 2, u'FENTON, BARNEY': 2, u'INFERNO': 2, u'JARVIS, EDWIN ': 1, u'DRAN, DAMON': 1, u'SIROCCO': 2, u'MULTIPLE MAN DOPPELG': 1, u'JASMINE': 2, u'BURKE, RICKY': 2, u'GHOST RIDER III/DAN ': 1, u'PARKS, JOE': 1, u'KYMRI': 2, u'PORTER, KIM': 2, u'ASTARTE': 2, u'FIREFIST II/': 2, u'SPOOKY': 2, u'BLACK LAMA': 2, u'PESTILENCE/CAPT. F.R': 2, u'JACKSON, CURTISS': 1, u'BIANDU': 2, u'SHAITAN, AL': 2, u'PROFESSOR XAVIER 201': 2, u'SERPENTYNE': 2, u'CONAN, NEAL': 1, u'SMITH, HELEN BACK': 2, u'POUNDCAKES/MARIAN PO': 1, u'BLACK BOLT/BLACKANTO': 1, u'ROC/': 2, u'FACADE': 2, u'LEFT HAND/DIEGO CASS': 2, u'HATCHWAY, VERNON': 2, u'REMORA': 2, u'FOGG, ARCHIMEDES ARC': 2, u'BALLANTINE, MRS.': 1, u\"WILL O' THE WISP/JAC\": 2, u'RASPUTIN, MIKHAIL': 2, u'ZEALOT/MOREAU': 1, u'DRAKE, MADELINE BEAT': 2, u'SLOAN, DR.': 2, u'RICOCHET/SEN. STEVEN': 2, u'BOX/ROGER BOCHS': 1, u'SCOPE': 2, u'NIGHTHAWK II/KYLE RI': 1, u'OCCULUS': 2, u'VINDICATOR II DOPPEL': 1, u'JUDGE KRAY-TOR': 2, u'WALSH, LYNN': 2, u'DENNEHY, ROBERT': 2, u'PIPELINE/CORMICK GRI': 1, u'SPHINX II': 2, u\"GUARDSMAN/KEVIN O'BR\": 1, u'SEAWEED MAN': 2, u'KARSANO': 2, u'DA COSTA, EMMANUEL': 2, u'DEATHTOLL': 2, u'T-RAY/WADE WILSON': 2, u'HARRIGAN, CHESTER CH': 2, u'WATERS, SETH': 2, u'LIONMANE/GEN. LO CHI': 2, u'VIBRANIA/SHARA': 2, u'INTEGER': 2, u'ROGERS, GAYLE': 2, u'MOODY, RUNYAN': 2, u'ARCADE/': 1, u'RED SKULL/JOHANN SCH': 1, u'WALTERS, CHAP': 1, u'MENTOR II': 1, u'ZOTA, CARLO': 1, u'ROSE, JUSTICE': 2, u'WORTHINGTON, WARREN ': 2, u'HOPE': 2, u'VIXEN': 2, u'LOBO': 1, u'TEMPUS': 1, u'OXTON, PROFESSOR HEN': 2, u'ZARIN': 2, u'FORTHWARD, KENT': 2, u'KOSINSKI, HARLEY': 1, u'RADCLIFFE, TODD': 1, u'PEACEMONGER/': 2, u'KUTUZOV, COL.': 2, u'FROST': 2, u'SLAUGHTER': 2, u'KRUMA, TALIA': 1, u'MAD VIKING/KNUT CAIN': 2, u'MINOTAUR III': 2, u'FRANKENSTEIN, BASIL': 1, u'CLAYTON, KATRINKA JA': 2, u'BARRON, RICK': 2, u'BIOHAZARD': 2, u'GANGER, DR. ALEXEI': 2, u'MARRS, DESMOND': 1, u'METABO': 2, u'THUNDERSWORD': 1, u'IRON GIANT MAN | MUT': 2, u'CAT BURGLAR': 2, u'CHAKA KHAN II': 2, u'APOCALYPSE | MUTANT ': 2, u'SOMBRE': 2, u'ARYAN': 2, u'MAN-THING/THEODORE T': 1, u'GOLD': 2, u'BAILEY, GAILYN': 2, u'KOFI [KYMELLIAN]': 1, u'POMEROY, SYLVIA': 2, u'FUSION/MARKLEY': 2, u'QUASAR III/WENDELL V': 1, u'SERVITOR': 2, u'AGARN, CAPT.': 2, u'DIVINITY': 1, u'TU': 2, u'MUSE/SHANNON FITZPAT': 2, u'HUDDLESTON, PROF.': 2, u'WHITE WOLF/HUNTER': 1, u'TIMBERIUS II': 2, u'HIGHNOTE/RAOUL HERNA': 2, u'JEROME, JASON': 1, u'MAGNETO | MUTANT X-V': 2, u'WHITE, PROFESSOR': 2, u'MARX, DR.': 2, u'FREDERICKS, GENERAL': 2, u'NAGA': 2, u'CANNONBALL/JACK PULV': 1, u\"O'SHAUGNESSY, COLLEE\": 2, u'HARKNESS, ABIGAIL': 2, u'DOGGEREL': 2, u'COBWEB': 2, u'JAGGED BOW/': 2, u'EPURER, GISCARD': 2, u'POLOMBO, CATHY': 2, u'MOSES': 2, u'TOOTHGNASHER': 2, u'BOUNTY II': 1, u'LANIEGE, BIANCA': 2, u'CLASS CLOWN/GLASS': 2, u'WATKINS, MELODY': 2, u'STINGER/': 2, u'DUSK': 2, u'YIN, DR. SU': 2, u'COGGER': 2, u'ZAPPER, DAN': 2, u'HOWARD, PROFESSOR MA': 2, u'MAGNUS': 1, u'SAINT, JOHNNY': 2, u'BOWEN, FATHER MICHAE': 1, u'DRUMM, COLLETTE': 2, u'MALICE IV': 2, u'LEVIN, MAJOR DEBRA': 2, u'LIVING LASER/ARTHUR ': 1, u'FLUX/PRIVATE BENNY T': 2, u'JANUS': 2, u'SANDHURST, VINCENT': 2, u'JILLETE, RANDI': 2, u'BALOR': 1, u'MAGRUDER, ALLIE': 1, u'MALICE II': 2, u'RYNDA': 2, u'SAGITTARIUS II/': 2, u'SPOOR/ANDREW HAMISH ': 2, u'MAJOR LOVE': 2, u'BLESSING, MORGANA': 2, u'DWYER, MARISSA': 2, u'PUNCHOUT': 2, u'HAUS': 2, u'MULLANY, MIKE': 2, u'STACY, GWEN': 2, u'SITWELL, JASPER': 1, u'WEASON, SENATOR': 1, u'TERRAFORMER/SAM': 2, u'HOGUN [ASGARDIAN]': 1, u'BRIGHTWIND': 2, u'COTTONMOUTH II': 1, u'COCKRUM, DAVE': 2, u'WATCHDOG': 1, u'CONOVER, REV. WILLIA': 2, u'LEONARD, DR.': 2, u'SANCTITY/TANYA TRASK': 2, u'KOSHIMA': 2, u'STILES, TATJANA': 3, u'GAEA': 1, u'WINDY': 2, u'DARKHAWK/CHRIS POWEL': 1, u'PROMETHEUS [OLYMPIAN': 1, u'OMEGA': 2, u'PLEX INTELLIGENCE': 3, u'SYBYL DORN': 1, u'VISE/': 2, u'SISTER AGONY': 1, u'CINDER/': 2, u'ZOLA, ARNIM II': 2, u'HULK DOPPELGANGER': 1, u'RAPTOR II/PROFESSOR ': 2, u'GALANNAN, BILL': 2, u'MARX': 1, u'TOY': 2, u'DREYFUSS, RACHEL': 2, u'UNICORN/MYLOS MASARY': 1, u'SMEDLEY': 2, u'PETRIE, JUDGE RICHAR': 2, u'MOBIUS, DR.': 2, u'TEN-THIRTIFOR': 1, u'MASTER TWELVE': 2, u'WATANABE, EMMALINE B': 2, u'QNAX': 2, u'COMANCHE': 2, u'CALDERONE, HANNAH': 2, u'FITZGERALD, KENNY': 2, u'DOMINUS II': 2, u'VERMIN, LADY': 2, u'ARIZE': 2, u'CRUSHTACEAN': 2, u'ARSENAL': 1, u'SCOURGE II/': 1, u'SUNSPOT/ROBERTO DACO': 1, u'DIXON, GENERAL': 2, u'ARACHNE': 2, u'ANNIHILUS': 1, u'FOWLER, RED': 2, u'EGO': 1, u'LADY LARK/LINDA LEWI': 1, u'PAKAI': 2, u'PORGA': 2, u'WINGFOOT, WYATT': 1, u'PHEMOUS': 2, u'RAA': 1, u'BLACK TARANTULA/LAMU': 2, u'LANSING, CHERYL': 1, u'OSHTUR': 2, u'RAI': 2, u'RAT': 2, u'PUCK/EUGENE MILTON J': 1, u'RAX': 2, u'WATTS': 2, u'ROCK PYTHON': 1, u'PAINTER/WILHELM VON ': 1, u'GLENN, HEATHER': 1, u'WITNESS/NESS': 2, u'ROSENTHAL, BERNIE': 1, u'ANCIENT ONE/BARON MO': 2, u'RISQUE/GLORIA': 2, u'LUCIFER, REV.': 2, u'TOKKOTS': 2, u'EDGERTON, GAYLE': 2, u'SLOAN, FRED': 1, u'STRONG, SUSAN': 2, u'FIRESTAR DOPPELGANGE': 1, u'MACKENZIE, DR. NEIL': 2, u'FITZPATRICK, WILL': 1, u'NAILS II/JOANIE EATO': 2, u'LEE, STAN': 1, u'PULSE II/': 2, u'METALSLASH/': 2, u'EITRI': 2, u'MARISTA': 2, u'CHERRYH, RANDOLPH WI': 2, u'BLUDGEON/': 2, u\"G'RATH\": 3, u'QIRMET': 2, u'HUMAN TORCH ANDROID/': 1, u'HALE, NAN': 1, u'JONES, CHARLOTTE': 1, u'TREVANI, DANIKA': 2, u'HUGO, CAPTAIN EDVARD': 2, u'BOYD, TWO-FISTED TOM': 2, u'PLAZM': 2, u'BRANNEX, ALLESSANDRO': 1, u'VENDETTA | MUTANT X-': 2, u'TANNER, ARCHIE': 2, u\"P'KAR\": 2, u'RAZORFIST IV/MARCO S': 2, u'CHAMELEON/DMITRI SME': 1, u'HOUSE OF SHADOWS': 2, u'HAMILTON, MICKY': 2, u'THINKER': 1, u'SANDERS, MAC': 2, u'LITTLE, ABNER': 2, u'TITAN, TRISH': 2, u'JOHNSON, ANNA': 2, u'SICKLE II/': 2, u'GOULDING, DR.': 2, u'DEADPOOL/JACK/WADE W': 1, u'BERTRAM': 2, u'SORROW/': 2, u'CHAR': 2, u'CUTTHROAT/DANIEL LEI': 1, u'NEUT': 2, u'WORD': 2, u'MASTERSON, KEVIN': 1, u'PENANCE III': 2, u'MARTINS': 2, u'WORM': 2, u'BRANDT, ELLEN': 2, u'WALTERS, SHERIFF MOR': 2, u'MOONSTALKER/KIANA': 2, u'HELLSTORM/DAIMON HEL': 1, u'THORPE, GORDON': 2, u'JOHNSON': 2, u'CYANIDE JANE': 2, u'LOCKHEED': 1, u'STARR, JACQUELINE': 2, u'HOYT, TONY': 2, u'PIP/PRINCE GOFERN': 1, u'TARGET': 2, u'STERN, ROGER': 1, u'INES, DR. DIDIER': 2, u'STONE, LT. MARCUS': 1, u'HELIO': 2, u'GRIFFIN III': 2, u'HRILL': 2, u'CUT': 2, u'WEYING, ANN': 2, u'KAMAL': 2, u'WATSON, MADELINE': 2, u'KRUSH': 2, u'CHEMISTRO/CURTIS CAR': 2, u'DOOMSDAY MAN': 1, u'CAULDER, SAFRON': 2, u'DAZZLER II/ALLISON B': 1, u'THANOS DOPPELGANGER': 1, u'OWL/LELAND OWLSLEY': 2, u'COMMCAST/GARABED BAS': 1, u'RILEY, JACK': 2, u'TARTARUS': 2, u'SHADOWOMAN/JILLIAN W': 2, u'SENTINELS': 1, u'AVATAR II/PRINCESS A': 2, u'NOMAD III/JACK MONRO': 1, u'KINGPIN/WILSON FISK': 1, u'PREYY': 2, u'WORD II/': 2, u'RINTRAH': 1, u'YLA': 2, u'PYRE II': 2, u'MCPHAIL, NATALIE': 2, u'RASPUTINA, ILLYANA I': 2, u'POPPA WHEELER': 2, u'GRIFFITH, D.W.': 1, u'SCARECROW/EBENEZER L': 1, u'STONE, NELSON': 2, u'ULARA': 2, u'ABOMINATRIX': 2, u'AZOR': 2, u'LUCAS, JAMES JR.': 2, u'DAVID, PETER': 1, u'PHOSPHORUS': 1, u'LINCOLN, WILLIAM WIL': 2, u'X THE UNKNOWABLE': 2, u'MONTOYA, JULIO': 2, u'GAMBONNO, ERNESTO': 1, u'GOLDEN ARCHER II/WYA': 1, u'COUNT NEFARIA, LUCHI': 1, u'BLACK CROW/JESSE BLA': 1, u'PRIME MOVER': 2, u'ELATHAN': 1, u'FONG, DR. CHARLES WA': 2, u'EPSTEIN, PROF. NORA': 2, u'LUMP': 1, u'CRIMSON DYNAMO II/BO': 2, u'MOCKINGBIRD/DR. BARB': 1, u'VINDALOO/': 2, u'FANG': 1, u'AMERICAN EAGLE III/J': 1, u'STRIDER': 1, u'RINGMASTER/MAYNARD T': 1, u'MARVEL BOY VIII/NOH-': 3, u'URSON-WELLZ': 2, u'WIBBOW': 2, u'JACK OF HEARTS/JACK ': 1, u'TOMMY LIGHTNING/': 1, u'WILDSIDE': 2, u'BROWSER': 2, u'HELA [ASGARDIAN]': 1, u'GYRE': 2, u'VYREK': 2, u'TOOTHGRINDER': 2, u'URCHALLA': 2, u'THORPE, GAVIN': 2, u'VOR/TEX': 2, u'STORM, JOHNNY | MUTA': 2, u'IRON MAN V/TEEN TONY': 1, u'PIKE, FRISCO': 2, u'SLIDE': 2, u'CYRA [ASGARDIAN]': 2, u'WHIPLASH/MARK SCARLO': 1, u'SIMON, FELIX': 2, u'BURGOS, CARL': 2, u'RINGO KID': 1, u'EARTH-LORD/KYLE BROC': 2, u'MERCURY': 2, u'FIXX': 2, u'KRAMER, STACEY': 1, u'COLLINS, EMMA': 1, u'DARKSTAR/LAYNIA SERG': 1, u'CAPRICORN II/': 2, u'GARRETT, JOHN': 2, u'AGAMEMNON': 2, u'AVIOS': 1, u'DRUMM, JERICHO': 1, u'JOUST': 2, u'VULTURE III/DR. CLIF': 2, u'BATWING/': 2, u\"O'HARA, ROBERT IRONG\": 2, u'SENYAKA, TIA': 2, u'DEMITRIUS': 2, u'YRDISIS': 1, u'HURRICANE II': 2, u'CACHE': 1, u'FLYING FOX': 2, u'ZAWADI': 2, u'SUNSHINE/AUTUMN MACR': 2, u'KILLBREW, DR.': 2, u'DRAX DOPPELGANGER': 1, u'HARDY, LYDIA': 2, u'SUNDANCE': 2, u\"SA'TNEEN\": 2, u'MALTESE': 2, u'ZANIAC II/THUG THATC': 2, u'NIGHT RIDER': 1, u'MALICE III': 1, u'CHARLIE': 2, u'MASQUE': 2, u'STONE, MEG': 2, u'SAVANNAH, LOU-ANN': 1, u'ARIEL II': 2, u'DUSK III': 2, u'SIRYN/THERESA ROURKE': 1, u'PAIBOK, CAPT. [SKRUL': 1, u'TAKACHIHO, MRS.': 2, u'APOSTATE': 2, u'VERMICELLI, GIANNI': 2, u'SLOTOTH': 2, u'GRAVEMOSS': 2, u'RINGER/ANTHONY TONY ': 1, u'WOO, CHOW YUN': 2, u'TYGER, LORD': 2, u'HAMMERHEAD': 1, u'HOLY/FATHER HECTOR R': 2, u'AVIA': 2, u'OGRE II': 2, u'ORPHAN II/GUY SMITH': 2, u'SMOKESCREAM/': 2, u'TRASK, DR. DONALD TR': 2, u'SUNDRAGON/PAMELA DOU': 2, u'COLLINS, BRADBURY': 2, u'GRAY, CHARLES': 2, u'MR. SINISTER | AOA': 2, u'VIDAR': 2, u'BRINKE, NIOMI': 2, u'SAWYER, RYAN': 2, u'DEMOLITION MAN/DENNI': 1, u'DEAN, DARBY': 1, u'MERIDIAN, DR. ROBERT': 2, u'CLOWN/CRAFTY ELIOT F': 1, u'SHIVER MAN': 2, u'NAMORA/AQUARIA NAUTI': 2, u'GENTRY': 2, u'OTHER II': 2, u'SURGE': 2, u'MERRYWEATHER, IRENE': 1, u'STARK, HOWARD': 1, u'MO MONEY': 2, u'HIGGINS, SAMUEL': 2, u'SKIN/ANGELO ESPINOSA': 1, u'ROK': 2, u'VISALIA': 2, u'MOONSTONE II/KARLA S': 1, u'BARTLETT, STU': 1, u'SATANA': 2, u'SUPER-ANDROID F-4': 2, u'CALYPSO': 2, u'CHI-CHEE': 2, u'TUVO': 2, u'HERCULES DOPPELGANGE': 1, u'DRAKE, MALCOLM': 2, u'HAMMERHAND II/BRON': 2, u'DINAH-SOAR': 1, u'LANDERS, RICKY': 2, u'SPITE/': 2, u'COOPER, DR. VALERIE': 1, u'WANDERER': 2, u'BULLSEYE | MUTANT X-': 2, u'JENKINS, WALTER': 2, u'NAMORITA | MUTANT X-': 2, u'PROTO-GOBLIN/VAN ADD': 2, u'XEMNU': 2, u'UPLINK/HECTOR FUENTE': 2, u'SPEEDBALL II/DARRION': 2, u'WARSTAR': 1, u'HASARD, SAMANTHA': 2, u'FLYING TIGER': 1, u'DEWITT, LUCIUS': 2, u'QUINN, MR.': 2, u'QUEEN KNORDA/NORA QU': 1, u'GEIGER/DELILAH DEEDE': 2, u'STAPHOS, DR. MONICA': 2, u'PARSON/': 2, u'MENDELSON, DR. MACK': 2, u'HAWKINS, DR. EDWIN E': 2, u'KOENIG, ERIC': 1, u'COLON, CHERYL': 2, u'SIMMONS, RANDALL': 2, u'HUNTARA/MARY ELIZABE': 1, u'GARABALDI': 2, u'SELENE | MUTANT X-VE': 2, u'EXALTED ONE': 2, u'BRUTUS KLOR': 2, u'DISPROSIUM': 1, u'TOLOC': 2, u'TEMPLAR/IAN FITZWILL': 2, u'TOWER': 2, u'DARROW, MARISSA II': 2, u'BROMWELL, DR.': 1, u\"B'GON\": 2, u'PURL, DR. NOAH': 2, u'CREED, GRAYDON | MUT': 2, u'DEADEYE/': 2, u'SHAPER OF WORLDS': 1, u'PENNINGTON, AUDRA': 2, u'COSMIC MESSIAH': 2, u'LANGTREE, GINA': 2, u'LUPO': 2, u'LUPE': 2, u'LANDERS, GENA': 2, u'BROADSIDE': 2, u'HUMAN ROBOT': 1, u'ICONOCLAST': 2, u'HILDEGARDE [ASGARDIA': 2, u'NEPHRI': 2, u'BALDWIN, MADELYNE MA': 1, u'LE FEY, MORGAN': 1, u'TRI-SENTINEL': 2, u'VIPER II': 1, u'DAI-KUMO': 2, u'SQUIRE/': 2, u'MR. NACHT': 2, u'NEUTRON': 2, u'VON DOOM, CYNTHIA': 2, u'SAINT ELMO': 2, u'MASTERMIND/JASON WYN': 1, u'SYBIL': 2, u'VANIUM': 2, u'TUTINAX': 2, u'CONRAD, LUTHER DUTCH': 2, u'POGUE, BARTON': 2, u'SHALLA BAL': 2, u'VILIVEN': 2, u'CHAMBERS, MR.': 2, u'PRINCESS PEARLA': 2, u'TAYLOR, JACK': 1, u'KINGSLEY, DANIEL': 2, u'MR. IMMORTAL': 1, u'SILVER SAMURAI/KENYU': 1, u'GREENSONG': 2, u'KRO [DEVIANT]': 1, u'PHASTOS [ETERNAL]': 1, u'SILENCER': 2, u'SCANNER II': 2, u'DESTINE, NEWTON': 2, u'ENGLEHART, STEVE': 2, u'DANGOR': 2, u'SEBASTIAN, MRS.': 2, u'TORES': 2, u'BI-BEAST': 2, u'GHOST GIRL/': 1, u'HESCAMAR/MARNOT [ASG': 1, u'LORD TEMPLAR/': 1, u'YELLOWJACKET II | MU': 2, u'EL CONQUISTADOR': 2, u'HIJACKER': 1, u'AGGAMON': 2, u'MOTHER NIGHT/SUSAN S': 1, u'SAMMAEL': 2, u'ASANO': 2, u'BERYLLIUM': 2, u'MAGGOTT/JAPHETH': 2, u'SILENCE/': 2, u'BURKE, JOB': 2, u'MARTHA': 1, u'PINKERTON, RUDY': 2, u'AYALA, MRS.': 2, u'MAGUS': 1, u'FLASH/BARRY ALLEN/BU': 2, u'AYALA, AWILDA': 2, u'WILLIAMS, MRS.': 2, u'GUNDERSON, COL. ROLA': 2, u'TRASK': 2, u'KNIGHT ERRANT/MATSON': 1, u'STUNT-MASTER/GEORGE ': 1, u'PINKWATER, ELLA': 2, u'WHITMAN, DEBRA': 1, u'ARCHER, ULYSSES SAMS': 2, u'BRADDOCK, JAMES JR. ': 1, u'PESTILENCE | MUTANT ': 2, u'ACHEBE, REVEREND DOC': 1, u'YETI': 2, u'RYKER, MAJOR SIMON': 2, u'RHODES, MR.': 2, u'CAT MAN III/': 1, u'DUFFY, SGT. MIKE': 1, u'JONES, KATIE': 2, u\"RY'LOR\": 2, u'JONES, PHILLIP': 2, u'KURAGARI': 2, u'POLARIS/LORNA DANE': 1, u'UNION JACK/LORD MONT': 1, u'MUTO, JUNZO': 1, u'BLACK, CYRUS': 2, u'NOCTURNE II/ANGELA C': 2, u'SCARLET CENTURION': 1, u'RAYMOND, FRED': 1, u'MUNOZ, CARLOS': 2, u'RAZORBACK/': 1, u'REYES, DR. CECELIA': 2, u\"SHANNA/SHANNA O'HARA\": 1, u'VINCENTE/': 2, u'COLDBLOOD/': 2, u'WEISMAN, DR.': 2, u'BIRD MAN/HENRY HAWK': 1, u'AMPHIBIUS': 2, u'LOPEZ, DONNA': 2, u'SHREEVE': 2, u'LEAP FROG/LANG': 2, u'SCANLON, COMMANDER': 2, u'STORM DOPPELGANGER': 1, u'WALL/': 2, u'BRAWLER': 2, u'APOLLO [GREEK GOD]': 1, u'ARGOSY, HERVE': 2, u'MUNDY, SHANE': 2, u'VOGEL': 2, u'MANDARIN, JAMES': 2, u'LADY LOTUS': 1, u'SWORDSMAN II/COTATI': 1, u'KEY/': 2, u'SPARROW BEAR, MELLIS': 2, u'HOCHBERG, ROGER': 1, u'RAKKUS': 1, u'THREE-FACE': 2, u'TEZCATLIPOCA': 1, u'GOYER, SAUL': 2, u'HARPOON': 2, u'STERN': 2, u'FURY, COL. NICHOLAS ': 1, u'AGENT AXIS/': 1, u'CANE/': 2, u'BENCHLEY': 2, u'HARROW, DR. JONAS': 2, u'LITTLETREE, LINDA': 2, u'TESS-ONE': 1, u'SKOOKA': 2, u'MCGRILL, MARY': 2, u'MASTER KHAN/TYRONE K': 1, u'FULLERTON-SMITH, CAS': 2, u'THOR | MUTANT X-VERS': 2, u'RIPTIDE': 2, u'GEDDINGS, JUDITH GHO': 2, u'HOPKINS, STEVE': 2, u\"K'AD-MON\": 2, u'BURKE': 2, u'CHIRA': 2, u'RYKING, ALEXANDER': 2, u'STONE-FACE': 2, u'DANVERS, MRS. JOE': 2, u'FER DE LANCE/TERESA': 1, u'SKIDS/SALLY BLEVINS': 2, u'AMERICOP/': 1, u'STICK': 2, u'WEIN, LEN': 2, u'HONIKAWA, SHO': 2, u'MANGOG': 2, u'STERNBERG, DR. BERTH': 2, u'CHAMPION/TRYCO SLATT': 1, u'LORELEI': 1, u'MADAME QWA': 2, u'RIDER, GLORIA': 2, u'DWORMAN, JIM': 2, u'STEED, JOHN': 1, u'REANDEAU, DR.': 2, u'CHURCH, LYNN': 1, u'SPIDER-MAN CLONE/BEN': 1, u'PUMA/THOMAS FIREHEAR': 1, u'CONTRARES, ANASTASIA': 2, u'CORD, JANICE': 1, u'COURIER/JACOB GAVIN': 2, u'BRIGGS, AGENT STEPHA': 2, u'LEQUARRE, GERRY': 1, u'SNOW, TANDY': 2, u'NANABOZHO': 2, u'ROMANO, TONY': 2, u'KARNAK | MUTANT X-VE': 2, u'PROMETHEUS II': 1, u'JUNIPER': 2, u'GAMELIN, JOHN T J.T.': 2, u'SCARLET WITCH DOPPEL': 1, u'COY, GENERAL NGUYEN ': 2, u'SLYDE': 2, u'HALFLIFE': 2, u'KURLYCHEK, PATTY': 2, u'CRIMSON DYNAMO IV/YU': 2, u'HENCKEL, MARIA': 2, u'FALCONER, CALVIN': 2, u'SISTER DEATH': 1, u'LIFEFORCE': 2, u'GAFF/SIDNEY E. LEVIN': 1, u'SMASHER V': 2, u'JAVELIN/DARIN': 2, u'RAPTAR': 2, u'RINTRAH DOPPELGANGER': 2, u'ALBERIK': 2, u'TYPHON': 1, u'ABSORBING MAN | MUTA': 2, u'OGRESS/': 2, u'GIRABOOR': 2, u'IMPALA/': 1, u'GAPON, DZHOKHAR': 1, u'UGLY JOHN/STEVE': 2, u'STEEL SERPENT': 2, u'HAROKIN [ASGARDIAN]': 2, u'SLOAN, ANNA': 2, u'SHREW/MARILYN MAYCRO': 2, u'GERASI, JOEY': 2, u'HEMINGWAY': 2, u'SANDSTORM/': 2, u'CASSANDRA': 2, u'MARTIN, ASHLEY': 2, u'MINDSINGER/GREGOR': 2, u'FAWKES': 2, u'VENOM/EDDIE BROCK': 1, u'MARLOWE, STEVE JR.': 2, u'WARD, SEN. STEWART': 2, u'TYPHOID MARY | MUTAN': 2, u'AYESHA': 2, u'DIGGER II/': 2, u'ROUST': 2, u'DELPHIS, SIR': 2, u'BUCKY II/FRED DAVIS': 2, u'MINDWAVE': 1, u'AURORA | MUTANT X-VE': 2, u'GOLDEN-BLADE': 1, u'INDECH': 1, u'CERANDA': 2, u'DOMINUS': 2, u'ICE WORM': 1, u'RIDER, ROBERT ROBBIE': 2, u'WALTERS, BILLY': 1, u'RUBINO, STEVE HEADSE': 2, u'RODRIGUEZ, DEBRA': 2, u'FAMINE | MUTANT X-VE': 2, u'CHEN': 2, u'BAKER, ANNE-MARIE': 2, u'AYALA, FILIPPO': 2, u'STROBE/': 2, u'WONG': 1, u'SAXON, STARR': 1, u'VALINOR': 1, u'SHAZANA': 2, u'CRIMSON DYNAMO V/DIM': 1, u'RAMROD III/': 2, u'COIL': 2, u'REBOUND/': 2, u'TULAK': 1, u'TORO II/BENITO SERRA': 1, u'TEMPEST/GRANNZ': 1, u'KHANDRUVITCH, DR. VA': 2, u'MARILLA [INHUMAN]': 1, u\"M'SHULLA\": 2, u'KO-GAR': 2, u'RIOT/HEIDI SLATKIN': 1, u'STATIC': 2, u'ROM, SPACEKNIGHT': 1, u'GROTESK': 1, u'SHAARA': 2, u'THUNDRA': 1, u'PARIS': 1, u'KOLE, JOHN': 2, u'DRAKE, WILLIAM ROBER': 2, u'TORGO': 2, u'WERNER, P.D.Q.': 2, u'BLACK RACER/': 1, u'LETHA': 1, u'DEAN, SUSAN': 1, u'SHADOWCAT 2013': 2, u'VOID': 1, u'NAMORITA DOPPELGANGE': 1, u'SMOKESCREEN/': 2, u'ATOM SMASHER/': 2, u'JESSUP, DR.': 2, u'MS. NOVA': 2, u'SNIPES, DET.': 2, u'BLACK TALON/DESMOND ': 2, u'MERCURY II': 2, u'REAVER/JOSHUA STRAGG': 2, u'LUCIFER': 1, u'BULL': 1, u'CRANUS': 2, u'INFERNO II/JOSEPH CO': 1, u'LULLABY/FELICITY HOP': 2, u'RINGLEADER': 1, u'SNOW, CHARLIE': 2, u'DUBOIS, NOAH': 1, u'STAR THIEF II': 2, u'SIKORSKY': 1, u'SHADOW KING | MUTANT': 2, u'MAELSTROM/MALCOLM ST': 2, u'PSYCHE II/PSYKOS/RON': 2, u'CLEARCUT/': 2, u'CEREBRO | MUTANT-X V': 2, u'CONUNDRUM/': 2, u'DIAMOND HEAD': 1, u'MACRAE, TRUTH': 2, u'HAMILTON, PAUL': 2, u'COPPERHEAD IV/': 2, u'HALF-FACE': 2, u'DEADAIR': 2, u'OXNARD, PHIL': 1, u'GERASI, MARY ROSE': 2, u'CITIZEN V II/HELMUT ': 1, u'MAYHEM/DET. BRIGID O': 2, u'DR. ANGST/FLOYD MANG': 2, u'ASMODEUS': 2, u'MISSING LINK': 2, u\"S'LAR\": 2, u'CYTTORAK': 2, u'BLACK TALON III': 3, u'TSKAROV, GENERAL': 2, u'SILVER FOX II/ZORA D': 2, u'OXBOW/': 2, u'KNICK KNACK': 1, u'LEEDS, BETTY BRANT': 1, u'VIBRAVORE': 2, u'DEL HIERRO, BLANCA': 2, u'U-GO GIRL/EDIE': 2, u'ARON [WATCHER]': 1, u'MAXIMUS [INHUMAN]': 1, u'KRAMER, KENNY': 1, u'GRIMM, BEN | EARTH-A': 2, u'CHAMBLISS': 2, u'SHARP, TRINA': 2, u'LADONNA, HOLLY': 1, u'NOCENTI, ANN': 2, u'BARON STRUCKER/WOLFG': 1, u'ELECTRON': 1, u'MIRAGE II/DANIELLE M': 1, u'SLOTH': 2, u'IRON': 1, u'CRITICAL MASS': 2, u'CONOWAY, SEKMEHT': 2, u'FORTUNATO, JAMES': 2, u'BAKER': 2, u'DRAKE, FRANKLIN': 2, u'NAGAN, DR. ARTHUR': 2, u'CRITIC': 2, u'NOVA II | MUTANT X-V': 2, u'OVERRIDER/': 2, u'CARNAGE/CLETUS KASAD': 1, u'BEDLAM/JESSE AARONSO': 2, u'HANSEN, BILLY': 2, u'JIGSAW': 2, u'ALIST': 2, u'MILAN': 2, u'THOR II/ROGER RED NO': 1, u'FATH': 1, u'LODESTONE/ANDREA': 2, u'WATER WIZARD/PETE': 1, u\"O'NEILL, DET. BRADY\": 2, u'STINGER III/': 2, u'BOONE': 2, u\"BLOODWING [SHI'AR]\": 2, u'HOLLYWOOD': 2, u'BLANDING, ANDREW': 2, u'MADAME MASQUE III': 1, u'ZANIAC/BRAD WOLFE': 2, u'DARCO': 2, u'CYBERSLIK': 2, u'RHODES, MRS.': 2, u'AIREO/AEOLUS [INHUMA': 2, u'SITTING BULLSEYE/': 2, u'MADAME MASQUE II/': 1, u'ZIRA': 2, u'TABESHAW, HARRY': 2, u'QUASAR DOPPELGANGER': 1, u'TOAD/MORTIMER TOYNBE': 1, u\"O'CONNOR, A.C. ACE\": 2, u'BRES': 1, u'TRITON': 1, u'HELLFIRE/MIKAL DRAGO': 2, u'ZEUS': 1, u'SACK': 2, u'SUAREZ, RAPHAEL': 2, u'BRAMER': 2, u'THOMAS, IDA': 2, u'MISS SACCHARINE': 2, u'TEI': 2, u'GIN GENIE/BECKAH': 2, u'SUPREME INTELLIGENCE': 1, u'CHANEY, AMANDA': 1, u'JACK SERIOUS/DR. JOH': 2, u'HENDERSHOOT, COLONEL': 2, u'VANCE REBUS/': 2, u'ATKINSON, MAJ. EDMON': 1, u'SINTARIIS': 2, u'ST. LAWRENCE, COL. C': 1, u'CAPTAIN GLORY': 3, u'BIG ONE/KENJIRO SASA': 2, u'SOLAR WIND': 2, u'CHLOE': 2, u'WETHERELL, MANOLI': 1, u'TELLIS': 2, u'BATAL/': 2, u'DEVLOR': 1, u'PARADY, CAPT. RONALD': 2, u'MISTER CLEAN': 2, u'KNIGHT/MALCOLM KNIGH': 2, u'SONDHEIM, ERICA': 1, u'CHALMER, JUDGE': 2, u'RON, TALLA': 1, u'SISTER SOPHIA': 2, u'BARON ZEBEK': 2, u'TRADER': 2, u'MCDOWELL, SCOTTY': 2, u'ARIES II/GROVER RAYM': 1, u'NYLES, JENNIFER': 2, u'TALISMAN II/ELIZABET': 1, u'MONSTER FROM THE LOS': 2, u'HOO': 2, u'SILVER II': 2, u'RIOT II/': 2, u'WOO, MAI YIN': 2, u'FITZROY, TREVOR': 2, u'OGADA, DR.': 2, u'APOCALYPSE/EN SABAH ': 1, u'LOVEJOY, FRANKLIN': 2, u'LEVIATHAN II/EDWARD ': 1, u'SYNCH/EVERETT THOMAS': 1, u'SCRIPPS, LAHOYA': 2, u'SCHOENFELD, ELAINE': 2, u'GAMBIT/REMY LEBEAU ': 1, u'DOPPELGANGER': 1, u'DOMINO II': 1, u'MURPHY, SEAN': 2, u'DIGGER': 1, u'SANGRE/JULIA CONCEPC': 2, u'MCCOY, EDNA ANDREWS': 2, u'PRINCESS PYTHON/ZELD': 1, u'CROWN': 2, u'LOCKLIN, GENERAL MER': 1, u'DR. DOOM DOPPELGANGE': 2, u'DREAMGUARD/DEPUTY WI': 2, u'FILLMORE, GARRET': 2, u'HALBERG, DONALD': 2, u'EL UNO': 2, u'ALVAREZ, CARLY': 2, u'SIMMONS, ARCHIE': 2, u'MCELROY, JAMES': 1, u'FIM': 2, u'SHERIDAN, WILLIAM': 2, u'MENGOCHAUZERAUS, STA': 2, u'WYRE/': 2, u'HECK, DON': 2, u'OLSON, MRS.': 2, u'PARETSKY, DR. GARY': 1, u'OWAYODATA': 2, u'SHAARA, MR.': 2, u'LANDA': 2, u'KEATON': 2, u'OLAFSON, ERIC': 2, u'SAINT ANNA': 2, u'MUTAURUS': 1, u'WOLF': 2, u'KENT, CLARK': 1, u'THOUSAND': 2, u'BLACKSHEAR, JONAS': 2, u'FAIRMONT, AMANDA MAN': 1, u'SUMMERS, MADELYNE MA': 1, u\"ARAKI [SHI'AR]\": 2, u'ORB': 1, u'RHAPSODY/RACHEL ARGO': 2, u'SCALEFACE/': 2, u'ITOBU, DR. JOSHUA': 2, u'SINEW/': 1, u'RAKSOR [SKRULL]': 1, u'CONQUEST/BRIDGET MAL': 1, u'BERSERKER III': 2, u'PIGSKIN/': 2, u'SISTER PLEASURE/SCAR': 1, u'BRICKFORD, CLAY': 2, u'GLADIATOR II': 1, u'DEGANN, KRIS': 1, u'SETH': 1, u'BERGLUND, GEN.': 2, u'WRAITH II/HECTOR REN': 2, u'JEXIA': 2, u'INTERLOPER': 2, u'TAKACHIHO, HIRO': 2, u'HOBBS, HARRIS': 2, u'BRASS/SEAN WATANABE': 2, u'YEE, WAI CHEE': 2, u'CACHES, PROF. MARINA': 2, u'STORM, CHILI': 1, u'RAMBEAU, FRANK': 1, u'BUSHMASTER/JOHN MCIV': 2, u'KILLDRAGON, HARMONY': 2, u'WARHEAD/GREGORY SLIV': 2, u'KRYZEWSKI, LEONARD M': 1, u'MAN-MOUNTAIN MARKO': 2, u'LORD BALDAR': 2, u'FIREBUG/': 1, u'LEVESSEUR, LARENT': 2, u'BLINDSIDE II/BOBBI C': 2, u'TORPEDO II/MICHAEL S': 2, u'WRAP': 2, u'GILBERTI, ROSE': 2, u\"M'REEL\": 1, u'FREEMAN, DUANE JEROM': 1, u'DEATHWATCH/STEPHAN L': 2, u'DIAMOND LIL/LILLIAN ': 1, u'GOLEM/JACOB GOLDSTEI': 1, u'HEYWERTH, GENERAL': 1, u'BLACK WIDOW | MUTANT': 2, u'PSIREN': 2, u'TINKER, SHEA': 2, u'YOVA': 2, u'SEGAR, OWEN': 2, u'SOMON': 2, u'FLAME': 2, u'HARKNESS, AGATHA': 1, u'ENCHANTRESS/AMORA/HE': 1, u'WINGFOOT, WYATT II': 2, u'PHILLIPS, SIR GORDON': 2, u'MACKAY, AILSA': 2, u'BLACK BOLT | MUTANT ': 2, u'GNUCCI, MA': 2, u'COHEN, IZZY': 1, u'VALKYRIE IV': 2, u'MACHINE MAN/X-51': 1, u'FREEMAN, DEREK': 1, u'FIFOLET': 2, u'THORNN II/LUCIA CALL': 2, u'STEEL COLLAR': 1, u'BURLEY, MIKE': 2, u'SHA SHAN': 2, u'STEELE, BOBBY': 1, u'TRYKUR': 2, u'STUART, DR.': 2, u'MUNIN': 1, u'LELAND, HARRY': 2, u'HALFTREE, HORACE': 2, u'STANACHEK, FREDDIE': 2, u'NIELS': 2, u'LUNATIK/ARISEN TYRK': 2, u'FURY, NICK | MUTANT ': 2, u'EXPEDITER/JOHN WRAIT': 2, u'NIRA': 2, u'MOBIUS': 2, u'SECOND/ALECTO': 2, u'WANG, VICTORIA VICKY': 2, u'ANCESTOR/': 2, u'SAKAA': 2, u'CAPTAIN AMERICA V/RO': 1, u'HUSSAR': 2, u'DINU': 2, u'LEGS II/': 2, u'HARRIS, CHRISTINE': 2, u'WILD CHILD/KYLE GIBN': 1, u'HOGAN, HAROLD J. HAP': 1, u'DELACORTE, ARTHUR': 2, u'ROBERTS, TED': 2, u'STONE, CHANTAL': 1, u'CHUNG, LAO WEI': 2, u'DAMBALLAH II': 1, u'BRUKNER, DR. FRANK': 2, u'BASILISK/BASIL ELKS': 2, u'ESON II': 2, u'THANADEMOS': 2, u'RALF': 1, u'SAYGE': 2, u'PAYNE, MICHAEL': 2, u'SUMMERS, DEBORAH': 2, u'BAZIN, ALLEGRA': 1, u'DR. MIME': 2, u'KESTRUS': 2, u\"DEATHCRY [SHI'AR]\": 1, u'GRANT, DONALD': 1, u'SHEFFIELD, LEAH': 2, u'MESSENGER, TOBIAS': 2, u'VIRGO II': 2, u'SHAW, SAMARRA': 2, u'WATSON, ANNA': 1, u'URANIUM': 2, u'SHAMAN | MUTANT X-VE': 2, u'UMAR': 1, u'KRAGG, GEN.': 2, u'BANSHEE II': 2, u'KLEIN, STANLEY': 1, u'WESTPHAL, SIMON': 1, u'TAUREY, SIR WILLIAM': 1, u'KONIEV, IRINI': 2, u'QUINN, PAMELA': 1, u'MEME': 2, u'POWER, DR. JIM': 1, u'RAZORFIST III': 2, u'SZARDOS, STEFAN': 2, u'OLIVIER': 2, u'BLOWTORCH/': 2, u'POSITRON/RONNIE': 1, u'MACENDALE, JASON JR.': 2, u'STILETTO II/': 2, u'SUB-MARINER | MUTANT': 2, u'PLUNDER, ADAM KYLE M': 1, u'TRAPSTER II/LARRY CU': 2, u'STACY, NANCY': 2, u'FIREBRAND/GARY GILBE': 1, u'SCORCH/TOMMY NG': 2, u\"CH'VAYRE\": 2, u'CRUSADER II/ARTHUR B': 2, u'PROGENITOR': 2, u'DEVOOR, ALBERT': 2, u'PROVENZANO, PAULIE': 2, u'TORPEDO': 2, u'PARKER, MAY': 1, u'ZONA': 2, u'ANON, LORD': 2, u'ZONE': 2, u'STAPLES, EDNA M. GRA': 1, u'DR. DOOM CLONE/VICTO': 2, u'HILARY': 1, u'ARSENIC': 1, u'GATEWAY': 2, u'KAMO THARNN': 1, u'PAINE, DR.': 2, u'PRINCESS SANDELLA': 2, u\"CERISE II [SHI'AR]\": 1, u'BANKS, SHARON': 2, u'GOLDEN GIRL/GWENNY L': 1, u'ISBISA/DR. SANDERSON': 2, u'ADMIRAL PROTOCOL/': 2, u'HILL, GEORGE': 2, u'KRIVEN': 2, u'RIP': 2, u'TODD, FISHER': 1, u'INFOMORPH': 1, u'DELGADO': 2, u'WIDGET': 1, u'PATILIO, MARIE': 2, u'CAESAR, JULIUS': 2, u'SHELDON, PHIL': 1, u'SCARLOTTI, MRS.': 2, u'ACHILLES': 2, u'WILLIFORD, BRENT': 2, u'GRESIG': 2, u'FOREARM': 2, u\"T'CHAKA\": 1, u'LIVING LIGHTNING/MIG': 1, u'IRIDIA [INHUMAN]': 2, u'CORSAIR': 1, u'PARETTI, TONY': 2, u'CEREBRITE BETA': 2, u'SALTZ/': 2, u'SANDOR, PROFESSOR IS': 1, u'VARGAS': 2, u'SPAR, DR. KATHERINE ': 1, u'KRISTA': 2, u'ARIDES': 2, u'ENCHANTER': 2, u'YGMLOSVORRAICH': 2, u'BOGATYR/MIKULA GOLUB': 1, u'WALRUS': 2, u'DARLA': 1, u'HAGGERT, BOB': 2, u'FOOL': 1, u'BLOODSTORM | MUTANT ': 2, u'LYNN, NORMA': 2, u'ADVA': 2, u'ZURAS': 2, u'DEWITT, KEARSON': 2, u'LADY OF THE LAKE': 2, u'DONAR': 1, u'KABALLA': 2, u'MARRINA/MARRINA SMAL': 1, u'SANDY': 2, u'STONECUTTER/UTAMA TO': 1, u'MR. TERMINEUS/AMODEU': 2, u'FLORESCU, ANTON': 2, u'TREVORIK': 2, u'MAINFRAME/IAN WAJLER': 2, u'WIDDOWS, SGT.': 2, u'GLORIAN/THOMAS GIDEO': 2, u'SMERDILOVISC, VICTOR': 2, u'SCARFE, RAFAEL': 1, u'DELUGE': 2, u'PRYDE, TERRI': 2, u'GATES, JUNIOR': 2, u'MONTGOMERY, SIR BERN': 1, u'SICKLE': 2, u'PELE/MICHI SASAKI': 2, u'GROUNDHOG/SEAN BENAR': 2, u'MARRS(-PAYNE), PHOEB': 1, u'LOPEZ, MARIA': 2, u'MURDOCK, SISTER MAGG': 1, u'MARVEL GIRL DOPPELGA': 1, u'NUMBER ONE FAN/PROF.': 2, u'THOR REPLICOID': 1, u'DEWOLFF, MEREDITH': 2, u'DESAK/DESAK STERIXIA': 2, u'WISDOM, ROMANY': 2, u'SIINGARD': 2, u'NOSFERATA/PURPLE HAY': 2, u'AZAZEL': 2, u'WINDSTORM/': 2, u'ZOOG [KYMELLIAN]': 2, u'DROMEDAN': 2, u'POWER, DR. MAX': 2, u'SEWARD, ANNE': 2, u'NORRISS, JACK': 1, u'STERLING, SID': 2, u'CHIEF EXAMINER': 1, u'PRINCESS ZAFINA': 2, u'QUASIMODO': 1, u'KATZENBERG, NICK': 2, u'AGINAR': 2, u'MURPHY, JOBOA': 2, u'DREADKNIGHT/BRAM VEL': 2, u'BLACK, CAL': 2, u'SHATTERSTAR II/GAVEE': 1, u'SINCLAIR, MORGAN': 2, u'STRANGLEHOLD': 2, u'GLOB/DR. SUMNER BECK': 2, u'MARAUDER': 2, u'KREE IRON MAN [KREE]': 2, u'NUKLO/ROBERT FRANK J': 1, u'MAN-OF-WAR': 2, u'FIREFLY': 2, u'KORVAC, MICHAEL': 1, u'BROTHER TODE': 2, u'MASTER ELO': 2, u'MAGOG': 2, u'ANDERSON, GINA': 2, u'GAZA': 2, u'PIERCE, DONALD': 2, u'FIELDER': 2, u'MELTER II/BRUNO HORG': 2, u'BAZIN, ANDREW': 1, u'BAMBI': 2, u'NORTH, DAKOTA': 2, u'DESTINY II/IRENE ADL': 1, u'CERA, KAY': 1, u'KAUR, BENAZIR': 2, u'SCHOOLCRAFT, DR. DEN': 2, u'SAURON/DR. KARL LYKO': 2, u'ROSEN, WALTER': 1, u'MOUNTJOY': 2, u'JASON II': 2, u'STONE': 2, u'SAVAGE STEEL II/ARTH': 2, u'CYCLOPS DOPPELGANGER': 1, u'BREWER, AMY': 2, u'BALDWIN, JUSTIN': 1, u'GERHARDT, JOSEPH HEI': 2, u'SHINAR': 2, u'ADVENT/KYLE GROBE': 2, u'MONMOUTH': 2, u'PHARAOH RAMA-TUT': 1, u'DR. ZEUS': 2, u'DAWSON, DICTIONARY': 2, u'KETCH, BARBARA': 2, u'WESSEL, HARRY': 2, u'FONTAINE, CINDER': 1, u'MILLENIUS': 1, u'NAGALA': 2, u'PSYCHO-MAN': 2, u'KWAN, TERRY': 1, u'STYGLUT/': 2, u'MIRAGE III/MARGE': 2, u'SATANNISH': 1, u'KINGSIZE': 2, u'SHOCKER/HERMAN SCHUL': 1, u'FIREFALL II': 2, u'MUTANT MASTER': 2, u'BANNER, BETTY ROSS T': 1, u'MENGOCHAUZERAUS, GRI': 2, u'BENTLEY, VICTORIA': 1, u'MOURNING PREY': 3, u'LANDERS, RAY': 2, u'AGUIRRE, ISOBEL': 2, u'THOMAS, JEANIE': 2, u'BARBAROSSA, VINNIE': 2, u'LONGBOW/AMELIA GREER': 2, u'GARVIN, GEARS': 1, u'BROWN, MINDY MCPHERS': 1, u'SUNFIRE/SHIRO YOSHID': 1, u'FONG, LI': 2, u'WHIRLWIND/DAVID CANN': 1, u'DOCTOR MANDIBUS': 2, u'STANE, OBADIAH': 1, u'DIRGE/': 2, u'OMEGA II': 2, u'SUTTON, JOHN': 2, u'PROSPERO, DR./HARPER': 2, u'KIRIN': 2, u'VOLSTAGG': 1, u'UNCLE SAM': 1, u'STARHAWK II/ALETA OG': 2, u'TURMOIL': 2, u'PRINCESS NEPTHYS/SAN': 2, u'FIELDSTONE/': 2, u'MCPHEE, LOUIE': 2, u'M-80/SAYURI KYOTO': 2, u'JOSTEN, LINDY': 1, u'NUWA': 2, u'STARR, TRIXIE TRISH': 1, u'TYRANT': 2, u'CARRERA, MIA': 1, u'SHELL/': 2, u'SCATTERBRAIN': 1, u'MARVEL BOY III/ROBER': 1, u\"X'HOSS\": 2, u'MANTIS (SPACE PHANTO': 1, u'BITMAP/': 1, u'SCHWINNER, DR. ERIC': 2, u'ALPHA': 2, u'RAYMOND, HENRY/ADAM ': 2, u'SIR': 2, u'PARKER, MAY | TIMESL': 1, u'PARKER, MARY': 2, u'POPE': 1, u'POITIER, CLAUDE': 2, u'STILETTO': 2, u'SIF': 1, u'BLOODSCREAM': 2, u'SURGEON GENERAL/ANGE': 2, u'TAR': 2, u'CUDGEL/': 2, u'TAE': 2, u'REAPER': 1, u'YELLOW CLAW/TZING JA': 1, u'JONES, GABE': 1, u'SABINI, JERRY THE WH': 2, u'BIRD, TUESDAY': 2, u'ADAMS, MARTHA': 2, u'SZARDOS, MARGALI': 1, u'GUARDIAN III': 2, u'MANBOT/BERNIE LACHEN': 2, u'RUNNER': 1, u'MADAME ROSE': 2, u'MANDRILL/HENSLEY FAR': 2, u'NEPTUNE [OLYMPIAN]': 1, u'SEERESS': 3, u'REBO': 2, u'UATU': 1, u'TITANIUM MAN/BORIS B': 2, u'JONES, NELL': 1, u'GALVIN, TOMMY': 2, u'STURDY, PROF. KENNET': 1, u'NICHOLS, LORNA': 1, u'MANNING, ERIKA': 2, u'MR. SCRATCH II/BLISS': 1, u'CATHERWOOD': 1, u'VOLGA BELLE/': 2, u'CALIBAN/': 1, u'MALAN Sometimes spel': 2, u'CARLISLE, JENNA': 2, u'BLOCKBUSTER II': 1, u'WESTON, SALLY': 2, u'PO, KIM': 2, u'MICO, RODOLFO': 2, u'WU, SONIA': 2, u'SHAUNEGHANN, MICHAEL': 2, u'OUTRIDER II/MARTIN Z': 2, u'MADAME MASQUE/GIULIE': 1, u'LOR, KONA': 1, u'UR-LINI': 2, u'ZARATHUSTRA': 2, u'FIELDS, TRACI': 2, u'SWARM/FRITZ VON MEYE': 2, u'NUMBER NINE': 1, u'CRIMSON DYNAMO VIII/': 2, u'SABRETOOTH/VICTOR CR': 1, u'CROWE, GERONIMO': 2, u'POWDERKEG/FRANK SKOR': 2, u'MASTER MOLD II': 1, u'WIZ KID/TAKESHI MATS': 2, u'ANTEUS': 2, u'PAYBACK/': 2, u'BARBAROSSA, MARIO': 2, u'FERRO2': 1, u'ROMANOV, MICKEY': 2, u'HULK ROBOT': 1, u'BLOODSTONE/ULYSSES B': 1, u'CLEARWATER, JUDGE MA': 1, u'MARLOPOLIS, EDGAR': 2, u'FOGG/THOMAS FOGG': 2, u'ORPHAN': 2, u'WRANGLER/': 1, u'BUCHOVITZ, STANLEY &': 2, u'ANACONDA/BLANCHE SIT': 1, u'ICEMAN/ROBERT BOBBY ': 1, u'FANTASMA': 1, u'CHEN, DR.': 2, u'HUSK/PAIGE GUTHRIE |': 2, u'TINAC': 2, u'JORRO': 1, u'WATKINS, STEVIE': 2, u'HERA/AUGUSTINE JONES': 1, u'FLEMING, PHILIP': 1, u'MANITOU': 1, u'LENO, JAY': 2, u'ALEGRIA, RICHIE': 2, u'JUDE': 2, u'BEETLE ROBOT': 2, u'SHOTGUN/ZEKE SALLING': 2, u'REXEL TOIVEN': 2, u'BARROWS, WALTER': 2, u'THERMO II/': 2, u'SPOILSPORT/': 2, u'STORM 2013': 2, u'MASON, LOUISE': 1, u'JAKES, JUDSON': 2, u'MATADOR/MANUEL ELOGA': 2, u'GIBBON/MARTIN BLANK': 2, u'DUGAN, TIMOTHY ALOYI': 1, u'MISS MASS/': 1, u\"EMPRESS R'KILL [SKRU\": 2, u'RAINBOW': 2, u'MORAN, KEVIN': 2, u'DULB': 1, u'BUSH, GEORGE': 1, u'FRANKIE THE FISH': 2, u'HOLIDAY, JORDAN': 2, u'LIN, PAULA': 2, u'PIROUETTE/JOBETH': 2, u'THERMITE/': 2, u'GAROKK': 2, u'VIENNEAU, JACQUES': 2, u'FALLON, RIGBY': 2, u'SCARBO': 1, u'ARLISSE': 2, u'SISTER NIL': 2, u'SCARLOTTI, MICHAEL J': 2, u'NAKOTA': 2, u'BLOCKBUSTER/': 1, u'HAUPTMANN ENGLAND': 2, u'LOOPNER, LEXINGTON': 2, u'KRAFT, DONNA': 2, u'GAMBIT DOPPELGANGER ': 2, u'BLACK RAZER': 2, u'BLIZZARD/PROF. GREGO': 2, u'HARDCORE/': 2, u'RELAY': 2, u'CETHLANN': 1, u'ASTRA': 1, u'D.K./DAVID KALEN': 2, u'DANIA': 2, u'CHAIN': 2, u'STEEPLEJACK': 2, u'LUMINOR': 2, u'EDITOR': 2, u'BYRD, NATHANIEL ALEX': 2, u'MAGNETO/MAGNUS/ERIC ': 1, u'DONLEAVY, HANNAH': 2, u'TYN-DARMUTH': 2, u'PSI-BORG/': 2, u'THURM, ETHAN': 2, u'SHARPE, ROSALINDE': 1, u'GALEN KOR, ADMIRAL [': 1, u'POWER MAN III/STEELE': 2, u'OSBORN, LIZ ALLAN': 1, u'TEUTONIC KNIGHT/FRAN': 1, u'DREAM QUEEN': 2, u'KILLRAVEN/JONATHAN R': 2, u'FRENCHIE/JEAN-PAUL D': 2, u'NIGHTFIGHTER/': 2, u'WATSON, KEVIN': 2, u'CARTER, PEGGY': 1, u'CROWLEY, SEN.': 2, u'HARRINGTON, PRINCIPA': 2, u'WIGGINS, TRACY': 2, u'STARSHINE II/BRANDY ': 1, u'AMINEDI': 2, u'DEADHEAD': 2, u'WONDER MAN DOPPELGAN': 1, u'STRONG GUY/GUIDO CAR': 1, u'HUNTER, STEVIE': 2, u'DUNHAM, LAURA': 2, u'MURDER': 2, u'HSU, CHEN': 1, u'BEDLAM II/OLISA KABA': 1, u'DOCTOR DREDD': 2, u'EXODUS/BENNET DUPARI': 2, u'WEBWING': 2, u'CONOVER, HANNAH': 2, u'TRASK, DR. BOLIVAR': 2, u'FIELDS, TODD': 2, u'RATTACK': 2, u'LYNNE, MONICA': 1, u'VINYL, MILO': 2, u'SIBERCAT/': 1, u'DEATHSTROKE/': 1, u'RAHL': 2, u'MASTON-DAR': 2, u'ISAAC': 1, u'SPHINX': 2, u'MEPHISTO': 1, u'MEPHISTA': 2, u'BISHOP /': 1, u'STELLARIS/LEAH PRINC': 1, u'MADMAN/PHIL STERNS': 2, u'GIGANTO': 2, u'HAMILTON, JEROME': 2, u'HITCHUCK, KELLY': 1, u'ZARAN/MAXIMILLIAN ZA': 1, u'GEMINI/JOSHUA LINK': 1, u'RAPIDO': 2, u'SILVER DAGGER/ISAIAH': 2, u'LOKI [ASGARDIAN]': 1, u'TERMINATOR II/PRINCE': 2, u'MAXXAM': 2, u'ROCK/SAMUEL JOHN ROC': 1, u'JONES, ARMAND': 2, u'QUICKSILVER/PIETRO M': 1, u'CUEBALL/': 2, u'BLACK KNIGHT IV/PROF': 1, u'MECHADOOM': 2, u'JETSTREAM/HAROUD IBN': 1, u'DISCUS': 2, u'CALUMET': 2, u'TASHA': 2, u'WHEELER': 2, u'NAUDA': 2, u'RAMON': 2, u'CASS, LARRY MAD DOG': 2, u'LIGHTNING FIST': 2, u'GRIMM, PETUNIA PENNY': 2, u'HODGE, CAMERON': 2, u'CONSUELA': 2, u'CAPTAIN HAWK': 1, u'REPTILLA': 1, u'AMAZON': 2, u'BULLET': 2, u'KLINE, MR.': 1, u'LOBO, LUCKY': 2, u'LATHAM, JORGE': 1, u'SLAMBEAUX': 2, u'STARSHINE/LANDRA': 2, u'OKOYE': 1, u'ANDROMEDA/ANDROMEDA ': 1, u'DRAGONFLY II/MEIKO Y': 2, u'PAYNE, EDWARD': 2, u'DRUID/DREDMUND CROMW': 1, u'BANTAM/': 2, u'AGAMEMNON III/': 1, u'RALSTON, SENATOR ROB': 1, u'SPOT/': 2, u'FOXBAT': 1, u'LEGION II/DAVID HALL': 1, u'KOJIRO': 2, u'RASSITANO, MAD DOG': 1, u'VON STRUCKER, WERNER': 2, u'DAHN, FARNOQ': 2, u'FROST, DEACON': 2, u'RINGTOSS': 1, u'KID REAPER': 1, u'BALABAN/': 2, u'ZORN': 2, u'SHERMAN, GEN.': 2, u'GATZ, WILLIAM BILLY': 2, u'BIG CASINO/': 2, u'LURKING UNKNOWN': 2, u'DIPALMA, JOHNNY': 2, u'ROGERS, CAPT. STEVEN': 1, u'ROSE III/': 2, u'BANK, IRVING': 2, u'DEATHLOK IV': 2, u'HESSLER, WOLFGANG': 2, u'FERRIS': 2, u'BLACKOUT II/': 2, u'BEYNON, DR. BRADLEY': 2, u'REBEL/': 1, u'HURRICANE III': 2, u'PIRANHA II/': 2, u'WYNDHAM, LUCAS': 2, u'WALKER': 2, u'JILL': 2, u'IRON MAN ARMOR': 2, u'WIZARD/BENTLEY WITTM': 1, u'JOYBOY': 1, u'RAKIM, SEN. KAMAL': 1, u'LEE, LITTLE LARRY': 2, u'NAMORITA/NITA PRENTI': 1, u'CRYSTAL [INHUMAN]': 1, u'SOUSA, PAUL': 2, u'CALDRONE, JAVIER': 1, u'BAV-TEK': 2, u'THAIS': 2, u'HAMID, SHEIK': 2, u'ROSE, MICHKA': 2, u'UNUSCIONE': 2, u'WARFIST': 2, u'ROSSIN, DR.': 2, u'CANDLEMAS/': 2, u'OPSIDIAN/': 2, u'FORGE | EARTH 998': 2, u'SHAMAN III': 2, u'ISHIHARA, ZOE': 2, u'AUTOLYCUS': 2, u'PRINCE REY': 1, u'VRIES, KALI': 1, u'HARVEY, SUE': 1, u'STEWART, MARY': 2, u'PAST MASTER/PROFESSO': 2, u'SUMMERS, SCOTT III |': 2, u'LA BANDERA': 2, u'ANDERSON, CHARLES': 2, u'TURK': 1, u'MANNING, DR.': 1, u'HENDERSON, CAROL': 2, u'SIKORSKY, RAYMOND': 1, u'BURNING PUDDLE': 2, u'ZEY-ROGG': 2, u'SHUMA-GORATH': 2, u'MALACHI': 1, u'FIRELORD/PYREUS KRIL': 1, u'VACUUM': 2, u'FIREBRAND III/RICHAR': 2, u'HIDALGO, DETECTIVE J': 2, u'ANGEL IV': 1, u'LACE/': 2, u'JACKAL/MILES WARREN': 2, u'HUMAN TOP/DAVEY MITC': 1, u'COLOSSUS II/PETER RA': 1, u'KILMER': 2, u\"MAM'SELLE HEPZIBAH\": 1, u'ANTRO': 2, u'SAVAGE STEEL/HARRY L': 2, u'CHANCE': 2, u'VIZIER': 1, u'BI-BEAST II': 2, u'CATSEYE/SHARON SMITH': 2, u'KATOS': 2, u'STRACU': 2, u'ORIGIN/PHYLLIS TWOMB': 2, u'MANIKIN/DR. WHITMAN ': 1, u'LUCAS': 2, u'BLASTAAR': 1, u'ROBERTSON, AMANDA': 2, u'CYCLOPS 2013': 2, u'BUTTERFLY': 2, u'CONTROLLER/BASIL SAN': 1, u'VOLLA': 1, u'ARCHER/JUDE BLACK': 2, u'MADISON, TAYLOR': 1, u'STONECOLD/': 2, u'GOBLYN': 1, u'CHASIN, MAJOR': 2, u'PINTA': 3, u'BLACK BRIGADE': 1, u'TRUMP/': 1, u'VERMIN/EDWARD WHELAN': 1, u'HUDSON, JAMES | MUTA': 2, u'SEVILLE, STACY': 2, u'PIXIE II/': 2, u'DIAMONDBACK': 2, u'WARHAWK II': 2, u'BLACK PANTHER | MUTA': 2, u'STRONTIUM-90/': 2, u'EFFIGY/LT. VELMAX/JA': 2, u'TILDA': 2, u'JACKSON, STEVE': 1, u'ZCANN': 1, u'ZABO': 2, u'SMASHER': 2, u'YEAGER, CALLIE': 2, u'ANANASTASIA/ANNA': 2, u'GEORGE, DAVID LLOYD': 1, u'PARADOX II': 2, u'VERSCHLAGEN, FRAU': 2, u'ZABU': 1, u'STRUNK, BELLA': 3, u'HANCOCK, CALISTA': 1, u'RAZOR WIRE/': 2, u'SERSI | MUTANT X-VER': 2, u'MARTINELLI, VINCENT ': 1, u'ULTIMATOR/': 1, u'SPRINGER, JERRY': 2, u'THUMPER': 2, u'BLACKBIRD/': 1, u'MR. FEAR/ZOLTAN DRAG': 2, u'RAMOS, ROGER': 1, u'M-PLATE': 2, u'MACON, ANGELO': 2, u'PONG, WU': 1, u'AURORA DOPPELGANGER': 1, u'BAXTER, ABIGAIL': 2, u'FUJIKAWA, KENJIRO': 2, u'TARAKIS': 2, u'BEACH, GINGER': 1, u'OUTRIDER/OCLIN UWIR ': 2, u'THRENODY': 2, u'STARSHINE III/ANARRA': 2, u'REVELATION II/': 2, u'FISHER, PROF. FRANCE': 2, u'CHEEVER, JOHN': 2, u'WOLFE, MR.': 1, u'ARMAROS': 2, u'BENEDICT': 1, u'SPIKEY': 2, u'SCARLET BEETLE': 2, u'CRIME-BUSTER/': 2, u'PENTIGAAR': 2, u'GOMURR': 2, u'SHOOTER, JIM': 2, u'WHITE RABBIT': 2, u'NINGAL': 2, u'FOREIGNER/RAFAEL BAS': 1, u'BEAST/HENRY &HANK& P': 1, u'PUPPET MASTER/PHILLI': 1, u'KANDRA': 2, u'SIMON, ALEX FLORES': 1, u'DEVIL-SLAYER/ERIC SI': 1, 'CAPTAIN AMERICA': 0, u'STORM/ORORO MUNROE S': 1, u'MEDUSA/MEDUSALITH AM': 1, u'REQUIEM/': 2, u'DELAZNY, CHARLES L.': 2, u'YORK, SANDY': 2, u'CAPTAIN BARRACUDA': 2, u'HOSEK, BULL': 2, u'DILLON, JONATHAN': 2, u'CONNORS, MARTHA': 1, u'KATH': 2, u'NEBULO': 2, u'MINDWORM/WILLIAM TUR': 2, u'NEBULA': 1, u'GROVEL': 2, u'OSHIMA': 2, u'THOR/DR. DONALD BLAK': 1, u'KARMA 2013': 2, u'JUNIPER, JONATHAN JU': 2, u'HOBGOBLIN V/JASON PH': 1, u'FRIDAY': 2, u'GRYPHON/COMMANDER EK': 2, u'DESTRUCTOR/PROFESSOR': 1, u'YUAN, ANNIE': 2, u'JUGGERNAUT | MUTANT ': 2, u\"RA'AL\": 2, u'PLUTONIUM': 2, u'UROC': 1, u'RAMAN': 1, u'KASTYX': 2, u'ICEMAN DOPPELGANGER': 1, u'SYNAPSE/': 2, u'BLOODLUST': 1, u'WEAVER, ZEKE': 2, u'KEEPER OF THE COMICS': 2, u'ANTIBODY': 2, u'SHALAK': 1, u'FIREBALLS/JACK FARLE': 2, u'CLAYBORNE, REGINA': 2, u'ELEKTRA/ELEKTRA NATC': 1, u'BLACK MORAY': 2, u'WHIRLWIND II/DAVID C': 2, u'RED SKULL II/ALBERT ': 1, u'DANVERS, JOE': 2, u'VEGA-SUPERIOR': 2, u'BRANDEIS, PROF. HENR': 2, u'COLOSSUS': 1, u'SCRATCH, NICHOLAS': 1, u'COLE, WADE': 2, u'HEAT-RAY/': 2, u'FIRESTRIKE/DALTON BE': 2, u'TYRAK': 1, u'MORRISON, JESSICA': 2, u'JANSON, DR. ANDREA': 2, u'SATHAN': 2, u'THANOS': 1, u'SHANG-CHI': 1, u'SPIDER-MAN III/MARTH': 1, u'MCHELE, JEREMY': 2, u'DR. PHOBOS': 1, u'HIBBERT, HOPE': 1, u'GUARDIAN V/JAMES MAC': 2, u'STYRAK': 2, u'WOLMAN, GIDEON': 2, u'INVISIBLE WOMAN DOPP': 1, u'REPTYL': 1, u'THUG': 1, u'STINGRAY | MUTANT X-': 2, u'ROSE II/SGT. BLUME': 2, u'DAKESIAN, NANCI': 1, u'TAKAHAMA, ROBERT': 2, u'CREED': 2, u'EELAK': 2, u'LIBERATOR/PRINCE TRI': 2, u'ERWIN, MORLEY': 1, u'LAVENDER, MAXINE': 2, u'STAR THIEF III/DITMI': 2, u'GAMESMASTER/JEREMY': 2, u'TRICKSTER': 2, u'BURST/': 2, u'DARK ONE': 2, u'SLUK': 2, u'SHIFFMAN, MAXIE': 2, u'SHERIDAN, FLORENCE': 2, u'COBALT MAN': 2, u'BONITA': 2, u'TAI': 2, u'SLUJ': 2, u'BATTLESTAR/LEMAR HOS': 1, u'MECHAMAGE/': 1, u'KNOCKOUT': 1, u'NORRISS, SISTER BARB': 1, u'IVORY/': 2, u'SENTRY 571': 2, u'GAARK': 2, u'QUESTA': 2, u'ALISTRO': 2, u'SILVER FOX/BAYAN': 2, u'JINX': 2, u'FOOLKILLER/ROSS EVER': 2, u'GRIFFIN II/JOHNNY HO': 1, u'ZEMO/BARON HEINRICH ': 1, u'ROOSEVELT, FRANKLIN ': 1, u'WHIZZER II/STANLEY S': 1, u'TRUTH': 2, u'BUNYAN, PAUL': 1, u'WITCHFIRE': 1, u'SATELLITE': 2, u'WILKS, SHANTAL': 2, u'WILD CHILD DOPPELGAN': 1, u'MADAME MENACE/SUNSET': 2, u'RAKESH': 2, u'ANSWER': 2, u'LIBRA/GUSTAV BRANDT': 1, u'FANTASIA': 1, u'SISTER SALVATION': 2, u'BARBARUS': 2, u'WONG CHU': 2, u'MAVERICK/CHRISTOPHER': 2, u'HARPY II': 2, u'PROFESSOR X DOPPELGA': 1, u'BLOODY MARY': 2, u'BLAIRE, CARTER': 1, u'ONSLAUGHT': 2, u'TAREE': 2, u'WRECKER/DR. KARL KOR': 2, u'JEMIAH': 2, u'ANGEL II/THOMAS HALL': 2, u'DR. SPECTRUM/JOSEPH ': 1, u'HYENA/HENRY MORTONSO': 1, u'HATE-MONGER V': 1, u'HERCULES [GREEK GOD]': 1, u'JUPITER': 2, u'DEVEREAUX, IRIS': 2, u'MONTOYA, MARIA': 2, u'TERMINATOR': 2, u'EVERETT, BILL': 1, u'EILIF DRAGONSLAYER': 2, u'MONDO II': 2, u'BOX IV/MADISON JEFFR': 1, u'YANDROTH': 1, u'HAWKEYE DOPPELGANGER': 1, u'DEATH STING/MIRANDA ': 2, u'MOOT': 2, u'SWITZLER, BEVERLY': 2, u'CLAREMONT, CHRIS': 1, u'RAYMOND, ANN': 1, u'RABIN, GRETTA': 2, u'BRAIN DRAIN/WERNER S': 1, u'HOLDEN, DR. SAMUEL': 2, u'MASTER MONARCH/': 2, u'X-RAY II/': 2, u'NEPTUNIUM': 2, u'SHALLA BAL II': 2, u'MAKKARI/MIKE KHARY/I': 1, u'KITAGOWA, DR. KITTY': 1, u'MUNROE, DAVID': 2, u'TUPA': 2, u'CASSADA, ROBERTO': 1, u'ALANYA': 1, u'IMPOSSIBLE MAN': 1, u'DANVILLE, SEN. OWEN': 2, u'REESE, MURRAY': 2, u'DE LA SPIROSA, COUNT': 2, u'HAGER, GENERAL': 1, u'RAMROD II': 2, u'NAMELESS ONE II': 2, u'AGEE, REBECCA': 2, u'PATCHWORK/KYLE BARKE': 2, u'GLOUCESTER': 2, u'AGEE, DR. AUBREY': 2, u\"DEATH'S HEAD\": 2, u'FOUNDRY': 2, u'MYSTERIO/QUENTIN BEC': 1, u'GREY GARGOYLE/PAUL P': 1, u'MADDEN, CHET': 1, u'DORREK II': 2, u'CUSSLER, PHILLIP': 2, u'WENDIGO IV/MICHAEL F': 2, u'STRIKER, SAM': 2, u'WEIN, GLYNIS': 2, u'GROWING MAN': 1, u'WARR': 3, u'FLAME II': 2, u'FIXER II/PAUL NORBER': 1, u'RIGHT': 2, u'MASTERBLASTER/': 2, u'MOLE MAN/HARVEY RUPE': 1, u'MADDICKS, ARTHUR ART': 1, u'HARDBALL': 2, u'MONGU': 2, u'STONE, MARGARET': 2, u\"EMPRESS S'BYLL [SKRU\": 1, u'HYPERTRON II/STURDEV': 2, u'LANCER/SAMANTHA DUNB': 1, u'DUCHARME': 2, u'CARDINALE, CARLOS': 2, u'BECKMAN, CHARLES': 2, u'BUSHWACKER/CARL': 2, u'ARIES/MARCUS LASSITE': 1, u'QUIET BILL': 2, u'MINISTER TOME': 2, u'MAGIC': 1, u'TRUTH II': 2, u'STUART, DR. ALISTAIR': 1, u'SCARLET WITCH/WANDA ': 1, u'DISTORTER': 2, u'BROWN, ABE': 2, u'JINKU': 1, u'DICE/ROB FORTUNE': 1, u'CHONDU': 2, u\"SUPER SKRULL/KL'RT\": 1, u'SCORPIA': 2, u'BAILEY, SARA GREY': 2, u'MARVEL WOMAN | MUTAN': 2, u\"Q'WAKE/QUAKE\": 2, u'SHAARA, SANJIT': 2, u'GEIRRODUR': 2, u'SMALLWOOD, DAN': 2, u'FREAK QUINCY': 2, u'SCINTILLA': 2, u'PRYDE, CARMEN': 2, u'AENTAROS': 2, u'LEO/DANIEL RADFORD': 1, u'SLUG/ULYSSES X. LUGM': 1, u'VON VOLTZMANN, FRITZ': 2, u'BARKER': 2, u'MURDOCK, BATTLING JA': 2, u'MERREE': 3, u'PLASMA WRAITH': 2, u'ULTIMUS': 1, u'CITYDWELLER/JERRY | ': 2, u'HOFFMAN, ALICE': 2, u'KRAVEN THE HUNTER/SE': 1, u'UNIT': 2, u'KELLEHER, MARY': 2, u'BARTON, SEN.': 1, u'DE LA FONTAINE, CONT': 1, u'STALIN, JOSEF': 1, u'HOOPSNAKE/': 2, u'CHADWICK, CHEER': 1, u'CRIME-MASTER/NICK LU': 2, u'TIGER WYLDE': 2, u'VINDIKTOR/': 2, u'STRONG GUY | MUTANT ': 2, u'BUCHANAN, SAM': 2, u'GUILOTINE': 2, u'SANTA CLAUS/NICK ST.': 2, u'NULLITRON': 2, u'SMITH, DAPHNE': 2, u'CORNELIUS, DR.': 2, u'MERRIAN': 2, u'MCCORMICK, BARRY': 2, u'SANADA, KONO': 1, u'BLACK KNIGHT V DOPPE': 1, u'COLDHEART': 2, u'ANOMALY III': 2, u'ALFY': 2, u'PERUN': 1, u'SUWAN': 1, u'MENKEN, DONALD L.': 2, u'STRANGER': 1, u'FLORES, JAMIE': 1, u'ACROBAT/CARL ZANTE': 1, u'ARMAND': 2, u'DUVALL, SNAKY': 2, u'WRECKER III/DIRK GAR': 1, u'BILE/': 1, u'KRAGG': 2, u'PARALYZER': 1, u'PALADIN/PAUL DENNIS': 1, u'RUSSELL, LISSA': 2, u'WILDPRIDE/KYLLIAN': 2, u'MADAME SLAY': 2, u'BAYMAX': 2, u'FALCONA [INHUMAN]': 2, u'JOYSTICK/JANICE': 2, u'BEETLE/ABNER RONALD ': 1, u'IRONWOOD, CISSY': 2, u'MASON, JOHN': 1, u'GIDEON, CLAIRE': 2, u'LIFELINE/DEACON': 2, u\"FU'SE\": 2, u'ANTHROMORPHO': 1, u'ARKANIAN, GLIB': 2, u'WATSON, KRISTY': 1, u'KINCAID, JIMMY': 2, u'NOVA III/FRANKIE RAY': 2, u'DAKIMH THE ENCHANTER': 1, u'FONTREAUX, GUY': 2, u'WAGNER, ERNIE WHACK ': 2, u'STARK, ISAAC': 2, u'HOBGOBLIN II/RODERIC': 2, u'GILBERT, ROXANNE': 2, u'WISDOM, HAROLD': 2, u'SCRIER JR.': 2, u'MASTERMIND III': 1, u'ESON [CELESTIAL]': 1, u'ARCANNA/ARCANNA JONE': 1, u'MAHKIZMO': 2, u'BRADDOCK, JAMES': 2, u'HELKOOKY': 2, u'SKETCH/': 2, u'SHIRE, DR. RANDALL': 2, u'MCBRIDE, BEATRICE': 2, u'GENII/JASON KIMBALL': 2, u'RECKLESS ERIC/': 2, u'BENTON, TERRY': 2, u'ANCIENT ONE': 1, u'DEMON BEAR': 2, u'AWESOME ANDROID': 2, u'DELGADO, LUZ': 2, u'SCAR THE STALKER/BRI': 2, u'YOUNG, MR.': 2, u'MOLTEN MAN/MARK RAXT': 2, u'SPIDER-MAN/PETER PAR': 1, u'TETHRA': 1, u'PARTRIDGE, STEVE': 2, u'JONES, MAGGIE': 2, u'DARK CRAWLER': 1, u'BOOBYTRAP/': 2, u'MOON WOLF/': 2, u'YOUNG, LOUISE': 2, u'EGO-PRIME': 2, u'HYPERION': 1, u'TICKTOCK': 1, u'PARRISH, MAX': 2, u'FLARE/': 2, u'YAMIR, SASHA': 2, u'SHADOWKNIGHT/RANDALL': 2, u'SANTOS, MARIO': 2, u'KLAW/ULYSSES KLAW': 1, u'NOMAD II/EDWARD FERB': 1, u'NAILS/': 2, u'AUSTIN, TERRY': 2, u'WEI, LINDA': 2, u'WARLOCK III': 1, u'TARANTULA/ANTON MIGU': 1, u'MCKENZIE, SCARLETT': 2, u'MORLAK, MARIS': 1, u'IRON MAIDEN/': 1, u'BENNY, JAKE': 2, u'POWELL, JONATHAN': 1, u'OLD SKULL': 2, u'EVERY-MAN': 1, u'CASIOLENA, QUEEN': 2, u'MAD DOG/COLONEL BUZZ': 1, u'COLLECTIVE MAN': 1, u'DYNA-MITE/ROGER AUBR': 1, u'MASTERMIND V': 2, u'KREIGER, SIMON': 2, u'JELLA, PRIVATE': 2, u'STANDISH, GEN.': 2, u'PHIM, FATHER': 2, u'CURSED LOTUS': 2, u'BAYLOR, FRANK': 2, u'REDEEMER/CRAIG SAUND': 1, u'LOCUST': 2, u'WOLFSBANE/RAHNE SINC': 1, u'MASKED MARAUDER/FRAN': 2, u'KAMINARI': 2, u'KUROKO/': 1, u'LOCKJAW [INHUMAN]': 1, u'IZZIFIZZ': 2, u'CHORD, ANDREW': 1, u'JADE DRAGON/DEI GUAN': 2, u'MARTINEZ, MR.': 2, u'MOON KNIGHT DOPPELGA': 1, u'REDJEK/': 2, u'GARGOYLE/IGOR DRENKO': 2, u'JOHNSMEYER, JAMES': 2, u'HANGMAN': 2, u'LIPTON, LAURA': 2, u'TATTERDEMALION/': 1, u'SPYNE': 2, u'DEATHSHIELD/': 2, u'CONTONI, PAUL': 2, u'STILT-MAN/WILBUR DAY': 1, u'SLITHER': 1, u'BUMPKIN': 2, u'SEMIJAN': 2, u'REANIMATOR/': 2, u'LAYLA': 2, u'HUNTER, LANCE': 1, u'CARLISLE, PHILLIP': 2, u'DUBOIS, HERVE': 2, u'FIRESTAR/ANGELICA JO': 1, u'AJAX II': 2, u'SARACEN': 2, u'FEVER PITCH/': 2, u'GRUNCH, ALESTAIRE FI': 2, u'VOGHT, AMELIA': 1, u'GREY, JEAN | MUTANT ': 2, u'KLEB, ROSA': 2, u'CARTER, TAD': 2, u'CROSS, STANLEY': 2, u'ANUBAR, ANWAR': 2, u\"JACK O'LANTERN II/MA\": 1, u'JURIAS': 2, u'RODGERS, MARIANNE': 1, u'MAUVIUS': 2, u'MR. FANTASTIC DOPPEL': 1, u'CARNIVORE/COUNT ANDR': 1, u'STONE, JOHN': 2, u'DEATHLOK II/COL. JOH': 2, u\"KILLMONGER, ERIC/N'J\": 2, u'SEWARD, DR. CHARLES': 2, u'WOLF SPIRIT/OWAYODAT': 1, u'RENO, AGENT': 2, u'NIGHT PHANTOM/TRAVIS': 2, u'STRUCKER, ANDREA': 1, u'PAYGE, REEVA': 2, u'SHORT CIRCUIT/HENRY ': 2, u'DOLLAR BILL': 1, u'PSIMON': 2, u'SKYHAWK/WINSTON BILL': 2, u'CARBON': 1, u'NEKRA/ADRIENNE HATRO': 1, u'BRANDEIS, LIZ PARRIS': 2, u'SMITH, MANDY': 2, u'X-CUTIONER/CARL DENT': 2, u'CORTES, MARIA PILAR': 2, u'REYNOLDS, KATHERINE': 2, u'APOCRYPHUS': 1, u'GARM': 2, u'TSERRON': 2, u'PRIMAX/JAROMEL': 1, u'WAXWORK': 1, u'BLACK MAMBA/TANYA SE': 1, u'FRANKENSURFER/BORGO': 2, u'CYCLOPS/SCOTT SUMMER': 1, u'KARKAS | MUTANT X-VE': 2, u'DIAMONDE, YVETTE': 2, u'METEORITE': 1, u'DELAZNY, DORIAN': 2, u'MACTAGGERT, MOIRA KI': 1, u'KHADIJAH': 2, u'TUATARA/COMMANDER AR': 2, u'SISTER DREAM': 1, u'HALL, MORGAN': 2, u'RYAN, THOMAS': 1, u'RADIOACTIVE MAN II/D': 2, u'MERENGUES, SMOOTH MA': 2, u'MCMURRAY, YVONNE': 2, u'SPARK': 1, u'GHOST': 1, u'LILANDRA NERAMANI [S': 1, u'GOSAMYR': 2, u'ROSS, GEN. THADDEUS ': 1, u'MANGLER/': 1, u'KRAUS, DR. FREIDERIC': 1, u'WATCHLORD/': 2, u'ANIMATOR/DR. FREDRIC': 2, u'TYCHO': 1, u'ASTRA II': 2, u'MCSHANE, PATRICK': 2, u'ARIES III/': 2, u'ERISHKIGEL II/HOLLY ': 1, u'LOPEZ, ANGELA': 2, u'WALKABOUT': 2, u'MASTER MAN II/ALEXAN': 1, u'\\ufffdGAMBLE, GRACIE': 2, u'JACOBS, GLENDA': 2, u'ROYTON, RAYMOND': 2, u\"N'DELE\": 1, u'TALISMAN III/NAHITA': 2, u'CHIANG, PROF.': 2, u'JOCASTA': 1, u'RAMIREZ, MARTA': 1, u'DORCAS, LEMUEL DR.': 2, u'RANSOME, DR. SUSAN': 2, u'KOMODO': 2, u'BUSHKIN, BARNEY': 2, u'FORD': 2, u'KLEINSTOCK, HARLAN': 2, u'AZAZEL II': 2, u\"GRENDEL'S MOTHER\": 2, u'DEVINE, ANTON': 2, u'CRIMSON COMMANDO/FRA': 2, u'NAKKA': 1, u'ZOTA': 2, u'ELITE/': 2, u'RILEY, MARIEL': 2, u'RAMONDA': 1, u'CANNONBALL/SAM GUTHR': 2, u'AI-CHIA': 2, u'IKONN': 2, u'HULK/DR. ROBERT BRUC': 1, u'MARLEY, MITCH MADMAN': 2, u'CYPRESS/': 2, u'MICAWBER, TRISTRAM': 1, u'BIRDY': 2, u'INDIUM': 1, u'BRAHAMS': 2, u'BUTCH': 1, u'SUNTURION II/MIKE ST': 2, u'SPUNJE': 1, u'TAYLOR, JENNA': 2, u'MACINTOSH, ANN': 2, u'SCHUYLER, DR. REBECC': 2, u'GANGER, CARMEN': 2, u'SLAUGHTER II/CONSTAN': 2, u'MCLAREN, MEGAN': 1, u'KELLY, KAREN': 2, u'HEADGEAR/': 1, u'MYSTERIUM/DR. JOSEPH': 2, u\"P'KRRD, CAPTAIN\": 2, u'LUMLEY, JUDY': 2, u'MCCAMBRIDGE, MEGAN': 2, u'POWER MAN/ERIK JOSTE': 1, u'COLE, LYNETTE': 2, u'HULK DOPPELGANGER II': 1, u'PLAGUE': 2, u'NUGENT, ALICE': 1, u'DARE, KATHLEEN': 1, u'KILLBURN, MACK': 2, u'TASKMASTER': 1, u'RESTON, CLIVE': 2, u'CAPRICORN/WILLARD WE': 1, u'LESTRADE, DR.': 2, u'SAWYER, GENERAL SAMU': 1, u'SNARE': 2, u'ROUGHHOUSE': 2, u'DRAGONA': 2, u'VALERIA': 2, u'GENUARDI, MR.': 1, u'UNICORN II/': 2, u\"LILITH/ANGEL O'HARA/\": 2, u'PERSUASION/KARA KILL': 1, u'KATYUSHA/': 2, u'HANGMAN II/JASON ROL': 2, u'CIRE, EZRA': 2, u'FONTANELLE/GLORIA DA': 2, u'SIEGEL, DR. AVRAM': 2, u'ANELLE': 1, u'TITANIA II/MARY SKEE': 1, u'LIVING TRIBUNAL': 1, u'TERMINUS': 1, u'CRIMSON DAFFODIL': 2, u'ELECTRO/MAX DILLON': 1, u'MOREAU, PHILLIP': 1, u'KARGUL': 2, u'PYRE': 2, u'CARRION III/DR. WILL': 2, u'AREX': 2, u'PROTOCIDE/PRIVATE CL': 1, u'PLASMA/': 2, u'POISON/CECILIA CARDI': 2, u'VENOMM': 2, u'BLOOD-TIDE': 3, u'BRANDEIS, CAMMY': 2, u'MAGNESIUM': 2, u'ROBERTS, CHESS': 2, u'MIDGARD SERPENT': 1, u'GROTTU': 2, u'THREADGOLD': 2, u'SHADES': 2, u'VAZHIN, ALEXEI MIKHA': 2, u'SANDERS, DET. NAPOLE': 2, u'BERNIE': 2, u'RIESER, ROB': 2, u'LIPTON, MILES': 2, u'ZELIG, LON': 2, u'BINARY/CAROL DANVERS': 1, u'CLEOPATRA': 2, u'XELOCKS [TRIONIAN]': 2, u'GRIMM, SUE STORM EAR': 2, u'ARMADA': 2, u'KNOBLACH, GERTRUDE H': 2, u'WENDIGO VI/LARRY': 2, u'SERSI/SYLVIA': 1, u'BILLUPS, AGENT': 1, u'MCNAIR, TAD': 2, u'HILDY [ASGARDIAN]': 1, u'CENTURY, TURNER D.': 1, u'ULYSSES II': 1, u'SENREICH, GUNTHER': 2, u'BENEDICT, ANDREW': 2, u'KINCAID, DR. KEITH': 1, u'SLEEK': 2, u'DEZOAN, JOHN': 2, u'ORINI': 2, u'POWERHOUSE/RIEG DAVA': 2, u'SCRIER': 2, u'HAMMER, JUSTIN': 1, u'DEVASTATOR/KIROV PET': 2, u'TRAPPER/VOLA': 2, u'NORTHSTAR/JEAN-PAUL ': 1, u'PARKS, JUDITH': 2, u'GREYSTONE/BRIAN YOUN': 2, u'SCOTT, PARIS': 2, u'LEWIS, SHIRLEY WASHI': 1, u'FROST, CARMILLA': 2, u'RANSOME, JENNIFER AM': 1, u'FROSTBITE/DR. SLOANE': 2, u'ARNSTROM': 2, u'GANNON, RICH': 2, u'DRAGO, VALERIE': 2, u'COLOSSUS II | MUTANT': 2, u'PETERS, NIGEL': 2, u'IRONCLAD': 1, u'DOMO': 2, u'TAYLOR, LEILA': 1, u'CAESAR, JONATHAN': 2, u'SELENE': 1, u'RASPUTIN': 2, u'DOLMAN': 2, u'XANDU': 2, u'MACLAIN, DR. MYRON': 1, u'PLUNDERER/LORD EDGAR': 2, u'DABUTA, NIGEL': 2, u'ANAK': 2, u'BOAK': 2, u'WAYFINDER': 2, u'HARR, DR.': 2, u'WILFORD, ETHAN': 1, u'KURSE/ALGRIM [ASGARD': 1, u'JAILBAIT/JESS': 2, u'MANH, COY TRANH': 2, u'3-D MAN/CHARLES CHAN': 1, u'LOVE': 1, u'JARDINE': 2, u'PUPPY': 1, u'WOLVERINE 2013': 2, u'DR. SPECTRUM III/REV': 1, u'DESTINY/PAUL DESTINE': 2, u'MENDOSA, EMILIO': 2, u'JOVAN': 2, u'MAGUIRE': 2, u'MASTER ORDER': 1, u'ARTEMIS': 1, u'BLINK/FERGUSON, CLAR': 2, u'CRUCIBLE/BYRON CALLE': 1, u'SPEEDFREEK/SHAPPE': 2, u'KUKULCAN/VIRAKO/QUET': 2, u'JERICHO, JUSTINA': 2, u'TORG': 1, u'DAVIS, ABBY': 2, u'URICH, BEN': 1, u'OBLIVION': 1, u'EL TORO ROJO': 2, u'PUCK DOPPELGANGER II': 1, u'KALIKYA [INHUMAN]': 2, u'MAGNIR': 2, u'VICTORIUS/PROF. VICT': 2, u'COLLINS, DEMITRIUS': 1, u'FILLMORE, SHERIFF DO': 2, u'WARGOD/MORA HAGER': 1, u'KID COLT': 1, u'PATTON, JESS': 2, u'BYRNES, TIM': 2, u'MURMUR/': 2, u'OSBORN, HARRY': 1, u'MARKO, KURT': 2, u'YUKIO': 2, u'BREWER, DR. MELINDA': 2, u'MR. FEAR IV/ALAN FAG': 2, u'PYLLAR': 2, u'HAVOK | MUTANT X-VER': 2, u'BARON BLOOD/JOHN FAL': 1, u'GORILLA-MAN': 1, u'REYNOLDS, LINDY': 1, u'ERWIN, CLYTEMNESTRA': 2, u'TIMESHADOW': 2, u'CARTER, JIMMY': 1, u'LANDSCAPE/BRETT': 2, u'PUFF ADDER': 1, u'BULLSEYE II/BENJAMIN': 1, u'SHARYD/CONAL': 2, u'DON, GAI NO': 2, u'TAROOK': 2, u'RECORDER II': 1, u'KONO': 2, u'CARR, DAN': 2, u'CYLLA II': 2, u'MS. FORTUNE/': 2, u'BUZZARD': 2, u'FOGELSTROM, HIRAM': 2, u'CY-PHYRR 4': 2, u'SPINNERET': 2, u'WENDIGO III/FRANCOIS': 2, u'GUTHRIE, JOELLE': 2, u'PYRAKH, COMMANDER': 2, u'KATHAR': 2, u'WOLFSBANE 2013': 2, u'BARON BLOOD II/VICTO': 2, u'PEREZ, DET. CECILIA': 2, u'PAGAN': 1, u'DECAY II/YOSHIRO HAC': 1, u'WOLVERINE/LOGAN ': 1, u'BOUNCER': 2, u'AGAMEMNON II/ANDREI ': 2, u'SUICIDE/CHRIS DANIEL': 2, u'BRUTUS': 1, u'MAJESTON ZELIA': 2, u'DR. DOOM/VICTOR VON ': 1, u'MELTER/BRUNO HORGAN': 1, u'HOWLER II/ZED': 2, u'SVAROG': 1, u'RAZORFIST II': 2, u'FORRESTER, CAPT. ALE': 2, u\"TATSU'O\": 2, u'FONDOZZI, MICKEY': 2, u'STACY, CAPT. GEORGE': 2, u'POWERSURGE/ILLARION ': 1, u'IRON MAN DOPPELGANGE': 1, u'RED GUARDIAN V': 1, u'NEREEL': 2, u'APE MAN/GORDON MONK ': 1, u'PIERCE, ALEXANDER GO': 1, u'WEAPON X III': 2, u'LIVING ERASER': 2, u'CHAKARA, MADAN': 1, u'ORIKAL': 2, u'SCANNER II/RHANLA': 2, u'CHEETAH': 1, u'STARK, MORGAN': 1, u'COMBAT/': 2, u'SHINCHUKO, LOTUS': 2, u'MODULAR MAN/STEPHEN ': 2, u'DOORMAN': 1, u'FROST, CORDELIA': 2, u'RATTLER': 1, u'WILD ONE': 2, u\"SHYM'R\": 2, u'REINMAN, PAULA': 2, u'PHANTOM EAGLE': 2, u'HAIRBAG/SUGGS': 2, u'KALE, NAOMI': 2, u'JEFFRIES, DR.': 2, u'MORDRED THE EVIL': 1, u'STEVENS, MILO': 2, u'GRANDE DAME': 2, u'DEMOGOBLIN': 2, u'LANDSLIDE II/LEE BRO': 2, u'SENSO': 2, u'MICROCHIP/LINUS LIEB': 1, u'MOONRAKER/SLADE TRUM': 2, u'MIKHLO': 1, u'SHATTERAX': 1, u'CLARITY/': 2, u'MIRAGE': 1, u'ANDREWS, DARYL TROOP': 2, u'MICHELLE': 2, u'CHANDRA, DR.': 2, u'EDDA': 2, u'MEDEA': 2, u'DRAGONFLY/VERONICA D': 1, u'JONES, JOHN': 2, u'LORD LEADER': 2, u\"D'SPAYRE\": 2, u'MERCY': 2, u'SPLICE II/': 2, u'HAZARD/CARTER RYKING': 2, u'DHEREK': 2, u\"O'BRIEN, MICHAEL\": 1, u'CONWAY, GERRY': 2, u'WATSON, PHILIP': 2, u\"LYTH'KA, COMMANDER\": 2, u'LOOTER/NORTON G. FES': 2, u'TAIFU/TOSHIO SASAKI': 1, u'ELEJEA': 2, u'PROFESSOR GIBBON/': 2, u'SEETAH': 2, u'STROUGHTON, WILLIAM': 2, u'ZALADANE': 2, u'ICEMASTER/': 2, u'DEMEITYR': 2, u'MAJOR MAPLELEAF/LOUI': 2, u'GARGOUILLE/': 2, u'GRAY, SGT.': 2, u'ARKO': 2, u'WHITE KING': 2, u'FUGUE': 2, u'WYNTER': 2, u'IRON MAN III/EDDIE M': 2, u'BARNETT, MIKE': 2, u'SHRILL/': 2, u'MEATMARKET': 2, u'BIG BERTHA/ASHLEY CR': 1, u'SKADI': 2, u'GARGOYLE | MUTANT X-': 2, u'JONES, DANIEL DANNY': 1, u'SHOCKWAVE/LANCASTER ': 2, u'VAUGHAN, GAYLE': 2, u'MIST MISTRESS': 2, u'TEFRAL': 1, u'THOR IV/DARGO': 2, u'COPPERHEAD II/': 2, u'KRANG II': 2, u'HARDCASE/HAROLD HARR': 2, u'MEGATAK': 2, u'NEDDA': 2, u'TRICKSHOT': 2, u'YIN, ANGELA': 2, u'TURBO II (B)/MIKE JE': 2, u'PROFESSOR X | MUTANT': 2, u'NAIP, SYNTHIA': 2, u'GOLDFIRE/AMEIKO SABU': 2, u'MELTON, LORRIE': 1, u'WHITEOUT': 1, u'LARGO, CHIEF': 1, u'RAVEN, LT. JACOB': 2, u'MANDARIN': 1, u'PRINCESS ZANDA': 2, u'INFECTIA/JOSEPHINE': 2, u'MARTINEZ, ISADORA': 2, u'SUNFIRE/SHIRO YASHID': 2, u'ONEG': 1, u'SZARKUS': 2, u'RANDOM': 1, u'ICHIHARA, SHIGERU': 2, u'CIRE, EYLA': 2, u'LEVIATHAN V': 2, u'DONALDSON, LINDA': 1, u'COYOTE': 2, u'RYKER, LUCY': 2, u'TAUREY, WILLIAM MALC': 1, u'RICHARDS, REED | EAR': 2, u'MISS ITCH/BLISS': 1, u'MAELEN': 2, u'FIREBRAND II/BROXTEL': 2, u'JARZINHO, COL. EDSON': 2, u'OGRE': 1, u'GUARDIAN/JAMES MACDO': 1, u'POWER, LEFTENANT': 2, u'ANGLER': 1, u'SOLE, MAJOR REMINGTO': 2, u'KALMARI': 2, u'FISK, VANESSA': 1, u'EXECUTIONER IV': 2, u'FIN FANG FOOM/MIDGAR': 1, u'CHALIZ, SHANAZ RAYNA': 2, u'DREADFACE': 2, u'VOLSTAGG | MUTANT X-': 2, u'ABSALOM': 2, u'CLARISSA': 1, u'CHARCOAL/CHARLIE BUR': 1, u'MEPHISITOID': 1, u'DOOP': 2, u'GATOR, LORD': 2, u'TWIT': 2, u'DR. OCTOPUS | MUTANT': 2, u'BRUTO THE STRONGMAN/': 1, u'THUNDERBOLT/BILLY CA': 2, u'BANSHEE 2013': 2, u'WARRIOR WOMAN/JULIA ': 1, u'AKAFE': 2, u'WHITE DRAGON': 1, u'ROGUE /': 1, u'RIORDAN, JIMMY': 2, u'CRIMSON DYNAMO/PROF.': 2, u'BLACK FOX II/': 1, u'SNIDER, DET. LOU': 2, u'MARCEAUX, THEOREN': 2, u'CAPTAIN FATE': 2, u'SUMO': 2, u'AXE/': 2, u'RAMSHOT/': 2, u'FAYRELYTE STRONGHEAR': 1, u'WILLIS': 2, u'TOTEM': 2, u'CRAWLEY, BETRAND': 2, u'PICO': 2, u'RUNCITER, GAIL': 1, u'DRAGON MAN': 1, u'BRAIN CELL/': 2, u'SANDOVAL, DIEGO': 2, u'HIGH OVERLORD': 2, u'SPHINX III': 2, u'SASQUATCH DOPPELGANG': 1, u'STAMPEDE/': 2, u'MASTERMIND IV/MARTIN': 2, u'BLACK WIDOW/NATASHA ': 1, u'GOGO TAMAGO/': 2, u'SHINSKI, PROFESSOR W': 1, u'TIKUAK': 2, u'HUGIN': 1, u'ST. CROIX, CARTIER': 2, u'HARRIGAN, PATRICIA P': 2, u'WINDSHEAR/COLIN ASHW': 1, u'MISTY/VINCENTE': 2, u'BRAITHWAITE, JUDGE R': 2, u'BOLERO/': 2, u'HAVERSHAW, JASON': 2, u'CRAWFORD, GEN.': 2, u'KANGAROO II/': 2, u'CAT III/SHEN KUEI': 2, u'PROWLER/HOBIE BROWN': 1, u'CARDINAL/CLEMDENON': 2, u'MAGNOR': 2, u'NAHREES [INHUMAN]': 2, u'KETCH, DORIS AUDRA': 2, u'STINGER IV': 2, u'ROCKET RACCOON': 2, u'MADSDEN, TREVOR': 2, u'PINKERTON, PERCIVAL ': 1, u'LOMENZO, NICOLE': 2, u'ANDERSON, CHIEF MAGI': 2, u'BENAZA': 2, u'THOMAS, COMMANDER DA': 1, u'THORSON, DR. WALTER': 1, u'ABBOTT, JACK': 2, u\"GRASSWIND, Z'OOFREY\": 2, u'LORD OF LIGHT/BOWEN': 2, u'DARKOVER, PROFESSOR ': 2, u'CARGO': 2, u'ULTRON 2010': 2, u'MOONHUNTER/ZACK MOON': 1, u'CABE, BETHANY': 1, u'DRAGONFIST': 2, u'SHAW, SARAH': 2, u'REINHOLDT': 2, u'BIRDBRAIN': 2, u'COTTONMOUTH': 2, u'WOODGOD': 2, u\"O'KEEFE, CHANDRA\": 2, u'EISMAN, BETTY': 2, u'SEBASTIAN, MARISSA': 2, u'BURKE, GWYNETH': 2, u'DOUGLOCK 2013': 2, u'CALLISTO': 1, u'NIGHT': 2, u'LIZARD/DR. CURTIS CO': 1, u'VAKUME': 1, u'NORTHSTAR DOPPELGANG': 1, u'WALSH, CAPT. ALEXAND': 2, u'MR. FX/': 2, u'BECKMAN, LISA': 2, u'VEDA': 1, u'JACKHAMMER': 1, u'WAR MACHINE II/PARNE': 2, u'HAV-AK': 2, u'STEPHANAPOULUS, COSM': 2, u'TOWER, BLAKE': 1, u'CIR, DYLON': 1, u'TRION': 2, u'CEAUSECU, IONEL': 2, u'TANGERINE 2013': 2, u'BRANNEX': 1, u'SILVER SCORPION/ELIS': 2, u'FRASER, DET. KATE': 2, u'PHARAOH KHAFRE': 2, u'DANTES, DR. EDWINA': 2, u'SUNSPYRE/LEYU YOSHID': 2, u'PIPER': 1, u'KIMBLE, DR.': 2, u'MUNSON': 2, u'ENT': 2, u'BYRRAH | HEROES REBO': 2, u'CYBERMANCER/DR. SUZI': 2, u'YETRIGAR': 2, u'NALES, DET. REBECCA ': 2, u'KITANG': 2, u'BARIUM': 1, u'RUCKUS': 2, u'KASEMA': 2, u'MINDBLAST': 1, u'NAMELESS ONE': 2, u'MURMUR II/ARLETTE TR': 2, u'DOMANI, DINO': 2, u'SINGER, MERLE': 2, u'PUMPKIN': 2, u'SET': 1, u'ENTITY II': 2, u'BROTHER CAESAR': 2, u'KRONITT': 2, u'WORTHINGTON, KATHRYN': 2, u'DOMINA': 2, u'PATRIOT/JEFF MACE': 1, u'SNAKEBITE/': 2, u'NUKE': 2, u'HURDLER, THOMAS': 2, u'TALOS': 2, u'SCICLUNA, MICHELE': 2, u'PROCTOR, COORDINATOR': 2, u'VAZIR, DR.': 2, u'LORELEI II/MELODI [A': 1, u'CITIZEN V III/DALLAS': 1, u'GARTH, DONNA': 2, u'MASTER PANDEMONIUM/M': 2, u'AMERICAN SAMURAI/': 2, u'JESTER/JONATHAN POWE': 2, u'RANDEAU, DR.': 2, u'DR. DRUID/ANTHONY LU': 1, u'SPIDER-WOMAN II/JULI': 1, u'STUNNER/ANGELINA BRA': 2, u'DRAX | MUTANT X-VERS': 2, u'NOVA OMEGA/GARTHAN S': 2, u'TOL-NOK': 2, u'POWELL, JASON': 1, u'GOG': 2, u'TOSHI': 2, u'PELE II': 2, u'WHITE DRAGON II': 2, u'STACY, GWEN | MUTANT': 2, u'OSBORN, EMILY': 2, u'GYPSY MOTH': 1, u'HODER [ASGARDIAN]': 2, u'ANIMATOR II/': 2, u'TERREL, DEBORAH': 1, u'PARKER, RICHARD (ROB': 1, u'SMART ALEC/ALEC THOR': 2, u'EQUILIBRIUS': 2, u'VISARA': 2, u'ZINGH': 2, u'LEGS/': 2, u'CROSSBONES II/': 2, u'CORBEAU, DR. PETER': 1, u'ERISHKIGEL': 2, u'ZARAN II': 2, u'ARIA': 2, u'VIVISECTOR/MYLES ALF': 2, u'BULLSEYE': 2, u'DAYTRIPPER/AMANDA SE': 1, u'BYRNE, JOHN': 2, u'GOLEM III': 2, u'YONDU/YONDU UDONTA': 2, u'CARVER': 2, u'ZANKOR/JAY STEVENSON': 2, u'JAVELIN II/DARIN JR.': 2, u'ELAMRON': 2, u'BLUNT': 2, u'BEAUTIFUL DREAMER': 2, u'HECATE': 2, u'PROFESSOR POWER/ANTH': 1, u'VANDERGILL, GEORGE': 2, u'PEEL, EMMA': 1, u'SHOT/': 2, u'STRONGARM II/ARMSTRO': 2, u'BLACK RAAZER/': 2, u'UNDERTAKER/CONRAD EI': 2, u'FORTUNE, DOMINIC': 1, u'ICE-MAN | MUTANT X-V': 2, u'HO, LI MUAN': 2, u'COLLINS, TRACY': 2, u'BINARY | MUTANT X-VE': 2, u'DUNLEAVY, GEN. ARLEN': 2, u'SLAG/SLAGHT, DR. THE': 1, u'ARAKI II': 2, u'ECCE [WATCHER]': 2, u'TABULA RASA': 2, u'SMYTHE, SPENCER': 2, u'WILSON, MERCEDES': 2, u'PHINEAS': 2, u'TIMESLIP/RINA PATEL': 2, u'VESSEL': 2, u'GHAUR [DEVIANT]': 1, u'BELASCO': 2, u'THUNDERFIST/': 1, u'LOBO, CARLOS': 2, u'WENDIGO/PAUL CARTIER': 2, u'GREEN GOBLIN/NORMAN ': 1, u'TIWAZ': 2, u'ELECTRA': 2, u'SCARLET SCARAB/DR. F': 1, u'MARIONETTE/MARI': 2, u'SALLA': 2, u'ATALON': 2, u'AUTHIER, POLICE CHIE': 2, u'HYPERTRON/CHESTER': 2, u'MADAME MASQUE V': 2, u'HATCHET MAN/HACHIMAN': 2, u'MONTANA II': 2, u'EEL III': 2, u'THOMAS, ROY': 2, u'CANDLER, OWEN': 2, u'GROK': 2, u'GORGON [INHUMAN]': 1, u'GRON': 1, u'ST. CROIX, NICOLE': 2, u'LUDI': 1, u'TABUR': 2, u'SNOW QUEEN/GITTE': 2, u'BARON MACABRE/': 2, u'GLAMOUR GIRL/GLORIA': 2, u'QUEEN DIVINE JUSTICE': 1, u'IRON FIST | MUTANT X': 2, u'FORCE/CLAYTON WILSON': 2, u'VOLKHVY': 2, u'EXALT': 2, u'ARCADIUS': 2, u'STAR HAMMER': 2, u'PELIALI': 2, u'STACY, HELEN': 2, u'LIZARD II': 2, u'DEMOLITION MAN DOPPE': 1, u'CLINTON, CHELSEA': 2, u'SMITH, KEVIN': 1, u'LOBO, EDUARDO': 2, u'BRYCE, ARCHER': 2, u\"JACK O'DIAMONDS\": 2, u'TENKO, CARTER': 2, u'HARDERMAN, QUENTIN': 1, u'KINGO SUNEN [ETERNAL': 1, u'KATAR': 2, u'KURASOV, SIMYON BORI': 2, u'SUPER SABRE/MARTIN F': 2, u'MEMBRAIN/': 2, u'IT': 2, u'ANGEL/WARREN KENNETH': 1, u'SANDMAN/WILLIAM BAKE': 1, u'GRIPPO, BILLY': 2, u'HUNKIR': 2, u'PULSAR/PLOR': 2, u'HOUSTON, STELLA': 2, u'ARLINGTON, DR. MARCU': 2, u'GRANT, GATOR': 2, u'HARDY, MORGAN MACNEI': 1, u'GARDENER/ORD ZYONYZ ': 1, u'RAVENWOOD': 2, u'LIBRITO': 2, u'VIRA': 2, u'GENERAL ADMISSION': 2, u'TYPHOID MARY/MARY ME': 1, u'KICKBACK/RICHARD': 2, u'BROOKS, ANNA': 2, u'GOTH': 2, u'BECKMAN, SARAH': 2, u'COMMANDO/M-NELL': 2, u'JAGRFELM [ASGARDIAN]': 2, u'STEED, MR.': 2, u'RED GHOST/IVAN KRAGO': 1, u'SENTRY 459': 1, u'AJAX': 1, u'HAVERSHAW, ANDREA': 2, u'\\ufffdGAMORA': 1, u'ROCKWALL': 2, u'CAMPBELL, MEREDITH': 2, u'TWO-GUN KID': 1, u'KHATYLIS': 2, u'BUKOWSKI, BUCK': 2, u'RODRIGUEZ, DET. PHIL': 2, u'MR. DOLL/NATHAN DOLL': 1, u'ARES [GREEK GOD]': 1, u'SIMONSON, LOUISE': 2, u'ABOMINATION | MUTANT': 2, u'MALPHER, KATHY': 2, u'FLAG-SMASHER': 1, u'KEREM': 1, u'SPANKER/FRED HOVEL': 2, u'ROBESON, PROFESSOR K': 2, u'CYCLOPS II': 2, u'WIREHEAD': 1, u'EIGHTBALL': 1, u'CAPTAIN MARVEL III/G': 1, u'RADD, FENNAN': 2, u'JESTER II': 2, u'WILSON, LOUIS': 2, u'ATLAS III': 2, u'SNOWBIRD/NARYA/ANNE ': 1, u'HERMOD [ASGARDIAN]': 2, u'QUARK': 2, u'JARELLA': 2, u'NIGHTSHADE/TILDA': 1, u'WARP SAVANT': 2, u'DORMA [ATLANTEAN]': 1, u'ESSEX, REBECCA': 2, u'ARMSTRONG, MYRA': 2, u'STANKOWICZ, FABIAN': 1, u'KAISHEK, HAAN': 2, u'MR. MOBIUS': 2, u'GRANDMASTER/EN DWI G': 1, u'MARTINEX': 2, u'MASTER PROGRAMMER': 2, u'CERBERUS II': 2, u'DOC SAMSON/DR. LEONA': 1, u'SHADOW KING/AMAHL FA': 2, u'OUTLAW/NIGEL HIGGINS': 2, u'HEX/DOMINIC DESTINE': 2, u'JOLT/HALLIE TAKAHAMA': 1, u'STONE II': 2, u'ELO': 2, u'TYGER TIGER/JESSAN H': 2, u'WOLFSBANE DOPPELGANG': 1, u'KNIGHT, LEO': 2, u'DEMONICUS/DR. DOUGLA': 2, u'WIND-WARRIOR/PAMELA ': 2, u'REVELATION': 2, u'GALEN': 2, u'BRONA': 2, u'CORD, EDWIN': 2, u'DOLAN, STACY': 2, u'WHITE TIGER II/': 2, u'WILFORD, BONNIE': 2, u'TRAINER, DR. SEWARD': 2, u'HILDEBRANT, DR.': 2, u\"O'DONNELL\": 2, u'GUINNESS': 2, u'THUNDERBIRD/JOHN PRO': 2, u'JIOMO': 2, u'EROS': 2, u'FATALE/PAMELA GREENW': 2, u'MORRELL, SABRINA': 1, u'SAUL': 2, u'ARCTURUS': 2, u'FIZGIG/': 2, u'ROSS, EVERETT KENNET': 1, u'RICHARDS, REED | MUT': 2, u'KAFKA, DR. ASHLEY': 2, u'WARLORD': 2, u'SHAW, OBADIAH': 2, u'PARK, ARCHIE': 2, u'LOPEZ, ANTONIO': 2, u'RIDER, CHARLES': 2, u'GROVES, GEN. MCALLIS': 1, u'CROSS, JASON': 2, u'THOG': 2, u'VIRTUAL REALITY': 1, u'JESTER III': 1, u'HYZAKTL': 2, u'TENELLE': 2, u'RAMOS, MANUEL': 2, u'LOBO II': 2, u'NEFFETHESK': 2, u'EXECUTIONER': 2, u'GANNON, SGT. FRANK': 2, u'JAMIL': 2, u'ANDERSON, BAXTER': 2, u'FATE, IAN': 2, u'HEADLOK': 2, u'MOORE, CONNIE': 2, u'STACY, JILL': 2, u'SHIVA': 2, u'SAMSON': 2, u'TALBOT, GLENN': 1, u'IMPACT/': 2, u'GIL': 2, u'MUNIPOOR': 2, u'FLYING DUTCHMAN': 1, u'UNCLE PYKO': 2, u'PHANTOM RIDER II/HAM': 2, u'BEDFORD, BRAD HULK': 2, u'CHALMERS, CYNTHIA': 2, u'KWANNON': 2, u'LAU, KING': 2, u'CROMWELL, HAMILTON': 2, u'MARTELL, SHIELD AGEN': 2, u'VAGUE/': 2, u'DOMINEX': 1, u'COFFIN, WARDEN JOHNS': 2, u'SMITH, DR. ARMSTRONG': 2, u'GREEN GOBLIN | MUTAN': 2, u'JUBILEE/JUBILATION L': 1, u'CHROME/': 2, u'DELILAH': 2, u'SPORE': 2, u'HOUSTON, LT. COMMAND': 1, u'BOMBLAST/': 2, u'COLLETTE': 2, u'FIREARM/': 2, u'BLADE': 2, u'BLAKE, DR. DONALD (C': 2, u'SMITH, SIR DENIS NAY': 2, u'BLOODAXE/JACKIE LUKU': 1, u'CAREGIVER/RUBANNA LA': 1, u'NOBILUS': 2, u'UNDERTOW': 2, u'BRADDOCK, JOHN': 2, u'BREAKER/RAAK': 2, u'MORG': 2, u'GULLO': 2, u'TESSA': 2, u'BLACK KNIGHT V/DANE ': 1, u'CHI DEMON/PROFESSOR ': 2, u'MAJOR DOMO': 2, u'BAXTER': 2, u'RANGER I/': 2, u'DRAGONMEGAS, JESSIE': 3, u'WHITE BIRD/AMARA': 2, u'ARSENAL II': 2, u'CAGE, LUKE/CARL LUCA': 1, u'CODY, GARY': 2, u'BEVATRON/': 2, u'STRONGARM/': 1, u'BOGGS, MORDECAI P.': 2, u'CUSSLER, PHILLIP JR.': 2, u'AZRAEL': 2, u'MORNING STAR/ZVEZDA ': 1, u'HOLKAR, DR. SHYAM': 2, u'DELPHOS': 2, u'COFFY, DET.': 2, u'WRONG': 2, u'MEGGAN 2013': 2, u'PROFESSOR ANGST/DR. ': 2, u'ARAGORN': 1, u'FENSTER, RICHARD': 2, u'PROJECTOR/': 2, u\"QUINN, MIRANDA/M'RYN\": 2, u'LOCKLIN, BEN': 2, u'TECH-NOIR/': 1, u'WILMOTT, DR. KEITH': 2, u'COMET MAN/DR. STEPHE': 2, u'GONZALEZ, RAYMOND': 2, u'ALEXANDER, CARRIE': 1, u'SHATTERFIST/': 2, u'WISDOM, PETE 2013': 2, u'LEBEAU, JEAN-LUC': 2, u'NELSON, CANDACE': 1, u'STITCH/': 2, u\"ERIC THE RED [SHI'AR\": 1, u'GILMORE, BERT': 2, u\"D'KEN [SHI'AR]\": 1, u'GRID': 2, u'MULDOON, TEXAS JACK': 1, u'MAN-SPIDER | MUTANT ': 2, u'NOBLE': 2, u'MASTERS, DR. AUGUST': 1, u'WADE, AGENT JOE': 2, u'LIGHTMASTER/EDWARD L': 2, u'KIRKEGAARD': 2, u'AVATAR': 2, u'BOWDEN, DENNIS': 2, u'DELANY, CAPT.': 2, u'BRUTE/REED RICHARDS ': 2, u'DEPALMA, MR.': 1, u'BRAWN, TRISTAN': 2, u'LINK': 2, u'RAMA KALIPH': 2, u'BROWN, LAURA': 1, u'IKARYS': 2, u'CLAY, GORDON': 2, u'HOLDSWORTH, PARKER': 2, u'TANAKA, KENJIRO': 1, u'TOMAZOOMA II': 2, u'PHANTAZIA/': 2, u'CREED, GRAYDON': 2, u'LANG, DR. STEVEN': 2, u'DARK BEAST/HENRY MCC': 1, u'BUCKY VI/': 1, u'MCBRIDE, MARTHA': 2, u'TETHERBLOOD/': 2, u'ANDERSON, NICKY': 2, u'VULCAN/': 2, u'ATOM-SMASHER/': 2, u'PUENTES, DONNA MARIA': 1, u'HAYWIRE/': 1, u'DAMAGE': 2, u'ROBERTSON, RANDY': 2, u'SNIPER/VON BURIAN': 2, u'HELIX II': 2, u'BROTHER VIRGIL': 2, u'PLANNER': 2, u'SCOURGE': 1, u'GREER, GABRIELLE': 2, u'PORTAL/CHARLES LITTL': 1, u'SHRIEK/SANDRA DEEL/F': 2, u'ARVAK': 2, u'CAMPBELL, VALERIE': 2, u'TONGAH': 2, u'TOUGH LOVE/': 2, u'SUKHAROV, VIKTORIA': 2, u'ADORA CLONE': 2, u'DECAY/': 2, u'HOARFEN': 2, u'LAMBERT, WILSON': 2, u'GORR': 2, u'SWORDSMAN III/PHILIP': 1, u'SKAR': 2, u'MR. DEATH': 2, u'WIPEOUT': 2, u'SPIDER-WOMAN IV/CHAR': 2, u'GORN': 2, u'GADFLY/RUTH MACRAE': 2, u'JOSEPH, SHEVA': 2, u'SPARROW': 2, u'GIGANTUS': 2, u'BONEBREAKER/': 2, u'SKEWER': 2, u'GUNSHIP/CARY ROUNTRE': 2, u'LILITH II': 2, u'BURKE, JACK': 2, u'PARKER, HORACE': 2, u'DELGADO, RUFUS': 2, u'ROWEN, CARL': 2, u'CHADWICK, DR. HESPER': 1, u'TERRAXIA': 1, u'ULIK': 1, u'AVALANCHE/DOMINIC PE': 1, u'GAMBIT DOPPELGANGER': 1, u'DICHINSON, RICKY': 2, u\"N'GAMI\": 2, u'WILLIAMS, NILES': 2, u'FISHMAN, DR. JONATHA': 1, u'QUICKSILVER | MUTANT': 2, u'RICHMOND, DELROY': 2, u'TAL, GENERAL': 2, u'SPENCER, TRACY': 1, u'SNOWBIRD | MUTANT X-': 2, u'AXIS/': 2, u'REAGAN, RONALD': 1, u'UNIT 101101': 2, u'AUNTIE FREEZE/': 2, u'SPIRAL II/ESTELLE GE': 2, u'ZURI': 1, u'GOLDIELOCKS/': 2, u'BLISS': 2, u'DR. VAULT': 2, u'GLEEG': 2, u'WALKER, TESS': 1, u'WHISPER/': 2, u'JACK FLAG/': 1, u\"MIDNIGHT'S FIRE/\": 2, u'RASPUTINA, ALEXANDRA': 2, u'JOCASTA II': 2, u'KARNILLA [ASGARDIAN]': 1, u'MEDINA, ANALISA MARI': 2, u'MISS LOCKE': 2, u'JOHNNY APPLESEED/JON': 1, u'NIGHTEYES/ERIC': 2, u'LOPEZ, SALMA': 2, u'PULSSUS': 2, u'SKY-WALKER': 2, u'SUNDER': 1, u'AUGUST PERSONAGE IN ': 1, u'WALKER, JILL': 2, u'DEAD RINGER/LOU': 1, u'THOMAS, KIM HO TWAE': 2, u\"KALADAR [SHI'AR]\": 2, u'CRIMSON DYNAMO III/A': 1, u'IMPOSSIBLE WOMAN': 2, u'SHE-HULK/JENNIFER WA': 1, u\"AJES'HA\": 2, u'DR. DOOM | TIMESLIDE': 1, u'HADDOCK, DR. MYRA': 2, u'FREDERICKSON, KOLINA': 2, u'SSSESTHUGAR': 2, u'SOUTHERN, CANDY': 1, u'FORTUNATO, GIACOMO J': 2, u'BACILLUS': 2, u'BLAZING SKULL/MARK T': 1, u'SMITH, JOE': 2, u'MAHONEY, GINNY': 2, u'BRIGGS, AGENT': 2, u'KNOBLACH, HANS': 2, u'GRANT, SILAS II': 2, u'KRUEL/VICTOR KRUELLE': 2, u'SLICE/': 2, u'HUXLEY, DR. HORATIO': 2, u'HYPERSTORM': 2, u'MASTIFF': 2, u'KARNAK [INHUMAN]': 1, u'FREE SPIRIT/CATHY WE': 1, u'JONES, RICARDO': 2, u'SLASHER': 2, u'DRAGON OF THE MOON': 2, u'RETREAD': 2, u'BLAKE, DR. DONALD': 2, u'CADMIUM': 2, u'ROULETTE II/JENNY ST': 2, u'SPAULDING, PETER': 2, u'JAWBREAKER/': 1, u'SILVER SURFER DOPPEL': 1, u'NETTLES': 2, u'PATTERSON, JACK': 1, u'SOUNDBYTE/': 2, u'COOPER, TERI': 2, u'ANIMUS': 2, u'PYRON/': 2, u'PUNISHER II/FRANK CA': 1, u'THOR III DOPPELGANGE': 1, u'CARBONE, JULIUS': 2, u'RIGOLETTO, DON DANTE': 2, u'DIZZIE': 2, u'RICOCHET RITA': 2, u'COPYCAT/VANESSA': 1, u'KRISTOFF/KRISTOFF VE': 1, u'LIPSCOMB, DR. ANGELA': 1, u'MASTER/ESHU': 1, u'LASHER/': 2, u'GRAZIA, VINCENT VINN': 2, u'NUNTOO': 2, u'PROFESSOR X/CHARLES ': 1, u'TRAUMA': 2, u'RIVERS, JERRY': 2, u'ARMSTRONG, ?': 2, u'FOROPULIST': 2, u'LIVING MONOLITH/AHME': 1, u'KARNIVOR': 2, u'HELLSTORM DOPPELGANG': 2, u'DEATHLOK | MUTANT X-': 2, u'RODOR': 2, u'BLAZE, EMMA': 2, u'GIDEON, GREGORY HUNG': 2, u'STAR, JOAN': 2, u'AMIKO': 2, u'PRISM': 2, u'RON, DAN': 2, u'BLACK KNIGHT IV DOPP': 1, u'ELSIE DEE': 2, u'BARNACLE/': 2, u'PERSEPHONE': 1, u'DRAGONWING/': 2, u'SPITZ, BARRY': 2, u'WOLVERINE | MUTANT X': 2, u'TULLY, DEREK': 2, u'MAGNUM, MOSES': 1, u'GAMBONNO, LUIGI': 1, u'POWELL, AMY': 2, u'ONE ABOVE ALL [CELES': 1, u'DOOM, DR. BOB': 2, u'GOOM': 2, u'HULK | MUTANT X-VERS': 2, u'IMP/PANDORA DESTINE': 2, u'WAR/ABRAHAM LINCOLN ': 2, u\"W'KANDRO\": 2, u'DOMINO': 2, u'CHARLIE 27': 2, u'DEMI-GOD': 2, u'EEL/LEOPOLD STRYKE': 1, u'CALCULUS/JAHAHAREL P': 1, u'DARK': 2, u'CHALIZ, TABRIAZ': 2, u'SLAVINSKI, SALLY': 2, u'THUNDERHEAD/': 2, u'PINK PEARL/': 1, u'SETH III': 2, u'AVIUS': 2, u'RAPUNZEL': 2, u'DEUCE': 2, u'SUPERIA/WENTWORTH, D': 1, u'RACAL, CONSTANTIN': 2, u'TALBOT, MAJ. MATT': 1, u'ADAM X': 2, u'CALEDONIA/ALISANDE S': 1, u'JAMESON, COL. JOHN ': 1, u'RED RAVEN II': 2, u'STANCHEK, DR.': 1, u'SPERZEL, ANTON': 2, u'DECIBEL': 2, u'COMMANDER BLAZE': 2, u'HOARD, JOSH': 1, u'TULL': 2, u'SKINNER': 2, u'QUAYLE, DAN': 2, u'HRIMHARI': 2, u'HUNTER, IAN': 2, u'WHYTEOUT/STUART ANTH': 2, u'DR. HYDRO': 2, u'SPLICE/CHANDRA KU': 2, u'AIRBORNE/': 2, u'MERCADO, JOY': 1, u'SALOME': 2, u'HOGGOTH': 2, u'THOMPSON, HARRISON': 2, u'HELLER, DR. JOSEPH': 2, u'SHADOWCAT/KATHERINE ': 1, u'LYLLA': 2, u'BRAINY': 2, u'RUIZ, RIGGER': 1, u'MALPRACTICE': 2, u'MCCORMICK, FIONA': 2, u'RED WOLF/WILDRUN': 1, u'BLACKWOOD, JENNY': 2, u'VITCHEN': 2, u'FUNARO, DONNA': 2, u'STRYKER, WILLIS': 2, u'PYRO/ALLERDYCE JOHNN': 1, u'SHAMROCK/MOLLY FITZG': 1, u'AMPHARON': 2, u'CRIMSON': 2, u'SILVERCLAW/LA GARRA ': 1, u'MINISTER BLOOD': 1, u'PELTINO, LT.': 1, u'BROTHER AXE': 3, u'MCGIVENEY, BULL': 1, u'OVERRIDE/DR. GREGORY': 2, u'SOCRATES SOCK': 2, u'QUEEN OF STAR SWORDS': 2, u'PILEDRIVER': 2, u'PERSEPHONE II': 2, u'TANAKA, GEORGE': 2, u'SARIEL': 2, u'PHOBIUS': 2, u'ELYSIA': 2, u'TYRUS': 2, u'VECTOR': 1, u'STALKER': 2, u'BOSCO, ELAINE': 2, u'BERKELEY, TRAVIS': 2, u'METEORITE III/VALERI': 1, u'SERAPH': 2, u'FROG MAN/FROG LE BLA': 1, u'MR. SINISTER | MUTAN': 2, u'JUTTA': 2, u'LEWIS, DEVON': 2, u'BLACK WIDOW II/YELEN': 2, u'SAMA-D': 2, u'BLOKE/MICKEY TORK': 2, u'BATTERING RAM': 2, u'DUCRESTE, ABRIAN': 2, u'LEBEAU, MERCY': 2, u'BERGER, PROF.': 2, u'DORNOVA-BLONSKY, NAD': 1, u'AFTERLIFE': 2, u'STANLEY, TOM': 2, u'SHADOW QUEEN/SHIALMA': 2, u'PEYER, DANNY': 2, u'JANUS II': 2, u'REEVES, MAJOR': 2, u'COACH': 2, u'GAR-TOOM': 2, u'TAKU': 2, u'BERMAN, ADAM': 2, u'MOTHER INFERIOR': 2, u'NOTE': 2, u'PERRIKUS': 1, u'JOSEPH': 1, u'GRIEFSAVOR': 2, u'DIAMOND, BOB': 2, u'SPRAGG': 1, u'RANDI': 2, u'GALADRIEL': 2, u'COBALT': 1, u'CARSON, LT. PAUL': 2, u'TECHNARX': 1, u'SILVANI, VITTORIO': 2, u'PRO, LE/': 2, u'VAN HELSING, RACHEL': 2, u'MANX': 2, u'ATTRACTIVE LAD/AUNDR': 2, u'CASEY': 2, u'CARTER, SHARON II': 1, u'HATE-MONGER/ADOLF HI': 1, u'SKARABROUS': 2, u'OJANI': 2, u'SERESTUS': 1, u'PHANTOM': 2, u'ANTI-PHOENIX': 2, u'SNAGG': 2, u'TORO/TOM RAYMOND': 1, u\"B'ARR\": 2, u'P': 2, u'KREE GIANT MAN [KREE': 2, u'CARTER, SHARON': 1, u'HAMMER/LEROY JACKSON': 2, u'TAKAHASHI, REI': 2, u'GRANITOR': 2, u'ROCKETLAUNCHER/': 2, u'EXILE': 2, u'MANSLAUGHTER': 2, u'TYPHOON/': 2, u'DADDY WRONGLEGS': 2, u'KITCHENER, CHIEF INS': 1, u'SLEEPWALKER': 1, u'STOCKBRIDGE, DEANNA': 2, u'GRIMM, JAKE': 2, u'PROFESSOR X | EARTH ': 2, u'MEGGAN': 1, u'GUTHRIE, TYLER': 2, u'DR. SPECTRUM II/DR. ': 1, u'TREMELO/': 2, u'FRANKLIN, JEREMY': 2, u'TWAKI, DR. TED': 1, u'GAUNTLET': 1, u'KRYPT, DR.': 2, u'CODY': 2, u'WHISPER II/': 2, u'INAZUMA': 2, u'WOODS, TIMOTHY': 2, u'BANCROFT, MARTINE': 2, u'BREEGAN': 2, u'BEEFER': 1, u'HELLER, ERIC': 2, u'FENWAY': 2, u'WATOOMB': 2, u'MORDO, ASTRID': 2, u'BLOCKADE/DEXTER PARI': 2, u'TRAPSTER/PETER PETRU': 1, u'KID QUARRY': 2, u'COOPER, COLE': 2, u'GORGILLA': 1, u'CAPTAIN RECTITUDE': 2, u'RASPUTIN, NIKOLAI': 2, u'HYDRON': 1, u'MAN-KILLER/KATRINA L': 1, u'CITIZEN V/JOHN WATKI': 1, u'KRAVEN THE HUNTER II': 1, u'LIBERTY GIRL/BEV': 2, u'LA NUIT': 2, u'HUNCH': 1, u'C.F.': 2, u'NECRODAMUS': 2, u'PORCUPINE/ALEX GENTR': 1, u'HUNTER IN DARKNESS': 2, u'FIREFALL IV/TARN': 2, u'PHAT/BILLY BOB REILL': 2, u'KIRBY, JACK': 1, u'KRAA': 2, u'YASHIDA, MARIKO | MU': 2, u'HUMAN TORCH DOPPELGA': 1, u'CALIFORNIUM': 2, u\"KISMET/J'RIDIA STARD\": 1, u'ENRAGED': 1, u'GRIMM, BEN | MUTANT ': 2, u'MANIPULATOR II': 2, u'KAPPELBAUM, MRS.': 1, u'HARRAS, BOB': 2, u'ZAKKA': 2, u'RIFKIN, MARJORIE': 2, u'FLEET, TAMARA': 2, u'SHADOWCASTER/': 2, u'BARONESS ZEMO/HEIKE': 1, u'TAREVA': 2, u'WRANGLER II/EMILY DO': 2, u'MAA-GOR': 2, u'MARTINEZ, MRS.': 2, u'DONOHUE, TREVOR': 1, u'ANDERS, JOSHUA RICHI': 2, u'MYCROFT': 2, u\"D'ANGELO, LIEUTENANT\": 2, u'MR. SINISTER/NATHAN ': 1, u'SYRRH': 2, u'KAISHEK, KIA': 2, u'RED RAVEN': 1, u'PSYLOCKE/ELISABETH B': 1, u'POWERHOUSE IV/': 2, u'JEFFERSON, DR.': 2, u'BLOODSTRIKE/ERIC CON': 2, u'DEKKER, GENERAL LYLE': 1, u'ROTWRAP': 2, u'HARRIS, BERNARD': 2, u'WONDER MAN 2010/SIMO': 2, u'BLOCKBUSTER III/MICH': 2, u'SHOTGUN III/': 2, u'GRANT, PHILLIP': 1, u'TANTRUM/': 2, u'JONES, LORRAINE LORR': 1, u'DE LA SALLE, BEATRIC': 1, u'GODWULF': 2, u'BENNETT, MITCH': 2, u'WATANABE, YUJI': 2, u'ROEBERG, SEN.': 2, u'PANDEMONIA': 2, u'VISION DOPPELGANGER': 1, u'ASYLUM II/HENRIQUE M': 2, u'MIDGET': 2, u'JERICHO, DUNCAN': 2, u'KILLER SHRIKE/SIMON ': 2, u'STRYFE': 1, u'STORMER': 3, u'RAGE/ELVIN DARYL HAL': 1, u'SISTER KATRINA': 2, u'CENTURY': 1, u'TYNDAR': 1, u'SASQUATCH/WALTER LAN': 1, u'IDRIS': 2, u'ASYLUM/': 2, u'KAZAKI, SHINJI': 2, u'SPEEDBALL/ROBBIE BAL': 1, u'CARINA/CARINA WALTER': 1, u'SIN-EATER/STAN CARTE': 2, u'MONSTROID/BALIOX/7NH': 2, u'QUISLING': 2, u'HAMES': 2, u'FANDRAL | MUTANT X-V': 2, u'ANTORO': 2, u'LEECH': 1, u'TWEEDLEDOPE': 2, u'SPEAR': 2, u'JUSTICE PEACE': 2, u'LORD KARNAJ': 2, u'WILD WHIP': 2, u'OX III': 2, u'SPIDERCIDE': 1, u'CRUSHER II/JUAN APON': 2, u'PATHWAY/LAURA DEAN': 1, u'ICE PRINCESS/': 1, u'KHIRN': 2, u'SABRA/RUTH BAT-SERAP': 1, u'BLACK TALON II/SAMUE': 1, u'PRODIGAL/': 2, u'OMORO': 2, u'KUROV, WASSILY': 1, u'HATE': 1, u'RAMIREZ, ROSA': 1, u'RAGA': 2, u'SILHOUETTE': 1, u'HOTSHOT/LOUIS': 1, u'LIBRA III/': 1, u'DEATHLOK III DOPPELG': 2, u'VIBRO/DR. FRANCIS VI': 1, u'DRAGONHEAD': 2, u'FIREBIRD/BONITA JUAR': 1, u'BLACK SPECTRE/CARSON': 2, u'STAR THIEF/': 2, u'CAT KING': 2, u'AZOPARDI': 3, u'WRECKER II': 2, u'JACK': 2, u'BANSHEE/SEAN CASSIDY': 1, u'VANADIUM': 2, u'BLANDING, HALEY': 2, u'CARBONE, ROSALIE': 2, u'KOPPISCH, DR. ERIC': 2, u'CHAKRA II': 3, u'MESMERO': 1, u'TABOO': 1, u'BALLANTINE, KAYLA': 1, u'PHOENIX II': 1, u'ASTROVIK, NORMA': 1, u'SWEEPZWEAK': 2, u'NIKKI/NICHOLETTE GOL': 2, u'KALIN KARTH KITH': 2, u'TAI II': 1, u'TORK, LT.': 2, u'NOVA-PRIME': 2, u'FIN FANG FOOM | MUTA': 2, u'SILICON/GERALD SIMMS': 2, u'PHOBOS': 2, u'JACKSON, CELIA': 1, u'BLACK, RACHEL': 2, u'DIONYSUS [GREEK GOD]': 1, u'MEXXA RIEN': 2, u'FIXER/SWEENEY': 2, u'FERON': 2, u'HOWLER/LUKE GARROW': 2, u'OZ, DR. MALACHI': 3, u'RECOIL/': 2, u'BENNETT, DANNY': 2, u'STRINGER, AMY': 2, u'SOMERS, KATHY': 2, u'SKUNGE': 1, u'HALE, JONAS': 2, u'BLUR': 2, u'DONNELY, VICTORIA TO': 2, u'REIKO': 2, u'GILLISPIE, ANDREW AN': 2, u'WITNESS II/REMY LEBE': 2, u'YMIR': 2, u\"L'KLEKK'TAK\": 2, u'ANARCHIST/TIKE ALICA': 2, u'CORAL': 2, u'CHALKER, PROF. VIC': 2, u'KAMIKAZE': 2, u'MCKENZIE, LEONARD': 2, u'JONES, TIMOTHY': 2, u'SLAB/KRIS ANDERSON': 2, u'CALLISTO | MUTANT X-': 2, u'ANTOINETTE, MARIE': 1, u'CARRION II/MALCOLM M': 2, u'LANDSLIDE': 2, u'ODIN [ASGARDIAN]': 1, u'DAMIAN, MARGO': 2, u'SHOTGUN II/WALKER': 2, u'CHAPMAN, GEN. ULYSSE': 1, u'REPLICUS': 2, u\"S'YM\": 1, u'DR. OCTOPUS/OTTO OCT': 1, u'TOPAZ': 2, u'SILENT ONE': 2, u'GRAND OVERSEER': 2, u'MAJOR VICTORY/MAJ. V': 2, u'LIGHTNINGBOLT II/RAN': 2, u'PAPA HAGG': 1, u'OUBLIETTE/': 3, u'MERLYN': 1, u'MISS AMERICA/MADELIN': 1, u'ALCHEMY/THOMAS JONES': 2, u'NEWELL, DIANE ARLISS': 1, u'LOWELL, DR.': 2, u'WENDY': 2, u'AMPERE/': 2, u'SIGYN': 2, u'BEAST DOPPELGANGER I': 1, u'HUMAN TORCH/JOHNNY S': 1, u'CAPTAIN MARVEL II/MO': 1, u'HO YINSEN': 2, u'LIGHT': 2, u'KLOSS, BERNARD': 2, u'VENUS/APHRODITE/VICT': 1, u'GOLDFARB, AARON': 2, u'YURGE': 2, u'JONES, MARLO CHANDLE': 1, u'GATECRASHER': 1, u'COLE, PRISCILLA': 2, u'CARMODY, MARY': 2, u'CROIX, ASHLEY': 2, u'TOLLIVER, SHERIFF JO': 1, u'BEYONDER | MUTANT X-': 2, u'SANCTION/AARON': 2, u'RU': 2, u'GARRISON, DR.': 2, u'FACE/COL. EISEN': 1, u'POTTER, BETSY BEATTY': 1, u'SATURNYNE, OPAL LUNA': 1, u'SHAW, HIRAM': 2, u'GAUNT II': 2, u'MINXI [INHUMAN]': 2, u'GRAPPLER': 1, u'LEIR': 2, u'YOUNG, MAX': 2, u'HUNT, ROBERTA': 2, u'BLACKOUT/MARCUS DANI': 1, u'DE LA COURTE': 2, u'MORGAN, DR. VIVIAN': 1, u'BLACK TOM CASSIDY': 2, u'UATU | MUTANT X-VERS': 2, u'ARMS MERCHANT/ANDREA': 2, u'JUNCTION': 2, u'ARMAZIEL': 2, u'ANDWELLA': 2, u'GAMECOCK/': 1, u'ANTIQUARY/': 2, u'CEREBRO': 2, u'ALIOTH': 2, u'MCCABE, NINA': 2, u'EBONY': 1, u'MOONDRAGON DOPPELGAN': 1, u'SEDNA': 2, u'CHESBRO': 2, u'MARTIN, TERI': 2, u'MANTONE, JORGE': 2, u'KING GEORGE VI': 1, u'TIERS, MICHELLE': 2, u'SOTEIRA': 2, u'CYCLONE II/PIERRE FR': 2, u'EVILHAWK/DARGIN BOKK': 2, u'LOBO III': 2, u'CLEMSON, MIKE': 2, u'LORD CHAOS': 1, u'MINDMELD/': 2, u'CANTOR, VERA': 1, u'CACHES, FABIAN': 2, u'CARMODY, MRS.': 2, u'BLACKWULF': 2, u'SNAKESKIN II/': 2, u'DEVERAUX, INSPECTOR ': 2, u'ISLEY, LYNN': 1, u'THIN MAN/BRUCE DICKS': 1, u'SAHREED': 2, u'YANO': 2, u'USAGENT/CAPTAIN JOHN': 1, u'SILVERCLOUD, SAM': 2, u'BLAIR, CALEY': 2, u'DARK COUNSEL/VARTU': 2, u'MARVEL GIRL/JEAN GRE': 1, u'BYRRAH [ATLANTEAN]': 1, u'MALTZ': 2, u'WILLIAMS JOHN': 2, u'EMPLATE/MARIUS ST. C': 2, u'COBRA/KLAUS VORHEES': 1, u'MINI MAX/': 2, u'HITLER, ADOLF': 1, u'HAUPTMANN DEUTSCHLAN': 1, u'MCCALL, MEREDITH | T': 1, u'SOTO, BERNARD': 2, u'EPSTEIN, MORRIS': 2, u'BORA': 1, u'KING (OF THE SEWER P': 2, u'MINERVA [KREE]': 1, u'OX IV': 2, u'T': 2, u'LOGA': 1, u'JOSTEN, CARL': 2, u'NASH, SABRINA': 2, u'DR. POWER/DR. MAXIMU': 2, u'WILDSTREAK': 2, u'SAINT, AMANDA': 3, u'CHEN, JOANNA': 2, u'GLUB': 2, u'KAISHEK, GOM': 2, u'CATWALK/KIMBERLY DEE': 1, u'IKARIS | MUTANT X-VE': 2, u'ULTRON': 1, u'BRIDGE, GEORGE WASHI': 1, u'FUJIKAWA, RUMIKO': 1, u'KARLSON, KAREN': 2, u'ELEKTRA | MUTANT X-V': 2, u'MAXWELL, MORRIS': 2, u'RIVERA, DR. JASON': 1, u'BURLINGAME, CALVIN': 1, u'MAGIK/ILLYANA RASPUT': 1, u'SARDAN': 2, u'BROTHERS GRIMM II/BA': 1, u'MILLER, FRANK': 1, u'BERGIER, REBECCA': 2, u'APPLEBAUM, PHANTASY': 2, u'MURPHY, MELISSA': 2, u'STRONGHOLD/': 2, u'DOLAN, CAPT. THOMAS': 2, u'CROSS, GENEVIEVE': 2, u'VERITUS': 2, u'SKYE': 2, u'RILEY, KIM': 2, u'STELLARAX': 2, u'OBLITERATOR II': 2, u'COURTNEY, DELPHINE': 2, u'LAVEAU, MARIE': 2, u\"MYLZOB'RYN, CHIEF\": 2, u'KING CADAVER': 2, u'HARRIS, MONROE': 2, u'MEDUSA II': 2, u'PRODIGY/': 2, u'KID/E.B. FARRELL': 2, u'KURRGO': 2, u'CARLISLE, MELISSA BO': 2, u'DEMONSTAFF': 2, u'MOTH/': 2, u'WINTHROP, DESIREE': 2, u'SATAN/MARDU KURIOS': 2, u'VAN NUYS, PROF. RODE': 2, u'KARNAK DOPPELGANGER': 1, u'VOID-EATER': 2, u'HOLLISTER, SHERIFF': 2, u'STRANGLER': 2, u'JANES, FATHER MICHAE': 2, u'TREVOR, STEVE': 1, u'FARGO, FLAGG': 2, u'CANDY': 2, u'POWELL, OFFICER MIKE': 2, u'MILLENNIUM MONARCH': 2, u'HARRIS, EDDIE': 1, u'DOC SAMSON | MUTANT ': 2, u'ANGEL III/HALLOWAY': 1, u'GHOST GIRL II/LILLI': 2, u'EENY': 2, u'METOXO': 2, u'MARCHALLA II': 2}\n"
     ]
    }
   ],
   "source": [
    "dic = BFS(['CAPTAIN AMERICA'])   #'MISS THING/MARY' 'CAPTAIN AMERICA'\n",
    "# print dic\n",
    "print (dic)"
   ]
  },
  {
   "cell_type": "code",
   "execution_count": 682,
   "metadata": {
    "collapsed": false
   },
   "outputs": [],
   "source": [
    "def filterer(i):\n",
    "    def filt(x):\n",
    "        return x==itr_acc.value\n",
    "    return filt\n",
    "\n",
    "def get_first_non_empty_cogroup(x2):\n",
    "    for elem in x2:\n",
    "        elem = list(elem)\n",
    "        if len(elem) > 0:\n",
    "            return elem[0]\n",
    "\n",
    "def BFS(graph, starting_node):\n",
    "    \n",
    "        #We set the starting node to have distance = 0 \n",
    "    nodes = sc.parallelize([(starting_node, 1)])\n",
    "\n",
    "    total_char_acc = sc.accumulator(1)\n",
    "    it_acc = sc.accumulator(0)\n",
    "\n",
    "    while True:\n",
    "        it_acc += 1\n",
    "        dist = it_acc.value\n",
    "\n",
    "        nodes_2 = nodes.filter(lambda x: filterer(x[1])).join(graph).flatMap(lambda x: x[1][1]).distinct().map(lambda x: (x, dist + 1))\n",
    "\n",
    "        nodes = nodes.cogroup(nodes_2).map(lambda x: (x[0], get_first_non_empty_cogroup(list(x[1])))).cache()\n",
    "\n",
    "        print \"CHAR SIZE: \", nodes.count()\n",
    "        print \"NODES ADDED: \", nodes.count() - total_char_acc.value\n",
    "\n",
    "        if nodes.count() == total_char_acc.value:\n",
    "            break\n",
    "\n",
    "        total_char_acc += nodes.count() - total_char_acc.value\n",
    "        \n",
    "    return nodes.count(), nodes"
   ]
  },
  {
   "cell_type": "code",
   "execution_count": 683,
   "metadata": {
    "collapsed": false
   },
   "outputs": [
    {
     "ename": "TypeError",
     "evalue": "map() got an unexpected keyword argument 'numPartitions'",
     "output_type": "error",
     "traceback": [
      "\u001b[0;31m---------------------------------------------------------------------------\u001b[0m",
      "\u001b[0;31mTypeError\u001b[0m                                 Traceback (most recent call last)",
      "\u001b[0;32m<ipython-input-683-0b46e8bc00f6>\u001b[0m in \u001b[0;36m<module>\u001b[0;34m()\u001b[0m\n\u001b[0;32m----> 1\u001b[0;31m \u001b[0mBFS\u001b[0m\u001b[0;34m(\u001b[0m\u001b[0mHero_graph\u001b[0m\u001b[0;34m,\u001b[0m \u001b[0;34m'CAPTAIN AMERICA'\u001b[0m\u001b[0;34m)\u001b[0m\u001b[0;34m\u001b[0m\u001b[0m\n\u001b[0m",
      "\u001b[0;32m<ipython-input-682-dbfbc7c14cdc>\u001b[0m in \u001b[0;36mBFS\u001b[0;34m(graph, starting_node)\u001b[0m\n\u001b[1;32m     22\u001b[0m         \u001b[0mdist\u001b[0m \u001b[0;34m=\u001b[0m \u001b[0mit_acc\u001b[0m\u001b[0;34m.\u001b[0m\u001b[0mvalue\u001b[0m\u001b[0;34m\u001b[0m\u001b[0m\n\u001b[1;32m     23\u001b[0m \u001b[0;34m\u001b[0m\u001b[0m\n\u001b[0;32m---> 24\u001b[0;31m         \u001b[0mnodes_2\u001b[0m \u001b[0;34m=\u001b[0m \u001b[0mnodes\u001b[0m\u001b[0;34m.\u001b[0m\u001b[0mfilter\u001b[0m\u001b[0;34m(\u001b[0m\u001b[0;32mlambda\u001b[0m \u001b[0mx\u001b[0m\u001b[0;34m:\u001b[0m \u001b[0mfilterer\u001b[0m\u001b[0;34m(\u001b[0m\u001b[0mx\u001b[0m\u001b[0;34m[\u001b[0m\u001b[0;36m1\u001b[0m\u001b[0;34m]\u001b[0m\u001b[0;34m)\u001b[0m\u001b[0;34m)\u001b[0m\u001b[0;34m.\u001b[0m\u001b[0mjoin\u001b[0m\u001b[0;34m(\u001b[0m\u001b[0mgraph\u001b[0m\u001b[0;34m)\u001b[0m\u001b[0;34m.\u001b[0m\u001b[0mflatMap\u001b[0m\u001b[0;34m(\u001b[0m\u001b[0;32mlambda\u001b[0m \u001b[0mx\u001b[0m\u001b[0;34m:\u001b[0m \u001b[0mx\u001b[0m\u001b[0;34m[\u001b[0m\u001b[0;36m1\u001b[0m\u001b[0;34m]\u001b[0m\u001b[0;34m[\u001b[0m\u001b[0;36m1\u001b[0m\u001b[0;34m]\u001b[0m\u001b[0;34m)\u001b[0m\u001b[0;34m.\u001b[0m\u001b[0mdistinct\u001b[0m\u001b[0;34m(\u001b[0m\u001b[0;34m)\u001b[0m\u001b[0;34m.\u001b[0m\u001b[0mmap\u001b[0m\u001b[0;34m(\u001b[0m\u001b[0;32mlambda\u001b[0m \u001b[0mx\u001b[0m\u001b[0;34m:\u001b[0m \u001b[0;34m(\u001b[0m\u001b[0mx\u001b[0m\u001b[0;34m,\u001b[0m \u001b[0mdist\u001b[0m \u001b[0;34m+\u001b[0m \u001b[0;36m1\u001b[0m\u001b[0;34m)\u001b[0m\u001b[0;34m,\u001b[0m\u001b[0mnumPartitions\u001b[0m\u001b[0;34m=\u001b[0m\u001b[0mnodes\u001b[0m\u001b[0;34m.\u001b[0m\u001b[0mgetNumPartitions\u001b[0m\u001b[0;34m(\u001b[0m\u001b[0;34m)\u001b[0m\u001b[0;34m)\u001b[0m\u001b[0;34m\u001b[0m\u001b[0m\n\u001b[0m\u001b[1;32m     25\u001b[0m \u001b[0;34m\u001b[0m\u001b[0m\n\u001b[1;32m     26\u001b[0m         \u001b[0mnodes\u001b[0m \u001b[0;34m=\u001b[0m \u001b[0mnodes\u001b[0m\u001b[0;34m.\u001b[0m\u001b[0mcogroup\u001b[0m\u001b[0;34m(\u001b[0m\u001b[0mnodes_2\u001b[0m\u001b[0;34m)\u001b[0m\u001b[0;34m.\u001b[0m\u001b[0mmap\u001b[0m\u001b[0;34m(\u001b[0m\u001b[0;32mlambda\u001b[0m \u001b[0mx\u001b[0m\u001b[0;34m:\u001b[0m \u001b[0;34m(\u001b[0m\u001b[0mx\u001b[0m\u001b[0;34m[\u001b[0m\u001b[0;36m0\u001b[0m\u001b[0;34m]\u001b[0m\u001b[0;34m,\u001b[0m \u001b[0mget_first_non_empty_cogroup\u001b[0m\u001b[0;34m(\u001b[0m\u001b[0mlist\u001b[0m\u001b[0;34m(\u001b[0m\u001b[0mx\u001b[0m\u001b[0;34m[\u001b[0m\u001b[0;36m1\u001b[0m\u001b[0;34m]\u001b[0m\u001b[0;34m)\u001b[0m\u001b[0;34m)\u001b[0m\u001b[0;34m)\u001b[0m\u001b[0;34m)\u001b[0m\u001b[0;34m.\u001b[0m\u001b[0mcache\u001b[0m\u001b[0;34m(\u001b[0m\u001b[0;34m)\u001b[0m\u001b[0;34m\u001b[0m\u001b[0m\n",
      "\u001b[0;31mTypeError\u001b[0m: map() got an unexpected keyword argument 'numPartitions'"
     ]
    }
   ],
   "source": [
    "BFS(Hero_graph, 'CAPTAIN AMERICA')"
   ]
  },
  {
   "cell_type": "markdown",
   "metadata": {},
   "source": [
    "##PROBLEM 5"
   ]
  },
  {
   "cell_type": "code",
   "execution_count": 42,
   "metadata": {
    "collapsed": true
   },
   "outputs": [],
   "source": [
    "links = sc.textFile('s3://Harvard-CS205/wikipedia/links-simple-sorted.txt')\n",
    "page_names = sc.textFile('s3://Harvard-CS205/wikipedia/titles-sorted.txt')"
   ]
  },
  {
   "cell_type": "code",
   "execution_count": 566,
   "metadata": {
    "collapsed": false
   },
   "outputs": [],
   "source": [
    "def filterer(i):\n",
    "    def filt(x):\n",
    "        return x==itr_acc.value - 1\n",
    "    return filt\n",
    "\n",
    "def get_first_non_empty_cogroup(x2):\n",
    "    for elem in x2:\n",
    "        elem = list(elem)\n",
    "        if len(elem) > 0:\n",
    "            return elem[0]\n",
    "\n",
    "def shortest_path(graph, nodeA, nodeB):\n",
    "    \n",
    "\n",
    "    nodes = sc.parallelize([(nodeA, 0)])\n",
    "    node_destination = [nodeB]\n",
    "    # a = a.map(lambda x: (x[0], (list(x[1][0]))[0], (list(x[1][1]))))\n",
    "\n",
    "    total_char_acc = sc.accumulator(1)\n",
    "    it_acc = sc.accumulator(0)\n",
    "    nodes_4 = sc.parallelize([])\n",
    "\n",
    "\n",
    "    while True:\n",
    "        it_acc += 1\n",
    "        dist = it_acc.value\n",
    "        #     nodes = a.filter(lambda x: x[2] == [dist]).flatMap(lambda x: [(i, dist + 1) for i in x[1]]).distinct()\n",
    "        nodes_2 = nodes.filter(lambda x: filterer(x[1])).join(graph).flatMap(lambda x: x[1][1]).distinct().map(lambda x: (x, dist))\n",
    "\n",
    "        nodes_3 = nodes.filter(lambda x: filterer(x[1])).join(graph).map(lambda x: (x[0],x[1][1],dist))\n",
    "        nodes_3 = nodes_3.map(lambda x: [(x[0], i, dist) for i in x[1]])\n",
    "        \n",
    "        print nodes_3.collect()\n",
    "        \n",
    "        nodes_4 = nodes_3.union(nodes_4)\n",
    "\n",
    "\n",
    "        nodes = nodes.cogroup(nodes_2).map(lambda x: (x[0], get_first_non_empty_cogroup(list(x[1])))).cache()\n",
    "\n",
    "#         print nodes_2.map(lambda x: x[0]).collect()\n",
    "        \n",
    "        if nodes_2.map(lambda x: x[0]).filter(lambda x: node_destination[0] == x).count() > 0:\n",
    "            print \"Distance:\", dist\n",
    "            break\n",
    "\n",
    "\n",
    "    path = [node_destination]\n",
    "    nodes_4 = nodes_4.flatMap(lambda x: x)\n",
    "\n",
    "    for i in range(dist,0,-1):\n",
    "\n",
    "        node_destination = nodes_4.filter(lambda x: x[2] == i and x[1] in node_destination[:]).map(lambda x: x[0]).distinct().collect()\n",
    "    \n",
    "        path.append(node_destination)\n",
    "\n",
    "    return dist, path\n"
   ]
  },
  {
   "cell_type": "code",
   "execution_count": 567,
   "metadata": {
    "collapsed": false
   },
   "outputs": [
    {
     "name": "stdout",
     "output_type": "stream",
     "text": [
      "[[(3, 2, 1), (3, 1, 1)]]\n",
      "[[(1, 2, 2), (1, 3, 2), (1, 4, 2)], [(2, 4, 2), (2, 5, 2), (2, 6, 2)], [(3, 2, 2), (3, 1, 2)]]\n",
      "[[(1, 2, 3), (1, 3, 3), (1, 4, 3)], [(2, 4, 3), (2, 5, 3), (2, 6, 3)], [(3, 2, 3), (3, 1, 3)], [(4, 3, 3), (4, 5, 3), (4, 7, 3)], [(5, 4, 3), (5, 1, 3), (5, 9, 3)], [(6, 3, 3), (6, 2, 3), (6, 1, 3)]]\n",
      "[[(1, 2, 4), (1, 3, 4), (1, 4, 4)], [(2, 4, 4), (2, 5, 4), (2, 6, 4)], [(3, 2, 4), (3, 1, 4)], [(4, 3, 4), (4, 5, 4), (4, 7, 4)], [(5, 4, 4), (5, 1, 4), (5, 9, 4)], [(6, 3, 4), (6, 2, 4), (6, 1, 4)], [(7, 9, 4), (7, 10, 4), (7, 2, 4)], [(9, 8, 4), (9, 7, 4), (9, 6, 4), (9, 5, 4), (9, 4, 4), (9, 3, 4), (9, 2, 4)]]\n",
      "Distance: 4\n"
     ]
    },
    {
     "data": {
      "text/plain": [
       "(4, [[10], [7], [4], [1, 2], [3]])"
      ]
     },
     "execution_count": 567,
     "metadata": {},
     "output_type": "execute_result"
    }
   ],
   "source": [
    "shortest_path(neighbor_graph,3,10)"
   ]
  },
  {
   "cell_type": "code",
   "execution_count": 684,
   "metadata": {
    "collapsed": false
   },
   "outputs": [],
   "source": [
    "def filterer(i):\n",
    "    def filt(x):\n",
    "        return x==itr_acc.value - 1\n",
    "    return filt\n",
    "\n",
    "def get_first_non_empty_cogroup(x2):\n",
    "    \n",
    "    for elem in x2:\n",
    "        elem = list(elem)\n",
    "        if len(elem) > 0:\n",
    "            return elem[0]\n",
    "\n",
    "def shortest_path(graph, nodeA, nodeB):\n",
    "    \n",
    "\n",
    "    nodes = sc.parallelize([(nodeA, 0)])\n",
    "    node_destination = [nodeB]\n",
    "    # a = a.map(lambda x: (x[0], (list(x[1][0]))[0], (list(x[1][1]))))\n",
    "\n",
    "    total_char_acc = sc.accumulator(1)\n",
    "    it_acc = sc.accumulator(0)\n",
    "    nodes_4 = sc.parallelize([])\n",
    "\n",
    "\n",
    "    while True:\n",
    "        \n",
    "        it_acc += 1\n",
    "        dist = it_acc.value\n",
    "                \n",
    "        nodes_1 = nodes.filter(lambda x: filterer(x[1])).join(graph)\n",
    "        \n",
    "        nodes_2 = nodes_1.flatMap(lambda x: x[1][1]).distinct().map(lambda x: (x, dist))\n",
    "\n",
    "        nodes_3 = nodes_1.map(lambda x: (x[0],x[1][1],dist))\n",
    "        nodes_3 = nodes_3.map(lambda x: [(x[0], i, dist) for i in x[1]])\n",
    "                \n",
    "        nodes_4 = nodes_3.union(nodes_4)\n",
    "\n",
    "        nodes = nodes.cogroup(nodes_2).map(lambda x: (x[0], get_first_non_empty_cogroup(list(x[1])))).cache()\n",
    "\n",
    "        \n",
    "        if nodes_2.map(lambda x: x[0]).filter(lambda x: node_destination[0] == x).count() > 0:\n",
    "            print \"Distance:\", dist\n",
    "            break\n",
    "\n",
    "\n",
    "    path = [node_destination]\n",
    "    node_destination = [(0,nodeB)]\n",
    "    nodes_4 = nodes_4.flatMap(lambda x: x)\n",
    "\n",
    "    for i in range(dist,0,-1):\n",
    "        \n",
    "        node_destination = nodes_4.filter(lambda x: x[2] == i and x[1] in [y for _,y in node_destination]).map(lambda x: (x[1], x[0])).collect()\n",
    "        path.append(node_destination)\n",
    "\n",
    "    return dist, path\n"
   ]
  },
  {
   "cell_type": "code",
   "execution_count": 686,
   "metadata": {
    "collapsed": false
   },
   "outputs": [
    {
     "name": "stdout",
     "output_type": "stream",
     "text": [
      "Distance: 4\n"
     ]
    },
    {
     "data": {
      "text/plain": [
       "(4, [[10], [(10, 7)], [(7, 4)], [(4, 1), (4, 2)], [(2, 3), (1, 3)]])"
      ]
     },
     "execution_count": 686,
     "metadata": {},
     "output_type": "execute_result"
    }
   ],
   "source": [
    "shortest_path(neighbor_graph,3,10)"
   ]
  },
  {
   "cell_type": "code",
   "execution_count": 680,
   "metadata": {
    "collapsed": false
   },
   "outputs": [
    {
     "name": "stdout",
     "output_type": "stream",
     "text": [
      "[(1, 1.0), (2, 1.0)] [(1, [2, 3, 4]), (2, [4, 5, 6])]\n"
     ]
    }
   ],
   "source": [
    "page_ranks = neighbor_graph.mapValues(lambda _: 1.0)\n",
    "print page_ranks.take(2), neighbor_graph.take(2)"
   ]
  },
  {
   "cell_type": "code",
   "execution_count": null,
   "metadata": {
    "collapsed": false
   },
   "outputs": [],
   "source": [
    "[a,b] = BFS(neighbor_graph, 7)\n",
    "print b.collect()"
   ]
  },
  {
   "cell_type": "code",
   "execution_count": 397,
   "metadata": {
    "collapsed": false
   },
   "outputs": [],
   "source": [
    "# shortest_path(Hero_graph,'CAPTAIN AMERICA', 'MAXWELL, MORRIS')"
   ]
  },
  {
   "cell_type": "code",
   "execution_count": 367,
   "metadata": {
    "collapsed": false
   },
   "outputs": [],
   "source": [
    "# nodes_4.take(2)"
   ]
  },
  {
   "cell_type": "code",
   "execution_count": 368,
   "metadata": {
    "collapsed": false
   },
   "outputs": [
    {
     "name": "stdout",
     "output_type": "stream",
     "text": [
      "['MAXWELL, MORRIS', [u'SPIDER-WOMAN II/JULI', u'SPIDER-MAN/PETER PAR', u'KWAN, TERRY', u'JAMESON, J. JONAH', u'ROBERTSON, JOE', u'TWAKI, DR. TED', u'SPIDER-WOMAN/JESSICA', u'LEEDS, BETTY BRANT', u'THORSON, DR. WALTER', u'ICEMAN/ROBERT BOBBY ', u'THOMPSON, EUGENE FLA', u'GREEN GOBLIN/NORMAN ', u'CALDRONE, JAVIER', u'URICH, BEN', u'SPIDER-MAN III/MARTH', u'WATSON-PARKER, MARY ', u'SKIN II/DONNA BLISS', u'JAMESON, MARLA MADIS'], ['CAPTAIN AMERICA']]\n"
     ]
    }
   ],
   "source": [
    "# node_destination = ['FORTUNE, DOMINIC']\n",
    "dist =2 \n",
    "path = ['MAXWELL, MORRIS']\n",
    "node_destination = ['MAXWELL, MORRIS']\n",
    "nodes_4 = nodes_4.flatMap(lambda x: x)\n",
    "\n",
    "for i in range(dist,0,-1):\n",
    "\n",
    "    node_destination = nodes_4.filter(lambda x: x[2] == i and x[1] in node_destination[:]).map(lambda x: x[0]).distinct().collect()\n",
    "    path.append(node_destination)\n",
    "    \n",
    "print path\n"
   ]
  },
  {
   "cell_type": "code",
   "execution_count": 370,
   "metadata": {
    "collapsed": false
   },
   "outputs": [],
   "source": [
    "test = sc.textFile('./P5/testdata.txt')"
   ]
  },
  {
   "cell_type": "code",
   "execution_count": 379,
   "metadata": {
    "collapsed": false
   },
   "outputs": [
    {
     "data": {
      "text/plain": [
       "[(u'QUESADA, JOE',\n",
       "  [u'ZURI',\n",
       "   u'GLADIATOR/MELVIN POT',\n",
       "   u'SMITH, KEVIN',\n",
       "   u'OKOYE',\n",
       "   u'PALMIOTTI, JIMMY',\n",
       "   u'MARTINEZ, ALITHA',\n",
       "   u'MYSTERIO/QUENTIN BEC',\n",
       "   u'WATSON-PARKER, MARY ',\n",
       "   u'SPIDER-MAN/PETER PAR',\n",
       "   u'MCKENZIE, LYDIA',\n",
       "   u'LAMY, KELLY',\n",
       "   u'URICH, BEN',\n",
       "   u\"BLACK PANTHER/T'CHAL\",\n",
       "   u'MR. FANTASTIC/REED R',\n",
       "   u'THING/BENJAMIN J. GR',\n",
       "   u'QUINN, ASHLEY',\n",
       "   u'CAPTAIN AMERICA',\n",
       "   u'MALICE V/NAKIA',\n",
       "   u'NELSON, CANDACE',\n",
       "   u'INVISIBLE WOMAN/SUE ',\n",
       "   u'BUTCH',\n",
       "   u'EIGHTBALL',\n",
       "   u'DAREDEVIL/MATT MURDO',\n",
       "   u'ROSS, EVERETT KENNET',\n",
       "   u'POTTER, BETSY BEATTY',\n",
       "   u'BLACK WIDOW/NATASHA ',\n",
       "   u'EVERETT, BILL',\n",
       "   u'BLAKE, BECKY',\n",
       "   u'DAKESIAN, NANCI',\n",
       "   u'SHARPE, ROSALINDE',\n",
       "   u'NELSON, FRANKLIN FOG',\n",
       "   u'MILLER, FRANK',\n",
       "   u'HUMAN TORCH/JOHNNY S',\n",
       "   u'OSBORN, LIZ ALLAN',\n",
       "   u'DR. STRANGE/STEPHEN ',\n",
       "   u'DARLA',\n",
       "   u'RALF',\n",
       "   u'PAGE, KAREN',\n",
       "   u'LEE, STAN']),\n",
       " (u'SARACEN',\n",
       "  [u'HOFFMAN, ALICE', u'MICROCHIP/LINUS LIEB', u'PUNISHER II/FRANK CA'])]"
      ]
     },
     "execution_count": 379,
     "metadata": {},
     "output_type": "execute_result"
    }
   ],
   "source": [
    "Hero_graph.take(2)"
   ]
  },
  {
   "cell_type": "code",
   "execution_count": 389,
   "metadata": {
    "collapsed": false
   },
   "outputs": [],
   "source": [
    "def link_string_to_KV(s):\n",
    "    src, dests = s.split(': ')\n",
    "    dests = [int(to) for to in dests.split(' ')]\n",
    "    return (int(src), dests)\n",
    "\n",
    "neighbor_graph = test.map(link_string_to_KV)"
   ]
  },
  {
   "cell_type": "code",
   "execution_count": 678,
   "metadata": {
    "collapsed": false
   },
   "outputs": [
    {
     "data": {
      "text/plain": [
       "[(1, [2, 3, 4]),\n",
       " (2, [4, 5, 6]),\n",
       " (3, [2, 1]),\n",
       " (4, [3, 5, 7]),\n",
       " (5, [4, 1, 9]),\n",
       " (6, [3, 2, 1]),\n",
       " (7, [9, 10, 2]),\n",
       " (8, [1, 2, 3, 4, 5, 6]),\n",
       " (9, [8, 7, 6, 5, 4, 3, 2]),\n",
       " (10, [7, 1, 9])]"
      ]
     },
     "execution_count": 678,
     "metadata": {},
     "output_type": "execute_result"
    }
   ],
   "source": [
    "neighbor_graph.collect()"
   ]
  },
  {
   "cell_type": "code",
   "execution_count": 485,
   "metadata": {
    "collapsed": false
   },
   "outputs": [],
   "source": [
    "page_names = sc.textFile('./P5/pages.txt')"
   ]
  },
  {
   "cell_type": "code",
   "execution_count": 498,
   "metadata": {
    "collapsed": true
   },
   "outputs": [],
   "source": [
    "page_names = page_names.zipWithIndex().map(lambda (n, id): (id + 1, n))\n",
    "page_names = page_names.sortByKey().cache()"
   ]
  },
  {
   "cell_type": "code",
   "execution_count": 480,
   "metadata": {
    "collapsed": false
   },
   "outputs": [],
   "source": [
    "page_names = page_names.zipWithIndex().map(lambda x:(x[0],x[1]+1))"
   ]
  },
  {
   "cell_type": "code",
   "execution_count": 486,
   "metadata": {
    "collapsed": false
   },
   "outputs": [],
   "source": [
    "page_names = page_names.zipWithIndex().map(lambda x:(x[0],x[1]+1))\n",
    "\n",
    "Kevin = page_names.lookup('Kevin Bacon')[0]\n",
    "Harvard = page_names.lookup('Harvard University')[0]\n"
   ]
  },
  {
   "cell_type": "code",
   "execution_count": 501,
   "metadata": {
    "collapsed": false
   },
   "outputs": [],
   "source": [
    "def transformToWords(b):\n",
    "    path = []\n",
    "    for i in b:\n",
    "        if len(i)>1:\n",
    "\n",
    "            path.append([page_names.lookup(j)[0] for j in i])\n",
    "        else:\n",
    "            path.append(page_names.lookup(i[0])[0])\n",
    "    return path"
   ]
  },
  {
   "cell_type": "code",
   "execution_count": 503,
   "metadata": {
    "collapsed": false
   },
   "outputs": [
    {
     "name": "stdout",
     "output_type": "stream",
     "text": [
      "Distance: 3\n"
     ]
    }
   ],
   "source": [
    "[a,b] =shortest_path(neighbor_graph,Kevin,Harvard)"
   ]
  },
  {
   "cell_type": "code",
   "execution_count": 504,
   "metadata": {
    "collapsed": false
   },
   "outputs": [
    {
     "data": {
      "text/plain": [
       "[(u'Harvard University', 10),\n",
       " (u'plapla', 7),\n",
       " [(u'una', 4), (u'mazapan', 9)],\n",
       " (u'Kevin Bacon', 5)]"
      ]
     },
     "execution_count": 504,
     "metadata": {},
     "output_type": "execute_result"
    }
   ],
   "source": [
    "# print b\n",
    "transformToWords(b)"
   ]
  },
  {
   "cell_type": "code",
   "execution_count": 473,
   "metadata": {
    "collapsed": true
   },
   "outputs": [],
   "source": [
    "test_number = test.zipWithIndex().map(lambda (n, id): (id + 1, n))\n",
    "test_number = test_number.sortByKey().cache()"
   ]
  },
  {
   "cell_type": "code",
   "execution_count": 475,
   "metadata": {
    "collapsed": false
   },
   "outputs": [
    {
     "data": {
      "text/plain": [
       "[u'1: 2 3 4',\n",
       " u'2: 4 5 6',\n",
       " u'3: 2 1',\n",
       " u'4: 3 5 7',\n",
       " u'5: 4 1 9',\n",
       " u'6: 3 2 1',\n",
       " u'7: 9 10 2',\n",
       " u'8: 1 2 3 4 5 6',\n",
       " u'9: 8 7 6 5 4 3 2',\n",
       " u'10: 7 1 9']"
      ]
     },
     "execution_count": 475,
     "metadata": {},
     "output_type": "execute_result"
    }
   ],
   "source": [
    "test.collect"
   ]
  },
  {
   "cell_type": "markdown",
   "metadata": {},
   "source": [
    "##PROBLEM 6"
   ]
  },
  {
   "cell_type": "code",
   "execution_count": 279,
   "metadata": {
    "collapsed": true
   },
   "outputs": [],
   "source": [
    "text = sc.textFile('./P6/Shakespeare.txt')"
   ]
  },
  {
   "cell_type": "code",
   "execution_count": 384,
   "metadata": {
    "collapsed": false
   },
   "outputs": [],
   "source": [
    "\n",
    "parsed_text = text.flatMap(lambda x: x.split(\" \")).filter(lambda i: not str.isdigit(i.encode('ascii','ignore'))).filter(lambda j: not j.isupper()).filter(lambda k: not k=='')\n",
    "\n",
    "# text.map(lambda x: x.split(' ')).collect()"
   ]
  },
  {
   "cell_type": "code",
   "execution_count": 698,
   "metadata": {
    "collapsed": false
   },
   "outputs": [
    {
     "data": {
      "text/plain": [
       "[u'The',\n",
       " u'Project',\n",
       " u'Gutenberg',\n",
       " u'EBook',\n",
       " u'of',\n",
       " u'The',\n",
       " u'Complete',\n",
       " u'Works',\n",
       " u'of',\n",
       " u'William']"
      ]
     },
     "execution_count": 698,
     "metadata": {},
     "output_type": "execute_result"
    }
   ],
   "source": [
    "parsed_text.take(10)"
   ]
  },
  {
   "cell_type": "code",
   "execution_count": 386,
   "metadata": {
    "collapsed": false
   },
   "outputs": [],
   "source": [
    "parsed_text1 = parsed_text.zipWithIndex()\n",
    "parsed_text2 = parsed_text.zipWithIndex()\n",
    "parsed_text3 = parsed_text.zipWithIndex()"
   ]
  },
  {
   "cell_type": "code",
   "execution_count": 387,
   "metadata": {
    "collapsed": false
   },
   "outputs": [],
   "source": [
    "parsed_text1 = parsed_text1.map(lambda x: (x[1],x[0]))\n",
    "parsed_text2 = parsed_text2.map(lambda x: (x[1]+1,x[0]))\n",
    "parsed_text3 = parsed_text3.map(lambda x: (x[1]+2,x[0]))"
   ]
  },
  {
   "cell_type": "code",
   "execution_count": 388,
   "metadata": {
    "collapsed": false
   },
   "outputs": [
    {
     "data": {
      "text/plain": [
       "[(0, u'The'),\n",
       " (1, u'Project'),\n",
       " (2, u'Gutenberg'),\n",
       " (3, u'EBook'),\n",
       " (4, u'of'),\n",
       " (5, u'The'),\n",
       " (6, u'Complete'),\n",
       " (7, u'Works'),\n",
       " (8, u'of'),\n",
       " (9, u'William')]"
      ]
     },
     "execution_count": 388,
     "metadata": {},
     "output_type": "execute_result"
    }
   ],
   "source": [
    "parsed_text1.take(10)"
   ]
  },
  {
   "cell_type": "code",
   "execution_count": 389,
   "metadata": {
    "collapsed": false
   },
   "outputs": [],
   "source": [
    "joined_23 = parsed_text3.join(parsed_text2)"
   ]
  },
  {
   "cell_type": "code",
   "execution_count": 390,
   "metadata": {
    "collapsed": false
   },
   "outputs": [
    {
     "data": {
      "text/plain": [
       "[(524288, (u'rather,', u'do')),\n",
       " (786432, (u\"cherish'd,\", u'kept')),\n",
       " (4, (u'Gutenberg', u'EBook')),\n",
       " (8, (u'Complete', u'Works')),\n",
       " (174764, (u'things', u'in'))]"
      ]
     },
     "execution_count": 390,
     "metadata": {},
     "output_type": "execute_result"
    }
   ],
   "source": [
    "joined_23.take(5)"
   ]
  },
  {
   "cell_type": "code",
   "execution_count": 391,
   "metadata": {
    "collapsed": true
   },
   "outputs": [],
   "source": [
    "joined123 = joined_23.join(parsed_text1)"
   ]
  },
  {
   "cell_type": "code",
   "execution_count": 395,
   "metadata": {
    "collapsed": false
   },
   "outputs": [],
   "source": [
    "joined123_2 = joined123.values()"
   ]
  },
  {
   "cell_type": "code",
   "execution_count": 396,
   "metadata": {
    "collapsed": false
   },
   "outputs": [
    {
     "data": {
      "text/plain": [
       "[((u\"cherish'd,\", u'kept'), u'alive.'),\n",
       " ((u'shine', u'on'), u'my'),\n",
       " ((u'plainest', u'truth'), u'Tell'),\n",
       " ((u'of', u'The'), u'Complete'),\n",
       " ((u'whilst', u'waited'), u'on'),\n",
       " ((u'nor', u'cannot'), u'love'),\n",
       " ((u'Shakespeare,', u'by'), u'William'),\n",
       " ((u'And', u'to'), u\"sun's\"),\n",
       " ((u'for', u'that'), u'do'),\n",
       " ((u'is', u'for'), u'the')]"
      ]
     },
     "execution_count": 396,
     "metadata": {},
     "output_type": "execute_result"
    }
   ],
   "source": [
    "joined123_2.take(10)"
   ]
  },
  {
   "cell_type": "code",
   "execution_count": 433,
   "metadata": {
    "collapsed": false
   },
   "outputs": [],
   "source": [
    "joined123_3 = joined123_2.groupByKey().map(lambda x: (x[0], list(x[1])))"
   ]
  },
  {
   "cell_type": "code",
   "execution_count": 697,
   "metadata": {
    "collapsed": false
   },
   "outputs": [
    {
     "data": {
      "text/plain": [
       "[((u'meantime,', u'lady,'), [u\"I'll\"]),\n",
       " ((u\"worship's\", u'friend,'), [u'and']),\n",
       " ((u'not', u'feast'), [u'him']),\n",
       " ((u'art', u\"stall'd\"), [u'in']),\n",
       " ((u'Exit', u'Hast'), [u'thou']),\n",
       " ((u'every', u'beardless'), [u'vain']),\n",
       " ((u'me,', u'sir!'), [u'bespoke', u'for']),\n",
       " ((u'less', u'loyal,'), [u'Nearer']),\n",
       " ((u'their', u'fellows'), [u'do.']),\n",
       " ((u'render', u'what'), [u'we'])]"
      ]
     },
     "execution_count": 697,
     "metadata": {},
     "output_type": "execute_result"
    }
   ],
   "source": [
    "joined123_3.take(10)"
   ]
  },
  {
   "cell_type": "code",
   "execution_count": 457,
   "metadata": {
    "collapsed": false
   },
   "outputs": [],
   "source": [
    "def counter(list):\n",
    "    \n",
    "    d={}\n",
    "    for i in list:       \n",
    "        d[i] = list.count(i)\n",
    "    return d\n",
    "\n",
    "joined123_4 = joined123_3.map(lambda x: (x[0], counter(x[1])))"
   ]
  },
  {
   "cell_type": "code",
   "execution_count": 696,
   "metadata": {
    "collapsed": false
   },
   "outputs": [
    {
     "data": {
      "text/plain": [
       "[((u'meantime,', u'lady,'), {u\"I'll\": 1}),\n",
       " ((u\"worship's\", u'friend,'), {u'and': 1}),\n",
       " ((u'not', u'feast'), {u'him': 1}),\n",
       " ((u'art', u\"stall'd\"), {u'in': 1}),\n",
       " ((u'Exit', u'Hast'), {u'thou': 1}),\n",
       " ((u'every', u'beardless'), {u'vain': 1}),\n",
       " ((u'me,', u'sir!'), {u'bespoke': 1, u'for': 1}),\n",
       " ((u'less', u'loyal,'), {u'Nearer': 1}),\n",
       " ((u'their', u'fellows'), {u'do.': 1}),\n",
       " ((u'render', u'what'), {u'we': 1})]"
      ]
     },
     "execution_count": 696,
     "metadata": {},
     "output_type": "execute_result"
    }
   ],
   "source": [
    "joined123_4.take(10)"
   ]
  },
  {
   "cell_type": "code",
   "execution_count": 694,
   "metadata": {
    "collapsed": false
   },
   "outputs": [
    {
     "name": "stdout",
     "output_type": "stream",
     "text": [
      "too peregrinate, as may unworthiness define, little touch of love. second time kill my husband he is very easy. You\n",
      "His fairest daughter and will repute you ever wed! These boys know little they are harsh, untuneable, and bad. And\n",
      "tidings to this fortune that must go through. We must both work Ere this rude assault? Villain, thy own life's\n",
      "will commend you to it? Wor. Your father's heir and only son; If may be censured, that nature that in\n",
      "reckon, he to Hecuba, That he hath neither claim'd it nor can Her heart inform her tongue- the swan's black\n",
      "And seem'd to tell you. We are shame-proof, my lord, Was betroth'd ere saw Hermia. But, like a gate of\n",
      "Bellario, a learned man? Yes, surely. Believe me, sir, the better man; For since these arms commence, Fondly brought here,\n",
      "tongues. Well, I'll hear his monstrous devices. Prince. villain! thou beliest thyself. Here stand we both, and will never fail\n",
      "of this; And now, methinks, Thy favour's good enough. As for thee, and her Romeo. Exeunt omnes. 1990-1993 (1) (2)\n",
      "bestow. And will stoop and humble mind. Were a sufficient briber for his sake.' blame not her: she bore in\n"
     ]
    }
   ],
   "source": [
    "all_phrases = []\n",
    "for j in xrange(10):\n",
    "    \n",
    "\n",
    "    starting_words = joined123_4.takeSample(False, 1, int(np.random.uniform(0,100000,1)))\n",
    "    phrase = []\n",
    "    w1,w2 = starting_words[0][0]\n",
    "    phrase.append(w1)\n",
    "    phrase.append(w2)\n",
    "    #We make a list with the possible third words weighted by their number of ocurrences\n",
    "    new_list = sum([([k[0]]*k[1]) for k in starting_words[0][1].items()],[])\n",
    "    phrase.append(np.random.choice(new_list))\n",
    "    \n",
    "    for i in xrange(17):\n",
    "\n",
    "        starting_words = joined123_4.lookup((phrase[i+1],phrase[i+2]))\n",
    "        new_list = sum([([k[0]]*k[1]) for k in starting_words[0].items()],[])\n",
    "        phrase.append(np.random.choice(new_list))\n",
    "        \n",
    "    all_phrases.append(' '.join(phrase))\n",
    "    print ' '.join(phrase)\n"
   ]
  },
  {
   "cell_type": "code",
   "execution_count": null,
   "metadata": {
    "collapsed": true
   },
   "outputs": [],
   "source": []
  }
 ],
 "metadata": {
  "kernelspec": {
   "display_name": "Python 2",
   "language": "python",
   "name": "python2"
  },
  "language_info": {
   "codemirror_mode": {
    "name": "ipython",
    "version": 2
   },
   "file_extension": ".py",
   "mimetype": "text/x-python",
   "name": "python",
   "nbconvert_exporter": "python",
   "pygments_lexer": "ipython2",
   "version": "2.7.10"
  }
 },
 "nbformat": 4,
 "nbformat_minor": 0
}
