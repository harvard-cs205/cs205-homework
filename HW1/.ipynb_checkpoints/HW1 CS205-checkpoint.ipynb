{
 "cells": [
  {
   "cell_type": "code",
   "execution_count": 1,
   "metadata": {
    "collapsed": true
   },
   "outputs": [],
   "source": [
    "%matplotlib inline"
   ]
  },
  {
   "cell_type": "code",
   "execution_count": 2,
   "metadata": {
    "collapsed": false
   },
   "outputs": [
    {
     "data": {
      "text/plain": [
       "<function findspark.init>"
      ]
     },
     "execution_count": 2,
     "metadata": {},
     "output_type": "execute_result"
    }
   ],
   "source": [
    "import findspark\n",
    "findspark.init"
   ]
  },
  {
   "cell_type": "code",
   "execution_count": 3,
   "metadata": {
    "collapsed": true
   },
   "outputs": [],
   "source": [
    "import numpy as np\n",
    "import matplotlib.pyplot as plt \n",
    "import matplotlib.cm as cm"
   ]
  },
  {
   "cell_type": "markdown",
   "metadata": {},
   "source": [
    "##PROBLEM 1"
   ]
  },
  {
   "cell_type": "code",
   "execution_count": 4,
   "metadata": {
    "collapsed": true
   },
   "outputs": [],
   "source": [
    "def mandelbrot(x, y):\n",
    "    z = c = complex(x, y)\n",
    "    iteration = 0\n",
    "    max_iteration = 511  # arbitrary cutoff\n",
    "    while abs(z) < 2 and iteration < max_iteration:\n",
    "        z = z * z + c\n",
    "        iteration += 1\n",
    "    return iteration\n",
    "\n",
    "def sum_values_for_partitions(rdd):\n",
    "    'Returns (as an RDD) the sum of V for each partition of a (K, V) RDD'\n",
    "    # note that the function passed to mapPartitions should return a sequence,\n",
    "    # not a value.\n",
    "    return rdd.mapPartitions(lambda part: [sum(V for K, V in part)])\n",
    "\n",
    "def draw_image(rdd):\n",
    "    '''Given a (K, V) RDD with K = (I, J) and V = count,\n",
    "    display an image of count at each I, J'''\n",
    "\n",
    "    data = rdd.collect()\n",
    "    I = np.array([d[0][0] for d in data])\n",
    "    J = np.array([d[0][1] for d in data])\n",
    "    C = np.array([d[1] for d in data])\n",
    "    im = np.zeros((I.max() + 1, J.max() + 1))\n",
    "    im[I, J] = np.log(C + 1)  # log intensity makes it easier to see levels\n",
    "    plt.imshow(im, cmap=cm.gray)\n",
    "    plt.show()"
   ]
  },
  {
   "cell_type": "code",
   "execution_count": 5,
   "metadata": {
    "collapsed": false
   },
   "outputs": [],
   "source": [
    "tuples = []\n",
    "for i in xrange(2000):\n",
    "    for j in xrange(2000):\n",
    "        tuples.append((i,j))"
   ]
  },
  {
   "cell_type": "code",
   "execution_count": 6,
   "metadata": {
    "collapsed": false
   },
   "outputs": [],
   "source": [
    "partitions = sc.parallelize(tuples, 100).map(lambda xy: (xy, mandelbrot((xy[1]/500.0)-2,(xy[0]/500.0)-2)))"
   ]
  },
  {
   "cell_type": "code",
   "execution_count": null,
   "metadata": {
    "collapsed": false
   },
   "outputs": [],
   "source": [
    "draw_image(partitions)"
   ]
  },
  {
   "cell_type": "code",
   "execution_count": 102,
   "metadata": {
    "collapsed": false
   },
   "outputs": [
    {
     "data": {
      "text/plain": [
       "(array([ 60.,   8.,   2.,   0.,   4.,   8.,   4.,   2.,   4.,   8.]),\n",
       " array([  5.10100000e+03,   8.81806900e+05,   1.75851280e+06,\n",
       "          2.63521870e+06,   3.51192460e+06,   4.38863050e+06,\n",
       "          5.26533640e+06,   6.14204230e+06,   7.01874820e+06,\n",
       "          7.89545410e+06,   8.77216000e+06]),\n",
       " <a list of 10 Patch objects>)"
      ]
     },
     "execution_count": 102,
     "metadata": {},
     "output_type": "execute_result"
    },
    {
     "data": {
      "image/png": "[encoded data removed]",
      "text/plain": [
       "<matplotlib.figure.Figure at 0x150a26190>"
      ]
     },
     "metadata": {},
     "output_type": "display_data"
    }
   ],
   "source": [
    "plt.hist((sum_values_for_partitions(partitions)).collect())"
   ]
  },
  {
   "cell_type": "code",
   "execution_count": 57,
   "metadata": {
    "collapsed": false
   },
   "outputs": [
    {
     "data": {
      "text/plain": [
       "12"
      ]
     },
     "execution_count": 57,
     "metadata": {},
     "output_type": "execute_result"
    }
   ],
   "source": [
    "partitions2 = sc.parallelize([0, 1999])"
   ]
  },
  {
   "cell_type": "code",
   "execution_count": 12,
   "metadata": {
    "collapsed": false
   },
   "outputs": [],
   "source": [
    "import random\n",
    "\n",
    "# random.randrange(0, 100, 1)\n",
    "# partitions2 = sc.parallelize(tuples).map(lambda xy: (xy, mandelbrot((xy[0]/500.0)-2,(xy[1]/500.0)-2))).partitionBy(100, lambda xy: int(np.sqrt((xy[0]-1000)**2 + (xy[1]-1000)**2)) % 100)\n"
   ]
  },
  {
   "cell_type": "code",
   "execution_count": 13,
   "metadata": {
    "collapsed": true
   },
   "outputs": [],
   "source": [
    "# random.randrange(0, 100, 1)\n",
    "# partitions2 = sc.parallelize([0, 1999])\n",
    "# partitions2 = sc.parallelize(partitions2.cartesian(partitions2).collect()).map(lambda xy: (xy, mandelbrot((xy[0]/500.0)-2,(xy[1]/500.0)-2))).partitionBy(100, lambda xy: random.randrange(0, 100, 1))\n",
    "partitions2 = sc.parallelize(tuples).map(lambda xy: (xy, mandelbrot((xy[1]/500.0)-2,(xy[0]/500.0)-2))).partitionBy(100, lambda xy: random.randrange(0, 100, 1))\n"
   ]
  },
  {
   "cell_type": "code",
   "execution_count": 14,
   "metadata": {
    "collapsed": false
   },
   "outputs": [
    {
     "data": {
      "text/plain": [
       "[((0, 298), 0),\n",
       " ((0, 320), 0),\n",
       " ((0, 394), 0),\n",
       " ((0, 425), 0),\n",
       " ((0, 440), 0),\n",
       " ((0, 461), 0),\n",
       " ((0, 493), 0),\n",
       " ((0, 544), 0),\n",
       " ((0, 587), 0),\n",
       " ((0, 667), 0)]"
      ]
     },
     "execution_count": 14,
     "metadata": {},
     "output_type": "execute_result"
    }
   ],
   "source": [
    "partitions2.take(10)"
   ]
  },
  {
   "cell_type": "code",
   "execution_count": 107,
   "metadata": {
    "collapsed": false
   },
   "outputs": [
    {
     "data": {
      "image/png": "[encoded data removed]",
      "text/plain": [
       "<matplotlib.figure.Figure at 0x165810310>"
      ]
     },
     "metadata": {},
     "output_type": "display_data"
    },
    {
     "data": {
      "text/plain": [
       "(array([  2.,   7.,   9.,  18.,  18.,  14.,  21.,   7.,   2.,   2.]),\n",
       " array([ 1957052.,  1971817.,  1986582.,  2001347.,  2016112.,  2030877.,\n",
       "         2045642.,  2060407.,  2075172.,  2089937.,  2104702.]),\n",
       " <a list of 10 Patch objects>)"
      ]
     },
     "execution_count": 107,
     "metadata": {},
     "output_type": "execute_result"
    },
    {
     "data": {
      "image/png": "[encoded data removed]",
      "text/plain": [
       "<matplotlib.figure.Figure at 0x16b7a9e90>"
      ]
     },
     "metadata": {},
     "output_type": "display_data"
    }
   ],
   "source": [
    "draw_image(partitions2)\n",
    "plt.hist((sum_values_for_partitions(partitions2)).collect())"
   ]
  },
  {
   "cell_type": "markdown",
   "metadata": {},
   "source": [
    "##PROBLEM 3"
   ]
  },
  {
   "cell_type": "code",
   "execution_count": 84,
   "metadata": {
    "collapsed": false
   },
   "outputs": [],
   "source": [
    "wlist = sc.textFile('./P3/EOWL_words.txt')"
   ]
  },
  {
   "cell_type": "code",
   "execution_count": 85,
   "metadata": {
    "collapsed": false
   },
   "outputs": [],
   "source": [
    "wlist2 = wlist.map(lambda line: (''.join(sorted(line)), (line)))"
   ]
  },
  {
   "cell_type": "code",
   "execution_count": 89,
   "metadata": {
    "collapsed": false
   },
   "outputs": [],
   "source": [
    "wlist3 = wlist2.groupByKey().mapValues(lambda x: [i for i in x ]).map(lambda y: (y[0],len(y[1]),y[1]))"
   ]
  },
  {
   "cell_type": "code",
   "execution_count": 1291,
   "metadata": {
    "collapsed": false
   },
   "outputs": [
    {
     "data": {
      "text/plain": [
       "[(u'aacikrtu', 1, [u'autarkic']),\n",
       " (u'aerrs', 2, [u'rears', u'serra']),\n",
       " (u'eiilrsttw', 1, [u'twirliest']),\n",
       " (u'eiills', 1, [u'lilies']),\n",
       " (u'ceilnrstu', 1, [u'linctures']),\n",
       " (u'iilps', 1, [u'pilis']),\n",
       " (u'dgiinoww', 1, [u'widowing']),\n",
       " (u'ehostw', 1, [u'theows']),\n",
       " (u'deinnru', 1, [u'inurned']),\n",
       " (u'degillnw', 1, [u'dwelling'])]"
      ]
     },
     "execution_count": 1291,
     "metadata": {},
     "output_type": "execute_result"
    }
   ],
   "source": [
    "wlist3.take(10)"
   ]
  },
  {
   "cell_type": "code",
   "execution_count": 93,
   "metadata": {
    "collapsed": false
   },
   "outputs": [
    {
     "data": {
      "text/plain": [
       "[(u'aerst',\n",
       "  11,\n",
       "  [u'arets',\n",
       "   u'aster',\n",
       "   u'rates',\n",
       "   u'reast',\n",
       "   u'resat',\n",
       "   u'stare',\n",
       "   u'stear',\n",
       "   u'strae',\n",
       "   u'tares',\n",
       "   u'tears',\n",
       "   u'teras'])]"
      ]
     },
     "execution_count": 93,
     "metadata": {},
     "output_type": "execute_result"
    }
   ],
   "source": [
    "#We find the combination of letters with more annagrams\n",
    "wlist3.takeOrdered(1,lambda x: -x[1])"
   ]
  },
  {
   "cell_type": "markdown",
   "metadata": {},
   "source": [
    "##PROBLEM 4"
   ]
  },
  {
   "cell_type": "code",
   "execution_count": 301,
   "metadata": {
    "collapsed": true
   },
   "outputs": [],
   "source": [
    "superheroes = sc.textFile('./P4/source.csv')"
   ]
  },
  {
   "cell_type": "code",
   "execution_count": 300,
   "metadata": {
    "collapsed": false
   },
   "outputs": [
    {
     "data": {
      "text/plain": [
       "[u'\"FROST, CARMILLA\",\"AA2 35\"',\n",
       " u'\"KILLRAVEN/JONATHAN R\",\"AA2 35\"',\n",
       " u'\"M\\'SHULLA\",\"AA2 35\"']"
      ]
     },
     "execution_count": 300,
     "metadata": {},
     "output_type": "execute_result"
    }
   ],
   "source": [
    "superheroes.take(3)"
   ]
  },
  {
   "cell_type": "code",
   "execution_count": 302,
   "metadata": {
    "collapsed": false
   },
   "outputs": [],
   "source": [
    "ByArticle = superheroes.map(lambda line: (line.split('\",\"')[1][:-1], line.split('\",\"')[0][1:]))"
   ]
  },
  {
   "cell_type": "code",
   "execution_count": 19,
   "metadata": {
    "collapsed": false
   },
   "outputs": [
    {
     "data": {
      "text/plain": [
       "[(u'AA2 35', u'FROST, CARMILLA'),\n",
       " (u'AA2 35', u'KILLRAVEN/JONATHAN R'),\n",
       " (u'AA2 35', u\"M'SHULLA\")]"
      ]
     },
     "execution_count": 19,
     "metadata": {},
     "output_type": "execute_result"
    }
   ],
   "source": [
    "ByArticle.take(3)"
   ]
  },
  {
   "cell_type": "code",
   "execution_count": 303,
   "metadata": {
    "collapsed": false
   },
   "outputs": [],
   "source": [
    "joined = ByArticle.join(ByArticle).values().groupByKey()"
   ]
  },
  {
   "cell_type": "code",
   "execution_count": 21,
   "metadata": {
    "collapsed": false
   },
   "outputs": [
    {
     "data": {
      "text/plain": [
       "[(u'QUESADA, JOE', <pyspark.resultiterable.ResultIterable at 0x11dca1bd0>),\n",
       " (u'SARACEN', <pyspark.resultiterable.ResultIterable at 0x11dca1b10>),\n",
       " (u'DREAMING CELESTIAL/T',\n",
       "  <pyspark.resultiterable.ResultIterable at 0x11dca1890>)]"
      ]
     },
     "execution_count": 21,
     "metadata": {},
     "output_type": "execute_result"
    }
   ],
   "source": [
    "joined.take(3)"
   ]
  },
  {
   "cell_type": "code",
   "execution_count": 304,
   "metadata": {
    "collapsed": false
   },
   "outputs": [],
   "source": [
    "def remove_member(setHeroes, member):\n",
    "    setHeroes.remove(member)\n",
    "    return list(setHeroes)\n",
    "\n",
    "Hero_graph = joined.map(lambda x: (x[0], remove_member(set(x[1]),x[0])))"
   ]
  },
  {
   "cell_type": "code",
   "execution_count": 125,
   "metadata": {
    "collapsed": false
   },
   "outputs": [],
   "source": [
    "def BFS(nodes):\n",
    "    \n",
    "    #We set the starting node to have distance = 0 \n",
    "    dic = {nodes[0]:0}\n",
    "\n",
    "    for distance in range(10):\n",
    "        neighbors = Hero_graph.filter(lambda x:  x[0] in nodes).flatMap(lambda x: x[1])\n",
    "        unique_neighbors = neighbors.distinct().filter(lambda x: x not in dic)\n",
    "        nodes = unique_neighbors.collect()\n",
    "        BFS = [(x, distance +1) for x in nodes]\n",
    "        dic = dict(dic.items() +  (BFS))                \n",
    "    return dic\n"
   ]
  },
  {
   "cell_type": "code",
   "execution_count": 272,
   "metadata": {
    "collapsed": false
   },
   "outputs": [
    {
     "name": "stdout",
     "output_type": "stream",
     "text": [
      "9 {u'LUDLUM, ROSS': 1, u'HOFFMAN': 1, u'ASHER, CARL': 1, u'ASHER, DONNA': 1, u'FAGIN': 1, u'OSWALD': 1, 'ORWELL': 0, u'ASHER, MICHAEL': 1, u'NILES, SEN. CATHERIN': 1}\n"
     ]
    }
   ],
   "source": [
    "dic = BFS(['ORWELL'])   #'MISS THING/MARY' 'CAPTAIN AMERICA'\n",
    "# print dic\n",
    "print len(dic.values()), dic"
   ]
  },
  {
   "cell_type": "code",
   "execution_count": 336,
   "metadata": {
    "collapsed": false
   },
   "outputs": [
    {
     "name": "stdout",
     "output_type": "stream",
     "text": [
      "CHAR SIZE:  1907\n",
      "NODES ADDED:  1906\n",
      "CHAR SIZE:  6370\n",
      "NODES ADDED:  4463\n",
      "CHAR SIZE:  6408\n",
      "NODES ADDED:  38\n",
      "CHAR SIZE:  6408\n",
      "NODES ADDED:  0\n"
     ]
    }
   ],
   "source": [
    "def filterer(i):\n",
    "    def filt(x):\n",
    "        return x==itr_acc.value\n",
    "    return filt\n",
    "\n",
    "def get_first_non_empty_cogroup(x2):\n",
    "    for elem in x2:\n",
    "        elem = list(elem)\n",
    "        if len(elem) > 0:\n",
    "            return elem[0]\n",
    "\n",
    "# def BFS2(nodes):\n",
    "    \n",
    "    #We set the starting node to have distance = 0 \n",
    "nodes = sc.parallelize([('CAPTAIN AMERICA', 1)])\n",
    "\n",
    "a = a.map(lambda x: (x[0], (list(x[1][0]))[0], (list(x[1][1]))))\n",
    "\n",
    "total_char_acc = sc.accumulator(1)\n",
    "it_acc = sc.accumulator(0)\n",
    "\n",
    "while True:\n",
    "    it_acc += 1\n",
    "    dist = it_acc.value\n",
    "    #     nodes = a.filter(lambda x: x[2] == [dist]).flatMap(lambda x: [(i, dist + 1) for i in x[1]]).distinct()\n",
    "    nodes_2 = nodes.filter(lambda x: filterer(x[1])).join(Hero_graph).flatMap(lambda x: x[1][1]).distinct().map(lambda x: (x, dist + 1))\n",
    "    nodes = nodes.cogroup(nodes_2).map(lambda x: (x[0], get_first_non_empty_cogroup(list(x[1]))))\n",
    "    \n",
    "    print \"CHAR SIZE: \", nodes.count()\n",
    "    print \"NODES ADDED: \", nodes.count() - total_char_acc.value\n",
    "    \n",
    "    if nodes.count() == total_char_acc.value:\n",
    "        break\n",
    "    \n",
    "    total_char_acc += nodes.count() - total_char_acc.value\n",
    "\n",
    "\n",
    "    \n",
    "#     print a.map(lambda x: list(x[1][1])).collect()\n",
    "    \n",
    "#     print a.filter(lambda x: x[2] == [dist])\n",
    "\n",
    "# print a.filter(lambda x: x[2] != []).map(lambda x: (x[1], x[2])).collect()\n",
    "# nodes.keys().collect()\n",
    "\n",
    "# nodes.collect()"
   ]
  },
  {
   "cell_type": "code",
   "execution_count": null,
   "metadata": {
    "collapsed": false
   },
   "outputs": [],
   "source": [
    "a.collect()"
   ]
  },
  {
   "cell_type": "markdown",
   "metadata": {},
   "source": [
    "##PROBLEM 6"
   ]
  },
  {
   "cell_type": "code",
   "execution_count": 279,
   "metadata": {
    "collapsed": true
   },
   "outputs": [],
   "source": [
    "text = sc.textFile('./P6/Shakespeare.txt')"
   ]
  },
  {
   "cell_type": "code",
   "execution_count": 384,
   "metadata": {
    "collapsed": false
   },
   "outputs": [],
   "source": [
    "\n",
    "parsed_text = text.flatMap(lambda x: x.split(\" \")).filter(lambda i: not str.isdigit(i.encode('ascii','ignore'))).filter(lambda j: not j.isupper()).filter(lambda k: not k=='')\n",
    "\n",
    "# text.map(lambda x: x.split(' ')).collect()"
   ]
  },
  {
   "cell_type": "code",
   "execution_count": 698,
   "metadata": {
    "collapsed": false
   },
   "outputs": [
    {
     "data": {
      "text/plain": [
       "[u'The',\n",
       " u'Project',\n",
       " u'Gutenberg',\n",
       " u'EBook',\n",
       " u'of',\n",
       " u'The',\n",
       " u'Complete',\n",
       " u'Works',\n",
       " u'of',\n",
       " u'William']"
      ]
     },
     "execution_count": 698,
     "metadata": {},
     "output_type": "execute_result"
    }
   ],
   "source": [
    "parsed_text.take(10)"
   ]
  },
  {
   "cell_type": "code",
   "execution_count": 386,
   "metadata": {
    "collapsed": false
   },
   "outputs": [],
   "source": [
    "parsed_text1 = parsed_text.zipWithIndex()\n",
    "parsed_text2 = parsed_text.zipWithIndex()\n",
    "parsed_text3 = parsed_text.zipWithIndex()"
   ]
  },
  {
   "cell_type": "code",
   "execution_count": 387,
   "metadata": {
    "collapsed": false
   },
   "outputs": [],
   "source": [
    "parsed_text1 = parsed_text1.map(lambda x: (x[1],x[0]))\n",
    "parsed_text2 = parsed_text2.map(lambda x: (x[1]+1,x[0]))\n",
    "parsed_text3 = parsed_text3.map(lambda x: (x[1]+2,x[0]))"
   ]
  },
  {
   "cell_type": "code",
   "execution_count": 388,
   "metadata": {
    "collapsed": false
   },
   "outputs": [
    {
     "data": {
      "text/plain": [
       "[(0, u'The'),\n",
       " (1, u'Project'),\n",
       " (2, u'Gutenberg'),\n",
       " (3, u'EBook'),\n",
       " (4, u'of'),\n",
       " (5, u'The'),\n",
       " (6, u'Complete'),\n",
       " (7, u'Works'),\n",
       " (8, u'of'),\n",
       " (9, u'William')]"
      ]
     },
     "execution_count": 388,
     "metadata": {},
     "output_type": "execute_result"
    }
   ],
   "source": [
    "parsed_text1.take(10)"
   ]
  },
  {
   "cell_type": "code",
   "execution_count": 389,
   "metadata": {
    "collapsed": false
   },
   "outputs": [],
   "source": [
    "joined_23 = parsed_text3.join(parsed_text2)"
   ]
  },
  {
   "cell_type": "code",
   "execution_count": 390,
   "metadata": {
    "collapsed": false
   },
   "outputs": [
    {
     "data": {
      "text/plain": [
       "[(524288, (u'rather,', u'do')),\n",
       " (786432, (u\"cherish'd,\", u'kept')),\n",
       " (4, (u'Gutenberg', u'EBook')),\n",
       " (8, (u'Complete', u'Works')),\n",
       " (174764, (u'things', u'in'))]"
      ]
     },
     "execution_count": 390,
     "metadata": {},
     "output_type": "execute_result"
    }
   ],
   "source": [
    "joined_23.take(5)"
   ]
  },
  {
   "cell_type": "code",
   "execution_count": 391,
   "metadata": {
    "collapsed": true
   },
   "outputs": [],
   "source": [
    "joined123 = joined_23.join(parsed_text1)"
   ]
  },
  {
   "cell_type": "code",
   "execution_count": 395,
   "metadata": {
    "collapsed": false
   },
   "outputs": [],
   "source": [
    "joined123_2 = joined123.values()"
   ]
  },
  {
   "cell_type": "code",
   "execution_count": 396,
   "metadata": {
    "collapsed": false
   },
   "outputs": [
    {
     "data": {
      "text/plain": [
       "[((u\"cherish'd,\", u'kept'), u'alive.'),\n",
       " ((u'shine', u'on'), u'my'),\n",
       " ((u'plainest', u'truth'), u'Tell'),\n",
       " ((u'of', u'The'), u'Complete'),\n",
       " ((u'whilst', u'waited'), u'on'),\n",
       " ((u'nor', u'cannot'), u'love'),\n",
       " ((u'Shakespeare,', u'by'), u'William'),\n",
       " ((u'And', u'to'), u\"sun's\"),\n",
       " ((u'for', u'that'), u'do'),\n",
       " ((u'is', u'for'), u'the')]"
      ]
     },
     "execution_count": 396,
     "metadata": {},
     "output_type": "execute_result"
    }
   ],
   "source": [
    "joined123_2.take(10)"
   ]
  },
  {
   "cell_type": "code",
   "execution_count": 433,
   "metadata": {
    "collapsed": false
   },
   "outputs": [],
   "source": [
    "joined123_3 = joined123_2.groupByKey().map(lambda x: (x[0], list(x[1])))"
   ]
  },
  {
   "cell_type": "code",
   "execution_count": 697,
   "metadata": {
    "collapsed": false
   },
   "outputs": [
    {
     "data": {
      "text/plain": [
       "[((u'meantime,', u'lady,'), [u\"I'll\"]),\n",
       " ((u\"worship's\", u'friend,'), [u'and']),\n",
       " ((u'not', u'feast'), [u'him']),\n",
       " ((u'art', u\"stall'd\"), [u'in']),\n",
       " ((u'Exit', u'Hast'), [u'thou']),\n",
       " ((u'every', u'beardless'), [u'vain']),\n",
       " ((u'me,', u'sir!'), [u'bespoke', u'for']),\n",
       " ((u'less', u'loyal,'), [u'Nearer']),\n",
       " ((u'their', u'fellows'), [u'do.']),\n",
       " ((u'render', u'what'), [u'we'])]"
      ]
     },
     "execution_count": 697,
     "metadata": {},
     "output_type": "execute_result"
    }
   ],
   "source": [
    "joined123_3.take(10)"
   ]
  },
  {
   "cell_type": "code",
   "execution_count": 457,
   "metadata": {
    "collapsed": false
   },
   "outputs": [],
   "source": [
    "def counter(list):\n",
    "    \n",
    "    d={}\n",
    "    for i in list:       \n",
    "        d[i] = list.count(i)\n",
    "    return d\n",
    "\n",
    "joined123_4 = joined123_3.map(lambda x: (x[0], counter(x[1])))"
   ]
  },
  {
   "cell_type": "code",
   "execution_count": 696,
   "metadata": {
    "collapsed": false
   },
   "outputs": [
    {
     "data": {
      "text/plain": [
       "[((u'meantime,', u'lady,'), {u\"I'll\": 1}),\n",
       " ((u\"worship's\", u'friend,'), {u'and': 1}),\n",
       " ((u'not', u'feast'), {u'him': 1}),\n",
       " ((u'art', u\"stall'd\"), {u'in': 1}),\n",
       " ((u'Exit', u'Hast'), {u'thou': 1}),\n",
       " ((u'every', u'beardless'), {u'vain': 1}),\n",
       " ((u'me,', u'sir!'), {u'bespoke': 1, u'for': 1}),\n",
       " ((u'less', u'loyal,'), {u'Nearer': 1}),\n",
       " ((u'their', u'fellows'), {u'do.': 1}),\n",
       " ((u'render', u'what'), {u'we': 1})]"
      ]
     },
     "execution_count": 696,
     "metadata": {},
     "output_type": "execute_result"
    }
   ],
   "source": [
    "joined123_4.take(10)"
   ]
  },
  {
   "cell_type": "code",
   "execution_count": 694,
   "metadata": {
    "collapsed": false
   },
   "outputs": [
    {
     "name": "stdout",
     "output_type": "stream",
     "text": [
      "too peregrinate, as may unworthiness define, little touch of love. second time kill my husband he is very easy. You\n",
      "His fairest daughter and will repute you ever wed! These boys know little they are harsh, untuneable, and bad. And\n",
      "tidings to this fortune that must go through. We must both work Ere this rude assault? Villain, thy own life's\n",
      "will commend you to it? Wor. Your father's heir and only son; If may be censured, that nature that in\n",
      "reckon, he to Hecuba, That he hath neither claim'd it nor can Her heart inform her tongue- the swan's black\n",
      "And seem'd to tell you. We are shame-proof, my lord, Was betroth'd ere saw Hermia. But, like a gate of\n",
      "Bellario, a learned man? Yes, surely. Believe me, sir, the better man; For since these arms commence, Fondly brought here,\n",
      "tongues. Well, I'll hear his monstrous devices. Prince. villain! thou beliest thyself. Here stand we both, and will never fail\n",
      "of this; And now, methinks, Thy favour's good enough. As for thee, and her Romeo. Exeunt omnes. 1990-1993 (1) (2)\n",
      "bestow. And will stoop and humble mind. Were a sufficient briber for his sake.' blame not her: she bore in\n"
     ]
    }
   ],
   "source": [
    "all_phrases = []\n",
    "for j in xrange(10):\n",
    "    \n",
    "\n",
    "    starting_words = joined123_4.takeSample(False, 1, int(np.random.uniform(0,100000,1)))\n",
    "    phrase = []\n",
    "    w1,w2 = starting_words[0][0]\n",
    "    phrase.append(w1)\n",
    "    phrase.append(w2)\n",
    "    #We make a list with the possible third words weighted by their number of ocurrences\n",
    "    new_list = sum([([k[0]]*k[1]) for k in starting_words[0][1].items()],[])\n",
    "    phrase.append(np.random.choice(new_list))\n",
    "    \n",
    "    for i in xrange(17):\n",
    "\n",
    "        starting_words = joined123_4.lookup((phrase[i+1],phrase[i+2]))\n",
    "        new_list = sum([([k[0]]*k[1]) for k in starting_words[0].items()],[])\n",
    "        phrase.append(np.random.choice(new_list))\n",
    "        \n",
    "    all_phrases.append(' '.join(phrase))\n",
    "    print ' '.join(phrase)\n"
   ]
  },
  {
   "cell_type": "code",
   "execution_count": null,
   "metadata": {
    "collapsed": true
   },
   "outputs": [],
   "source": []
  }
 ],
 "metadata": {
  "kernelspec": {
   "display_name": "Python 2",
   "language": "python",
   "name": "python2"
  },
  "language_info": {
   "codemirror_mode": {
    "name": "ipython",
    "version": 2
   },
   "file_extension": ".py",
   "mimetype": "text/x-python",
   "name": "python",
   "nbconvert_exporter": "python",
   "pygments_lexer": "ipython2",
   "version": "2.7.10"
  }
 },
 "nbformat": 4,
 "nbformat_minor": 0
}
