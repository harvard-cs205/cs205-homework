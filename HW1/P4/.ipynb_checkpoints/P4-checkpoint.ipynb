{
 "cells": [
  {
   "cell_type": "code",
   "execution_count": 1,
   "metadata": {
    "collapsed": false
   },
   "outputs": [],
   "source": [
    "import findspark\n",
    "findspark.init()"
   ]
  },
  {
   "cell_type": "markdown",
   "metadata": {},
   "source": [
    "## Creating the Graph"
   ]
  },
  {
   "cell_type": "code",
   "execution_count": 2,
   "metadata": {
    "collapsed": false
   },
   "outputs": [
    {
     "data": {
      "text/plain": [
       "PythonRDD[12] at RDD at PythonRDD.scala:43"
      ]
     },
     "execution_count": 2,
     "metadata": {},
     "output_type": "execute_result"
    }
   ],
   "source": [
    "#CSV takes the file and creates and RDD of character,issue\n",
    "csv=(sc.textFile('source.csv').map(lambda x: x.split('\",\"'))\n",
    "                                .map(lambda x:[x[0][1:],x[1][:-1]]))\n",
    "csv.cache()\n",
    "#issues_by_character groups the issues with character as key\n",
    "issues_by_character=csv.groupByKey().map(lambda x:[x[0],list(x[1])])\n",
    "#characters_by_issue creates a dict with issue as key and list of chars as value\n",
    "characters_by_issue=csv.map(lambda x:[x[1],x[0]]).groupByKey().map(lambda x:[x[0],list(x[1])]).collectAsMap()\n",
    "#linked characters is an RDD that has the x[0] as the char name and a list of chars its linked to as x[1]\n",
    "linked_chars=(issues_by_character\n",
    "              .map(lambda x:[x[0],[characters_by_issue[issue] for issue in x[1]]])\n",
    "              .map(lambda x:[x[0],[char for chars in x[1] for char in chars]])\n",
    "              .map(lambda x:[x[0],list(set(x[1]))])\n",
    "              .map(lambda x:[x[0],[a for a in x[1] if a != x[0]]]))\n",
    "              \n",
    "linked_chars.cache()"
   ]
  },
  {
   "cell_type": "markdown",
   "metadata": {},
   "source": [
    "##Breadth-first search on graph"
   ]
  },
  {
   "cell_type": "code",
   "execution_count": 311,
   "metadata": {
    "collapsed": true
   },
   "outputs": [],
   "source": []
  },
  {
   "cell_type": "code",
   "execution_count": 351,
   "metadata": {
    "collapsed": false
   },
   "outputs": [],
   "source": [
    "accum = sc.accumulator(0)\n",
    "accum.value=0\n",
    "def BFS(graph, source_node):\n",
    "    chars_list = sc.parallelize([(source_node,0)])\n",
    "    new_chars = sc.parallelize([source_node])\n",
    "    while not new_chars.isEmpty():\n",
    "        level=accum.value\n",
    "        new_chars=chars_list.filter(lambda x: x[1]==level).join(graph).map(lambda x:[(a,x[1][0]+1) for a in x[1][1]]).flatMap(lambda x:x).distinct()\n",
    "        accum.add(1)\n",
    "        chars_list=chars_list.union(new_chars).groupByKey().mapValues(lambda x: min(x))\n",
    "    return chars_list\n"
   ]
  },
  {
   "cell_type": "code",
   "execution_count": 352,
   "metadata": {
    "collapsed": false
   },
   "outputs": [],
   "source": [
    "node_depths=BFS(linked_chars,'CAPTAIN AMERICA')"
   ]
  },
  {
   "cell_type": "code",
   "execution_count": 353,
   "metadata": {
    "collapsed": false
   },
   "outputs": [
    {
     "data": {
      "text/plain": [
       "[(u'LEONINUS', 3),\n",
       " (u'DETHSTRYK', 3),\n",
       " (u'24-HOUR MAN/EMMANUEL', 3),\n",
       " (u'PINTA', 3),\n",
       " (u'DRAGONMEGAS, JESSIE', 3),\n",
       " (u'BROTHER AXE', 3),\n",
       " (u'OUBLIETTE/', 3),\n",
       " (u'SEERESS', 3),\n",
       " (u'LOGAN, WAYNE', 3),\n",
       " (u'OZ, DR. MALACHI', 3),\n",
       " (u'BLACK TALON III', 3),\n",
       " (u'MINOTAURUS', 3),\n",
       " (u'MARVEL BOY VIII/NOH-', 3),\n",
       " (u'CHIMERA/ZUHN', 3),\n",
       " (u'AZOPARDI', 3),\n",
       " (u'CAPTAIN GLORY', 3),\n",
       " (u'PAPA NEBO', 3),\n",
       " (u'STILES, TATJANA', 3),\n",
       " (u'MOURNING PREY', 3),\n",
       " (u'MERREE', 3),\n",
       " (u'MASTER FOUR', 3),\n",
       " (u'SAINT, AMANDA', 3),\n",
       " (u'STORMER', 3),\n",
       " (u'SCOTT, JAKE', 3),\n",
       " (u'BLOOD-TIDE', 3),\n",
       " (u'PLEX INTELLIGENCE', 3),\n",
       " (u'ADAMSON, REBECCA', 3),\n",
       " (u'COVEY, LAWRENCE K.', 3),\n",
       " (u\"G'RATH\", 3),\n",
       " (u'MILLER, JENETTE', 3),\n",
       " (u'WARR', 3),\n",
       " (u'CHAKRA II', 3),\n",
       " (u'KLEIN, SUMMER', 3),\n",
       " (u'ADAMSON, JASON', 3),\n",
       " (u'NAVARRO', 3),\n",
       " (u'DESADIA', 3),\n",
       " (u'STRUNK, BELLA', 3),\n",
       " (u'DOVINIA', 3)]"
      ]
     },
     "execution_count": 353,
     "metadata": {},
     "output_type": "execute_result"
    }
   ],
   "source": [
    "node_depths.filter(lambda x: x[1]==3).collect()"
   ]
  },
  {
   "cell_type": "code",
   "execution_count": 328,
   "metadata": {
    "collapsed": true
   },
   "outputs": [],
   "source": [
    "\n",
    "def BFS(graph, source_node, depth):\n",
    "    chars_list = sc.parallelize([(source_node,0)])\n",
    "    for level in range(depth):\n",
    "        new_chars=chars_list.filter(lambda x: x[1]==level).join(graph).map(lambda x:[(a,x[1][0]+1) for a in x[1][1]]).flatMap(lambda x:x).distinct()\n",
    "        if new_chars.isEmpty():\n",
    "            break\n",
    "        chars_list=chars_list.union(new_chars).groupByKey().mapValues(lambda x: min(x))\n",
    "    return chars_list"
   ]
  },
  {
   "cell_type": "code",
   "execution_count": null,
   "metadata": {
    "collapsed": true
   },
   "outputs": [],
   "source": []
  }
 ],
 "metadata": {
  "kernelspec": {
   "display_name": "Python 2",
   "language": "python",
   "name": "python2"
  },
  "language_info": {
   "codemirror_mode": {
    "name": "ipython",
    "version": 2
   },
   "file_extension": ".py",
   "mimetype": "text/x-python",
   "name": "python",
   "nbconvert_exporter": "python",
   "pygments_lexer": "ipython2",
   "version": "2.7.10"
  }
 },
 "nbformat": 4,
 "nbformat_minor": 0
}
