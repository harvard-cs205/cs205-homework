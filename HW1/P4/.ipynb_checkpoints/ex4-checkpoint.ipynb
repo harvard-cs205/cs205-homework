{
 "cells": [
  {
   "cell_type": "code",
   "execution_count": 2,
   "metadata": {
    "collapsed": true
   },
   "outputs": [],
   "source": [
    "import time"
   ]
  },
  {
   "cell_type": "code",
   "execution_count": 3,
   "metadata": {
    "collapsed": false
   },
   "outputs": [],
   "source": [
    "import numpy as np\n",
    "import matplotlib.pyplot as plt \n",
    "import matplotlib.cm as cm\n",
    "import findspark\n",
    "findspark.init()\n",
    "\n",
    "import pyspark\n",
    "sc = pyspark.SparkContext(appName = \"Spark\")"
   ]
  },
  {
   "cell_type": "code",
   "execution_count": 4,
   "metadata": {
    "collapsed": true
   },
   "outputs": [],
   "source": [
    "text = sc.textFile(\"source.txt\") "
   ]
  },
  {
   "cell_type": "code",
   "execution_count": 20,
   "metadata": {
    "collapsed": false
   },
   "outputs": [],
   "source": [
    "def transf(r):\n",
    "    r = r.split('\",')\n",
    "    if len(r) == 2:\n",
    "        return (r[1].replace('\"','').rstrip().encode(\"utf-8\"),r[0].strip('\"').rstrip().encode(\"utf-8\"))"
   ]
  },
  {
   "cell_type": "code",
   "execution_count": 5,
   "metadata": {
    "collapsed": true
   },
   "outputs": [],
   "source": [
    "rdd1 = text.map(lambda r: (r.split('\",')[1].replace('\"',''),r.split('\",')[0].replace('\"','')))"
   ]
  },
  {
   "cell_type": "code",
   "execution_count": 6,
   "metadata": {
    "collapsed": true
   },
   "outputs": [],
   "source": [
    "rdd2 = rdd1.join(rdd1).map(lambda (K,V): V).filter(lambda (K,V): K!=V).distinct()"
   ]
  },
  {
   "cell_type": "code",
   "execution_count": 7,
   "metadata": {
    "collapsed": false
   },
   "outputs": [
    {
     "data": {
      "text/plain": [
       "334414"
      ]
     },
     "execution_count": 7,
     "metadata": {},
     "output_type": "execute_result"
    }
   ],
   "source": [
    "rdd2.count()"
   ]
  },
  {
   "cell_type": "code",
   "execution_count": 8,
   "metadata": {
    "collapsed": false
   },
   "outputs": [],
   "source": [
    "rdd3 =  rdd2.groupByKey().map(lambda (K,V): (K,list(V)))"
   ]
  },
  {
   "cell_type": "code",
   "execution_count": 9,
   "metadata": {
    "collapsed": false
   },
   "outputs": [],
   "source": [
    "network = rdd3"
   ]
  },
  {
   "cell_type": "code",
   "execution_count": 279,
   "metadata": {
    "collapsed": false
   },
   "outputs": [
    {
     "data": {
      "text/plain": [
       "0"
      ]
     },
     "execution_count": 279,
     "metadata": {},
     "output_type": "execute_result"
    }
   ],
   "source": [
    "test = rdd3.lookup(\"GAMORA\")\n",
    "len(test)"
   ]
  },
  {
   "cell_type": "code",
   "execution_count": 27,
   "metadata": {
    "collapsed": false,
    "scrolled": false
   },
   "outputs": [
    {
     "data": {
      "text/plain": [
       "[[u'JAMESON, COL. JOHN ',\n",
       "  u'WASP/JANET VAN DYNE ',\n",
       "  u\"O'BRIEN, MICHAEL\",\n",
       "  u'SERSI/SYLVIA',\n",
       "  u'ANT-MAN/DR. HENRY J.',\n",
       "  u'SHE-HULK/JENNIFER WA',\n",
       "  u'WONDER MAN/SIMON WIL',\n",
       "  u'IRON MAN/TONY STARK ',\n",
       "  u'WIDOW-MAKER',\n",
       "  u'FATHER TIME',\n",
       "  u'STANKOWICZ, FABIAN',\n",
       "  u'BLACK WIDOW/NATASHA ',\n",
       "  u'HENRY, JOHN',\n",
       "  u'HAWK',\n",
       "  u'CAPTAIN AMERICA',\n",
       "  u'JOHNNY APPLESEED/JON',\n",
       "  u'VISION ',\n",
       "  u'PECOS BILL',\n",
       "  u'BUNYAN, PAUL',\n",
       "  u'JARVIS, EDWIN ',\n",
       "  u'THOR/DR. DONALD BLAK',\n",
       "  u'CARTER, PEGGY',\n",
       "  u'FALCON/SAM WILSON',\n",
       "  u'QUASAR III/WENDELL V']]"
      ]
     },
     "execution_count": 27,
     "metadata": {},
     "output_type": "execute_result"
    }
   ],
   "source": [
    "network.lookup(u'UNCLE SAM')"
   ]
  },
  {
   "cell_type": "code",
   "execution_count": 10,
   "metadata": {
    "collapsed": false
   },
   "outputs": [
    {
     "data": {
      "text/plain": [
       "[(u'QUESADA, JOE', u'GLADIATOR/MELVIN POT')]"
      ]
     },
     "execution_count": 10,
     "metadata": {},
     "output_type": "execute_result"
    }
   ],
   "source": [
    "edgelist = network.flatMap(lambda (K,V): [(K,V[i]) for i in range(len(V))])\n",
    "edgelist.take(1)"
   ]
  },
  {
   "cell_type": "markdown",
   "metadata": {},
   "source": [
    "##BFS ALGORITHM"
   ]
  },
  {
   "cell_type": "code",
   "execution_count": 16,
   "metadata": {
    "collapsed": true
   },
   "outputs": [],
   "source": [
    "def bfs(network,SH):\n",
    "    \n",
    "    visited = neighbours = [SH]\n",
    "    dist_dic = {SH:0}\n",
    "    count = 1\n",
    "    while count<=10:\n",
    "        net = network.filter(lambda (K,V): K in neighbours)\n",
    "        neighbours = net.flatMap(lambda (K,V): [V[i] for i in range(len(V)) if (V[i] not in visited)]).distinct().collect()\n",
    "        dist_dic.update(zip(neighbours,[count]*len(neighbours)))\n",
    "        visited = visited + neighbours\n",
    "        count += 1\n",
    "    return (len(visited)-1,dist_dic)"
   ]
  },
  {
   "cell_type": "code",
   "execution_count": 26,
   "metadata": {
    "collapsed": true
   },
   "outputs": [],
   "source": [
    "def bfs_nomax(network,SH):\n",
    "    \n",
    "    visited = neighbours = [SH]\n",
    "    dist_dic = {SH:0}\n",
    "    count = sc.accumulator(1)\n",
    "    cont = True    \n",
    "    while cont:\n",
    "        oldcount = count.value\n",
    "        net = network.filter(lambda (K,V): K in neighbours)\n",
    "        neighbours = net.flatMap(lambda (K,V): [V[i] for i in range(len(V)) if (V[i] not in visited)]).distinct().collect()\n",
    "        dist_dic.update(zip(neighbours,[count.value]*len(neighbours)))\n",
    "        visited = visited + neighbours\n",
    "        if len(neighbours) !=0:\n",
    "            count.add(1)\n",
    "        cont = (count.value != oldcount)\n",
    "    return (len(visited)-1,dist_dic)"
   ]
  },
  {
   "cell_type": "code",
   "execution_count": 29,
   "metadata": {
    "collapsed": false
   },
   "outputs": [],
   "source": [
    "def bfs_look(edgelist,from_,to_,dmax):\n",
    "    global accum \n",
    "    dis = 1\n",
    "    accum = sc.accumulator(1)\n",
    "    \n",
    "    def increase_accum(x):\n",
    "        global accum\n",
    "        accum += 1\n",
    "        \n",
    "    nextneigh = sc.parallelize([(from_,0)])\n",
    "    distance = sc.parallelize([(from_,0)])\n",
    "    \n",
    "    while dis <= dmax:\n",
    "        oldaccum = accum.value\n",
    "        nextneigh = edgelist.join(nextneigh).partitionBy(8).mapValues(lambda V: (V[0],V[1]+1)).values().distinct().subtractByKey(distance)\n",
    "        nextneigh.foreach(increase_accum)\n",
    "        if oldaccum == accum.value:\n",
    "            result = \"NO PATH\"\n",
    "            break\n",
    "        distance = distance.union(nextneigh).cache()\n",
    "        result = distance.join(sc.parallelize([(to_,dis)]))\n",
    "        if not result.isEmpty():\n",
    "            result = result.mapValues(lambda v: v[0]).collect()\n",
    "            break\n",
    "        dis += 1\n",
    "        \n",
    "    return result"
   ]
  },
  {
   "cell_type": "code",
   "execution_count": 68,
   "metadata": {
    "collapsed": false
   },
   "outputs": [],
   "source": []
  },
  {
   "cell_type": "code",
   "execution_count": 22,
   "metadata": {
    "collapsed": false
   },
   "outputs": [
    {
     "data": {
      "text/plain": [
       "6408"
      ]
     },
     "execution_count": 22,
     "metadata": {},
     "output_type": "execute_result"
    }
   ],
   "source": [
    "accum.value"
   ]
  },
  {
   "cell_type": "code",
   "execution_count": 112,
   "metadata": {
    "collapsed": false
   },
   "outputs": [],
   "source": []
  },
  {
   "cell_type": "code",
   "execution_count": 30,
   "metadata": {
    "collapsed": false
   },
   "outputs": [],
   "source": [
    "test__ = bfs_look(edgelist,'SARACEN','UNCLE SAM' ,10)"
   ]
  },
  {
   "cell_type": "code",
   "execution_count": 17,
   "metadata": {
    "collapsed": false
   },
   "outputs": [
    {
     "data": {
      "text/plain": [
       "[]"
      ]
     },
     "execution_count": 17,
     "metadata": {},
     "output_type": "execute_result"
    }
   ],
   "source": [
    "captain_test[1].lookup(u'WOLVERINE/ LOGAN')"
   ]
  },
  {
   "cell_type": "code",
   "execution_count": 31,
   "metadata": {
    "collapsed": false
   },
   "outputs": [
    {
     "name": "stdout",
     "output_type": "stream",
     "text": [
      "[(u'UNCLE SAM', 3)]\n"
     ]
    }
   ],
   "source": [
    "print test__"
   ]
  },
  {
   "cell_type": "code",
   "execution_count": 53,
   "metadata": {
    "collapsed": false
   },
   "outputs": [
    {
     "data": {
      "text/plain": [
       "4463"
      ]
     },
     "execution_count": 53,
     "metadata": {},
     "output_type": "execute_result"
    }
   ],
   "source": [
    "t1 = edgelist.join(sc.parallelize([('CAPTAIN AMERICA',0)]))\n",
    "t2 = t1.map(lambda (K,V): (V[0],1))\n",
    "t3 = edgelist.join(t2).map(lambda (K,V): (V[0],2)).subtractByKey(t1.union(t2)).distinct()\n",
    "len(t3.collect())"
   ]
  },
  {
   "cell_type": "code",
   "execution_count": 10,
   "metadata": {
    "collapsed": false
   },
   "outputs": [],
   "source": [
    "missmary = bfs(network,'MISS THING/MARY')"
   ]
  },
  {
   "cell_type": "code",
   "execution_count": 26,
   "metadata": {
    "collapsed": false
   },
   "outputs": [
    {
     "data": {
      "text/plain": [
       "6"
      ]
     },
     "execution_count": 26,
     "metadata": {},
     "output_type": "execute_result"
    }
   ],
   "source": [
    "missmary[0]"
   ]
  },
  {
   "cell_type": "code",
   "execution_count": 33,
   "metadata": {
    "collapsed": true
   },
   "outputs": [],
   "source": [
    "SH ='CAPTAIN AMERICA'"
   ]
  },
  {
   "cell_type": "code",
   "execution_count": 56,
   "metadata": {
    "collapsed": true
   },
   "outputs": [],
   "source": [
    "nextneigh = distance = sc.parallelize([(SH,0)])\n",
    "dis = 1"
   ]
  },
  {
   "cell_type": "code",
   "execution_count": 43,
   "metadata": {
    "collapsed": false
   },
   "outputs": [
    {
     "name": "stdout",
     "output_type": "stream",
     "text": [
      "0.0623888969421\n"
     ]
    }
   ],
   "source": [
    "start = time.time()\n",
    "nextneigh = edgelist.join(nextneigh).mapValues(lambda V: (V[0],dis)).values().distinct().subtractByKey(distance)\n",
    "end = time.time()\n",
    "print end-start\n",
    "distance = distance.union(nextneigh).cache()\n",
    "dis += 1"
   ]
  },
  {
   "cell_type": "code",
   "execution_count": 44,
   "metadata": {
    "collapsed": false
   },
   "outputs": [
    {
     "name": "stdout",
     "output_type": "stream",
     "text": [
      "38\n",
      "6408\n"
     ]
    }
   ],
   "source": [
    "print len(nextneigh.collect())\n",
    "print len(distance.collect())"
   ]
  },
  {
   "cell_type": "code",
   "execution_count": 59,
   "metadata": {
    "collapsed": false
   },
   "outputs": [
    {
     "name": "stdout",
     "output_type": "stream",
     "text": [
      "0.0290160179138\n"
     ]
    }
   ],
   "source": [
    "start = time.time()\n",
    "nextneigh = edgelist.join(nextneigh).values().mapValues(lambda V: V+1).distinct().filter(lambda (K,V): V==(dis))\n",
    "end = time.time()\n",
    "print end-start\n",
    "distance = distance.union(nextneigh).cache()\n",
    "dis += 1\n"
   ]
  },
  {
   "cell_type": "code",
   "execution_count": 60,
   "metadata": {
    "collapsed": false
   },
   "outputs": [
    {
     "name": "stdout",
     "output_type": "stream",
     "text": [
      "0\n",
      "1907\n"
     ]
    }
   ],
   "source": [
    "print len(nextneigh.collect())\n",
    "print len(distance.collect())"
   ]
  },
  {
   "cell_type": "code",
   "execution_count": null,
   "metadata": {
    "collapsed": true
   },
   "outputs": [],
   "source": [
    "captain = bfs2()"
   ]
  }
 ],
 "metadata": {
  "kernelspec": {
   "display_name": "Python 2",
   "language": "python",
   "name": "python2"
  },
  "language_info": {
   "codemirror_mode": {
    "name": "ipython",
    "version": 2
   },
   "file_extension": ".py",
   "mimetype": "text/x-python",
   "name": "python",
   "nbconvert_exporter": "python",
   "pygments_lexer": "ipython2",
   "version": "2.7.10"
  }
 },
 "nbformat": 4,
 "nbformat_minor": 0
}
