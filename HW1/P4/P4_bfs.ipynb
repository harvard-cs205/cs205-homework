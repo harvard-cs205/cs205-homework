{
 "cells": [
  {
   "cell_type": "code",
   "execution_count": 1,
   "metadata": {
    "collapsed": true
   },
   "outputs": [],
   "source": [
    "# Version assuming graph diameter = 10\n",
    "def do_bfs1(sc, source_node, hero_graph):\n",
    "    n_parts = 20\n",
    "    curr_nodes = sc.parallelize([(source_node, 0)], n_parts)\n",
    "    curr_nodes = curr_nodes.partitionBy(n_parts, hash)\n",
    "\n",
    "    graph_diam = 10\n",
    "    for iter_i in range(graph_diam):\n",
    "        neighbors = (curr_nodes.join(hero_graph)\n",
    "                     .flatMap(lambda x: x[1][1])\n",
    "                     .map(lambda x: (x, iter_i + 1)))\n",
    "        new_nodes = neighbors.subtractByKey(curr_nodes, n_parts).cache()\n",
    "        curr_nodes = ((curr_nodes + new_nodes)\n",
    "                      .repartition(n_parts).cache())\n",
    "    return curr_nodes"
   ]
  },
  {
   "cell_type": "code",
   "execution_count": 2,
   "metadata": {
    "collapsed": true
   },
   "outputs": [],
   "source": [
    "# Version without assuming graph diameter, using accumulator\n",
    "def do_bfs2(sc, source_node, hero_graph):\n",
    "    n_parts = 20\n",
    "    curr_nodes = sc.parallelize([(source_node, 0)], n_parts)\n",
    "    curr_nodes = curr_nodes.partitionBy(n_parts, hash)\n",
    "\n",
    "    accum = sc.accumulator(0)\n",
    "    iter_i = 0\n",
    "    while accum.value == 0:\n",
    "        neighbors = (curr_nodes.join(hero_graph)\n",
    "                     .flatMap(lambda x: x[1][1])\n",
    "                     .map(lambda x: (x, iter_i + 1)))\n",
    "        new_nodes = neighbors.subtractByKey(curr_nodes, n_parts).cache()\n",
    "        if new_nodes.count() == 0:\n",
    "            accum.add(1)\n",
    "        else:\n",
    "            curr_nodes = ((curr_nodes + new_nodes)\n",
    "                          .repartition(n_parts).cache())\n",
    "            iter_i = iter_i + 1\n",
    "    return curr_nodes"
   ]
  }
 ],
 "metadata": {
  "kernelspec": {
   "display_name": "Python 2",
   "language": "python",
   "name": "python2"
  },
  "language_info": {
   "codemirror_mode": {
    "name": "ipython",
    "version": 2
   },
   "file_extension": ".py",
   "mimetype": "text/x-python",
   "name": "python",
   "nbconvert_exporter": "python",
   "pygments_lexer": "ipython2",
   "version": "2.7.6"
  }
 },
 "nbformat": 4,
 "nbformat_minor": 0
}
