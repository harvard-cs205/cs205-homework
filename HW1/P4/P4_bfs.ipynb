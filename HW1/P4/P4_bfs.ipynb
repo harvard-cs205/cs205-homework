{
 "cells": [
  {
   "cell_type": "code",
   "execution_count": 5,
   "metadata": {
    "collapsed": true
   },
   "outputs": [],
   "source": [
    "def make_hero_graph(text_path, sc, n_parts):\n",
    "\n",
    "    # Load marvel comic data\n",
    "    dat = sc.textFile(text_path)\n",
    "\n",
    "    # Remove quotations and split issue & hero name\n",
    "    dat_split = dat.map(lambda x: x[1:-1].split('\",\"'))\n",
    "\n",
    "    # Mapping between issue->hero\n",
    "    dat_comic = dat_split.map(lambda x: (x[1], x[0]))\n",
    "    dat_comic = dat_comic.partitionBy(n_parts).cache()\n",
    "\n",
    "    comic_key = dat_comic.combineByKey(lambda x: {x}, \n",
    "                                       lambda a, b: a.union({b}), \n",
    "                                       lambda a, b: a.union(b))\n",
    "    assert dat_comic.partitioner == comic_key.partitioner\n",
    "\n",
    "    comic_hero_join = dat_comic.join(comic_key).map(lambda x: x[1])\n",
    "    comic_hero_join = comic_hero_join.partitionBy(n_parts)\n",
    "\n",
    "    hero_graph = comic_hero_join.combineByKey(lambda x: x, \n",
    "                                     lambda a, b: a.union(b), \n",
    "                                     lambda a, b: a.union(b))\n",
    "    assert hero_graph.partitioner == comic_key.partitioner\n",
    "    return hero_graph"
   ]
  },
  {
   "cell_type": "code",
   "execution_count": 1,
   "metadata": {
    "collapsed": true
   },
   "outputs": [],
   "source": [
    "# Version assuming graph diameter = 10\n",
    "def do_bfs1(sc, source_node, hero_graph, n_parts):\n",
    "    curr_nodes = sc.parallelize([(source_node, 0)], n_parts)\n",
    "\n",
    "    graph_diam = 10\n",
    "    for iter_i in range(graph_diam):\n",
    "        neighbors = (curr_nodes.join(hero_graph)\n",
    "                     .flatMap(lambda x: x[1][1])\n",
    "                     .map(lambda x: (x, iter_i + 1)))\n",
    "        new_nodes = neighbors.subtractByKey(curr_nodes, n_parts).cache()\n",
    "        curr_nodes = ((curr_nodes + new_nodes)\n",
    "                      .repartition(n_parts).cache())\n",
    "    return curr_nodes"
   ]
  },
  {
   "cell_type": "code",
   "execution_count": 2,
   "metadata": {
    "collapsed": true
   },
   "outputs": [],
   "source": [
    "# Version without assuming graph diameter, using accumulator\n",
    "def do_bfs2(sc, source_node, hero_graph, n_parts):\n",
    "\n",
    "    # Make sure pre-join RDDs are copartitioned\n",
    "    node_hist = (sc.parallelize([(source_node, 0)])\n",
    "                 .partitionBy(n_parts, hash))\n",
    "    new_nodes = node_hist\n",
    "    hero_graph = hero_graph.partitionBy(n_parts, hash).cache()\n",
    "    assert new_nodes.partitioner == hero_graph.partitioner\n",
    "\n",
    "    # Keep track of whether there are no new nodes touched\n",
    "    new_count = 0\n",
    "    accum = sc.accumulator(1)\n",
    "\n",
    "    # Distance corresponding to current iteration\n",
    "    iter_i = 0 \n",
    "\n",
    "\n",
    "    while accum.value > 0:\n",
    "        new_count = accum.value\n",
    "\n",
    "        # How do I do this without a collect???\n",
    "        new_set = set(new_nodes.map(lambda x: x[0]).collect())\n",
    "        hero_filt = hero_graph.filter(lambda x: x[0] in new_set)\n",
    "\n",
    "        assert new_nodes.partitioner == hero_filt.partitioner\n",
    "        def count_map(K, accum):\n",
    "            accum.add(1)\n",
    "            return (K, iter_i + 1)\n",
    "        neighbors = (new_nodes.join(hero_filt)\n",
    "                     .flatMap(lambda x: x[1][1])\n",
    "                     .map(lambda x: (x, iter_i + 1)))\n",
    "        \n",
    "        # If new nodes were touched, new_count \n",
    "        # will no longer be equal to accum.value\n",
    "\n",
    "        new_nodes = neighbors.subtractByKey(node_hist)\n",
    "\n",
    "        accum = sc.accumulator(0)\n",
    "        new_nodes.foreach(lambda _: accum.add(1))\n",
    "        node_hist = (node_hist + new_nodes).cache()\n",
    "        \n",
    "        new_nodes = new_nodes.partitionBy(n_parts, hash).cache()\n",
    "\n",
    "        iter_i = iter_i + 1\n",
    "    return node_hist"
   ]
  }
 ],
 "metadata": {
  "kernelspec": {
   "display_name": "Python 2",
   "language": "python",
   "name": "python2"
  },
  "language_info": {
   "codemirror_mode": {
    "name": "ipython",
    "version": 2
   },
   "file_extension": ".py",
   "mimetype": "text/x-python",
   "name": "python",
   "nbconvert_exporter": "python",
   "pygments_lexer": "ipython2",
   "version": "2.7.6"
  }
 },
 "nbformat": 4,
 "nbformat_minor": 0
}
