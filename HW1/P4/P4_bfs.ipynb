{
 "cells": [
  {
   "cell_type": "code",
   "execution_count": null,
   "metadata": {
    "collapsed": true
   },
   "outputs": [],
   "source": [
    "def bfs(sc, adj_matrix_rdd, char, diameter=float(\"inf\")):\n",
    "    '''\n",
    "    Takes SparkContext (sc), adjacency matrix rdd (adj_matrix_rdd), character name (char), and optional diameter\n",
    "    of graph as parameter and performs BFS.\n",
    "    Note: adj_matrix_rdd contains \n",
    "        key = character name\n",
    "        value = list of names of adjacent characters\n",
    "    Note: adj_matrix_rdd should be hash partitioned into 100 parts\n",
    "    '''\n",
    "    def group_neighbor_dist(neighbors,dist):\n",
    "        return [(n,dist) for n in neighbors]\n",
    "    dist = 0\n",
    "    \n",
    "    num_iter_accum = sc.accumulator(0)\n",
    "    dists_rdd = sc.parallelize([(char,dist)]).partitionBy(100) #shortest paths to nodes\n",
    "    neighbors_rdd = dists_rdd\n",
    "    #We assume graph diameter is <=10\n",
    "    num_new_neighbors_accum = sc.accumulator(1)\n",
    "    while (num_iter_accum.value < diameter) and (num_new_neighbors_accum.value != 0):\n",
    "        #get neighbors of neighbors\n",
    "        num_new_neighbors_accum = sc.accumulator(0)\n",
    "        neighbors_rdd = neighbors_rdd.join(adj_matrix_rdd) \n",
    "        #we only care about the new neighbors\n",
    "        neighbors_rdd = neighbors_rdd.values()\\\n",
    "            .flatMap(lambda (prev_dist,neighbors): group_neighbor_dist(neighbors,prev_dist+1))\\\n",
    "            .distinct()\\\n",
    "            .partitionBy(100)\n",
    "        #we now have rdd of (char,dist)\n",
    "        assert neighbors_rdd.partitioner == dists_rdd.partitioner, \"neighbors and dists are not copartitioned\"\n",
    "        #remove characters that we already have a shorter path to\n",
    "        neighbors_rdd = neighbors_rdd.subtractByKey(dists_rdd) \n",
    "        neighbors_rdd.cache()\n",
    "        #update dists_rdd to include the new nodes we have explored\n",
    "        dists_rdd = dists_rdd.union(neighbors_rdd)\n",
    "        neighbors_rdd.foreach(lambda _ :num_new_neighbors_accum.add(1))\n",
    "        num_iter_accum.add(1)\n",
    "    \n",
    "    print dists_rdd.count() #num_touched\n",
    "    return dists_rdd\n"
   ]
  }
 ],
 "metadata": {
  "kernelspec": {
   "display_name": "Python 2",
   "language": "python",
   "name": "python2"
  },
  "language_info": {
   "codemirror_mode": {
    "name": "ipython",
    "version": 2
   },
   "file_extension": ".py",
   "mimetype": "text/x-python",
   "name": "python",
   "nbconvert_exporter": "python",
   "pygments_lexer": "ipython2",
   "version": "2.7.10"
  }
 },
 "nbformat": 4,
 "nbformat_minor": 0
}
