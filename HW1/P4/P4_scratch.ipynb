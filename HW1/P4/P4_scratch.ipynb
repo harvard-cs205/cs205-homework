{
 "cells": [
  {
   "cell_type": "code",
   "execution_count": 1,
   "metadata": {
    "collapsed": true
   },
   "outputs": [],
   "source": [
    "import itertools"
   ]
  },
  {
   "cell_type": "code",
   "execution_count": 2,
   "metadata": {
    "collapsed": false
   },
   "outputs": [],
   "source": [
    "import findspark\n",
    "import os\n",
    "findspark.init()\n",
    "import pyspark\n",
    "sc = pyspark.SparkContext()\n",
    "sc.setLogLevel(\"ERROR\")"
   ]
  },
  {
   "cell_type": "markdown",
   "metadata": {},
   "source": [
    "### Load the graph"
   ]
  },
  {
   "cell_type": "code",
   "execution_count": 3,
   "metadata": {
    "collapsed": false
   },
   "outputs": [],
   "source": [
    "clist = sc.textFile('source.csv')"
   ]
  },
  {
   "cell_type": "code",
   "execution_count": 4,
   "metadata": {
    "collapsed": false
   },
   "outputs": [],
   "source": [
    "# print clist\n",
    "# print clist.getNumPartitions()\n",
    "# print clist.count()\n",
    "# print clist.take(5)"
   ]
  },
  {
   "cell_type": "code",
   "execution_count": 5,
   "metadata": {
    "collapsed": true
   },
   "outputs": [],
   "source": [
    "def split_csv(val):\n",
    "    split = val.split(',')\n",
    "    name = ','.join(split[:-1]).replace('\"','').strip()\n",
    "    comic = split[-1].replace('\"','')\n",
    "    return tuple([comic, name])"
   ]
  },
  {
   "cell_type": "code",
   "execution_count": 6,
   "metadata": {
    "collapsed": true
   },
   "outputs": [],
   "source": [
    "clist_split = clist.map(lambda x: split_csv(x)).distinct()"
   ]
  },
  {
   "cell_type": "code",
   "execution_count": 7,
   "metadata": {
    "collapsed": false
   },
   "outputs": [],
   "source": [
    "# print clist_split\n",
    "# print clist_split.getNumPartitions()\n",
    "# print clist_split.count()\n",
    "# print clist_split.take(5)"
   ]
  },
  {
   "cell_type": "code",
   "execution_count": 8,
   "metadata": {
    "collapsed": true
   },
   "outputs": [],
   "source": [
    "comic_allchars = clist_split.groupByKey().mapValues(list)"
   ]
  },
  {
   "cell_type": "code",
   "execution_count": 9,
   "metadata": {
    "collapsed": false
   },
   "outputs": [],
   "source": [
    "# print comic_allchars\n",
    "# print comic_allchars.getNumPartitions()\n",
    "# print comic_allchars.count()\n",
    "# print comic_allchars.take(1)"
   ]
  },
  {
   "cell_type": "code",
   "execution_count": 10,
   "metadata": {
    "collapsed": true
   },
   "outputs": [],
   "source": [
    "def perm_chars(val):\n",
    "    return list(itertools.permutations(val[1], 2))"
   ]
  },
  {
   "cell_type": "code",
   "execution_count": 11,
   "metadata": {
    "collapsed": true
   },
   "outputs": [],
   "source": [
    "char_allchars = comic_allchars.flatMap(lambda x: perm_chars(x)).distinct().groupByKey().mapValues(list)"
   ]
  },
  {
   "cell_type": "code",
   "execution_count": 12,
   "metadata": {
    "collapsed": false
   },
   "outputs": [],
   "source": [
    "# print char_allchars\n",
    "# print char_allchars.getNumPartitions()\n",
    "# print char_allchars.count()\n",
    "# print char_allchars.take(1)"
   ]
  },
  {
   "cell_type": "markdown",
   "metadata": {},
   "source": [
    "### Search the graph"
   ]
  },
  {
   "cell_type": "markdown",
   "metadata": {},
   "source": [
    "**Original function:**"
   ]
  },
  {
   "cell_type": "code",
   "execution_count": 23,
   "metadata": {
    "collapsed": false
   },
   "outputs": [],
   "source": [
    "def bfss(charGraph, startNode, diameter):\n",
    "    \n",
    "    dist = 0\n",
    "    searchNodes = sc.parallelize([startNode]).map(lambda x: (x, 0))\n",
    "    frontier = sc.parallelize([startNode]).map(lambda x: (x, 0))\n",
    "    \n",
    "    while dist < diameter and searchNodes.count()>0:\n",
    "        dist += 1\n",
    "        children = charGraph.join(searchNodes).flatMap(lambda x: x[1][0]).map(lambda x: (x, dist))\n",
    "        frontier = frontier.union(children).reduceByKey(min).cache()\n",
    "        searchNodes = frontier.filter(lambda x: x[1]==dist).cache()\n",
    "        \n",
    "    return frontier.count()"
   ]
  },
  {
   "cell_type": "code",
   "execution_count": 14,
   "metadata": {
    "collapsed": false
   },
   "outputs": [
    {
     "name": "stdout",
     "output_type": "stream",
     "text": [
      "CAPTAIN AMERICA 6403\n",
      "CPU times: user 233 ms, sys: 51.7 ms, total: 285 ms\n",
      "Wall time: 20.9 s\n",
      "MISS THING/MARY 7\n",
      "CPU times: user 104 ms, sys: 19.9 ms, total: 124 ms\n",
      "Wall time: 3.21 s\n",
      "ORWELL 9\n",
      "CPU times: user 99 ms, sys: 20.5 ms, total: 120 ms\n",
      "Wall time: 2.97 s\n"
     ]
    }
   ],
   "source": [
    "char = 'CAPTAIN AMERICA'\n",
    "%time print char, bfss(char_allchars, char, 10)\n",
    "\n",
    "char = 'MISS THING/MARY'\n",
    "%time print char, bfss(char_allchars, char, 10)\n",
    "\n",
    "char = 'ORWELL'\n",
    "%time print char, bfss(char_allchars, char, 10)"
   ]
  },
  {
   "cell_type": "markdown",
   "metadata": {},
   "source": [
    "**Optimized function:**"
   ]
  },
  {
   "cell_type": "code",
   "execution_count": 15,
   "metadata": {
    "collapsed": false
   },
   "outputs": [],
   "source": [
    "def nodes_update(x, explored):\n",
    "    explored.add(1)\n",
    "    return x"
   ]
  },
  {
   "cell_type": "code",
   "execution_count": 16,
   "metadata": {
    "collapsed": false
   },
   "outputs": [],
   "source": [
    "def bfssOpt(charGraph, startNode):\n",
    "    \n",
    "    dist = 0\n",
    "    searchNodes = sc.parallelize([startNode]).map(lambda x: (x, 0))\n",
    "    frontier = sc.parallelize([startNode]).map(lambda x: (x, 0)).partitionBy(20)\n",
    "    explored = sc.accumulator(1)\n",
    "    \n",
    "    while not searchNodes.isEmpty():\n",
    "        dist += 1\n",
    "        children = charGraph.join(searchNodes).flatMap(lambda x: x[1][0]).map(lambda x: (x, dist)).partitionBy(20)\n",
    "        frontier = frontier.union(children).reduceByKey(min).partitionBy(20).cache()\n",
    "        searchNodes = frontier.filter(lambda x: x[1]==dist).map(lambda x: nodes_update(x, explored)).partitionBy(20).cache()\n",
    "        \n",
    "    return explored.value"
   ]
  },
  {
   "cell_type": "code",
   "execution_count": 18,
   "metadata": {
    "collapsed": false
   },
   "outputs": [
    {
     "name": "stdout",
     "output_type": "stream",
     "text": [
      "CAPTAIN AMERICA 6403\n",
      "CPU times: user 190 ms, sys: 42.3 ms, total: 233 ms\n",
      "Wall time: 7.41 s\n",
      "MISS THING/MARY 7\n",
      "CPU times: user 109 ms, sys: 23.7 ms, total: 133 ms\n",
      "Wall time: 2.97 s\n",
      "ORWELL 9\n",
      "CPU times: user 116 ms, sys: 25.3 ms, total: 141 ms\n",
      "Wall time: 2.9 s\n"
     ]
    }
   ],
   "source": [
    "char = 'CAPTAIN AMERICA'\n",
    "%time print char, bfssOpt(char_allchars, char)\n",
    "\n",
    "char = 'MISS THING/MARY'\n",
    "%time print char, bfssOpt(char_allchars, char)\n",
    "\n",
    "char = 'ORWELL'\n",
    "%time print char, bfssOpt(char_allchars, char)"
   ]
  }
 ],
 "metadata": {
  "kernelspec": {
   "display_name": "Python 2",
   "language": "python",
   "name": "python2"
  },
  "language_info": {
   "codemirror_mode": {
    "name": "ipython",
    "version": 2
   },
   "file_extension": ".py",
   "mimetype": "text/x-python",
   "name": "python",
   "nbconvert_exporter": "python",
   "pygments_lexer": "ipython2",
   "version": "2.7.10"
  }
 },
 "nbformat": 4,
 "nbformat_minor": 0
}
