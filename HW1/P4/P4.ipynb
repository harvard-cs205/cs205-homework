{
 "cells": [
  {
   "cell_type": "code",
   "execution_count": 1,
   "metadata": {
    "collapsed": true
   },
   "outputs": [],
   "source": [
    "import findspark\n",
    "findspark.init()\n",
    "\n",
    "import pyspark\n",
    "sc = pyspark.SparkContext(appName=\"Spark 2\")\n",
    "\n",
    "import numpy as np\n",
    "import matplotlib.pyplot as plt \n",
    "import matplotlib.cm as cm"
   ]
  },
  {
   "cell_type": "code",
   "execution_count": 2,
   "metadata": {
    "collapsed": false
   },
   "outputs": [],
   "source": [
    "from P4_bfs import *"
   ]
  },
  {
   "cell_type": "code",
   "execution_count": 3,
   "metadata": {
    "collapsed": false
   },
   "outputs": [],
   "source": [
    "# Number of partitions we want\n",
    "n_parts = 20\n",
    "\n",
    "# Import data and make hero graph\n",
    "hero_graph = make_hero_graph('../../DataSources/source.csv', sc, n_parts)"
   ]
  },
  {
   "cell_type": "code",
   "execution_count": 4,
   "metadata": {
    "collapsed": false
   },
   "outputs": [],
   "source": [
    "source_list = [u'CAPTAIN AMERICA', u'MISS THING/MARY', u'ORWELL']\n",
    "touched_rec = []\n",
    "for source_node in source_list:\n",
    "    curr_nodes = do_bfs2(sc, source_node, hero_graph, n_parts)\n",
    "\n",
    "    # Count the number of touched nodes at each iteration\n",
    "    touched_rec.append(curr_nodes.map(lambda x: (x[1], x[0]))\n",
    "                       .countByKey().items())"
   ]
  },
  {
   "cell_type": "code",
   "execution_count": 5,
   "metadata": {
    "collapsed": false
   },
   "outputs": [
    {
     "data": {
      "text/plain": [
       "[[(0, 1), (1, 1906), (2, 54399), (3, 1144)],\n",
       " [(0, 1), (1, 6)],\n",
       " [(0, 1), (1, 8)]]"
      ]
     },
     "execution_count": 5,
     "metadata": {},
     "output_type": "execute_result"
    }
   ],
   "source": [
    "touched_rec"
   ]
  },
  {
   "cell_type": "code",
   "execution_count": 10,
   "metadata": {
    "collapsed": false
   },
   "outputs": [],
   "source": [
    "# Save number of touched nodes at each iteration in file\n",
    "with open('P4.txt', 'w') as f:\n",
    "    f.write('Number of touched nodes at each iteration: (distance, # of heroes)\\n\\n')\n",
    "    for source_i, source_node in enumerate(source_list):\n",
    "        f.write(source_node)\n",
    "        f.write(':')\n",
    "        f.write(\"{}\".format(touched_rec[source_i]))\n",
    "        f.write('\\n\\n')"
   ]
  }
 ],
 "metadata": {
  "kernelspec": {
   "display_name": "Python 2",
   "language": "python",
   "name": "python2"
  },
  "language_info": {
   "codemirror_mode": {
    "name": "ipython",
    "version": 2
   },
   "file_extension": ".py",
   "mimetype": "text/x-python",
   "name": "python",
   "nbconvert_exporter": "python",
   "pygments_lexer": "ipython2",
   "version": "2.7.6"
  }
 },
 "nbformat": 4,
 "nbformat_minor": 0
}
