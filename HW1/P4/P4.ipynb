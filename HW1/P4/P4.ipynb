{
 "cells": [
  {
   "cell_type": "code",
   "execution_count": 1,
   "metadata": {
    "collapsed": false
   },
   "outputs": [],
   "source": [
    "import findspark\n",
    "findspark.init()\n",
    "import pyspark\n",
    "sc = pyspark.SparkContext(appName=\"Spark1\")\n",
    "import re\n",
    "from P4_bfs import bfs"
   ]
  },
  {
   "cell_type": "code",
   "execution_count": 2,
   "metadata": {
    "collapsed": false
   },
   "outputs": [],
   "source": [
    "#source_rdd will contain (key=character, value=a comic that the character is in)\n",
    "source_rdd = sc.textFile(\"source.csv\",100)\n",
    "cleaner_regex = re.compile('\"(.+)\",\"(.+)\"')\n",
    "source_rdd = source_rdd.map(lambda line: cleaner_regex.search(line).groups())"
   ]
  },
  {
   "cell_type": "code",
   "execution_count": 3,
   "metadata": {
    "collapsed": false
   },
   "outputs": [],
   "source": [
    "#comic_rdd will contain (key=comic, value=list of characters in the comic)\n",
    "comic_rdd = source_rdd.map(lambda (character, comic): (comic, [character]))\n",
    "comic_rdd = comic_rdd.reduceByKey(lambda chars1, chars2: chars1 + chars2)"
   ]
  },
  {
   "cell_type": "code",
   "execution_count": 4,
   "metadata": {
    "collapsed": false
   },
   "outputs": [],
   "source": [
    "#char_rdd will contain (key=character, value=set of comics the character is in)\n",
    "char_rdd = source_rdd.map(lambda (character, comic): (character, set([comic])))\n",
    "char_rdd = char_rdd.reduceByKey(lambda chars1, chars2: chars1.union(chars2))"
   ]
  },
  {
   "cell_type": "code",
   "execution_count": 5,
   "metadata": {
    "collapsed": false
   },
   "outputs": [
    {
     "data": {
      "text/plain": [
       "MapPartitionsRDD[14] at mapPartitions at PythonRDD.scala:342"
      ]
     },
     "execution_count": 5,
     "metadata": {},
     "output_type": "execute_result"
    }
   ],
   "source": [
    "#now we want to make adj_matrix_rdd which contains \n",
    "#(key=character1, value=set of characters that appear in some comic with character1)\n",
    "\n",
    "#dictionary where key=comic, value=list of characters in the comic\n",
    "comic_dict = comic_rdd.collectAsMap()\n",
    "\n",
    "def flatten (lst_of_lsts):\n",
    "    #helper function that takes a list of list and returns a flattened list\n",
    "    flat = []\n",
    "    for l in lst_of_lsts:\n",
    "        flat.extend(l)\n",
    "    return flat\n",
    "\n",
    "adj_matrix_rdd = char_rdd.map(lambda (char,comics): (char, list(set(flatten([comic_dict[comic] for comic in comics])))))\n",
    "adj_matrix_rdd = adj_matrix_rdd.partitionBy(100)\n",
    "adj_matrix_rdd.cache()"
   ]
  },
  {
   "cell_type": "code",
   "execution_count": 10,
   "metadata": {
    "collapsed": false,
    "scrolled": false
   },
   "outputs": [
    {
     "name": "stdout",
     "output_type": "stream",
     "text": [
      "6408\n",
      "7\n",
      "9\n"
     ]
    }
   ],
   "source": [
    "#BFS using RDDs\n",
    "sources = ['CAPTAIN AMERICA','MISS THING/MARY','ORWELL']\n",
    "#call into bfs\n",
    "for source in sources:\n",
    "    bfs(sc, adj_matrix_rdd, source, 10)\n"
   ]
  },
  {
   "cell_type": "code",
   "execution_count": null,
   "metadata": {
    "collapsed": true
   },
   "outputs": [],
   "source": [
    "paths_"
   ]
  }
 ],
 "metadata": {
  "kernelspec": {
   "display_name": "Python 2",
   "language": "python",
   "name": "python2"
  },
  "language_info": {
   "codemirror_mode": {
    "name": "ipython",
    "version": 2
   },
   "file_extension": ".py",
   "mimetype": "text/x-python",
   "name": "python",
   "nbconvert_exporter": "python",
   "pygments_lexer": "ipython2",
   "version": "2.7.10"
  }
 },
 "nbformat": 4,
 "nbformat_minor": 0
}
