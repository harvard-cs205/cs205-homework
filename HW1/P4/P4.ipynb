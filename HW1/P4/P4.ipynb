{
 "cells": [
  {
   "cell_type": "code",
   "execution_count": 1,
   "metadata": {
    "collapsed": false
   },
   "outputs": [],
   "source": [
    "from pyspark import SparkContext\n",
    "from pyspark import AccumulatorParam\n",
    "sc = SparkContext(\"local\", \"P4\")"
   ]
  },
  {
   "cell_type": "code",
   "execution_count": 2,
   "metadata": {
    "collapsed": false
   },
   "outputs": [
    {
     "data": {
      "text/plain": [
       "[u'\"FROST, CARMILLA\",\"AA2 35\"']"
      ]
     },
     "execution_count": 2,
     "metadata": {},
     "output_type": "execute_result"
    }
   ],
   "source": [
    "source = sc.textFile(\"source.csv\")\n",
    "source.take(1)"
   ]
  },
  {
   "cell_type": "code",
   "execution_count": 3,
   "metadata": {
    "collapsed": false
   },
   "outputs": [],
   "source": [
    "def comic_KV(x):\n",
    "    K_V = x.split('\",\"')\n",
    "    return (K_V[1][0:-1], [K_V[0][1:]])\n",
    "def node_KV(x):\n",
    "    K_V = x.split('\",\"')\n",
    "    return (K_V[1][0:-1], K_V[0][1:])\n",
    "def get_neighbors(val):\n",
    "    c_n = val[1]\n",
    "    neighbors = c_n[1][:]\n",
    "    neighbors.remove(c_n[0])\n",
    "    return (c_n[0], neighbors)\n",
    "def group_neighbors(x, y):\n",
    "    return set(x) | set(y)\n",
    "\n",
    "nodes = source.map(node_KV)\n",
    "comics = source.map(comic_KV)\n",
    "comics = comics.reduceByKey(lambda x,y: x + y)"
   ]
  },
  {
   "cell_type": "code",
   "execution_count": 4,
   "metadata": {
    "collapsed": false
   },
   "outputs": [],
   "source": [
    "nodes_neighbors = nodes.join(comics).map(get_neighbors).reduceByKey(group_neighbors)\n",
    "sorted_neighbors = nodes_neighbors.sortByKey()"
   ]
  },
  {
   "cell_type": "code",
   "execution_count": 52,
   "metadata": {
    "collapsed": false
   },
   "outputs": [],
   "source": [
    "class SetAccumulatorParam(AccumulatorParam):\n",
    "    def zero(self, initialValue):\n",
    "        return initialValue\n",
    "\n",
    "    def addInPlace(self, v1, v2):\n",
    "        return v1 | v2\n",
    "    \n",
    "def count_overlap(dist1, dist2, accum):\n",
    "    accum.add(1)\n",
    "    return min(dist1, dist2)\n",
    "\n",
    "def ss_bfs_accum(rdd, root, diameter = -1):\n",
    "    rdd.partitionBy(20)\n",
    "    visit_rdd = rdd.filter(lambda x: x[0] == root)\n",
    "    distance_rdd = visit_rdd.map(lambda x: (x[0], 0))\n",
    "    hops = 1\n",
    "    count = 1\n",
    "    while (hops <= diameter or diameter < 0) and count > 0:\n",
    "        count_accum = rdd.context.accumulator(0)\n",
    "        visit_rdd = visit_rdd.flatMap(lambda x: x[1]).distinct(20)\n",
    "        distance_rdd = visit_rdd.map(lambda x: (x, hops)).union(distance_rdd).reduceByKey(lambda x,y: count_overlap(x,y,count_accum))\n",
    "        distance_rdd.foreach(lambda x:x)\n",
    "        count = visit_rdd.count() - count_accum.value\n",
    "        visit_rdd = rdd.join(visit_rdd.map(lambda x: (x, []))).map(lambda x: (x[0], x[1][0]))\n",
    "        hops += 1\n",
    "    return distance_rdd.count()\n",
    "\n",
    "def ss_bfs(rdd, root, diameter = -1):\n",
    "    next_hop = rdd.lookup(root)[0]\n",
    "    distances = {}\n",
    "    hops = 1\n",
    "    while (hops <= diameter or diameter < 0) and len(next_hop) > 0:\n",
    "        for node in next_hop:\n",
    "            if node not in distances:\n",
    "                distances[node] = hops\n",
    "        next_hop = set(rdd.filter(lambda x: x[0] in next_hop).flatMap(lambda x: x[1]).collect()) - set(distances.keys())\n",
    "        hops += 1\n",
    "    return distances"
   ]
  },
  {
   "cell_type": "code",
   "execution_count": 53,
   "metadata": {
    "collapsed": false
   },
   "outputs": [
    {
     "name": "stdout",
     "output_type": "stream",
     "text": [
      "6408\n",
      "7\n",
      "9\n",
      "6408\n",
      "7\n",
      "9\n",
      "6408\n",
      "7\n",
      "9\n",
      "6408\n",
      "7\n",
      "9\n",
      "1 loops, best of 3: 18.2 s per loop\n"
     ]
    }
   ],
   "source": [
    "%%timeit\n",
    "roots = [u'CAPTAIN AMERICA', u'MISS THING/MARY', u'ORWELL']\n",
    "for r in roots:\n",
    "    print ss_bfs_accum(sorted_neighbors, r)"
   ]
  },
  {
   "cell_type": "code",
   "execution_count": 6,
   "metadata": {
    "collapsed": false
   },
   "outputs": [
    {
     "name": "stdout",
     "output_type": "stream",
     "text": [
      "6408\n",
      "7\n",
      "9\n",
      "6408\n",
      "7\n",
      "9\n",
      "6408\n",
      "7\n",
      "9\n",
      "6408\n",
      "7\n",
      "9\n",
      "1 loops, best of 3: 1.95 s per loop\n"
     ]
    }
   ],
   "source": [
    "%%timeit\n",
    "roots = [u'CAPTAIN AMERICA', u'MISS THING/MARY', u'ORWELL']\n",
    "for r in roots:\n",
    "    print len(ss_bfs(sorted_neighbors, r))"
   ]
  },
  {
   "cell_type": "code",
   "execution_count": null,
   "metadata": {
    "collapsed": true
   },
   "outputs": [],
   "source": []
  }
 ],
 "metadata": {
  "kernelspec": {
   "display_name": "Python 2",
   "language": "python",
   "name": "python2"
  },
  "language_info": {
   "codemirror_mode": {
    "name": "ipython",
    "version": 2
   },
   "file_extension": ".py",
   "mimetype": "text/x-python",
   "name": "python",
   "nbconvert_exporter": "python",
   "pygments_lexer": "ipython2",
   "version": "2.7.10"
  }
 },
 "nbformat": 4,
 "nbformat_minor": 0
}
