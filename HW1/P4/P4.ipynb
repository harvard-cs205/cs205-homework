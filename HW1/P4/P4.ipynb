{
 "cells": [
  {
   "cell_type": "code",
   "execution_count": 1,
   "metadata": {
    "collapsed": true
   },
   "outputs": [],
   "source": [
    "import findspark\n",
    "findspark.init()\n",
    "\n",
    "import pyspark\n",
    "sc = pyspark.SparkContext(appName=\"Spark 2\")\n",
    "\n",
    "import numpy as np\n",
    "import matplotlib.pyplot as plt \n",
    "import matplotlib.cm as cm"
   ]
  },
  {
   "cell_type": "code",
   "execution_count": 2,
   "metadata": {
    "collapsed": false
   },
   "outputs": [],
   "source": [
    "from P4_bfs import *"
   ]
  },
  {
   "cell_type": "code",
   "execution_count": 3,
   "metadata": {
    "collapsed": false
   },
   "outputs": [],
   "source": [
    "# Number of partitions we want\n",
    "n_parts = 20\n",
    "\n",
    "# Import data and make hero graph\n",
    "hero_graph = make_hero_graph('../../DataSources/source.csv', sc, n_parts)"
   ]
  },
  {
   "cell_type": "code",
   "execution_count": 7,
   "metadata": {
    "collapsed": false
   },
   "outputs": [
    {
     "name": "stdout",
     "output_type": "stream",
     "text": [
      "Starting iteration 0\n",
      "Starting iteration 1\n",
      "Starting iteration 2\n",
      "Starting iteration 3\n",
      "Starting iteration 0\n",
      "Starting iteration 1\n",
      "Starting iteration 0\n",
      "Starting iteration 1\n"
     ]
    }
   ],
   "source": [
    "source_list = [u'CAPTAIN AMERICA', u'MISS THING/MARY', u'ORWELL']\n",
    "touched_rec = []\n",
    "all_node_hist = []\n",
    "for source_node in source_list:\n",
    "    node_hist = do_bfs2(sc, source_node, hero_graph, n_parts, None)\n",
    "    \n",
    "    all_node_hist.append(node_hist)\n",
    "    # Count the number of touched nodes at each iteration\n",
    "    touched_rec.append(node_hist.map(lambda x: (x[1], x[0]))\n",
    "                       .countByKey().items())"
   ]
  },
  {
   "cell_type": "code",
   "execution_count": 23,
   "metadata": {
    "collapsed": false
   },
   "outputs": [
    {
     "data": {
      "text/plain": [
       "[(u'PENTIGAAR', 2), (u'MORELLE, NOLAN', 2), (u'DE LA COURTE', 2)]"
      ]
     },
     "execution_count": 23,
     "metadata": {},
     "output_type": "execute_result"
    }
   ],
   "source": [
    "all_node_hist[0].filter(lambda x: x[1] == 2).take(3)"
   ]
  },
  {
   "cell_type": "code",
   "execution_count": 27,
   "metadata": {
    "collapsed": false
   },
   "outputs": [
    {
     "name": "stdout",
     "output_type": "stream",
     "text": [
      "Starting iteration 0\n"
     ]
    },
    {
     "data": {
      "text/plain": [
       "[]"
      ]
     },
     "execution_count": 27,
     "metadata": {},
     "output_type": "execute_result"
    }
   ],
   "source": [
    "(do_bfs2(sc, source_node, hero_graph, n_parts, u'TRITON')\n",
    " .filter(lambda x: x[1] == 2).take(3))"
   ]
  },
  {
   "cell_type": "code",
   "execution_count": 26,
   "metadata": {
    "collapsed": false
   },
   "outputs": [
    {
     "name": "stdout",
     "output_type": "stream",
     "text": [
      "Starting iteration 0\n",
      "Starting iteration 1\n"
     ]
    },
    {
     "data": {
      "text/plain": [
       "[]"
      ]
     },
     "execution_count": 26,
     "metadata": {},
     "output_type": "execute_result"
    }
   ],
   "source": [
    "(do_bfs2(sc, source_node, hero_graph, n_parts, u'PENTIGAAR')\n",
    " .filter(lambda x: x[1] == 3).take(3))"
   ]
  },
  {
   "cell_type": "code",
   "execution_count": 10,
   "metadata": {
    "collapsed": false
   },
   "outputs": [],
   "source": [
    "# Save number of touched nodes at each iteration in file\n",
    "with open('P4.txt', 'w') as f:\n",
    "    f.write('Number of touched nodes at each iteration: (distance, # of heroes)\\n\\n')\n",
    "    for source_i, source_node in enumerate(source_list):\n",
    "        f.write(source_node)\n",
    "        f.write(':')\n",
    "        f.write(\"{}\".format(touched_rec[source_i]))\n",
    "        f.write('\\n\\n')"
   ]
  },
  {
   "cell_type": "code",
   "execution_count": 28,
   "metadata": {
    "collapsed": true
   },
   "outputs": [],
   "source": [
    "def find_short_path(source_node, dest_node, hero_graph, n_parts):\n",
    "    node_hist = do_bfs2(sc, source_node, hero_graph, n_parts, dest_node)\n",
    "    # Find what the shortest distance from source to destination is\n",
    "    dest_dist = node_hist.lookup(dest_node)[0]\n",
    "    dest_set = {dest_node}\n",
    "\n",
    "    shortest_path_options = [[dest_node]]\n",
    "    for dist_i in range(dest_dist - 1, 0, -1):\n",
    "        # Working backward from the destination, \n",
    "        # find all the nodes that are pointing to it\n",
    "        connected_nodes = (hero_graph.filter(\n",
    "            lambda x: len(dest_set.intersection(x[1])) > 0))\n",
    "\n",
    "        # Find all the nodes along the shortest paths \n",
    "        # according to our BFS search \n",
    "        shortest_path_nodes = node_hist.filter(lambda x: x[1] == dist_i)\n",
    "\n",
    "        # The intersection of these are the nodes that are potentially\n",
    "        # along the shortest path between the source and destination nodes.\n",
    "        possible_path_node = connected_nodes.join(shortest_path_nodes)\n",
    "        dest_set = set(possible_path_node.keys().collect())\n",
    "\n",
    "        shortest_path_options.append(list(dest_set))\n",
    "    shortest_path_options.append([source_node])\n",
    "    # Return one possible shortest path\n",
    "    return [options[0] for options in reversed(shortest_path_options)]"
   ]
  },
  {
   "cell_type": "code",
   "execution_count": 29,
   "metadata": {
    "collapsed": true
   },
   "outputs": [],
   "source": [
    "source_node = u'CAPTAIN AMERICA'\n",
    "# dest_node = u'KLEIN, SUMMER'\n",
    "dest_node = u'PENTIGAAR'"
   ]
  },
  {
   "cell_type": "code",
   "execution_count": 17,
   "metadata": {
    "collapsed": false
   },
   "outputs": [
    {
     "data": {
      "text/plain": [
       "[(u'PENTIGAAR', 2), (u'MORELLE, NOLAN', 2), (u'DE LA COURTE', 2)]"
      ]
     },
     "execution_count": 17,
     "metadata": {},
     "output_type": "execute_result"
    }
   ],
   "source": [
    "all_node_hist[0].filter(lambda x: x[1] == 2).take(3)"
   ]
  },
  {
   "cell_type": "code",
   "execution_count": 30,
   "metadata": {
    "collapsed": false
   },
   "outputs": [
    {
     "name": "stdout",
     "output_type": "stream",
     "text": [
      "Starting iteration 0\n",
      "Starting iteration 1\n"
     ]
    }
   ],
   "source": [
    "short_path = find_short_path(source_node, \n",
    "                             dest_node, \n",
    "                             hero_graph, \n",
    "                             n_parts)"
   ]
  },
  {
   "cell_type": "code",
   "execution_count": 31,
   "metadata": {
    "collapsed": false
   },
   "outputs": [
    {
     "data": {
      "text/plain": [
       "[u'CAPTAIN AMERICA', u'HELA [ASGARDIAN]', u'PENTIGAAR']"
      ]
     },
     "execution_count": 31,
     "metadata": {},
     "output_type": "execute_result"
    }
   ],
   "source": [
    "short_path"
   ]
  },
  {
   "cell_type": "code",
   "execution_count": 119,
   "metadata": {
    "collapsed": true
   },
   "outputs": [],
   "source": [
    "short_path = find_short_path(source_node, \n",
    "                             dest_node, \n",
    "                             node_hist, \n",
    "                             hero_graph)"
   ]
  },
  {
   "cell_type": "code",
   "execution_count": 120,
   "metadata": {
    "collapsed": false
   },
   "outputs": [
    {
     "data": {
      "text/plain": [
       "[u'CAPTAIN AMERICA', u'AURORA/JEANNE-MARIE ', u'LEO II/']"
      ]
     },
     "execution_count": 120,
     "metadata": {},
     "output_type": "execute_result"
    }
   ],
   "source": [
    "short_path"
   ]
  },
  {
   "cell_type": "code",
   "execution_count": 18,
   "metadata": {
    "collapsed": false
   },
   "outputs": [
    {
     "data": {
      "text/plain": [
       "[(u'PENTIGAAR',\n",
       "  {u'BALDER [ASGARDIAN]',\n",
       "   u'BETA RAY BILL',\n",
       "   u'CAPTAIN MARVEL II/MO',\n",
       "   u'FAIRMONT, HANNAH',\n",
       "   u'FANDRAL [ASGARDIAN]',\n",
       "   u'HEIMDALL [ASGARDIAN]',\n",
       "   u'HELA [ASGARDIAN]',\n",
       "   u'HOGUN [ASGARDIAN]',\n",
       "   u'KINCAID, DR. JANE FO',\n",
       "   u'KURSE/ALGRIM [ASGARD',\n",
       "   u'MALEKITH/MALCOLM KEI',\n",
       "   u'MOONDRAGON/HEATHER D',\n",
       "   u'NEFFETHESK',\n",
       "   u'ODIN [ASGARDIAN]',\n",
       "   u'OLSON, MRS.',\n",
       "   u'QUASAR III/WENDELL V',\n",
       "   u'RYAN, THOMAS',\n",
       "   u'SIF',\n",
       "   u'STARFOX/EROS',\n",
       "   u'THOR/DR. DONALD BLAK',\n",
       "   u'TIGRA/GREER NELSON',\n",
       "   u'TOOTHGNASHER',\n",
       "   u'TOOTHGRINDER',\n",
       "   u'VOLLA',\n",
       "   u'VOLSTAGG'}),\n",
       " (u'PARKER, MARY',\n",
       "  {u'BROMWELL, DR.',\n",
       "   u'BROWN, FRANK',\n",
       "   u'BYRNES, GAYLE WATSON',\n",
       "   u'BYRNES, TIM',\n",
       "   u'DR. OCTOPUS/OTTO OCT',\n",
       "   u'FITZPATRICK, WILL',\n",
       "   u'HUMAN TORCH/JOHNNY S',\n",
       "   u'JAMESON, J. JONAH',\n",
       "   u'LEEDS, BETTY BRANT',\n",
       "   u'MR. FANTASTIC/REED R',\n",
       "   u'OSBORN, HARRY',\n",
       "   u'OSBORN, LIZ ALLAN',\n",
       "   u'PARKER, BEN',\n",
       "   u'PARKER, MAY',\n",
       "   u'PARKER, RICHARD',\n",
       "   u'RED SKULL II/ALBERT ',\n",
       "   u'ROBERTSON, JOE',\n",
       "   u'SPIDER-MAN/PETER PAR',\n",
       "   u'STACY, GWEN',\n",
       "   u'THING/BENJAMIN J. GR',\n",
       "   u'THOMPSON, EUGENE FLA',\n",
       "   u'WATSON, ANNA',\n",
       "   u'WATSON, MADELINE',\n",
       "   u'WATSON, PHILIP',\n",
       "   u'WATSON-PARKER, MARY '})]"
      ]
     },
     "execution_count": 18,
     "metadata": {},
     "output_type": "execute_result"
    }
   ],
   "source": [
    "hero_graph.take(2)"
   ]
  },
  {
   "cell_type": "code",
   "execution_count": 29,
   "metadata": {
    "collapsed": false
   },
   "outputs": [],
   "source": [
    "reverse_graph = (hero_graph.flatMap(lambda x: [(y, x[0]) for y in x[1]])\n",
    "                 .groupByKey()\n",
    "                 .mapValues(set))"
   ]
  },
  {
   "cell_type": "code",
   "execution_count": 32,
   "metadata": {
    "collapsed": true
   },
   "outputs": [],
   "source": [
    "reverse_join = hero_graph.join(reverse_graph)"
   ]
  },
  {
   "cell_type": "code",
   "execution_count": 34,
   "metadata": {
    "collapsed": false
   },
   "outputs": [],
   "source": [
    "graph_sing_link = reverse_join.mapValues(lambda x: x[0].union(x[1]))"
   ]
  },
  {
   "cell_type": "code",
   "execution_count": 38,
   "metadata": {
    "collapsed": true
   },
   "outputs": [],
   "source": [
    "graph_double_link = reverse_join.mapValues(lambda x: x[0].intersection(x[1]))"
   ]
  },
  {
   "cell_type": "code",
   "execution_count": 36,
   "metadata": {
    "collapsed": false
   },
   "outputs": [
    {
     "data": {
      "text/plain": [
       "[(u'PENTIGAAR',\n",
       "  {u'BALDER [ASGARDIAN]',\n",
       "   u'BETA RAY BILL',\n",
       "   u'CAPTAIN MARVEL II/MO',\n",
       "   u'FAIRMONT, HANNAH',\n",
       "   u'FANDRAL [ASGARDIAN]',\n",
       "   u'HEIMDALL [ASGARDIAN]',\n",
       "   u'HELA [ASGARDIAN]',\n",
       "   u'HOGUN [ASGARDIAN]',\n",
       "   u'KINCAID, DR. JANE FO',\n",
       "   u'KURSE/ALGRIM [ASGARD',\n",
       "   u'MALEKITH/MALCOLM KEI',\n",
       "   u'MOONDRAGON/HEATHER D',\n",
       "   u'NEFFETHESK',\n",
       "   u'ODIN [ASGARDIAN]',\n",
       "   u'OLSON, MRS.',\n",
       "   u'QUASAR III/WENDELL V',\n",
       "   u'RYAN, THOMAS',\n",
       "   u'SIF',\n",
       "   u'STARFOX/EROS',\n",
       "   u'THOR/DR. DONALD BLAK',\n",
       "   u'TIGRA/GREER NELSON',\n",
       "   u'TOOTHGNASHER',\n",
       "   u'TOOTHGRINDER',\n",
       "   u'VOLLA',\n",
       "   u'VOLSTAGG'}),\n",
       " (u'PARKER, MARY',\n",
       "  {u'BROMWELL, DR.',\n",
       "   u'BROWN, FRANK',\n",
       "   u'BYRNES, GAYLE WATSON',\n",
       "   u'BYRNES, TIM',\n",
       "   u'DR. OCTOPUS/OTTO OCT',\n",
       "   u'FITZPATRICK, WILL',\n",
       "   u'HUMAN TORCH/JOHNNY S',\n",
       "   u'JAMESON, J. JONAH',\n",
       "   u'LEEDS, BETTY BRANT',\n",
       "   u'MR. FANTASTIC/REED R',\n",
       "   u'OSBORN, HARRY',\n",
       "   u'OSBORN, LIZ ALLAN',\n",
       "   u'PARKER, BEN',\n",
       "   u'PARKER, MAY',\n",
       "   u'PARKER, RICHARD',\n",
       "   u'RED SKULL II/ALBERT ',\n",
       "   u'ROBERTSON, JOE',\n",
       "   u'SPIDER-MAN/PETER PAR',\n",
       "   u'STACY, GWEN',\n",
       "   u'THING/BENJAMIN J. GR',\n",
       "   u'THOMPSON, EUGENE FLA',\n",
       "   u'WATSON, ANNA',\n",
       "   u'WATSON, MADELINE',\n",
       "   u'WATSON, PHILIP',\n",
       "   u'WATSON-PARKER, MARY '}),\n",
       " (u'CONTEMPLATOR/TATH KI',\n",
       "  {u'ANGEL/WARREN KENNETH',\n",
       "   u'ANOMALY III',\n",
       "   u'ANTHROMORPHO',\n",
       "   u'ASTRONOMER',\n",
       "   u'AURORA/JEANNE-MARIE ',\n",
       "   u'BALLANTINE, KAYLA',\n",
       "   u'CAPTAIN AMERICA',\n",
       "   u'CAREGIVER/RUBANNA LA',\n",
       "   u'CHAMPION/TRYCO SLATT',\n",
       "   u'CHIEF EXAMINER',\n",
       "   u'COLLECTOR/TANELEER T',\n",
       "   u'COLOSSUS II/PETER RA',\n",
       "   u'CYCLOPS/SCOTT SUMMER',\n",
       "   u'DR. DRUID/ANTHONY LU',\n",
       "   u'DRAX/ARTHUR DOUGLAS',\n",
       "   u'EGO',\n",
       "   u\"EMPRESS S'BYLL [SKRU\",\n",
       "   u'EPOCH',\n",
       "   u'ERISHKIGEL II/HOLLY ',\n",
       "   u'ETERNITY/ADAM QADMON',\n",
       "   u'FANG',\n",
       "   u'FATH',\n",
       "   u'GALACTUS/GALAN',\n",
       "   u'GARDENER/ORD ZYONYZ ',\n",
       "   u'GRANDMASTER/EN DWI G',\n",
       "   u'HARKNESS, AGATHA',\n",
       "   u'HAVOK/ALEX SUMMERS ',\n",
       "   u'HERCULES [GREEK GOD]',\n",
       "   u'HUDSON, HEATHER',\n",
       "   u'HULK/DR. ROBERT BRUC',\n",
       "   u'HUMAN TORCH/JOHNNY S',\n",
       "   u'ICEMAN/ROBERT BOBBY ',\n",
       "   u'INVISIBLE WOMAN/SUE ',\n",
       "   u'JEMIAH',\n",
       "   u'KAMO THARNN',\n",
       "   u'KID REAPER',\n",
       "   u\"KISMET/J'RIDIA STARD\",\n",
       "   u'LIVING LIGHTNING/MIG',\n",
       "   u'LIVING TRIBUNAL',\n",
       "   u'MAGUS',\n",
       "   u'MAKKARI/MIKE KHARY/I',\n",
       "   u'MANTIS/? BRANDT',\n",
       "   u'MARVEL BOY VI',\n",
       "   u'MARVEL GIRL/JEAN GRE',\n",
       "   u\"MIDNIGHT/M'NAI\",\n",
       "   u'MOONDRAGON/HEATHER D',\n",
       "   u'NORTHSTAR/JEAN-PAUL ',\n",
       "   u'NOVA II/FRANKIE RAYE',\n",
       "   u'NOVA/RICHARD RIDER',\n",
       "   u'OBLITERATOR [ELDER]',\n",
       "   u'OBLIVION',\n",
       "   u'PIP/PRINCE GOFERN',\n",
       "   u'POLARIS/LORNA DANE',\n",
       "   u'PROFESSOR X/CHARLES ',\n",
       "   u'PSYLOCKE/ELISABETH B',\n",
       "   u'QUAGMIRE',\n",
       "   u'QUASAR III/WENDELL V',\n",
       "   u'REPTYL',\n",
       "   u'ROGUE /',\n",
       "   u'RUNNER',\n",
       "   u'SASQUATCH/WALTER LAN',\n",
       "   u'SCARECROW/EBENEZER L',\n",
       "   u'SCARLET WITCH/WANDA ',\n",
       "   u'SHALLA BAL II',\n",
       "   u'SHAMAN/MICHAEL TWOYO',\n",
       "   u'SHE-HULK/JENNIFER WA',\n",
       "   u'SILVER SURFER IMPOST',\n",
       "   u'SILVER SURFER/NORRIN',\n",
       "   u'STORM/ORORO MUNROE S',\n",
       "   u'STRANGER',\n",
       "   u'STRONG GUY/GUIDO CAR',\n",
       "   u\"SUPER SKRULL/KL'RT\",\n",
       "   u'SUPREME INTELLIGENCE',\n",
       "   u'SWORDSMAN II/COTATI',\n",
       "   u'THANOS',\n",
       "   u'THING/BENJAMIN J. GR',\n",
       "   u'THUNDERBIRD II/JAMES',\n",
       "   u'THUNDERSTRIKE/ERIC K',\n",
       "   u'TRADER',\n",
       "   u'VISION ',\n",
       "   u'WARLOCK II/ADAM WARL',\n",
       "   u'WOLVERINE/LOGAN ',\n",
       "   u'WONDER MAN/SIMON WIL',\n",
       "   u'\\ufffdGAMORA'})]"
      ]
     },
     "execution_count": 36,
     "metadata": {},
     "output_type": "execute_result"
    }
   ],
   "source": [
    "graph_sing_link.take(3)"
   ]
  },
  {
   "cell_type": "code",
   "execution_count": 39,
   "metadata": {
    "collapsed": false
   },
   "outputs": [
    {
     "data": {
      "text/plain": [
       "[(u'PENTIGAAR',\n",
       "  {u'BALDER [ASGARDIAN]',\n",
       "   u'BETA RAY BILL',\n",
       "   u'CAPTAIN MARVEL II/MO',\n",
       "   u'FAIRMONT, HANNAH',\n",
       "   u'FANDRAL [ASGARDIAN]',\n",
       "   u'HEIMDALL [ASGARDIAN]',\n",
       "   u'HELA [ASGARDIAN]',\n",
       "   u'HOGUN [ASGARDIAN]',\n",
       "   u'KINCAID, DR. JANE FO',\n",
       "   u'KURSE/ALGRIM [ASGARD',\n",
       "   u'MALEKITH/MALCOLM KEI',\n",
       "   u'MOONDRAGON/HEATHER D',\n",
       "   u'NEFFETHESK',\n",
       "   u'ODIN [ASGARDIAN]',\n",
       "   u'OLSON, MRS.',\n",
       "   u'QUASAR III/WENDELL V',\n",
       "   u'RYAN, THOMAS',\n",
       "   u'SIF',\n",
       "   u'STARFOX/EROS',\n",
       "   u'THOR/DR. DONALD BLAK',\n",
       "   u'TIGRA/GREER NELSON',\n",
       "   u'TOOTHGNASHER',\n",
       "   u'TOOTHGRINDER',\n",
       "   u'VOLLA',\n",
       "   u'VOLSTAGG'}),\n",
       " (u'PARKER, MARY',\n",
       "  {u'BROMWELL, DR.',\n",
       "   u'BROWN, FRANK',\n",
       "   u'BYRNES, GAYLE WATSON',\n",
       "   u'BYRNES, TIM',\n",
       "   u'DR. OCTOPUS/OTTO OCT',\n",
       "   u'FITZPATRICK, WILL',\n",
       "   u'HUMAN TORCH/JOHNNY S',\n",
       "   u'JAMESON, J. JONAH',\n",
       "   u'LEEDS, BETTY BRANT',\n",
       "   u'MR. FANTASTIC/REED R',\n",
       "   u'OSBORN, HARRY',\n",
       "   u'OSBORN, LIZ ALLAN',\n",
       "   u'PARKER, BEN',\n",
       "   u'PARKER, MAY',\n",
       "   u'PARKER, RICHARD',\n",
       "   u'RED SKULL II/ALBERT ',\n",
       "   u'ROBERTSON, JOE',\n",
       "   u'SPIDER-MAN/PETER PAR',\n",
       "   u'STACY, GWEN',\n",
       "   u'THING/BENJAMIN J. GR',\n",
       "   u'THOMPSON, EUGENE FLA',\n",
       "   u'WATSON, ANNA',\n",
       "   u'WATSON, MADELINE',\n",
       "   u'WATSON, PHILIP',\n",
       "   u'WATSON-PARKER, MARY '}),\n",
       " (u'CONTEMPLATOR/TATH KI',\n",
       "  {u'ANGEL/WARREN KENNETH',\n",
       "   u'ANOMALY III',\n",
       "   u'ANTHROMORPHO',\n",
       "   u'ASTRONOMER',\n",
       "   u'AURORA/JEANNE-MARIE ',\n",
       "   u'BALLANTINE, KAYLA',\n",
       "   u'CAPTAIN AMERICA',\n",
       "   u'CAREGIVER/RUBANNA LA',\n",
       "   u'CHAMPION/TRYCO SLATT',\n",
       "   u'CHIEF EXAMINER',\n",
       "   u'COLLECTOR/TANELEER T',\n",
       "   u'COLOSSUS II/PETER RA',\n",
       "   u'CYCLOPS/SCOTT SUMMER',\n",
       "   u'DR. DRUID/ANTHONY LU',\n",
       "   u'DRAX/ARTHUR DOUGLAS',\n",
       "   u'EGO',\n",
       "   u\"EMPRESS S'BYLL [SKRU\",\n",
       "   u'EPOCH',\n",
       "   u'ERISHKIGEL II/HOLLY ',\n",
       "   u'ETERNITY/ADAM QADMON',\n",
       "   u'FANG',\n",
       "   u'FATH',\n",
       "   u'GALACTUS/GALAN',\n",
       "   u'GARDENER/ORD ZYONYZ ',\n",
       "   u'GRANDMASTER/EN DWI G',\n",
       "   u'HARKNESS, AGATHA',\n",
       "   u'HAVOK/ALEX SUMMERS ',\n",
       "   u'HERCULES [GREEK GOD]',\n",
       "   u'HUDSON, HEATHER',\n",
       "   u'HULK/DR. ROBERT BRUC',\n",
       "   u'HUMAN TORCH/JOHNNY S',\n",
       "   u'ICEMAN/ROBERT BOBBY ',\n",
       "   u'INVISIBLE WOMAN/SUE ',\n",
       "   u'JEMIAH',\n",
       "   u'KAMO THARNN',\n",
       "   u'KID REAPER',\n",
       "   u\"KISMET/J'RIDIA STARD\",\n",
       "   u'LIVING LIGHTNING/MIG',\n",
       "   u'LIVING TRIBUNAL',\n",
       "   u'MAGUS',\n",
       "   u'MAKKARI/MIKE KHARY/I',\n",
       "   u'MANTIS/? BRANDT',\n",
       "   u'MARVEL BOY VI',\n",
       "   u'MARVEL GIRL/JEAN GRE',\n",
       "   u\"MIDNIGHT/M'NAI\",\n",
       "   u'MOONDRAGON/HEATHER D',\n",
       "   u'NORTHSTAR/JEAN-PAUL ',\n",
       "   u'NOVA II/FRANKIE RAYE',\n",
       "   u'NOVA/RICHARD RIDER',\n",
       "   u'OBLITERATOR [ELDER]',\n",
       "   u'OBLIVION',\n",
       "   u'PIP/PRINCE GOFERN',\n",
       "   u'POLARIS/LORNA DANE',\n",
       "   u'PROFESSOR X/CHARLES ',\n",
       "   u'PSYLOCKE/ELISABETH B',\n",
       "   u'QUAGMIRE',\n",
       "   u'QUASAR III/WENDELL V',\n",
       "   u'REPTYL',\n",
       "   u'ROGUE /',\n",
       "   u'RUNNER',\n",
       "   u'SASQUATCH/WALTER LAN',\n",
       "   u'SCARECROW/EBENEZER L',\n",
       "   u'SCARLET WITCH/WANDA ',\n",
       "   u'SHALLA BAL II',\n",
       "   u'SHAMAN/MICHAEL TWOYO',\n",
       "   u'SHE-HULK/JENNIFER WA',\n",
       "   u'SILVER SURFER IMPOST',\n",
       "   u'SILVER SURFER/NORRIN',\n",
       "   u'STORM/ORORO MUNROE S',\n",
       "   u'STRANGER',\n",
       "   u'STRONG GUY/GUIDO CAR',\n",
       "   u\"SUPER SKRULL/KL'RT\",\n",
       "   u'SUPREME INTELLIGENCE',\n",
       "   u'SWORDSMAN II/COTATI',\n",
       "   u'THANOS',\n",
       "   u'THING/BENJAMIN J. GR',\n",
       "   u'THUNDERBIRD II/JAMES',\n",
       "   u'THUNDERSTRIKE/ERIC K',\n",
       "   u'TRADER',\n",
       "   u'VISION ',\n",
       "   u'WARLOCK II/ADAM WARL',\n",
       "   u'WOLVERINE/LOGAN ',\n",
       "   u'WONDER MAN/SIMON WIL',\n",
       "   u'\\ufffdGAMORA'})]"
      ]
     },
     "execution_count": 39,
     "metadata": {},
     "output_type": "execute_result"
    }
   ],
   "source": [
    "graph_double_link.take(3)"
   ]
  },
  {
   "cell_type": "code",
   "execution_count": 16,
   "metadata": {
    "collapsed": false
   },
   "outputs": [
    {
     "data": {
      "text/plain": [
       "[(u'PENTIGAAR',\n",
       "  {u'BALDER [ASGARDIAN]',\n",
       "   u'BETA RAY BILL',\n",
       "   u'CAPTAIN MARVEL II/MO',\n",
       "   u'FAIRMONT, HANNAH',\n",
       "   u'FANDRAL [ASGARDIAN]',\n",
       "   u'HEIMDALL [ASGARDIAN]',\n",
       "   u'HELA [ASGARDIAN]',\n",
       "   u'HOGUN [ASGARDIAN]',\n",
       "   u'KINCAID, DR. JANE FO',\n",
       "   u'KURSE/ALGRIM [ASGARD',\n",
       "   u'MALEKITH/MALCOLM KEI',\n",
       "   u'MOONDRAGON/HEATHER D',\n",
       "   u'NEFFETHESK',\n",
       "   u'ODIN [ASGARDIAN]',\n",
       "   u'OLSON, MRS.',\n",
       "   u'QUASAR III/WENDELL V',\n",
       "   u'RYAN, THOMAS',\n",
       "   u'SIF',\n",
       "   u'STARFOX/EROS',\n",
       "   u'THOR/DR. DONALD BLAK',\n",
       "   u'TIGRA/GREER NELSON',\n",
       "   u'TOOTHGNASHER',\n",
       "   u'TOOTHGRINDER',\n",
       "   u'VOLLA',\n",
       "   u'VOLSTAGG'}),\n",
       " (u'PARKER, MARY',\n",
       "  {u'BROMWELL, DR.',\n",
       "   u'BROWN, FRANK',\n",
       "   u'BYRNES, GAYLE WATSON',\n",
       "   u'BYRNES, TIM',\n",
       "   u'DR. OCTOPUS/OTTO OCT',\n",
       "   u'FITZPATRICK, WILL',\n",
       "   u'HUMAN TORCH/JOHNNY S',\n",
       "   u'JAMESON, J. JONAH',\n",
       "   u'LEEDS, BETTY BRANT',\n",
       "   u'MR. FANTASTIC/REED R',\n",
       "   u'OSBORN, HARRY',\n",
       "   u'OSBORN, LIZ ALLAN',\n",
       "   u'PARKER, BEN',\n",
       "   u'PARKER, MAY',\n",
       "   u'PARKER, RICHARD',\n",
       "   u'RED SKULL II/ALBERT ',\n",
       "   u'ROBERTSON, JOE',\n",
       "   u'SPIDER-MAN/PETER PAR',\n",
       "   u'STACY, GWEN',\n",
       "   u'THING/BENJAMIN J. GR',\n",
       "   u'THOMPSON, EUGENE FLA',\n",
       "   u'WATSON, ANNA',\n",
       "   u'WATSON, MADELINE',\n",
       "   u'WATSON, PHILIP',\n",
       "   u'WATSON-PARKER, MARY '})]"
      ]
     },
     "execution_count": 16,
     "metadata": {},
     "output_type": "execute_result"
    }
   ],
   "source": [
    "hero_graph.take(2)"
   ]
  },
  {
   "cell_type": "code",
   "execution_count": 5,
   "metadata": {
    "collapsed": true
   },
   "outputs": [],
   "source": [
    "# Function that finds the number of connected components in a graph\n",
    "def find_connect_comp(sc, hero_graph, n_parts):\n",
    "    import time\n",
    "    # Get list of all heroes\n",
    "    hero_list = hero_graph.keys()\n",
    "    curr_hero_graph = hero_graph\n",
    "    connected_count = 0 # Count the number of connected components\n",
    "    connect_hist = [] # Record information about connected components\n",
    "\n",
    "    while hero_list.count() > 0:\n",
    "        t1 = time.time()\n",
    "        print(connected_count)\n",
    "\n",
    "        # Take a node that hasn't been explored yet\n",
    "        source_node = hero_list.first()\n",
    "\n",
    "        # Do BFS and recover all touched nodes\n",
    "        print('Running BFS...')\n",
    "        search_history = do_bfs2(sc, source_node, curr_hero_graph, n_parts)\n",
    "        search_history = search_history.partitionBy(n_parts, hash).cache()\n",
    "\n",
    "        # Determine remaining untouched nodes and repeat\n",
    "        print('Pruning nodes...')\n",
    "        hero_list = hero_list.subtract(search_history.keys(), n_parts)\n",
    "\n",
    "        # hero_list = hero_list.partitionBy(n_parts, hash).cache()\n",
    "\n",
    "        # Remove nodes that have been explored \n",
    "        curr_hero_graph = curr_hero_graph.subtractByKey(search_history)\n",
    "        curr_hero_graph = curr_hero_graph.partitionBy(n_parts, hash).cache()\n",
    "\n",
    "        t2 = time.time()\n",
    "        print((search_history.count(), curr_hero_graph.count(), t2 - t1))\n",
    "        connect_hist.append((connected_count, search_history.count(), t2 - t1))\n",
    "        connected_count = connected_count + 1\n",
    "    return connect_hist"
   ]
  },
  {
   "cell_type": "code",
   "execution_count": 6,
   "metadata": {
    "collapsed": false,
    "scrolled": true
   },
   "outputs": [
    {
     "name": "stdout",
     "output_type": "stream",
     "text": [
      "0\n",
      "Running BFS...\n",
      "Starting iteration 0\n",
      "Starting iteration 1\n",
      "Starting iteration 2\n",
      "Starting iteration 3\n",
      "Starting iteration 4\n",
      "Pruning nodes...\n",
      "(6408, 36, 11.533579111099243)\n",
      "1\n",
      "Running BFS...\n",
      "Starting iteration 0\n",
      "Starting iteration 1\n",
      "Pruning nodes...\n",
      "(2, 34, 2.8141069412231445)\n",
      "2\n",
      "Running BFS...\n",
      "Starting iteration 0\n",
      "Starting iteration 1\n",
      "Pruning nodes...\n",
      "(7, 27, 2.9499239921569824)\n",
      "3\n",
      "Running BFS...\n",
      "Starting iteration 0\n",
      "Pruning nodes...\n",
      "(1, 26, 1.3166470527648926)\n",
      "4\n",
      "Running BFS...\n",
      "Starting iteration 0\n",
      "Starting iteration 1\n",
      "Pruning nodes...\n",
      "(9, 17, 2.8925631046295166)\n",
      "5\n",
      "Running BFS...\n",
      "Starting iteration 0\n",
      "Pruning nodes...\n",
      "(1, 16, 1.316655158996582)\n",
      "6\n",
      "Running BFS...\n",
      "Starting iteration 0\n",
      "Pruning nodes...\n",
      "(1, 15, 1.3511109352111816)\n",
      "7\n",
      "Running BFS...\n",
      "Starting iteration 0\n",
      "Pruning nodes...\n",
      "(1, 14, 1.3415629863739014)\n",
      "8\n",
      "Running BFS...\n",
      "Starting iteration 0\n",
      "Pruning nodes...\n",
      "(1, 13, 1.4108080863952637)\n",
      "9\n",
      "Running BFS...\n",
      "Starting iteration 0\n",
      "Pruning nodes...\n",
      "(1, 12, 1.6079680919647217)\n",
      "10\n",
      "Running BFS...\n",
      "Starting iteration 0\n",
      "Pruning nodes...\n",
      "(1, 11, 1.3640379905700684)\n",
      "11\n",
      "Running BFS...\n",
      "Starting iteration 0\n",
      "Pruning nodes...\n",
      "(1, 10, 1.4562489986419678)\n",
      "12\n",
      "Running BFS...\n",
      "Starting iteration 0\n",
      "Pruning nodes...\n",
      "(1, 9, 1.4059889316558838)\n",
      "13\n",
      "Running BFS...\n",
      "Starting iteration 0\n",
      "Pruning nodes...\n",
      "(1, 8, 1.3729331493377686)\n",
      "14\n",
      "Running BFS...\n",
      "Starting iteration 0\n",
      "Pruning nodes...\n",
      "(1, 7, 1.3816471099853516)\n",
      "15\n",
      "Running BFS...\n",
      "Starting iteration 0\n",
      "Pruning nodes...\n",
      "(1, 6, 1.4326591491699219)\n",
      "16\n",
      "Running BFS...\n",
      "Starting iteration 0\n",
      "Pruning nodes...\n",
      "(1, 5, 1.3740451335906982)\n",
      "17\n",
      "Running BFS...\n",
      "Starting iteration 0\n",
      "Pruning nodes...\n",
      "(1, 4, 1.3732578754425049)\n",
      "18\n",
      "Running BFS...\n",
      "Starting iteration 0\n",
      "Pruning nodes...\n",
      "(1, 3, 1.3806469440460205)\n",
      "19\n",
      "Running BFS...\n",
      "Starting iteration 0\n",
      "Pruning nodes...\n",
      "(1, 2, 1.3709361553192139)\n",
      "20\n",
      "Running BFS...\n",
      "Starting iteration 0\n",
      "Pruning nodes...\n",
      "(1, 1, 1.387695074081421)\n",
      "21\n",
      "Running BFS...\n",
      "Starting iteration 0\n",
      "Pruning nodes...\n",
      "(1, 0, 1.3897809982299805)\n"
     ]
    }
   ],
   "source": [
    "connected_hist = find_connect_comp(sc, hero_graph, n_parts)"
   ]
  },
  {
   "cell_type": "code",
   "execution_count": 8,
   "metadata": {
    "collapsed": false
   },
   "outputs": [
    {
     "data": {
      "text/plain": [
       "[(0, 6408, 11.533579111099243),\n",
       " (1, 2, 2.8141069412231445),\n",
       " (2, 7, 2.9499239921569824),\n",
       " (3, 1, 1.3166470527648926),\n",
       " (4, 9, 2.8925631046295166),\n",
       " (5, 1, 1.316655158996582),\n",
       " (6, 1, 1.3511109352111816),\n",
       " (7, 1, 1.3415629863739014),\n",
       " (8, 1, 1.4108080863952637),\n",
       " (9, 1, 1.6079680919647217),\n",
       " (10, 1, 1.3640379905700684),\n",
       " (11, 1, 1.4562489986419678),\n",
       " (12, 1, 1.4059889316558838),\n",
       " (13, 1, 1.3729331493377686),\n",
       " (14, 1, 1.3816471099853516),\n",
       " (15, 1, 1.4326591491699219),\n",
       " (16, 1, 1.3740451335906982),\n",
       " (17, 1, 1.3732578754425049),\n",
       " (18, 1, 1.3806469440460205),\n",
       " (19, 1, 1.3709361553192139),\n",
       " (20, 1, 1.387695074081421),\n",
       " (21, 1, 1.3897809982299805)]"
      ]
     },
     "execution_count": 8,
     "metadata": {},
     "output_type": "execute_result"
    }
   ],
   "source": [
    "connected_hist"
   ]
  },
  {
   "cell_type": "code",
   "execution_count": null,
   "metadata": {
    "collapsed": true
   },
   "outputs": [],
   "source": [
    "import pyspark \n",
    "\n",
    "# This code is borrowed from Ray's github\n",
    "def link_string_to_KV(s):\n",
    "    src, dests = s.split(': ')\n",
    "    dests = [int(to) for to in dests.split(' ')]\n",
    "    return (int(src), set(dests))\n",
    "\n",
    "sc = pyspark.SparkContext()\n",
    "sc.setLogLevel('WARN')\n",
    "\n",
    "links = sc.textFile('s3://Harvard-CS205/wikipedia/links-simple-sorted.txt', 32)\n",
    "page_names = sc.textFile('s3://Harvard-CS205/wikipedia/titles-sorted.txt', 32)\n",
    "\n",
    "# process links into (node #, [neighbor node #, neighbor node #, ...]\n",
    "neighbor_graph = links.map(link_string_to_KV)\n",
    "\n",
    "# create an RDD for looking up page names from numbers\n",
    "# remember that it's all 1-indexed\n",
    "page_names = page_names.zipWithIndex().map(lambda (n, id): (id + 1, n))\n",
    "page_names = page_names.sortByKey().cache()\n",
    "\n",
    "\n",
    "# find Kevin Bacon\n",
    "Kevin_Bacon = page_names.filter(lambda (K, V): V == 'Kevin_Bacon').collect()\n",
    "# This should be [(node_id, 'Kevin_Bacon')]\n",
    "assert len(Kevin_Bacon) == 1\n",
    "Kevin_Bacon = Kevin_Bacon[0][0]  # extract node id\n",
    "\n",
    "# find Harvard University\n",
    "Harvard_University = page_names.filter(lambda (K, V):\n",
    "                                       V == 'Harvard_University').collect()\n",
    "# This should be [(node_id, 'Harvard_University')]\n",
    "assert len(Harvard_University) == 1\n",
    "Harvard_University = Harvard_University[0][0]  # extract node id\n",
    "    \n",
    "    \n",
    "\n",
    "# Import functions derived from Marvel graph computations\n",
    "from P5 import *\n",
    "\n",
    "# Run BFS from Kevin_Bacon\n",
    "n_parts = 20\n",
    "source_node = Kevin_Bacon\n",
    "dest_node = Harvard_University\n",
    "hero_graph = neighbor_graph\n",
    "\n",
    "node_hist = do_bfs_aws(sc, source_node, neighbor_graph, n_parts)\n"
   ]
  },
  {
   "cell_type": "code",
   "execution_count": null,
   "metadata": {
    "collapsed": true
   },
   "outputs": [],
   "source": [
    "source_node = Kevin_Bacon\n",
    "dest_node = Harvard_University\n",
    "hero_graph = neighbor_graph"
   ]
  },
  {
   "cell_type": "code",
   "execution_count": 13,
   "metadata": {
    "collapsed": false
   },
   "outputs": [
    {
     "data": {
      "text/plain": [
       "{u'ORWELL'}"
      ]
     },
     "execution_count": 13,
     "metadata": {},
     "output_type": "execute_result"
    }
   ],
   "source": [
    "{source_node}"
   ]
  },
  {
   "cell_type": "code",
   "execution_count": 15,
   "metadata": {
    "collapsed": false
   },
   "outputs": [
    {
     "data": {
      "text/plain": [
       "{u'ORWELL'}"
      ]
     },
     "execution_count": 15,
     "metadata": {},
     "output_type": "execute_result"
    }
   ],
   "source": [
    "set([source_node])"
   ]
  }
 ],
 "metadata": {
  "kernelspec": {
   "display_name": "Python 2",
   "language": "python",
   "name": "python2"
  },
  "language_info": {
   "codemirror_mode": {
    "name": "ipython",
    "version": 2
   },
   "file_extension": ".py",
   "mimetype": "text/x-python",
   "name": "python",
   "nbconvert_exporter": "python",
   "pygments_lexer": "ipython2",
   "version": "2.7.6"
  }
 },
 "nbformat": 4,
 "nbformat_minor": 0
}
