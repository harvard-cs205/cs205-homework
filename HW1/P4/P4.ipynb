{
 "cells": [
  {
   "cell_type": "code",
   "execution_count": 1,
   "metadata": {
    "collapsed": true
   },
   "outputs": [],
   "source": [
    "import findspark\n",
    "findspark.init()\n",
    "\n",
    "import pyspark\n",
    "sc = pyspark.SparkContext(appName=\"Spark 2\")\n",
    "\n",
    "import numpy as np\n",
    "import matplotlib.pyplot as plt \n",
    "import matplotlib.cm as cm"
   ]
  },
  {
   "cell_type": "code",
   "execution_count": 2,
   "metadata": {
    "collapsed": false
   },
   "outputs": [],
   "source": [
    "from P4_bfs import *"
   ]
  },
  {
   "cell_type": "code",
   "execution_count": 3,
   "metadata": {
    "collapsed": true
   },
   "outputs": [],
   "source": [
    "# Load marvel comic data\n",
    "dat = sc.textFile('../../DataSources/source.csv')\n",
    "\n",
    "# Remove quotations and split issue & hero name\n",
    "dat_split = dat.map(lambda x: x[1:-1].split('\",\"'))\n",
    "\n",
    "# Mapping between issue->hero\n",
    "dat_comic = dat_split.map(lambda x: (x[1], x[0]))\n",
    "\n",
    "# Mapping between issue->hero group\n",
    "comic_key = (dat_split.map(lambda x: (x[1], {x[0]}))\n",
    "             .reduceByKey(lambda a, b: a.union(b)))\n",
    "\n",
    "# Mapping between hero-> hero group\n",
    "comic_hero_join = dat_comic.join(comic_key).map(lambda x: x[1])\n",
    "\n",
    "# Aggregate acquaintances of a single hero across multiple\n",
    "hero_graph = (comic_hero_join.reduceByKey(lambda a, b: a.union(b))).cache()\n",
    "n_parts = 20\n",
    "hero_graph = hero_graph.partitionBy(n_parts, hash)"
   ]
  },
  {
   "cell_type": "code",
   "execution_count": 4,
   "metadata": {
    "collapsed": false
   },
   "outputs": [],
   "source": [
    "source_list = [u'CAPTAIN AMERICA', u'MISS THING/MARY', u'ORWELL']\n",
    "touched_rec = []\n",
    "for source_node in source_list:\n",
    "    curr_nodes = do_bfs2(sc, source_node, hero_graph)\n",
    "\n",
    "    # Count the number of touched nodes at each iteration\n",
    "    touched_rec.append(curr_nodes.map(lambda x: (x[1], x[0]))\n",
    "                       .countByKey().items())"
   ]
  },
  {
   "cell_type": "code",
   "execution_count": 6,
   "metadata": {
    "collapsed": true
   },
   "outputs": [],
   "source": [
    "curr_nodes"
   ]
  },
  {
   "cell_type": "code",
   "execution_count": 6,
   "metadata": {
    "collapsed": false
   },
   "outputs": [
    {
     "data": {
      "text/plain": [
       "[(0, 1), (1, 1906), (2, 54399), (3, 1144)]"
      ]
     },
     "execution_count": 6,
     "metadata": {},
     "output_type": "execute_result"
    }
   ],
   "source": [
    "touched_rec[0]"
   ]
  },
  {
   "cell_type": "code",
   "execution_count": null,
   "metadata": {
    "collapsed": true
   },
   "outputs": [],
   "source": [
    "with open(\"P3.txt\", \"w\") as text_file:\n",
    "    text_file.write(\"{}\".format(max_anagram))"
   ]
  },
  {
   "cell_type": "code",
   "execution_count": 10,
   "metadata": {
    "collapsed": false
   },
   "outputs": [],
   "source": [
    "# Save number of touched nodes at each iteration in file\n",
    "with open('P4.txt', 'w') as f:\n",
    "    f.write('Number of touched nodes at each iteration: (distance, # of heroes)\\n\\n')\n",
    "    for source_i, source_node in enumerate(source_list):\n",
    "        f.write(source_node)\n",
    "        f.write(':')\n",
    "        f.write(\"{}\".format(touched_rec[source_i]))\n",
    "        f.write('\\n\\n')"
   ]
  },
  {
   "cell_type": "code",
   "execution_count": null,
   "metadata": {
    "collapsed": true
   },
   "outputs": [],
   "source": []
  }
 ],
 "metadata": {
  "kernelspec": {
   "display_name": "Python 2",
   "language": "python",
   "name": "python2"
  },
  "language_info": {
   "codemirror_mode": {
    "name": "ipython",
    "version": 2
   },
   "file_extension": ".py",
   "mimetype": "text/x-python",
   "name": "python",
   "nbconvert_exporter": "python",
   "pygments_lexer": "ipython2",
   "version": "2.7.6"
  }
 },
 "nbformat": 4,
 "nbformat_minor": 0
}
