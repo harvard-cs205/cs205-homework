{
 "cells": [
  {
   "cell_type": "code",
   "execution_count": 1,
   "metadata": {
    "collapsed": false
   },
   "outputs": [],
   "source": [
    "import numpy as np\n",
    "import findspark\n",
    "findspark.init()\n",
    "import pyspark\n",
    "sc = pyspark.SparkContext(appName=\"P4\")"
   ]
  },
  {
   "cell_type": "code",
   "execution_count": 2,
   "metadata": {
    "collapsed": false,
    "scrolled": true
   },
   "outputs": [
    {
     "data": {
      "text/plain": [
       "[[u'\"FROST, CARMILLA', u'AA2 35\"'], [u'\"KILLRAVEN/JONATHAN R', u'AA2 35\"']]"
      ]
     },
     "execution_count": 2,
     "metadata": {},
     "output_type": "execute_result"
    }
   ],
   "source": [
    "comic_data = sc.textFile(\"source.csv\")\n",
    "#comic_data = comic_data.map(lambda x: (''.join(x.split(\",\")[:-1]), x.split(\",\")[-1]))\n",
    "comic_data = comic_data.map(lambda x: x.split(\"\\\",\\\"\"))\n",
    "comic_data.take(2)"
   ]
  },
  {
   "cell_type": "code",
   "execution_count": 3,
   "metadata": {
    "collapsed": false
   },
   "outputs": [],
   "source": [
    "rev = comic_data.map(lambda x: (x[0], x[1]))"
   ]
  },
  {
   "cell_type": "code",
   "execution_count": 4,
   "metadata": {
    "collapsed": false
   },
   "outputs": [
    {
     "data": {
      "text/plain": [
       "[(u'\"FROST, CARMILLA', u'AA2 35\"'),\n",
       " (u'\"KILLRAVEN/JONATHAN R', u'AA2 35\"'),\n",
       " (u'\"M\\'SHULLA', u'AA2 35\"'),\n",
       " (u'\"24-HOUR MAN/EMMANUEL', u'AA2 35\"'),\n",
       " (u'\"OLD SKULL', u'AA2 35\"'),\n",
       " (u'\"G\\'RATH', u'AA2 35\"'),\n",
       " (u'\"3-D MAN/CHARLES CHAN', u'M/PRM 35\"'),\n",
       " (u'\"3-D MAN/CHARLES CHAN', u'M/PRM 36\"'),\n",
       " (u'\"3-D MAN/CHARLES CHAN', u'M/PRM 37\"'),\n",
       " (u'\"HUMAN ROBOT', u'WI? 9\"')]"
      ]
     },
     "execution_count": 4,
     "metadata": {},
     "output_type": "execute_result"
    }
   ],
   "source": [
    "rev.take(10)"
   ]
  },
  {
   "cell_type": "code",
   "execution_count": 5,
   "metadata": {
    "collapsed": false
   },
   "outputs": [
    {
     "data": {
      "text/plain": [
       "96655"
      ]
     },
     "execution_count": 5,
     "metadata": {},
     "output_type": "execute_result"
    }
   ],
   "source": [
    "rev.count()"
   ]
  },
  {
   "cell_type": "code",
   "execution_count": 6,
   "metadata": {
    "collapsed": true
   },
   "outputs": [],
   "source": [
    "newm = rev.map(lambda x: (x[1], [x[0]]))"
   ]
  },
  {
   "cell_type": "code",
   "execution_count": 7,
   "metadata": {
    "collapsed": false
   },
   "outputs": [],
   "source": [
    "comic_to_char = newm.reduceByKey(lambda a,b: a + b)"
   ]
  },
  {
   "cell_type": "code",
   "execution_count": 8,
   "metadata": {
    "collapsed": false
   },
   "outputs": [
    {
     "data": {
      "text/plain": [
       "[(u'XU 10\"',\n",
       "  [u'\"DARK BEAST/HENRY MCC',\n",
       "   u'\"MCCOY, EDNA ANDREWS',\n",
       "   u'\"CYCLOPS/SCOTT SUMMER',\n",
       "   u'\"PROFESSOR X/CHARLES ',\n",
       "   u'\"FATALE/PAMELA GREENW',\n",
       "   u'\"CANNONBALL II/SAM GU',\n",
       "   u'\"ICEMAN/ROBERT BOBBY ',\n",
       "   u'\"MCCOY, NORTON',\n",
       "   u'\"BEAST/HENRY &HANK& P']),\n",
       " (u'FF3 15\"',\n",
       "  [u'\"JONES, CHARLOTTE',\n",
       "   u'\"HUMAN TORCH/JOHNNY S',\n",
       "   u'\"MR. FANTASTIC/REED R',\n",
       "   u'\"MARVEL GIRL II/VALER',\n",
       "   u'\"INVISIBLE WOMAN/SUE ',\n",
       "   u'\"YEAGER, CALLIE',\n",
       "   u'\"THING/BENJAMIN J. GR',\n",
       "   u'\"RONAN THE ACCUSER [K',\n",
       "   u'\"HOGAN, VIRGINIA PEPP',\n",
       "   u'\"IRON MAN/TONY STARK '])]"
      ]
     },
     "execution_count": 8,
     "metadata": {},
     "output_type": "execute_result"
    }
   ],
   "source": [
    "comic_to_char.take(2)"
   ]
  },
  {
   "cell_type": "code",
   "execution_count": 9,
   "metadata": {
    "collapsed": false
   },
   "outputs": [],
   "source": [
    "import itertools\n",
    "graph = comic_to_char.flatMap(lambda x: list(itertools.combinations(x[1], 2)))"
   ]
  },
  {
   "cell_type": "code",
   "execution_count": 10,
   "metadata": {
    "collapsed": false
   },
   "outputs": [
    {
     "data": {
      "text/plain": [
       "[(u'\"DARK BEAST/HENRY MCC', u'\"MCCOY, EDNA ANDREWS'),\n",
       " (u'\"DARK BEAST/HENRY MCC', u'\"CYCLOPS/SCOTT SUMMER'),\n",
       " (u'\"DARK BEAST/HENRY MCC', u'\"PROFESSOR X/CHARLES '),\n",
       " (u'\"DARK BEAST/HENRY MCC', u'\"FATALE/PAMELA GREENW'),\n",
       " (u'\"DARK BEAST/HENRY MCC', u'\"CANNONBALL II/SAM GU'),\n",
       " (u'\"DARK BEAST/HENRY MCC', u'\"ICEMAN/ROBERT BOBBY '),\n",
       " (u'\"DARK BEAST/HENRY MCC', u'\"MCCOY, NORTON'),\n",
       " (u'\"DARK BEAST/HENRY MCC', u'\"BEAST/HENRY &HANK& P'),\n",
       " (u'\"MCCOY, EDNA ANDREWS', u'\"CYCLOPS/SCOTT SUMMER'),\n",
       " (u'\"MCCOY, EDNA ANDREWS', u'\"PROFESSOR X/CHARLES ')]"
      ]
     },
     "execution_count": 10,
     "metadata": {},
     "output_type": "execute_result"
    }
   ],
   "source": [
    "graph.take(10)"
   ]
  },
  {
   "cell_type": "code",
   "execution_count": 15,
   "metadata": {
    "collapsed": false
   },
   "outputs": [],
   "source": [
    "graph = graph.map(lambda x: (x[0], [x[1]]))\n",
    "adj_list = graph.reduceByKey(lambda a,b: a + b)"
   ]
  },
  {
   "cell_type": "code",
   "execution_count": 17,
   "metadata": {
    "collapsed": false
   },
   "outputs": [
    {
     "data": {
      "text/plain": [
       "[(u'\"BERNIE',\n",
       "  [u'\"NOVA/RICHARD RIDER',\n",
       "   u'\"WARHEAD/GREGORY SLIV',\n",
       "   u'\"MURDER',\n",
       "   u'\"STRANGLER',\n",
       "   u'\"CORRUPTOR/JACKSON DA',\n",
       "   u'\"TURBO II (A)/MICHIKO',\n",
       "   u'\"JAYE-FIRESTONE, GING',\n",
       "   u'\"COOPER, ROGER CAPS',\n",
       "   u'\"NAMORITA/NITA PRENTI',\n",
       "   u'\"BLIZZARD II/DONALD G',\n",
       "   u'\"AEGIS/TREY ROLLINS',\n",
       "   u'\"BOLT II/CHRIS BRADLE',\n",
       "   u'\"IRON MAN/TONY STARK ',\n",
       "   u'\"SPEEDBALL/ROBBIE BAL',\n",
       "   u'\"NOVA/RICHARD RIDER',\n",
       "   u'\"NIGHT THRASHER/DUANE',\n",
       "   u'\"NOVA/RICHARD RIDER',\n",
       "   u'\"JARVIS, EDWIN ',\n",
       "   u'\"NAMORITA/NITA PRENTI',\n",
       "   u'\"REANIMATOR/',\n",
       "   u'\"TURBO II (A)/MICHIKO',\n",
       "   u'\"NAMORITA/NITA PRENTI',\n",
       "   u'\"SPEEDBALL/ROBBIE BAL',\n",
       "   u'\"AEGIS/TREY ROLLINS',\n",
       "   u'\"WOLVERINE/LOGAN '])]"
      ]
     },
     "execution_count": 17,
     "metadata": {},
     "output_type": "execute_result"
    }
   ],
   "source": [
    "adj_list.take(1)"
   ]
  },
  {
   "cell_type": "code",
   "execution_count": 18,
   "metadata": {
    "collapsed": true
   },
   "outputs": [],
   "source": [
    "def bfs(adj_list_rdd, src_name):\n",
    "    #distances = sc.parallelize(np.array([float(\"inf\")]*graph_rdd.count()))\n",
    "    #visited = sc.parallelize(np.array([False]*graph_rdd.count()))\n",
    "    distances = adj_list_rdd.map(lambda x: (x[0], 0))\n",
    "    "
   ]
  },
  {
   "cell_type": "code",
   "execution_count": 19,
   "metadata": {
    "collapsed": false
   },
   "outputs": [],
   "source": [
    "l = bfs(adj_list, '\"WILD MAN/ALEX WILDMA')"
   ]
  },
  {
   "cell_type": "code",
   "execution_count": 20,
   "metadata": {
    "collapsed": false
   },
   "outputs": [
    {
     "data": {
      "text/plain": [
       "[(u'\"BERNIE', 0),\n",
       " (u'\"HARDRIVE', 0),\n",
       " (u'\"SA\\'TNEEN', 0),\n",
       " (u'\"HUNKIR', 0),\n",
       " (u'\"WAR TOY/ALKHEMA', 0),\n",
       " (u'\"SOLO/', 0),\n",
       " (u'\"CINDER/', 0),\n",
       " (u'\"CALKIN, SUSAN', 0),\n",
       " (u'\"NAMORITA DOPPELGANGE', 0),\n",
       " (u'\"WILD MAN/ALEX WILDMA', 0)]"
      ]
     },
     "execution_count": 20,
     "metadata": {},
     "output_type": "execute_result"
    }
   ],
   "source": [
    "l.take(10)"
   ]
  },
  {
   "cell_type": "code",
   "execution_count": null,
   "metadata": {
    "collapsed": true
   },
   "outputs": [],
   "source": []
  }
 ],
 "metadata": {
  "kernelspec": {
   "display_name": "Python 2",
   "language": "python",
   "name": "python2"
  },
  "language_info": {
   "codemirror_mode": {
    "name": "ipython",
    "version": 2
   },
   "file_extension": ".py",
   "mimetype": "text/x-python",
   "name": "python",
   "nbconvert_exporter": "python",
   "pygments_lexer": "ipython2",
   "version": "2.7.10"
  }
 },
 "nbformat": 4,
 "nbformat_minor": 0
}
