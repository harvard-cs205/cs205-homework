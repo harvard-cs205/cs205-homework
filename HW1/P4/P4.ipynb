{
 "cells": [
  {
   "cell_type": "code",
   "execution_count": 1,
   "metadata": {
    "collapsed": true
   },
   "outputs": [],
   "source": [
    "import findspark\n",
    "findspark.init()"
   ]
  },
  {
   "cell_type": "code",
   "execution_count": 2,
   "metadata": {
    "collapsed": false
   },
   "outputs": [
    {
     "data": {
      "text/plain": [
       "'/Users/nicolasdrizard/spark-1.5.0'"
      ]
     },
     "execution_count": 2,
     "metadata": {},
     "output_type": "execute_result"
    }
   ],
   "source": [
    "findspark.find()"
   ]
  },
  {
   "cell_type": "code",
   "execution_count": 3,
   "metadata": {
    "collapsed": false
   },
   "outputs": [],
   "source": [
    "import pyspark\n",
    "sc = pyspark.SparkContext(appName=\"Spark1\")"
   ]
  },
  {
   "cell_type": "code",
   "execution_count": 4,
   "metadata": {
    "collapsed": true
   },
   "outputs": [],
   "source": [
    "from P4_bfs import *\n",
    "\n",
    "# Parameters\n",
    "partitions = 4\n",
    "\n",
    "# (K, V) is (issue, Character)\n",
    "comics = sc.textFile('source.csv').map(lambda line: (line.split('\"')[3],\n",
    "                                       line.split('\"')[1]))\n",
    "\n",
    "# Join version\n",
    "edges = comics.join(comics).map(lambda x: (x[1][0],\n",
    "                                x[1][1])).filter(lambda x: x[0] != x[1])\n",
    "graph = edges.groupByKey().map(lambda x: (x[0], set(list(x[1]))))\\\n",
    "    .partitionBy(partitions).cache()\n"
   ]
  },
  {
   "cell_type": "code",
   "execution_count": 5,
   "metadata": {
    "collapsed": false
   },
   "outputs": [
    {
     "data": {
      "text/plain": [
       "[(u'QUESADA, JOE',\n",
       "  {u\"BLACK PANTHER/T'CHAL\",\n",
       "   u'BLACK WIDOW/NATASHA ',\n",
       "   u'BLAKE, BECKY',\n",
       "   u'BUTCH',\n",
       "   u'CAPTAIN AMERICA',\n",
       "   u'DAKESIAN, NANCI',\n",
       "   u'DAREDEVIL/MATT MURDO',\n",
       "   u'DARLA',\n",
       "   u'DR. STRANGE/STEPHEN ',\n",
       "   u'EIGHTBALL',\n",
       "   u'EVERETT, BILL',\n",
       "   u'GLADIATOR/MELVIN POT',\n",
       "   u'HUMAN TORCH/JOHNNY S',\n",
       "   u'INVISIBLE WOMAN/SUE ',\n",
       "   u'LAMY, KELLY',\n",
       "   u'LEE, STAN',\n",
       "   u'MALICE V/NAKIA',\n",
       "   u'MARTINEZ, ALITHA',\n",
       "   u'MCKENZIE, LYDIA',\n",
       "   u'MILLER, FRANK',\n",
       "   u'MR. FANTASTIC/REED R',\n",
       "   u'MYSTERIO/QUENTIN BEC',\n",
       "   u'NELSON, CANDACE',\n",
       "   u'NELSON, FRANKLIN FOG',\n",
       "   u'OKOYE',\n",
       "   u'OSBORN, LIZ ALLAN',\n",
       "   u'PAGE, KAREN',\n",
       "   u'PALMIOTTI, JIMMY',\n",
       "   u'POTTER, BETSY BEATTY',\n",
       "   u'QUINN, ASHLEY',\n",
       "   u'RALF',\n",
       "   u'ROSS, EVERETT KENNET',\n",
       "   u'SHARPE, ROSALINDE',\n",
       "   u'SMITH, KEVIN',\n",
       "   u'SPIDER-MAN/PETER PAR',\n",
       "   u'THING/BENJAMIN J. GR',\n",
       "   u'URICH, BEN',\n",
       "   u'WATSON-PARKER, MARY ',\n",
       "   u'ZURI'})]"
      ]
     },
     "execution_count": 5,
     "metadata": {},
     "output_type": "execute_result"
    }
   ],
   "source": [
    "# Checking the graph\n",
    "graph.take(1)"
   ]
  },
  {
   "cell_type": "code",
   "execution_count": 6,
   "metadata": {
    "collapsed": false
   },
   "outputs": [
    {
     "name": "stdout",
     "output_type": "stream",
     "text": [
      "CPU times: user 178 ms, sys: 27 ms, total: 205 ms\n",
      "Wall time: 4.71 s\n",
      "6407 nodes visited for the character CAPTAIN AMERICA\n",
      "CPU times: user 83.2 ms, sys: 13.4 ms, total: 96.6 ms\n",
      "Wall time: 1.32 s\n",
      "6 nodes visited for the character MISS THING/MARY\n",
      "CPU times: user 77.7 ms, sys: 13.1 ms, total: 90.8 ms\n",
      "Wall time: 1.37 s\n",
      "8 nodes visited for the character ORWELL\n"
     ]
    }
   ],
   "source": [
    "# Version2\n",
    "roots = ['CAPTAIN AMERICA', 'MISS THING/MARY', 'ORWELL']\n",
    "for root in roots:\n",
    "    %time distance = ss_bfs2(graph, root)\n",
    "    num_node_visited = distance.count()\n",
    "    # Substract the root\n",
    "    print('{} nodes visited for the character {}'.format(num_node_visited - 1,\n",
    "          root))\n"
   ]
  },
  {
   "cell_type": "code",
   "execution_count": 7,
   "metadata": {
    "collapsed": false
   },
   "outputs": [
    {
     "name": "stdout",
     "output_type": "stream",
     "text": [
      "CPU times: user 140 ms, sys: 21.3 ms, total: 161 ms\n",
      "Wall time: 9.01 s\n",
      "6407 nodes visited for the character CAPTAIN AMERICA\n",
      "CPU times: user 84.5 ms, sys: 13.8 ms, total: 98.4 ms\n",
      "Wall time: 4.76 s\n",
      "6 nodes visited for the character MISS THING/MARY\n",
      "CPU times: user 87.6 ms, sys: 12.5 ms, total: 100 ms\n",
      "Wall time: 4.46 s\n",
      "8 nodes visited for the character ORWELL\n"
     ]
    }
   ],
   "source": [
    "# Version3\n",
    "roots = ['CAPTAIN AMERICA', 'MISS THING/MARY', 'ORWELL']\n",
    "# Initialization\n",
    "# Adding a distance in the entry graph\n",
    "bfs_graph = graph.mapValues(lambda v: (float('inf'), v))\n",
    "for root in roots:\n",
    "    %time bfs = ss_bfs3(bfs_graph, root)\n",
    "    distance = bfs.filter(lambda x: x[1][0] < float('inf'))\n",
    "    num_node_visited = distance.count()\n",
    "    # Substract the root\n",
    "    print('{} nodes visited for the character {}'.format(num_node_visited - 1,\n",
    "          root))\n"
   ]
  },
  {
   "cell_type": "code",
   "execution_count": null,
   "metadata": {
    "collapsed": true
   },
   "outputs": [],
   "source": []
  }
 ],
 "metadata": {
  "kernelspec": {
   "display_name": "Python 2",
   "language": "python",
   "name": "python2"
  },
  "language_info": {
   "codemirror_mode": {
    "name": "ipython",
    "version": 2
   },
   "file_extension": ".py",
   "mimetype": "text/x-python",
   "name": "python",
   "nbconvert_exporter": "python",
   "pygments_lexer": "ipython2",
   "version": "2.7.9"
  }
 },
 "nbformat": 4,
 "nbformat_minor": 0
}
