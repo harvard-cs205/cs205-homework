{
 "cells": [
  {
   "cell_type": "code",
   "execution_count": 1,
   "metadata": {
    "collapsed": true
   },
   "outputs": [],
   "source": [
    "import numpy as np\n",
    "import findspark\n",
    "findspark.init()\n",
    "\n",
    "import pyspark\n",
    "sc = pyspark.SparkContext(appName=\"Spark1\")\n"
   ]
  },
  {
   "cell_type": "code",
   "execution_count": 3,
   "metadata": {
    "collapsed": false
   },
   "outputs": [],
   "source": [
    "# Parameters\n",
    "partitions = 4\n",
    "\n",
    "# (K, V) is (issue, Character)\n",
    "comics = sc.textFile('source.csv').map(lambda line: (line.split('\"')[3],\n",
    "                                       line.split('\"')[1]))\n",
    "\n",
    "# Join version\n",
    "edges = comics.join(comics).map(lambda x: (x[1][0],\n",
    "                                x[1][1])).filter(lambda x: x[0] != x[1])\n",
    "graph = edges.groupByKey().map(lambda x: (x[0], set(list(x[1]))))\\\n",
    "    .partitionBy(partitions).cache()\n"
   ]
  },
  {
   "cell_type": "code",
   "execution_count": 6,
   "metadata": {
    "collapsed": false
   },
   "outputs": [],
   "source": [
    "# Version 3\n",
    "# SS-BFS Algorithm: only one rdd without collecting/diameter\n",
    "# TODO: Shuffle optimization done: groupByKey() ==> reduceByKey() and mapValues\n",
    "def ss_bfs3(bfs_graph, root):\n",
    "    '''\n",
    "    Return a (K, (d, [neighbors])) rdd with the nodes as keys and d distance\n",
    "    from the root as value (d = inf is not connected to the root) and its\n",
    "    neighbors list in the graph [neighbors].\n",
    "    Entry graph should be formated as follows:\n",
    "    (K, (d, [neighbors])), with eventually d = inf for all the nodes if first\n",
    "    call to ss_bfs3\n",
    "    '''\n",
    "    # WARNING: the value need to be a tuple\n",
    "    current = bfs_graph.filter(lambda x: x[0] == root)\\\n",
    "        .map(lambda x: (x[0], (0, x[1][1])))\n",
    "    i = 0\n",
    "    while True:\n",
    "        # Visiting the neighbors of the Nodes in the subgraph current and\n",
    "        # updating their distance.\n",
    "        # Redundancy may happen, hence the use of distinct()\n",
    "        visiting = current.flatMap(lambda x: [(n, (x[1][0] + 1, 1))\n",
    "                                   for n in list(x[1][1])]).distinct()\n",
    "        # Updating the current graph\n",
    "        bfs_graph = bfs_graph.union(visiting).groupByKey()\\\n",
    "            .map(lambda x: (x[0], (min([v[0] for v in list(x[1])]),\n",
    "                 list(x[1])[0][1])))\n",
    "        # Need to update the indices before using it in spark\n",
    "        i += 1\n",
    "        # Getting the actual visiting nodes (not previously visited)\n",
    "        current = bfs_graph.filter(lambda x: x[1][0] == i)\n",
    "        # Check that nodes are left\n",
    "        if not current.count():\n",
    "            break\n",
    "    return bfs_graph"
   ]
  },
  {
   "cell_type": "code",
   "execution_count": 13,
   "metadata": {
    "collapsed": false
   },
   "outputs": [
    {
     "name": "stdout",
     "output_type": "stream",
     "text": [
      "[(u'QUESADA, JOE', (1, set([u'ZURI', u'BLACK WIDOW/NATASHA ', u'SMITH, KEVIN', u'OKOYE', u'RALF', u'PALMIOTTI, JIMMY', u'BLAKE, BECKY', u'MYSTERIO/QUENTIN BEC', u'WATSON-PARKER, MARY ', u'SPIDER-MAN/PETER PAR', u'MCKENZIE, LYDIA', u'DR. STRANGE/STEPHEN ', u'LAMY, KELLY', u'URICH, BEN', u\"BLACK PANTHER/T'CHAL\", u'MR. FANTASTIC/REED R', u'THING/BENJAMIN J. GR', u'QUINN, ASHLEY', u'CAPTAIN AMERICA', u'MALICE V/NAKIA', u'NELSON, CANDACE', u'BUTCH', u'EIGHTBALL', u'DAREDEVIL/MATT MURDO', u'ROSS, EVERETT KENNET', u'POTTER, BETSY BEATTY', u'GLADIATOR/MELVIN POT', u'EVERETT, BILL', u'DAKESIAN, NANCI', u'SHARPE, ROSALINDE', u'NELSON, FRANKLIN FOG', u'OSBORN, LIZ ALLAN', u'HUMAN TORCH/JOHNNY S', u'MARTINEZ, ALITHA', u'MILLER, FRANK', u'DARLA', u'INVISIBLE WOMAN/SUE ', u'PAGE, KAREN', u'LEE, STAN'])))]\n",
      "[(u'SARACEN', (2, set([u'HOFFMAN, ALICE', u'MICROCHIP/LINUS LIEB', u'PUNISHER II/FRANK CA'])))]\n",
      "[(u'24-HOUR MAN/EMMANUEL', (3, set([u'KILLRAVEN/JONATHAN R', u'OLD SKULL', u\"M'SHULLA\", u'FROST, CARMILLA', u\"G'RATH\"])))]\n",
      "CPU times: user 124 ms, sys: 23.6 ms, total: 148 ms\n",
      "Wall time: 8.17 s\n",
      "6407 nodes visited for the character CAPTAIN AMERICA\n",
      "[(u'STERLING', (1, set([u'PANTHER CUB/', u'SWORDSMAN IV/', u'MISS THING/MARY', u'AMAZO-MAXI-WOMAN/', u'DARLEGUNG, GEN.', u'MANT/ERNEST'])))]\n",
      "[(u'MISS THING/MARY', (2, set([u'STERLING', u'PANTHER CUB/', u'SWORDSMAN IV/', u'AMAZO-MAXI-WOMAN/', u'DARLEGUNG, GEN.', u'MANT/ERNEST'])))]\n",
      "CPU times: user 92.3 ms, sys: 16.4 ms, total: 109 ms\n",
      "Wall time: 4.74 s\n",
      "6 nodes visited for the character MISS THING/MARY\n",
      "[(u'LUDLUM, ROSS', (1, set([u'HOFFMAN', u'ASHER, CARL', u'ASHER, DONNA', u'FAGIN', u'OSWALD', u'ORWELL', u'ASHER, MICHAEL', u'NILES, SEN. CATHERIN'])))]\n",
      "[(u'ORWELL', (2, set([u'ASHER, CARL', u'HOFFMAN', u'LUDLUM, ROSS', u'ASHER, DONNA', u'FAGIN', u'OSWALD', u'ASHER, MICHAEL', u'NILES, SEN. CATHERIN'])))]\n",
      "CPU times: user 101 ms, sys: 16.4 ms, total: 118 ms\n",
      "Wall time: 4.78 s\n",
      "8 nodes visited for the character ORWELL\n"
     ]
    }
   ],
   "source": [
    "# Version3\n",
    "roots = ['CAPTAIN AMERICA', 'MISS THING/MARY', 'ORWELL']\n",
    "# Initialization\n",
    "# Adding a distance in the entry graph\n",
    "bfs_graph = graph.mapValues(lambda v: (float('inf'), v))\n",
    "for root in roots:\n",
    "    %time bfs = ss_bfs3(bfs_graph, root)\n",
    "    distance = bfs.filter(lambda x: x[1][0] < float('inf'))\n",
    "    num_node_visited = distance.count()\n",
    "    # Substract the root\n",
    "    print('{} nodes visited for the character {}'.format(num_node_visited - 1,\n",
    "          root))"
   ]
  },
  {
   "cell_type": "code",
   "execution_count": 14,
   "metadata": {
    "collapsed": true
   },
   "outputs": [],
   "source": [
    "def ss_bfs3(bfs_graph, root, partitions=4):\n",
    "    '''\n",
    "    Return a (K, (d, [neighbors])) rdd with the nodes as keys and d distance\n",
    "    from the root as value (d = inf is not connected to the root) and its\n",
    "    neighbors list in the graph [neighbors].\n",
    "    Entry graph should be formated as follows:\n",
    "    (K, (d, [neighbors])), with eventually d = inf for all the nodes if first\n",
    "    call to ss_bfs3\n",
    "    '''\n",
    "    # WARNING: the value need to be a tuple\n",
    "    current = bfs_graph.filter(lambda x: x[0] == root)\\\n",
    "        .mapValues(lambda v: (0, v[1]))\n",
    "    i = 0\n",
    "    while True:\n",
    "        # Visiting the neighbors of the Nodes in the subgraph current and\n",
    "        # updating their distance.\n",
    "        # Redundancy may happen, hence the use of distinct()\n",
    "        visiting = current.flatMap(lambda x: [(n, (x[1][0] + 1, 1))\n",
    "                                   for n in list(x[1][1])]).distinct()\\\n",
    "            .partitionBy(partitions)\n",
    "        # Updating the current graph\n",
    "        bfs_graph = bfs_graph.union(visiting).groupByKey()\\\n",
    "            .mapValues(lambda v: (min([n[0] for n in list(v)]),\n",
    "                       list(v)[0][1]))\n",
    "        # Need to update the indices before using it in spark\n",
    "        i += 1\n",
    "        # Getting the actual visiting nodes (not previously visited)\n",
    "        current = bfs_graph.filter(lambda x: x[1][0] == i)\n",
    "        # Check that nodes are left\n",
    "        if not current.count():\n",
    "            break\n",
    "    return bfs_graph"
   ]
  },
  {
   "cell_type": "code",
   "execution_count": 87,
   "metadata": {
    "collapsed": false
   },
   "outputs": [],
   "source": [
    "def get_path(x):\n",
    "    value = list(x[1])\n",
    "    length = [len(n) for n in value]\n",
    "    ind = min(length)\n",
    "    path = value[length.index(ind)]\n",
    "    return (x[0], path)\n",
    "\n",
    "\n",
    "def next_path(kv, target, acc):\n",
    "    node = kv[0]\n",
    "    path, neighbors = kv[1]\n",
    "    next_paths = []\n",
    "    for n in neighbors:\n",
    "        next_paths.append((n, path + [node]))\n",
    "        if n == target:\n",
    "            acc.add(1)\n",
    "    return next_paths\n",
    "\n",
    "\n",
    "def check_target(x, acc):\n",
    "    if x[0] == target:\n",
    "        acc.add(1)\n",
    "\n",
    "\n",
    "def shortest_path(graph, root, target, partitions=64):\n",
    "    '''\n",
    "    Return the shortest_path as a list between the root and the target of the\n",
    "    graph if the two are connected.\n",
    "    Otherwise it returns an empty list.\n",
    "    '''\n",
    "    # Initialization\n",
    "    i = 0\n",
    "    target_found = graph.context.accumulator(0)\n",
    "    response = []\n",
    "\n",
    "    # Graph used to store the next nodes to visit.\n",
    "    # Format is (name, (path_from_root, neighbors))\n",
    "    next_nodes = graph.filter(lambda x: x[0] == root)\\\n",
    "        .mapValues(lambda v: ([], v))\n",
    "    # Graph used to store the path from the root for all visited nodes.\n",
    "    # Format is (name, path_from_root)\n",
    "    path = graph.context.parallelize([(root, [])]).partitionBy(partitions)\n",
    "    while target_found.value == 0:\n",
    "        print(\"Loop number {}\".format(i))\n",
    "        # Visiting the neighbors of the Nodes in the subgraph current and\n",
    "        # updating their distance.\n",
    "        visiting = next_nodes\\\n",
    "            .flatMap(lambda x: next_path(x, target, target_found))\\\n",
    "            .partitionBy(partitions)\n",
    "        print('visiting computed')\n",
    "        path = visiting.union(path)\\\n",
    "            .groupByKey().map(get_path).partitionBy(partitions)\n",
    "        print('path computed')\n",
    "        i += 1\n",
    "        # Getting only the current visited nodes (not previously visited)\n",
    "        visiting_ = path.filter(lambda x: len(x[1]) == i)\n",
    "        # Check if target hit\n",
    "        visiting_.foreach(lambda x: check_target(x, target_found))\n",
    "        # print visiting_.take(1)\n",
    "        # Getting the list of the neighbors of the current nodes as values.\n",
    "        next_nodes = visiting_.join(graph)\n",
    "        print('next_nodes computed')\n",
    "        # print next_nodes.take(1)\n",
    "        # Correct path if target has been found\n",
    "        response = path.filter(lambda x: x[0] == target and x[1][0] == root)\n",
    "        print('response computed')\n",
    "    return response\n"
   ]
  },
  {
   "cell_type": "code",
   "execution_count": 88,
   "metadata": {
    "collapsed": true
   },
   "outputs": [],
   "source": [
    "root = 'CAPTAIN AMERICA'\n",
    "target = '24-HOUR MAN/EMMANUEL'"
   ]
  },
  {
   "cell_type": "code",
   "execution_count": 89,
   "metadata": {
    "collapsed": false
   },
   "outputs": [
    {
     "name": "stdout",
     "output_type": "stream",
     "text": [
      "Loop number 0\n",
      "visiting computed\n",
      "path computed\n",
      "next_nodes computed\n",
      "response computed\n",
      "Loop number 1\n",
      "visiting computed\n",
      "path computed\n",
      "next_nodes computed\n",
      "response computed\n",
      "Loop number 2\n",
      "visiting computed\n",
      "path computed\n",
      "next_nodes computed\n",
      "response computed\n",
      "CPU times: user 86 ms, sys: 16.1 ms, total: 102 ms\n",
      "Wall time: 3.06 s\n"
     ]
    }
   ],
   "source": [
    "%time path = shortest_path(graph, root, target, partitions=4)"
   ]
  },
  {
   "cell_type": "code",
   "execution_count": 90,
   "metadata": {
    "collapsed": false
   },
   "outputs": [
    {
     "data": {
      "text/plain": [
       "[(u'24-HOUR MAN/EMMANUEL', [u'CAPTAIN AMERICA', u'HAWK', u'FROST, CARMILLA'])]"
      ]
     },
     "execution_count": 90,
     "metadata": {},
     "output_type": "execute_result"
    }
   ],
   "source": [
    "path.collect()"
   ]
  },
  {
   "cell_type": "code",
   "execution_count": null,
   "metadata": {
    "collapsed": true
   },
   "outputs": [],
   "source": []
  }
 ],
 "metadata": {
  "kernelspec": {
   "display_name": "Python 2",
   "language": "python",
   "name": "python2"
  },
  "language_info": {
   "codemirror_mode": {
    "name": "ipython",
    "version": 2
   },
   "file_extension": ".py",
   "mimetype": "text/x-python",
   "name": "python",
   "nbconvert_exporter": "python",
   "pygments_lexer": "ipython2",
   "version": "2.7.9"
  }
 },
 "nbformat": 4,
 "nbformat_minor": 0
}
