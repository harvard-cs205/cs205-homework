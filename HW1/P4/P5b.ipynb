{
 "cells": [
  {
   "cell_type": "code",
   "execution_count": 1,
   "metadata": {
    "collapsed": true
   },
   "outputs": [],
   "source": [
    "import findspark\n",
    "findspark.init()"
   ]
  },
  {
   "cell_type": "code",
   "execution_count": 2,
   "metadata": {
    "collapsed": true
   },
   "outputs": [],
   "source": [
    "import pyspark\n",
    "sc = pyspark.SparkContext(appName=\"Spark1\")"
   ]
  },
  {
   "cell_type": "code",
   "execution_count": 3,
   "metadata": {
    "collapsed": true
   },
   "outputs": [],
   "source": [
    "# Parameters\n",
    "partitions = 4\n",
    "\n",
    "# (K, V) is (issue, Character)\n",
    "comics = sc.textFile('source.csv').map(lambda line: (line.split('\"')[3],\n",
    "                                       line.split('\"')[1]))\n",
    "\n",
    "# Join version\n",
    "edges = comics.join(comics).map(lambda x: (x[1][0],\n",
    "                                x[1][1])).filter(lambda x: x[0] != x[1])\n",
    "graph = edges.groupByKey().map(lambda x: (x[0], set(list(x[1]))))\\\n",
    "    .partitionBy(partitions).cache()"
   ]
  },
  {
   "cell_type": "code",
   "execution_count": 4,
   "metadata": {
    "collapsed": false
   },
   "outputs": [
    {
     "data": {
      "text/plain": [
       "[(u'QUESADA, JOE',\n",
       "  {u\"BLACK PANTHER/T'CHAL\",\n",
       "   u'BLACK WIDOW/NATASHA ',\n",
       "   u'BLAKE, BECKY',\n",
       "   u'BUTCH',\n",
       "   u'CAPTAIN AMERICA',\n",
       "   u'DAKESIAN, NANCI',\n",
       "   u'DAREDEVIL/MATT MURDO',\n",
       "   u'DARLA',\n",
       "   u'DR. STRANGE/STEPHEN ',\n",
       "   u'EIGHTBALL',\n",
       "   u'EVERETT, BILL',\n",
       "   u'GLADIATOR/MELVIN POT',\n",
       "   u'HUMAN TORCH/JOHNNY S',\n",
       "   u'INVISIBLE WOMAN/SUE ',\n",
       "   u'LAMY, KELLY',\n",
       "   u'LEE, STAN',\n",
       "   u'MALICE V/NAKIA',\n",
       "   u'MARTINEZ, ALITHA',\n",
       "   u'MCKENZIE, LYDIA',\n",
       "   u'MILLER, FRANK',\n",
       "   u'MR. FANTASTIC/REED R',\n",
       "   u'MYSTERIO/QUENTIN BEC',\n",
       "   u'NELSON, CANDACE',\n",
       "   u'NELSON, FRANKLIN FOG',\n",
       "   u'OKOYE',\n",
       "   u'OSBORN, LIZ ALLAN',\n",
       "   u'PAGE, KAREN',\n",
       "   u'PALMIOTTI, JIMMY',\n",
       "   u'POTTER, BETSY BEATTY',\n",
       "   u'QUINN, ASHLEY',\n",
       "   u'RALF',\n",
       "   u'ROSS, EVERETT KENNET',\n",
       "   u'SHARPE, ROSALINDE',\n",
       "   u'SMITH, KEVIN',\n",
       "   u'SPIDER-MAN/PETER PAR',\n",
       "   u'THING/BENJAMIN J. GR',\n",
       "   u'URICH, BEN',\n",
       "   u'WATSON-PARKER, MARY ',\n",
       "   u'ZURI'})]"
      ]
     },
     "execution_count": 4,
     "metadata": {},
     "output_type": "execute_result"
    }
   ],
   "source": [
    "graph.take(1)"
   ]
  },
  {
   "cell_type": "code",
   "execution_count": 37,
   "metadata": {
    "collapsed": false
   },
   "outputs": [],
   "source": [
    "# Version 3\n",
    "# SS-BFS Algorithm: only one rdd without collecting/diameter\n",
    "def ss_bfs3(bfs_graph, root):\n",
    "    '''\n",
    "    Return a (K, (d, [neighbors])) rdd with the nodes as keys and d distance\n",
    "    from the root as value (d = inf is not connected to the root) and its\n",
    "    neighbors list in the graph [neighbors].\n",
    "    Entry graph should be formated as follows:\n",
    "    (K, (d, [neighbors])), with eventually d = inf for all the nodes if first\n",
    "    call to ss_bfs3\n",
    "    '''\n",
    "    # WARNING: the value need to be a tuple\n",
    "    current = bfs_graph.filter(lambda x: x[0] == root)\\\n",
    "        .map(lambda x: (x[0], (0, x[1][1])))\n",
    "    i = 0\n",
    "    while True:\n",
    "        # Visiting the neighbors of the Nodes in the subgraph current and\n",
    "        # updating their distance.\n",
    "        # Redundancy may happen, hence the use of distinct()\n",
    "        visiting = current.flatMap(lambda x: [(n, (x[1][0] + 1, 1))\n",
    "                                   for n in list(x[1][1])]).distinct()\n",
    "        # Updating the current graph\n",
    "        bfs_graph = bfs_graph.union(visiting).groupByKey()\\\n",
    "            .map(lambda x: (x[0], (min([v[0] for v in list(x[1])]),\n",
    "                 list(x[1])[0][1])))\n",
    "        # Need to update the indices before using it in spark\n",
    "        i += 1\n",
    "        # Getting the actual visiting nodes (not previously visited)\n",
    "        current = bfs_graph.filter(lambda x: x[1][0] == i)\n",
    "        # Check that nodes are left\n",
    "        if not current.count():\n",
    "            break\n",
    "    return bfs_graph"
   ]
  },
  {
   "cell_type": "code",
   "execution_count": 31,
   "metadata": {
    "collapsed": true
   },
   "outputs": [],
   "source": [
    "roots = ['CAPTAIN AMERICA', 'MISS THING/MARY', 'ORWELL']"
   ]
  },
  {
   "cell_type": "code",
   "execution_count": 6,
   "metadata": {
    "collapsed": false
   },
   "outputs": [
    {
     "name": "stdout",
     "output_type": "stream",
     "text": [
      "CPU times: user 118 ms, sys: 21.2 ms, total: 139 ms\n",
      "Wall time: 7.8 s\n",
      "6407 nodes visited for the character CAPTAIN AMERICA\n",
      "CPU times: user 73 ms, sys: 12.2 ms, total: 85.2 ms\n",
      "Wall time: 3.78 s\n",
      "6 nodes visited for the character MISS THING/MARY\n",
      "CPU times: user 80.3 ms, sys: 14.8 ms, total: 95.1 ms\n",
      "Wall time: 3.87 s\n",
      "8 nodes visited for the character ORWELL\n"
     ]
    }
   ],
   "source": [
    "# Version3\n",
    "roots = ['CAPTAIN AMERICA', 'MISS THING/MARY', 'ORWELL']\n",
    "# Initialization\n",
    "# Adding a distance in the entry graph\n",
    "bfs_graph = graph.mapValues(lambda v: (float('inf'), v))\n",
    "for root in roots:\n",
    "    %time bfs = ss_bfs3(bfs_graph, root)\n",
    "    distance = bfs.filter(lambda x: x[1][0] < float('inf'))\n",
    "    num_node_visited = distance.count()\n",
    "    # Substract the root\n",
    "    print('{} nodes visited for the character {}'.format(num_node_visited - 1,\n",
    "          root))\n",
    "\n"
   ]
  },
  {
   "cell_type": "code",
   "execution_count": 7,
   "metadata": {
    "collapsed": false
   },
   "outputs": [],
   "source": [
    "# Version 2\n",
    "# SS-BFS Algorithm: without collecting, create a second rdd\n",
    "def ss_bfs2(graph, root, partitions=4):\n",
    "    '''\n",
    "    Return a (K, V) rdd with the visited nodes as keys and their distance from\n",
    "    the root as value.\n",
    "    Computation is slow because of the collect() call at each stage.\n",
    "    '''\n",
    "    # Initialization\n",
    "    # WARNING: the value need to be a tuple\n",
    "    current = graph.filter(lambda x: x[0] == root)\\\n",
    "        .mapValues(lambda v: (0, v))\n",
    "    distance = sc.parallelize([(root, 0)])\n",
    "    i = 0\n",
    "    while True:\n",
    "        # Visiting the neighbors of the Nodes in the subgraph current and\n",
    "        # updating their distance.\n",
    "        # Redundancy may happen, hence the use of distinct()\n",
    "        visiting = current.flatMap(lambda x: [(n, x[1][0] + 1)\n",
    "                                   for n in list(x[1][1])]).distinct()\\\n",
    "            .partitionBy(partitions)\n",
    "        distance = visiting.union(distance).groupByKey()\\\n",
    "            .mapValues(lambda v: min([d for d in list(v)]))\\\n",
    "            .partitionBy(partitions)\n",
    "        # Getting the actual visiting nodes (not previously visited)\n",
    "        visiting_ = distance.filter(lambda x: x[1] == i + 1)\n",
    "        # Check that nodes are left\n",
    "        if not visiting_.count():\n",
    "            break\n",
    "        # Getting the list of the neighbors of the current nodes as values.\n",
    "        current = visiting_.join(graph)\n",
    "        i += 1\n",
    "    return distance\n",
    "    "
   ]
  },
  {
   "cell_type": "code",
   "execution_count": 8,
   "metadata": {
    "collapsed": false
   },
   "outputs": [
    {
     "name": "stdout",
     "output_type": "stream",
     "text": [
      "CPU times: user 167 ms, sys: 27.5 ms, total: 194 ms\n",
      "Wall time: 3.53 s\n",
      "6407 nodes visited for the character CAPTAIN AMERICA\n",
      "CPU times: user 59.6 ms, sys: 11.4 ms, total: 71 ms\n",
      "Wall time: 952 ms\n",
      "6 nodes visited for the character MISS THING/MARY\n",
      "CPU times: user 78.5 ms, sys: 13.6 ms, total: 92.1 ms\n",
      "Wall time: 1.05 s\n",
      "8 nodes visited for the character ORWELL\n"
     ]
    }
   ],
   "source": [
    "# Version2\n",
    "roots = ['CAPTAIN AMERICA', 'MISS THING/MARY', 'ORWELL']\n",
    "for root in roots:\n",
    "    %time distance = ss_bfs2(graph, root)\n",
    "    num_node_visited = distance.count()\n",
    "    # Substract the root\n",
    "    print('{} nodes visited for the character {}'.format(num_node_visited - 1,\n",
    "          root))\n",
    "\n"
   ]
  },
  {
   "cell_type": "code",
   "execution_count": 41,
   "metadata": {
    "collapsed": false
   },
   "outputs": [],
   "source": [
    "# ## Part B\n",
    "def connected_components(graph):\n",
    "    '''\n",
    "    Computes the number of connected components in the graph.\n",
    "    Return (N, top) with N the number of connected components and top the\n",
    "    number of nodes in the largest connected component.\n",
    "    '''\n",
    "    # Initialization of the graph: formatting it to call ss_bfs3\n",
    "    current = graph.map(lambda x: (x[0], (float('inf'), x[1])))\n",
    "\n",
    "    # Initialization of the return variables\n",
    "    N = 0\n",
    "    top = 0\n",
    "\n",
    "    while current.count():\n",
    "        root = current.keys().take(1)[0]\n",
    "        # Debugg\n",
    "        print('current root is {}'.format(root))\n",
    "        # Computing next connected component\n",
    "        graph_with_component = ss_bfs3(current, root)\n",
    "        # Updating return\n",
    "        m = graph_with_component.filter(lambda x: x[1][0] < float('inf'))\\\n",
    "            .count()\n",
    "        N += 1\n",
    "        top = max(top, m)\n",
    "        # Debugg\n",
    "        print('current component count is {}'.format(m))\n",
    "\n",
    "        # Filtering the visited nodes: filter return false for the node x in\n",
    "        # the component subgraph\n",
    "        # Call cache() to persist this stage in cache\n",
    "        current = graph_with_component\\\n",
    "            .filter(lambda x: x[1][0] == float('inf')).cache()\n",
    "        # Debugg\n",
    "        print('current subgraph count is {}'.format(current.count()))\n",
    "\n",
    "    return (N, top)"
   ]
  },
  {
   "cell_type": "code",
   "execution_count": 9,
   "metadata": {
    "collapsed": false
   },
   "outputs": [],
   "source": [
    "def connected_components(graph):\n",
    "    '''\n",
    "    Computes the number of connected components in the graph.\n",
    "    Return (N, top) with N the number of connected components and top the\n",
    "    number of nodes in the largest connected component.\n",
    "    '''\n",
    "    # Initialization of the graph: formatting it to call ss_bfs3\n",
    "    current = graph.mapValues(lambda v: (float('inf'), v))\n",
    "\n",
    "    # Initialization of the return variables\n",
    "    N = 0\n",
    "    top = 0\n",
    "\n",
    "    while current.count():\n",
    "        root = current.keys().take(1)[0]\n",
    "        # Debugg\n",
    "        print('current root is {}'.format(root))\n",
    "        # Computing next connected component\n",
    "        graph_with_component = ss_bfs3(current, root)\n",
    "        # Updating return\n",
    "        m = graph_with_component.filter(lambda x: x[1][0] < float('inf'))\\\n",
    "            .count()\n",
    "        N += 1\n",
    "        top = max(top, m)\n",
    "        # Debugg\n",
    "        print('current component count is {}'.format(m))\n",
    "\n",
    "        # Filtering the visited nodes: filter return false for the node x in\n",
    "        # the component subgraph\n",
    "        # Call cache() to persist this stage in cache\n",
    "        current = graph_with_component\\\n",
    "            .filter(lambda x: x[1][0] == float('inf')).cache()\n",
    "        # Debugg\n",
    "        print('current subgraph count is {}'.format(current.count()))\n",
    "\n",
    "    return (N, top)\n"
   ]
  },
  {
   "cell_type": "code",
   "execution_count": 10,
   "metadata": {
    "collapsed": false,
    "scrolled": true
   },
   "outputs": [
    {
     "name": "stdout",
     "output_type": "stream",
     "text": [
      "current root is QUESADA, JOE\n",
      "current component count is 6408\n",
      "current subgraph count is 18\n",
      "current root is LUDLUM, ROSS\n",
      "current component count is 9\n",
      "current subgraph count is 9\n",
      "current root is STERLING\n",
      "current component count is 7\n",
      "current subgraph count is 2\n",
      "current root is MASTER OF VENGEANCE\n",
      "current component count is 2\n",
      "current subgraph count is 0\n",
      "CPU times: user 582 ms, sys: 94.2 ms, total: 676 ms\n",
      "Wall time: 18.9 s\n"
     ]
    }
   ],
   "source": [
    "%time comp = connected_components(graph)"
   ]
  },
  {
   "cell_type": "code",
   "execution_count": 11,
   "metadata": {
    "collapsed": false
   },
   "outputs": [
    {
     "data": {
      "text/plain": [
       "(4, 6408)"
      ]
     },
     "execution_count": 11,
     "metadata": {},
     "output_type": "execute_result"
    }
   ],
   "source": [
    "comp"
   ]
  },
  {
   "cell_type": "code",
   "execution_count": 36,
   "metadata": {
    "collapsed": true
   },
   "outputs": [],
   "source": [
    "bfs_graph = bfs_graph.union(visiting).groupByKey()\\\n",
    "            .map(lambda x: (x[0], (min([v[0] for v in list(x[1])]),\n",
    "                 list(x[1])[0][1])))"
   ]
  },
  {
   "cell_type": "code",
   "execution_count": 39,
   "metadata": {
    "collapsed": false
   },
   "outputs": [],
   "source": [
    "i = 1"
   ]
  },
  {
   "cell_type": "code",
   "execution_count": 40,
   "metadata": {
    "collapsed": true
   },
   "outputs": [],
   "source": [
    "current1 = bfs_graph.filter(lambda x: x[1][0] == i)"
   ]
  },
  {
   "cell_type": "code",
   "execution_count": 33,
   "metadata": {
    "collapsed": false
   },
   "outputs": [
    {
     "data": {
      "text/plain": [
       "1"
      ]
     },
     "execution_count": 33,
     "metadata": {},
     "output_type": "execute_result"
    }
   ],
   "source": [
    "current.count()"
   ]
  },
  {
   "cell_type": "code",
   "execution_count": 21,
   "metadata": {
    "collapsed": false
   },
   "outputs": [
    {
     "data": {
      "text/plain": [
       "3"
      ]
     },
     "execution_count": 21,
     "metadata": {},
     "output_type": "execute_result"
    }
   ],
   "source": [
    "min(3,4)"
   ]
  },
  {
   "cell_type": "code",
   "execution_count": 36,
   "metadata": {
    "collapsed": false
   },
   "outputs": [
    {
     "data": {
      "text/plain": [
       "[3, 4]"
      ]
     },
     "execution_count": 36,
     "metadata": {},
     "output_type": "execute_result"
    }
   ],
   "source": [
    "[3,4] + []"
   ]
  },
  {
   "cell_type": "code",
   "execution_count": null,
   "metadata": {
    "collapsed": true
   },
   "outputs": [],
   "source": []
  }
 ],
 "metadata": {
  "kernelspec": {
   "display_name": "Python 2",
   "language": "python",
   "name": "python2"
  },
  "language_info": {
   "codemirror_mode": {
    "name": "ipython",
    "version": 2
   },
   "file_extension": ".py",
   "mimetype": "text/x-python",
   "name": "python",
   "nbconvert_exporter": "python",
   "pygments_lexer": "ipython2",
   "version": "2.7.9"
  }
 },
 "nbformat": 4,
 "nbformat_minor": 0
}
