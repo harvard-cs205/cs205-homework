{
 "cells": [
  {
   "cell_type": "code",
   "execution_count": 181,
   "metadata": {
    "collapsed": false
   },
   "outputs": [
    {
     "ename": "ImportError",
     "evalue": "No module named png",
     "output_type": "error",
     "traceback": [
      "\u001b[0;31m---------------------------------------------------------------------------\u001b[0m",
      "\u001b[0;31mImportError\u001b[0m                               Traceback (most recent call last)",
      "\u001b[0;32m<ipython-input-181-422923764fcd>\u001b[0m in \u001b[0;36m<module>\u001b[0;34m()\u001b[0m\n\u001b[0;32m----> 1\u001b[0;31m \u001b[0;32mimport\u001b[0m \u001b[0mpng\u001b[0m\u001b[0;34m\u001b[0m\u001b[0m\n\u001b[0m",
      "\u001b[0;31mImportError\u001b[0m: No module named png"
     ]
    }
   ],
   "source": [
    "png"
   ]
  },
  {
   "cell_type": "code",
   "execution_count": 182,
   "metadata": {
    "collapsed": false
   },
   "outputs": [
    {
     "data": {
      "text/plain": [
       "PythonRDD[4569] at RDD at PythonRDD.scala:43"
      ]
     },
     "execution_count": 182,
     "metadata": {},
     "output_type": "execute_result"
    }
   ],
   "source": [
    "#CSV takes the file and creates and RDD of character,issue\n",
    "csv=(sc.textFile('source.csv').map(lambda x: x.split('\",\"'))\n",
    "                                .map(lambda x:[x[0][1:],x[1][:-1]]))\n",
    "csv.cache()\n",
    "#issues_by_character groups the issues with character as key\n",
    "issues_by_character=csv.groupByKey().map(lambda x:[x[0],list(x[1])])\n",
    "#characters_by_issue creates a dict with issue as key and list of chars as value\n",
    "characters_by_issue=csv.map(lambda x:[x[1],x[0]]).groupByKey().map(lambda x:[x[0],list(x[1])]).collectAsMap()\n",
    "#linked characters is an RDD that has the x[0] as the char name and a list of chars its linked to as x[1]\n",
    "linked_chars=(issues_by_character\n",
    "              .map(lambda x:[x[0],[characters_by_issue[issue] for issue in x[1]]])\n",
    "              .map(lambda x:[x[0],[char for chars in x[1] for char in chars]])\n",
    "              .map(lambda x:[x[0],list(set(x[1]))])\n",
    "              .map(lambda x:[x[0],[a for a in x[1] if a != x[0]]]))\n",
    "              \n",
    "linked_chars.cache()"
   ]
  },
  {
   "cell_type": "code",
   "execution_count": 179,
   "metadata": {
    "collapsed": false
   },
   "outputs": [],
   "source": [
    "accum = sc.accumulator(0)\n",
    "accum.value=0\n",
    "def BFS(graph, source_node, dest_node):\n",
    "    chars_list = sc.parallelize([(source_node,(0,source_node))])\n",
    "    new_chars = sc.parallelize([source_node])\n",
    "    path= [dest_node]\n",
    "    while not new_chars.isEmpty():\n",
    "        level=accum.value\n",
    "        new_chars=chars_list.filter(lambda x: x[1][0]==level).join(graph).map(lambda x:[(a,(x[1][0][0]+1,x[0])) for a in x[1][1]]).flatMap(lambda x:x).distinct()\n",
    "        accum.add(1)\n",
    "        chars_list=chars_list.union(new_chars).groupByKey().mapValues(lambda x: list(x)[0])\n",
    "        if chars_list.lookup(dest_node) != []:\n",
    "            parent=chars_list.lookup(dest_node)[0][1]\n",
    "            path.append(parent)\n",
    "            while parent != source_node:\n",
    "                parent=chars_list.lookup(parent)[0][1]\n",
    "                path.append(parent)\n",
    "            return list(reversed(path))\n",
    "    return -1\n",
    "node_depths=BFS(linked_chars,'CAPTAIN AMERICA', 'PINTA' )"
   ]
  },
  {
   "cell_type": "code",
   "execution_count": 180,
   "metadata": {
    "collapsed": false
   },
   "outputs": [
    {
     "data": {
      "text/plain": [
       "['CAPTAIN AMERICA', u'STRANGER', u'WOODGOD', 'PINTA']"
      ]
     },
     "execution_count": 180,
     "metadata": {},
     "output_type": "execute_result"
    }
   ],
   "source": [
    "node_depths"
   ]
  },
  {
   "cell_type": "code",
   "execution_count": 69,
   "metadata": {
    "collapsed": false
   },
   "outputs": [
    {
     "data": {
      "text/plain": [
       "-1"
      ]
     },
     "execution_count": 69,
     "metadata": {},
     "output_type": "execute_result"
    }
   ],
   "source": [
    "node_depths"
   ]
  },
  {
   "cell_type": "code",
   "execution_count": null,
   "metadata": {
    "collapsed": true
   },
   "outputs": [],
   "source": [
    "accum = sc.accumulator(0)\n",
    "accum.value=0\n",
    "def BFS(graph, source_node, dest_node):\n",
    "    chars_list = sc.parallelize([(source_node,0)])\n",
    "    new_chars = sc.parallelize([source_node])\n",
    "    path= [source_node]\n",
    "    while not new_chars.isEmpty():\n",
    "        level=accum.value\n",
    "        new_chars=chars_list.filter(lambda x: x[1]==level).join(graph).map(lambda x:[(a,x[1][0]+1) for a in x[1][1]]).flatMap(lambda x:x).distinct()\n",
    "        accum.add(1)\n",
    "        chars_list=chars_list.union(new_chars).groupByKey().mapValues(lambda x: min(x))\n",
    "        if chars_list.lookup(dest_node) != []:\n",
    "            return chars_list.lookup(dest_node)[0]\n",
    "    return -1\n",
    "node_depths=BFS(linked_chars,'CAPTAIN AMERICA', 'BLOOD-TIDE' )"
   ]
  }
 ],
 "metadata": {
  "kernelspec": {
   "display_name": "Python 2",
   "language": "python",
   "name": "python2"
  },
  "language_info": {
   "codemirror_mode": {
    "name": "ipython",
    "version": 2
   },
   "file_extension": ".py",
   "mimetype": "text/x-python",
   "name": "python",
   "nbconvert_exporter": "python",
   "pygments_lexer": "ipython2",
   "version": "2.7.10"
  }
 },
 "nbformat": 4,
 "nbformat_minor": 0
}
