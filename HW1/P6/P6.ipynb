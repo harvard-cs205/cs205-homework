{
 "cells": [
  {
   "cell_type": "code",
   "execution_count": 162,
   "metadata": {
    "collapsed": false
   },
   "outputs": [],
   "source": [
    "#Author: Xingchi Dai\n",
    "import findspark as fs;\n",
    "fs.init();\n",
    "import pyspark as py\n",
    "from collections import Counter\n",
    "import random\n",
    "\n",
    "\n",
    "#create sparkConf and a new Spark\n",
    "#initialize a spark\n",
    "conf = py.SparkConf().setAppName(\"CS205HW1\")\n",
    "sc = py.SparkContext();\n",
    "\n",
    "#\n",
    "def filter_words(x):\n",
    "    return not (x.isdigit() or x.isupper());\n",
    "def cut(x):\n",
    "    return (x[0] < counter - 2);\n",
    "def shift_rdd(x):\n",
    "    return (x[0] >= 0);\n",
    "\n",
    "def find_word(x):\n",
    "    #following is the algorithm to find the third number\n",
    "    potential_words = counted_rdd.map(lambda x: x).lookup(x)[0];\n",
    "    #Use random choice to generate a word\n",
    "    #create a word list\n",
    "    word=[];\n",
    "    weight=[]\n",
    "    words_list=[]\n",
    "    for x in potential_words:\n",
    "        word.append(x[0]);\n",
    "        weight.append(x[1]);\n",
    "    #build a word list\n",
    "    for x in range(len(word)):\n",
    "        for y in range(weight[x]):\n",
    "            words_list.append(word[x]);\n",
    "    # choose one word out of the word_list\n",
    "    third_word = random.choice(words_list);\n",
    "    #add the new word to the string\n",
    "    result.append(third_word);\n",
    "    #return the last two words\n",
    "    return_values=(result[-2], result[-1]);\n",
    "    return return_values;"
   ]
  },
  {
   "cell_type": "code",
   "execution_count": null,
   "metadata": {
    "collapsed": true
   },
   "outputs": [],
   "source": []
  },
  {
   "cell_type": "code",
   "execution_count": 120,
   "metadata": {
    "collapsed": false
   },
   "outputs": [],
   "source": [
    "#create a new rdd\n",
    "rdd = sc.textFile(\"pg100.txt\");\n",
    "#split the words\n",
    "words = rdd.flatMap(lambda x: x.split());\n",
    "#filter the words\n",
    "result = words.filter(filter_words).zipWithIndex().map(lambda (x, y) : (y, x));\n",
    "#count the number of map\n",
    "counter = len(result.collect());\n",
    "#shift two times and filter out extra elements\n",
    "original = result.filter(cut);\n",
    "left_shift = result.map(lambda x:(x[0]-1,x[1])).filter(shift_rdd).filter(cut);\n",
    "left_shift_two = result.map(lambda x:(x[0]-2,x[1])).filter(shift_rdd);\n",
    "#combine three rdds to one\n",
    "new_rdd = original.join(left_shift).join(left_shift_two).map(lambda x: x[1]);\n",
    "#next we create the key/value pair then group done!\n",
    "new_rdd = new_rdd.groupByKey();\n",
    "#count all elements using collections library\n",
    "counted_rdd = new_rdd.map(lambda x: (x[0], Counter(x[1]).most_common()));\n",
    "counted_rdd.cache();"
   ]
  },
  {
   "cell_type": "code",
   "execution_count": 172,
   "metadata": {
    "collapsed": false
   },
   "outputs": [
    {
     "name": "stdout",
     "output_type": "stream",
     "text": [
      "result is:\n",
      "1\n",
      "you; whom he would to God my news be uttered; And then the Queen Look'd pale when they marry, they\n",
      "result is:\n",
      "2\n",
      "whither is he that proves the King, from all the courts of France and Burgundy, my noble husband. Come, Camillo,\n",
      "result is:\n",
      "3\n",
      "Indeed you shall see this chase is hotly followed, friends. Turn head and butt were head and shoulder] Take this\n",
      "result is:\n",
      "4\n",
      "but amaze him. If that young Arthur was alive? They found him pight to do me your minister Thus to\n",
      "result is:\n",
      "5\n",
      "speak all. They say this man's life did owe you, you'll give him leave to depart; and if bring in\n",
      "result is:\n",
      "6\n",
      "be shut But in mine ancient friend, Whom, though in general part we rich in beauty; only poor That, when\n",
      "result is:\n",
      "7\n",
      "may ye both be sudden. Now, good Lafeu, Bring in to counsel you in worth dispraise Sir Valentine. And, Proteus,\n",
      "result is:\n",
      "8\n",
      "putting-on; methinks strangely, for he bears our house! He shows his reason well know: oft deliver'd from his hands After\n",
      "result is:\n",
      "9\n",
      "general gender bear him, Who, almost dead for breath, had scarcely more Than he, and condemn'd upon't. am sorry then\n",
      "result is:\n",
      "10\n",
      "there ish nothing done, if God sort it so, To make the unskilful laugh, cannot but with a splitting power,\n"
     ]
    }
   ],
   "source": [
    "#second part, genreate text from the model\n",
    "#we need to run this script for 10 times\n",
    "for script_time in range(10):\n",
    "#take sample from the array\n",
    "    sample = counted_rdd.takeSample(False,1)[0][0];\n",
    "#look up the phrase, and find the most frequent one\n",
    "    result = [];\n",
    "    result.append(sample[0]);\n",
    "    result.append(sample[1]);\n",
    "    #using for loop to find those word\n",
    "    inter = find_word(sample);\n",
    "    # print \"check the first inter\"\n",
    "    # print inter;\n",
    "    for x in range(17):\n",
    "        inter = find_word(inter);\n",
    "    print \"result is:\";\n",
    "    print script_time + 1;\n",
    "    print ' '.join(result);"
   ]
  },
  {
   "cell_type": "code",
   "execution_count": null,
   "metadata": {
    "collapsed": true
   },
   "outputs": [],
   "source": []
  },
  {
   "cell_type": "code",
   "execution_count": null,
   "metadata": {
    "collapsed": true
   },
   "outputs": [],
   "source": []
  }
 ],
 "metadata": {
  "kernelspec": {
   "display_name": "Python 2",
   "language": "python",
   "name": "python2"
  },
  "language_info": {
   "codemirror_mode": {
    "name": "ipython",
    "version": 2
   },
   "file_extension": ".py",
   "mimetype": "text/x-python",
   "name": "python",
   "nbconvert_exporter": "python",
   "pygments_lexer": "ipython2",
   "version": "2.7.10"
  }
 },
 "nbformat": 4,
 "nbformat_minor": 0
}
