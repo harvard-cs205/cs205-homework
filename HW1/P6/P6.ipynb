{
 "cells": [
  {
   "cell_type": "code",
   "execution_count": 1,
   "metadata": {
    "collapsed": true
   },
   "outputs": [],
   "source": [
    "import pyspark\n",
    "import re\n",
    "import random\n",
    "sc = pyspark.SparkContext(appName=\"P6\")"
   ]
  },
  {
   "cell_type": "code",
   "execution_count": 2,
   "metadata": {
    "collapsed": true
   },
   "outputs": [],
   "source": [
    "def splitLine(line):\n",
    "    return line.split()\n",
    "def filter_word(word):\n",
    "    not_numbers = len(re.sub('[0-9]', \"\", word)) > 0\n",
    "    not_caps_period = len(re.sub('[A-Z]+\\.*', \"\", word)) > 0\n",
    "    return not_numbers and not_caps_period\n",
    "def format_rdd(node, words_list):\n",
    "    index = node[1]\n",
    "    if index < len(words_list) - 2:\n",
    "        return ((node[0], words_list[index+1]), [(words_list[index+2], 1)])\n",
    "    else:\n",
    "        return None\n",
    "def update_hash(word_hash, arr):\n",
    "    for word, count in arr:\n",
    "        if word in word_hash:\n",
    "            word_hash[word] += count\n",
    "        else:\n",
    "            word_hash[word] = count\n",
    "    \n",
    "def reduce_tuples(x, y):\n",
    "    word_hash = {}\n",
    "    update_hash(word_hash, x)\n",
    "    update_hash(word_hash, y)\n",
    "    return word_hash.items()\n",
    "    "
   ]
  },
  {
   "cell_type": "code",
   "execution_count": 3,
   "metadata": {
    "collapsed": false
   },
   "outputs": [
    {
     "data": {
      "text/plain": [
       "904061"
      ]
     },
     "execution_count": 3,
     "metadata": {},
     "output_type": "execute_result"
    }
   ],
   "source": [
    "lines = sc.textFile('Shakespeare.txt')\n",
    "words = lines.flatMap(splitLine)\n",
    "words.count()"
   ]
  },
  {
   "cell_type": "code",
   "execution_count": 4,
   "metadata": {
    "collapsed": false
   },
   "outputs": [
    {
     "data": {
      "text/plain": [
       "829777"
      ]
     },
     "execution_count": 4,
     "metadata": {},
     "output_type": "execute_result"
    }
   ],
   "source": [
    "filtered_words = words.filter(filter_word)\n",
    "filtered_words.count()"
   ]
  },
  {
   "cell_type": "code",
   "execution_count": 6,
   "metadata": {
    "collapsed": false
   },
   "outputs": [
    {
     "data": {
      "text/plain": [
       "[u'The', u'Project', u'Gutenberg', u'EBook', u'of']"
      ]
     },
     "execution_count": 6,
     "metadata": {},
     "output_type": "execute_result"
    }
   ],
   "source": [
    "words_list = filtered_words.collect()\n",
    "words_list[1]"
   ]
  },
  {
   "cell_type": "code",
   "execution_count": 10,
   "metadata": {
    "collapsed": false
   },
   "outputs": [
    {
     "data": {
      "text/plain": [
       "[((u'The', u'Project'), [(u'Gutenberg', 1)])]"
      ]
     },
     "execution_count": 10,
     "metadata": {},
     "output_type": "execute_result"
    }
   ],
   "source": [
    "indexed_words = filtered_words.zipWithIndex()\n",
    "indexed_words = indexed_words.map(lambda x: format_rdd(x, words_list)).filter(lambda x: x is not None)\n",
    "indexed_words.take(1)"
   ]
  },
  {
   "cell_type": "code",
   "execution_count": 23,
   "metadata": {
    "collapsed": false
   },
   "outputs": [
    {
     "data": {
      "text/plain": [
       "[((u'The', u'Project'), [(u'Gutenberg', 1)])]"
      ]
     },
     "execution_count": 23,
     "metadata": {},
     "output_type": "execute_result"
    }
   ],
   "source": [
    "indexed_words = filtered_words.zipWithIndex().map(lambda x: (x[1], x[0])).partitionBy(4)\n",
    "indexed_words.foreach(lambda x: x)\n",
    "offset_words_1 = indexed_words.map(lambda x: (x[0]-1, x[1])).partitionBy(4)\n",
    "offset_words_2 = indexed_words.map(lambda x: (x[0]-2, x[1])).partitionBy(4)\n",
    "indexed_words = indexed_words.join(offset_words_1).join(offset_words_2).map(lambda x: ((x[1][0][0], x[1][0][1]), [(x[1][1],1)]))\n",
    "indexed_words.take(1)"
   ]
  },
  {
   "cell_type": "code",
   "execution_count": 18,
   "metadata": {
    "collapsed": false
   },
   "outputs": [],
   "source": [
    "word_model = indexed_words.reduceByKey(reduce_tuples)\n",
    "word_model = word_model.sortByKey()"
   ]
  },
  {
   "cell_type": "code",
   "execution_count": 19,
   "metadata": {
    "collapsed": false,
    "scrolled": true
   },
   "outputs": [
    {
     "data": {
      "text/plain": [
       "[((u'\"', u'\"'),\n",
       "  [(u'DEMETRIUS,', 1),\n",
       "   (u'SELEUCUS,', 1),\n",
       "   (u'VOLUMNIUS,', 1),\n",
       "   (u'BARDOLPH,', 1),\n",
       "   (u'-', 1),\n",
       "   (u'THYREUS,', 1),\n",
       "   (u'DIOMEDES,', 1),\n",
       "   (u'BEAU,', 1),\n",
       "   (u'GRATIANO,', 1),\n",
       "   (u'JAMY,', 1),\n",
       "   (u'DION,', 1),\n",
       "   (u'NYM,', 1),\n",
       "   (u'ARMADO,', 1),\n",
       "   (u'LORENZO,', 1),\n",
       "   (u'CLAUDIO,', 1),\n",
       "   (u'PROCULEIUS,', 1),\n",
       "   (u'PINDARUS,', 1),\n",
       "   (u'\"', 110),\n",
       "   (u'STRATO,', 1),\n",
       "   (u'BATES,', 1),\n",
       "   (u'PHILO,', 1),\n",
       "   (u'CINNA,', 1),\n",
       "   (u'SIXTH,', 1),\n",
       "   (u'DUMAIN,', 1),\n",
       "   (u'CIMBER,', 1),\n",
       "   (u'CLEOMENES,', 1),\n",
       "   (u'DERCETAS,', 1),\n",
       "   (u'KATHARINE,', 1),\n",
       "   (u'EROS,', 1),\n",
       "   (u'BRUTUS,', 1),\n",
       "   (u'TOUCHSTONE,', 1),\n",
       "   (u'ANTONIO,', 2),\n",
       "   (u'MACMORRIS,', 1),\n",
       "   (u'EXETER,', 1),\n",
       "   (u'MENAS,', 1),\n",
       "   (u'DARDANIUS,', 1),\n",
       "   (u'DOLABELLA,', 1),\n",
       "   (u'ORLANDO,', 1),\n",
       "   (u'WILLIAMS,', 1),\n",
       "   (u'ERPINGHAM,', 1),\n",
       "   (u'SCARUS,', 1),\n",
       "   (u'ARTEMIDORUS,', 1),\n",
       "   (u'MONTJOY,', 1),\n",
       "   (u'FLUELLEN,', 1),\n",
       "   (u'GALLUS,', 1),\n",
       "   (u'MESSALA,', 1),\n",
       "   (u'ADAM,', 1),\n",
       "   (u'VARRIUS,', 1),\n",
       "   (u'LUCIUS,', 1),\n",
       "   (u'MAECENAS,', 1),\n",
       "   (u'CALPURNIA,', 1),\n",
       "   (u'TITINIUS,', 1),\n",
       "   (u'Officers,', 1),\n",
       "   (u'POLIXENES,', 1),\n",
       "   (u'GREY,', 1),\n",
       "   (u'CLEOPATRA,', 1),\n",
       "   (u'LIGARIUS,', 1),\n",
       "   (u'TAURUS,', 1),\n",
       "   (u'PERCY,', 1),\n",
       "   (u'PISTOL,', 1),\n",
       "   (u'BOYET,', 1),\n",
       "   (u'PORTIA,', 1)]),\n",
       " ((u'\"', u'-'), [(u'\"', 1)]),\n",
       " ((u'\"', u'ADAM,'), [(u'servant', 1)]),\n",
       " ((u'\"', u'ANTONIO,'), [(u'a', 1), (u'father', 1)]),\n",
       " ((u'\"', u'ARMADO,'), [(u'fantastical', 1)])]"
      ]
     },
     "execution_count": 19,
     "metadata": {},
     "output_type": "execute_result"
    }
   ],
   "source": [
    "word_model.take(5)"
   ]
  },
  {
   "cell_type": "code",
   "execution_count": 20,
   "metadata": {
    "collapsed": false,
    "scrolled": false
   },
   "outputs": [
    {
     "data": {
      "text/plain": [
       "[[(u'a', 1),\n",
       "  (u'be', 1),\n",
       "  (u'his', 1),\n",
       "  (u'that', 1),\n",
       "  (u'this', 1),\n",
       "  (u'Mortimer', 1),\n",
       "  (u'it', 3),\n",
       "  (u'the', 9),\n",
       "  (u'my', 2),\n",
       "  (u'your', 1),\n",
       "  (u'he', 1)]]"
      ]
     },
     "execution_count": 20,
     "metadata": {},
     "output_type": "execute_result"
    }
   ],
   "source": [
    "word_model.map(lambda x: x).lookup((u'Now', u'is'))"
   ]
  },
  {
   "cell_type": "code",
   "execution_count": 21,
   "metadata": {
    "collapsed": false
   },
   "outputs": [],
   "source": [
    "def find_next(words):\n",
    "    choice = random.randint(1, sum(map(lambda x: x[1], words)))\n",
    "    count = 0\n",
    "    for word in words:\n",
    "        count += word[1]\n",
    "        if count >= choice:\n",
    "            return word[0]\n",
    "def generate_phrase(num_words, rdd):\n",
    "    phrase = []\n",
    "    rand_sample = rdd.takeSample(True, 1)\n",
    "    phrase.append(rand_sample[0][0][0])\n",
    "    phrase.append(rand_sample[0][0][1])\n",
    "    while len(phrase) < num_words:\n",
    "        lookup = rdd.map(lambda x: x).lookup((phrase[-2], phrase[-1]))\n",
    "        if len(lookup) > 0:\n",
    "            phrase.append(find_next(lookup[0]))\n",
    "        else:\n",
    "            return \" \".join(phrase)\n",
    "    return \" \".join(phrase)"
   ]
  },
  {
   "cell_type": "code",
   "execution_count": 22,
   "metadata": {
    "collapsed": false,
    "scrolled": true
   },
   "outputs": [
    {
     "name": "stdout",
     "output_type": "stream",
     "text": [
      "[u'sport of it is my duty, As doth a sail, a sail, a sail, a sail!\" Enter a King and', u'tower in hope, as in dumb shows and noise. would have done this? What, this, you gods? Why, this it']\n"
     ]
    }
   ],
   "source": [
    "phrases = []\n",
    "for i in range(0, 2):\n",
    "    phrases.append(generate_phrase(20, word_model))\n",
    "print phrases"
   ]
  },
  {
   "cell_type": "code",
   "execution_count": 24,
   "metadata": {
    "collapsed": true
   },
   "outputs": [],
   "source": [
    "output = [u\"came. And him to his short banishment, He should have ask'd you. [Within] And you the more. am your master,\", u\"foul fault. [A parley sounded] The town will rise. God's will, thou wrong'st him, Somerset; His grandfather was Lionel Duke\", u'in London, keeper of the fashion? Bora. Not honestly, my lord, trust not simple Henry nor his turkey-cocks. God pless', u'bind them, gentle Publius- Caius and Valentine, lay hands on them. How likes Gremio these quick-witted folks? Believe me, no;', u'Vows for thee to thy master. Exit May these add to it. My ring hold dear as my grief and', u\"Must (like a whore) unpack my heart o'erweens too much, Unless my sins are writ, and that's as easy broke\", u\"controll'd in that it stands me much that this treason with thy yard As thou lov'st her. Farewell. Exit No\", u\"noverbs. Give me Bianca for my brother back again, And dare us with our woes And make our batt'ry next.\", u\"Buckingham, doth York intend no harm in their guiltiness. Go you and all the world oppos'd, he being drest to\", u\"cold, smile and take't for a looking-glass, And entertain a cheerful disposition. To please his fantasy. Re-enter Iago. How now,\"]"
   ]
  },
  {
   "cell_type": "code",
   "execution_count": 29,
   "metadata": {
    "collapsed": false
   },
   "outputs": [
    {
     "name": "stdout",
     "output_type": "stream",
     "text": [
      "came. And him to his short banishment, He should have ask'd you. [Within] And you the more. am your master,\n",
      "foul fault. [A parley sounded] The town will rise. God's will, thou wrong'st him, Somerset; His grandfather was Lionel Duke\n",
      "in London, keeper of the fashion? Bora. Not honestly, my lord, trust not simple Henry nor his turkey-cocks. God pless\n",
      "bind them, gentle Publius- Caius and Valentine, lay hands on them. How likes Gremio these quick-witted folks? Believe me, no;\n",
      "Vows for thee to thy master. Exit May these add to it. My ring hold dear as my grief and\n",
      "Must (like a whore) unpack my heart o'erweens too much, Unless my sins are writ, and that's as easy broke\n",
      "controll'd in that it stands me much that this treason with thy yard As thou lov'st her. Farewell. Exit No\n",
      "noverbs. Give me Bianca for my brother back again, And dare us with our woes And make our batt'ry next.\n",
      "Buckingham, doth York intend no harm in their guiltiness. Go you and all the world oppos'd, he being drest to\n",
      "cold, smile and take't for a looking-glass, And entertain a cheerful disposition. To please his fantasy. Re-enter Iago. How now,\n"
     ]
    }
   ],
   "source": [
    "for phrase in output:\n",
    "    print phrase"
   ]
  },
  {
   "cell_type": "code",
   "execution_count": null,
   "metadata": {
    "collapsed": true
   },
   "outputs": [],
   "source": []
  }
 ],
 "metadata": {
  "kernelspec": {
   "display_name": "Python 2",
   "language": "python",
   "name": "python2"
  },
  "language_info": {
   "codemirror_mode": {
    "name": "ipython",
    "version": 2
   },
   "file_extension": ".py",
   "mimetype": "text/x-python",
   "name": "python",
   "nbconvert_exporter": "python",
   "pygments_lexer": "ipython2",
   "version": "2.7.10"
  }
 },
 "nbformat": 4,
 "nbformat_minor": 0
}
