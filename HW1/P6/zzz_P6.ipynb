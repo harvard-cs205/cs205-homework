{
 "cells": [
  {
   "cell_type": "code",
   "execution_count": 1,
   "metadata": {
    "collapsed": true
   },
   "outputs": [],
   "source": [
    "import findspark\n",
    "findspark.init()\n",
    "import pyspark\n",
    "sc = pyspark.SparkContext(appName=\"\")\n",
    "import re\n",
    "import random"
   ]
  },
  {
   "cell_type": "code",
   "execution_count": 2,
   "metadata": {
    "collapsed": false
   },
   "outputs": [],
   "source": [
    "## Note that to I have excluded the licensen information from the downloaded for text for better accuracy\n",
    "## Pre-process the text to create a list of words without all caps, all caps with an ending period, and all nums\n",
    "llist = sc.textFile('source.txt')\n",
    "wlist = llist.flatMap(lambda x: x.split())\n",
    "wlist_filtered = wlist.filter(lambda x: (not x[:-1].isupper()) if x[-1] == '.' else ((not x.isupper()) and (not x.isdigit())))"
   ]
  },
  {
   "cell_type": "code",
   "execution_count": 3,
   "metadata": {
    "collapsed": false
   },
   "outputs": [],
   "source": [
    "## With the cleaned word list, index, offset and then join the list(s) to create (w1,w2),[(w3,w3_count),...]\n",
    "wlist_index = wlist_filtered.zipWithIndex().map(lambda x: (x[1], x[0]))\n",
    "wlist_offset1 = wlist_index.map(lambda x: (x[0]-1, x[1]))\n",
    "wlist_offset2 = wlist_offset1.map(lambda x: (x[0]-1, x[1]))\n",
    "wlist_join = wlist_index.join(wlist_offset1).join(wlist_offset2)\n",
    "word_set = wlist_join.map(lambda x: x[1]).groupByKey().map(lambda (k,v): (k, list(v))).map(lambda (k, v): (k, [(x, v.count(x)) for x in set(v)])).cache()"
   ]
  },
  {
   "cell_type": "code",
   "execution_count": 4,
   "metadata": {
    "collapsed": false
   },
   "outputs": [
    {
     "name": "stdout",
     "output_type": "stream",
     "text": [
      "but Ay, we may Taste of it Freely command, thou wouldst fly death. have words to them. Would you, in\n",
      "\n",
      "monster's, wants not minister to love, That like the adder And that you'll say ere half an hour, One minute,\n",
      "\n",
      "Poins and will do none to-morrow: he will trouble you no modesty, no maiden shame, No touch of consanguinity, No\n",
      "\n",
      "falsehood, 'As false as Cressid.' Go to, go to; you have shown all Hectors. Enter the Archbishop of Canterbury. Come,\n",
      "\n",
      "of Macbeth; marry, he was his mistress. Well, and say 'Ay.' And yet, methinks, could despise this man, for keeping\n",
      "\n",
      "mine! But virtue, as it was not to stop my nose; or against any denial. Tell him he hath simply\n",
      "\n",
      "the adverse side, should not be ransom for offence, tender 't here; do as we. My father charg'd you in\n",
      "\n",
      "Clifford, ask mercy and remorse, Cool and congeal again to what sport and pleasure Than that a lady richly left,\n",
      "\n",
      "for ten shillings. Prince. Well then, France shall rue. Farewell, my Hector and Achilles meet; For both our armies here,\n",
      "\n",
      "earnest. Upon what cause? To see the wind and weather. 'Tis beauty that did bring them to the suck'd and\n",
      "\n"
     ]
    }
   ],
   "source": [
    "## According the the 2 previous words, randomly choose the 3rd word weighted by the word count in the \"dictionary\"\n",
    "## This is done by randomly selecting an item from a list of [word] * word_count\n",
    "## Then we print the 2 sample key + 18 generated words\n",
    "def sentence(num_sentences, num_words, dictionary):\n",
    "    for i in range(num_sentences):\n",
    "        sample = dictionary.takeSample(True, 1)\n",
    "        sentence = [w for w in sample[0][0]]\n",
    "        for j in range(2,num_words):\n",
    "            next_choice_raw = dictionary.map(lambda x: x).lookup((sentence[-2], sentence[-1]))\n",
    "            next_word = random.choice([w for wl in [[x[0]]*x[1] for x in list(*next_choice_raw)] for w in wl])\n",
    "            sentence.append(next_word)\n",
    "            sentence2 = ' '.join(sentence) + '\\n'\n",
    "        print sentence2\n",
    "\n",
    "sentence(10, 20, word_set)"
   ]
  }
 ],
 "metadata": {
  "kernelspec": {
   "display_name": "Python 2",
   "language": "python",
   "name": "python2"
  },
  "language_info": {
   "codemirror_mode": {
    "name": "ipython",
    "version": 2
   },
   "file_extension": ".py",
   "mimetype": "text/x-python",
   "name": "python",
   "nbconvert_exporter": "python",
   "pygments_lexer": "ipython2",
   "version": "2.7.10"
  }
 },
 "nbformat": 4,
 "nbformat_minor": 0
}
