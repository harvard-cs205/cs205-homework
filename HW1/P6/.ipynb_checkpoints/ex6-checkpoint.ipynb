{
 "cells": [
  {
   "cell_type": "code",
   "execution_count": 1,
   "metadata": {
    "collapsed": true
   },
   "outputs": [],
   "source": [
    "import numpy as np\n",
    "import matplotlib.pyplot as plt \n",
    "import matplotlib.cm as cm\n",
    "import findspark\n",
    "findspark.init()\n",
    "\n",
    "import pyspark\n",
    "sc = pyspark.SparkContext(appName = \"Spark\")"
   ]
  },
  {
   "cell_type": "code",
   "execution_count": 2,
   "metadata": {
    "collapsed": true
   },
   "outputs": [],
   "source": [
    "import string"
   ]
  },
  {
   "cell_type": "code",
   "execution_count": 24,
   "metadata": {
    "collapsed": true
   },
   "outputs": [],
   "source": [
    "text = sc.textFile(\"pg100.txt\") "
   ]
  },
  {
   "cell_type": "code",
   "execution_count": 41,
   "metadata": {
    "collapsed": false
   },
   "outputs": [],
   "source": [
    "words = text.flatMap(lambda line: line.split())"
   ]
  },
  {
   "cell_type": "code",
   "execution_count": 40,
   "metadata": {
    "collapsed": false
   },
   "outputs": [
    {
     "data": {
      "text/plain": [
       "[]"
      ]
     },
     "execution_count": 40,
     "metadata": {},
     "output_type": "execute_result"
    }
   ],
   "source": [
    "words.take(10)"
   ]
  },
  {
   "cell_type": "code",
   "execution_count": 42,
   "metadata": {
    "collapsed": false
   },
   "outputs": [],
   "source": [
    "words = words.filter(lambda w: not all(l.isdigit() for l in w))"
   ]
  },
  {
   "cell_type": "code",
   "execution_count": 43,
   "metadata": {
    "collapsed": false
   },
   "outputs": [],
   "source": [
    "words = words.filter(lambda w: not all(l.isupper() for l in w))"
   ]
  },
  {
   "cell_type": "code",
   "execution_count": 17,
   "metadata": {
    "collapsed": false
   },
   "outputs": [
    {
     "data": {
      "text/plain": [
       "True"
      ]
     },
     "execution_count": 17,
     "metadata": {},
     "output_type": "execute_result"
    }
   ],
   "source": [
    "capandpunc('TEST>')"
   ]
  },
  {
   "cell_type": "code",
   "execution_count": 44,
   "metadata": {
    "collapsed": false
   },
   "outputs": [],
   "source": [
    "def capandpunc(w):\n",
    "    punc = [\",\",\".\",\";\",\":\",\"!\",\"?\"]\n",
    "    res1 = all(l.isupper() for l in w[-(len(w)-1)])\n",
    "    res2 = (w[(len(w)-1)] in punc)\n",
    "    return (res1 and res2)"
   ]
  },
  {
   "cell_type": "code",
   "execution_count": 45,
   "metadata": {
    "collapsed": false
   },
   "outputs": [],
   "source": [
    "words = words.filter(lambda w: not capandpunc(w))"
   ]
  },
  {
   "cell_type": "code",
   "execution_count": 47,
   "metadata": {
    "collapsed": true
   },
   "outputs": [],
   "source": [
    "words = words.zipWithIndex().map(lambda (K,V): (V,K))"
   ]
  },
  {
   "cell_type": "code",
   "execution_count": 49,
   "metadata": {
    "collapsed": false
   },
   "outputs": [],
   "source": [
    "words1 = words.filter(lambda (K,V): K!=(826800-1))\n",
    "words2 = words.map(lambda (K,V): (K-1,V)).filter(lambda (K,V): K>=0)\n",
    "words3 =  words.map(lambda (K,V): (K-2,V)).filter(lambda (K,V): K>=0)"
   ]
  },
  {
   "cell_type": "code",
   "execution_count": 51,
   "metadata": {
    "collapsed": false
   },
   "outputs": [
    {
     "data": {
      "text/plain": [
       "[(0, u'Project'),\n",
       " (1, u'Gutenberg'),\n",
       " (2, u'EBook'),\n",
       " (3, u'of'),\n",
       " (4, u'The'),\n",
       " (5, u'Complete'),\n",
       " (6, u'Works'),\n",
       " (7, u'of'),\n",
       " (8, u'William'),\n",
       " (9, u'Shakespeare,')]"
      ]
     },
     "execution_count": 51,
     "metadata": {},
     "output_type": "execute_result"
    }
   ],
   "source": [
    "words2.take(10)"
   ]
  },
  {
   "cell_type": "code",
   "execution_count": 52,
   "metadata": {
    "collapsed": false
   },
   "outputs": [],
   "source": [
    "tutriple = words1.union(words2).union(words3).reduceByKey( lambda u,v: [u]+[v]).filter(lambda x: x[0]<(826800-2))"
   ]
  },
  {
   "cell_type": "code",
   "execution_count": 53,
   "metadata": {
    "collapsed": false
   },
   "outputs": [],
   "source": [
    "tutriple = tutriple.map(lambda x: (((x[1][0][0],x[1][0][1]),x[1][1]),1))"
   ]
  },
  {
   "cell_type": "code",
   "execution_count": 54,
   "metadata": {
    "collapsed": false
   },
   "outputs": [
    {
     "data": {
      "text/plain": [
       "[(((u'The', u'Project'), u'Gutenberg'), 1),\n",
       " (((u'attend', u'you.'), u'Will'), 1),\n",
       " (((u'had', u'the'), u'conquest'), 1),\n",
       " (((u'do', u'it'), u'extempore,'), 1),\n",
       " (((u'Complete', u'Works'), u'of'), 1),\n",
       " (((u'up', u'If'), u'Sir'), 1),\n",
       " (((u'nothing', u'but'), u'roaring.'), 1),\n",
       " (((u'William', u'Shakespeare'), u'This'), 1),\n",
       " (((u'not', u\"play'd\"), u'the'), 1),\n",
       " (((u'the', u'lion'), u'too.'), 1)]"
      ]
     },
     "execution_count": 54,
     "metadata": {},
     "output_type": "execute_result"
    }
   ],
   "source": [
    "tutriple.take(10)"
   ]
  },
  {
   "cell_type": "code",
   "execution_count": 55,
   "metadata": {
    "collapsed": true
   },
   "outputs": [],
   "source": [
    "tutriple = tutriple.reduceByKey(lambda u,v: u+v)"
   ]
  },
  {
   "cell_type": "code",
   "execution_count": 56,
   "metadata": {
    "collapsed": false
   },
   "outputs": [
    {
     "data": {
      "text/plain": [
       "[(((u'merit', u'do'), u'in'), 1),\n",
       " (((u'Charles;', u'Nor'), u'shall'), 1),\n",
       " (((u'try', u'him.'), u'None'), 1),\n",
       " (((u'present', u'parting;'), u'only'), 1),\n",
       " (((u'wind-shaken.', u'Exeunt'), u'The'), 1),\n",
       " (((u'Troilus,', u'by'), u'Menelaus.'), 1),\n",
       " (((u'honour', u'shielded.'), u'Experience'), 1),\n",
       " (((u'they', u'bear'), u'it.'), 1),\n",
       " (((u\"deserv'd\", u'on'), u'his'), 1),\n",
       " (((u'the', u'first'), u'suit'), 1)]"
      ]
     },
     "execution_count": 56,
     "metadata": {},
     "output_type": "execute_result"
    }
   ],
   "source": [
    "tutriple.take(10)"
   ]
  },
  {
   "cell_type": "code",
   "execution_count": 57,
   "metadata": {
    "collapsed": true
   },
   "outputs": [],
   "source": [
    "tutriple = tutriple.map(lambda (K,V): (K[0],(K[1],V)))"
   ]
  },
  {
   "cell_type": "code",
   "execution_count": 58,
   "metadata": {
    "collapsed": false
   },
   "outputs": [
    {
     "data": {
      "text/plain": [
       "[((u'merit', u'do'), (u'in', 1)),\n",
       " ((u'Charles;', u'Nor'), (u'shall', 1)),\n",
       " ((u'try', u'him.'), (u'None', 1)),\n",
       " ((u'present', u'parting;'), (u'only', 1)),\n",
       " ((u'wind-shaken.', u'Exeunt'), (u'The', 1)),\n",
       " ((u'Troilus,', u'by'), (u'Menelaus.', 1)),\n",
       " ((u'honour', u'shielded.'), (u'Experience', 1)),\n",
       " ((u'they', u'bear'), (u'it.', 1)),\n",
       " ((u\"deserv'd\", u'on'), (u'his', 1)),\n",
       " ((u'the', u'first'), (u'suit', 1))]"
      ]
     },
     "execution_count": 58,
     "metadata": {},
     "output_type": "execute_result"
    }
   ],
   "source": [
    "tutriple.take(10)"
   ]
  },
  {
   "cell_type": "code",
   "execution_count": 64,
   "metadata": {
    "collapsed": true
   },
   "outputs": [],
   "source": [
    "result = tutriple.groupByKey().map(lambda (K,V):(K,list(V))).cache()"
   ]
  },
  {
   "cell_type": "code",
   "execution_count": 65,
   "metadata": {
    "collapsed": false
   },
   "outputs": [
    {
     "data": {
      "text/plain": [
       "[(u'Mortimer', 1),\n",
       " (u'that', 1),\n",
       " (u'the', 9),\n",
       " (u'his', 1),\n",
       " (u'it', 3),\n",
       " (u'he', 1),\n",
       " (u'be', 1),\n",
       " (u'my', 2),\n",
       " (u'this', 1),\n",
       " (u'your', 1),\n",
       " (u'a', 1)]"
      ]
     },
     "execution_count": 65,
     "metadata": {},
     "output_type": "execute_result"
    }
   ],
   "source": [
    "result.lookup(('Now','is'))[0]"
   ]
  },
  {
   "cell_type": "code",
   "execution_count": 66,
   "metadata": {
    "collapsed": false
   },
   "outputs": [],
   "source": [
    "tuples = result.keys().cache()"
   ]
  },
  {
   "cell_type": "code",
   "execution_count": 62,
   "metadata": {
    "collapsed": false
   },
   "outputs": [],
   "source": [
    "def generateword(pair,rdd):\n",
    "    wordsandcount = rdd.lookup(pair)[0]\n",
    "    words = [i[0] for i in wordsandcount]\n",
    "    prob = [float(i[1]) for i in wordsandcount]\n",
    "    prob = [i/sum(prob) for i in prob]\n",
    "    \n",
    "    return np.random.choice(words,p=prob)"
   ]
  },
  {
   "cell_type": "code",
   "execution_count": 67,
   "metadata": {
    "collapsed": false
   },
   "outputs": [
    {
     "name": "stdout",
     "output_type": "stream",
     "text": [
      "good interpretation. There 'tis, boy. [Giving a paper] 'The battle with the aforesaid swain- keep her at my hands;\n",
      "\n"
     ]
    }
   ],
   "source": [
    "for j in range(1):\n",
    "    words_to_print = list(tuples.takeSample(False,1)[0])\n",
    "    for i in range(17):\n",
    "        words_to_print.append(generateword((words_to_print[i],words_to_print[i+1]),result))\n",
    "    print ' '.join(words_to_print)+\"\\n\""
   ]
  },
  {
   "cell_type": "code",
   "execution_count": null,
   "metadata": {
    "collapsed": true
   },
   "outputs": [],
   "source": []
  },
  {
   "cell_type": "code",
   "execution_count": null,
   "metadata": {
    "collapsed": true
   },
   "outputs": [],
   "source": []
  }
 ],
 "metadata": {
  "kernelspec": {
   "display_name": "Python 2",
   "language": "python",
   "name": "python2"
  },
  "language_info": {
   "codemirror_mode": {
    "name": "ipython",
    "version": 2
   },
   "file_extension": ".py",
   "mimetype": "text/x-python",
   "name": "python",
   "nbconvert_exporter": "python",
   "pygments_lexer": "ipython2",
   "version": "2.7.10"
  }
 },
 "nbformat": 4,
 "nbformat_minor": 0
}
