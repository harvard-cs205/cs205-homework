{
 "cells": [
  {
   "cell_type": "code",
   "execution_count": 1,
   "metadata": {
    "collapsed": true
   },
   "outputs": [],
   "source": [
    "import numpy as np"
   ]
  },
  {
   "cell_type": "code",
   "execution_count": 2,
   "metadata": {
    "collapsed": false
   },
   "outputs": [],
   "source": [
    "import findspark\n",
    "import os\n",
    "findspark.init()\n",
    "import pyspark\n",
    "sc = pyspark.SparkContext()\n",
    "sc.setLogLevel(\"ERROR\")"
   ]
  },
  {
   "cell_type": "code",
   "execution_count": 3,
   "metadata": {
    "collapsed": true
   },
   "outputs": [],
   "source": [
    "def clean_lines(line):\n",
    "    result = []\n",
    "    for r in line.split():\n",
    "        upper = r.upper()\n",
    "        if r != upper and not (r.isdigit()):\n",
    "            result.append(r)\n",
    "    return result"
   ]
  },
  {
   "cell_type": "markdown",
   "metadata": {},
   "source": [
    "### Build the model"
   ]
  },
  {
   "cell_type": "code",
   "execution_count": 41,
   "metadata": {
    "collapsed": false
   },
   "outputs": [],
   "source": [
    "wlist = sc.textFile('shakespeare.txt')"
   ]
  },
  {
   "cell_type": "code",
   "execution_count": 42,
   "metadata": {
    "collapsed": false
   },
   "outputs": [
    {
     "name": "stdout",
     "output_type": "stream",
     "text": [
      "MapPartitionsRDD[75] at textFile at NativeMethodAccessorImpl.java:-2\n",
      "2\n",
      "124787\n",
      "[u'The Project Gutenberg EBook of The Complete Works of William Shakespeare, by']\n"
     ]
    }
   ],
   "source": [
    "print wlist\n",
    "print wlist.getNumPartitions()\n",
    "print wlist.count()\n",
    "print wlist.take(1)"
   ]
  },
  {
   "cell_type": "code",
   "execution_count": 43,
   "metadata": {
    "collapsed": true
   },
   "outputs": [],
   "source": [
    "words = wlist.flatMap(lambda line: clean_lines(line))"
   ]
  },
  {
   "cell_type": "code",
   "execution_count": 44,
   "metadata": {
    "collapsed": false
   },
   "outputs": [
    {
     "name": "stdout",
     "output_type": "stream",
     "text": [
      "PythonRDD[78] at RDD at PythonRDD.scala:43\n",
      "2\n",
      "822306\n",
      "[u'The']\n"
     ]
    }
   ],
   "source": [
    "print words\n",
    "print words.getNumPartitions()\n",
    "print words.count()\n",
    "print words.take(1)"
   ]
  },
  {
   "cell_type": "code",
   "execution_count": 45,
   "metadata": {
    "collapsed": true
   },
   "outputs": [],
   "source": [
    "words_index = words.zipWithIndex() "
   ]
  },
  {
   "cell_type": "code",
   "execution_count": 46,
   "metadata": {
    "collapsed": false
   },
   "outputs": [
    {
     "name": "stdout",
     "output_type": "stream",
     "text": [
      "PythonRDD[82] at RDD at PythonRDD.scala:43\n",
      "2\n",
      "822306\n",
      "[(u'The', 0)]\n"
     ]
    }
   ],
   "source": [
    "print words_index\n",
    "print words_index.getNumPartitions()\n",
    "print words_index.count()\n",
    "print words_index.take(1)"
   ]
  },
  {
   "cell_type": "code",
   "execution_count": 47,
   "metadata": {
    "collapsed": true
   },
   "outputs": [],
   "source": [
    "words_index_1 = words_index.map(lambda w: (w[1], w[0]))"
   ]
  },
  {
   "cell_type": "code",
   "execution_count": 48,
   "metadata": {
    "collapsed": false
   },
   "outputs": [
    {
     "name": "stdout",
     "output_type": "stream",
     "text": [
      "PythonRDD[85] at RDD at PythonRDD.scala:43\n",
      "2\n",
      "822306\n",
      "[(0, u'The')]\n"
     ]
    }
   ],
   "source": [
    "print words_index_1\n",
    "print words_index_1.getNumPartitions()\n",
    "print words_index_1.count()\n",
    "print words_index_1.take(1)"
   ]
  },
  {
   "cell_type": "code",
   "execution_count": 49,
   "metadata": {
    "collapsed": true
   },
   "outputs": [],
   "source": [
    "words_index_2 = words_index_1.map(lambda w: (w[0]+1, w[1]))"
   ]
  },
  {
   "cell_type": "code",
   "execution_count": 50,
   "metadata": {
    "collapsed": false
   },
   "outputs": [
    {
     "name": "stdout",
     "output_type": "stream",
     "text": [
      "PythonRDD[88] at RDD at PythonRDD.scala:43\n",
      "2\n",
      "822306\n",
      "[(1, u'The')]\n"
     ]
    }
   ],
   "source": [
    "print words_index_2\n",
    "print words_index_2.getNumPartitions()\n",
    "print words_index_2.count()\n",
    "print words_index_2.take(1)"
   ]
  },
  {
   "cell_type": "code",
   "execution_count": 51,
   "metadata": {
    "collapsed": true
   },
   "outputs": [],
   "source": [
    "words_index_3 = words_index_2.map(lambda w: (w[0]+1, w[1]))"
   ]
  },
  {
   "cell_type": "code",
   "execution_count": 52,
   "metadata": {
    "collapsed": false
   },
   "outputs": [
    {
     "name": "stdout",
     "output_type": "stream",
     "text": [
      "PythonRDD[91] at RDD at PythonRDD.scala:43\n",
      "2\n",
      "822306\n",
      "[(2, u'The')]\n"
     ]
    }
   ],
   "source": [
    "print words_index_3\n",
    "print words_index_3.getNumPartitions()\n",
    "print words_index_3.count()\n",
    "print words_index_3.take(1)"
   ]
  },
  {
   "cell_type": "code",
   "execution_count": 53,
   "metadata": {
    "collapsed": false
   },
   "outputs": [],
   "source": [
    "words_grouped = words_index_3.join(words_index_2).join(words_index_1).map(lambda w: (w[1], 1))"
   ]
  },
  {
   "cell_type": "code",
   "execution_count": 54,
   "metadata": {
    "collapsed": false
   },
   "outputs": [
    {
     "name": "stdout",
     "output_type": "stream",
     "text": [
      "PythonRDD[108] at RDD at PythonRDD.scala:43\n",
      "6\n",
      "822304\n",
      "[(((u'more', u'wealth'), u'than'), 1)]\n"
     ]
    }
   ],
   "source": [
    "print words_grouped\n",
    "print words_grouped.getNumPartitions()\n",
    "print words_grouped.count()\n",
    "print words_grouped.take(1)"
   ]
  },
  {
   "cell_type": "code",
   "execution_count": 55,
   "metadata": {
    "collapsed": false
   },
   "outputs": [],
   "source": [
    "words_grouped_count = words_grouped.reduceByKey(lambda x, y: x + y).map(lambda w: (w[0][0], (w[0][1], w[1])))"
   ]
  },
  {
   "cell_type": "code",
   "execution_count": 56,
   "metadata": {
    "collapsed": false
   },
   "outputs": [
    {
     "name": "stdout",
     "output_type": "stream",
     "text": [
      "PythonRDD[115] at RDD at PythonRDD.scala:43\n",
      "6\n",
      "746679\n",
      "[((u'merit', u'do'), (u'in', 1))]\n"
     ]
    }
   ],
   "source": [
    "print words_grouped_count\n",
    "print words_grouped_count.getNumPartitions()\n",
    "print words_grouped_count.count()\n",
    "print words_grouped_count.take(1)"
   ]
  },
  {
   "cell_type": "code",
   "execution_count": 57,
   "metadata": {
    "collapsed": false
   },
   "outputs": [],
   "source": [
    "words_grouped_result = words_grouped_count.groupByKey().mapValues(list)"
   ]
  },
  {
   "cell_type": "code",
   "execution_count": 59,
   "metadata": {
    "collapsed": false
   },
   "outputs": [
    {
     "name": "stdout",
     "output_type": "stream",
     "text": [
      "PythonRDD[122] at RDD at PythonRDD.scala:43\n",
      "6\n",
      "452218\n",
      "[((u'Shall', u'braying'), [(u'trumpets', 1)]), ((u'souls', u'Do'), [(u'through', 1)])]\n"
     ]
    }
   ],
   "source": [
    "print words_grouped_result\n",
    "print words_grouped_result.getNumPartitions()\n",
    "print words_grouped_result.count()\n",
    "print words_grouped_result.take(2)"
   ]
  },
  {
   "cell_type": "code",
   "execution_count": 72,
   "metadata": {
    "collapsed": false
   },
   "outputs": [
    {
     "name": "stdout",
     "output_type": "stream",
     "text": [
      "[[(u'Mortimer', 1), (u'that', 1), (u'the', 9), (u'his', 1), (u'it', 3), (u'he', 1), (u'be', 1), (u'my', 2), (u'this', 1), (u'your', 1), (u'a', 1)]]\n"
     ]
    }
   ],
   "source": [
    "# Test dictionary\n",
    "print words_grouped_result.map(lambda x: x).lookup(tuple([u'Now', u'is']))"
   ]
  },
  {
   "cell_type": "markdown",
   "metadata": {},
   "source": [
    "### Use the model to generate text"
   ]
  },
  {
   "cell_type": "code",
   "execution_count": 149,
   "metadata": {
    "collapsed": true
   },
   "outputs": [],
   "source": [
    "def getLastWord(wordList):\n",
    "\n",
    "    words = [i[0] for i in wordList]\n",
    "    weights = [i[1] for i in wordList]\n",
    "    weights = [i/float(sum(weights)) for i in weights]\n",
    "    \n",
    "    return [np.random.choice(words, p=weights)]"
   ]
  },
  {
   "cell_type": "code",
   "execution_count": 150,
   "metadata": {
    "collapsed": false
   },
   "outputs": [],
   "source": [
    "def getPhrase(rdd, noWords):\n",
    "    \n",
    "    firstWord = rdd.takeSample(True, 1)\n",
    "    phrase = list(firstWord[0][0]) + getLastWord(firstWord[0][1])\n",
    "    \n",
    "    while len(phrase) < noWords:\n",
    "        newWords = rdd.map(lambda x: x).lookup(tuple(phrase[-2:]))[0]\n",
    "        phrase = phrase + getLastWord(newWords)\n",
    "    \n",
    "    result = ' '.join(phrase)\n",
    "    return result"
   ]
  },
  {
   "cell_type": "code",
   "execution_count": 151,
   "metadata": {
    "collapsed": true
   },
   "outputs": [],
   "source": [
    "noPhrases = 10\n",
    "noWords = 20"
   ]
  },
  {
   "cell_type": "code",
   "execution_count": 152,
   "metadata": {
    "collapsed": true
   },
   "outputs": [],
   "source": [
    "text = ''\n",
    "for i in range(noPhrases):\n",
    "    text = text + getPhrase(words_grouped_result, noWords) + '\\n'"
   ]
  },
  {
   "cell_type": "code",
   "execution_count": 153,
   "metadata": {
    "collapsed": true
   },
   "outputs": [],
   "source": [
    "text_file = open(\"P6.txt\", \"w\")\n",
    "text_file.write(text)\n",
    "text_file.close()"
   ]
  },
  {
   "cell_type": "code",
   "execution_count": 154,
   "metadata": {
    "collapsed": false
   },
   "outputs": [
    {
     "name": "stdout",
     "output_type": "stream",
     "text": [
      "refund and replacement provisions of this pleasant chase; 'Tis not a jot. I'faith, fear it not. And why rail on\n",
      "Boy Prithee, honey-sweet husband, let us dine, and never two ladies loved as they stream forth thy weapon; we are\n",
      "large confession To angle for me, And could command no more oppos'd Against acquaintance, kindred, and night-walking heralds That trudge\n",
      "the deputy's wife of Antony Is valiant and dejected; and by some spies. Fear not. The villain is a good\n",
      "therewithal the best; The worst is this, Sweet love? Thy love! Out, tawny Tartar, out! Out, loathed med'cine! hated potion,\n",
      "with hands Made hard with poor Antonio. Is it possible Disdain should die the death. Why, that were enough To\n",
      "Englishman, and swore by his death hath raught him. [Drums afar off by soldiers How say you will wonder at.\n",
      "if The passage and whole carriage of his effects in this. Enter with the bell, Or else you do wrong\n",
      "many regist'red in promise, Which you do not know; either it is posted with permission of the best of dearest,\n",
      "all ready. Let the doors be shut out? Perdie, your doors lock'd? Why? Wherefore ask you a toothpicker now from\n",
      "\n"
     ]
    }
   ],
   "source": [
    "print text"
   ]
  }
 ],
 "metadata": {
  "kernelspec": {
   "display_name": "Python 2",
   "language": "python",
   "name": "python2"
  },
  "language_info": {
   "codemirror_mode": {
    "name": "ipython",
    "version": 2
   },
   "file_extension": ".py",
   "mimetype": "text/x-python",
   "name": "python",
   "nbconvert_exporter": "python",
   "pygments_lexer": "ipython2",
   "version": "2.7.10"
  }
 },
 "nbformat": 4,
 "nbformat_minor": 0
}
