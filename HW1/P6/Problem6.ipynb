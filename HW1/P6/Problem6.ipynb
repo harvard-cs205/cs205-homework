{
 "cells": [
  {
   "cell_type": "markdown",
   "metadata": {},
   "source": [
    "# Problem 6"
   ]
  },
  {
   "cell_type": "code",
   "execution_count": 1,
   "metadata": {
    "collapsed": true
   },
   "outputs": [],
   "source": [
    "import findspark\n",
    "findspark.init()\n",
    "\n",
    "from pyspark import SparkContext, SparkConf\n",
    "import seaborn as sns\n",
    "sns.set_style(\"whitegrid\")\n",
    "import matplotlib.ticker as ticker   \n",
    "\n",
    "import urllib\n",
    "import numpy as np\n",
    "from scipy import stats\n",
    "import re\n",
    "\n",
    "# setup spark\n",
    "conf = SparkConf().setAppName('MarkovShakespeare')\n",
    "sc = SparkContext(conf=conf)"
   ]
  },
  {
   "cell_type": "code",
   "execution_count": 2,
   "metadata": {
    "collapsed": false
   },
   "outputs": [
    {
     "data": {
      "text/plain": [
       "('pg100.txt', <httplib.HTTPMessage instance at 0x110a990e0>)"
      ]
     },
     "execution_count": 2,
     "metadata": {},
     "output_type": "execute_result"
    }
   ],
   "source": [
    "# load textlist from net\n",
    "filename = \"pg100.txt\"\n",
    "\n",
    "url = \"http://www.gutenberg.org/cache/epub/100/pg100.txt\"\n",
    "\n",
    "wordfile = urllib.URLopener()\n",
    "wordfile.retrieve(url, filename)"
   ]
  },
  {
   "cell_type": "code",
   "execution_count": 3,
   "metadata": {
    "collapsed": false
   },
   "outputs": [
    {
     "name": "stdout",
     "output_type": "stream",
     "text": [
      "True\n"
     ]
    },
    {
     "data": {
      "text/plain": [
       "True"
      ]
     },
     "execution_count": 3,
     "metadata": {},
     "output_type": "execute_result"
    }
   ],
   "source": [
    "# the texts from shakespeare are contained in lines 182 - 124367\n",
    "# create the file Shakespeare.txt using the line range from above\n",
    "# if all is ok, this should return True, True\n",
    "with open(filename, 'r') as f:\n",
    "    lines = f.readlines()\n",
    "    lines = lines[181:124367]\n",
    "    with open('Shakespeare.txt', 'w') as f2:\n",
    "        f2.writelines(lines)\n",
    "    print f2.closed\n",
    "f.closed"
   ]
  },
  {
   "cell_type": "code",
   "execution_count": 28,
   "metadata": {
    "collapsed": true
   },
   "outputs": [],
   "source": [
    "# Pardon the naming, but I couldn't resist!\n",
    "def loadShakespearsBrain(filename):\n",
    "    words = sc.textFile(filename)\n",
    "    \n",
    "    # split lines into words (after whitespace)\n",
    "    # before splitting replace first some escape characters with white space\n",
    "    rdd = words.flatMap(lambda line: line.replace('\\n', ' ').replace('\\r', ' ').split(' ')).cache()\n",
    "    \n",
    "    # now perform filtering on the words\n",
    "    # to develop the regular expression this awesome tool was used https://regex101.com\n",
    "\n",
    "    # (1) filter out words that only contain numbers\n",
    "    # (2) filter out words for which all letters are capitalized\n",
    "    # (3) filter out words that contain letters only and end with a period\n",
    "\n",
    "    pattern1 = re.compile(ur'([0-9]+\\.?)|\\.')  # use only a simple RE for numbers here (numbers in the shakespeare text are formateed as 1., 2., ...)\n",
    "    pattern2 = re.compile(ur'(\\b[A-Z]+\\.?\\b)|\\.') # ==> do (2) & (3) together in one regex!\n",
    "\n",
    "    # filter does not change the order\n",
    "    rdd = rdd.filter(lambda x: pattern1.match(x) is None).filter(lambda x: pattern2.match(x) is None).filter(lambda x: len(x) > 0)\n",
    "    \n",
    "    # use index to identify the neighbored words!\n",
    "    rdd = rdd.zipWithIndex()\n",
    "    rdd = rdd.flatMap(lambda x: [(x[1], (0, x[0])), (x[1] - 1, (1, x[0])), (x[1] - 2, (2, x[0]))])\n",
    "    rdd = rdd.groupByKey()\n",
    "\n",
    "    # map (keyA, (keyA, wordA), (keyA + 1, wordA+1), (keyA + 2, wordA+2)) to (wordA, wordA+1, wordA+2)\n",
    "    fun = lambda x: list(x[1])\n",
    "    rdd = rdd.map(fun)\n",
    "\n",
    "    # previous mapping created some tuples, that do not have length 3 at the beginning / end of the text\n",
    "    # ==> get rid of them!\n",
    "    rdd = rdd.filter(lambda x: len(x) == 3)\n",
    "\n",
    "    # count number of combinations (key is the 3-word combination)\n",
    "    rdd = rdd.map(lambda x: ((x[0][1], x[1][1], x[2][1]), 1))\n",
    "    rdd = rdd.reduceByKey(lambda x, y: x + y)\n",
    "\n",
    "    # remap form\n",
    "    rdd = rdd.map(lambda x: ((x[0][0], x[0][1]), (x[0][2], x[1])))\n",
    "\n",
    "    # final group by key\n",
    "    rdd = rdd.groupByKey().map(lambda x: (x[0], sorted(list(x[1])) )) \\\n",
    "             .sortBy(lambda x: x[0])\n",
    "    \n",
    "    return rdd"
   ]
  },
  {
   "cell_type": "code",
   "execution_count": 29,
   "metadata": {
    "collapsed": false
   },
   "outputs": [
    {
     "data": {
      "text/plain": [
       "[[(u'Mortimer', 1),\n",
       "  (u'a', 1),\n",
       "  (u'be', 1),\n",
       "  (u'he', 1),\n",
       "  (u'his', 1),\n",
       "  (u'it', 3),\n",
       "  (u'my', 2),\n",
       "  (u'that', 1),\n",
       "  (u'the', 9),\n",
       "  (u'this', 1),\n",
       "  (u'your', 1)]]"
      ]
     },
     "execution_count": 29,
     "metadata": {},
     "output_type": "execute_result"
    }
   ],
   "source": [
    "# test the code\n",
    "rdd = loadShakespearsBrain('Shakespeare.txt')\n",
    "test = rdd.map(lambda x: x).lookup((u'Now', u'is'))\n",
    "test"
   ]
  },
  {
   "cell_type": "code",
   "execution_count": 30,
   "metadata": {
    "collapsed": true
   },
   "outputs": [],
   "source": [
    "# phrase generator\n",
    "def generatePhrase(num_of_words, rdd):\n",
    "    phrase = ''\n",
    "    for i in range(0, num_of_words - 1):\n",
    "\n",
    "        if i == 0:\n",
    "            cur_sample = rdd.takeSample(False, 1)[0]\n",
    "            phrase = cur_sample[0][0] + ' ' + cur_sample[0][1]\n",
    "        else:\n",
    "            cur_sample = (cur_phrase, rdd.map(lambda x:x).lookup(cur_phrase)[0])   \n",
    "\n",
    "        cur_phrase = cur_sample[0]\n",
    "        nextwordlist = cur_sample[1]\n",
    "\n",
    "        # to choose the next word an next tuple, we have to draw from the random distribution that is described by the word lost\n",
    "        # this can be done manually (like here) or using scipy.stats i.e.\n",
    "\n",
    "        xk = np.arange(0, len(nextwordlist))\n",
    "        pk = np.array([w[1] for w in nextwordlist])\n",
    "        # normalize probabilities\n",
    "        pk = np.divide(pk, np.sum(pk) * 1.0)\n",
    "        word_distribution = stats.rv_discrete(name='word_distribution', values=(xk, pk))\n",
    "\n",
    "        # draw sample\n",
    "        index = word_distribution.rvs(size=1)[0]\n",
    "\n",
    "        # the next word is now at position index of the list\n",
    "        next_word = nextwordlist[index][0]\n",
    "\n",
    "        phrase += ' ' + next_word\n",
    "        cur_phrase = (cur_phrase[1], next_word)\n",
    "        \n",
    "    return phrase"
   ]
  },
  {
   "cell_type": "code",
   "execution_count": 31,
   "metadata": {
    "collapsed": false
   },
   "outputs": [
    {
     "data": {
      "text/plain": [
       "u'effuse of blood and made his peace and gentle as a ducat for delivering your letter; for it is thy business'"
      ]
     },
     "execution_count": 31,
     "metadata": {},
     "output_type": "execute_result"
    }
   ],
   "source": [
    "# test code\n",
    "generatePhrase(20, rdd)"
   ]
  },
  {
   "cell_type": "markdown",
   "metadata": {},
   "source": [
    "## Old Code"
   ]
  },
  {
   "cell_type": "code",
   "execution_count": 4,
   "metadata": {
    "collapsed": false
   },
   "outputs": [],
   "source": [
    "# filtering is done by spark\n",
    "words = sc.textFile('Shakespeare.txt')"
   ]
  },
  {
   "cell_type": "code",
   "execution_count": 5,
   "metadata": {
    "collapsed": false
   },
   "outputs": [],
   "source": [
    "# split lines into words (after whitespace)\n",
    "# before splitting replace first some escape characters with white space\n",
    "rdd = words.flatMap(lambda line: line.replace('\\n', ' ').replace('\\r', ' ').split(' '))"
   ]
  },
  {
   "cell_type": "code",
   "execution_count": 6,
   "metadata": {
    "collapsed": false
   },
   "outputs": [],
   "source": [
    "# now perform filtering on the words\n",
    "# to develop the regular expression this awesome tool was used https://regex101.com\n",
    "\n",
    "# (1) filter out words that only contain numbers\n",
    "# (2) filter out words for which all letters are capitalized\n",
    "# (3) filter out words that contain letters only and end with a period\n",
    "\n",
    "pattern1 = re.compile(ur'([0-9]+\\.?)|\\.')  # use only a simple RE for numbers here (numbers in the shakespeare text are formateed as 1., 2., ...)\n",
    "pattern2 = re.compile(ur'(\\b[A-Z]+\\.?\\b)|\\.') # ==> do (2) & (3) together in one regex!\n",
    "\n",
    "# filter does not change the order\n",
    "\n",
    "# FILTERING DOES NOT WORK YET GOOD!\n",
    "\n",
    "# first pattern works, second has troubles!\n",
    "rdd = rdd.filter(lambda x: pattern1.match(x) is None).filter(lambda x: pattern2.match(x) is None).filter(lambda x: len(x) > 0)"
   ]
  },
  {
   "cell_type": "code",
   "execution_count": 7,
   "metadata": {
    "collapsed": false
   },
   "outputs": [
    {
     "data": {
      "text/plain": [
       "[u'From', u'fairest', u'creatures', u'we', u'desire']"
      ]
     },
     "execution_count": 7,
     "metadata": {},
     "output_type": "execute_result"
    }
   ],
   "source": [
    "rdd.take(5)"
   ]
  },
  {
   "cell_type": "code",
   "execution_count": 8,
   "metadata": {
    "collapsed": true
   },
   "outputs": [],
   "source": [
    "# zip with index\n",
    "rdd = rdd.zipWithIndex()"
   ]
  },
  {
   "cell_type": "code",
   "execution_count": 9,
   "metadata": {
    "collapsed": false
   },
   "outputs": [
    {
     "data": {
      "text/plain": [
       "[(u'From', 0), (u'fairest', 1), (u'creatures', 2), (u'we', 3), (u'desire', 4)]"
      ]
     },
     "execution_count": 9,
     "metadata": {},
     "output_type": "execute_result"
    }
   ],
   "source": [
    "rdd.take(5)"
   ]
  },
  {
   "cell_type": "code",
   "execution_count": 10,
   "metadata": {
    "collapsed": false
   },
   "outputs": [],
   "source": [
    "#rdd.map(lambda x:x).lookup(u'Now')"
   ]
  },
  {
   "cell_type": "code",
   "execution_count": 11,
   "metadata": {
    "collapsed": true
   },
   "outputs": [],
   "source": [
    "# map to list\n",
    "rdd = rdd.flatMap(lambda x: [(x[1], (0, x[0])), (x[1] - 1, (1, x[0])), (x[1] - 2, (2, x[0]))])"
   ]
  },
  {
   "cell_type": "code",
   "execution_count": 12,
   "metadata": {
    "collapsed": true
   },
   "outputs": [],
   "source": [
    "rdd = rdd.groupByKey()"
   ]
  },
  {
   "cell_type": "code",
   "execution_count": 13,
   "metadata": {
    "collapsed": true
   },
   "outputs": [],
   "source": [
    "# map (keyA, (keyA, wordA), (keyA + 1, wordA+1), (keyA + 2, wordA+2)) to (wordA, wordA+1, wordA+2)\n",
    "fun = lambda x: list(x[1])\n",
    "rdd = rdd.map(fun)"
   ]
  },
  {
   "cell_type": "code",
   "execution_count": 14,
   "metadata": {
    "collapsed": true
   },
   "outputs": [],
   "source": [
    "# HIER NOCH UNBEDINGT ALLE TUPEL RAUSSCHMEISSEN, DEREN LISTE != 3 Elemente enthaelt\n",
    "rdd = rdd.filter(lambda x: len(x) == 3)"
   ]
  },
  {
   "cell_type": "code",
   "execution_count": 15,
   "metadata": {
    "collapsed": false
   },
   "outputs": [],
   "source": [
    "# map such that the three words form the key with value 1, we use that then to sum up everything\n",
    "#gfun = lambda x: ((x[0][1], x[1][1], x[2][1]), 1)\n",
    "\n",
    "# try to combine\n",
    "gfun = lambda x: ((x[0][1], x[1][1], x[2][1]), 1)\n",
    "#gfun = lambda x: (x[0][1], 1)\n",
    "#rdd = rdd.map(gfun)"
   ]
  },
  {
   "cell_type": "code",
   "execution_count": 16,
   "metadata": {
    "collapsed": false
   },
   "outputs": [],
   "source": [
    "rdd = rdd.map(gfun)"
   ]
  },
  {
   "cell_type": "code",
   "execution_count": 17,
   "metadata": {
    "collapsed": false
   },
   "outputs": [],
   "source": [
    "rdd = rdd.reduceByKey(lambda x,y:x+y)\n",
    "#temp.take(5)"
   ]
  },
  {
   "cell_type": "code",
   "execution_count": 18,
   "metadata": {
    "collapsed": true
   },
   "outputs": [],
   "source": [
    "# remap form\n",
    "rdd = rdd.map(lambda x: ((x[0][0], x[0][1]), (x[0][2], x[1])))"
   ]
  },
  {
   "cell_type": "code",
   "execution_count": null,
   "metadata": {
    "collapsed": false
   },
   "outputs": [],
   "source": []
  },
  {
   "cell_type": "code",
   "execution_count": 19,
   "metadata": {
    "collapsed": true
   },
   "outputs": [],
   "source": [
    "# final group by key\n",
    "# maybe sort list after it!!!\n",
    "rdd = rdd.groupByKey().map(lambda x: (x[0], sorted(list(x[1])) ))"
   ]
  },
  {
   "cell_type": "code",
   "execution_count": null,
   "metadata": {
    "collapsed": false
   },
   "outputs": [],
   "source": []
  },
  {
   "cell_type": "code",
   "execution_count": 20,
   "metadata": {
    "collapsed": false
   },
   "outputs": [],
   "source": [
    "test = rdd.map(lambda x: x).lookup((u'Now', u'is'))"
   ]
  },
  {
   "cell_type": "code",
   "execution_count": 21,
   "metadata": {
    "collapsed": false
   },
   "outputs": [
    {
     "data": {
      "text/plain": [
       "[[(u'Mortimer', 1),\n",
       "  (u'a', 1),\n",
       "  (u'be', 1),\n",
       "  (u'he', 1),\n",
       "  (u'his', 1),\n",
       "  (u'it', 3),\n",
       "  (u'my', 2),\n",
       "  (u'that', 1),\n",
       "  (u'the', 9),\n",
       "  (u'this', 1),\n",
       "  (u'your', 1)]]"
      ]
     },
     "execution_count": 21,
     "metadata": {},
     "output_type": "execute_result"
    }
   ],
   "source": [
    "test"
   ]
  },
  {
   "cell_type": "code",
   "execution_count": 22,
   "metadata": {
    "collapsed": false
   },
   "outputs": [
    {
     "data": {
      "text/plain": [
       "(u'Now', u'is')"
      ]
     },
     "execution_count": 22,
     "metadata": {},
     "output_type": "execute_result"
    }
   ],
   "source": [
    "# now, it is time to start the Markov chain!\n",
    "cur_sample = [((u'Now', u'is'), test[0])][0]\n",
    "#cur_phrase = rdd.takeSample(False, 1)[0]\n",
    "cur_phrase = cur_sample[0]\n",
    "cur_phrase"
   ]
  },
  {
   "cell_type": "code",
   "execution_count": null,
   "metadata": {
    "collapsed": false
   },
   "outputs": [],
   "source": []
  },
  {
   "cell_type": "code",
   "execution_count": 23,
   "metadata": {
    "collapsed": false
   },
   "outputs": [],
   "source": [
    "# how long shall the phrase be?\n",
    "num_words = 20"
   ]
  },
  {
   "cell_type": "code",
   "execution_count": 24,
   "metadata": {
    "collapsed": false
   },
   "outputs": [
    {
     "name": "stdout",
     "output_type": "stream",
     "text": [
      "0th sample is ((u'parting', u'all'), [(u'the', 1)])\n",
      "next word is   the\n",
      "(u'all', u'the')\n",
      "1th sample is ((u'all', u'the'), [(u\"'orld:\", 1), (u'Andronici', 1), (u'Duke', 1), (u'English', 1), (u'Fairies,', 1), (u'Greekish', 3), (u'Greeks', 1), (u'Guests', 1), (u'Indies', 1), (u'Inns', 1), (u'Muses', 1), (u'Parthian', 1), (u'Roman', 1), (u'Romans,', 1), (u'Volsces,', 1), (u'Welshmen,', 1), (u'accoutrement,', 1), (u'admired', 1), (u'age', 1), (u'air,', 1), (u'alehouses', 1), (u'all', 1), (u'and', 1), (u'art', 1), (u'battlements', 1), (u'battles', 1), (u'beauty', 1), (u'beholders', 1), (u'benefits', 1), (u'better', 2), (u'better;', 1), (u'bitterest', 1), (u'blessings', 1), (u'blood', 1), (u\"body's\", 1), (u'books', 1), (u'boys', 1), (u'breathers', 1), (u'brothers', 1), (u'budding', 1), (u'building', 1), (u'business', 1), (u'cabileros', 1), (u'care', 1), (u'ceremony', 1), (u'chamber', 1), (u'characters', 1), (u'charms', 1), (u'chests', 1), (u'chivalry', 1), (u'choicest', 1), (u'church', 1), (u'circumstance?', 1), (u'city.', 1), (u'claim', 2), (u'clouds', 1), (u'coin', 1), (u'colours', 2), (u'comers', 1), (u'comfort', 2), (u'complete', 1), (u'conduits', 1), (u'counsel', 1), (u'country', 1), (u'country,', 1), (u'couples', 1), (u'courses', 1), (u'court', 4), (u'courts', 1), (u'creatures', 1), (u'creatures,', 1), (u'crew', 2), (u'cunning', 1), (u'currents', 1), (u'daughters', 1), (u'day', 1), (u'day,', 1), (u'day-', 1), (u'days', 2), (u'debt', 1), (u'debts', 1), (u'deer.', 1), (u'depths', 1), (u'devils', 2), (u'devils!', 1), (u'difference', 1), (u'doors', 1), (u'draff.', 1), (u'drowsy', 1), (u'ducks', 1), (u'dukes', 2), (u'duties', 2), (u'eanlings', 1), (u'earth', 1), (u'ends', 1), (u'enrolled', 1), (u'everlasting', 1), (u'eyes', 1), (u'fair', 2), (u'faith,', 1), (u'fault', 1), (u'fault.', 1), (u'faults', 1), (u'favourites', 1), (u'favours', 1), (u'fellowship', 1), (u'fertile', 1), (u'field', 1), (u'field.', 1), (u\"fiend's.\", 1), (u'fiends', 1), (u'fierce', 1), (u'first-born', 1), (u'food', 1), (u'fool', 1), (u'foolish', 1), (u'fools', 1), (u'former', 1), (u'foul', 1), (u'four,', 1), (u'friends', 3), (u'frosty', 1), (u'fry', 1), (u'gallantry', 1), (u'gallants', 1), (u'gates', 1), (u'gentry.', 1), (u'gentry;', 1), (u'gibbets', 1), (u'glory', 2), (u'gods', 7), (u'gods,', 1), (u'good', 3), (u'grace', 3), (u'gracious', 1), (u'griefs', 1), (u'hairs', 1), (u'harm', 2), (u'haste', 2), (u'haunt', 1), (u'heaven,', 1), (u'heed', 1), (u'holy', 1), (u'honour', 2), (u'honours', 3), (u'horses-', 1), (u'host.', 1), (u'hosts', 1), (u'hot-bloods', 1), (u'house', 1), (u'house;', 1), (u'household', 1), (u'humbleness', 1), (u'husbands', 1), (u'idle', 1), (u'impure', 1), (u'instruments', 1), (u'intelligence', 1), (u'interim', 1), (u'island', 1), (u'joy', 1), (u'kind', 1), (u'kindred', 1), (u'kingdom', 1), (u'kingdom.', 2), (u'kingdoms', 1), (u'kings', 1), (u'land', 2), (u\"land's\", 1), (u'land.', 1), (u'lands', 1), (u'large', 1), (u'laws', 1), (u'lawyers', 1), (u'lawyers.', 1), (u'learned', 2), (u'learnings', 1), (u'letters', 1), (u'line', 1), (u'linen.', 1), (u'lofty', 1), (u'lords', 1), (u'love', 1), (u'madness', 1), (u'means', 1), (u'meat.', 1), (u'men', 4), (u'metal', 1), (u'miseries', 1), (u'money', 2), (u'more', 1), (u\"mother's,\", 1), (u'movables', 1), (u'mud', 1), (u'music,', 1), (u'nation.', 1), (u'nearest', 1), (u'next', 1), (u'night', 1), (u'night?', 1), (u'noble', 1), (u'northern', 1), (u'number', 2), (u'observance', 1), (u'ocean,', 1), (u'office', 1), (u'officers', 2), (u'old', 1), (u'operation', 1), (u'organs', 1), (u'orld,', 1), (u'other', 3), (u'other,', 1), (u'pack', 2), (u'parish', 1), (u'parts', 2), (u'peers', 2), (u\"peers',\", 1), (u'people', 1), (u\"people's\", 1), (u'plagues', 2), (u'plains', 1), (u'play', 1), (u'pleasures', 2), (u'points', 1), (u'poisonous', 1), (u'policy,', 1), (u'poor', 1), (u'posterns.', 1), (u'power', 2), (u'praises', 1), (u'precious', 1), (u'preparation', 1), (u'priests', 1), (u'princes', 1), (u'progress', 1), (u'progress,', 1), (u'qualities', 2), (u'question.', 1), (u'racks', 1), (u'reach', 1), (u'realm', 1), (u'records', 1), (u'region', 1), (u'rest', 23), (u'rest,', 8), (u'rest.', 2), (u'rest;', 1), (u'rest?', 2), (u'revenue', 1), (u'reverend', 1), (u'riches', 2), (u'rigour', 1), (u'rites', 1), (u'rout,', 1), (u'royal', 1), (u'ruins', 1), (u'rule', 1), (u'saints', 1), (u'same;', 1), (u'sceptres', 1), (u'sea', 1), (u'secrets', 1), (u'serpentine', 1), (u'service', 1), (u'shrouds', 1), (u'sight.', 1), (u'signories', 1), (u'size', 1), (u'skill', 1), (u'skyey', 1), (u'slaughters,', 1), (u'soil', 1), (u'souls', 1), (u'sparks', 1), (u'speedy', 1), (u'spite', 1), (u'spokes', 1), (u'spots', 1), (u'standers-by', 1), (u'state', 1), (u'story', 1), (u'strength', 2), (u'subjects', 1), (u'suit', 1), (u'sun', 2), (u'sway', 1), (u'swift', 1), (u'tears', 2), (u'temporal', 1), (u'titles', 1), (u'town;', 1), (u'towns,', 1), (u'trades', 1), (u'travellers', 1), (u'treasons', 1), (u'treasure', 3), (u'tribe', 1), (u'troops', 1), (u'trouble', 1), (u'tuned', 1), (u\"unbak'd\", 1), (u'under', 1), (u'unlawful', 1), (u\"unlook'd\", 1), (u'uses', 1), (u'vale,', 1), (u'vantage', 1), (u'veins', 1), (u'villains', 1), (u'virtues', 1), (u'voices', 1), (u'vows', 1), (u'voyage', 1), (u'walls', 1), (u'watch', 1), (u'water', 2), (u'wealth', 4), (u'wealthy', 1), (u'weight', 1), (u'while', 1), (u'whips', 1), (u'whole', 1), (u'winds', 1), (u'wine', 1), (u'winter', 1), (u'winter-time,', 1), (u'wonders', 1), (u'world', 38), (u'world!', 2), (u\"world's\", 2), (u'world,', 9), (u'world-', 1), (u'world.', 8), (u'world:', 1), (u'world;', 1), (u'world?', 3), (u'worms', 1), (u'worth', 1), (u'yarn', 1), (u'year', 1), (u'year!', 1), (u'youth', 2)])\n",
      "next word is   world,\n",
      "(u'the', u'world,')\n",
      "2th sample is ((u'the', u'world,'), [(u'\"This', 1), (u\"'tis\", 1), (u'And', 5), (u'Apemantus,', 1), (u'Are', 1), (u'Art', 1), (u'As', 1), (u'Ay,', 1), (u'But', 2), (u'Else', 1), (u'Gratiano-', 1), (u'He', 1), (u'If', 2), (u'Is', 2), (u'Isbel', 1), (u'It', 1), (u'Let', 1), (u'Must', 1), (u'Never', 1), (u'Or', 1), (u'Our', 1), (u'Prizes', 1), (u'Shall', 1), (u'She', 1), (u'Sometime', 1), (u'That,', 1), (u'Till', 1), (u'To', 1), (u'Vincentio,', 1), (u'Volumnius,', 1), (u'Which', 1), (u'Whose', 1), (u'Will', 1), (u'a', 1), (u'an', 1), (u'and', 4), (u'but', 1), (u'concluded', 1), (u'either', 1), (u'fair', 1), (u'give', 1), (u'his', 1), (u'if', 1), (u'in', 1), (u'it', 1), (u'lady.', 1), (u'let', 1), (u'man;', 1), (u'not', 1), (u'or', 1), (u'recount', 1), (u'sir,', 1), (u'sometime', 1), (u'strange,', 1), (u'than', 1), (u'that', 1), (u'that,', 1), (u'the', 1), (u'think', 1), (u'thou', 1), (u'to', 1), (u'unbless', 1), (u'what', 1), (u'will', 2), (u'would', 2)])\n",
      "next word is   Let\n",
      "(u'world,', u'Let')\n",
      "3th sample is ((u'world,', u'Let'), [(u'me', 1)])\n",
      "next word is   me\n",
      "(u'Let', u'me')\n",
      "4th sample is ((u'Let', u'me'), [(u'a', 1), (u'alone', 2), (u'alone.', 4), (u'ask', 3), (u'be', 18), (u'behold', 1), (u'beseech', 1), (u'bid', 1), (u'but', 5), (u'carry', 1), (u'choose;', 1), (u'come', 2), (u'commend', 1), (u'comply', 1), (u'confess', 1), (u'confirm', 1), (u'cut', 1), (u'deserve', 1), (u'desire', 1), (u'dispute', 1), (u'embrace', 7), (u'end', 1), (u'endure', 1), (u'enjoy', 1), (u'entreat', 2), (u'entreat-', 1), (u'excuse', 2), (u'find', 1), (u'for', 1), (u'give', 2), (u'go', 7), (u'go,', 2), (u'go.', 1), (u'have', 20), (u'hear', 6), (u'hire', 1), (u'in', 1), (u'intreat', 1), (u'know', 2), (u'know.', 1), (u'lick', 1), (u'live', 1), (u'live,', 1), (u'lodge', 1), (u'look', 1), (u'love', 1), (u'make', 2), (u'march', 1), (u'my', 1), (u\"ne'er\", 2), (u'no', 1), (u'not', 13), (u'not,', 1), (u\"o'erleap\", 1), (u'pass', 2), (u'persuade', 2), (u'peruse', 1), (u'play', 2), (u'pocket', 1), (u'put', 1), (u'question', 1), (u'read', 1), (u'read.', 1), (u'redeem', 1), (u'remember', 1), (u'report', 1), (u'request', 1), (u'say', 2), (u'see', 17), (u'see,', 3), (u'see-', 1), (u'see.', 4), (u'see:', 4), (u'see;', 3), (u'shake', 1), (u'sit', 4), (u'speak', 4), (u'speak,', 1), (u'speak.', 1), (u'stand', 1), (u'stay', 2), (u'still', 1), (u'stop', 1), (u'tell', 1), (u'the', 2), (u'thy', 1), (u'twine', 1), (u'unkiss', 1), (u'unseal', 1), (u'wipe', 2), (u'work;', 1)])\n",
      "next word is   see\n",
      "(u'me', u'see')\n",
      "5th sample is ((u'me', u'see'), [(u\"'em.\", 1), (u\"'t!\", 1), (u\"'t,\", 1), (u\"'t.\", 1), (u'another.', 1), (u'her.', 1), (u'him.', 1), (u'his', 3), (u'if', 1), (u'it', 1), (u'it,', 1), (u'it.', 3), (u'it;', 1), (u'my', 2), (u'now-', 1), (u'one.', 1), (u'some', 1), (u'the', 6), (u'thee', 5), (u'them,', 2), (u'them.', 1), (u'thine', 1), (u'thy', 2), (u'what', 3), (u'wherein', 1), (u'your', 4)])\n",
      "next word is   what\n",
      "(u'see', u'what')\n",
      "6th sample is ((u'see', u'what'), [(u'a', 1), (u'can', 1), (u'cates', 1), (u'death', 1), (u'folly', 1), (u'friends', 1), (u'good', 1), (u'he', 1), (u'hole', 1), (u'may', 1), (u'mischief,', 1), (u'news.', 1), (u'now', 1), (u'physic', 1), (u'see', 1), (u'see!', 1), (u\"show'rs\", 1), (u'task', 1), (u'the', 1), (u'this', 1), (u'thou', 2), (u'trumpet', 1)])\n",
      "next word is   good\n",
      "(u'what', u'good')\n",
      "7th sample is ((u'what', u'good'), [(u'can;', 1), (u'respect', 1), (u'speed', 1), (u'sport', 1), (u'tidings', 1), (u'turn?', 1), (u'turns', 1)])\n",
      "next word is   turns\n",
      "(u'good', u'turns')\n",
      "8th sample is ((u'good', u'turns'), [(u'Are', 1), (u'eyes', 1), (u'now', 1)])\n",
      "next word is   now\n",
      "(u'turns', u'now')\n",
      "9th sample is ((u'turns', u'now'), [(u'unto', 1)])\n",
      "next word is   unto\n",
      "(u'now', u'unto')\n",
      "10th sample is ((u'now', u'unto'), [(u'the', 1)])\n",
      "next word is   the\n",
      "(u'unto', u'the')\n",
      "11th sample is ((u'unto', u'the'), [(u'Duke', 1), (u'Duke,', 1), (u'Duke.', 1), (u\"Empress'\", 1), (u'Empress?', 1), (u'English', 1), (u'French!', 1), (u'Holy', 1), (u'Jew,', 1), (u'King', 2), (u'King!', 1), (u'King,', 1), (u'King.', 3), (u'King;', 1), (u'Lord', 1), (u'Pope,', 1), (u'Prince', 2), (u'Princes.', 1), (u'Queen;', 1), (u'Temple,', 1), (u'Tower,', 1), (u'Tower.', 4), (u\"banish'd\", 1), (u'breach,', 1), (u'buds.', 1), (u\"butcher's\", 1), (u'crest,', 1), (u'crown', 1), (u'crown,', 3), (u'crown.', 1), (u'crown;', 1), (u'daughter.', 1), (u'day', 1), (u'death.', 1), (u'gazing', 1), (u'general;', 1), (u'gentleman', 1), (u'grave', 1), (u'grave.', 1), (u'green', 1), (u'grievous', 1), (u'ground.', 1), (u'heart.', 1), (u'horsemen', 1), (u'house', 5), (u'ladder', 1), (u'leman', 1), (u'main.', 1), (u'noise,', 1), (u'officers.', 1), (u'other,', 1), (u'perilous', 1), (u'place', 1), (u'point', 1), (u'practices', 1), (u'prison;', 1), (u'purpose,', 1), (u'road', 1), (u'root', 1), (u'same', 1), (u'sanctuary', 1), (u'sea,', 2), (u'shepherd', 1), (u'shores', 1), (u'sign', 1), (u'stews,', 1), (u'sword.', 1), (u'swords', 1), (u'taming-school.', 1), (u'trust', 1), (u'wall.', 1), (u'warlike', 1), (u'west,', 1), (u'world', 2), (u'worms.', 1), (u'worst', 1)])\n",
      "next word is   point\n",
      "(u'the', u'point')\n",
      "12th sample is ((u'the', u'point'), [(u'Of', 1), (u'With', 2), (u'by', 1), (u'of', 8), (u'proposed,', 1)])\n",
      "next word is   of\n",
      "(u'point', u'of')\n",
      "13th sample is ((u'point', u'of'), [(u\"Clifford's\", 1), (u'all', 1), (u'battle;', 1), (u'death', 1), (u'death,', 1), (u'death.', 1), (u'death;', 1), (u'envy,', 1), (u'fox,', 1), (u'friendship.', 1), (u'her', 1), (u'honour', 1), (u'human', 1), (u'it;', 1), (u'second', 1), (u'seldom', 1), (u'the', 1), (u'this', 2), (u'war?', 1), (u'weight,', 1), (u'wisdom.', 1)])\n",
      "next word is   death.\n",
      "(u'of', u'death.')\n",
      "14th sample is ((u'of', u'death.'), [(u'Alas,', 1), (u'As', 1), (u'Cardinal,', 1), (u'Exit', 2), (u'Good', 1), (u'Here', 1), (u'Lucy,', 1), (u'Madam,', 1), (u'Meantime', 1), (u'More', 1), (u'Rescue,', 1), (u'Stoop', 1), (u'The', 1), (u'Your', 1), (u'[A', 1), (u'[Trumpet', 1)])\n",
      "next word is   Rescue,\n",
      "(u'death.', u'Rescue,')\n",
      "15th sample is ((u'death.', u'Rescue,'), [(u'fair', 1)])\n",
      "next word is   fair\n",
      "(u'Rescue,', u'fair')\n",
      "16th sample is ((u'Rescue,', u'fair'), [(u'lord,', 1)])\n",
      "next word is   lord,\n",
      "(u'fair', u'lord,')\n",
      "17th sample is ((u'fair', u'lord,'), [(u'or', 1)])\n",
      "next word is   or\n",
      "(u'lord,', u'or')\n",
      "18th sample is ((u'lord,', u'or'), [(u'any', 1), (u'else', 1), (u'you,', 1)])\n",
      "next word is   you,\n",
      "(u'or', u'you,')\n"
     ]
    }
   ],
   "source": [
    "phrase = ''\n",
    "for i in range(0, num_words - 1):\n",
    "    \n",
    "    if i == 0:\n",
    "        cur_sample = rdd.takeSample(False, 1)[0]\n",
    "        phrase = cur_sample[0][0] + ' ' + cur_sample[0][1]\n",
    "    else:\n",
    "        cur_sample = (cur_phrase, rdd.map(lambda x:x).lookup(cur_phrase)[0])   \n",
    "    \n",
    "    cur_phrase = cur_sample[0]\n",
    "    nextwordlist = cur_sample[1]\n",
    "\n",
    "    print('%dth sample is %s' % (i, str(cur_sample)))\n",
    "    \n",
    "    # to choose the next word an next tuple, we have to draw from the random distribution that is described by the word lost\n",
    "    # this can be done manually (like here) or using scipy.stats i.e.\n",
    "\n",
    "    xk = np.arange(0, len(nextwordlist))\n",
    "    pk = np.array([w[1] for w in nextwordlist])\n",
    "    # normalize probabilities\n",
    "    pk = np.divide(pk, np.sum(pk) * 1.0)\n",
    "    word_distribution = stats.rv_discrete(name='word_distribution', values=(xk, pk))\n",
    "\n",
    "    # draw sample\n",
    "    index = word_distribution.rvs(size=1)[0]\n",
    "\n",
    "    # the next word is now at position index of the list\n",
    "    next_word = nextwordlist[index][0]\n",
    "    print('next word is   %s' % next_word)\n",
    "\n",
    "    phrase += ' ' + next_word\n",
    "    cur_phrase = (cur_phrase[1], next_word)\n",
    "    print(cur_phrase)"
   ]
  },
  {
   "cell_type": "code",
   "execution_count": 25,
   "metadata": {
    "collapsed": false
   },
   "outputs": [
    {
     "data": {
      "text/plain": [
       "((u'lord,', u'or'), [(u'any', 1), (u'else', 1), (u'you,', 1)])"
      ]
     },
     "execution_count": 25,
     "metadata": {},
     "output_type": "execute_result"
    }
   ],
   "source": [
    "cur_sample"
   ]
  },
  {
   "cell_type": "code",
   "execution_count": 26,
   "metadata": {
    "collapsed": false
   },
   "outputs": [
    {
     "data": {
      "text/plain": [
       "u'parting all the world, Let me see what good turns now unto the point of death. Rescue, fair lord, or you,'"
      ]
     },
     "execution_count": 26,
     "metadata": {},
     "output_type": "execute_result"
    }
   ],
   "source": [
    "phrase"
   ]
  },
  {
   "cell_type": "code",
   "execution_count": null,
   "metadata": {
    "collapsed": true
   },
   "outputs": [],
   "source": []
  },
  {
   "cell_type": "code",
   "execution_count": null,
   "metadata": {
    "collapsed": true
   },
   "outputs": [],
   "source": []
  },
  {
   "cell_type": "code",
   "execution_count": null,
   "metadata": {
    "collapsed": true
   },
   "outputs": [],
   "source": []
  }
 ],
 "metadata": {
  "kernelspec": {
   "display_name": "Python 2",
   "language": "python",
   "name": "python2"
  },
  "language_info": {
   "codemirror_mode": {
    "name": "ipython",
    "version": 2
   },
   "file_extension": ".py",
   "mimetype": "text/x-python",
   "name": "python",
   "nbconvert_exporter": "python",
   "pygments_lexer": "ipython2",
   "version": "2.7.10"
  }
 },
 "nbformat": 4,
 "nbformat_minor": 0
}
