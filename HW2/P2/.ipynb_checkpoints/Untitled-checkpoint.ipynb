{
 "cells": [
  {
   "cell_type": "code",
   "execution_count": 1,
   "metadata": {
    "collapsed": false
   },
   "outputs": [
    {
     "name": "stdout",
     "output_type": "stream",
     "text": [
      "Compiling with /usr/local/bin/clang-omp\n"
     ]
    }
   ],
   "source": [
    "import sys\n",
    "sys.path.append('../util')\n",
    "\n",
    "import set_compiler\n",
    "set_compiler.install()\n",
    "\n",
    "import pyximport\n",
    "pyximport.install()\n",
    "\n",
    "import numpy as np\n",
    "from timer import Timer\n",
    "from parallel_vector import move_data_serial, move_data_fine_grained, move_data_medium_grained\n"
   ]
  },
  {
   "cell_type": "code",
   "execution_count": 3,
   "metadata": {
    "collapsed": true
   },
   "outputs": [],
   "source": [
    "orig_counts = np.arange(1000, dtype=np.int32)\n",
    "src = np.random.randint(1000, size=1000000).astype(np.int32)\n",
    "dest = np.random.randint(1000, size=1000000).astype(np.int32)"
   ]
  },
  {
   "cell_type": "code",
   "execution_count": 9,
   "metadata": {
    "collapsed": false
   },
   "outputs": [
    {
     "name": "stdout",
     "output_type": "stream",
     "text": [
      "[0 1 2 3 4 5 6 7 8 9] [985 805 123 ..., 326 387  82] [167 387 856 ...,   6 347  87]\n"
     ]
    }
   ],
   "source": [
    "print orig_counts[:10], src, dest"
   ]
  },
  {
   "cell_type": "code",
   "execution_count": 2,
   "metadata": {
    "collapsed": false
   },
   "outputs": [
    {
     "name": "stdout",
     "output_type": "stream",
     "text": [
      "Serial uncorrelated: 0.279163837433 seconds\n",
      "Fine grained uncorrelated: 0.282986879349 seconds\n",
      "Medium grained uncorrelated: 0.283278942108 seconds\n",
      "Serial correlated: 0.283574104309 seconds\n",
      "Fine grained correlated: 0.27049279213 seconds\n",
      "Medium grained correlated: 0.280915021896 seconds\n"
     ]
    }
   ],
   "source": [
    "total = orig_counts.sum()\n",
    "\n",
    "# serial move\n",
    "counts = orig_counts.copy()\n",
    "with Timer() as t:\n",
    "    move_data_serial(counts, src, dest, 100)\n",
    "assert counts.sum() == total, \"Wrong total after move_data_serial\"\n",
    "print(\"Serial uncorrelated: {} seconds\".format(t.interval))\n",
    "serial_counts = counts.copy()\n",
    "\n",
    "# fine grained\n",
    "counts[:] = orig_counts\n",
    "with Timer() as t:\n",
    "    move_data_fine_grained(counts, src, dest, 100)\n",
    "assert counts.sum() == total, \"Wrong total after move_data_fine_grained\"\n",
    "print(\"Fine grained uncorrelated: {} seconds\".format(t.interval))\n",
    "\n",
    "########################################\n",
    "# You should explore different values for the number of locks in the medium\n",
    "# grained locking\n",
    "########################################\n",
    "N = 10\n",
    "counts[:] = orig_counts\n",
    "with Timer() as t:\n",
    "    move_data_medium_grained(counts, src, dest, 100, N)\n",
    "assert counts.sum() == total, \"Wrong total after move_data_medium_grained\"\n",
    "print(\"Medium grained uncorrelated: {} seconds\".format(t.interval))\n",
    "\n",
    "########################################\n",
    "# Now use correlated data movement\n",
    "########################################\n",
    "dest = src + np.random.randint(-10, 11, size=src.size)\n",
    "dest[dest < 0] += 1000\n",
    "dest[dest >= 1000] -= 1000\n",
    "dest = dest.astype(np.int32)\n",
    "\n",
    "# serial move\n",
    "counts[:] = orig_counts\n",
    "with Timer() as t:\n",
    "    move_data_serial(counts, src, dest, 100)\n",
    "assert counts.sum() == total, \"Wrong total after move_data_serial\"\n",
    "print(\"Serial correlated: {} seconds\".format(t.interval))\n",
    "serial_counts = counts.copy()\n",
    "\n",
    "# fine grained\n",
    "counts[:] = orig_counts\n",
    "with Timer() as t:\n",
    "    move_data_fine_grained(counts, src, dest, 100)\n",
    "assert counts.sum() == total, \"Wrong total after move_data_fine_grained\"\n",
    "print(\"Fine grained correlated: {} seconds\".format(t.interval))\n",
    "\n",
    "########################################\n",
    "# You should explore different values for the number of locks in the medium\n",
    "# grained locking\n",
    "########################################\n",
    "N = 10\n",
    "counts[:] = orig_counts\n",
    "with Timer() as t:\n",
    "    move_data_medium_grained(counts, src, dest, 100, N)\n",
    "assert counts.sum() == total, \"Wrong total after move_data_medium_grained\"\n",
    "print(\"Medium grained correlated: {} seconds\".format(t.interval))"
   ]
  },
  {
   "cell_type": "code",
   "execution_count": null,
   "metadata": {
    "collapsed": true
   },
   "outputs": [],
   "source": []
  }
 ],
 "metadata": {
  "kernelspec": {
   "display_name": "Python 2",
   "language": "python",
   "name": "python2"
  },
  "language_info": {
   "codemirror_mode": {
    "name": "ipython",
    "version": 2
   },
   "file_extension": ".py",
   "mimetype": "text/x-python",
   "name": "python",
   "nbconvert_exporter": "python",
   "pygments_lexer": "ipython2",
   "version": "2.7.10"
  }
 },
 "nbformat": 4,
 "nbformat_minor": 0
}
