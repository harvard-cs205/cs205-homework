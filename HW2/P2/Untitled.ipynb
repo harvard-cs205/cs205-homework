{
 "cells": [
  {
   "cell_type": "code",
   "execution_count": 12,
   "metadata": {
    "collapsed": false
   },
   "outputs": [
    {
     "name": "stdout",
     "output_type": "stream",
     "text": [
      "Compiling with /usr/local/bin/clang-omp\n"
     ]
    }
   ],
   "source": [
    "import sys\n",
    "sys.path.append('../util')\n",
    "\n",
    "import set_compiler\n",
    "set_compiler.install()\n",
    "\n",
    "import pyximport\n",
    "pyximport.install()\n",
    "\n",
    "import numpy as np\n",
    "from timer import Timer\n",
    "from parallel_vector import move_data_serial, move_data_fine_grained, move_data_medium_grained\n"
   ]
  },
  {
   "cell_type": "code",
   "execution_count": 13,
   "metadata": {
    "collapsed": true
   },
   "outputs": [],
   "source": [
    "orig_counts = np.arange(1000, dtype=np.int32)\n",
    "src = np.random.randint(1000, size=1000000).astype(np.int32)\n",
    "dest = np.random.randint(1000, size=1000000).astype(np.int32)"
   ]
  },
  {
   "cell_type": "code",
   "execution_count": 14,
   "metadata": {
    "collapsed": false
   },
   "outputs": [
    {
     "name": "stdout",
     "output_type": "stream",
     "text": [
      "[0 1 2 3 4 5 6 7 8 9] [ 37 349 912 ..., 765 435 790] [729 581  31 ..., 263 250 303]\n"
     ]
    }
   ],
   "source": [
    "print orig_counts[:10], src, dest"
   ]
  },
  {
   "cell_type": "code",
   "execution_count": 15,
   "metadata": {
    "collapsed": false
   },
   "outputs": [
    {
     "name": "stdout",
     "output_type": "stream",
     "text": [
      "Serial uncorrelated: 0.268127918243 seconds\n",
      "Fine grained uncorrelated: 0.260869979858 seconds\n",
      "Medium grained uncorrelated: 0.282157897949 seconds\n",
      "Serial correlated: 0.282778978348 seconds\n",
      "Fine grained correlated: 0.311118125916 seconds\n",
      "Medium grained correlated: 0.278080940247 seconds\n"
     ]
    }
   ],
   "source": [
    "total = orig_counts.sum()\n",
    "\n",
    "# serial move\n",
    "counts = orig_counts.copy()\n",
    "with Timer() as t:\n",
    "    move_data_serial(counts, src, dest, 100)\n",
    "assert counts.sum() == total, \"Wrong total after move_data_serial\"\n",
    "print(\"Serial uncorrelated: {} seconds\".format(t.interval))\n",
    "serial_counts = counts.copy()\n",
    "\n",
    "# fine grained\n",
    "counts[:] = orig_counts\n",
    "with Timer() as t:\n",
    "    move_data_fine_grained(counts, src, dest, 100)\n",
    "assert counts.sum() == total, \"Wrong total after move_data_fine_grained\"\n",
    "print(\"Fine grained uncorrelated: {} seconds\".format(t.interval))\n",
    "\n",
    "########################################\n",
    "# You should explore different values for the number of locks in the medium\n",
    "# grained locking\n",
    "########################################\n",
    "N = 10\n",
    "counts[:] = orig_counts\n",
    "with Timer() as t:\n",
    "    move_data_medium_grained(counts, src, dest, 100, N)\n",
    "assert counts.sum() == total, \"Wrong total after move_data_medium_grained\"\n",
    "print(\"Medium grained uncorrelated: {} seconds\".format(t.interval))\n",
    "\n",
    "########################################\n",
    "# Now use correlated data movement\n",
    "########################################\n",
    "dest = src + np.random.randint(-10, 11, size=src.size)\n",
    "dest[dest < 0] += 1000\n",
    "dest[dest >= 1000] -= 1000\n",
    "dest = dest.astype(np.int32)\n",
    "\n",
    "# serial move\n",
    "counts[:] = orig_counts\n",
    "with Timer() as t:\n",
    "    move_data_serial(counts, src, dest, 100)\n",
    "assert counts.sum() == total, \"Wrong total after move_data_serial\"\n",
    "print(\"Serial correlated: {} seconds\".format(t.interval))\n",
    "serial_counts = counts.copy()\n",
    "\n",
    "# fine grained\n",
    "counts[:] = orig_counts\n",
    "with Timer() as t:\n",
    "    move_data_fine_grained(counts, src, dest, 100)\n",
    "assert counts.sum() == total, \"Wrong total after move_data_fine_grained\"\n",
    "print(\"Fine grained correlated: {} seconds\".format(t.interval))\n",
    "\n",
    "########################################\n",
    "# You should explore different values for the number of locks in the medium\n",
    "# grained locking\n",
    "########################################\n",
    "N = 10\n",
    "counts[:] = orig_counts\n",
    "with Timer() as t:\n",
    "    move_data_medium_grained(counts, src, dest, 100, N)\n",
    "assert counts.sum() == total, \"Wrong total after move_data_medium_grained\"\n",
    "print(\"Medium grained correlated: {} seconds\".format(t.interval))"
   ]
  },
  {
   "cell_type": "code",
   "execution_count": 16,
   "metadata": {
    "collapsed": false
   },
   "outputs": [
    {
     "data": {
      "text/plain": [
       "2"
      ]
     },
     "execution_count": 16,
     "metadata": {},
     "output_type": "execute_result"
    }
   ],
   "source": [
    "5/2"
   ]
  },
  {
   "cell_type": "code",
   "execution_count": 17,
   "metadata": {
    "collapsed": false
   },
   "outputs": [
    {
     "data": {
      "text/plain": [
       "-0.9718385229326723"
      ]
     },
     "execution_count": 17,
     "metadata": {},
     "output_type": "execute_result"
    }
   ],
   "source": [
    "(-0.25190851)*(-0.25190851) - (-0.677529633045)*(-0.677529633045)-0.576250016689"
   ]
  },
  {
   "cell_type": "code",
   "execution_count": 20,
   "metadata": {
    "collapsed": false
   },
   "outputs": [
    {
     "data": {
      "text/plain": [
       "-0.6775296144401268"
      ]
     },
     "execution_count": 20,
     "metadata": {},
     "output_type": "execute_result"
    }
   ],
   "source": [
    "2*-0.57625002*0.08787817 -0.57625002"
   ]
  },
  {
   "cell_type": "code",
   "execution_count": null,
   "metadata": {
    "collapsed": true
   },
   "outputs": [],
   "source": []
  }
 ],
 "metadata": {
  "kernelspec": {
   "display_name": "Python 2",
   "language": "python",
   "name": "python2"
  },
  "language_info": {
   "codemirror_mode": {
    "name": "ipython",
    "version": 2
   },
   "file_extension": ".py",
   "mimetype": "text/x-python",
   "name": "python",
   "nbconvert_exporter": "python",
   "pygments_lexer": "ipython2",
   "version": "2.7.10"
  }
 },
 "nbformat": 4,
 "nbformat_minor": 0
}
