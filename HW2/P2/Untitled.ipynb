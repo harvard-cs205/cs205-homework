{
 "cells": [
  {
   "cell_type": "code",
   "execution_count": 44,
   "metadata": {
    "collapsed": false
   },
   "outputs": [
    {
     "name": "stdout",
     "output_type": "stream",
     "text": [
      "Compiling with /usr/local/bin/clang-omp\n"
     ]
    }
   ],
   "source": [
    "import sys\n",
    "sys.path.append('../util')\n",
    "\n",
    "import set_compiler\n",
    "set_compiler.install()\n",
    "\n",
    "import pyximport\n",
    "pyximport.install()\n",
    "\n",
    "import numpy as np\n",
    "from timer import Timer\n",
    "from parallel_vector import move_data_serial, move_data_fine_grained, move_data_medium_grained"
   ]
  },
  {
   "cell_type": "code",
   "execution_count": 33,
   "metadata": {
    "collapsed": true
   },
   "outputs": [],
   "source": [
    "orig_counts = np.arange(1000, dtype=np.int32)\n",
    "src = np.random.randint(1000, size=1000000).astype(np.int32)\n",
    "dest = np.random.randint(1000, size=1000000).astype(np.int32)\n",
    "\n",
    "total = orig_counts.sum()\n",
    "counts = orig_counts.copy()"
   ]
  },
  {
   "cell_type": "code",
   "execution_count": 38,
   "metadata": {
    "collapsed": false
   },
   "outputs": [
    {
     "name": "stdout",
     "output_type": "stream",
     "text": [
      "Serial uncorrelated: 0.360285043716 seconds\n"
     ]
    }
   ],
   "source": [
    "\n",
    "# serial move\n",
    "\n",
    "with Timer() as t:\n",
    "    move_data_serial(counts, src, dest, 100)\n",
    "assert counts.sum() == total, \"Wrong total after move_data_serial\"\n",
    "print(\"Serial uncorrelated: {} seconds\".format(t.interval))\n",
    "serial_counts = counts.copy()"
   ]
  },
  {
   "cell_type": "code",
   "execution_count": 41,
   "metadata": {
    "collapsed": false
   },
   "outputs": [
    {
     "name": "stdout",
     "output_type": "stream",
     "text": [
      "Fine grained uncorrelated: 0.344228982925 seconds\n"
     ]
    }
   ],
   "source": [
    "counts[:] = orig_counts\n",
    "with Timer() as t:\n",
    "    move_data_fine_grained(counts, src, dest, 100)\n",
    "assert counts.sum() == total, \"Wrong total after move_data_fine_grained\"\n",
    "print(\"Fine grained uncorrelated: {} seconds\".format(t.interval))"
   ]
  },
  {
   "cell_type": "code",
   "execution_count": 42,
   "metadata": {
    "collapsed": false
   },
   "outputs": [
    {
     "ename": "NameError",
     "evalue": "name 'parallel_vector' is not defined",
     "output_type": "error",
     "traceback": [
      "\u001b[0;31m---------------------------------------------------------------------------\u001b[0m",
      "\u001b[0;31mNameError\u001b[0m                                 Traceback (most recent call last)",
      "\u001b[0;32m<ipython-input-42-fc10d1fd434a>\u001b[0m in \u001b[0;36m<module>\u001b[0;34m()\u001b[0m\n\u001b[0;32m----> 1\u001b[0;31m \u001b[0mreload\u001b[0m\u001b[0;34m(\u001b[0m\u001b[0mparallel_vector\u001b[0m\u001b[0;34m)\u001b[0m\u001b[0;34m\u001b[0m\u001b[0m\n\u001b[0m",
      "\u001b[0;31mNameError\u001b[0m: name 'parallel_vector' is not defined"
     ]
    }
   ],
   "source": [
    "reload(parallel_vector)"
   ]
  },
  {
   "cell_type": "code",
   "execution_count": 10,
   "metadata": {
    "collapsed": false
   },
   "outputs": [
    {
     "data": {
      "text/plain": [
       "array([0, 1, 2], dtype=int32)"
      ]
     },
     "execution_count": 10,
     "metadata": {},
     "output_type": "execute_result"
    }
   ],
   "source": [
    "orig_counts[0:3]"
   ]
  },
  {
   "cell_type": "code",
   "execution_count": 28,
   "metadata": {
    "collapsed": false
   },
   "outputs": [
    {
     "data": {
      "text/plain": [
       "955"
      ]
     },
     "execution_count": 28,
     "metadata": {},
     "output_type": "execute_result"
    }
   ],
   "source": [
    "i=1\n",
    "counts[src[i]]\n"
   ]
  },
  {
   "cell_type": "code",
   "execution_count": 29,
   "metadata": {
    "collapsed": false
   },
   "outputs": [
    {
     "data": {
      "text/plain": [
       "182"
      ]
     },
     "execution_count": 29,
     "metadata": {},
     "output_type": "execute_result"
    }
   ],
   "source": [
    "counts[dest[i]]"
   ]
  },
  {
   "cell_type": "code",
   "execution_count": 30,
   "metadata": {
    "collapsed": false
   },
   "outputs": [
    {
     "data": {
      "text/plain": [
       "array([955, 732, 275, 246, 687, 278, 580, 770, 289, 325, 350, 480, 429,\n",
       "       882, 943, 106, 318, 547, 775, 508, 588, 370, 237, 369, 268,  91,\n",
       "       303, 869, 894, 624, 781, 386, 754, 389, 141, 130, 176, 253, 188,\n",
       "        36, 877, 606, 812,  67,  88, 974,  20, 606, 195, 596, 825, 845,\n",
       "       498, 536, 995, 439, 786,  72, 692, 211, 176, 586, 756, 834, 119,\n",
       "       369, 905, 876,  42, 770, 464, 845,   0, 548,  60, 936, 303, 807,\n",
       "       725, 782, 494, 132, 691, 477, 302, 976,  40, 309,  19, 527, 178,\n",
       "       315, 365, 377, 593,  23, 193, 381, 256], dtype=int32)"
      ]
     },
     "execution_count": 30,
     "metadata": {},
     "output_type": "execute_result"
    }
   ],
   "source": [
    "src[1:100]"
   ]
  },
  {
   "cell_type": "code",
   "execution_count": 46,
   "metadata": {
    "collapsed": false
   },
   "outputs": [
    {
     "ename": "SyntaxError",
     "evalue": "invalid syntax (<ipython-input-46-a86400630e42>, line 1)",
     "output_type": "error",
     "traceback": [
      "\u001b[0;36m  File \u001b[0;32m\"<ipython-input-46-a86400630e42>\"\u001b[0;36m, line \u001b[0;32m1\u001b[0m\n\u001b[0;31m    int x\u001b[0m\n\u001b[0m        ^\u001b[0m\n\u001b[0;31mSyntaxError\u001b[0m\u001b[0;31m:\u001b[0m invalid syntax\n"
     ]
    }
   ],
   "source": []
  },
  {
   "cell_type": "code",
   "execution_count": null,
   "metadata": {
    "collapsed": true
   },
   "outputs": [],
   "source": []
  }
 ],
 "metadata": {
  "kernelspec": {
   "display_name": "Python 2",
   "language": "python",
   "name": "python2"
  },
  "language_info": {
   "codemirror_mode": {
    "name": "ipython",
    "version": 2
   },
   "file_extension": ".py",
   "mimetype": "text/x-python",
   "name": "python",
   "nbconvert_exporter": "python",
   "pygments_lexer": "ipython2",
   "version": "2.7.10"
  }
 },
 "nbformat": 4,
 "nbformat_minor": 0
}
