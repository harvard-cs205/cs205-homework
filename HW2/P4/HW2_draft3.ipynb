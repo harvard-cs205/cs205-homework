{
 "cells": [
  {
   "cell_type": "code",
   "execution_count": 1,
   "metadata": {
    "collapsed": false
   },
   "outputs": [
    {
     "name": "stdout",
     "output_type": "stream",
     "text": [
      "Compiling with /usr/local/bin/clang-omp\n"
     ]
    }
   ],
   "source": [
    "import sys\n",
    "import os.path\n",
    "sys.path.append(os.path.join('..', 'util'))\n",
    "import set_compiler\n",
    "set_compiler.install()\n",
    "import pyximport\n",
    "pyximport.install()\n",
    "import numpy as np\n",
    "import pylab\n",
    "import filtering\n",
    "from timer import Timer\n",
    "import threading\n",
    "import time"
   ]
  },
  {
   "cell_type": "code",
   "execution_count": 2,
   "metadata": {
    "collapsed": true
   },
   "outputs": [],
   "source": [
    "def iplot(image):\n",
    "    \n",
    "    pylab.gray()\n",
    "\n",
    "    pylab.imshow(image[1200:1800, 3000:3500])\n",
    "    pylab.title(str(image))\n",
    "    pylab.show()\n",
    "    \n",
    "    \n",
    "def numpy_median(image, iterations=10):\n",
    "    ''' filter using numpy '''\n",
    "    for i in range(iterations):\n",
    "        padded = np.pad(image, 1, mode='edge')\n",
    "        stacked = np.dstack((padded[:-2,  :-2], padded[:-2,  1:-1], padded[:-2,  2:],\n",
    "                             padded[1:-1, :-2], padded[1:-1, 1:-1], padded[1:-1, 2:],\n",
    "                             padded[2:,   :-2], padded[2:,   1:-1], padded[2:,   2:]))\n",
    "        image = np.median(stacked, axis=2)\n",
    "\n",
    "    return image\n",
    "\n",
    "input_image = np.load('image.npz')['image'].astype(np.float32)\n",
    "from_numpy1 = numpy_median(input_image, 1)#doesnt work\n",
    "from_numpy2 = numpy_median(input_image, 2)\n",
    "from_numpy5 = numpy_median(input_image, 5)#doesnt work\n",
    "from_numpy7 = numpy_median(input_image, 7)\n",
    "from_numpy9 = numpy_median(input_image, 9)\n",
    "from_numpy10 = numpy_median(input_image, 10)"
   ]
  },
  {
   "cell_type": "code",
   "execution_count": 109,
   "metadata": {
    "collapsed": false
   },
   "outputs": [
    {
     "data": {
      "text/plain": [
       "1"
      ]
     },
     "execution_count": 109,
     "metadata": {},
     "output_type": "execute_result"
    }
   ],
   "source": [
    "1%2"
   ]
  },
  {
   "cell_type": "code",
   "execution_count": 110,
   "metadata": {
    "collapsed": false
   },
   "outputs": [],
   "source": [
    "def py_median_3x3_threading(image, iterations, num_threads):\n",
    "    \n",
    "    ''' \n",
    "    \n",
    "    repeatedly filter with a 3x3 median using threading\n",
    "    \n",
    "    '''\n",
    "    \n",
    "    tmpA = image.copy()\n",
    "    tmpB = np.empty_like(tmpA)\n",
    "    \n",
    "    event = np.array([[threading.Event()]*iterations]*num_threads)\n",
    "    \n",
    "    for n in range(num_threads):\n",
    "        thread = threading.Thread(target=worker, args=(tmpA, tmpB, iterations, n, \n",
    "                                                       num_threads, event))\n",
    "        \n",
    "        thread.start()\n",
    "    thread.join()\n",
    "    \n",
    "    \n",
    "    if  iterations % 2 == 1:\n",
    "        return tmpB\n",
    "    else:\n",
    "        return tmpA"
   ]
  },
  {
   "cell_type": "code",
   "execution_count": 120,
   "metadata": {
    "collapsed": false
   },
   "outputs": [],
   "source": [
    "def worker(in_coord, out_coord, iterations, threadid, thread_num, event_array):\n",
    "    for i in range(iterations):\n",
    "\n",
    "        if thread_num == 1:\n",
    "            pass\n",
    "        elif i == 0:\n",
    "            pass\n",
    "        elif threadid == 0:\n",
    "            event_array[threadid + 1,i - 1].wait()\n",
    "        elif threadid == thread_num - 1:\n",
    "            event_array[threadid - 1, i - 1].wait()\n",
    "        else:\n",
    "            event_array[threadid - 1, i - 1].wait()#causes to current thread\n",
    "            event_array[threadid + 1, i - 1].wait()# to wait on these threads \n",
    "                                                   #to be complete\n",
    "                \n",
    "        filtering.median_3x3(in_coord, out_coord, threadid, thread_num)\n",
    "        event_array[threadid, i].set() #tell the event that this thread is complete\n",
    "        in_coord, out_coord = out_coord, in_coord"
   ]
  },
  {
   "cell_type": "code",
   "execution_count": 129,
   "metadata": {
    "collapsed": false
   },
   "outputs": [],
   "source": [
    "from_cython = py_median_3x3_threading(input_image, 1,5)\n",
    "assert np.all(from_cython == from_numpy1)"
   ]
  },
  {
   "cell_type": "code",
   "execution_count": 61,
   "metadata": {
    "collapsed": false
   },
   "outputs": [
    {
     "ename": "IndentationError",
     "evalue": "expected an indented block (<ipython-input-61-daf530aba385>, line 5)",
     "output_type": "error",
     "traceback": [
      "\u001b[0;36m  File \u001b[0;32m\"<ipython-input-61-daf530aba385>\"\u001b[0;36m, line \u001b[0;32m5\u001b[0m\n\u001b[0;31m    if thread_num > 1:\u001b[0m\n\u001b[0m     ^\u001b[0m\n\u001b[0;31mIndentationError\u001b[0m\u001b[0;31m:\u001b[0m expected an indented block\n"
     ]
    }
   ],
   "source": [
    "def worker2(in_coord, out_coord, iterations, threadid, thread_num, event_array):\n",
    "    for i in range(iterations):\n",
    "        for j in range(0, len(event_array), thread_num):\n",
    "        \n",
    "            if thread_num > 1:\n",
    "\n",
    "                if i == 0:\n",
    "                    pass\n",
    "                elif threadid == 0:\n",
    "                    event_array[j + 1, threadid + 1, i - 1].wait()\n",
    "                    event_array[j + 1, threadid + 1, i].wait()\n",
    "                elif threadid == thread_num - 1:\n",
    "                    event_array[j - 1, threadid - 1, i - 1].wait()\n",
    "                    event_array[j - 1, threadid - 1, i].wait()\n",
    "                else:\n",
    "                    event_array[j - 1, threadid - 1, i - 1].wait()\n",
    "                    event_array[j - 1, threadid - 1, i - 1].wait()\n",
    "                    event_array[j - 1, threadid - 1, i - 1].wait()\n",
    "\n",
    "                        \n",
    "                    event_array[j, threadid - 1, i - 1].wait()\n",
    "                    event_array[j, threadid - 1, i - 1].wait()\n",
    "                    event_array[j, threadid - 1, i - 1].wait()\n",
    "\n",
    "            filtering.median_3x3(in_coord, out_coord, threadid + j, 1)\n",
    "            event_array[threadid + j, threadid, i].set() #tell the event that this thread is complete\n",
    "            in_coord, out_coord = out_coord, in_coord"
   ]
  },
  {
   "cell_type": "code",
   "execution_count": null,
   "metadata": {
    "collapsed": true
   },
   "outputs": [],
   "source": []
  }
 ],
 "metadata": {
  "kernelspec": {
   "display_name": "Python 2",
   "language": "python",
   "name": "python2"
  },
  "language_info": {
   "codemirror_mode": {
    "name": "ipython",
    "version": 2
   },
   "file_extension": ".py",
   "mimetype": "text/x-python",
   "name": "python",
   "nbconvert_exporter": "python",
   "pygments_lexer": "ipython2",
   "version": "2.7.10"
  }
 },
 "nbformat": 4,
 "nbformat_minor": 0
}
