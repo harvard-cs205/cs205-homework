{
 "cells": [
  {
   "cell_type": "code",
   "execution_count": 1,
   "metadata": {
    "collapsed": true
   },
   "outputs": [],
   "source": [
    "import sys\n",
    "import os.path\n",
    "sys.path.append(os.path.join('..', 'util'))\n"
   ]
  },
  {
   "cell_type": "code",
   "execution_count": 2,
   "metadata": {
    "collapsed": false
   },
   "outputs": [
    {
     "name": "stdout",
     "output_type": "stream",
     "text": [
      "Compiling with /usr/local/bin/clang-omp\n"
     ]
    }
   ],
   "source": [
    "import set_compiler\n",
    "set_compiler.install()"
   ]
  },
  {
   "cell_type": "code",
   "execution_count": 3,
   "metadata": {
    "collapsed": false
   },
   "outputs": [
    {
     "data": {
      "text/plain": [
       "(None, <pyximport.pyximport.PyxImporter at 0x1044030d0>)"
      ]
     },
     "execution_count": 3,
     "metadata": {},
     "output_type": "execute_result"
    }
   ],
   "source": [
    "import pyximport\n",
    "pyximport.install()"
   ]
  },
  {
   "cell_type": "code",
   "execution_count": 4,
   "metadata": {
    "collapsed": false
   },
   "outputs": [],
   "source": [
    "import numpy as np\n",
    "import pylab"
   ]
  },
  {
   "cell_type": "code",
   "execution_count": 5,
   "metadata": {
    "collapsed": true
   },
   "outputs": [],
   "source": [
    "import filtering\n",
    "from timer import Timer\n",
    "import threading\n",
    "import time"
   ]
  },
  {
   "cell_type": "code",
   "execution_count": 6,
   "metadata": {
    "collapsed": true
   },
   "outputs": [],
   "source": [
    "def iplot(image):\n",
    "    \n",
    "    pylab.gray()\n",
    "\n",
    "    pylab.imshow(image[1200:1800, 3000:3500])\n",
    "    pylab.title(str(image))\n",
    "    pylab.show()"
   ]
  },
  {
   "cell_type": "code",
   "execution_count": 8,
   "metadata": {
    "collapsed": true
   },
   "outputs": [],
   "source": [
    "def numpy_median(image, iterations=10):\n",
    "    ''' filter using numpy '''\n",
    "    for i in range(iterations):\n",
    "        padded = np.pad(image, 1, mode='edge')\n",
    "        stacked = np.dstack((padded[:-2,  :-2], padded[:-2,  1:-1], padded[:-2,  2:],\n",
    "                             padded[1:-1, :-2], padded[1:-1, 1:-1], padded[1:-1, 2:],\n",
    "                             padded[2:,   :-2], padded[2:,   1:-1], padded[2:,   2:]))\n",
    "        image = np.median(stacked, axis=2)\n",
    "\n",
    "    return image"
   ]
  },
  {
   "cell_type": "code",
   "execution_count": 8,
   "metadata": {
    "collapsed": true
   },
   "outputs": [],
   "source": [
    "def py_median_3x3(image, iterations=10, num_threads=1):\n",
    "    ''' repeatedly filter with a 3x3 median '''\n",
    "    tmpA = image.copy()\n",
    "    tmpB = np.empty_like(tmpA)\n",
    "    \n",
    "    for i in range(iterations):\n",
    "        filtering.median_3x3(tmpA, tmpB, 0, 1)\n",
    "        tmpA, tmpB = tmpB, tmpA\n",
    "\n",
    "\n",
    "\n",
    "#     N = num_threads\n",
    "#     tmpA2 = image.copy()\n",
    "#     tmpB2 = np.empty_like(tmpA)\n",
    "#     for i in range(iterations):  \n",
    "#         for n in range(num_threads):\n",
    "#             th = threading.Thread(target=filtering.median_3x3, args=(tmpA2\n",
    "#                                                                      ,tmpB2, n, N))# 0, 1\n",
    "#             #skipping along columns using index and step\n",
    "#             #tmpA2, tmpB2 = tmpB2, tmpA2\n",
    "#             #th.daemon = True\n",
    "#             th.start()\n",
    "#         th.join()\n",
    "#         tmpA2, tmpB2 = tmpB2, tmpA2\n",
    "        \n",
    "        \n",
    "        \n",
    "    return tmpA"
   ]
  },
  {
   "cell_type": "code",
   "execution_count": 9,
   "metadata": {
    "collapsed": false
   },
   "outputs": [],
   "source": [
    "def py_median_3x3_threading(image, iterations=10, num_threads=1):\n",
    "    ''' repeatedly filter with a 3x3 median '''\n",
    "    tmpA = image.copy()\n",
    "    tmpB = np.empty_like(tmpA)\n",
    "    \n",
    "    N = num_threads\n",
    "    tmpA2 = image.copy()\n",
    "    tmpB2 = np.empty_like(tmpA)\n",
    "    for i in range(iterations):  \n",
    "        for n in range(num_threads):\n",
    "            th = threading.Thread(target=filtering.median_3x3, args=(tmpA2\n",
    "                                                                     ,tmpB2, n, N))# 0, 1\n",
    "            #skipping along columns using index and step\n",
    "            #tmpA2, tmpB2 = tmpB2, tmpA2\n",
    "            #th.daemon = True\n",
    "            th.start()\n",
    "        th.join()\n",
    "        tmpA2, tmpB2 = tmpB2, tmpA2\n",
    "        \n",
    "        \n",
    "        \n",
    "    return tmpA2"
   ]
  },
  {
   "cell_type": "code",
   "execution_count": 9,
   "metadata": {
    "collapsed": false
   },
   "outputs": [
    {
     "ename": "IndentationError",
     "evalue": "expected an indented block (<ipython-input-9-56f5b8d1118e>, line 31)",
     "output_type": "error",
     "traceback": [
      "\u001b[0;36m  File \u001b[0;32m\"<ipython-input-9-56f5b8d1118e>\"\u001b[0;36m, line \u001b[0;32m31\u001b[0m\n\u001b[0;31m    th.join()\u001b[0m\n\u001b[0m     ^\u001b[0m\n\u001b[0;31mIndentationError\u001b[0m\u001b[0;31m:\u001b[0m expected an indented block\n"
     ]
    }
   ],
   "source": [
    "def py_median_3x3_threading2(image, iterations=10, num_threads=8):\n",
    "    ''' repeatedly filter with a 3x3 median\n",
    "        using threading\n",
    "     '''\n",
    "    \n",
    "    N = num_threads\n",
    "    tmpA = image.copy()\n",
    "    tmpB = np.empty_like(tmpA)\n",
    "    e = [threading.Event() for i in range(N+1)]\n",
    "    for n in range(num_threads):\n",
    "        th = threading.Thread(target=filtering.median_3x3, args=(tmpA, tmpB, n, N))\n",
    "        th.daemon = True\n",
    "        th.start()\n",
    "        #e[n].set()\n",
    "#         e[n-1].set()\n",
    "#         e[n+1].set()\n",
    "        for i in range(iterations): \n",
    "#             e[n-1].set()\n",
    "#             e[n+1].set()\n",
    "            #th = threading.Thread(target=filtering.median_3x3, args=(tmpA, tmpB, n, N))#+i works well\n",
    "            #time.sleep(.05)\n",
    "            #th.start()\n",
    "#             e[n-1].clear()\n",
    "#             e[n+1].clear()\n",
    "        #e[n].set()\n",
    "\n",
    "#         e[n].clear()\n",
    "#         e[n-1].clear()\n",
    "#         e[n+1].clear()\n",
    "    \n",
    "        th.join()\n",
    "        tmpA, tmpB = tmpB, tmpA\n",
    "        \n",
    "    return tmpA"
   ]
  },
  {
   "cell_type": "code",
   "execution_count": 10,
   "metadata": {
    "collapsed": false
   },
   "outputs": [],
   "source": [
    "input_image = np.load('image.npz')['image'].astype(np.float32)\n",
    "#from_cython = py_median_3x3_threading3(input_image, 5, 2) #original 2 iter"
   ]
  },
  {
   "cell_type": "code",
   "execution_count": 91,
   "metadata": {
    "collapsed": true
   },
   "outputs": [],
   "source": [
    "from_numpy1 = numpy_median(input_image, 1)\n",
    "from_numpy2 = numpy_median(input_image, 2)#original 2 iter\n",
    "from_numpy3 = numpy_median(input_image, 3)#original 2 iter\n",
    "from_numpy4 = numpy_median(input_image, 4)#original 2 iter\n",
    "from_numpy5 = numpy_median(input_image, 5)#original 2 iter"
   ]
  },
  {
   "cell_type": "code",
   "execution_count": 15,
   "metadata": {
    "collapsed": false
   },
   "outputs": [
    {
     "ename": "AssertionError",
     "evalue": "",
     "output_type": "error",
     "traceback": [
      "\u001b[0;31m---------------------------------------------------------------------------\u001b[0m",
      "\u001b[0;31mAssertionError\u001b[0m                            Traceback (most recent call last)",
      "\u001b[0;32m<ipython-input-15-8910e235a74c>\u001b[0m in \u001b[0;36m<module>\u001b[0;34m()\u001b[0m\n\u001b[1;32m      1\u001b[0m \u001b[0mfrom_cython\u001b[0m \u001b[0;34m=\u001b[0m \u001b[0mpy_median_3x3_threading3\u001b[0m\u001b[0;34m(\u001b[0m\u001b[0minput_image\u001b[0m\u001b[0;34m,\u001b[0m \u001b[0;36m3\u001b[0m\u001b[0;34m,\u001b[0m \u001b[0;36m2\u001b[0m\u001b[0;34m)\u001b[0m \u001b[0;31m#original 2 iter\u001b[0m\u001b[0;34m\u001b[0m\u001b[0m\n\u001b[1;32m      2\u001b[0m \u001b[0mfrom_numpy2\u001b[0m \u001b[0;34m=\u001b[0m \u001b[0mnumpy_median\u001b[0m\u001b[0;34m(\u001b[0m\u001b[0minput_image\u001b[0m\u001b[0;34m,\u001b[0m \u001b[0;36m3\u001b[0m\u001b[0;34m)\u001b[0m\u001b[0;31m#original 2 iter\u001b[0m\u001b[0;34m\u001b[0m\u001b[0m\n\u001b[0;32m----> 3\u001b[0;31m \u001b[0;32massert\u001b[0m \u001b[0mnp\u001b[0m\u001b[0;34m.\u001b[0m\u001b[0mall\u001b[0m\u001b[0;34m(\u001b[0m\u001b[0mfrom_cython\u001b[0m \u001b[0;34m==\u001b[0m \u001b[0mfrom_numpy2\u001b[0m\u001b[0;34m)\u001b[0m\u001b[0;34m\u001b[0m\u001b[0m\n\u001b[0m",
      "\u001b[0;31mAssertionError\u001b[0m: "
     ]
    }
   ],
   "source": [
    "from_cython = py_median_3x3_threading3(input_image, 3, 2) #original 2 iter\n",
    "from_numpy2 = numpy_median(input_image, 3)#original 2 iter\n",
    "assert np.all(from_cython == from_numpy2)"
   ]
  },
  {
   "cell_type": "code",
   "execution_count": 100,
   "metadata": {
    "collapsed": false
   },
   "outputs": [],
   "source": [
    "iplot(from_cython)"
   ]
  },
  {
   "cell_type": "code",
   "execution_count": 122,
   "metadata": {
    "collapsed": false
   },
   "outputs": [
    {
     "name": "stdout",
     "output_type": "stream",
     "text": [
      "10000\n"
     ]
    }
   ],
   "source": [
    "print sum(sum(from_cython[:100,:100]==from_numpy2[:100,:100]))"
   ]
  },
  {
   "cell_type": "code",
   "execution_count": null,
   "metadata": {
    "collapsed": true
   },
   "outputs": [],
   "source": [
    "if __name__ == '__main__':\n",
    "    input_image = np.load('image.npz')['image'].astype(np.float32)\n",
    "\n",
    "    pylab.gray()\n",
    "\n",
    "    pylab.imshow(input_image)\n",
    "    pylab.title('original image')\n",
    "\n",
    "    pylab.figure()\n",
    "    pylab.imshow(input_image[1200:1800, 3000:3500])\n",
    "    pylab.title('before - zoom')\n",
    "\n",
    "    # verify correctness\n",
    "    from_cython = py_median_3x3_threading(input_image, 1, 2) #original 2 iter\n",
    "    from_numpy = numpy_median(input_image, 1)#original 2 iter\n",
    "    assert np.all(from_cython == from_numpy)\n",
    "    \n",
    "    \n",
    "    with Timer() as t:\n",
    "        \n",
    "        new_image = py_median_3x3_threading(input_image, 10, 8)\n",
    "\n",
    "    pylab.figure()\n",
    "    pylab.imshow(new_image[1200:1800, 3000:3500])\n",
    "    pylab.title('after - zoom')\n",
    "\n",
    "    print(\"{} seconds for 10 filter passes.\".format(t.interval))\n",
    "    pylab.show()\n"
   ]
  },
  {
   "cell_type": "code",
   "execution_count": 11,
   "metadata": {
    "collapsed": false
   },
   "outputs": [],
   "source": [
    "def worker(in_coord, out_coord, iterations, threadid, thread_num, lock):\n",
    "    #this is close but the iteration conditions still cause a boundary issue\n",
    "    for i in range(iterations): \n",
    "        \n",
    "        if i == 0:\n",
    "                filtering.median_3x3(in_coord, out_coord, threadid, thread_num)\n",
    "                in_coord, out_coord = out_coord, in_coord\n",
    "                #print 'g', threadid, i, lock\n",
    "                lock[threadid] = i\n",
    "                \n",
    "        if i > 0 and i < (iterations - 1) and threadid > 0 and threadid < (thread_num - 1):\n",
    "            if lock[threadid + 1] == (i - 1) and lock[threadid - 1] == (i - 1):\n",
    "                filtering.median_3x3(in_coord, out_coord, threadid, thread_num)\n",
    "                in_coord, out_coord = out_coord, in_coord\n",
    "                #print 'g', threadid, i, lock\n",
    "                lock[threadid] = i\n",
    "            else:\n",
    "                time.sleep(.5)\n",
    "                filtering.median_3x3(in_coord, out_coord, threadid, thread_num)\n",
    "                in_coord, out_coord = out_coord, in_coord\n",
    "                #print 'b', threadid, i, lock\n",
    "                lock[threadid] = i  \n",
    "                \n",
    "        if i > 0 and threadid == 0:\n",
    "\n",
    "            if lock[threadid + 1] == (i - 1):\n",
    "                filtering.median_3x3(in_coord, out_coord, threadid, thread_num)\n",
    "                in_coord, out_coord = out_coord, in_coord\n",
    "                #print 'g', threadid, i, lock\n",
    "                lock[threadid] = i\n",
    "            else:\n",
    "                time.sleep(.5)\n",
    "                filtering.median_3x3(in_coord, out_coord, threadid, thread_num)\n",
    "                in_coord, out_coord = out_coord, in_coord\n",
    "                #print 'b', threadid, i, lock\n",
    "                lock[threadid] = i \n",
    "            \n",
    "            \n",
    "        else:\n",
    "            if lock[threadid - 1] == (i - 1):\n",
    "                filtering.median_3x3(in_coord, out_coord, threadid, thread_num)\n",
    "                in_coord, out_coord = out_coord, in_coord\n",
    "                #print 'g', threadid, i, lock\n",
    "                lock[threadid] = i\n",
    "            else:\n",
    "                time.sleep(.5)\n",
    "                filtering.median_3x3(in_coord, out_coord, threadid, thread_num)\n",
    "                in_coord, out_coord = out_coord, in_coord\n",
    "                #print 'b', threadid, i, lock\n",
    "                lock[threadid] = i\n",
    "            \n",
    "            \n",
    "\n",
    "def py_median_3x3_threading3(image, iterations, num_threads):\n",
    "    ''' repeatedly filter with a 3x3 median\n",
    "        using threading\n",
    "     '''\n",
    "    th2 = []\n",
    "    ev = []\n",
    "    tmpA = image.copy()\n",
    "    tmpB = np.empty_like(tmpA)\n",
    "\n",
    "    ev = np.array(ev).reshape((num_threads,iterations))\n",
    "#     ev = np.array([[threading.Event()]*iterations]*num_threads)\n",
    "    for n in range(num_threads):\n",
    "        th = threading.Thread(target=worker2, args=(tmpA, tmpB, iterations, n, num_threads, ev))\n",
    "        th.start()\n",
    "        th2 += [th]\n",
    "\n",
    "        \n",
    "    return tmpA"
   ]
  },
  {
   "cell_type": "code",
   "execution_count": 12,
   "metadata": {
    "collapsed": false
   },
   "outputs": [],
   "source": [
    "def worker2(in_coord, out_coord, iterations, threadid, thread_num, event_array):\n",
    "    for i in range(iterations):\n",
    "        \n",
    "#         if thread_num > 1:\n",
    "#             if i == 0:\n",
    "#                 pass\n",
    "#             elif threadid == 0:\n",
    "#                 event_array[threadid + 1,i - 1].wait()\n",
    "#             elif threadid == thread_num - 1:\n",
    "#                 event_array[threadid - 1, i - 1].wait()\n",
    "#             else:\n",
    "#                 event_array[threadid - 1, i - 1].wait()\n",
    "#                 event_array[threadid + 1, i - 1].wait()\n",
    "\n",
    "        if thread_num > 1:\n",
    "            if i == 0:\n",
    "                pass\n",
    "            elif threadid == 0:\n",
    "                event_array[threadid + 1,i - 1].wait()\n",
    "            elif threadid == thread_num - 1:\n",
    "                event_array[threadid - 1, i - 1].wait()\n",
    "            else:\n",
    "                event_array[threadid - 1, i - 1].wait()\n",
    "                event_array[threadid + 1, i - 1].wait()\n",
    "                \n",
    "        filtering.median_3x3(in_coord, out_coord, threadid, thread_num)\n",
    "        event_array[threadid, i].set() #stops the thread\n",
    "        in_coord, out_coord = out_coord, in_coord"
   ]
  },
  {
   "cell_type": "code",
   "execution_count": 13,
   "metadata": {
    "collapsed": false
   },
   "outputs": [
    {
     "data": {
      "text/plain": [
       "array([[ 0.,  1.,  2.,  3.,  4.],\n",
       "       [ 0.,  1.,  2.,  3.,  4.],\n",
       "       [ 0.,  1.,  2.,  3.,  4.],\n",
       "       [ 0.,  1.,  2.,  3.,  4.],\n",
       "       [ 0.,  1.,  2.,  3.,  4.]], dtype=float32)"
      ]
     },
     "execution_count": 13,
     "metadata": {},
     "output_type": "execute_result"
    }
   ],
   "source": [
    "t = np.array([range(5)]*5).astype(np.float32)\n",
    "py_median_3x3_threading3(t, 10, 2)"
   ]
  },
  {
   "cell_type": "code",
   "execution_count": 256,
   "metadata": {
    "collapsed": false
   },
   "outputs": [],
   "source": [
    "def fun1(j):\n",
    "    for i in range(len(j)):\n",
    "        j[i] = 1\n",
    "    \n",
    "def fun2():\n",
    "    t = np.zeros(5)\n",
    "    th = threading.Thread(target=fun1, args=(t,))\n",
    "    th.start()\n",
    "    th.join()\n",
    "    return t"
   ]
  },
  {
   "cell_type": "code",
   "execution_count": 13,
   "metadata": {
    "collapsed": true
   },
   "outputs": [],
   "source": [
    "s = threading.Semaphore(1)"
   ]
  },
  {
   "cell_type": "code",
   "execution_count": 14,
   "metadata": {
    "collapsed": false
   },
   "outputs": [
    {
     "data": {
      "text/plain": [
       "True"
      ]
     },
     "execution_count": 14,
     "metadata": {},
     "output_type": "execute_result"
    }
   ],
   "source": [
    "s.acquire()"
   ]
  },
  {
   "cell_type": "code",
   "execution_count": 19,
   "metadata": {
    "collapsed": false
   },
   "outputs": [],
   "source": [
    "s = [threading.Event()]*4"
   ]
  },
  {
   "cell_type": "code",
   "execution_count": 20,
   "metadata": {
    "collapsed": false
   },
   "outputs": [],
   "source": [
    "k = s[0]"
   ]
  },
  {
   "cell_type": "code",
   "execution_count": 21,
   "metadata": {
    "collapsed": false
   },
   "outputs": [],
   "source": [
    "k.set()"
   ]
  },
  {
   "cell_type": "code",
   "execution_count": 22,
   "metadata": {
    "collapsed": false
   },
   "outputs": [
    {
     "data": {
      "text/plain": [
       "True"
      ]
     },
     "execution_count": 22,
     "metadata": {},
     "output_type": "execute_result"
    }
   ],
   "source": [
    "k.wait()"
   ]
  },
  {
   "cell_type": "code",
   "execution_count": 23,
   "metadata": {
    "collapsed": false
   },
   "outputs": [
    {
     "data": {
      "text/plain": [
       "True"
      ]
     },
     "execution_count": 23,
     "metadata": {},
     "output_type": "execute_result"
    }
   ],
   "source": [
    "k.wait()"
   ]
  },
  {
   "cell_type": "code",
   "execution_count": 24,
   "metadata": {
    "collapsed": true
   },
   "outputs": [],
   "source": [
    "k.set()"
   ]
  },
  {
   "cell_type": "code",
   "execution_count": 34,
   "metadata": {
    "collapsed": false
   },
   "outputs": [],
   "source": [
    "ev = np.array([[threading.Event()]*5]*5)"
   ]
  },
  {
   "cell_type": "code",
   "execution_count": 43,
   "metadata": {
    "collapsed": false
   },
   "outputs": [
    {
     "data": {
      "text/plain": [
       "(5, 5)"
      ]
     },
     "execution_count": 43,
     "metadata": {},
     "output_type": "execute_result"
    }
   ],
   "source": [
    "np.shape(ev)"
   ]
  },
  {
   "cell_type": "code",
   "execution_count": null,
   "metadata": {
    "collapsed": true
   },
   "outputs": [],
   "source": []
  }
 ],
 "metadata": {
  "kernelspec": {
   "display_name": "Python 2",
   "language": "python",
   "name": "python2"
  },
  "language_info": {
   "codemirror_mode": {
    "name": "ipython",
    "version": 2
   },
   "file_extension": ".py",
   "mimetype": "text/x-python",
   "name": "python",
   "nbconvert_exporter": "python",
   "pygments_lexer": "ipython2",
   "version": "2.7.10"
  }
 },
 "nbformat": 4,
 "nbformat_minor": 0
}
