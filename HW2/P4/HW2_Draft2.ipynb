{
 "cells": [
  {
   "cell_type": "code",
   "execution_count": 3,
   "metadata": {
    "collapsed": true
   },
   "outputs": [],
   "source": [
    "import sys\n",
    "import os.path\n",
    "sys.path.append(os.path.join('..', 'util'))\n"
   ]
  },
  {
   "cell_type": "code",
   "execution_count": 4,
   "metadata": {
    "collapsed": false
   },
   "outputs": [
    {
     "name": "stdout",
     "output_type": "stream",
     "text": [
      "Compiling with /usr/local/bin/clang-omp\n"
     ]
    }
   ],
   "source": [
    "import set_compiler\n",
    "set_compiler.install()"
   ]
  },
  {
   "cell_type": "code",
   "execution_count": 5,
   "metadata": {
    "collapsed": false
   },
   "outputs": [
    {
     "data": {
      "text/plain": [
       "(None, <pyximport.pyximport.PyxImporter at 0x1048a2b50>)"
      ]
     },
     "execution_count": 5,
     "metadata": {},
     "output_type": "execute_result"
    }
   ],
   "source": [
    "import pyximport\n",
    "pyximport.install()"
   ]
  },
  {
   "cell_type": "code",
   "execution_count": 6,
   "metadata": {
    "collapsed": false
   },
   "outputs": [],
   "source": [
    "import numpy as np\n",
    "import pylab"
   ]
  },
  {
   "cell_type": "code",
   "execution_count": 7,
   "metadata": {
    "collapsed": true
   },
   "outputs": [],
   "source": [
    "import filtering\n",
    "from timer import Timer\n",
    "import threading"
   ]
  },
  {
   "cell_type": "code",
   "execution_count": 8,
   "metadata": {
    "collapsed": true
   },
   "outputs": [],
   "source": [
    "def numpy_median(image, iterations=10):\n",
    "    ''' filter using numpy '''\n",
    "    for i in range(iterations):\n",
    "        padded = np.pad(image, 1, mode='edge')\n",
    "        stacked = np.dstack((padded[:-2,  :-2], padded[:-2,  1:-1], padded[:-2,  2:],\n",
    "                             padded[1:-1, :-2], padded[1:-1, 1:-1], padded[1:-1, 2:],\n",
    "                             padded[2:,   :-2], padded[2:,   1:-1], padded[2:,   2:]))\n",
    "        image = np.median(stacked, axis=2)\n",
    "\n",
    "    return image"
   ]
  },
  {
   "cell_type": "code",
   "execution_count": 118,
   "metadata": {
    "collapsed": true
   },
   "outputs": [],
   "source": [
    "def py_median_3x3(image, iterations=10, num_threads=1):\n",
    "    ''' repeatedly filter with a 3x3 median '''\n",
    "    tmpA = image.copy()\n",
    "    tmpB = np.empty_like(tmpA)\n",
    "    \n",
    "    for i in range(iterations):\n",
    "        filtering.median_3x3(tmpA, tmpB, 0, 1)\n",
    "        tmpA, tmpB = tmpB, tmpA\n",
    "\n",
    "\n",
    "\n",
    "#     N = num_threads\n",
    "#     tmpA2 = image.copy()\n",
    "#     tmpB2 = np.empty_like(tmpA)\n",
    "#     for i in range(iterations):  \n",
    "#         for n in range(num_threads):\n",
    "#             th = threading.Thread(target=filtering.median_3x3, args=(tmpA2\n",
    "#                                                                      ,tmpB2, n, N))# 0, 1\n",
    "#             #skipping along columns using index and step\n",
    "#             #tmpA2, tmpB2 = tmpB2, tmpA2\n",
    "#             #th.daemon = True\n",
    "#             th.start()\n",
    "#         th.join()\n",
    "#         tmpA2, tmpB2 = tmpB2, tmpA2\n",
    "        \n",
    "        \n",
    "        \n",
    "    return tmpA"
   ]
  },
  {
   "cell_type": "code",
   "execution_count": 122,
   "metadata": {
    "collapsed": false
   },
   "outputs": [],
   "source": [
    "def py_median_3x3_threading(image, iterations=10, num_threads=1):\n",
    "    ''' repeatedly filter with a 3x3 median '''\n",
    "    tmpA = image.copy()\n",
    "    tmpB = np.empty_like(tmpA)\n",
    "    \n",
    "    N = num_threads\n",
    "    tmpA2 = image.copy()\n",
    "    tmpB2 = np.empty_like(tmpA)\n",
    "    for i in range(iterations):  \n",
    "        for n in range(num_threads):\n",
    "            th = threading.Thread(target=filtering.median_3x3, args=(tmpA2\n",
    "                                                                     ,tmpB2, n, N))# 0, 1\n",
    "            #skipping along columns using index and step\n",
    "            #tmpA2, tmpB2 = tmpB2, tmpA2\n",
    "            #th.daemon = True\n",
    "            th.start()\n",
    "        #th.join()\n",
    "        tmpA2, tmpB2 = tmpB2, tmpA2\n",
    "        \n",
    "        \n",
    "        \n",
    "    return tmpA2"
   ]
  },
  {
   "cell_type": "code",
   "execution_count": 123,
   "metadata": {
    "collapsed": false
   },
   "outputs": [
    {
     "name": "stdout",
     "output_type": "stream",
     "text": [
      "1.1991379261 seconds for 10 filter passes.\n"
     ]
    },
    {
     "ename": "KeyboardInterrupt",
     "evalue": "",
     "output_type": "error",
     "traceback": [
      "\u001b[0;31m---------------------------------------------------------------------------\u001b[0m",
      "\u001b[0;31mKeyboardInterrupt\u001b[0m                         Traceback (most recent call last)",
      "\u001b[0;32m/Users/patrickkuiper/anaconda/lib/python2.7/site-packages/matplotlib/backend_bases.pyc\u001b[0m in \u001b[0;36menter_notify_event\u001b[0;34m(self, guiEvent, xy)\u001b[0m\n\u001b[1;32m   1931\u001b[0m         \u001b[0mself\u001b[0m\u001b[0;34m.\u001b[0m\u001b[0m_lastx\u001b[0m\u001b[0;34m,\u001b[0m \u001b[0mself\u001b[0m\u001b[0;34m.\u001b[0m\u001b[0m_lasty\u001b[0m \u001b[0;34m=\u001b[0m \u001b[0mNone\u001b[0m\u001b[0;34m,\u001b[0m \u001b[0mNone\u001b[0m\u001b[0;34m\u001b[0m\u001b[0m\n\u001b[1;32m   1932\u001b[0m \u001b[0;34m\u001b[0m\u001b[0m\n\u001b[0;32m-> 1933\u001b[0;31m     \u001b[0;32mdef\u001b[0m \u001b[0menter_notify_event\u001b[0m\u001b[0;34m(\u001b[0m\u001b[0mself\u001b[0m\u001b[0;34m,\u001b[0m \u001b[0mguiEvent\u001b[0m\u001b[0;34m=\u001b[0m\u001b[0mNone\u001b[0m\u001b[0;34m,\u001b[0m \u001b[0mxy\u001b[0m\u001b[0;34m=\u001b[0m\u001b[0mNone\u001b[0m\u001b[0;34m)\u001b[0m\u001b[0;34m:\u001b[0m\u001b[0;34m\u001b[0m\u001b[0m\n\u001b[0m\u001b[1;32m   1934\u001b[0m         \"\"\"\n\u001b[1;32m   1935\u001b[0m         \u001b[0mBackend\u001b[0m \u001b[0mderived\u001b[0m \u001b[0mclasses\u001b[0m \u001b[0mshould\u001b[0m \u001b[0mcall\u001b[0m \u001b[0mthis\u001b[0m \u001b[0mfunction\u001b[0m \u001b[0mwhen\u001b[0m \u001b[0mentering\u001b[0m\u001b[0;34m\u001b[0m\u001b[0m\n",
      "\u001b[0;31mKeyboardInterrupt\u001b[0m: "
     ]
    }
   ],
   "source": [
    "if __name__ == '__main__':\n",
    "    input_image = np.load('image.npz')['image'].astype(np.float32)\n",
    "\n",
    "    pylab.gray()\n",
    "\n",
    "    pylab.imshow(input_image)\n",
    "    pylab.title('original image')\n",
    "\n",
    "    pylab.figure()\n",
    "    pylab.imshow(input_image[1200:1800, 3000:3500])\n",
    "    pylab.title('before - zoom')\n",
    "\n",
    "    # verify correctness\n",
    "    from_cython = py_median_3x3(input_image, 1, 2) #original 2 iter\n",
    "    from_numpy = numpy_median(input_image, 1)#original 2 iter\n",
    "    assert np.all(from_cython == from_numpy)\n",
    "    \n",
    "    with Timer() as t:\n",
    "        \n",
    "        new_image = py_median_3x3_threading(input_image, 10, 8)\n",
    "\n",
    "    pylab.figure()\n",
    "    pylab.imshow(new_image[1200:1800, 3000:3500])\n",
    "    pylab.title('after - zoom')\n",
    "\n",
    "    print(\"{} seconds for 10 filter passes.\".format(t.interval))\n",
    "    pylab.show()\n"
   ]
  },
  {
   "cell_type": "code",
   "execution_count": 6,
   "metadata": {
    "collapsed": false
   },
   "outputs": [
    {
     "name": "stdout",
     "output_type": "stream",
     "text": [
      "Total 100 in 0.27994799614 seconds\n"
     ]
    }
   ],
   "source": [
    "import threading\n",
    "import time\n",
    "import Queue\n",
    "\n",
    "def worker(queue, table, locks):\n",
    "    while True:\n",
    "        idx, value = queue.get()\n",
    "\n",
    "        with locks[idx]:\n",
    "            old_value = table[idx]\n",
    "            time.sleep(0.01 + idx / 10000.0)  # simulate work\n",
    "            table[idx] = old_value + value\n",
    "\n",
    "        # update the amount of work left in the queue\n",
    "        queue.task_done()\n",
    "\n",
    "if __name__ == '__main__':\n",
    "    queue = Queue.Queue()\n",
    "    table = [0] * 5\n",
    "    locks = [threading.Lock() for _ in table]\n",
    "\n",
    "    for threadidx in range(4):\n",
    "        th = threading.Thread(target=worker,\n",
    "                              args=(queue, table, locks))\n",
    "        th.daemon = True  # exit even when this thread is alive\n",
    "        th.start()\n",
    "\n",
    "    start = time.time()\n",
    "    for idx in range(100):\n",
    "        queue.put((idx % len(table), 1))\n",
    "    queue.join()  # wait for all messages to be processed\n",
    "    end = time.time()\n",
    "\n",
    "    print(\"Total {} in {} seconds\".format(sum(table), end - start))\n"
   ]
  }
 ],
 "metadata": {
  "kernelspec": {
   "display_name": "Python 2",
   "language": "python",
   "name": "python2"
  },
  "language_info": {
   "codemirror_mode": {
    "name": "ipython",
    "version": 2
   },
   "file_extension": ".py",
   "mimetype": "text/x-python",
   "name": "python",
   "nbconvert_exporter": "python",
   "pygments_lexer": "ipython2",
   "version": "2.7.10"
  }
 },
 "nbformat": 4,
 "nbformat_minor": 0
}
