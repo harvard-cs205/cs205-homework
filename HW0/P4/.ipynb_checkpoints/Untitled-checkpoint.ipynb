{
 "cells": [
  {
   "cell_type": "code",
   "execution_count": 19,
   "metadata": {
    "collapsed": true
   },
   "outputs": [],
   "source": [
    "import numpy as np\n",
    "import matplotlib.pyplot as plt\n",
    "import pandas as pd\n",
    "from mpl_toolkits.mplot3d import Axes3D"
   ]
  },
  {
   "cell_type": "code",
   "execution_count": 20,
   "metadata": {
    "collapsed": true
   },
   "outputs": [],
   "source": [
    "    # Model parameters\n",
    "    K = 121    # Number of times steps\n",
    "    dt = 0.01  # Delta t\n",
    "    c = 0.1    # Coefficient of drag\n",
    "    g = -9.81  # Gravity\n",
    "    # For constructing matrix B\n",
    "    bx = 0\n",
    "    by = 0\n",
    "    bz = 0\n",
    "    bvx = 0.25\n",
    "    bvy = 0.25\n",
    "    bvz = 0.1\n",
    "    # For constructing matrix C\n",
    "    rx = 1.0\n",
    "    ry = 5.0\n",
    "    rz = 5.0"
   ]
  },
  {
   "cell_type": "code",
   "execution_count": 21,
   "metadata": {
    "collapsed": true
   },
   "outputs": [],
   "source": [
    "    # Create 3D axes for plotting\n",
    "    ax = Axes3D(plt.figure())\n",
    "\n",
    "    #####################\n",
    "    # Part 1:\n",
    "    #\n",
    "    # Load true trajectory and plot it\n",
    "    # Normally, this data wouldn't be available in the real world\n",
    "    #####################\n",
    "\n",
    "\n",
    "    # Read the data"
   ]
  },
  {
   "cell_type": "code",
   "execution_count": 22,
   "metadata": {
    "collapsed": false
   },
   "outputs": [],
   "source": [
    "s_true = pd.read_csv('P4_trajectory.txt')"
   ]
  },
  {
   "cell_type": "code",
   "execution_count": null,
   "metadata": {
    "collapsed": true
   },
   "outputs": [],
   "source": []
  }
 ],
 "metadata": {
  "kernelspec": {
   "display_name": "Python 2",
   "language": "python",
   "name": "python2"
  },
  "language_info": {
   "codemirror_mode": {
    "name": "ipython",
    "version": 2
   },
   "file_extension": ".py",
   "mimetype": "text/x-python",
   "name": "python",
   "nbconvert_exporter": "python",
   "pygments_lexer": "ipython2",
   "version": "2.7.10"
  }
 },
 "nbformat": 4,
 "nbformat_minor": 0
}
