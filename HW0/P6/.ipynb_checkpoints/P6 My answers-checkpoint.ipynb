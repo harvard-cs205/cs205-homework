{
 "cells": [
  {
   "cell_type": "code",
   "execution_count": 6,
   "metadata": {
    "collapsed": false
   },
   "outputs": [
    {
     "name": "stdout",
     "output_type": "stream",
     "text": [
      "[0, 1, 2, 3, 4, 5, 6, 7, 8, 9]\n",
      "Hi Job 0\n",
      "Hi Job 2\n",
      "Hi Job 1\n",
      "Hi Job 3\n",
      "Bye Job 0Bye Job 2Bye Job 1Bye Job 3\n",
      "\n",
      "\n",
      "\n",
      "Hi Job 4\n",
      "Hi Job 7\n",
      "Hi Job 6\n",
      "Hi Job 5\n",
      "Bye Job 4Bye Job 7Bye Job 6Bye Job 5\n",
      "\n",
      "\n",
      "\n",
      "Hi Job 8\n",
      "Hi Job 9\n",
      "Bye Job 8Bye Job 9\n",
      "\n"
     ]
    }
   ],
   "source": [
    "import multiprocessing as mp\n",
    "import time\n",
    "\n",
    "def burnTime(k):\n",
    "    print(\"Hi Job {}\".format(k))\n",
    "    time.sleep(0.25)\n",
    "    print(\"Bye Job {}\".format(k))\n",
    "    return k\n",
    "\n",
    "if __name__ == '__main__':\n",
    "    pool = mp.Pool(4)  # Create a pool of 4 processes\n",
    "\n",
    "    # Apply burnTime to this list of \"job numbers\" using the pool\n",
    "    result = pool.map(burnTime, range(10))\n",
    "    print(result)"
   ]
  },
  {
   "cell_type": "code",
   "execution_count": 5,
   "metadata": {
    "collapsed": false
   },
   "outputs": [
    {
     "data": {
      "image/png": "[encoded data removed]",
      "text/plain": [
       "<matplotlib.figure.Figure at 0x1099c1fd0>"
      ]
     },
     "metadata": {},
     "output_type": "display_data"
    },
    {
     "name": "stdout",
     "output_type": "stream",
     "text": [
      "[4.009605675347033, 4.064852099936709, 4.168183221386284, 4.372133571696573, 3.725274023624561, 3.4562969259101854, 3.134569536423841, 0.6527689369828135, 0.2138692850567659, 0.17228714524207012]\n"
     ]
    }
   ],
   "source": [
    "%matplotlib inline\n",
    "\n",
    "import multiprocessing as mp\n",
    "import time\n",
    "import matplotlib.pyplot as plt\n",
    "import numpy as np\n",
    "\n",
    "# Sleep for t seconds\n",
    "def burnTime(t):\n",
    "    time.sleep(t)\n",
    "\n",
    "# Main\n",
    "if __name__ == '__main__':\n",
    "    N = 16  # The number of jobs\n",
    "    P = 4   # The number of processes\n",
    "\n",
    "    # A thread pool of P processes\n",
    "    pool = mp.Pool(P)\n",
    "\n",
    "    # Use a variety of wait times\n",
    "    ratio =[]\n",
    "    wait_time = np.logspace(10E-7,1,num=10,base=10E-7)\n",
    "\n",
    "    # Serial Process\n",
    "    for t in wait_time:\n",
    "        \n",
    "        starttime=time.time()\n",
    "        for n in range(N):\n",
    "            burnTime(t)\n",
    "        endtime=time.time()\n",
    "        serialTime = endtime-starttime\n",
    "            \n",
    "        starttimep=time.time()\n",
    "        result = pool.map(burnTime, [t for n in range(N)])\n",
    "        endtimep=time.time()\n",
    "        parallelTime=endtimep-starttimep\n",
    "        \n",
    "        # Compute the ratio of these times\n",
    "        ratio.append(serialTime/parallelTime)\n",
    "        \n",
    "    # Plot the results\n",
    "plt.plot(wait_time, ratio, '-ob')\n",
    "plt.xscale('log')\n",
    "plt.xlabel('Wait Time (sec)')\n",
    "plt.ylabel('Serial Time (sec) / Parallel Time (sec)')\n",
    "plt.title('Speedup versus function time')\n",
    "plt.show()\n",
    "\n",
    "    "
   ]
  },
  {
   "cell_type": "raw",
   "metadata": {},
   "source": [
    "# Your answers here\n",
    "1. The order in which the actions are completed each time the code is run is never respected; hence the sequence is not consistent when using parallel programming.\n",
    "You can never count on the order on which the actions are completed, and in the case where an action provides an input for a function for instance, then if the sequence is ..., the code will break.\n",
    "\n",
    "\n",
    "# When the time of execution is short, setting up the parallel programming might belonger than actually completing the code using a serial method"
   ]
  },
  {
   "cell_type": "code",
   "execution_count": null,
   "metadata": {
    "collapsed": true
   },
   "outputs": [],
   "source": []
  }
 ],
 "metadata": {
  "kernelspec": {
   "display_name": "Python 2",
   "language": "python",
   "name": "python2"
  },
  "language_info": {
   "codemirror_mode": {
    "name": "ipython",
    "version": 2
   },
   "file_extension": ".py",
   "mimetype": "text/x-python",
   "name": "python",
   "nbconvert_exporter": "python",
   "pygments_lexer": "ipython2",
   "version": "2.7.10"
  }
 },
 "nbformat": 4,
 "nbformat_minor": 0
}
