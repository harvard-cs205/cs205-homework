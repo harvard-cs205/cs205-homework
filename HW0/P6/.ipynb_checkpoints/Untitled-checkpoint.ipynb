{
 "cells": [
  {
   "cell_type": "code",
   "execution_count": null,
   "metadata": {
    "collapsed": false
   },
   "outputs": [],
   "source": [
    "%matplotlib inline\n",
    "import multiprocessing as mp\n",
    "import time\n",
    "import matplotlib.pyplot as plt\n",
    "import numpy as np\n",
    "\n",
    "# Sleep for t seconds\n",
    "def burnTime(t):\n",
    "    time.sleep(t)\n",
    "\n",
    "# Main\n",
    "if __name__ == '__main__':\n",
    "    N = 16  # The number of jobs\n",
    "    P = 4   # The number of processes\n",
    "\n",
    "    # A thread pool of P processes\n",
    "    pool = mp.Pool(P)\n",
    "\n",
    "    # Use a variety of wait times\n",
    "    ratio = []\n",
    "    wait_time = np.array([1e-6,1e-3])\n",
    "\n",
    "    for t in wait_time:\n",
    "        # Compute jobs serially and in parallel\n",
    "        # Use time.time() to compute the elapsed time for each\n",
    "        \n",
    "        # Compute jobs in parralel\n",
    "        time_start = time.time()\n",
    "\n",
    "        pool.map(burnTime,t*np.ones((N,1)))\n",
    "\n",
    "        time_end = time.time()\n",
    "\n",
    "        parallelTime = time_end - time_start\n",
    "        \n",
    "        # Compute jobs in series\n",
    "        \n",
    "        time_start = time.time()\n",
    "\n",
    "        for n in range(0,N):\n",
    "            print n\n",
    "            #burnTime(t)\n",
    "\n",
    "        time_end = time.time()\n",
    "        \n",
    "        serialTime = time_end - time_start\n",
    "        \n",
    "        # Compute the ratio of these times\n",
    "        ratio.append(serialTime/parallelTime)\n",
    "\n",
    "    # Plot the results\n",
    "    plt.close()\n",
    "    plt.figure()\n",
    "    plt.plot(wait_time, ratio, '-ob')\n",
    "    plt.xscale('log')\n",
    "    plt.xlabel('Wait Time (sec)')\n",
    "    plt.ylabel('Serial Time (sec) / Parallel Time (sec)')\n",
    "    plt.title('Speedup versus function time')\n",
    "    plt.show()\n"
   ]
  },
  {
   "cell_type": "code",
   "execution_count": null,
   "metadata": {
    "collapsed": true
   },
   "outputs": [],
   "source": []
  }
 ],
 "metadata": {
  "kernelspec": {
   "display_name": "Python 2",
   "language": "python",
   "name": "python2"
  },
  "language_info": {
   "codemirror_mode": {
    "name": "ipython",
    "version": 2
   },
   "file_extension": ".py",
   "mimetype": "text/x-python",
   "name": "python",
   "nbconvert_exporter": "python",
   "pygments_lexer": "ipython2",
   "version": "2.7.10"
  }
 },
 "nbformat": 4,
 "nbformat_minor": 0
}
