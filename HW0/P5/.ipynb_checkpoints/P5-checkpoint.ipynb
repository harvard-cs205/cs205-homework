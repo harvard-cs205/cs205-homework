{
 "cells": [
  {
   "cell_type": "raw",
   "metadata": {
    "raw_mimetype": "text/latex"
   },
   "source": [
    "\n",
    "# Your answers here.\n",
    "\n",
    "1. It would take 255 seconds for the cashier to count the total sum\n",
    "\n",
    "2. By working together, they would be able to verify the sum quicker than if the original cashier was by herself. Indeed, the number of bags would be divided between the employees and would hence reduce each of their counting time. On the other hand, the sums would have to be combined again betweeen the 8 employees:\n",
    "256/8=32 bags per person. Hence, it would take each person 31 seconds to count the sum of the bag of pennies they were given, and then again 1 second for each 2 employees out of the 8 (4 couples) to combine their numbers, and again one second for each 2 couples to combine the sums and again 1 second for the last two sums to become one number, leading to a total of 31+3=34 seconds to count the total sum.\n",
    "It must be noted that the recombination time is equal to the number of employees (8 in this case), divided by 2 (as two sums are combined) and substracting 1.\n",
    "\n",
    "3. When the number of employees increases to reach infinity, the most efficient way would be to have 256 employees recombining the sums together (number of employees equal to the number of bags):\n",
    "From 256 to 128 to 64 and so on, which would take 8 seconds.  (2ˆ8=256)  \n",
    "\n",
    "NB: It is important to note for the rest of the exercice that when having 8 employees: 2ˆ3=8,  leading to a recombination time of 8 seconds and 2ˆ8=256 employees leading to a recombination time of 8 seconds.\n",
    "\n",
    "4. Similarly, if you have N bags, it will take the infinite number of employees (which should be N) to recombine the sums from N/2 to N/4 to N/8 and so on, which each recombiantion of sum equal to 1 second.\n",
    "Hence, the time needed is x with x being equal to 2ˆx = N if N is exactly a power of 2 , or the closest rounded up number that can be a power of 2.\n",
    "This gives x*ln(2)=ln(N) hence x=ln(N)/ln(2) if N=2ˆx or x=round up(ln(N)/ln(2)) otherwise.\n",
    "\n"
   ]
  },
  {
   "cell_type": "code",
   "execution_count": 58,
   "metadata": {
    "collapsed": false
   },
   "outputs": [
    {
     "name": "stdout",
     "output_type": "stream",
     "text": [
      "10.0\n"
     ]
    },
    {
     "data": {
      "text/plain": [
       "[<matplotlib.lines.Line2D at 0x106bf6550>]"
      ]
     },
     "execution_count": 58,
     "metadata": {},
     "output_type": "execute_result"
    },
    {
     "data": {
      "image/png": "[encoded data removed]",
      "text/plain": [
       "<matplotlib.figure.Figure at 0x106bfee90>"
      ]
     },
     "metadata": {},
     "output_type": "display_data"
    }
   ],
   "source": [
    "%matplotlib inline\n",
    "import numpy as np\n",
    "import matplotlib.pyplot as plt\n",
    "from mpl_toolkits.mplot3d import Axes3D\n",
    "\n",
    "bagcount=range(500)\n",
    "sub_1 = [b-1 for b in bagcount]\n",
    "\n",
    "# If one employee does the math to sum up N bags of pennies, the function is a follow\n",
    "\n",
    "\n",
    "plt.plot(bagcount,sub_1)\n",
    "plt.xlim(0,500)\n",
    "plt.ylim(0,500)\n",
    "plt.xlabel('Bag Count')\n",
    "plt.ylabel('Counting time (in sec)')\n",
    "\n",
    "def is_power2(num):\n",
    "\n",
    "\t'states if a number is a power of two'\n",
    "\n",
    "\treturn num != 0 and ((num & (num - 1)) == 0)\n",
    "\n",
    "\n",
    "def ncash(x):\n",
    "    if x == 0:\n",
    "        return 0\n",
    "    elif is_power2(x)==1:\n",
    "       return np.log(x)/np.log(2)   \n",
    "    else:\n",
    "       y= np.log(x)/np.log(2)\n",
    "       return (np.ceil(y))\n",
    "\n",
    "ncashed_bagcount = [ncash(b) for b in bagcount]\n",
    "plt.plot(bagcount,ncashed_bagcount)\n",
    "\n"
   ]
  },
  {
   "cell_type": "raw",
   "metadata": {
    "raw_mimetype": "text/latex"
   },
   "source": [
    "5. By assuming one second for communication between two people, the time needed as calculated in question 2 increases. Indeed, instead of adding 1 second to recombine the sums, 2 seconds need to be added, leading to a total of 31+2*3= 37 seconds.\n",
    "\n",
    "Having 256 employees, and adding 1 second of communication, the total time becomes 8*2=16 seconds\n",
    "\n",
    "When adding communication, the 256 employees might not be the most efficient way: In that case, having 128 employees seems more efficient.\n",
    "One second for each employee to sum up both of its bags, and 7*2 to communicate and recombine the sums, leading to a total time of 15 seconds.\n",
    "\n",
    "\n"
   ]
  },
  {
   "cell_type": "code",
   "execution_count": null,
   "metadata": {
    "collapsed": true
   },
   "outputs": [],
   "source": []
  }
 ],
 "metadata": {
  "celltoolbar": "Raw Cell Format",
  "kernelspec": {
   "display_name": "Python 2",
   "language": "python",
   "name": "python2"
  },
  "language_info": {
   "codemirror_mode": {
    "name": "ipython",
    "version": 2
   },
   "file_extension": ".py",
   "mimetype": "text/x-python",
   "name": "python",
   "nbconvert_exporter": "python",
   "pygments_lexer": "ipython2",
   "version": "2.7.10"
  }
 },
 "nbformat": 4,
 "nbformat_minor": 0
}
